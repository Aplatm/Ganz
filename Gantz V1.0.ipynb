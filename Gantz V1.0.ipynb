{
 "cells": [
  {
   "cell_type": "code",
   "execution_count": 127,
   "metadata": {
    "pycharm": {
     "name": "#%%\n"
    }
   },
   "outputs": [],
   "source": [
    "#  Problem to solve\n",
    "#  -----------------\n",
    "#  The goal of this project is to define a location for a wine bar in the city of Madrid.\n",
    "# First Step: We will use the data from the city of Madrid to find the best location for the bar, for this , we have to scrape  the neighborhoods of the city of Madrid."
   ]
  },
  {
   "cell_type": "code",
   "execution_count": 2,
   "metadata": {
    "pycharm": {
     "name": "#%%\n"
    }
   },
   "outputs": [],
   "source": [
    "#!pip install geopy\n",
    "from geopy.geocoders import Nominatim\n",
    "#!pip install folium"
   ]
  },
  {
   "cell_type": "code",
   "execution_count": 3,
   "metadata": {
    "pycharm": {
     "name": "#%%\n"
    }
   },
   "outputs": [],
   "source": [
    "#  Import libraries\n",
    "#  ----------------\n",
    "import requests\n",
    "from bs4 import BeautifulSoup\n",
    "import pandas as pd\n",
    "import numpy as np\n",
    "import matplotlib.pyplot as plt\n",
    "import seaborn as sns\n",
    "\n",
    "\n",
    "# for converting an address into latitude and longitude values\n",
    "from geopy.geocoders import Nominatim\n",
    "\n",
    "import folium\n",
    "import folium.plugins as plugins"
   ]
  },
  {
   "cell_type": "code",
   "execution_count": 4,
   "metadata": {
    "pycharm": {
     "name": "#%%\n"
    }
   },
   "outputs": [],
   "source": [
    "\n",
    "\n",
    "# for finding geographical coordinates\n",
    "#!pip install geopy\n",
    "import geocoder\n",
    "\n",
    "# for converting an address into latitude and longitude values\n",
    "from geopy.geocoders import Nominatim\n",
    "\n",
    "# for rending maps\n",
    "import folium\n",
    "\n",
    "# for removing Spanish accents from map labels in Folium (encoding incompatibility)\n",
    "import unicodedata\n",
    "\n",
    "# for clustering neighbourhoods\n",
    "from sklearn.cluster import KMeans\n",
    "\n",
    "# for drawing the elbow method and scatterplot\n",
    "import matplotlib.pyplot as plt\n",
    "\n",
    "# for displaying map of clusters\n",
    "import matplotlib.cm as cm\n",
    "import matplotlib.colors as colors\n",
    "\n",
    "# for displaying the scatterplot of household income vs people per market\n",
    "import seaborn as sns\n",
    "\n",
    "# for arranging labels around the scatterplot to avoid overlapping neighbourhood names\n",
    "from adjustText import adjust_text"
   ]
  },
  {
   "cell_type": "code",
   "execution_count": 5,
   "metadata": {
    "pycharm": {
     "name": "#%%\n"
    }
   },
   "outputs": [],
   "source": [
    "# Scrapping wikipedia in order to get the neighborhoods of the city of Madrid\n",
    "# ---------------------------------------------------------------------------\n",
    "url = \"https://en.wikipedia.org/wiki/List_of_neighborhoods_of_Madrid\"\n",
    "r = requests.get(url)"
   ]
  },
  {
   "cell_type": "code",
   "execution_count": 6,
   "metadata": {
    "pycharm": {
     "name": "#%%\n"
    }
   },
   "outputs": [
    {
     "data": {
      "text/plain": "<Response [200]>"
     },
     "execution_count": 6,
     "metadata": {},
     "output_type": "execute_result"
    }
   ],
   "source": [
    "r # right now we have the html code of the page, 200 = ok"
   ]
  },
  {
   "cell_type": "code",
   "execution_count": 7,
   "metadata": {
    "pycharm": {
     "name": "#%%\n"
    }
   },
   "outputs": [],
   "source": [
    "soup = BeautifulSoup(r.content, 'html.parser')"
   ]
  },
  {
   "cell_type": "code",
   "execution_count": 8,
   "metadata": {
    "pycharm": {
     "name": "#%%\n"
    }
   },
   "outputs": [
    {
     "data": {
      "text/plain": "'List of neighborhoods of Madrid - Wikipedia'"
     },
     "execution_count": 8,
     "metadata": {},
     "output_type": "execute_result"
    }
   ],
   "source": [
    "soup.title.text # we have the title of the page"
   ]
  },
  {
   "cell_type": "code",
   "execution_count": 9,
   "metadata": {
    "pycharm": {
     "name": "#%%\n"
    }
   },
   "outputs": [],
   "source": [
    "# The following code will get the table with the neighborhoods of the city of Madrid\n",
    "table = soup.find('table', {'class': 'wikitable sortable'})"
   ]
  },
  {
   "cell_type": "code",
   "execution_count": 10,
   "metadata": {
    "pycharm": {
     "name": "#%%\n"
    }
   },
   "outputs": [
    {
     "data": {
      "text/plain": "<table class=\"wikitable sortable\">\n<tbody><tr>\n<th>District name (number)\n</th>\n<th>District location\n</th>\n<th>Number\n</th>\n<th>Name\n</th>\n<th>Image\n</th></tr>\n<tr>\n<td rowspan=\"6\"><a href=\"/wiki/Centro_(Madrid)\" title=\"Centro (Madrid)\">Centro</a> (1)\n</td>\n<td rowspan=\"6\"><br/><a class=\"image\" href=\"/wiki/File:Centro_District_loc-map.svg\"><img alt=\"Centro District loc-map.svg\" data-file-height=\"527\" data-file-width=\"527\" decoding=\"async\" height=\"200\" src=\"//upload.wikimedia.org/wikipedia/commons/thumb/0/09/Centro_District_loc-map.svg/200px-Centro_District_loc-map.svg.png\" srcset=\"//upload.wikimedia.org/wikipedia/commons/thumb/0/09/Centro_District_loc-map.svg/300px-Centro_District_loc-map.svg.png 1.5x, //upload.wikimedia.org/wikipedia/commons/thumb/0/09/Centro_District_loc-map.svg/400px-Centro_District_loc-map.svg.png 2x\" width=\"200\"/></a>\n</td>\n<td align=\"center\">11\n</td>\n<td align=\"center\"><a href=\"/wiki/Palacio_(Madrid)\" title=\"Palacio (Madrid)\">Palacio</a>\n</td>\n<td align=\"center\"><a class=\"image\" href=\"/wiki/File:Barrio_de_Palacio_(11),_Madrid.svg\"><img alt=\"Barrio de Palacio (11), Madrid.svg\" data-file-height=\"878\" data-file-width=\"841\" decoding=\"async\" height=\"73\" src=\"//upload.wikimedia.org/wikipedia/commons/thumb/2/2d/Barrio_de_Palacio_%2811%29%2C_Madrid.svg/70px-Barrio_de_Palacio_%2811%29%2C_Madrid.svg.png\" srcset=\"//upload.wikimedia.org/wikipedia/commons/thumb/2/2d/Barrio_de_Palacio_%2811%29%2C_Madrid.svg/105px-Barrio_de_Palacio_%2811%29%2C_Madrid.svg.png 1.5x, //upload.wikimedia.org/wikipedia/commons/thumb/2/2d/Barrio_de_Palacio_%2811%29%2C_Madrid.svg/140px-Barrio_de_Palacio_%2811%29%2C_Madrid.svg.png 2x\" width=\"70\"/></a>\n</td></tr>\n<tr>\n<td align=\"center\">12\n</td>\n<td align=\"center\"><a class=\"mw-redirect\" href=\"/wiki/Embajadores_(Madrid)\" title=\"Embajadores (Madrid)\">Embajadores</a>\n</td>\n<td align=\"center\"><a class=\"image\" href=\"/wiki/File:Barrio_de_Embajadores_(12),_Madrid.svg\"><img alt=\"Barrio de Embajadores (12), Madrid.svg\" data-file-height=\"878\" data-file-width=\"841\" decoding=\"async\" height=\"73\" src=\"//upload.wikimedia.org/wikipedia/commons/thumb/c/c7/Barrio_de_Embajadores_%2812%29%2C_Madrid.svg/70px-Barrio_de_Embajadores_%2812%29%2C_Madrid.svg.png\" srcset=\"//upload.wikimedia.org/wikipedia/commons/thumb/c/c7/Barrio_de_Embajadores_%2812%29%2C_Madrid.svg/105px-Barrio_de_Embajadores_%2812%29%2C_Madrid.svg.png 1.5x, //upload.wikimedia.org/wikipedia/commons/thumb/c/c7/Barrio_de_Embajadores_%2812%29%2C_Madrid.svg/140px-Barrio_de_Embajadores_%2812%29%2C_Madrid.svg.png 2x\" width=\"70\"/></a>\n</td></tr>\n<tr>\n<td align=\"center\">13\n</td>\n<td align=\"center\"><a href=\"/wiki/Cortes_(Madrid)\" title=\"Cortes (Madrid)\">Cortes</a>\n</td>\n<td align=\"center\"><a class=\"image\" href=\"/wiki/File:Barrio_de_Cortes_(13),_Madrid.svg\"><img alt=\"Barrio de Cortes (13), Madrid.svg\" data-file-height=\"878\" data-file-width=\"841\" decoding=\"async\" height=\"73\" src=\"//upload.wikimedia.org/wikipedia/commons/thumb/4/4e/Barrio_de_Cortes_%2813%29%2C_Madrid.svg/70px-Barrio_de_Cortes_%2813%29%2C_Madrid.svg.png\" srcset=\"//upload.wikimedia.org/wikipedia/commons/thumb/4/4e/Barrio_de_Cortes_%2813%29%2C_Madrid.svg/105px-Barrio_de_Cortes_%2813%29%2C_Madrid.svg.png 1.5x, //upload.wikimedia.org/wikipedia/commons/thumb/4/4e/Barrio_de_Cortes_%2813%29%2C_Madrid.svg/140px-Barrio_de_Cortes_%2813%29%2C_Madrid.svg.png 2x\" width=\"70\"/></a>\n</td></tr>\n<tr>\n<td align=\"center\">14\n</td>\n<td align=\"center\"><a href=\"/wiki/Justicia_(Madrid)\" title=\"Justicia (Madrid)\">Justicia</a>\n</td>\n<td align=\"center\"><a class=\"image\" href=\"/wiki/File:Barrio_de_Justicia_(14),_Madrid.svg\"><img alt=\"Barrio de Justicia (14), Madrid.svg\" data-file-height=\"878\" data-file-width=\"841\" decoding=\"async\" height=\"73\" src=\"//upload.wikimedia.org/wikipedia/commons/thumb/7/79/Barrio_de_Justicia_%2814%29%2C_Madrid.svg/70px-Barrio_de_Justicia_%2814%29%2C_Madrid.svg.png\" srcset=\"//upload.wikimedia.org/wikipedia/commons/thumb/7/79/Barrio_de_Justicia_%2814%29%2C_Madrid.svg/105px-Barrio_de_Justicia_%2814%29%2C_Madrid.svg.png 1.5x, //upload.wikimedia.org/wikipedia/commons/thumb/7/79/Barrio_de_Justicia_%2814%29%2C_Madrid.svg/140px-Barrio_de_Justicia_%2814%29%2C_Madrid.svg.png 2x\" width=\"70\"/></a>\n</td></tr>\n<tr>\n<td align=\"center\">15\n</td>\n<td align=\"center\"><a href=\"/wiki/Universidad_(Madrid)\" title=\"Universidad (Madrid)\">Universidad</a>\n</td>\n<td align=\"center\"><a class=\"image\" href=\"/wiki/File:Barrio_de_Universidad_(15),_Madrid.svg\"><img alt=\"Barrio de Universidad (15), Madrid.svg\" data-file-height=\"878\" data-file-width=\"841\" decoding=\"async\" height=\"73\" src=\"//upload.wikimedia.org/wikipedia/commons/thumb/d/d1/Barrio_de_Universidad_%2815%29%2C_Madrid.svg/70px-Barrio_de_Universidad_%2815%29%2C_Madrid.svg.png\" srcset=\"//upload.wikimedia.org/wikipedia/commons/thumb/d/d1/Barrio_de_Universidad_%2815%29%2C_Madrid.svg/105px-Barrio_de_Universidad_%2815%29%2C_Madrid.svg.png 1.5x, //upload.wikimedia.org/wikipedia/commons/thumb/d/d1/Barrio_de_Universidad_%2815%29%2C_Madrid.svg/140px-Barrio_de_Universidad_%2815%29%2C_Madrid.svg.png 2x\" width=\"70\"/></a>\n</td></tr>\n<tr>\n<td align=\"center\">16\n</td>\n<td align=\"center\"><a href=\"/wiki/Sol_(Madrid)\" title=\"Sol (Madrid)\">Sol</a>\n</td>\n<td align=\"center\"><a class=\"image\" href=\"/wiki/File:Barrio_de_Sol_(16),_Madrid.svg\"><img alt=\"Barrio de Sol (16), Madrid.svg\" data-file-height=\"878\" data-file-width=\"841\" decoding=\"async\" height=\"73\" src=\"//upload.wikimedia.org/wikipedia/commons/thumb/c/cc/Barrio_de_Sol_%2816%29%2C_Madrid.svg/70px-Barrio_de_Sol_%2816%29%2C_Madrid.svg.png\" srcset=\"//upload.wikimedia.org/wikipedia/commons/thumb/c/cc/Barrio_de_Sol_%2816%29%2C_Madrid.svg/105px-Barrio_de_Sol_%2816%29%2C_Madrid.svg.png 1.5x, //upload.wikimedia.org/wikipedia/commons/thumb/c/cc/Barrio_de_Sol_%2816%29%2C_Madrid.svg/140px-Barrio_de_Sol_%2816%29%2C_Madrid.svg.png 2x\" width=\"70\"/></a>\n</td></tr>\n<tr>\n<td rowspan=\"7\"><a href=\"/wiki/Arganzuela\" title=\"Arganzuela\">Arganzuela</a> (2)\n</td>\n<td rowspan=\"7\"><a class=\"image\" href=\"/wiki/File:Arganzuela_District_loc-map.svg\"><img alt=\"Arganzuela District loc-map.svg\" data-file-height=\"527\" data-file-width=\"527\" decoding=\"async\" height=\"200\" src=\"//upload.wikimedia.org/wikipedia/commons/thumb/6/66/Arganzuela_District_loc-map.svg/200px-Arganzuela_District_loc-map.svg.png\" srcset=\"//upload.wikimedia.org/wikipedia/commons/thumb/6/66/Arganzuela_District_loc-map.svg/300px-Arganzuela_District_loc-map.svg.png 1.5x, //upload.wikimedia.org/wikipedia/commons/thumb/6/66/Arganzuela_District_loc-map.svg/400px-Arganzuela_District_loc-map.svg.png 2x\" width=\"200\"/></a>\n</td>\n<td align=\"center\">21\n</td>\n<td align=\"center\"><a href=\"/wiki/Imperial_(Madrid)\" title=\"Imperial (Madrid)\">Imperial</a>\n</td>\n<td align=\"center\"><a class=\"image\" href=\"/wiki/File:Barrio_de_Imperial_(21),_Madrid.svg\"><img alt=\"Barrio de Imperial (21), Madrid.svg\" data-file-height=\"1202\" data-file-width=\"1412\" decoding=\"async\" height=\"60\" src=\"//upload.wikimedia.org/wikipedia/commons/thumb/6/61/Barrio_de_Imperial_%2821%29%2C_Madrid.svg/70px-Barrio_de_Imperial_%2821%29%2C_Madrid.svg.png\" srcset=\"//upload.wikimedia.org/wikipedia/commons/thumb/6/61/Barrio_de_Imperial_%2821%29%2C_Madrid.svg/105px-Barrio_de_Imperial_%2821%29%2C_Madrid.svg.png 1.5x, //upload.wikimedia.org/wikipedia/commons/thumb/6/61/Barrio_de_Imperial_%2821%29%2C_Madrid.svg/140px-Barrio_de_Imperial_%2821%29%2C_Madrid.svg.png 2x\" width=\"70\"/></a>\n</td></tr>\n<tr>\n<td align=\"center\">22\n</td>\n<td align=\"center\"><a class=\"mw-redirect\" href=\"/wiki/Acacias_(Madrid)\" title=\"Acacias (Madrid)\">Acacias</a>\n</td>\n<td align=\"center\"><a class=\"image\" href=\"/wiki/File:Barrio_de_Acacias_(22),_Madrid.svg\"><img alt=\"Barrio de Acacias (22), Madrid.svg\" data-file-height=\"1202\" data-file-width=\"1412\" decoding=\"async\" height=\"60\" src=\"//upload.wikimedia.org/wikipedia/commons/thumb/7/72/Barrio_de_Acacias_%2822%29%2C_Madrid.svg/70px-Barrio_de_Acacias_%2822%29%2C_Madrid.svg.png\" srcset=\"//upload.wikimedia.org/wikipedia/commons/thumb/7/72/Barrio_de_Acacias_%2822%29%2C_Madrid.svg/105px-Barrio_de_Acacias_%2822%29%2C_Madrid.svg.png 1.5x, //upload.wikimedia.org/wikipedia/commons/thumb/7/72/Barrio_de_Acacias_%2822%29%2C_Madrid.svg/140px-Barrio_de_Acacias_%2822%29%2C_Madrid.svg.png 2x\" width=\"70\"/></a>\n</td></tr>\n<tr>\n<td align=\"center\">23\n</td>\n<td align=\"center\"><a class=\"mw-redirect\" href=\"/wiki/Chopera_(Madrid)\" title=\"Chopera (Madrid)\">Chopera</a>\n</td>\n<td align=\"center\"><a class=\"image\" href=\"/wiki/File:Barrio_de_Chopera_(23),_Madrid.svg\"><img alt=\"Barrio de Chopera (23), Madrid.svg\" data-file-height=\"1202\" data-file-width=\"1412\" decoding=\"async\" height=\"60\" src=\"//upload.wikimedia.org/wikipedia/commons/thumb/0/02/Barrio_de_Chopera_%2823%29%2C_Madrid.svg/70px-Barrio_de_Chopera_%2823%29%2C_Madrid.svg.png\" srcset=\"//upload.wikimedia.org/wikipedia/commons/thumb/0/02/Barrio_de_Chopera_%2823%29%2C_Madrid.svg/105px-Barrio_de_Chopera_%2823%29%2C_Madrid.svg.png 1.5x, //upload.wikimedia.org/wikipedia/commons/thumb/0/02/Barrio_de_Chopera_%2823%29%2C_Madrid.svg/140px-Barrio_de_Chopera_%2823%29%2C_Madrid.svg.png 2x\" width=\"70\"/></a>\n</td></tr>\n<tr>\n<td align=\"center\">24\n</td>\n<td align=\"center\"><a href=\"/wiki/Legazpi_(Madrid)\" title=\"Legazpi (Madrid)\">Legazpi</a>\n</td>\n<td align=\"center\"><a class=\"image\" href=\"/wiki/File:Barrio_de_Legazpi_(24),_Madrid.svg\"><img alt=\"Barrio de Legazpi (24), Madrid.svg\" data-file-height=\"1202\" data-file-width=\"1412\" decoding=\"async\" height=\"60\" src=\"//upload.wikimedia.org/wikipedia/commons/thumb/4/4d/Barrio_de_Legazpi_%2824%29%2C_Madrid.svg/70px-Barrio_de_Legazpi_%2824%29%2C_Madrid.svg.png\" srcset=\"//upload.wikimedia.org/wikipedia/commons/thumb/4/4d/Barrio_de_Legazpi_%2824%29%2C_Madrid.svg/105px-Barrio_de_Legazpi_%2824%29%2C_Madrid.svg.png 1.5x, //upload.wikimedia.org/wikipedia/commons/thumb/4/4d/Barrio_de_Legazpi_%2824%29%2C_Madrid.svg/140px-Barrio_de_Legazpi_%2824%29%2C_Madrid.svg.png 2x\" width=\"70\"/></a>\n</td></tr>\n<tr>\n<td align=\"center\">25\n</td>\n<td align=\"center\"><a class=\"mw-redirect\" href=\"/wiki/Delicias_(Madrid)\" title=\"Delicias (Madrid)\">Delicias</a>\n</td>\n<td align=\"center\"><a class=\"image\" href=\"/wiki/File:Barrio_de_Delicias_(25),_Madrid.svg\"><img alt=\"Barrio de Delicias (25), Madrid.svg\" data-file-height=\"1202\" data-file-width=\"1412\" decoding=\"async\" height=\"60\" src=\"//upload.wikimedia.org/wikipedia/commons/thumb/8/81/Barrio_de_Delicias_%2825%29%2C_Madrid.svg/70px-Barrio_de_Delicias_%2825%29%2C_Madrid.svg.png\" srcset=\"//upload.wikimedia.org/wikipedia/commons/thumb/8/81/Barrio_de_Delicias_%2825%29%2C_Madrid.svg/105px-Barrio_de_Delicias_%2825%29%2C_Madrid.svg.png 1.5x, //upload.wikimedia.org/wikipedia/commons/thumb/8/81/Barrio_de_Delicias_%2825%29%2C_Madrid.svg/140px-Barrio_de_Delicias_%2825%29%2C_Madrid.svg.png 2x\" width=\"70\"/></a>\n</td></tr>\n<tr>\n<td align=\"center\">26\n</td>\n<td align=\"center\"><a href=\"/wiki/Palos_de_Moguer_(Madrid)\" title=\"Palos de Moguer (Madrid)\">Palos de Moguer</a>\n</td>\n<td align=\"center\"><a class=\"image\" href=\"/wiki/File:Barrio_de_Palos_de_Moguer_(26),_Madrid.svg\"><img alt=\"Barrio de Palos de Moguer (26), Madrid.svg\" data-file-height=\"1202\" data-file-width=\"1412\" decoding=\"async\" height=\"60\" src=\"//upload.wikimedia.org/wikipedia/commons/thumb/1/10/Barrio_de_Palos_de_Moguer_%2826%29%2C_Madrid.svg/70px-Barrio_de_Palos_de_Moguer_%2826%29%2C_Madrid.svg.png\" srcset=\"//upload.wikimedia.org/wikipedia/commons/thumb/1/10/Barrio_de_Palos_de_Moguer_%2826%29%2C_Madrid.svg/105px-Barrio_de_Palos_de_Moguer_%2826%29%2C_Madrid.svg.png 1.5x, //upload.wikimedia.org/wikipedia/commons/thumb/1/10/Barrio_de_Palos_de_Moguer_%2826%29%2C_Madrid.svg/140px-Barrio_de_Palos_de_Moguer_%2826%29%2C_Madrid.svg.png 2x\" width=\"70\"/></a>\n</td></tr>\n<tr>\n<td align=\"center\">27\n</td>\n<td align=\"center\"><a href=\"/wiki/Atocha_(Madrid)\" title=\"Atocha (Madrid)\">Atocha</a>\n</td>\n<td align=\"center\"><a class=\"image\" href=\"/wiki/File:Barrio_de_Atocha_(27),_Madrid.svg\"><img alt=\"Barrio de Atocha (27), Madrid.svg\" data-file-height=\"1202\" data-file-width=\"1412\" decoding=\"async\" height=\"60\" src=\"//upload.wikimedia.org/wikipedia/commons/thumb/8/8f/Barrio_de_Atocha_%2827%29%2C_Madrid.svg/70px-Barrio_de_Atocha_%2827%29%2C_Madrid.svg.png\" srcset=\"//upload.wikimedia.org/wikipedia/commons/thumb/8/8f/Barrio_de_Atocha_%2827%29%2C_Madrid.svg/105px-Barrio_de_Atocha_%2827%29%2C_Madrid.svg.png 1.5x, //upload.wikimedia.org/wikipedia/commons/thumb/8/8f/Barrio_de_Atocha_%2827%29%2C_Madrid.svg/140px-Barrio_de_Atocha_%2827%29%2C_Madrid.svg.png 2x\" width=\"70\"/></a>\n</td></tr>\n<tr>\n<td rowspan=\"6\"><a href=\"/wiki/Retiro_(Madrid)\" title=\"Retiro (Madrid)\">Retiro</a> (3)\n</td>\n<td rowspan=\"6\"><a class=\"image\" href=\"/wiki/File:Retiro_District_loc-map.svg\"><img alt=\"Retiro District loc-map.svg\" data-file-height=\"527\" data-file-width=\"527\" decoding=\"async\" height=\"200\" src=\"//upload.wikimedia.org/wikipedia/commons/thumb/6/6a/Retiro_District_loc-map.svg/200px-Retiro_District_loc-map.svg.png\" srcset=\"//upload.wikimedia.org/wikipedia/commons/thumb/6/6a/Retiro_District_loc-map.svg/300px-Retiro_District_loc-map.svg.png 1.5x, //upload.wikimedia.org/wikipedia/commons/thumb/6/6a/Retiro_District_loc-map.svg/400px-Retiro_District_loc-map.svg.png 2x\" width=\"200\"/></a>\n</td>\n<td align=\"center\">31\n</td>\n<td align=\"center\"><a href=\"/wiki/Pac%C3%ADfico_(Madrid)\" title=\"Pacífico (Madrid)\">Pacífico</a>\n</td>\n<td align=\"center\"><a class=\"image\" href=\"/wiki/File:Barrio_de_Pac%C3%ADfico_(31),_Madrid.svg\"><img alt=\"Barrio de Pacífico (31), Madrid.svg\" data-file-height=\"1035\" data-file-width=\"1022\" decoding=\"async\" height=\"71\" src=\"//upload.wikimedia.org/wikipedia/commons/thumb/9/9a/Barrio_de_Pac%C3%ADfico_%2831%29%2C_Madrid.svg/70px-Barrio_de_Pac%C3%ADfico_%2831%29%2C_Madrid.svg.png\" srcset=\"//upload.wikimedia.org/wikipedia/commons/thumb/9/9a/Barrio_de_Pac%C3%ADfico_%2831%29%2C_Madrid.svg/105px-Barrio_de_Pac%C3%ADfico_%2831%29%2C_Madrid.svg.png 1.5x, //upload.wikimedia.org/wikipedia/commons/thumb/9/9a/Barrio_de_Pac%C3%ADfico_%2831%29%2C_Madrid.svg/140px-Barrio_de_Pac%C3%ADfico_%2831%29%2C_Madrid.svg.png 2x\" width=\"70\"/></a>\n</td></tr>\n<tr>\n<td align=\"center\">32\n</td>\n<td align=\"center\"><a href=\"/wiki/Adelfas\" title=\"Adelfas\">Adelfas</a>\n</td>\n<td align=\"center\"><a class=\"image\" href=\"/wiki/File:Barrio_de_Adelfas_(32),_Madrid.svg\"><img alt=\"Barrio de Adelfas (32), Madrid.svg\" data-file-height=\"1035\" data-file-width=\"1022\" decoding=\"async\" height=\"71\" src=\"//upload.wikimedia.org/wikipedia/commons/thumb/2/2e/Barrio_de_Adelfas_%2832%29%2C_Madrid.svg/70px-Barrio_de_Adelfas_%2832%29%2C_Madrid.svg.png\" srcset=\"//upload.wikimedia.org/wikipedia/commons/thumb/2/2e/Barrio_de_Adelfas_%2832%29%2C_Madrid.svg/105px-Barrio_de_Adelfas_%2832%29%2C_Madrid.svg.png 1.5x, //upload.wikimedia.org/wikipedia/commons/thumb/2/2e/Barrio_de_Adelfas_%2832%29%2C_Madrid.svg/140px-Barrio_de_Adelfas_%2832%29%2C_Madrid.svg.png 2x\" width=\"70\"/></a>\n</td></tr>\n<tr>\n<td align=\"center\">33\n</td>\n<td align=\"center\"><a href=\"/wiki/Estrella_(Madrid)\" title=\"Estrella (Madrid)\">Estrella</a>\n</td>\n<td align=\"center\"><a class=\"image\" href=\"/wiki/File:Barrio_de_Estrella_(33),_Madrid.svg\"><img alt=\"Barrio de Estrella (33), Madrid.svg\" data-file-height=\"1035\" data-file-width=\"1022\" decoding=\"async\" height=\"71\" src=\"//upload.wikimedia.org/wikipedia/commons/thumb/0/05/Barrio_de_Estrella_%2833%29%2C_Madrid.svg/70px-Barrio_de_Estrella_%2833%29%2C_Madrid.svg.png\" srcset=\"//upload.wikimedia.org/wikipedia/commons/thumb/0/05/Barrio_de_Estrella_%2833%29%2C_Madrid.svg/105px-Barrio_de_Estrella_%2833%29%2C_Madrid.svg.png 1.5x, //upload.wikimedia.org/wikipedia/commons/thumb/0/05/Barrio_de_Estrella_%2833%29%2C_Madrid.svg/140px-Barrio_de_Estrella_%2833%29%2C_Madrid.svg.png 2x\" width=\"70\"/></a>\n</td></tr>\n<tr>\n<td align=\"center\">34\n</td>\n<td align=\"center\"><a href=\"/wiki/Ibiza_(Madrid)\" title=\"Ibiza (Madrid)\">Ibiza</a>\n</td>\n<td align=\"center\"><a class=\"image\" href=\"/wiki/File:Barrio_de_Ibiza_(34),_Madrid.svg\"><img alt=\"Barrio de Ibiza (34), Madrid.svg\" data-file-height=\"1035\" data-file-width=\"1022\" decoding=\"async\" height=\"71\" src=\"//upload.wikimedia.org/wikipedia/commons/thumb/a/a9/Barrio_de_Ibiza_%2834%29%2C_Madrid.svg/70px-Barrio_de_Ibiza_%2834%29%2C_Madrid.svg.png\" srcset=\"//upload.wikimedia.org/wikipedia/commons/thumb/a/a9/Barrio_de_Ibiza_%2834%29%2C_Madrid.svg/105px-Barrio_de_Ibiza_%2834%29%2C_Madrid.svg.png 1.5x, //upload.wikimedia.org/wikipedia/commons/thumb/a/a9/Barrio_de_Ibiza_%2834%29%2C_Madrid.svg/140px-Barrio_de_Ibiza_%2834%29%2C_Madrid.svg.png 2x\" width=\"70\"/></a>\n</td></tr>\n<tr>\n<td align=\"center\">35\n</td>\n<td align=\"center\"><a class=\"new\" href=\"/w/index.php?title=Los_Jer%C3%B3nimos_(Retiro)&amp;action=edit&amp;redlink=1\" title=\"Los Jerónimos (Retiro) (page does not exist)\">Los Jerónimos</a>\n</td>\n<td align=\"center\"><a class=\"image\" href=\"/wiki/File:Barrio_de_Jer%C3%B3nimos_(35),_Madrid.svg\"><img alt=\"Barrio de Jerónimos (35), Madrid.svg\" data-file-height=\"1035\" data-file-width=\"1022\" decoding=\"async\" height=\"71\" src=\"//upload.wikimedia.org/wikipedia/commons/thumb/4/4e/Barrio_de_Jer%C3%B3nimos_%2835%29%2C_Madrid.svg/70px-Barrio_de_Jer%C3%B3nimos_%2835%29%2C_Madrid.svg.png\" srcset=\"//upload.wikimedia.org/wikipedia/commons/thumb/4/4e/Barrio_de_Jer%C3%B3nimos_%2835%29%2C_Madrid.svg/105px-Barrio_de_Jer%C3%B3nimos_%2835%29%2C_Madrid.svg.png 1.5x, //upload.wikimedia.org/wikipedia/commons/thumb/4/4e/Barrio_de_Jer%C3%B3nimos_%2835%29%2C_Madrid.svg/140px-Barrio_de_Jer%C3%B3nimos_%2835%29%2C_Madrid.svg.png 2x\" width=\"70\"/></a>\n</td></tr>\n<tr>\n<td align=\"center\">36\n</td>\n<td align=\"center\"><a class=\"mw-redirect\" href=\"/wiki/Ni%C3%B1o_Jes%C3%BAs_(Madrid)\" title=\"Niño Jesús (Madrid)\">Niño Jesús</a>\n</td>\n<td align=\"center\"><a class=\"image\" href=\"/wiki/File:Barrio_de_Ni%C3%B1o_Jes%C3%BAs_(36),_Madrid.svg\"><img alt=\"Barrio de Niño Jesús (36), Madrid.svg\" data-file-height=\"1035\" data-file-width=\"1022\" decoding=\"async\" height=\"71\" src=\"//upload.wikimedia.org/wikipedia/commons/thumb/9/9c/Barrio_de_Ni%C3%B1o_Jes%C3%BAs_%2836%29%2C_Madrid.svg/70px-Barrio_de_Ni%C3%B1o_Jes%C3%BAs_%2836%29%2C_Madrid.svg.png\" srcset=\"//upload.wikimedia.org/wikipedia/commons/thumb/9/9c/Barrio_de_Ni%C3%B1o_Jes%C3%BAs_%2836%29%2C_Madrid.svg/105px-Barrio_de_Ni%C3%B1o_Jes%C3%BAs_%2836%29%2C_Madrid.svg.png 1.5x, //upload.wikimedia.org/wikipedia/commons/thumb/9/9c/Barrio_de_Ni%C3%B1o_Jes%C3%BAs_%2836%29%2C_Madrid.svg/140px-Barrio_de_Ni%C3%B1o_Jes%C3%BAs_%2836%29%2C_Madrid.svg.png 2x\" width=\"70\"/></a>\n</td></tr>\n<tr>\n<td rowspan=\"6\"><a href=\"/wiki/Salamanca_(Madrid)\" title=\"Salamanca (Madrid)\">Salamanca</a> (4)\n</td>\n<td rowspan=\"6\"><a class=\"image\" href=\"/wiki/File:Salamanca_District_loc-map.svg\"><img alt=\"Salamanca District loc-map.svg\" data-file-height=\"527\" data-file-width=\"527\" decoding=\"async\" height=\"200\" src=\"//upload.wikimedia.org/wikipedia/commons/thumb/d/d6/Salamanca_District_loc-map.svg/200px-Salamanca_District_loc-map.svg.png\" srcset=\"//upload.wikimedia.org/wikipedia/commons/thumb/d/d6/Salamanca_District_loc-map.svg/300px-Salamanca_District_loc-map.svg.png 1.5x, //upload.wikimedia.org/wikipedia/commons/thumb/d/d6/Salamanca_District_loc-map.svg/400px-Salamanca_District_loc-map.svg.png 2x\" width=\"200\"/></a>\n</td>\n<td align=\"center\">41\n</td>\n<td align=\"center\"><a class=\"mw-redirect\" href=\"/wiki/Recoletos_(barrio)\" title=\"Recoletos (barrio)\">Recoletos</a>\n</td>\n<td align=\"center\"><a class=\"image\" href=\"/wiki/File:Barrio_de_Recoletos_(41),_Madrid.svg\"><img alt=\"Barrio de Recoletos (41), Madrid.svg\" data-file-height=\"853\" data-file-width=\"859\" decoding=\"async\" height=\"70\" src=\"//upload.wikimedia.org/wikipedia/commons/thumb/3/35/Barrio_de_Recoletos_%2841%29%2C_Madrid.svg/70px-Barrio_de_Recoletos_%2841%29%2C_Madrid.svg.png\" srcset=\"//upload.wikimedia.org/wikipedia/commons/thumb/3/35/Barrio_de_Recoletos_%2841%29%2C_Madrid.svg/105px-Barrio_de_Recoletos_%2841%29%2C_Madrid.svg.png 1.5x, //upload.wikimedia.org/wikipedia/commons/thumb/3/35/Barrio_de_Recoletos_%2841%29%2C_Madrid.svg/140px-Barrio_de_Recoletos_%2841%29%2C_Madrid.svg.png 2x\" width=\"70\"/></a>\n</td></tr>\n<tr>\n<td align=\"center\">42\n</td>\n<td align=\"center\"><a href=\"/wiki/Goya_(Madrid)\" title=\"Goya (Madrid)\">Goya</a>\n</td>\n<td align=\"center\"><a class=\"image\" href=\"/wiki/File:Barrio_de_Goya_(42),_Madrid.svg\"><img alt=\"Barrio de Goya (42), Madrid.svg\" data-file-height=\"853\" data-file-width=\"859\" decoding=\"async\" height=\"70\" src=\"//upload.wikimedia.org/wikipedia/commons/thumb/e/e1/Barrio_de_Goya_%2842%29%2C_Madrid.svg/70px-Barrio_de_Goya_%2842%29%2C_Madrid.svg.png\" srcset=\"//upload.wikimedia.org/wikipedia/commons/thumb/e/e1/Barrio_de_Goya_%2842%29%2C_Madrid.svg/105px-Barrio_de_Goya_%2842%29%2C_Madrid.svg.png 1.5x, //upload.wikimedia.org/wikipedia/commons/thumb/e/e1/Barrio_de_Goya_%2842%29%2C_Madrid.svg/140px-Barrio_de_Goya_%2842%29%2C_Madrid.svg.png 2x\" width=\"70\"/></a>\n</td></tr>\n<tr>\n<td align=\"center\">43\n</td>\n<td align=\"center\"><a href=\"/wiki/Fuente_del_Berro\" title=\"Fuente del Berro\">Fuente del Berro</a>\n</td>\n<td align=\"center\"><a class=\"image\" href=\"/wiki/File:Barrio_de_Fuente_del_Berro_(43),_Madrid.svg\"><img alt=\"Barrio de Fuente del Berro (43), Madrid.svg\" data-file-height=\"853\" data-file-width=\"859\" decoding=\"async\" height=\"70\" src=\"//upload.wikimedia.org/wikipedia/commons/thumb/e/e9/Barrio_de_Fuente_del_Berro_%2843%29%2C_Madrid.svg/70px-Barrio_de_Fuente_del_Berro_%2843%29%2C_Madrid.svg.png\" srcset=\"//upload.wikimedia.org/wikipedia/commons/thumb/e/e9/Barrio_de_Fuente_del_Berro_%2843%29%2C_Madrid.svg/105px-Barrio_de_Fuente_del_Berro_%2843%29%2C_Madrid.svg.png 1.5x, //upload.wikimedia.org/wikipedia/commons/thumb/e/e9/Barrio_de_Fuente_del_Berro_%2843%29%2C_Madrid.svg/140px-Barrio_de_Fuente_del_Berro_%2843%29%2C_Madrid.svg.png 2x\" width=\"70\"/></a>\n</td></tr>\n<tr>\n<td align=\"center\">44\n</td>\n<td align=\"center\"><a class=\"mw-redirect\" href=\"/wiki/Guindalera\" title=\"Guindalera\">Guindalera</a>\n</td>\n<td align=\"center\"><a class=\"image\" href=\"/wiki/File:Barrio_de_La_Guindalera_(44),_Madrid.svg\"><img alt=\"Barrio de La Guindalera (44), Madrid.svg\" data-file-height=\"853\" data-file-width=\"859\" decoding=\"async\" height=\"70\" src=\"//upload.wikimedia.org/wikipedia/commons/thumb/5/52/Barrio_de_La_Guindalera_%2844%29%2C_Madrid.svg/70px-Barrio_de_La_Guindalera_%2844%29%2C_Madrid.svg.png\" srcset=\"//upload.wikimedia.org/wikipedia/commons/thumb/5/52/Barrio_de_La_Guindalera_%2844%29%2C_Madrid.svg/105px-Barrio_de_La_Guindalera_%2844%29%2C_Madrid.svg.png 1.5x, //upload.wikimedia.org/wikipedia/commons/thumb/5/52/Barrio_de_La_Guindalera_%2844%29%2C_Madrid.svg/140px-Barrio_de_La_Guindalera_%2844%29%2C_Madrid.svg.png 2x\" width=\"70\"/></a>\n</td></tr>\n<tr>\n<td align=\"center\">45\n</td>\n<td align=\"center\"><a href=\"/wiki/Lista_(Madrid)\" title=\"Lista (Madrid)\">Lista</a>\n</td>\n<td align=\"center\"><a class=\"image\" href=\"/wiki/File:Barrio_de_Lista_(45),_Madrid.svg\"><img alt=\"Barrio de Lista (45), Madrid.svg\" data-file-height=\"853\" data-file-width=\"859\" decoding=\"async\" height=\"70\" src=\"//upload.wikimedia.org/wikipedia/commons/thumb/c/c8/Barrio_de_Lista_%2845%29%2C_Madrid.svg/70px-Barrio_de_Lista_%2845%29%2C_Madrid.svg.png\" srcset=\"//upload.wikimedia.org/wikipedia/commons/thumb/c/c8/Barrio_de_Lista_%2845%29%2C_Madrid.svg/105px-Barrio_de_Lista_%2845%29%2C_Madrid.svg.png 1.5x, //upload.wikimedia.org/wikipedia/commons/thumb/c/c8/Barrio_de_Lista_%2845%29%2C_Madrid.svg/140px-Barrio_de_Lista_%2845%29%2C_Madrid.svg.png 2x\" width=\"70\"/></a>\n</td></tr>\n<tr>\n<td align=\"center\">46\n</td>\n<td align=\"center\"><a href=\"/wiki/Castellana_(Madrid)\" title=\"Castellana (Madrid)\">Castellana</a>\n</td>\n<td align=\"center\"><a class=\"image\" href=\"/wiki/File:Barrio_de_Castellana_(46),_Madrid.svg\"><img alt=\"Barrio de Castellana (46), Madrid.svg\" data-file-height=\"853\" data-file-width=\"859\" decoding=\"async\" height=\"70\" src=\"//upload.wikimedia.org/wikipedia/commons/thumb/1/13/Barrio_de_Castellana_%2846%29%2C_Madrid.svg/70px-Barrio_de_Castellana_%2846%29%2C_Madrid.svg.png\" srcset=\"//upload.wikimedia.org/wikipedia/commons/thumb/1/13/Barrio_de_Castellana_%2846%29%2C_Madrid.svg/105px-Barrio_de_Castellana_%2846%29%2C_Madrid.svg.png 1.5x, //upload.wikimedia.org/wikipedia/commons/thumb/1/13/Barrio_de_Castellana_%2846%29%2C_Madrid.svg/140px-Barrio_de_Castellana_%2846%29%2C_Madrid.svg.png 2x\" width=\"70\"/></a>\n</td></tr>\n<tr>\n<td rowspan=\"6\"><a href=\"/wiki/Chamart%C3%ADn_(Madrid)\" title=\"Chamartín (Madrid)\">Chamartín</a> (5)\n</td>\n<td rowspan=\"6\"><a class=\"image\" href=\"/wiki/File:Chamart%C3%ADn_District_loc-map.svg\"><img alt=\"Chamartín District loc-map.svg\" data-file-height=\"527\" data-file-width=\"527\" decoding=\"async\" height=\"200\" src=\"//upload.wikimedia.org/wikipedia/commons/thumb/0/01/Chamart%C3%ADn_District_loc-map.svg/200px-Chamart%C3%ADn_District_loc-map.svg.png\" srcset=\"//upload.wikimedia.org/wikipedia/commons/thumb/0/01/Chamart%C3%ADn_District_loc-map.svg/300px-Chamart%C3%ADn_District_loc-map.svg.png 1.5x, //upload.wikimedia.org/wikipedia/commons/thumb/0/01/Chamart%C3%ADn_District_loc-map.svg/400px-Chamart%C3%ADn_District_loc-map.svg.png 2x\" width=\"200\"/></a>\n</td>\n<td align=\"center\">51\n</td>\n<td align=\"center\"><a href=\"/wiki/El_Viso_(Madrid)\" title=\"El Viso (Madrid)\">El Viso</a>\n</td>\n<td align=\"center\"><a class=\"image\" href=\"/wiki/File:Barrio_de_El_Viso_(51),_Madrid.svg\"><img alt=\"Barrio de El Viso (51), Madrid.svg\" data-file-height=\"1519\" data-file-width=\"821\" decoding=\"async\" height=\"130\" src=\"//upload.wikimedia.org/wikipedia/commons/thumb/1/1d/Barrio_de_El_Viso_%2851%29%2C_Madrid.svg/70px-Barrio_de_El_Viso_%2851%29%2C_Madrid.svg.png\" srcset=\"//upload.wikimedia.org/wikipedia/commons/thumb/1/1d/Barrio_de_El_Viso_%2851%29%2C_Madrid.svg/105px-Barrio_de_El_Viso_%2851%29%2C_Madrid.svg.png 1.5x, //upload.wikimedia.org/wikipedia/commons/thumb/1/1d/Barrio_de_El_Viso_%2851%29%2C_Madrid.svg/140px-Barrio_de_El_Viso_%2851%29%2C_Madrid.svg.png 2x\" width=\"70\"/></a>\n</td></tr>\n<tr>\n<td align=\"center\">52\n</td>\n<td align=\"center\"><a href=\"/wiki/Prosperidad_(Madrid)\" title=\"Prosperidad (Madrid)\">Prosperidad</a>\n</td>\n<td align=\"center\"><a class=\"image\" href=\"/wiki/File:Barrio_de_Prosperidad_(52),_Madrid.svg\"><img alt=\"Barrio de Prosperidad (52), Madrid.svg\" data-file-height=\"1519\" data-file-width=\"821\" decoding=\"async\" height=\"130\" src=\"//upload.wikimedia.org/wikipedia/commons/thumb/f/f9/Barrio_de_Prosperidad_%2852%29%2C_Madrid.svg/70px-Barrio_de_Prosperidad_%2852%29%2C_Madrid.svg.png\" srcset=\"//upload.wikimedia.org/wikipedia/commons/thumb/f/f9/Barrio_de_Prosperidad_%2852%29%2C_Madrid.svg/105px-Barrio_de_Prosperidad_%2852%29%2C_Madrid.svg.png 1.5x, //upload.wikimedia.org/wikipedia/commons/thumb/f/f9/Barrio_de_Prosperidad_%2852%29%2C_Madrid.svg/140px-Barrio_de_Prosperidad_%2852%29%2C_Madrid.svg.png 2x\" width=\"70\"/></a>\n</td></tr>\n<tr>\n<td align=\"center\">53\n</td>\n<td align=\"center\"><a href=\"/wiki/Ciudad_Jard%C3%ADn_(Madrid)\" title=\"Ciudad Jardín (Madrid)\">Ciudad Jardín</a>\n</td>\n<td align=\"center\"><a class=\"image\" href=\"/wiki/File:Barrio_de_Ciudad_Jard%C3%ADn_(53),_Madrid.svg\"><img alt=\"Barrio de Ciudad Jardín (53), Madrid.svg\" data-file-height=\"1519\" data-file-width=\"821\" decoding=\"async\" height=\"130\" src=\"//upload.wikimedia.org/wikipedia/commons/thumb/8/87/Barrio_de_Ciudad_Jard%C3%ADn_%2853%29%2C_Madrid.svg/70px-Barrio_de_Ciudad_Jard%C3%ADn_%2853%29%2C_Madrid.svg.png\" srcset=\"//upload.wikimedia.org/wikipedia/commons/thumb/8/87/Barrio_de_Ciudad_Jard%C3%ADn_%2853%29%2C_Madrid.svg/105px-Barrio_de_Ciudad_Jard%C3%ADn_%2853%29%2C_Madrid.svg.png 1.5x, //upload.wikimedia.org/wikipedia/commons/thumb/8/87/Barrio_de_Ciudad_Jard%C3%ADn_%2853%29%2C_Madrid.svg/140px-Barrio_de_Ciudad_Jard%C3%ADn_%2853%29%2C_Madrid.svg.png 2x\" width=\"70\"/></a>\n</td></tr>\n<tr>\n<td align=\"center\">54\n</td>\n<td align=\"center\"><a class=\"mw-redirect\" href=\"/wiki/Hispanoam%C3%A9rica_(Madrid)\" title=\"Hispanoamérica (Madrid)\">Hispanoamérica</a>\n</td>\n<td align=\"center\"><a class=\"image\" href=\"/wiki/File:Barrio_de_Hispanoam%C3%A9rica_(54),_Madrid.svg\"><img alt=\"Barrio de Hispanoamérica (54), Madrid.svg\" data-file-height=\"1519\" data-file-width=\"821\" decoding=\"async\" height=\"130\" src=\"//upload.wikimedia.org/wikipedia/commons/thumb/3/3a/Barrio_de_Hispanoam%C3%A9rica_%2854%29%2C_Madrid.svg/70px-Barrio_de_Hispanoam%C3%A9rica_%2854%29%2C_Madrid.svg.png\" srcset=\"//upload.wikimedia.org/wikipedia/commons/thumb/3/3a/Barrio_de_Hispanoam%C3%A9rica_%2854%29%2C_Madrid.svg/105px-Barrio_de_Hispanoam%C3%A9rica_%2854%29%2C_Madrid.svg.png 1.5x, //upload.wikimedia.org/wikipedia/commons/thumb/3/3a/Barrio_de_Hispanoam%C3%A9rica_%2854%29%2C_Madrid.svg/140px-Barrio_de_Hispanoam%C3%A9rica_%2854%29%2C_Madrid.svg.png 2x\" width=\"70\"/></a>\n</td></tr>\n<tr>\n<td align=\"center\">55\n</td>\n<td align=\"center\"><a href=\"/wiki/Nueva_Espa%C3%B1a_(Madrid)\" title=\"Nueva España (Madrid)\">Nueva España</a>\n</td>\n<td align=\"center\"><a class=\"image\" href=\"/wiki/File:Barrio_de_Nueva_Espa%C3%B1a_(55),_Madrid.svg\"><img alt=\"Barrio de Nueva España (55), Madrid.svg\" data-file-height=\"1519\" data-file-width=\"821\" decoding=\"async\" height=\"130\" src=\"//upload.wikimedia.org/wikipedia/commons/thumb/8/80/Barrio_de_Nueva_Espa%C3%B1a_%2855%29%2C_Madrid.svg/70px-Barrio_de_Nueva_Espa%C3%B1a_%2855%29%2C_Madrid.svg.png\" srcset=\"//upload.wikimedia.org/wikipedia/commons/thumb/8/80/Barrio_de_Nueva_Espa%C3%B1a_%2855%29%2C_Madrid.svg/105px-Barrio_de_Nueva_Espa%C3%B1a_%2855%29%2C_Madrid.svg.png 1.5x, //upload.wikimedia.org/wikipedia/commons/thumb/8/80/Barrio_de_Nueva_Espa%C3%B1a_%2855%29%2C_Madrid.svg/140px-Barrio_de_Nueva_Espa%C3%B1a_%2855%29%2C_Madrid.svg.png 2x\" width=\"70\"/></a>\n</td></tr>\n<tr>\n<td align=\"center\">56\n</td>\n<td align=\"center\"><a href=\"/wiki/Castilla_(Madrid)\" title=\"Castilla (Madrid)\">Castilla</a>\n</td>\n<td align=\"center\"><a class=\"image\" href=\"/wiki/File:Barrio_de_Castilla_(56),_Madrid.svg\"><img alt=\"Barrio de Castilla (56), Madrid.svg\" data-file-height=\"1519\" data-file-width=\"821\" decoding=\"async\" height=\"130\" src=\"//upload.wikimedia.org/wikipedia/commons/thumb/d/d4/Barrio_de_Castilla_%2856%29%2C_Madrid.svg/70px-Barrio_de_Castilla_%2856%29%2C_Madrid.svg.png\" srcset=\"//upload.wikimedia.org/wikipedia/commons/thumb/d/d4/Barrio_de_Castilla_%2856%29%2C_Madrid.svg/105px-Barrio_de_Castilla_%2856%29%2C_Madrid.svg.png 1.5x, //upload.wikimedia.org/wikipedia/commons/thumb/d/d4/Barrio_de_Castilla_%2856%29%2C_Madrid.svg/140px-Barrio_de_Castilla_%2856%29%2C_Madrid.svg.png 2x\" width=\"70\"/></a>\n</td></tr>\n<tr>\n<td rowspan=\"6\"><a href=\"/wiki/Tetu%C3%A1n_(Madrid)\" title=\"Tetuán (Madrid)\">Tetuán</a> (6)\n</td>\n<td rowspan=\"6\"><a class=\"image\" href=\"/wiki/File:Tetu%C3%A1n_District_loc-map.svg\"><img alt=\"Tetuán District loc-map.svg\" data-file-height=\"527\" data-file-width=\"527\" decoding=\"async\" height=\"200\" src=\"//upload.wikimedia.org/wikipedia/commons/thumb/d/d8/Tetu%C3%A1n_District_loc-map.svg/200px-Tetu%C3%A1n_District_loc-map.svg.png\" srcset=\"//upload.wikimedia.org/wikipedia/commons/thumb/d/d8/Tetu%C3%A1n_District_loc-map.svg/300px-Tetu%C3%A1n_District_loc-map.svg.png 1.5x, //upload.wikimedia.org/wikipedia/commons/thumb/d/d8/Tetu%C3%A1n_District_loc-map.svg/400px-Tetu%C3%A1n_District_loc-map.svg.png 2x\" width=\"200\"/></a>\n</td>\n<td align=\"center\">61\n</td>\n<td align=\"center\"><a href=\"/wiki/Bellas_Vistas\" title=\"Bellas Vistas\">Bellas Vistas</a>\n</td>\n<td align=\"center\"><a class=\"image\" href=\"/wiki/File:Barrio_de_Bellas_Vistas_(61),_Madrid.svg\"><img alt=\"Barrio de Bellas Vistas (61), Madrid.svg\" data-file-height=\"1126\" data-file-width=\"814\" decoding=\"async\" height=\"97\" src=\"//upload.wikimedia.org/wikipedia/commons/thumb/0/0a/Barrio_de_Bellas_Vistas_%2861%29%2C_Madrid.svg/70px-Barrio_de_Bellas_Vistas_%2861%29%2C_Madrid.svg.png\" srcset=\"//upload.wikimedia.org/wikipedia/commons/thumb/0/0a/Barrio_de_Bellas_Vistas_%2861%29%2C_Madrid.svg/105px-Barrio_de_Bellas_Vistas_%2861%29%2C_Madrid.svg.png 1.5x, //upload.wikimedia.org/wikipedia/commons/thumb/0/0a/Barrio_de_Bellas_Vistas_%2861%29%2C_Madrid.svg/140px-Barrio_de_Bellas_Vistas_%2861%29%2C_Madrid.svg.png 2x\" width=\"70\"/></a>\n</td></tr>\n<tr>\n<td align=\"center\">62\n</td>\n<td align=\"center\"><a href=\"/wiki/Cuatro_Caminos_(Madrid)\" title=\"Cuatro Caminos (Madrid)\">Cuatro Caminos</a>\n</td>\n<td align=\"center\"><a class=\"image\" href=\"/wiki/File:Barrio_de_Cuatro_Caminos_(62),_Madrid.svg\"><img alt=\"Barrio de Cuatro Caminos (62), Madrid.svg\" data-file-height=\"1126\" data-file-width=\"814\" decoding=\"async\" height=\"97\" src=\"//upload.wikimedia.org/wikipedia/commons/thumb/9/91/Barrio_de_Cuatro_Caminos_%2862%29%2C_Madrid.svg/70px-Barrio_de_Cuatro_Caminos_%2862%29%2C_Madrid.svg.png\" srcset=\"//upload.wikimedia.org/wikipedia/commons/thumb/9/91/Barrio_de_Cuatro_Caminos_%2862%29%2C_Madrid.svg/105px-Barrio_de_Cuatro_Caminos_%2862%29%2C_Madrid.svg.png 1.5x, //upload.wikimedia.org/wikipedia/commons/thumb/9/91/Barrio_de_Cuatro_Caminos_%2862%29%2C_Madrid.svg/140px-Barrio_de_Cuatro_Caminos_%2862%29%2C_Madrid.svg.png 2x\" width=\"70\"/></a>\n</td></tr>\n<tr>\n<td align=\"center\">63\n</td>\n<td align=\"center\"><a href=\"/wiki/Castillejos_(Madrid)\" title=\"Castillejos (Madrid)\">Castillejos</a>\n</td>\n<td align=\"center\"><a class=\"image\" href=\"/wiki/File:Barrio_de_Castillejos_(63),_Madrid.svg\"><img alt=\"Barrio de Castillejos (63), Madrid.svg\" data-file-height=\"1126\" data-file-width=\"814\" decoding=\"async\" height=\"97\" src=\"//upload.wikimedia.org/wikipedia/commons/thumb/8/86/Barrio_de_Castillejos_%2863%29%2C_Madrid.svg/70px-Barrio_de_Castillejos_%2863%29%2C_Madrid.svg.png\" srcset=\"//upload.wikimedia.org/wikipedia/commons/thumb/8/86/Barrio_de_Castillejos_%2863%29%2C_Madrid.svg/105px-Barrio_de_Castillejos_%2863%29%2C_Madrid.svg.png 1.5x, //upload.wikimedia.org/wikipedia/commons/thumb/8/86/Barrio_de_Castillejos_%2863%29%2C_Madrid.svg/140px-Barrio_de_Castillejos_%2863%29%2C_Madrid.svg.png 2x\" width=\"70\"/></a>\n</td></tr>\n<tr>\n<td align=\"center\">64\n</td>\n<td align=\"center\"><a href=\"/wiki/Almenara_(Madrid)\" title=\"Almenara (Madrid)\">Almenara</a>\n</td>\n<td align=\"center\"><a class=\"image\" href=\"/wiki/File:Barrio_de_Almenara_(64),_Madrid.svg\"><img alt=\"Barrio de Almenara (64), Madrid.svg\" data-file-height=\"1126\" data-file-width=\"814\" decoding=\"async\" height=\"97\" src=\"//upload.wikimedia.org/wikipedia/commons/thumb/0/09/Barrio_de_Almenara_%2864%29%2C_Madrid.svg/70px-Barrio_de_Almenara_%2864%29%2C_Madrid.svg.png\" srcset=\"//upload.wikimedia.org/wikipedia/commons/thumb/0/09/Barrio_de_Almenara_%2864%29%2C_Madrid.svg/105px-Barrio_de_Almenara_%2864%29%2C_Madrid.svg.png 1.5x, //upload.wikimedia.org/wikipedia/commons/thumb/0/09/Barrio_de_Almenara_%2864%29%2C_Madrid.svg/140px-Barrio_de_Almenara_%2864%29%2C_Madrid.svg.png 2x\" width=\"70\"/></a>\n</td></tr>\n<tr>\n<td align=\"center\">65\n</td>\n<td align=\"center\"><a href=\"/wiki/Valdeacederas\" title=\"Valdeacederas\">Valdeacederas</a>\n</td>\n<td align=\"center\"><a class=\"image\" href=\"/wiki/File:Barrio_de_Valdeacederas_(65),_Madrid.svg\"><img alt=\"Barrio de Valdeacederas (65), Madrid.svg\" data-file-height=\"1126\" data-file-width=\"814\" decoding=\"async\" height=\"97\" src=\"//upload.wikimedia.org/wikipedia/commons/thumb/8/8d/Barrio_de_Valdeacederas_%2865%29%2C_Madrid.svg/70px-Barrio_de_Valdeacederas_%2865%29%2C_Madrid.svg.png\" srcset=\"//upload.wikimedia.org/wikipedia/commons/thumb/8/8d/Barrio_de_Valdeacederas_%2865%29%2C_Madrid.svg/105px-Barrio_de_Valdeacederas_%2865%29%2C_Madrid.svg.png 1.5x, //upload.wikimedia.org/wikipedia/commons/thumb/8/8d/Barrio_de_Valdeacederas_%2865%29%2C_Madrid.svg/140px-Barrio_de_Valdeacederas_%2865%29%2C_Madrid.svg.png 2x\" width=\"70\"/></a>\n</td></tr>\n<tr>\n<td align=\"center\">66\n</td>\n<td align=\"center\"><a href=\"/wiki/Berruguete_(Madrid)\" title=\"Berruguete (Madrid)\">Berruguete</a>\n</td>\n<td align=\"center\"><a class=\"image\" href=\"/wiki/File:Barrio_de_Berruguete_(66),_Madrid.svg\"><img alt=\"Barrio de Berruguete (66), Madrid.svg\" data-file-height=\"1126\" data-file-width=\"814\" decoding=\"async\" height=\"97\" src=\"//upload.wikimedia.org/wikipedia/commons/thumb/b/b8/Barrio_de_Berruguete_%2866%29%2C_Madrid.svg/70px-Barrio_de_Berruguete_%2866%29%2C_Madrid.svg.png\" srcset=\"//upload.wikimedia.org/wikipedia/commons/thumb/b/b8/Barrio_de_Berruguete_%2866%29%2C_Madrid.svg/105px-Barrio_de_Berruguete_%2866%29%2C_Madrid.svg.png 1.5x, //upload.wikimedia.org/wikipedia/commons/thumb/b/b8/Barrio_de_Berruguete_%2866%29%2C_Madrid.svg/140px-Barrio_de_Berruguete_%2866%29%2C_Madrid.svg.png 2x\" width=\"70\"/></a>\n</td></tr>\n<tr>\n<td rowspan=\"6\"><a href=\"/wiki/Chamber%C3%AD\" title=\"Chamberí\">Chamberí</a> (7)\n</td>\n<td rowspan=\"6\"><a class=\"image\" href=\"/wiki/File:Chamber%C3%AD_District_loc-map.svg\"><img alt=\"Chamberí District loc-map.svg\" data-file-height=\"527\" data-file-width=\"527\" decoding=\"async\" height=\"200\" src=\"//upload.wikimedia.org/wikipedia/commons/thumb/7/7a/Chamber%C3%AD_District_loc-map.svg/200px-Chamber%C3%AD_District_loc-map.svg.png\" srcset=\"//upload.wikimedia.org/wikipedia/commons/thumb/7/7a/Chamber%C3%AD_District_loc-map.svg/300px-Chamber%C3%AD_District_loc-map.svg.png 1.5x, //upload.wikimedia.org/wikipedia/commons/thumb/7/7a/Chamber%C3%AD_District_loc-map.svg/400px-Chamber%C3%AD_District_loc-map.svg.png 2x\" width=\"200\"/></a>\n</td>\n<td align=\"center\">71\n</td>\n<td align=\"center\"><a href=\"/wiki/Gaztambide_(Madrid)\" title=\"Gaztambide (Madrid)\">Gaztambide</a>\n</td>\n<td align=\"center\"><a class=\"image\" href=\"/wiki/File:Barrio_de_Gaztambide_(71),_Madrid.svg\"><img alt=\"Barrio de Gaztambide (71), Madrid.svg\" data-file-height=\"850\" data-file-width=\"920\" decoding=\"async\" height=\"65\" src=\"//upload.wikimedia.org/wikipedia/commons/thumb/c/c8/Barrio_de_Gaztambide_%2871%29%2C_Madrid.svg/70px-Barrio_de_Gaztambide_%2871%29%2C_Madrid.svg.png\" srcset=\"//upload.wikimedia.org/wikipedia/commons/thumb/c/c8/Barrio_de_Gaztambide_%2871%29%2C_Madrid.svg/105px-Barrio_de_Gaztambide_%2871%29%2C_Madrid.svg.png 1.5x, //upload.wikimedia.org/wikipedia/commons/thumb/c/c8/Barrio_de_Gaztambide_%2871%29%2C_Madrid.svg/140px-Barrio_de_Gaztambide_%2871%29%2C_Madrid.svg.png 2x\" width=\"70\"/></a>\n</td></tr>\n<tr>\n<td align=\"center\">72\n</td>\n<td align=\"center\"><a href=\"/wiki/Arapiles_(Madrid)\" title=\"Arapiles (Madrid)\">Arapiles</a>\n</td>\n<td align=\"center\"><a class=\"image\" href=\"/wiki/File:Barrio_de_Arapiles_(72),_Madrid.svg\"><img alt=\"Barrio de Arapiles (72), Madrid.svg\" data-file-height=\"850\" data-file-width=\"920\" decoding=\"async\" height=\"65\" src=\"//upload.wikimedia.org/wikipedia/commons/thumb/9/96/Barrio_de_Arapiles_%2872%29%2C_Madrid.svg/70px-Barrio_de_Arapiles_%2872%29%2C_Madrid.svg.png\" srcset=\"//upload.wikimedia.org/wikipedia/commons/thumb/9/96/Barrio_de_Arapiles_%2872%29%2C_Madrid.svg/105px-Barrio_de_Arapiles_%2872%29%2C_Madrid.svg.png 1.5x, //upload.wikimedia.org/wikipedia/commons/thumb/9/96/Barrio_de_Arapiles_%2872%29%2C_Madrid.svg/140px-Barrio_de_Arapiles_%2872%29%2C_Madrid.svg.png 2x\" width=\"70\"/></a>\n</td></tr>\n<tr>\n<td align=\"center\">73\n</td>\n<td align=\"center\"><a href=\"/wiki/Trafalgar_(Madrid)\" title=\"Trafalgar (Madrid)\">Trafalgar</a>\n</td>\n<td align=\"center\"><a class=\"image\" href=\"/wiki/File:Barrio_de_Trafalgar_(73),_Madrid.svg\"><img alt=\"Barrio de Trafalgar (73), Madrid.svg\" data-file-height=\"850\" data-file-width=\"920\" decoding=\"async\" height=\"65\" src=\"//upload.wikimedia.org/wikipedia/commons/thumb/2/2c/Barrio_de_Trafalgar_%2873%29%2C_Madrid.svg/70px-Barrio_de_Trafalgar_%2873%29%2C_Madrid.svg.png\" srcset=\"//upload.wikimedia.org/wikipedia/commons/thumb/2/2c/Barrio_de_Trafalgar_%2873%29%2C_Madrid.svg/105px-Barrio_de_Trafalgar_%2873%29%2C_Madrid.svg.png 1.5x, //upload.wikimedia.org/wikipedia/commons/thumb/2/2c/Barrio_de_Trafalgar_%2873%29%2C_Madrid.svg/140px-Barrio_de_Trafalgar_%2873%29%2C_Madrid.svg.png 2x\" width=\"70\"/></a>\n</td></tr>\n<tr>\n<td align=\"center\">74\n</td>\n<td align=\"center\"><a href=\"/wiki/Almagro_(Madrid)\" title=\"Almagro (Madrid)\">Almagro</a>\n</td>\n<td align=\"center\"><a class=\"image\" href=\"/wiki/File:Barrio_de_Almagro_(74),_Madrid.svg\"><img alt=\"Barrio de Almagro (74), Madrid.svg\" data-file-height=\"850\" data-file-width=\"920\" decoding=\"async\" height=\"65\" src=\"//upload.wikimedia.org/wikipedia/commons/thumb/8/8a/Barrio_de_Almagro_%2874%29%2C_Madrid.svg/70px-Barrio_de_Almagro_%2874%29%2C_Madrid.svg.png\" srcset=\"//upload.wikimedia.org/wikipedia/commons/thumb/8/8a/Barrio_de_Almagro_%2874%29%2C_Madrid.svg/105px-Barrio_de_Almagro_%2874%29%2C_Madrid.svg.png 1.5x, //upload.wikimedia.org/wikipedia/commons/thumb/8/8a/Barrio_de_Almagro_%2874%29%2C_Madrid.svg/140px-Barrio_de_Almagro_%2874%29%2C_Madrid.svg.png 2x\" width=\"70\"/></a>\n</td></tr>\n<tr>\n<td align=\"center\">75\n</td>\n<td align=\"center\"><a href=\"/wiki/R%C3%ADos_Rosas_(Madrid)\" title=\"Ríos Rosas (Madrid)\">Ríos Rosas</a>\n</td>\n<td align=\"center\"><a class=\"image\" href=\"/wiki/File:Barrio_de_R%C3%ADos_Rosas_(75),_Madrid.svg\"><img alt=\"Barrio de Ríos Rosas (75), Madrid.svg\" data-file-height=\"850\" data-file-width=\"920\" decoding=\"async\" height=\"65\" src=\"//upload.wikimedia.org/wikipedia/commons/thumb/7/71/Barrio_de_R%C3%ADos_Rosas_%2875%29%2C_Madrid.svg/70px-Barrio_de_R%C3%ADos_Rosas_%2875%29%2C_Madrid.svg.png\" srcset=\"//upload.wikimedia.org/wikipedia/commons/thumb/7/71/Barrio_de_R%C3%ADos_Rosas_%2875%29%2C_Madrid.svg/105px-Barrio_de_R%C3%ADos_Rosas_%2875%29%2C_Madrid.svg.png 1.5x, //upload.wikimedia.org/wikipedia/commons/thumb/7/71/Barrio_de_R%C3%ADos_Rosas_%2875%29%2C_Madrid.svg/140px-Barrio_de_R%C3%ADos_Rosas_%2875%29%2C_Madrid.svg.png 2x\" width=\"70\"/></a>\n</td></tr>\n<tr>\n<td align=\"center\">76\n</td>\n<td align=\"center\"><a href=\"/wiki/Vallehermoso_(Madrid)\" title=\"Vallehermoso (Madrid)\">Vallehermoso</a>\n</td>\n<td align=\"center\"><a class=\"image\" href=\"/wiki/File:Barrio_de_Vallehermoso_(76),_Madrid.svg\"><img alt=\"Barrio de Vallehermoso (76), Madrid.svg\" data-file-height=\"850\" data-file-width=\"920\" decoding=\"async\" height=\"65\" src=\"//upload.wikimedia.org/wikipedia/commons/thumb/5/53/Barrio_de_Vallehermoso_%2876%29%2C_Madrid.svg/70px-Barrio_de_Vallehermoso_%2876%29%2C_Madrid.svg.png\" srcset=\"//upload.wikimedia.org/wikipedia/commons/thumb/5/53/Barrio_de_Vallehermoso_%2876%29%2C_Madrid.svg/105px-Barrio_de_Vallehermoso_%2876%29%2C_Madrid.svg.png 1.5x, //upload.wikimedia.org/wikipedia/commons/thumb/5/53/Barrio_de_Vallehermoso_%2876%29%2C_Madrid.svg/140px-Barrio_de_Vallehermoso_%2876%29%2C_Madrid.svg.png 2x\" width=\"70\"/></a>\n</td></tr>\n<tr>\n<td rowspan=\"8\"><a href=\"/wiki/Fuencarral-El_Pardo\" title=\"Fuencarral-El Pardo\">Fuencarral-El Pardo</a> (8)\n</td>\n<td rowspan=\"8\"><a class=\"image\" href=\"/wiki/File:Fuencarral-El_Pardo_District_loc-map.svg\"><img alt=\"Fuencarral-El Pardo District loc-map.svg\" data-file-height=\"527\" data-file-width=\"527\" decoding=\"async\" height=\"200\" src=\"//upload.wikimedia.org/wikipedia/commons/thumb/a/aa/Fuencarral-El_Pardo_District_loc-map.svg/200px-Fuencarral-El_Pardo_District_loc-map.svg.png\" srcset=\"//upload.wikimedia.org/wikipedia/commons/thumb/a/aa/Fuencarral-El_Pardo_District_loc-map.svg/300px-Fuencarral-El_Pardo_District_loc-map.svg.png 1.5x, //upload.wikimedia.org/wikipedia/commons/thumb/a/aa/Fuencarral-El_Pardo_District_loc-map.svg/400px-Fuencarral-El_Pardo_District_loc-map.svg.png 2x\" width=\"200\"/></a>\n</td>\n<td align=\"center\">81\n</td>\n<td align=\"center\"><a class=\"mw-redirect\" href=\"/wiki/El_Pardo_(Madrid)\" title=\"El Pardo (Madrid)\">El Pardo</a>\n</td>\n<td align=\"center\"><a class=\"image\" href=\"/wiki/File:Barrio_de_El_Pardo_(81).svg\"><img alt=\"Barrio de El Pardo (81).svg\" data-file-height=\"2494\" data-file-width=\"3080\" decoding=\"async\" height=\"57\" src=\"//upload.wikimedia.org/wikipedia/commons/thumb/6/66/Barrio_de_El_Pardo_%2881%29.svg/70px-Barrio_de_El_Pardo_%2881%29.svg.png\" srcset=\"//upload.wikimedia.org/wikipedia/commons/thumb/6/66/Barrio_de_El_Pardo_%2881%29.svg/105px-Barrio_de_El_Pardo_%2881%29.svg.png 1.5x, //upload.wikimedia.org/wikipedia/commons/thumb/6/66/Barrio_de_El_Pardo_%2881%29.svg/140px-Barrio_de_El_Pardo_%2881%29.svg.png 2x\" width=\"70\"/></a>\n</td></tr>\n<tr>\n<td align=\"center\">82\n</td>\n<td align=\"center\"><a href=\"/wiki/Fuentelarreina\" title=\"Fuentelarreina\">Fuentelarreina</a>\n</td>\n<td align=\"center\"><a class=\"image\" href=\"/wiki/File:Barrio_de_Fuentelarreina_(82).svg\"><img alt=\"Barrio de Fuentelarreina (82).svg\" data-file-height=\"2494\" data-file-width=\"3080\" decoding=\"async\" height=\"57\" src=\"//upload.wikimedia.org/wikipedia/commons/thumb/b/bf/Barrio_de_Fuentelarreina_%2882%29.svg/70px-Barrio_de_Fuentelarreina_%2882%29.svg.png\" srcset=\"//upload.wikimedia.org/wikipedia/commons/thumb/b/bf/Barrio_de_Fuentelarreina_%2882%29.svg/105px-Barrio_de_Fuentelarreina_%2882%29.svg.png 1.5x, //upload.wikimedia.org/wikipedia/commons/thumb/b/bf/Barrio_de_Fuentelarreina_%2882%29.svg/140px-Barrio_de_Fuentelarreina_%2882%29.svg.png 2x\" width=\"70\"/></a>\n</td></tr>\n<tr>\n<td align=\"center\">83\n</td>\n<td align=\"center\"><a href=\"/wiki/Pe%C3%B1agrande\" title=\"Peñagrande\">Peñagrande</a>\n</td>\n<td align=\"center\"><a class=\"image\" href=\"/wiki/File:Barrio_de_Pe%C3%B1agrande_(83).svg\"><img alt=\"Barrio de Peñagrande (83).svg\" data-file-height=\"2494\" data-file-width=\"3080\" decoding=\"async\" height=\"57\" src=\"//upload.wikimedia.org/wikipedia/commons/thumb/a/a1/Barrio_de_Pe%C3%B1agrande_%2883%29.svg/70px-Barrio_de_Pe%C3%B1agrande_%2883%29.svg.png\" srcset=\"//upload.wikimedia.org/wikipedia/commons/thumb/a/a1/Barrio_de_Pe%C3%B1agrande_%2883%29.svg/105px-Barrio_de_Pe%C3%B1agrande_%2883%29.svg.png 1.5x, //upload.wikimedia.org/wikipedia/commons/thumb/a/a1/Barrio_de_Pe%C3%B1agrande_%2883%29.svg/140px-Barrio_de_Pe%C3%B1agrande_%2883%29.svg.png 2x\" width=\"70\"/></a>\n</td></tr>\n<tr>\n<td align=\"center\">84\n</td>\n<td align=\"center\"><a class=\"mw-redirect\" href=\"/wiki/Barrio_del_Pilar\" title=\"Barrio del Pilar\">Pilar</a>\n</td>\n<td align=\"center\"><a class=\"image\" href=\"/wiki/File:Barrio_del_Pilar_(84).svg\"><img alt=\"Barrio del Pilar (84).svg\" data-file-height=\"2494\" data-file-width=\"3080\" decoding=\"async\" height=\"57\" src=\"//upload.wikimedia.org/wikipedia/commons/thumb/c/c3/Barrio_del_Pilar_%2884%29.svg/70px-Barrio_del_Pilar_%2884%29.svg.png\" srcset=\"//upload.wikimedia.org/wikipedia/commons/thumb/c/c3/Barrio_del_Pilar_%2884%29.svg/105px-Barrio_del_Pilar_%2884%29.svg.png 1.5x, //upload.wikimedia.org/wikipedia/commons/thumb/c/c3/Barrio_del_Pilar_%2884%29.svg/140px-Barrio_del_Pilar_%2884%29.svg.png 2x\" width=\"70\"/></a>\n</td></tr>\n<tr>\n<td align=\"center\">85\n</td>\n<td align=\"center\"><a href=\"/wiki/La_Paz_(Madrid)\" title=\"La Paz (Madrid)\">La Paz</a>\n</td>\n<td align=\"center\"><a class=\"image\" href=\"/wiki/File:Barrio_de_La_Paz_(85).svg\"><img alt=\"Barrio de La Paz (85).svg\" data-file-height=\"2494\" data-file-width=\"3080\" decoding=\"async\" height=\"57\" src=\"//upload.wikimedia.org/wikipedia/commons/thumb/f/f0/Barrio_de_La_Paz_%2885%29.svg/70px-Barrio_de_La_Paz_%2885%29.svg.png\" srcset=\"//upload.wikimedia.org/wikipedia/commons/thumb/f/f0/Barrio_de_La_Paz_%2885%29.svg/105px-Barrio_de_La_Paz_%2885%29.svg.png 1.5x, //upload.wikimedia.org/wikipedia/commons/thumb/f/f0/Barrio_de_La_Paz_%2885%29.svg/140px-Barrio_de_La_Paz_%2885%29.svg.png 2x\" width=\"70\"/></a>\n</td></tr>\n<tr>\n<td align=\"center\">86\n</td>\n<td align=\"center\"><a href=\"/wiki/Valverde_(Madrid)\" title=\"Valverde (Madrid)\">Valverde</a>\n</td>\n<td align=\"center\"><a class=\"image\" href=\"/wiki/File:Barrio_de_Valverde_(86).svg\"><img alt=\"Barrio de Valverde (86).svg\" data-file-height=\"2494\" data-file-width=\"3080\" decoding=\"async\" height=\"57\" src=\"//upload.wikimedia.org/wikipedia/commons/thumb/b/b2/Barrio_de_Valverde_%2886%29.svg/70px-Barrio_de_Valverde_%2886%29.svg.png\" srcset=\"//upload.wikimedia.org/wikipedia/commons/thumb/b/b2/Barrio_de_Valverde_%2886%29.svg/105px-Barrio_de_Valverde_%2886%29.svg.png 1.5x, //upload.wikimedia.org/wikipedia/commons/thumb/b/b2/Barrio_de_Valverde_%2886%29.svg/140px-Barrio_de_Valverde_%2886%29.svg.png 2x\" width=\"70\"/></a>\n</td></tr>\n<tr>\n<td align=\"center\">87\n</td>\n<td align=\"center\"><a href=\"/wiki/Mirasierra\" title=\"Mirasierra\">Mirasierra</a>\n</td>\n<td align=\"center\"><a class=\"image\" href=\"/wiki/File:Barrio_de_Mirasierra_(87).svg\"><img alt=\"Barrio de Mirasierra (87).svg\" data-file-height=\"2494\" data-file-width=\"3080\" decoding=\"async\" height=\"57\" src=\"//upload.wikimedia.org/wikipedia/commons/thumb/0/01/Barrio_de_Mirasierra_%2887%29.svg/70px-Barrio_de_Mirasierra_%2887%29.svg.png\" srcset=\"//upload.wikimedia.org/wikipedia/commons/thumb/0/01/Barrio_de_Mirasierra_%2887%29.svg/105px-Barrio_de_Mirasierra_%2887%29.svg.png 1.5x, //upload.wikimedia.org/wikipedia/commons/thumb/0/01/Barrio_de_Mirasierra_%2887%29.svg/140px-Barrio_de_Mirasierra_%2887%29.svg.png 2x\" width=\"70\"/></a>\n</td></tr>\n<tr>\n<td align=\"center\">88\n</td>\n<td align=\"center\"><a class=\"mw-redirect\" href=\"/wiki/El_Goloso_(Madrid)\" title=\"El Goloso (Madrid)\">El Goloso</a>\n</td>\n<td align=\"center\"><a class=\"image\" href=\"/wiki/File:Barrio_de_El_Goloso_(88).svg\"><img alt=\"Barrio de El Goloso (88).svg\" data-file-height=\"2494\" data-file-width=\"3080\" decoding=\"async\" height=\"57\" src=\"//upload.wikimedia.org/wikipedia/commons/thumb/f/f1/Barrio_de_El_Goloso_%2888%29.svg/70px-Barrio_de_El_Goloso_%2888%29.svg.png\" srcset=\"//upload.wikimedia.org/wikipedia/commons/thumb/f/f1/Barrio_de_El_Goloso_%2888%29.svg/105px-Barrio_de_El_Goloso_%2888%29.svg.png 1.5x, //upload.wikimedia.org/wikipedia/commons/thumb/f/f1/Barrio_de_El_Goloso_%2888%29.svg/140px-Barrio_de_El_Goloso_%2888%29.svg.png 2x\" width=\"70\"/></a>\n</td></tr>\n<tr>\n<td rowspan=\"7\"><a href=\"/wiki/Moncloa-Aravaca\" title=\"Moncloa-Aravaca\">Moncloa-Aravaca</a> (9)\n</td>\n<td rowspan=\"7\"><a class=\"image\" href=\"/wiki/File:Moncloa-Aravaca_District_loc-map.svg\"><img alt=\"Moncloa-Aravaca District loc-map.svg\" data-file-height=\"527\" data-file-width=\"527\" decoding=\"async\" height=\"200\" src=\"//upload.wikimedia.org/wikipedia/commons/thumb/5/51/Moncloa-Aravaca_District_loc-map.svg/200px-Moncloa-Aravaca_District_loc-map.svg.png\" srcset=\"//upload.wikimedia.org/wikipedia/commons/thumb/5/51/Moncloa-Aravaca_District_loc-map.svg/300px-Moncloa-Aravaca_District_loc-map.svg.png 1.5x, //upload.wikimedia.org/wikipedia/commons/thumb/5/51/Moncloa-Aravaca_District_loc-map.svg/400px-Moncloa-Aravaca_District_loc-map.svg.png 2x\" width=\"200\"/></a>\n</td>\n<td align=\"center\">91\n</td>\n<td align=\"center\"><a href=\"/wiki/Casa_de_Campo_(Madrid)\" title=\"Casa de Campo (Madrid)\">Casa de Campo</a>\n</td>\n<td align=\"center\"><a class=\"image\" href=\"/wiki/File:Barrio_de_Casa_de_Campo_(91),_Madrid.svg\"><img alt=\"Barrio de Casa de Campo (91), Madrid.svg\" data-file-height=\"2557\" data-file-width=\"3126\" decoding=\"async\" height=\"57\" src=\"//upload.wikimedia.org/wikipedia/commons/thumb/9/9e/Barrio_de_Casa_de_Campo_%2891%29%2C_Madrid.svg/70px-Barrio_de_Casa_de_Campo_%2891%29%2C_Madrid.svg.png\" srcset=\"//upload.wikimedia.org/wikipedia/commons/thumb/9/9e/Barrio_de_Casa_de_Campo_%2891%29%2C_Madrid.svg/105px-Barrio_de_Casa_de_Campo_%2891%29%2C_Madrid.svg.png 1.5x, //upload.wikimedia.org/wikipedia/commons/thumb/9/9e/Barrio_de_Casa_de_Campo_%2891%29%2C_Madrid.svg/140px-Barrio_de_Casa_de_Campo_%2891%29%2C_Madrid.svg.png 2x\" width=\"70\"/></a>\n</td></tr>\n<tr>\n<td align=\"center\">92\n</td>\n<td align=\"center\"><a href=\"/wiki/Arg%C3%BCelles_(Madrid)\" title=\"Argüelles (Madrid)\">Argüelles</a>\n</td>\n<td align=\"center\"><a class=\"image\" href=\"/wiki/File:Barrio_de_Arg%C3%BCelles_(92),_Madrid.svg\"><img alt=\"Barrio de Argüelles (92), Madrid.svg\" data-file-height=\"2557\" data-file-width=\"3126\" decoding=\"async\" height=\"57\" src=\"//upload.wikimedia.org/wikipedia/commons/thumb/9/95/Barrio_de_Arg%C3%BCelles_%2892%29%2C_Madrid.svg/70px-Barrio_de_Arg%C3%BCelles_%2892%29%2C_Madrid.svg.png\" srcset=\"//upload.wikimedia.org/wikipedia/commons/thumb/9/95/Barrio_de_Arg%C3%BCelles_%2892%29%2C_Madrid.svg/105px-Barrio_de_Arg%C3%BCelles_%2892%29%2C_Madrid.svg.png 1.5x, //upload.wikimedia.org/wikipedia/commons/thumb/9/95/Barrio_de_Arg%C3%BCelles_%2892%29%2C_Madrid.svg/140px-Barrio_de_Arg%C3%BCelles_%2892%29%2C_Madrid.svg.png 2x\" width=\"70\"/></a>\n</td></tr>\n<tr>\n<td align=\"center\">93\n</td>\n<td align=\"center\"><a href=\"/wiki/Ciudad_Universitaria_(Madrid)\" title=\"Ciudad Universitaria (Madrid)\">Ciudad Universitaria</a>\n</td>\n<td align=\"center\"><a class=\"image\" href=\"/wiki/File:Barrio_de_Ciudad_Universitaria_(93),_Madrid.svg\"><img alt=\"Barrio de Ciudad Universitaria (93), Madrid.svg\" data-file-height=\"2557\" data-file-width=\"3126\" decoding=\"async\" height=\"57\" src=\"//upload.wikimedia.org/wikipedia/commons/thumb/c/cc/Barrio_de_Ciudad_Universitaria_%2893%29%2C_Madrid.svg/70px-Barrio_de_Ciudad_Universitaria_%2893%29%2C_Madrid.svg.png\" srcset=\"//upload.wikimedia.org/wikipedia/commons/thumb/c/cc/Barrio_de_Ciudad_Universitaria_%2893%29%2C_Madrid.svg/105px-Barrio_de_Ciudad_Universitaria_%2893%29%2C_Madrid.svg.png 1.5x, //upload.wikimedia.org/wikipedia/commons/thumb/c/cc/Barrio_de_Ciudad_Universitaria_%2893%29%2C_Madrid.svg/140px-Barrio_de_Ciudad_Universitaria_%2893%29%2C_Madrid.svg.png 2x\" width=\"70\"/></a>\n</td></tr>\n<tr>\n<td align=\"center\">94\n</td>\n<td align=\"center\"><a href=\"/wiki/Valdezarza\" title=\"Valdezarza\">Valdezarza</a>\n</td>\n<td align=\"center\"><a class=\"image\" href=\"/wiki/File:Barrio_de_Valdezarza_(94),_Madrid.svg\"><img alt=\"Barrio de Valdezarza (94), Madrid.svg\" data-file-height=\"2557\" data-file-width=\"3126\" decoding=\"async\" height=\"57\" src=\"//upload.wikimedia.org/wikipedia/commons/thumb/0/09/Barrio_de_Valdezarza_%2894%29%2C_Madrid.svg/70px-Barrio_de_Valdezarza_%2894%29%2C_Madrid.svg.png\" srcset=\"//upload.wikimedia.org/wikipedia/commons/thumb/0/09/Barrio_de_Valdezarza_%2894%29%2C_Madrid.svg/105px-Barrio_de_Valdezarza_%2894%29%2C_Madrid.svg.png 1.5x, //upload.wikimedia.org/wikipedia/commons/thumb/0/09/Barrio_de_Valdezarza_%2894%29%2C_Madrid.svg/140px-Barrio_de_Valdezarza_%2894%29%2C_Madrid.svg.png 2x\" width=\"70\"/></a>\n</td></tr>\n<tr>\n<td align=\"center\">95\n</td>\n<td align=\"center\"><a href=\"/wiki/Valdemar%C3%ADn\" title=\"Valdemarín\">Valdemarín</a>\n</td>\n<td align=\"center\"><a class=\"image\" href=\"/wiki/File:Barrio_de_Valdemar%C3%ADn_(95),_Madrid.svg\"><img alt=\"Barrio de Valdemarín (95), Madrid.svg\" data-file-height=\"2557\" data-file-width=\"3126\" decoding=\"async\" height=\"57\" src=\"//upload.wikimedia.org/wikipedia/commons/thumb/a/a3/Barrio_de_Valdemar%C3%ADn_%2895%29%2C_Madrid.svg/70px-Barrio_de_Valdemar%C3%ADn_%2895%29%2C_Madrid.svg.png\" srcset=\"//upload.wikimedia.org/wikipedia/commons/thumb/a/a3/Barrio_de_Valdemar%C3%ADn_%2895%29%2C_Madrid.svg/105px-Barrio_de_Valdemar%C3%ADn_%2895%29%2C_Madrid.svg.png 1.5x, //upload.wikimedia.org/wikipedia/commons/thumb/a/a3/Barrio_de_Valdemar%C3%ADn_%2895%29%2C_Madrid.svg/140px-Barrio_de_Valdemar%C3%ADn_%2895%29%2C_Madrid.svg.png 2x\" width=\"70\"/></a>\n</td></tr>\n<tr>\n<td align=\"center\">96\n</td>\n<td align=\"center\"><a href=\"/wiki/El_Plant%C3%ADo\" title=\"El Plantío\">El Plantío</a>\n</td>\n<td align=\"center\"><a class=\"image\" href=\"/wiki/File:Barrio_de_El_Plant%C3%ADo_(96),_Madrid.svg\"><img alt=\"Barrio de El Plantío (96), Madrid.svg\" data-file-height=\"2557\" data-file-width=\"3126\" decoding=\"async\" height=\"57\" src=\"//upload.wikimedia.org/wikipedia/commons/thumb/0/01/Barrio_de_El_Plant%C3%ADo_%2896%29%2C_Madrid.svg/70px-Barrio_de_El_Plant%C3%ADo_%2896%29%2C_Madrid.svg.png\" srcset=\"//upload.wikimedia.org/wikipedia/commons/thumb/0/01/Barrio_de_El_Plant%C3%ADo_%2896%29%2C_Madrid.svg/105px-Barrio_de_El_Plant%C3%ADo_%2896%29%2C_Madrid.svg.png 1.5x, //upload.wikimedia.org/wikipedia/commons/thumb/0/01/Barrio_de_El_Plant%C3%ADo_%2896%29%2C_Madrid.svg/140px-Barrio_de_El_Plant%C3%ADo_%2896%29%2C_Madrid.svg.png 2x\" width=\"70\"/></a>\n</td></tr>\n<tr>\n<td align=\"center\">97\n</td>\n<td align=\"center\"><a href=\"/wiki/Aravaca\" title=\"Aravaca\">Aravaca</a>\n</td>\n<td align=\"center\"><a class=\"image\" href=\"/wiki/File:Barrio_de_Aravaca_(97),_Madrid.svg\"><img alt=\"Barrio de Aravaca (97), Madrid.svg\" data-file-height=\"2557\" data-file-width=\"3126\" decoding=\"async\" height=\"57\" src=\"//upload.wikimedia.org/wikipedia/commons/thumb/4/48/Barrio_de_Aravaca_%2897%29%2C_Madrid.svg/70px-Barrio_de_Aravaca_%2897%29%2C_Madrid.svg.png\" srcset=\"//upload.wikimedia.org/wikipedia/commons/thumb/4/48/Barrio_de_Aravaca_%2897%29%2C_Madrid.svg/105px-Barrio_de_Aravaca_%2897%29%2C_Madrid.svg.png 1.5x, //upload.wikimedia.org/wikipedia/commons/thumb/4/48/Barrio_de_Aravaca_%2897%29%2C_Madrid.svg/140px-Barrio_de_Aravaca_%2897%29%2C_Madrid.svg.png 2x\" width=\"70\"/></a>\n</td></tr>\n<tr>\n<td rowspan=\"7\"><a href=\"/wiki/Latina_(Madrid)\" title=\"Latina (Madrid)\">Latina</a> (10)\n</td>\n<td rowspan=\"7\"><a class=\"image\" href=\"/wiki/File:Latina_District_loc-map.svg\"><img alt=\"Latina District loc-map.svg\" data-file-height=\"527\" data-file-width=\"527\" decoding=\"async\" height=\"200\" src=\"//upload.wikimedia.org/wikipedia/commons/thumb/b/b3/Latina_District_loc-map.svg/200px-Latina_District_loc-map.svg.png\" srcset=\"//upload.wikimedia.org/wikipedia/commons/thumb/b/b3/Latina_District_loc-map.svg/300px-Latina_District_loc-map.svg.png 1.5x, //upload.wikimedia.org/wikipedia/commons/thumb/b/b3/Latina_District_loc-map.svg/400px-Latina_District_loc-map.svg.png 2x\" width=\"200\"/></a>\n</td>\n<td align=\"center\">101\n</td>\n<td align=\"center\"><a href=\"/wiki/Los_C%C3%A1rmenes\" title=\"Los Cármenes\">Los Cármenes</a>\n</td>\n<td align=\"center\"><a class=\"image\" href=\"/wiki/File:Barrio_de_Los_C%C3%A1rmenes_(101),_Madrid.svg\"><img alt=\"Barrio de Los Cármenes (101), Madrid.svg\" data-file-height=\"1882\" data-file-width=\"2728\" decoding=\"async\" height=\"48\" src=\"//upload.wikimedia.org/wikipedia/commons/thumb/c/cd/Barrio_de_Los_C%C3%A1rmenes_%28101%29%2C_Madrid.svg/70px-Barrio_de_Los_C%C3%A1rmenes_%28101%29%2C_Madrid.svg.png\" srcset=\"//upload.wikimedia.org/wikipedia/commons/thumb/c/cd/Barrio_de_Los_C%C3%A1rmenes_%28101%29%2C_Madrid.svg/105px-Barrio_de_Los_C%C3%A1rmenes_%28101%29%2C_Madrid.svg.png 1.5x, //upload.wikimedia.org/wikipedia/commons/thumb/c/cd/Barrio_de_Los_C%C3%A1rmenes_%28101%29%2C_Madrid.svg/140px-Barrio_de_Los_C%C3%A1rmenes_%28101%29%2C_Madrid.svg.png 2x\" width=\"70\"/></a>\n</td></tr>\n<tr>\n<td align=\"center\">102\n</td>\n<td align=\"center\"><a class=\"mw-redirect\" href=\"/wiki/Barrio_de_Puerta_del_%C3%81ngel\" title=\"Barrio de Puerta del Ángel\">Puerta del Ángel</a>\n</td>\n<td align=\"center\"><a class=\"image\" href=\"/wiki/File:Barrio_de_Puerta_del_%C3%81ngel_(102),_Madrid.svg\"><img alt=\"Barrio de Puerta del Ángel (102), Madrid.svg\" data-file-height=\"1882\" data-file-width=\"2728\" decoding=\"async\" height=\"48\" src=\"//upload.wikimedia.org/wikipedia/commons/thumb/9/9d/Barrio_de_Puerta_del_%C3%81ngel_%28102%29%2C_Madrid.svg/70px-Barrio_de_Puerta_del_%C3%81ngel_%28102%29%2C_Madrid.svg.png\" srcset=\"//upload.wikimedia.org/wikipedia/commons/thumb/9/9d/Barrio_de_Puerta_del_%C3%81ngel_%28102%29%2C_Madrid.svg/105px-Barrio_de_Puerta_del_%C3%81ngel_%28102%29%2C_Madrid.svg.png 1.5x, //upload.wikimedia.org/wikipedia/commons/thumb/9/9d/Barrio_de_Puerta_del_%C3%81ngel_%28102%29%2C_Madrid.svg/140px-Barrio_de_Puerta_del_%C3%81ngel_%28102%29%2C_Madrid.svg.png 2x\" width=\"70\"/></a>\n</td></tr>\n<tr>\n<td align=\"center\">103\n</td>\n<td align=\"center\"><a href=\"/wiki/Lucero_(Madrid)\" title=\"Lucero (Madrid)\">Lucero</a>\n</td>\n<td align=\"center\"><a class=\"image\" href=\"/wiki/File:Barrio_de_Lucero_(103),_Madrid.svg\"><img alt=\"Barrio de Lucero (103), Madrid.svg\" data-file-height=\"1882\" data-file-width=\"2728\" decoding=\"async\" height=\"48\" src=\"//upload.wikimedia.org/wikipedia/commons/thumb/9/9e/Barrio_de_Lucero_%28103%29%2C_Madrid.svg/70px-Barrio_de_Lucero_%28103%29%2C_Madrid.svg.png\" srcset=\"//upload.wikimedia.org/wikipedia/commons/thumb/9/9e/Barrio_de_Lucero_%28103%29%2C_Madrid.svg/105px-Barrio_de_Lucero_%28103%29%2C_Madrid.svg.png 1.5x, //upload.wikimedia.org/wikipedia/commons/thumb/9/9e/Barrio_de_Lucero_%28103%29%2C_Madrid.svg/140px-Barrio_de_Lucero_%28103%29%2C_Madrid.svg.png 2x\" width=\"70\"/></a>\n</td></tr>\n<tr>\n<td align=\"center\">104\n</td>\n<td align=\"center\"><a href=\"/wiki/Aluche\" title=\"Aluche\">Aluche</a>\n</td>\n<td align=\"center\"><a class=\"image\" href=\"/wiki/File:Barrio_de_Aluche_(104),_Madrid.svg\"><img alt=\"Barrio de Aluche (104), Madrid.svg\" data-file-height=\"1882\" data-file-width=\"2728\" decoding=\"async\" height=\"48\" src=\"//upload.wikimedia.org/wikipedia/commons/thumb/0/04/Barrio_de_Aluche_%28104%29%2C_Madrid.svg/70px-Barrio_de_Aluche_%28104%29%2C_Madrid.svg.png\" srcset=\"//upload.wikimedia.org/wikipedia/commons/thumb/0/04/Barrio_de_Aluche_%28104%29%2C_Madrid.svg/105px-Barrio_de_Aluche_%28104%29%2C_Madrid.svg.png 1.5x, //upload.wikimedia.org/wikipedia/commons/thumb/0/04/Barrio_de_Aluche_%28104%29%2C_Madrid.svg/140px-Barrio_de_Aluche_%28104%29%2C_Madrid.svg.png 2x\" width=\"70\"/></a>\n</td></tr>\n<tr>\n<td align=\"center\">105\n</td>\n<td align=\"center\"><a href=\"/wiki/Campamento_(Madrid)\" title=\"Campamento (Madrid)\">Campamento</a>\n</td>\n<td align=\"center\"><a class=\"image\" href=\"/wiki/File:Barrio_de_Campamento_(105),_Madrid.svg\"><img alt=\"Barrio de Campamento (105), Madrid.svg\" data-file-height=\"1882\" data-file-width=\"2728\" decoding=\"async\" height=\"48\" src=\"//upload.wikimedia.org/wikipedia/commons/thumb/1/18/Barrio_de_Campamento_%28105%29%2C_Madrid.svg/70px-Barrio_de_Campamento_%28105%29%2C_Madrid.svg.png\" srcset=\"//upload.wikimedia.org/wikipedia/commons/thumb/1/18/Barrio_de_Campamento_%28105%29%2C_Madrid.svg/105px-Barrio_de_Campamento_%28105%29%2C_Madrid.svg.png 1.5x, //upload.wikimedia.org/wikipedia/commons/thumb/1/18/Barrio_de_Campamento_%28105%29%2C_Madrid.svg/140px-Barrio_de_Campamento_%28105%29%2C_Madrid.svg.png 2x\" width=\"70\"/></a>\n</td></tr>\n<tr>\n<td align=\"center\">106\n</td>\n<td align=\"center\"><a class=\"mw-redirect\" href=\"/wiki/Cuatro_Vientos_(Madrid)\" title=\"Cuatro Vientos (Madrid)\">Cuatro Vientos</a>\n</td>\n<td align=\"center\"><a class=\"image\" href=\"/wiki/File:Barrio_de_Cuatro_Vientos_(106),_Madrid.svg\"><img alt=\"Barrio de Cuatro Vientos (106), Madrid.svg\" data-file-height=\"1882\" data-file-width=\"2728\" decoding=\"async\" height=\"48\" src=\"//upload.wikimedia.org/wikipedia/commons/thumb/8/85/Barrio_de_Cuatro_Vientos_%28106%29%2C_Madrid.svg/70px-Barrio_de_Cuatro_Vientos_%28106%29%2C_Madrid.svg.png\" srcset=\"//upload.wikimedia.org/wikipedia/commons/thumb/8/85/Barrio_de_Cuatro_Vientos_%28106%29%2C_Madrid.svg/105px-Barrio_de_Cuatro_Vientos_%28106%29%2C_Madrid.svg.png 1.5x, //upload.wikimedia.org/wikipedia/commons/thumb/8/85/Barrio_de_Cuatro_Vientos_%28106%29%2C_Madrid.svg/140px-Barrio_de_Cuatro_Vientos_%28106%29%2C_Madrid.svg.png 2x\" width=\"70\"/></a>\n</td></tr>\n<tr>\n<td align=\"center\">107\n</td>\n<td align=\"center\"><a href=\"/wiki/Las_%C3%81guilas\" title=\"Las Águilas\">Las Águilas</a>\n</td>\n<td align=\"center\"><a class=\"image\" href=\"/wiki/File:Barrio_de_Las_%C3%81guilas_(107),_Madrid.svg\"><img alt=\"Barrio de Las Águilas (107), Madrid.svg\" data-file-height=\"1882\" data-file-width=\"2728\" decoding=\"async\" height=\"48\" src=\"//upload.wikimedia.org/wikipedia/commons/thumb/f/f7/Barrio_de_Las_%C3%81guilas_%28107%29%2C_Madrid.svg/70px-Barrio_de_Las_%C3%81guilas_%28107%29%2C_Madrid.svg.png\" srcset=\"//upload.wikimedia.org/wikipedia/commons/thumb/f/f7/Barrio_de_Las_%C3%81guilas_%28107%29%2C_Madrid.svg/105px-Barrio_de_Las_%C3%81guilas_%28107%29%2C_Madrid.svg.png 1.5x, //upload.wikimedia.org/wikipedia/commons/thumb/f/f7/Barrio_de_Las_%C3%81guilas_%28107%29%2C_Madrid.svg/140px-Barrio_de_Las_%C3%81guilas_%28107%29%2C_Madrid.svg.png 2x\" width=\"70\"/></a>\n</td></tr>\n<tr>\n<td rowspan=\"7\"><a href=\"/wiki/Carabanchel\" title=\"Carabanchel\">Carabanchel</a> (11)\n</td>\n<td rowspan=\"7\"><a class=\"image\" href=\"/wiki/File:Carabanchel_District_loc-map.svg\"><img alt=\"Carabanchel District loc-map.svg\" data-file-height=\"527\" data-file-width=\"527\" decoding=\"async\" height=\"200\" src=\"//upload.wikimedia.org/wikipedia/commons/thumb/8/8b/Carabanchel_District_loc-map.svg/200px-Carabanchel_District_loc-map.svg.png\" srcset=\"//upload.wikimedia.org/wikipedia/commons/thumb/8/8b/Carabanchel_District_loc-map.svg/300px-Carabanchel_District_loc-map.svg.png 1.5x, //upload.wikimedia.org/wikipedia/commons/thumb/8/8b/Carabanchel_District_loc-map.svg/400px-Carabanchel_District_loc-map.svg.png 2x\" width=\"200\"/></a>\n</td>\n<td align=\"center\">111\n</td>\n<td align=\"center\"><a href=\"/wiki/Comillas_(Madrid)\" title=\"Comillas (Madrid)\">Comillas</a>\n</td>\n<td align=\"center\"><a class=\"image\" href=\"/wiki/File:Barrio_de_Comillas_(111),_Madrid.svg\"><img alt=\"Barrio de Comillas (111), Madrid.svg\" data-file-height=\"1590\" data-file-width=\"1654\" decoding=\"async\" height=\"67\" src=\"//upload.wikimedia.org/wikipedia/commons/thumb/d/d7/Barrio_de_Comillas_%28111%29%2C_Madrid.svg/70px-Barrio_de_Comillas_%28111%29%2C_Madrid.svg.png\" srcset=\"//upload.wikimedia.org/wikipedia/commons/thumb/d/d7/Barrio_de_Comillas_%28111%29%2C_Madrid.svg/105px-Barrio_de_Comillas_%28111%29%2C_Madrid.svg.png 1.5x, //upload.wikimedia.org/wikipedia/commons/thumb/d/d7/Barrio_de_Comillas_%28111%29%2C_Madrid.svg/140px-Barrio_de_Comillas_%28111%29%2C_Madrid.svg.png 2x\" width=\"70\"/></a>\n</td></tr>\n<tr>\n<td align=\"center\">112\n</td>\n<td align=\"center\"><a href=\"/wiki/Opa%C3%B1el\" title=\"Opañel\">Opañel</a>\n</td>\n<td align=\"center\"><a class=\"image\" href=\"/wiki/File:Barrio_de_Opa%C3%B1el_(112),_Madrid.svg\"><img alt=\"Barrio de Opañel (112), Madrid.svg\" data-file-height=\"1590\" data-file-width=\"1654\" decoding=\"async\" height=\"67\" src=\"//upload.wikimedia.org/wikipedia/commons/thumb/8/82/Barrio_de_Opa%C3%B1el_%28112%29%2C_Madrid.svg/70px-Barrio_de_Opa%C3%B1el_%28112%29%2C_Madrid.svg.png\" srcset=\"//upload.wikimedia.org/wikipedia/commons/thumb/8/82/Barrio_de_Opa%C3%B1el_%28112%29%2C_Madrid.svg/105px-Barrio_de_Opa%C3%B1el_%28112%29%2C_Madrid.svg.png 1.5x, //upload.wikimedia.org/wikipedia/commons/thumb/8/82/Barrio_de_Opa%C3%B1el_%28112%29%2C_Madrid.svg/140px-Barrio_de_Opa%C3%B1el_%28112%29%2C_Madrid.svg.png 2x\" width=\"70\"/></a>\n</td></tr>\n<tr>\n<td align=\"center\">113\n</td>\n<td align=\"center\"><a class=\"mw-redirect\" href=\"/wiki/Barrio_de_San_Isidro_(Madrid)\" title=\"Barrio de San Isidro (Madrid)\">San Isidro</a>\n</td>\n<td align=\"center\"><a class=\"image\" href=\"/wiki/File:Barrio_de_San_Isidro_(113),_Madrid.svg\"><img alt=\"Barrio de San Isidro (113), Madrid.svg\" data-file-height=\"1590\" data-file-width=\"1654\" decoding=\"async\" height=\"67\" src=\"//upload.wikimedia.org/wikipedia/commons/thumb/f/ff/Barrio_de_San_Isidro_%28113%29%2C_Madrid.svg/70px-Barrio_de_San_Isidro_%28113%29%2C_Madrid.svg.png\" srcset=\"//upload.wikimedia.org/wikipedia/commons/thumb/f/ff/Barrio_de_San_Isidro_%28113%29%2C_Madrid.svg/105px-Barrio_de_San_Isidro_%28113%29%2C_Madrid.svg.png 1.5x, //upload.wikimedia.org/wikipedia/commons/thumb/f/ff/Barrio_de_San_Isidro_%28113%29%2C_Madrid.svg/140px-Barrio_de_San_Isidro_%28113%29%2C_Madrid.svg.png 2x\" width=\"70\"/></a>\n</td></tr>\n<tr>\n<td align=\"center\">114\n</td>\n<td align=\"center\"><a href=\"/wiki/Vista_Alegre_(Madrid)\" title=\"Vista Alegre (Madrid)\">Vista Alegre</a>\n</td>\n<td align=\"center\"><a class=\"image\" href=\"/wiki/File:Barrio_de_Vista_Alegre_(114),_Madrid.svg\"><img alt=\"Barrio de Vista Alegre (114), Madrid.svg\" data-file-height=\"1590\" data-file-width=\"1654\" decoding=\"async\" height=\"67\" src=\"//upload.wikimedia.org/wikipedia/commons/thumb/7/7a/Barrio_de_Vista_Alegre_%28114%29%2C_Madrid.svg/70px-Barrio_de_Vista_Alegre_%28114%29%2C_Madrid.svg.png\" srcset=\"//upload.wikimedia.org/wikipedia/commons/thumb/7/7a/Barrio_de_Vista_Alegre_%28114%29%2C_Madrid.svg/105px-Barrio_de_Vista_Alegre_%28114%29%2C_Madrid.svg.png 1.5x, //upload.wikimedia.org/wikipedia/commons/thumb/7/7a/Barrio_de_Vista_Alegre_%28114%29%2C_Madrid.svg/140px-Barrio_de_Vista_Alegre_%28114%29%2C_Madrid.svg.png 2x\" width=\"70\"/></a>\n</td></tr>\n<tr>\n<td align=\"center\">115\n</td>\n<td align=\"center\"><a class=\"mw-redirect\" href=\"/wiki/Barrio_de_Puerta_Bonita\" title=\"Barrio de Puerta Bonita\">Puerta Bonita</a>\n</td>\n<td align=\"center\"><a class=\"image\" href=\"/wiki/File:Barrio_de_Puerta_Bonita_(115),_Madrid.svg\"><img alt=\"Barrio de Puerta Bonita (115), Madrid.svg\" data-file-height=\"1590\" data-file-width=\"1654\" decoding=\"async\" height=\"67\" src=\"//upload.wikimedia.org/wikipedia/commons/thumb/e/e1/Barrio_de_Puerta_Bonita_%28115%29%2C_Madrid.svg/70px-Barrio_de_Puerta_Bonita_%28115%29%2C_Madrid.svg.png\" srcset=\"//upload.wikimedia.org/wikipedia/commons/thumb/e/e1/Barrio_de_Puerta_Bonita_%28115%29%2C_Madrid.svg/105px-Barrio_de_Puerta_Bonita_%28115%29%2C_Madrid.svg.png 1.5x, //upload.wikimedia.org/wikipedia/commons/thumb/e/e1/Barrio_de_Puerta_Bonita_%28115%29%2C_Madrid.svg/140px-Barrio_de_Puerta_Bonita_%28115%29%2C_Madrid.svg.png 2x\" width=\"70\"/></a>\n</td></tr>\n<tr>\n<td align=\"center\">116\n</td>\n<td align=\"center\"><a href=\"/wiki/Buenavista_(Madrid)\" title=\"Buenavista (Madrid)\">Buenavista</a>\n</td>\n<td align=\"center\"><a class=\"image\" href=\"/wiki/File:Barrio_de_Buenavista_(116),_Madrid.svg\"><img alt=\"Barrio de Buenavista (116), Madrid.svg\" data-file-height=\"1590\" data-file-width=\"1654\" decoding=\"async\" height=\"67\" src=\"//upload.wikimedia.org/wikipedia/commons/thumb/5/55/Barrio_de_Buenavista_%28116%29%2C_Madrid.svg/70px-Barrio_de_Buenavista_%28116%29%2C_Madrid.svg.png\" srcset=\"//upload.wikimedia.org/wikipedia/commons/thumb/5/55/Barrio_de_Buenavista_%28116%29%2C_Madrid.svg/105px-Barrio_de_Buenavista_%28116%29%2C_Madrid.svg.png 1.5x, //upload.wikimedia.org/wikipedia/commons/thumb/5/55/Barrio_de_Buenavista_%28116%29%2C_Madrid.svg/140px-Barrio_de_Buenavista_%28116%29%2C_Madrid.svg.png 2x\" width=\"70\"/></a>\n</td></tr>\n<tr>\n<td align=\"center\">117\n</td>\n<td align=\"center\"><a href=\"/wiki/Abrantes_(Madrid)\" title=\"Abrantes (Madrid)\">Abrantes</a>\n</td>\n<td align=\"center\"><a class=\"image\" href=\"/wiki/File:Barrio_de_Abrantes_(117),_Madrid.svg\"><img alt=\"Barrio de Abrantes (117), Madrid.svg\" data-file-height=\"1590\" data-file-width=\"1654\" decoding=\"async\" height=\"67\" src=\"//upload.wikimedia.org/wikipedia/commons/thumb/a/ae/Barrio_de_Abrantes_%28117%29%2C_Madrid.svg/70px-Barrio_de_Abrantes_%28117%29%2C_Madrid.svg.png\" srcset=\"//upload.wikimedia.org/wikipedia/commons/thumb/a/ae/Barrio_de_Abrantes_%28117%29%2C_Madrid.svg/105px-Barrio_de_Abrantes_%28117%29%2C_Madrid.svg.png 1.5x, //upload.wikimedia.org/wikipedia/commons/thumb/a/ae/Barrio_de_Abrantes_%28117%29%2C_Madrid.svg/140px-Barrio_de_Abrantes_%28117%29%2C_Madrid.svg.png 2x\" width=\"70\"/></a>\n</td></tr>\n<tr>\n<td rowspan=\"7\"><a href=\"/wiki/Usera\" title=\"Usera\">Usera</a> (12)\n</td>\n<td rowspan=\"7\"><a class=\"image\" href=\"/wiki/File:Usera_District_loc-map.svg\"><img alt=\"Usera District loc-map.svg\" data-file-height=\"527\" data-file-width=\"527\" decoding=\"async\" height=\"200\" src=\"//upload.wikimedia.org/wikipedia/commons/thumb/8/89/Usera_District_loc-map.svg/200px-Usera_District_loc-map.svg.png\" srcset=\"//upload.wikimedia.org/wikipedia/commons/thumb/8/89/Usera_District_loc-map.svg/300px-Usera_District_loc-map.svg.png 1.5x, //upload.wikimedia.org/wikipedia/commons/thumb/8/89/Usera_District_loc-map.svg/400px-Usera_District_loc-map.svg.png 2x\" width=\"200\"/></a>\n</td>\n<td align=\"center\">121\n</td>\n<td align=\"center\"><a href=\"/wiki/Orcasitas\" title=\"Orcasitas\">Orcasitas</a>\n</td>\n<td align=\"center\"><a class=\"image\" href=\"/wiki/File:Barrio_de_Orcasitas_(121),_Madrid.svg\"><img alt=\"Barrio de Orcasitas (121), Madrid.svg\" data-file-height=\"1124\" data-file-width=\"1009\" decoding=\"async\" height=\"78\" src=\"//upload.wikimedia.org/wikipedia/commons/thumb/2/2c/Barrio_de_Orcasitas_%28121%29%2C_Madrid.svg/70px-Barrio_de_Orcasitas_%28121%29%2C_Madrid.svg.png\" srcset=\"//upload.wikimedia.org/wikipedia/commons/thumb/2/2c/Barrio_de_Orcasitas_%28121%29%2C_Madrid.svg/105px-Barrio_de_Orcasitas_%28121%29%2C_Madrid.svg.png 1.5x, //upload.wikimedia.org/wikipedia/commons/thumb/2/2c/Barrio_de_Orcasitas_%28121%29%2C_Madrid.svg/140px-Barrio_de_Orcasitas_%28121%29%2C_Madrid.svg.png 2x\" width=\"70\"/></a>\n</td></tr>\n<tr>\n<td align=\"center\">122\n</td>\n<td align=\"center\"><a href=\"/wiki/Orcasur\" title=\"Orcasur\">Orcasur</a>\n</td>\n<td align=\"center\"><a class=\"image\" href=\"/wiki/File:Barrio_de_Orcasur_(122),_Madrid.svg\"><img alt=\"Barrio de Orcasur (122), Madrid.svg\" data-file-height=\"1124\" data-file-width=\"1009\" decoding=\"async\" height=\"78\" src=\"//upload.wikimedia.org/wikipedia/commons/thumb/d/d1/Barrio_de_Orcasur_%28122%29%2C_Madrid.svg/70px-Barrio_de_Orcasur_%28122%29%2C_Madrid.svg.png\" srcset=\"//upload.wikimedia.org/wikipedia/commons/thumb/d/d1/Barrio_de_Orcasur_%28122%29%2C_Madrid.svg/105px-Barrio_de_Orcasur_%28122%29%2C_Madrid.svg.png 1.5x, //upload.wikimedia.org/wikipedia/commons/thumb/d/d1/Barrio_de_Orcasur_%28122%29%2C_Madrid.svg/140px-Barrio_de_Orcasur_%28122%29%2C_Madrid.svg.png 2x\" width=\"70\"/></a>\n</td></tr>\n<tr>\n<td align=\"center\">123\n</td>\n<td align=\"center\"><a href=\"/wiki/San_Ferm%C3%ADn_(Madrid)\" title=\"San Fermín (Madrid)\">San Fermín</a>\n</td>\n<td align=\"center\"><a class=\"image\" href=\"/wiki/File:Barrio_de_San_Ferm%C3%ADn_(123),_Madrid.svg\"><img alt=\"Barrio de San Fermín (123), Madrid.svg\" data-file-height=\"1124\" data-file-width=\"1009\" decoding=\"async\" height=\"78\" src=\"//upload.wikimedia.org/wikipedia/commons/thumb/9/92/Barrio_de_San_Ferm%C3%ADn_%28123%29%2C_Madrid.svg/70px-Barrio_de_San_Ferm%C3%ADn_%28123%29%2C_Madrid.svg.png\" srcset=\"//upload.wikimedia.org/wikipedia/commons/thumb/9/92/Barrio_de_San_Ferm%C3%ADn_%28123%29%2C_Madrid.svg/105px-Barrio_de_San_Ferm%C3%ADn_%28123%29%2C_Madrid.svg.png 1.5x, //upload.wikimedia.org/wikipedia/commons/thumb/9/92/Barrio_de_San_Ferm%C3%ADn_%28123%29%2C_Madrid.svg/140px-Barrio_de_San_Ferm%C3%ADn_%28123%29%2C_Madrid.svg.png 2x\" width=\"70\"/></a>\n</td></tr>\n<tr>\n<td align=\"center\">124\n</td>\n<td align=\"center\"><a href=\"/wiki/Almendrales\" title=\"Almendrales\">Almendrales</a>\n</td>\n<td align=\"center\"><a class=\"image\" href=\"/wiki/File:Barrio_de_Almendrales_(124),_Madrid.svg\"><img alt=\"Barrio de Almendrales (124), Madrid.svg\" data-file-height=\"1124\" data-file-width=\"1009\" decoding=\"async\" height=\"78\" src=\"//upload.wikimedia.org/wikipedia/commons/thumb/5/5a/Barrio_de_Almendrales_%28124%29%2C_Madrid.svg/70px-Barrio_de_Almendrales_%28124%29%2C_Madrid.svg.png\" srcset=\"//upload.wikimedia.org/wikipedia/commons/thumb/5/5a/Barrio_de_Almendrales_%28124%29%2C_Madrid.svg/105px-Barrio_de_Almendrales_%28124%29%2C_Madrid.svg.png 1.5x, //upload.wikimedia.org/wikipedia/commons/thumb/5/5a/Barrio_de_Almendrales_%28124%29%2C_Madrid.svg/140px-Barrio_de_Almendrales_%28124%29%2C_Madrid.svg.png 2x\" width=\"70\"/></a>\n</td></tr>\n<tr>\n<td align=\"center\">125\n</td>\n<td align=\"center\"><a class=\"mw-redirect\" href=\"/wiki/Moscard%C3%B3_(Madrid)\" title=\"Moscardó (Madrid)\">Moscardó</a>\n</td>\n<td align=\"center\"><a class=\"image\" href=\"/wiki/File:Barrio_de_Moscard%C3%B3_(125),_Madrid.svg\"><img alt=\"Barrio de Moscardó (125), Madrid.svg\" data-file-height=\"1124\" data-file-width=\"1009\" decoding=\"async\" height=\"78\" src=\"//upload.wikimedia.org/wikipedia/commons/thumb/d/dc/Barrio_de_Moscard%C3%B3_%28125%29%2C_Madrid.svg/70px-Barrio_de_Moscard%C3%B3_%28125%29%2C_Madrid.svg.png\" srcset=\"//upload.wikimedia.org/wikipedia/commons/thumb/d/dc/Barrio_de_Moscard%C3%B3_%28125%29%2C_Madrid.svg/105px-Barrio_de_Moscard%C3%B3_%28125%29%2C_Madrid.svg.png 1.5x, //upload.wikimedia.org/wikipedia/commons/thumb/d/dc/Barrio_de_Moscard%C3%B3_%28125%29%2C_Madrid.svg/140px-Barrio_de_Moscard%C3%B3_%28125%29%2C_Madrid.svg.png 2x\" width=\"70\"/></a>\n</td></tr>\n<tr>\n<td align=\"center\">126\n</td>\n<td align=\"center\"><a href=\"/wiki/El_Zof%C3%ADo\" title=\"El Zofío\">Zofío</a>\n</td>\n<td align=\"center\"><a class=\"image\" href=\"/wiki/File:Barrio_de_Zof%C3%ADo_(126),_Madrid.svg\"><img alt=\"Barrio de Zofío (126), Madrid.svg\" data-file-height=\"1124\" data-file-width=\"1009\" decoding=\"async\" height=\"78\" src=\"//upload.wikimedia.org/wikipedia/commons/thumb/5/5c/Barrio_de_Zof%C3%ADo_%28126%29%2C_Madrid.svg/70px-Barrio_de_Zof%C3%ADo_%28126%29%2C_Madrid.svg.png\" srcset=\"//upload.wikimedia.org/wikipedia/commons/thumb/5/5c/Barrio_de_Zof%C3%ADo_%28126%29%2C_Madrid.svg/105px-Barrio_de_Zof%C3%ADo_%28126%29%2C_Madrid.svg.png 1.5x, //upload.wikimedia.org/wikipedia/commons/thumb/5/5c/Barrio_de_Zof%C3%ADo_%28126%29%2C_Madrid.svg/140px-Barrio_de_Zof%C3%ADo_%28126%29%2C_Madrid.svg.png 2x\" width=\"70\"/></a>\n</td></tr>\n<tr>\n<td align=\"center\">127\n</td>\n<td align=\"center\"><a class=\"mw-redirect\" href=\"/wiki/Pradolongo_(Madrid)\" title=\"Pradolongo (Madrid)\">Pradolongo</a>\n</td>\n<td align=\"center\"><a class=\"image\" href=\"/wiki/File:Barrio_de_Pradolongo_(127),_Madrid.svg\"><img alt=\"Barrio de Pradolongo (127), Madrid.svg\" data-file-height=\"1124\" data-file-width=\"1009\" decoding=\"async\" height=\"78\" src=\"//upload.wikimedia.org/wikipedia/commons/thumb/e/e4/Barrio_de_Pradolongo_%28127%29%2C_Madrid.svg/70px-Barrio_de_Pradolongo_%28127%29%2C_Madrid.svg.png\" srcset=\"//upload.wikimedia.org/wikipedia/commons/thumb/e/e4/Barrio_de_Pradolongo_%28127%29%2C_Madrid.svg/105px-Barrio_de_Pradolongo_%28127%29%2C_Madrid.svg.png 1.5x, //upload.wikimedia.org/wikipedia/commons/thumb/e/e4/Barrio_de_Pradolongo_%28127%29%2C_Madrid.svg/140px-Barrio_de_Pradolongo_%28127%29%2C_Madrid.svg.png 2x\" width=\"70\"/></a>\n</td></tr>\n<tr>\n<td rowspan=\"6\"><a href=\"/wiki/Puente_de_Vallecas\" title=\"Puente de Vallecas\">Puente de Vallecas</a> (13)\n</td>\n<td rowspan=\"6\"><a class=\"image\" href=\"/wiki/File:Puente_de_Vallecas_District_loc-map.svg\"><img alt=\"Puente de Vallecas District loc-map.svg\" data-file-height=\"527\" data-file-width=\"527\" decoding=\"async\" height=\"200\" src=\"//upload.wikimedia.org/wikipedia/commons/thumb/6/6d/Puente_de_Vallecas_District_loc-map.svg/200px-Puente_de_Vallecas_District_loc-map.svg.png\" srcset=\"//upload.wikimedia.org/wikipedia/commons/thumb/6/6d/Puente_de_Vallecas_District_loc-map.svg/300px-Puente_de_Vallecas_District_loc-map.svg.png 1.5x, //upload.wikimedia.org/wikipedia/commons/thumb/6/6d/Puente_de_Vallecas_District_loc-map.svg/400px-Puente_de_Vallecas_District_loc-map.svg.png 2x\" width=\"200\"/></a>\n</td>\n<td align=\"center\">131\n</td>\n<td align=\"center\"><a href=\"/wiki/Entrev%C3%ADas\" title=\"Entrevías\">Entrevías</a>\n</td>\n<td align=\"center\"><a class=\"image\" href=\"/wiki/File:Barrio_de_Entrev%C3%ADas_(131),_Madrid.svg\"><img alt=\"Barrio de Entrevías (131), Madrid.svg\" data-file-height=\"1481\" data-file-width=\"1677\" decoding=\"async\" height=\"62\" src=\"//upload.wikimedia.org/wikipedia/commons/thumb/9/92/Barrio_de_Entrev%C3%ADas_%28131%29%2C_Madrid.svg/70px-Barrio_de_Entrev%C3%ADas_%28131%29%2C_Madrid.svg.png\" srcset=\"//upload.wikimedia.org/wikipedia/commons/thumb/9/92/Barrio_de_Entrev%C3%ADas_%28131%29%2C_Madrid.svg/105px-Barrio_de_Entrev%C3%ADas_%28131%29%2C_Madrid.svg.png 1.5x, //upload.wikimedia.org/wikipedia/commons/thumb/9/92/Barrio_de_Entrev%C3%ADas_%28131%29%2C_Madrid.svg/140px-Barrio_de_Entrev%C3%ADas_%28131%29%2C_Madrid.svg.png 2x\" width=\"70\"/></a>\n</td></tr>\n<tr>\n<td align=\"center\">132\n</td>\n<td align=\"center\"><a href=\"/wiki/San_Diego_(Madrid)\" title=\"San Diego (Madrid)\">San Diego</a>\n</td>\n<td align=\"center\"><a class=\"image\" href=\"/wiki/File:Barrio_de_San_Diego_(132),_Madrid.svg\"><img alt=\"Barrio de San Diego (132), Madrid.svg\" data-file-height=\"1481\" data-file-width=\"1677\" decoding=\"async\" height=\"62\" src=\"//upload.wikimedia.org/wikipedia/commons/thumb/a/a2/Barrio_de_San_Diego_%28132%29%2C_Madrid.svg/70px-Barrio_de_San_Diego_%28132%29%2C_Madrid.svg.png\" srcset=\"//upload.wikimedia.org/wikipedia/commons/thumb/a/a2/Barrio_de_San_Diego_%28132%29%2C_Madrid.svg/105px-Barrio_de_San_Diego_%28132%29%2C_Madrid.svg.png 1.5x, //upload.wikimedia.org/wikipedia/commons/thumb/a/a2/Barrio_de_San_Diego_%28132%29%2C_Madrid.svg/140px-Barrio_de_San_Diego_%28132%29%2C_Madrid.svg.png 2x\" width=\"70\"/></a>\n</td></tr>\n<tr>\n<td align=\"center\">133\n</td>\n<td align=\"center\"><a href=\"/wiki/Palomeras_Bajas\" title=\"Palomeras Bajas\">Palomeras Bajas</a>\n</td>\n<td align=\"center\"><a class=\"image\" href=\"/wiki/File:Barrio_de_Palomeras_Bajas_(133),_Madrid.svg\"><img alt=\"Barrio de Palomeras Bajas (133), Madrid.svg\" data-file-height=\"1481\" data-file-width=\"1677\" decoding=\"async\" height=\"62\" src=\"//upload.wikimedia.org/wikipedia/commons/thumb/f/f5/Barrio_de_Palomeras_Bajas_%28133%29%2C_Madrid.svg/70px-Barrio_de_Palomeras_Bajas_%28133%29%2C_Madrid.svg.png\" srcset=\"//upload.wikimedia.org/wikipedia/commons/thumb/f/f5/Barrio_de_Palomeras_Bajas_%28133%29%2C_Madrid.svg/105px-Barrio_de_Palomeras_Bajas_%28133%29%2C_Madrid.svg.png 1.5x, //upload.wikimedia.org/wikipedia/commons/thumb/f/f5/Barrio_de_Palomeras_Bajas_%28133%29%2C_Madrid.svg/140px-Barrio_de_Palomeras_Bajas_%28133%29%2C_Madrid.svg.png 2x\" width=\"70\"/></a>\n</td></tr>\n<tr>\n<td align=\"center\">134\n</td>\n<td align=\"center\"><a href=\"/wiki/Palomeras_Sureste\" title=\"Palomeras Sureste\">Palomeras Sureste</a>\n</td>\n<td align=\"center\"><a class=\"image\" href=\"/wiki/File:Barrio_de_Palomeras_Sureste_(134),_Madrid.svg\"><img alt=\"Barrio de Palomeras Sureste (134), Madrid.svg\" data-file-height=\"1481\" data-file-width=\"1677\" decoding=\"async\" height=\"62\" src=\"//upload.wikimedia.org/wikipedia/commons/thumb/d/d9/Barrio_de_Palomeras_Sureste_%28134%29%2C_Madrid.svg/70px-Barrio_de_Palomeras_Sureste_%28134%29%2C_Madrid.svg.png\" srcset=\"//upload.wikimedia.org/wikipedia/commons/thumb/d/d9/Barrio_de_Palomeras_Sureste_%28134%29%2C_Madrid.svg/105px-Barrio_de_Palomeras_Sureste_%28134%29%2C_Madrid.svg.png 1.5x, //upload.wikimedia.org/wikipedia/commons/thumb/d/d9/Barrio_de_Palomeras_Sureste_%28134%29%2C_Madrid.svg/140px-Barrio_de_Palomeras_Sureste_%28134%29%2C_Madrid.svg.png 2x\" width=\"70\"/></a>\n</td></tr>\n<tr>\n<td align=\"center\">135\n</td>\n<td align=\"center\"><a href=\"/wiki/Portazgo_(Madrid)\" title=\"Portazgo (Madrid)\">Portazgo</a>\n</td>\n<td align=\"center\"><a class=\"image\" href=\"/wiki/File:Barrio_de_Portazgo_(135),_Madrid.svg\"><img alt=\"Barrio de Portazgo (135), Madrid.svg\" data-file-height=\"1481\" data-file-width=\"1677\" decoding=\"async\" height=\"62\" src=\"//upload.wikimedia.org/wikipedia/commons/thumb/5/54/Barrio_de_Portazgo_%28135%29%2C_Madrid.svg/70px-Barrio_de_Portazgo_%28135%29%2C_Madrid.svg.png\" srcset=\"//upload.wikimedia.org/wikipedia/commons/thumb/5/54/Barrio_de_Portazgo_%28135%29%2C_Madrid.svg/105px-Barrio_de_Portazgo_%28135%29%2C_Madrid.svg.png 1.5x, //upload.wikimedia.org/wikipedia/commons/thumb/5/54/Barrio_de_Portazgo_%28135%29%2C_Madrid.svg/140px-Barrio_de_Portazgo_%28135%29%2C_Madrid.svg.png 2x\" width=\"70\"/></a>\n</td></tr>\n<tr>\n<td align=\"center\">136\n</td>\n<td align=\"center\"><a href=\"/wiki/Numancia_(Madrid)\" title=\"Numancia (Madrid)\">Numancia</a>\n</td>\n<td align=\"center\"><a class=\"image\" href=\"/wiki/File:Barrio_de_Numancia_(136),_Madrid.svg\"><img alt=\"Barrio de Numancia (136), Madrid.svg\" data-file-height=\"1481\" data-file-width=\"1677\" decoding=\"async\" height=\"62\" src=\"//upload.wikimedia.org/wikipedia/commons/thumb/2/2c/Barrio_de_Numancia_%28136%29%2C_Madrid.svg/70px-Barrio_de_Numancia_%28136%29%2C_Madrid.svg.png\" srcset=\"//upload.wikimedia.org/wikipedia/commons/thumb/2/2c/Barrio_de_Numancia_%28136%29%2C_Madrid.svg/105px-Barrio_de_Numancia_%28136%29%2C_Madrid.svg.png 1.5x, //upload.wikimedia.org/wikipedia/commons/thumb/2/2c/Barrio_de_Numancia_%28136%29%2C_Madrid.svg/140px-Barrio_de_Numancia_%28136%29%2C_Madrid.svg.png 2x\" width=\"70\"/></a>\n</td></tr>\n<tr>\n<td rowspan=\"6\"><a href=\"/wiki/Moratalaz\" title=\"Moratalaz\">Moratalaz</a> (14)\n</td>\n<td rowspan=\"6\"><a class=\"image\" href=\"/wiki/File:Moratalaz_District_loc-map.svg\"><img alt=\"Moratalaz District loc-map.svg\" data-file-height=\"527\" data-file-width=\"527\" decoding=\"async\" height=\"200\" src=\"//upload.wikimedia.org/wikipedia/commons/thumb/a/a6/Moratalaz_District_loc-map.svg/200px-Moratalaz_District_loc-map.svg.png\" srcset=\"//upload.wikimedia.org/wikipedia/commons/thumb/a/a6/Moratalaz_District_loc-map.svg/300px-Moratalaz_District_loc-map.svg.png 1.5x, //upload.wikimedia.org/wikipedia/commons/thumb/a/a6/Moratalaz_District_loc-map.svg/400px-Moratalaz_District_loc-map.svg.png 2x\" width=\"200\"/></a>\n</td>\n<td align=\"center\">141\n</td>\n<td align=\"center\"><a href=\"/wiki/Pavones\" title=\"Pavones\">Pavones</a>\n</td>\n<td align=\"center\"><a class=\"image\" href=\"/wiki/File:Barrio_de_Pavones_(141),_Madrid.svg\"><img alt=\"Barrio de Pavones (141), Madrid.svg\" data-file-height=\"888\" data-file-width=\"1141\" decoding=\"async\" height=\"54\" src=\"//upload.wikimedia.org/wikipedia/commons/thumb/6/61/Barrio_de_Pavones_%28141%29%2C_Madrid.svg/70px-Barrio_de_Pavones_%28141%29%2C_Madrid.svg.png\" srcset=\"//upload.wikimedia.org/wikipedia/commons/thumb/6/61/Barrio_de_Pavones_%28141%29%2C_Madrid.svg/105px-Barrio_de_Pavones_%28141%29%2C_Madrid.svg.png 1.5x, //upload.wikimedia.org/wikipedia/commons/thumb/6/61/Barrio_de_Pavones_%28141%29%2C_Madrid.svg/140px-Barrio_de_Pavones_%28141%29%2C_Madrid.svg.png 2x\" width=\"70\"/></a>\n</td></tr>\n<tr>\n<td align=\"center\">142\n</td>\n<td align=\"center\"><a href=\"/wiki/Horcajo_(Madrid)\" title=\"Horcajo (Madrid)\">Horcajo</a>\n</td>\n<td align=\"center\"><a class=\"image\" href=\"/wiki/File:Barrio_de_Horcajo_(142),_Madrid.svg\"><img alt=\"Barrio de Horcajo (142), Madrid.svg\" data-file-height=\"888\" data-file-width=\"1141\" decoding=\"async\" height=\"54\" src=\"//upload.wikimedia.org/wikipedia/commons/thumb/2/22/Barrio_de_Horcajo_%28142%29%2C_Madrid.svg/70px-Barrio_de_Horcajo_%28142%29%2C_Madrid.svg.png\" srcset=\"//upload.wikimedia.org/wikipedia/commons/thumb/2/22/Barrio_de_Horcajo_%28142%29%2C_Madrid.svg/105px-Barrio_de_Horcajo_%28142%29%2C_Madrid.svg.png 1.5x, //upload.wikimedia.org/wikipedia/commons/thumb/2/22/Barrio_de_Horcajo_%28142%29%2C_Madrid.svg/140px-Barrio_de_Horcajo_%28142%29%2C_Madrid.svg.png 2x\" width=\"70\"/></a>\n</td></tr>\n<tr>\n<td align=\"center\">143\n</td>\n<td align=\"center\"><a class=\"mw-redirect\" href=\"/wiki/Marroquina_(Madrid)\" title=\"Marroquina (Madrid)\">Marroquina</a>\n</td>\n<td align=\"center\"><a class=\"image\" href=\"/wiki/File:Barrio_de_Marroquina_(143),_Madrid.svg\"><img alt=\"Barrio de Marroquina (143), Madrid.svg\" data-file-height=\"888\" data-file-width=\"1141\" decoding=\"async\" height=\"54\" src=\"//upload.wikimedia.org/wikipedia/commons/thumb/4/49/Barrio_de_Marroquina_%28143%29%2C_Madrid.svg/70px-Barrio_de_Marroquina_%28143%29%2C_Madrid.svg.png\" srcset=\"//upload.wikimedia.org/wikipedia/commons/thumb/4/49/Barrio_de_Marroquina_%28143%29%2C_Madrid.svg/105px-Barrio_de_Marroquina_%28143%29%2C_Madrid.svg.png 1.5x, //upload.wikimedia.org/wikipedia/commons/thumb/4/49/Barrio_de_Marroquina_%28143%29%2C_Madrid.svg/140px-Barrio_de_Marroquina_%28143%29%2C_Madrid.svg.png 2x\" width=\"70\"/></a>\n</td></tr>\n<tr>\n<td align=\"center\">144\n</td>\n<td align=\"center\"><a class=\"mw-redirect\" href=\"/wiki/Media_Legua_(Madrid)\" title=\"Media Legua (Madrid)\">Media Legua</a>\n</td>\n<td align=\"center\"><a class=\"image\" href=\"/wiki/File:Barrio_de_Media_Legua_(144),_Madrid.svg\"><img alt=\"Barrio de Media Legua (144), Madrid.svg\" data-file-height=\"888\" data-file-width=\"1141\" decoding=\"async\" height=\"54\" src=\"//upload.wikimedia.org/wikipedia/commons/thumb/c/c1/Barrio_de_Media_Legua_%28144%29%2C_Madrid.svg/70px-Barrio_de_Media_Legua_%28144%29%2C_Madrid.svg.png\" srcset=\"//upload.wikimedia.org/wikipedia/commons/thumb/c/c1/Barrio_de_Media_Legua_%28144%29%2C_Madrid.svg/105px-Barrio_de_Media_Legua_%28144%29%2C_Madrid.svg.png 1.5x, //upload.wikimedia.org/wikipedia/commons/thumb/c/c1/Barrio_de_Media_Legua_%28144%29%2C_Madrid.svg/140px-Barrio_de_Media_Legua_%28144%29%2C_Madrid.svg.png 2x\" width=\"70\"/></a>\n</td></tr>\n<tr>\n<td align=\"center\">145\n</td>\n<td align=\"center\"><a class=\"mw-redirect\" href=\"/wiki/Fontarr%C3%B3n_(Madrid)\" title=\"Fontarrón (Madrid)\">Fontarrón</a>\n</td>\n<td align=\"center\"><a class=\"image\" href=\"/wiki/File:Barrio_de_Fontarr%C3%B3n_(145),_Madrid.svg\"><img alt=\"Barrio de Fontarrón (145), Madrid.svg\" data-file-height=\"888\" data-file-width=\"1141\" decoding=\"async\" height=\"54\" src=\"//upload.wikimedia.org/wikipedia/commons/thumb/d/db/Barrio_de_Fontarr%C3%B3n_%28145%29%2C_Madrid.svg/70px-Barrio_de_Fontarr%C3%B3n_%28145%29%2C_Madrid.svg.png\" srcset=\"//upload.wikimedia.org/wikipedia/commons/thumb/d/db/Barrio_de_Fontarr%C3%B3n_%28145%29%2C_Madrid.svg/105px-Barrio_de_Fontarr%C3%B3n_%28145%29%2C_Madrid.svg.png 1.5x, //upload.wikimedia.org/wikipedia/commons/thumb/d/db/Barrio_de_Fontarr%C3%B3n_%28145%29%2C_Madrid.svg/140px-Barrio_de_Fontarr%C3%B3n_%28145%29%2C_Madrid.svg.png 2x\" width=\"70\"/></a>\n</td></tr>\n<tr>\n<td align=\"center\">146\n</td>\n<td align=\"center\"><a class=\"mw-redirect\" href=\"/wiki/Vinateros_(Madrid)\" title=\"Vinateros (Madrid)\">Vinateros</a>\n</td>\n<td align=\"center\"><a class=\"image\" href=\"/wiki/File:Barrio_de_Vinateros_(146),_Madrid.svg\"><img alt=\"Barrio de Vinateros (146), Madrid.svg\" data-file-height=\"888\" data-file-width=\"1141\" decoding=\"async\" height=\"54\" src=\"//upload.wikimedia.org/wikipedia/commons/thumb/5/51/Barrio_de_Vinateros_%28146%29%2C_Madrid.svg/70px-Barrio_de_Vinateros_%28146%29%2C_Madrid.svg.png\" srcset=\"//upload.wikimedia.org/wikipedia/commons/thumb/5/51/Barrio_de_Vinateros_%28146%29%2C_Madrid.svg/105px-Barrio_de_Vinateros_%28146%29%2C_Madrid.svg.png 1.5x, //upload.wikimedia.org/wikipedia/commons/thumb/5/51/Barrio_de_Vinateros_%28146%29%2C_Madrid.svg/140px-Barrio_de_Vinateros_%28146%29%2C_Madrid.svg.png 2x\" width=\"70\"/></a>\n</td></tr>\n<tr>\n<td rowspan=\"9\"><a href=\"/wiki/Ciudad_Lineal\" title=\"Ciudad Lineal\">Ciudad Lineal</a> (15)\n</td>\n<td rowspan=\"9\"><a class=\"image\" href=\"/wiki/File:Ciudad_Lineal_District_loc-map.svg\"><img alt=\"Ciudad Lineal District loc-map.svg\" data-file-height=\"527\" data-file-width=\"527\" decoding=\"async\" height=\"200\" src=\"//upload.wikimedia.org/wikipedia/commons/thumb/f/fd/Ciudad_Lineal_District_loc-map.svg/200px-Ciudad_Lineal_District_loc-map.svg.png\" srcset=\"//upload.wikimedia.org/wikipedia/commons/thumb/f/fd/Ciudad_Lineal_District_loc-map.svg/300px-Ciudad_Lineal_District_loc-map.svg.png 1.5x, //upload.wikimedia.org/wikipedia/commons/thumb/f/fd/Ciudad_Lineal_District_loc-map.svg/400px-Ciudad_Lineal_District_loc-map.svg.png 2x\" width=\"200\"/></a>\n</td>\n<td align=\"center\">151\n</td>\n<td align=\"center\"><a href=\"/wiki/Ventas_(Madrid)\" title=\"Ventas (Madrid)\">Ventas</a>\n</td>\n<td align=\"center\"><a class=\"image\" href=\"/wiki/File:Barrio_de_Ventas_(151),_Madrid.svg\"><img alt=\"Barrio de Ventas (151), Madrid.svg\" data-file-height=\"2268\" data-file-width=\"1361\" decoding=\"async\" height=\"117\" src=\"//upload.wikimedia.org/wikipedia/commons/thumb/a/a2/Barrio_de_Ventas_%28151%29%2C_Madrid.svg/70px-Barrio_de_Ventas_%28151%29%2C_Madrid.svg.png\" srcset=\"//upload.wikimedia.org/wikipedia/commons/thumb/a/a2/Barrio_de_Ventas_%28151%29%2C_Madrid.svg/105px-Barrio_de_Ventas_%28151%29%2C_Madrid.svg.png 1.5x, //upload.wikimedia.org/wikipedia/commons/thumb/a/a2/Barrio_de_Ventas_%28151%29%2C_Madrid.svg/140px-Barrio_de_Ventas_%28151%29%2C_Madrid.svg.png 2x\" width=\"70\"/></a>\n</td></tr>\n<tr>\n<td align=\"center\">152\n</td>\n<td align=\"center\"><a href=\"/wiki/Pueblo_Nuevo_(Madrid)\" title=\"Pueblo Nuevo (Madrid)\">Pueblo Nuevo</a>\n</td>\n<td align=\"center\"><a class=\"image\" href=\"/wiki/File:Barrio_de_Pueblo_Nuevo_(152),_Madrid.svg\"><img alt=\"Barrio de Pueblo Nuevo (152), Madrid.svg\" data-file-height=\"2268\" data-file-width=\"1361\" decoding=\"async\" height=\"117\" src=\"//upload.wikimedia.org/wikipedia/commons/thumb/1/15/Barrio_de_Pueblo_Nuevo_%28152%29%2C_Madrid.svg/70px-Barrio_de_Pueblo_Nuevo_%28152%29%2C_Madrid.svg.png\" srcset=\"//upload.wikimedia.org/wikipedia/commons/thumb/1/15/Barrio_de_Pueblo_Nuevo_%28152%29%2C_Madrid.svg/105px-Barrio_de_Pueblo_Nuevo_%28152%29%2C_Madrid.svg.png 1.5x, //upload.wikimedia.org/wikipedia/commons/thumb/1/15/Barrio_de_Pueblo_Nuevo_%28152%29%2C_Madrid.svg/140px-Barrio_de_Pueblo_Nuevo_%28152%29%2C_Madrid.svg.png 2x\" width=\"70\"/></a>\n</td></tr>\n<tr>\n<td align=\"center\">153\n</td>\n<td align=\"center\"><a href=\"/wiki/Quintana_(Madrid)\" title=\"Quintana (Madrid)\">Quintana</a>\n</td>\n<td align=\"center\"><a class=\"image\" href=\"/wiki/File:Barrio_de_Quintana_(153),_Madrid.svg\"><img alt=\"Barrio de Quintana (153), Madrid.svg\" data-file-height=\"2268\" data-file-width=\"1361\" decoding=\"async\" height=\"117\" src=\"//upload.wikimedia.org/wikipedia/commons/thumb/b/bc/Barrio_de_Quintana_%28153%29%2C_Madrid.svg/70px-Barrio_de_Quintana_%28153%29%2C_Madrid.svg.png\" srcset=\"//upload.wikimedia.org/wikipedia/commons/thumb/b/bc/Barrio_de_Quintana_%28153%29%2C_Madrid.svg/105px-Barrio_de_Quintana_%28153%29%2C_Madrid.svg.png 1.5x, //upload.wikimedia.org/wikipedia/commons/thumb/b/bc/Barrio_de_Quintana_%28153%29%2C_Madrid.svg/140px-Barrio_de_Quintana_%28153%29%2C_Madrid.svg.png 2x\" width=\"70\"/></a>\n</td></tr>\n<tr>\n<td align=\"center\">154\n</td>\n<td align=\"center\"><a class=\"mw-redirect\" href=\"/wiki/Barrio_de_la_Concepci%C3%B3n_(Madrid)\" title=\"Barrio de la Concepción (Madrid)\">Concepción</a>\n</td>\n<td align=\"center\"><a class=\"image\" href=\"/wiki/File:Barrio_de_Concepci%C3%B3n_(154),_Madrid.svg\"><img alt=\"Barrio de Concepción (154), Madrid.svg\" data-file-height=\"2268\" data-file-width=\"1361\" decoding=\"async\" height=\"117\" src=\"//upload.wikimedia.org/wikipedia/commons/thumb/4/49/Barrio_de_Concepci%C3%B3n_%28154%29%2C_Madrid.svg/70px-Barrio_de_Concepci%C3%B3n_%28154%29%2C_Madrid.svg.png\" srcset=\"//upload.wikimedia.org/wikipedia/commons/thumb/4/49/Barrio_de_Concepci%C3%B3n_%28154%29%2C_Madrid.svg/105px-Barrio_de_Concepci%C3%B3n_%28154%29%2C_Madrid.svg.png 1.5x, //upload.wikimedia.org/wikipedia/commons/thumb/4/49/Barrio_de_Concepci%C3%B3n_%28154%29%2C_Madrid.svg/140px-Barrio_de_Concepci%C3%B3n_%28154%29%2C_Madrid.svg.png 2x\" width=\"70\"/></a>\n</td></tr>\n<tr>\n<td align=\"center\">155\n</td>\n<td align=\"center\"><a href=\"/wiki/San_Pascual_(Madrid)\" title=\"San Pascual (Madrid)\">San Pascual</a>\n</td>\n<td align=\"center\"><a class=\"image\" href=\"/wiki/File:Barrio_de_San_Pascual_(155),_Madrid.svg\"><img alt=\"Barrio de San Pascual (155), Madrid.svg\" data-file-height=\"2268\" data-file-width=\"1361\" decoding=\"async\" height=\"117\" src=\"//upload.wikimedia.org/wikipedia/commons/thumb/b/b6/Barrio_de_San_Pascual_%28155%29%2C_Madrid.svg/70px-Barrio_de_San_Pascual_%28155%29%2C_Madrid.svg.png\" srcset=\"//upload.wikimedia.org/wikipedia/commons/thumb/b/b6/Barrio_de_San_Pascual_%28155%29%2C_Madrid.svg/105px-Barrio_de_San_Pascual_%28155%29%2C_Madrid.svg.png 1.5x, //upload.wikimedia.org/wikipedia/commons/thumb/b/b6/Barrio_de_San_Pascual_%28155%29%2C_Madrid.svg/140px-Barrio_de_San_Pascual_%28155%29%2C_Madrid.svg.png 2x\" width=\"70\"/></a>\n</td></tr>\n<tr>\n<td align=\"center\">156\n</td>\n<td align=\"center\"><a href=\"/wiki/San_Juan_Bautista_(Madrid)\" title=\"San Juan Bautista (Madrid)\">San Juan Bautista</a>\n</td>\n<td align=\"center\"><a class=\"image\" href=\"/wiki/File:Barrio_de_San_Juan_Bautista_(156),_Madrid.svg\"><img alt=\"Barrio de San Juan Bautista (156), Madrid.svg\" data-file-height=\"2268\" data-file-width=\"1361\" decoding=\"async\" height=\"117\" src=\"//upload.wikimedia.org/wikipedia/commons/thumb/3/3d/Barrio_de_San_Juan_Bautista_%28156%29%2C_Madrid.svg/70px-Barrio_de_San_Juan_Bautista_%28156%29%2C_Madrid.svg.png\" srcset=\"//upload.wikimedia.org/wikipedia/commons/thumb/3/3d/Barrio_de_San_Juan_Bautista_%28156%29%2C_Madrid.svg/105px-Barrio_de_San_Juan_Bautista_%28156%29%2C_Madrid.svg.png 1.5x, //upload.wikimedia.org/wikipedia/commons/thumb/3/3d/Barrio_de_San_Juan_Bautista_%28156%29%2C_Madrid.svg/140px-Barrio_de_San_Juan_Bautista_%28156%29%2C_Madrid.svg.png 2x\" width=\"70\"/></a>\n</td></tr>\n<tr>\n<td align=\"center\">157\n</td>\n<td align=\"center\"><a href=\"/wiki/Colina_(Madrid)\" title=\"Colina (Madrid)\">Colina</a>\n</td>\n<td align=\"center\"><a class=\"image\" href=\"/wiki/File:Barrio_de_Colina_(157),_Madrid.svg\"><img alt=\"Barrio de Colina (157), Madrid.svg\" data-file-height=\"2268\" data-file-width=\"1361\" decoding=\"async\" height=\"117\" src=\"//upload.wikimedia.org/wikipedia/commons/thumb/6/61/Barrio_de_Colina_%28157%29%2C_Madrid.svg/70px-Barrio_de_Colina_%28157%29%2C_Madrid.svg.png\" srcset=\"//upload.wikimedia.org/wikipedia/commons/thumb/6/61/Barrio_de_Colina_%28157%29%2C_Madrid.svg/105px-Barrio_de_Colina_%28157%29%2C_Madrid.svg.png 1.5x, //upload.wikimedia.org/wikipedia/commons/thumb/6/61/Barrio_de_Colina_%28157%29%2C_Madrid.svg/140px-Barrio_de_Colina_%28157%29%2C_Madrid.svg.png 2x\" width=\"70\"/></a>\n</td></tr>\n<tr>\n<td align=\"center\">158\n</td>\n<td align=\"center\"><a href=\"/wiki/Atalaya_(Madrid)\" title=\"Atalaya (Madrid)\">Atalaya</a>\n</td>\n<td align=\"center\"><a class=\"image\" href=\"/wiki/File:Barrio_de_Atalaya_(158),_Madrid.svg\"><img alt=\"Barrio de Atalaya (158), Madrid.svg\" data-file-height=\"2268\" data-file-width=\"1361\" decoding=\"async\" height=\"117\" src=\"//upload.wikimedia.org/wikipedia/commons/thumb/c/c5/Barrio_de_Atalaya_%28158%29%2C_Madrid.svg/70px-Barrio_de_Atalaya_%28158%29%2C_Madrid.svg.png\" srcset=\"//upload.wikimedia.org/wikipedia/commons/thumb/c/c5/Barrio_de_Atalaya_%28158%29%2C_Madrid.svg/105px-Barrio_de_Atalaya_%28158%29%2C_Madrid.svg.png 1.5x, //upload.wikimedia.org/wikipedia/commons/thumb/c/c5/Barrio_de_Atalaya_%28158%29%2C_Madrid.svg/140px-Barrio_de_Atalaya_%28158%29%2C_Madrid.svg.png 2x\" width=\"70\"/></a>\n</td></tr>\n<tr>\n<td align=\"center\">159\n</td>\n<td align=\"center\"><a class=\"mw-redirect\" href=\"/wiki/Pinar_de_Chamart%C3%ADn\" title=\"Pinar de Chamartín\">Costillares</a>\n</td>\n<td align=\"center\"><a class=\"image\" href=\"/wiki/File:Barrio_de_Costillares_(159),_Madrid.svg\"><img alt=\"Barrio de Costillares (159), Madrid.svg\" data-file-height=\"2268\" data-file-width=\"1361\" decoding=\"async\" height=\"117\" src=\"//upload.wikimedia.org/wikipedia/commons/thumb/b/b5/Barrio_de_Costillares_%28159%29%2C_Madrid.svg/70px-Barrio_de_Costillares_%28159%29%2C_Madrid.svg.png\" srcset=\"//upload.wikimedia.org/wikipedia/commons/thumb/b/b5/Barrio_de_Costillares_%28159%29%2C_Madrid.svg/105px-Barrio_de_Costillares_%28159%29%2C_Madrid.svg.png 1.5x, //upload.wikimedia.org/wikipedia/commons/thumb/b/b5/Barrio_de_Costillares_%28159%29%2C_Madrid.svg/140px-Barrio_de_Costillares_%28159%29%2C_Madrid.svg.png 2x\" width=\"70\"/></a>\n</td></tr>\n<tr>\n<td rowspan=\"6\"><a href=\"/wiki/Hortaleza\" title=\"Hortaleza\">Hortaleza</a> (16)\n</td>\n<td rowspan=\"6\"><a class=\"image\" href=\"/wiki/File:Hortaleza_District_loc-map.svg\"><img alt=\"Hortaleza District loc-map.svg\" data-file-height=\"527\" data-file-width=\"527\" decoding=\"async\" height=\"200\" src=\"//upload.wikimedia.org/wikipedia/commons/thumb/9/9b/Hortaleza_District_loc-map.svg/200px-Hortaleza_District_loc-map.svg.png\" srcset=\"//upload.wikimedia.org/wikipedia/commons/thumb/9/9b/Hortaleza_District_loc-map.svg/300px-Hortaleza_District_loc-map.svg.png 1.5x, //upload.wikimedia.org/wikipedia/commons/thumb/9/9b/Hortaleza_District_loc-map.svg/400px-Hortaleza_District_loc-map.svg.png 2x\" width=\"200\"/></a>\n</td>\n<td align=\"center\">161\n</td>\n<td align=\"center\"><a href=\"/wiki/Palomas_(Madrid)\" title=\"Palomas (Madrid)\">Palomas</a>\n</td>\n<td align=\"center\"><a class=\"image\" href=\"/wiki/File:Barrio_de_Palomas_(161),_Madrid.svg\"><img alt=\"Barrio de Palomas (161), Madrid.svg\" data-file-height=\"2070\" data-file-width=\"1807\" decoding=\"async\" height=\"80\" src=\"//upload.wikimedia.org/wikipedia/commons/thumb/e/ee/Barrio_de_Palomas_%28161%29%2C_Madrid.svg/70px-Barrio_de_Palomas_%28161%29%2C_Madrid.svg.png\" srcset=\"//upload.wikimedia.org/wikipedia/commons/thumb/e/ee/Barrio_de_Palomas_%28161%29%2C_Madrid.svg/105px-Barrio_de_Palomas_%28161%29%2C_Madrid.svg.png 1.5x, //upload.wikimedia.org/wikipedia/commons/thumb/e/ee/Barrio_de_Palomas_%28161%29%2C_Madrid.svg/140px-Barrio_de_Palomas_%28161%29%2C_Madrid.svg.png 2x\" width=\"70\"/></a>\n</td></tr>\n<tr>\n<td align=\"center\">162\n</td>\n<td align=\"center\"><a href=\"/wiki/Piovera_(Madrid)\" title=\"Piovera (Madrid)\">Piovera</a>\n</td>\n<td align=\"center\"><a class=\"image\" href=\"/wiki/File:Barrio_de_Piovera_(162),_Madrid.svg\"><img alt=\"Barrio de Piovera (162), Madrid.svg\" data-file-height=\"2070\" data-file-width=\"1807\" decoding=\"async\" height=\"80\" src=\"//upload.wikimedia.org/wikipedia/commons/thumb/1/15/Barrio_de_Piovera_%28162%29%2C_Madrid.svg/70px-Barrio_de_Piovera_%28162%29%2C_Madrid.svg.png\" srcset=\"//upload.wikimedia.org/wikipedia/commons/thumb/1/15/Barrio_de_Piovera_%28162%29%2C_Madrid.svg/105px-Barrio_de_Piovera_%28162%29%2C_Madrid.svg.png 1.5x, //upload.wikimedia.org/wikipedia/commons/thumb/1/15/Barrio_de_Piovera_%28162%29%2C_Madrid.svg/140px-Barrio_de_Piovera_%28162%29%2C_Madrid.svg.png 2x\" width=\"70\"/></a>\n</td></tr>\n<tr>\n<td align=\"center\">163\n</td>\n<td align=\"center\"><a href=\"/wiki/Canillas_(Madrid)\" title=\"Canillas (Madrid)\">Canillas</a>\n</td>\n<td align=\"center\"><a class=\"image\" href=\"/wiki/File:Barrio_de_Canillas_(163),_Madrid.svg\"><img alt=\"Barrio de Canillas (163), Madrid.svg\" data-file-height=\"2070\" data-file-width=\"1807\" decoding=\"async\" height=\"80\" src=\"//upload.wikimedia.org/wikipedia/commons/thumb/3/3d/Barrio_de_Canillas_%28163%29%2C_Madrid.svg/70px-Barrio_de_Canillas_%28163%29%2C_Madrid.svg.png\" srcset=\"//upload.wikimedia.org/wikipedia/commons/thumb/3/3d/Barrio_de_Canillas_%28163%29%2C_Madrid.svg/105px-Barrio_de_Canillas_%28163%29%2C_Madrid.svg.png 1.5x, //upload.wikimedia.org/wikipedia/commons/thumb/3/3d/Barrio_de_Canillas_%28163%29%2C_Madrid.svg/140px-Barrio_de_Canillas_%28163%29%2C_Madrid.svg.png 2x\" width=\"70\"/></a>\n</td></tr>\n<tr>\n<td align=\"center\">164\n</td>\n<td align=\"center\"><a href=\"/wiki/Pinar_del_Rey_(Madrid)\" title=\"Pinar del Rey (Madrid)\">Pinar del Rey</a>\n</td>\n<td align=\"center\"><a class=\"image\" href=\"/wiki/File:Barrio_de_Pinar_del_Rey_(164),_Madrid.svg\"><img alt=\"Barrio de Pinar del Rey (164), Madrid.svg\" data-file-height=\"2070\" data-file-width=\"1807\" decoding=\"async\" height=\"80\" src=\"//upload.wikimedia.org/wikipedia/commons/thumb/0/0c/Barrio_de_Pinar_del_Rey_%28164%29%2C_Madrid.svg/70px-Barrio_de_Pinar_del_Rey_%28164%29%2C_Madrid.svg.png\" srcset=\"//upload.wikimedia.org/wikipedia/commons/thumb/0/0c/Barrio_de_Pinar_del_Rey_%28164%29%2C_Madrid.svg/105px-Barrio_de_Pinar_del_Rey_%28164%29%2C_Madrid.svg.png 1.5x, //upload.wikimedia.org/wikipedia/commons/thumb/0/0c/Barrio_de_Pinar_del_Rey_%28164%29%2C_Madrid.svg/140px-Barrio_de_Pinar_del_Rey_%28164%29%2C_Madrid.svg.png 2x\" width=\"70\"/></a>\n</td></tr>\n<tr>\n<td align=\"center\">165\n</td>\n<td align=\"center\"><a class=\"mw-redirect\" href=\"/wiki/Ap%C3%B3stol_Santiago_(Madrid)\" title=\"Apóstol Santiago (Madrid)\">Apóstol Santiago</a>\n</td>\n<td align=\"center\"><a class=\"image\" href=\"/wiki/File:Barrio_de_Ap%C3%B3stol_Santiago_(165),_Madrid.svg\"><img alt=\"Barrio de Apóstol Santiago (165), Madrid.svg\" data-file-height=\"2070\" data-file-width=\"1807\" decoding=\"async\" height=\"80\" src=\"//upload.wikimedia.org/wikipedia/commons/thumb/9/98/Barrio_de_Ap%C3%B3stol_Santiago_%28165%29%2C_Madrid.svg/70px-Barrio_de_Ap%C3%B3stol_Santiago_%28165%29%2C_Madrid.svg.png\" srcset=\"//upload.wikimedia.org/wikipedia/commons/thumb/9/98/Barrio_de_Ap%C3%B3stol_Santiago_%28165%29%2C_Madrid.svg/105px-Barrio_de_Ap%C3%B3stol_Santiago_%28165%29%2C_Madrid.svg.png 1.5x, //upload.wikimedia.org/wikipedia/commons/thumb/9/98/Barrio_de_Ap%C3%B3stol_Santiago_%28165%29%2C_Madrid.svg/140px-Barrio_de_Ap%C3%B3stol_Santiago_%28165%29%2C_Madrid.svg.png 2x\" width=\"70\"/></a>\n</td></tr>\n<tr>\n<td align=\"center\">166\n</td>\n<td align=\"center\"><a href=\"/wiki/Valdefuentes_(Madrid)\" title=\"Valdefuentes (Madrid)\">Valdefuentes</a>\n</td>\n<td align=\"center\"><a class=\"image\" href=\"/wiki/File:Barrio_de_Valdefuentes_(166),_Madrid.svg\"><img alt=\"Barrio de Valdefuentes (166), Madrid.svg\" data-file-height=\"2070\" data-file-width=\"1807\" decoding=\"async\" height=\"80\" src=\"//upload.wikimedia.org/wikipedia/commons/thumb/4/47/Barrio_de_Valdefuentes_%28166%29%2C_Madrid.svg/70px-Barrio_de_Valdefuentes_%28166%29%2C_Madrid.svg.png\" srcset=\"//upload.wikimedia.org/wikipedia/commons/thumb/4/47/Barrio_de_Valdefuentes_%28166%29%2C_Madrid.svg/105px-Barrio_de_Valdefuentes_%28166%29%2C_Madrid.svg.png 1.5x, //upload.wikimedia.org/wikipedia/commons/thumb/4/47/Barrio_de_Valdefuentes_%28166%29%2C_Madrid.svg/140px-Barrio_de_Valdefuentes_%28166%29%2C_Madrid.svg.png 2x\" width=\"70\"/></a>\n</td></tr>\n<tr>\n<td rowspan=\"5\"><a href=\"/wiki/Villaverde_(Madrid)\" title=\"Villaverde (Madrid)\">Villaverde</a> (17)\n</td>\n<td rowspan=\"5\"><a class=\"image\" href=\"/wiki/File:Villaverde_District_loc-map.svg\"><img alt=\"Villaverde District loc-map.svg\" data-file-height=\"527\" data-file-width=\"527\" decoding=\"async\" height=\"200\" src=\"//upload.wikimedia.org/wikipedia/commons/thumb/2/2b/Villaverde_District_loc-map.svg/200px-Villaverde_District_loc-map.svg.png\" srcset=\"//upload.wikimedia.org/wikipedia/commons/thumb/2/2b/Villaverde_District_loc-map.svg/300px-Villaverde_District_loc-map.svg.png 1.5x, //upload.wikimedia.org/wikipedia/commons/thumb/2/2b/Villaverde_District_loc-map.svg/400px-Villaverde_District_loc-map.svg.png 2x\" width=\"200\"/></a>\n</td>\n<td align=\"center\">171\n</td>\n<td align=\"center\"><a href=\"/wiki/Villaverde_Alto_(Madrid)\" title=\"Villaverde Alto (Madrid)\"> Villaverde Alto</a>\n</td>\n<td align=\"center\"><a class=\"image\" href=\"/wiki/File:Barrio_de_San_Andr%C3%A9s_(171),_Madrid.svg\"><img alt=\"Barrio de San Andrés (171), Madrid.svg\" data-file-height=\"1459\" data-file-width=\"1670\" decoding=\"async\" height=\"61\" src=\"//upload.wikimedia.org/wikipedia/commons/thumb/0/0b/Barrio_de_San_Andr%C3%A9s_%28171%29%2C_Madrid.svg/70px-Barrio_de_San_Andr%C3%A9s_%28171%29%2C_Madrid.svg.png\" srcset=\"//upload.wikimedia.org/wikipedia/commons/thumb/0/0b/Barrio_de_San_Andr%C3%A9s_%28171%29%2C_Madrid.svg/105px-Barrio_de_San_Andr%C3%A9s_%28171%29%2C_Madrid.svg.png 1.5x, //upload.wikimedia.org/wikipedia/commons/thumb/0/0b/Barrio_de_San_Andr%C3%A9s_%28171%29%2C_Madrid.svg/140px-Barrio_de_San_Andr%C3%A9s_%28171%29%2C_Madrid.svg.png 2x\" width=\"70\"/></a>\n</td></tr>\n<tr>\n<td align=\"center\">172\n</td>\n<td align=\"center\"><a href=\"/wiki/San_Crist%C3%B3bal_(Madrid)\" title=\"San Cristóbal (Madrid)\">San Cristóbal</a>\n</td>\n<td align=\"center\"><a class=\"image\" href=\"/wiki/File:Barrio_de_San_Crist%C3%B3bal_(172),_Madrid.svg\"><img alt=\"Barrio de San Cristóbal (172), Madrid.svg\" data-file-height=\"1459\" data-file-width=\"1670\" decoding=\"async\" height=\"61\" src=\"//upload.wikimedia.org/wikipedia/commons/thumb/6/6b/Barrio_de_San_Crist%C3%B3bal_%28172%29%2C_Madrid.svg/70px-Barrio_de_San_Crist%C3%B3bal_%28172%29%2C_Madrid.svg.png\" srcset=\"//upload.wikimedia.org/wikipedia/commons/thumb/6/6b/Barrio_de_San_Crist%C3%B3bal_%28172%29%2C_Madrid.svg/105px-Barrio_de_San_Crist%C3%B3bal_%28172%29%2C_Madrid.svg.png 1.5x, //upload.wikimedia.org/wikipedia/commons/thumb/6/6b/Barrio_de_San_Crist%C3%B3bal_%28172%29%2C_Madrid.svg/140px-Barrio_de_San_Crist%C3%B3bal_%28172%29%2C_Madrid.svg.png 2x\" width=\"70\"/></a>\n</td></tr>\n<tr>\n<td align=\"center\">173\n</td>\n<td align=\"center\"><a href=\"/wiki/Butarque\" title=\"Butarque\">Butarque</a>\n</td>\n<td align=\"center\"><a class=\"image\" href=\"/wiki/File:Barrio_de_Butarque_(173),_Madrid.svg\"><img alt=\"Barrio de Butarque (173), Madrid.svg\" data-file-height=\"1459\" data-file-width=\"1670\" decoding=\"async\" height=\"61\" src=\"//upload.wikimedia.org/wikipedia/commons/thumb/8/81/Barrio_de_Butarque_%28173%29%2C_Madrid.svg/70px-Barrio_de_Butarque_%28173%29%2C_Madrid.svg.png\" srcset=\"//upload.wikimedia.org/wikipedia/commons/thumb/8/81/Barrio_de_Butarque_%28173%29%2C_Madrid.svg/105px-Barrio_de_Butarque_%28173%29%2C_Madrid.svg.png 1.5x, //upload.wikimedia.org/wikipedia/commons/thumb/8/81/Barrio_de_Butarque_%28173%29%2C_Madrid.svg/140px-Barrio_de_Butarque_%28173%29%2C_Madrid.svg.png 2x\" width=\"70\"/></a>\n</td></tr>\n<tr>\n<td align=\"center\">174\n</td>\n<td align=\"center\"><a href=\"/wiki/Los_Rosales_(Madrid)\" title=\"Los Rosales (Madrid)\">Los Rosales</a>\n</td>\n<td align=\"center\"><a class=\"image\" href=\"/wiki/File:Barrio_de_Los_Rosales_(174),_Madrid.svg\"><img alt=\"Barrio de Los Rosales (174), Madrid.svg\" data-file-height=\"1459\" data-file-width=\"1670\" decoding=\"async\" height=\"61\" src=\"//upload.wikimedia.org/wikipedia/commons/thumb/8/8f/Barrio_de_Los_Rosales_%28174%29%2C_Madrid.svg/70px-Barrio_de_Los_Rosales_%28174%29%2C_Madrid.svg.png\" srcset=\"//upload.wikimedia.org/wikipedia/commons/thumb/8/8f/Barrio_de_Los_Rosales_%28174%29%2C_Madrid.svg/105px-Barrio_de_Los_Rosales_%28174%29%2C_Madrid.svg.png 1.5x, //upload.wikimedia.org/wikipedia/commons/thumb/8/8f/Barrio_de_Los_Rosales_%28174%29%2C_Madrid.svg/140px-Barrio_de_Los_Rosales_%28174%29%2C_Madrid.svg.png 2x\" width=\"70\"/></a>\n</td></tr>\n<tr>\n<td align=\"center\">175\n</td>\n<td align=\"center\"><a href=\"/wiki/Los_%C3%81ngeles_(Madrid)\" title=\"Los Ángeles (Madrid)\">Los Ángeles</a>\n</td>\n<td align=\"center\"><a class=\"image\" href=\"/wiki/File:Barrio_de_Los_%C3%81ngeles_(175),_Madrid.svg\"><img alt=\"Barrio de Los Ángeles (175), Madrid.svg\" data-file-height=\"1459\" data-file-width=\"1670\" decoding=\"async\" height=\"61\" src=\"//upload.wikimedia.org/wikipedia/commons/thumb/0/06/Barrio_de_Los_%C3%81ngeles_%28175%29%2C_Madrid.svg/70px-Barrio_de_Los_%C3%81ngeles_%28175%29%2C_Madrid.svg.png\" srcset=\"//upload.wikimedia.org/wikipedia/commons/thumb/0/06/Barrio_de_Los_%C3%81ngeles_%28175%29%2C_Madrid.svg/105px-Barrio_de_Los_%C3%81ngeles_%28175%29%2C_Madrid.svg.png 1.5x, //upload.wikimedia.org/wikipedia/commons/thumb/0/06/Barrio_de_Los_%C3%81ngeles_%28175%29%2C_Madrid.svg/140px-Barrio_de_Los_%C3%81ngeles_%28175%29%2C_Madrid.svg.png 2x\" width=\"70\"/></a>\n</td></tr>\n<tr>\n<td rowspan=\"3\"><a href=\"/wiki/Villa_de_Vallecas\" title=\"Villa de Vallecas\">Villa de Vallecas</a> (18)\n</td>\n<td rowspan=\"3\"><a class=\"image\" href=\"/wiki/File:Villa_de_Vallecas_District_loc-map.svg\"><img alt=\"Villa de Vallecas District loc-map.svg\" data-file-height=\"527\" data-file-width=\"527\" decoding=\"async\" height=\"200\" src=\"//upload.wikimedia.org/wikipedia/commons/thumb/8/82/Villa_de_Vallecas_District_loc-map.svg/200px-Villa_de_Vallecas_District_loc-map.svg.png\" srcset=\"//upload.wikimedia.org/wikipedia/commons/thumb/8/82/Villa_de_Vallecas_District_loc-map.svg/300px-Villa_de_Vallecas_District_loc-map.svg.png 1.5x, //upload.wikimedia.org/wikipedia/commons/thumb/8/82/Villa_de_Vallecas_District_loc-map.svg/400px-Villa_de_Vallecas_District_loc-map.svg.png 2x\" width=\"200\"/></a>\n</td>\n<td align=\"center\">181\n</td>\n<td align=\"center\"><a href=\"/wiki/Casco_Hist%C3%B3rico_de_Vallecas\" title=\"Casco Histórico de Vallecas\">Casco Histórico de Vallecas</a>\n</td>\n<td align=\"center\"><a class=\"image\" href=\"/wiki/File:Barrio_de_Casco_Hist%C3%B3rico_de_Vallecas_(181),_Madrid.svg\"><img alt=\"Barrio de Casco Histórico de Vallecas (181), Madrid.svg\" data-file-height=\"2494\" data-file-width=\"3089\" decoding=\"async\" height=\"57\" src=\"//upload.wikimedia.org/wikipedia/commons/thumb/1/15/Barrio_de_Casco_Hist%C3%B3rico_de_Vallecas_%28181%29%2C_Madrid.svg/70px-Barrio_de_Casco_Hist%C3%B3rico_de_Vallecas_%28181%29%2C_Madrid.svg.png\" srcset=\"//upload.wikimedia.org/wikipedia/commons/thumb/1/15/Barrio_de_Casco_Hist%C3%B3rico_de_Vallecas_%28181%29%2C_Madrid.svg/105px-Barrio_de_Casco_Hist%C3%B3rico_de_Vallecas_%28181%29%2C_Madrid.svg.png 1.5x, //upload.wikimedia.org/wikipedia/commons/thumb/1/15/Barrio_de_Casco_Hist%C3%B3rico_de_Vallecas_%28181%29%2C_Madrid.svg/140px-Barrio_de_Casco_Hist%C3%B3rico_de_Vallecas_%28181%29%2C_Madrid.svg.png 2x\" width=\"70\"/></a>\n</td></tr>\n<tr>\n<td align=\"center\">182\n</td>\n<td align=\"center\"><a href=\"/wiki/Santa_Eugenia_(Madrid)\" title=\"Santa Eugenia (Madrid)\">Santa Eugenia</a>\n</td>\n<td align=\"center\"><a class=\"image\" href=\"/wiki/File:Barrio_de_Santa_Eugenia_(182),_Madrid.svg\"><img alt=\"Barrio de Santa Eugenia (182), Madrid.svg\" data-file-height=\"2494\" data-file-width=\"3089\" decoding=\"async\" height=\"57\" src=\"//upload.wikimedia.org/wikipedia/commons/thumb/b/bd/Barrio_de_Santa_Eugenia_%28182%29%2C_Madrid.svg/70px-Barrio_de_Santa_Eugenia_%28182%29%2C_Madrid.svg.png\" srcset=\"//upload.wikimedia.org/wikipedia/commons/thumb/b/bd/Barrio_de_Santa_Eugenia_%28182%29%2C_Madrid.svg/105px-Barrio_de_Santa_Eugenia_%28182%29%2C_Madrid.svg.png 1.5x, //upload.wikimedia.org/wikipedia/commons/thumb/b/bd/Barrio_de_Santa_Eugenia_%28182%29%2C_Madrid.svg/140px-Barrio_de_Santa_Eugenia_%28182%29%2C_Madrid.svg.png 2x\" width=\"70\"/></a>\n</td></tr>\n<tr>\n<td align=\"center\">183\n</td>\n<td align=\"center\"><a href=\"/wiki/Ensanche_de_Vallecas\" title=\"Ensanche de Vallecas\">Ensanche de Vallecas</a>\n</td>\n<td align=\"center\">[[]]\n</td></tr>\n<tr>\n<td rowspan=\"4\"><a href=\"/wiki/Vic%C3%A1lvaro\" title=\"Vicálvaro\">Vicálvaro</a> (19)\n</td>\n<td rowspan=\"4\"><a class=\"image\" href=\"/wiki/File:Vic%C3%A1lvaro_District_loc-map.svg\"><img alt=\"Vicálvaro District loc-map.svg\" data-file-height=\"527\" data-file-width=\"527\" decoding=\"async\" height=\"200\" src=\"//upload.wikimedia.org/wikipedia/commons/thumb/b/b6/Vic%C3%A1lvaro_District_loc-map.svg/200px-Vic%C3%A1lvaro_District_loc-map.svg.png\" srcset=\"//upload.wikimedia.org/wikipedia/commons/thumb/b/b6/Vic%C3%A1lvaro_District_loc-map.svg/300px-Vic%C3%A1lvaro_District_loc-map.svg.png 1.5x, //upload.wikimedia.org/wikipedia/commons/thumb/b/b6/Vic%C3%A1lvaro_District_loc-map.svg/400px-Vic%C3%A1lvaro_District_loc-map.svg.png 2x\" width=\"200\"/></a>\n</td>\n<td align=\"center\">191\n</td>\n<td align=\"center\"><a href=\"/wiki/Casco_Hist%C3%B3rico_de_Vic%C3%A1lvaro\" title=\"Casco Histórico de Vicálvaro\">Casco Histórico de Vicálvaro</a>\n</td>\n<td align=\"center\"><a class=\"image\" href=\"/wiki/File:Barrio_de_Casco_Hist%C3%B3rico_de_Vic%C3%A1lvaro_(191),_Madrid.svg\"><img alt=\"Barrio de Casco Histórico de Vicálvaro (191), Madrid.svg\" data-file-height=\"2225\" data-file-width=\"2699\" decoding=\"async\" height=\"58\" src=\"//upload.wikimedia.org/wikipedia/commons/thumb/4/4e/Barrio_de_Casco_Hist%C3%B3rico_de_Vic%C3%A1lvaro_%28191%29%2C_Madrid.svg/70px-Barrio_de_Casco_Hist%C3%B3rico_de_Vic%C3%A1lvaro_%28191%29%2C_Madrid.svg.png\" srcset=\"//upload.wikimedia.org/wikipedia/commons/thumb/4/4e/Barrio_de_Casco_Hist%C3%B3rico_de_Vic%C3%A1lvaro_%28191%29%2C_Madrid.svg/105px-Barrio_de_Casco_Hist%C3%B3rico_de_Vic%C3%A1lvaro_%28191%29%2C_Madrid.svg.png 1.5x, //upload.wikimedia.org/wikipedia/commons/thumb/4/4e/Barrio_de_Casco_Hist%C3%B3rico_de_Vic%C3%A1lvaro_%28191%29%2C_Madrid.svg/140px-Barrio_de_Casco_Hist%C3%B3rico_de_Vic%C3%A1lvaro_%28191%29%2C_Madrid.svg.png 2x\" width=\"70\"/></a>\n</td></tr>\n<tr>\n<td align=\"center\">192\n</td>\n<td align=\"center\"><a class=\"mw-redirect\" href=\"/wiki/Valdebernardo_(Madrid)\" title=\"Valdebernardo (Madrid)\">Valdebernardo</a>\n</td>\n<td align=\"center\">[[]]\n</td></tr>\n<tr>\n<td align=\"center\">193\n</td>\n<td align=\"center\"><a href=\"/wiki/Valderrivas\" title=\"Valderrivas\">Valderrivas</a>\n</td>\n<td align=\"center\">[[]]\n</td></tr>\n<tr>\n<td align=\"center\">194\n</td>\n<td align=\"center\"><a href=\"/wiki/El_Ca%C3%B1averal\" title=\"El Cañaveral\">El Cañaveral</a>\n</td>\n<td align=\"center\">[[]]\n</td></tr>\n<tr>\n<td rowspan=\"8\"><a href=\"/wiki/San_Blas-Canillejas\" title=\"San Blas-Canillejas\">San Blas-Canillejas</a> (20)\n</td>\n<td rowspan=\"8\"><a class=\"image\" href=\"/wiki/File:San_Blas_District_loc-map.svg\"><img alt=\"San Blas District loc-map.svg\" data-file-height=\"527\" data-file-width=\"527\" decoding=\"async\" height=\"200\" src=\"//upload.wikimedia.org/wikipedia/commons/thumb/b/ba/San_Blas_District_loc-map.svg/200px-San_Blas_District_loc-map.svg.png\" srcset=\"//upload.wikimedia.org/wikipedia/commons/thumb/b/ba/San_Blas_District_loc-map.svg/300px-San_Blas_District_loc-map.svg.png 1.5x, //upload.wikimedia.org/wikipedia/commons/thumb/b/ba/San_Blas_District_loc-map.svg/400px-San_Blas_District_loc-map.svg.png 2x\" width=\"200\"/></a>\n</td>\n<td align=\"center\">201\n</td>\n<td align=\"center\"><a href=\"/wiki/Simancas_(Madrid)\" title=\"Simancas (Madrid)\">Simancas</a>\n</td>\n<td align=\"center\"><a class=\"image\" href=\"/wiki/File:Barrio_de_Simancas_(201),_Madrid.svg\"><img alt=\"Barrio de Simancas (201), Madrid.svg\" data-file-height=\"1392\" data-file-width=\"2726\" decoding=\"async\" height=\"36\" src=\"//upload.wikimedia.org/wikipedia/commons/thumb/8/80/Barrio_de_Simancas_%28201%29%2C_Madrid.svg/70px-Barrio_de_Simancas_%28201%29%2C_Madrid.svg.png\" srcset=\"//upload.wikimedia.org/wikipedia/commons/thumb/8/80/Barrio_de_Simancas_%28201%29%2C_Madrid.svg/105px-Barrio_de_Simancas_%28201%29%2C_Madrid.svg.png 1.5x, //upload.wikimedia.org/wikipedia/commons/thumb/8/80/Barrio_de_Simancas_%28201%29%2C_Madrid.svg/140px-Barrio_de_Simancas_%28201%29%2C_Madrid.svg.png 2x\" width=\"70\"/></a>\n</td></tr>\n<tr>\n<td align=\"center\">202\n</td>\n<td align=\"center\"><a href=\"/wiki/Hell%C3%ADn_(Madrid)\" title=\"Hellín (Madrid)\">Hellín</a>\n</td>\n<td align=\"center\"><a class=\"image\" href=\"/wiki/File:Barrio_de_Hell%C3%ADn_(202),_Madrid.svg\"><img alt=\"Barrio de Hellín (202), Madrid.svg\" data-file-height=\"1392\" data-file-width=\"2726\" decoding=\"async\" height=\"36\" src=\"//upload.wikimedia.org/wikipedia/commons/thumb/a/a9/Barrio_de_Hell%C3%ADn_%28202%29%2C_Madrid.svg/70px-Barrio_de_Hell%C3%ADn_%28202%29%2C_Madrid.svg.png\" srcset=\"//upload.wikimedia.org/wikipedia/commons/thumb/a/a9/Barrio_de_Hell%C3%ADn_%28202%29%2C_Madrid.svg/105px-Barrio_de_Hell%C3%ADn_%28202%29%2C_Madrid.svg.png 1.5x, //upload.wikimedia.org/wikipedia/commons/thumb/a/a9/Barrio_de_Hell%C3%ADn_%28202%29%2C_Madrid.svg/140px-Barrio_de_Hell%C3%ADn_%28202%29%2C_Madrid.svg.png 2x\" width=\"70\"/></a>\n</td></tr>\n<tr>\n<td align=\"center\">203\n</td>\n<td align=\"center\"><a href=\"/wiki/Amposta_(Madrid)\" title=\"Amposta (Madrid)\">Amposta</a>\n</td>\n<td align=\"center\"><a class=\"image\" href=\"/wiki/File:Barrio_de_Amposta_(203),_Madrid.svg\"><img alt=\"Barrio de Amposta (203), Madrid.svg\" data-file-height=\"1392\" data-file-width=\"2726\" decoding=\"async\" height=\"36\" src=\"//upload.wikimedia.org/wikipedia/commons/thumb/e/ea/Barrio_de_Amposta_%28203%29%2C_Madrid.svg/70px-Barrio_de_Amposta_%28203%29%2C_Madrid.svg.png\" srcset=\"//upload.wikimedia.org/wikipedia/commons/thumb/e/ea/Barrio_de_Amposta_%28203%29%2C_Madrid.svg/105px-Barrio_de_Amposta_%28203%29%2C_Madrid.svg.png 1.5x, //upload.wikimedia.org/wikipedia/commons/thumb/e/ea/Barrio_de_Amposta_%28203%29%2C_Madrid.svg/140px-Barrio_de_Amposta_%28203%29%2C_Madrid.svg.png 2x\" width=\"70\"/></a>\n</td></tr>\n<tr>\n<td align=\"center\">204\n</td>\n<td align=\"center\"><a href=\"/wiki/Arcos_(Madrid)\" title=\"Arcos (Madrid)\">Arcos</a>\n</td>\n<td align=\"center\"><a class=\"image\" href=\"/wiki/File:Barrio_de_Arcos_(204),_Madrid.svg\"><img alt=\"Barrio de Arcos (204), Madrid.svg\" data-file-height=\"1392\" data-file-width=\"2726\" decoding=\"async\" height=\"36\" src=\"//upload.wikimedia.org/wikipedia/commons/thumb/4/41/Barrio_de_Arcos_%28204%29%2C_Madrid.svg/70px-Barrio_de_Arcos_%28204%29%2C_Madrid.svg.png\" srcset=\"//upload.wikimedia.org/wikipedia/commons/thumb/4/41/Barrio_de_Arcos_%28204%29%2C_Madrid.svg/105px-Barrio_de_Arcos_%28204%29%2C_Madrid.svg.png 1.5x, //upload.wikimedia.org/wikipedia/commons/thumb/4/41/Barrio_de_Arcos_%28204%29%2C_Madrid.svg/140px-Barrio_de_Arcos_%28204%29%2C_Madrid.svg.png 2x\" width=\"70\"/></a>\n</td></tr>\n<tr>\n<td align=\"center\">205\n</td>\n<td align=\"center\"><a href=\"/wiki/Rosas_(Madrid)\" title=\"Rosas (Madrid)\">Rosas</a>\n</td>\n<td align=\"center\"><a class=\"image\" href=\"/wiki/File:Barrio_de_Rosas_(205),_Madrid.svg\"><img alt=\"Barrio de Rosas (205), Madrid.svg\" data-file-height=\"1392\" data-file-width=\"2726\" decoding=\"async\" height=\"36\" src=\"//upload.wikimedia.org/wikipedia/commons/thumb/d/d7/Barrio_de_Rosas_%28205%29%2C_Madrid.svg/70px-Barrio_de_Rosas_%28205%29%2C_Madrid.svg.png\" srcset=\"//upload.wikimedia.org/wikipedia/commons/thumb/d/d7/Barrio_de_Rosas_%28205%29%2C_Madrid.svg/105px-Barrio_de_Rosas_%28205%29%2C_Madrid.svg.png 1.5x, //upload.wikimedia.org/wikipedia/commons/thumb/d/d7/Barrio_de_Rosas_%28205%29%2C_Madrid.svg/140px-Barrio_de_Rosas_%28205%29%2C_Madrid.svg.png 2x\" width=\"70\"/></a>\n</td></tr>\n<tr>\n<td align=\"center\">206\n</td>\n<td align=\"center\"><a class=\"mw-redirect\" href=\"/wiki/Rejas_(Madrid)\" title=\"Rejas (Madrid)\">Rejas</a>\n</td>\n<td align=\"center\"><a class=\"image\" href=\"/wiki/File:Barrio_de_Rejas_(206),_Madrid.svg\"><img alt=\"Barrio de Rejas (206), Madrid.svg\" data-file-height=\"1392\" data-file-width=\"2726\" decoding=\"async\" height=\"36\" src=\"//upload.wikimedia.org/wikipedia/commons/thumb/b/bb/Barrio_de_Rejas_%28206%29%2C_Madrid.svg/70px-Barrio_de_Rejas_%28206%29%2C_Madrid.svg.png\" srcset=\"//upload.wikimedia.org/wikipedia/commons/thumb/b/bb/Barrio_de_Rejas_%28206%29%2C_Madrid.svg/105px-Barrio_de_Rejas_%28206%29%2C_Madrid.svg.png 1.5x, //upload.wikimedia.org/wikipedia/commons/thumb/b/bb/Barrio_de_Rejas_%28206%29%2C_Madrid.svg/140px-Barrio_de_Rejas_%28206%29%2C_Madrid.svg.png 2x\" width=\"70\"/></a>\n</td></tr>\n<tr>\n<td align=\"center\">207\n</td>\n<td align=\"center\"><a href=\"/wiki/Canillejas\" title=\"Canillejas\">Canillejas</a>\n</td>\n<td align=\"center\"><a class=\"image\" href=\"/wiki/File:Barrio_de_Canillejas_(207),_Madrid.svg\"><img alt=\"Barrio de Canillejas (207), Madrid.svg\" data-file-height=\"1392\" data-file-width=\"2726\" decoding=\"async\" height=\"36\" src=\"//upload.wikimedia.org/wikipedia/commons/thumb/6/68/Barrio_de_Canillejas_%28207%29%2C_Madrid.svg/70px-Barrio_de_Canillejas_%28207%29%2C_Madrid.svg.png\" srcset=\"//upload.wikimedia.org/wikipedia/commons/thumb/6/68/Barrio_de_Canillejas_%28207%29%2C_Madrid.svg/105px-Barrio_de_Canillejas_%28207%29%2C_Madrid.svg.png 1.5x, //upload.wikimedia.org/wikipedia/commons/thumb/6/68/Barrio_de_Canillejas_%28207%29%2C_Madrid.svg/140px-Barrio_de_Canillejas_%28207%29%2C_Madrid.svg.png 2x\" width=\"70\"/></a>\n</td></tr>\n<tr>\n<td align=\"center\">208\n</td>\n<td align=\"center\"><a class=\"new\" href=\"/w/index.php?title=El_Salvador_(Madrid)&amp;action=edit&amp;redlink=1\" title=\"El Salvador (Madrid) (page does not exist)\">El Salvador</a>\n</td>\n<td align=\"center\"><a class=\"image\" href=\"/wiki/File:Barrio_de_Salvador_(208),_Madrid.svg\"><img alt=\"Barrio de Salvador (208), Madrid.svg\" data-file-height=\"1392\" data-file-width=\"2726\" decoding=\"async\" height=\"36\" src=\"//upload.wikimedia.org/wikipedia/commons/thumb/6/69/Barrio_de_Salvador_%28208%29%2C_Madrid.svg/70px-Barrio_de_Salvador_%28208%29%2C_Madrid.svg.png\" srcset=\"//upload.wikimedia.org/wikipedia/commons/thumb/6/69/Barrio_de_Salvador_%28208%29%2C_Madrid.svg/105px-Barrio_de_Salvador_%28208%29%2C_Madrid.svg.png 1.5x, //upload.wikimedia.org/wikipedia/commons/thumb/6/69/Barrio_de_Salvador_%28208%29%2C_Madrid.svg/140px-Barrio_de_Salvador_%28208%29%2C_Madrid.svg.png 2x\" width=\"70\"/></a>\n</td></tr>\n<tr>\n<td rowspan=\"5\"><a href=\"/wiki/Barajas_(Madrid)\" title=\"Barajas (Madrid)\">Barajas</a> (21)\n</td>\n<td rowspan=\"5\"><a class=\"image\" href=\"/wiki/File:Barajas_District_loc-map.svg\"><img alt=\"Barajas District loc-map.svg\" data-file-height=\"527\" data-file-width=\"527\" decoding=\"async\" height=\"200\" src=\"//upload.wikimedia.org/wikipedia/commons/thumb/e/ed/Barajas_District_loc-map.svg/200px-Barajas_District_loc-map.svg.png\" srcset=\"//upload.wikimedia.org/wikipedia/commons/thumb/e/ed/Barajas_District_loc-map.svg/300px-Barajas_District_loc-map.svg.png 1.5x, //upload.wikimedia.org/wikipedia/commons/thumb/e/ed/Barajas_District_loc-map.svg/400px-Barajas_District_loc-map.svg.png 2x\" width=\"200\"/></a>\n</td>\n<td align=\"center\">211\n</td>\n<td align=\"center\"><a href=\"/wiki/Alameda_de_Osuna\" title=\"Alameda de Osuna\">Alameda de Osuna</a>\n</td>\n<td align=\"center\"><a class=\"image\" href=\"/wiki/File:Barrio_de_Alameda_de_Osuna_(211),_Madrid.svg\"><img alt=\"Barrio de Alameda de Osuna (211), Madrid.svg\" data-file-height=\"2141\" data-file-width=\"2488\" decoding=\"async\" height=\"60\" src=\"//upload.wikimedia.org/wikipedia/commons/thumb/5/56/Barrio_de_Alameda_de_Osuna_%28211%29%2C_Madrid.svg/70px-Barrio_de_Alameda_de_Osuna_%28211%29%2C_Madrid.svg.png\" srcset=\"//upload.wikimedia.org/wikipedia/commons/thumb/5/56/Barrio_de_Alameda_de_Osuna_%28211%29%2C_Madrid.svg/105px-Barrio_de_Alameda_de_Osuna_%28211%29%2C_Madrid.svg.png 1.5x, //upload.wikimedia.org/wikipedia/commons/thumb/5/56/Barrio_de_Alameda_de_Osuna_%28211%29%2C_Madrid.svg/140px-Barrio_de_Alameda_de_Osuna_%28211%29%2C_Madrid.svg.png 2x\" width=\"70\"/></a>\n</td></tr>\n<tr>\n<td align=\"center\">212\n</td>\n<td align=\"center\"><a href=\"/wiki/Aeropuerto_(Madrid)\" title=\"Aeropuerto (Madrid)\">Aeropuerto</a>\n</td>\n<td align=\"center\"><a class=\"image\" href=\"/wiki/File:Barrio_de_Aeropuerto_(212),_Madrid.svg\"><img alt=\"Barrio de Aeropuerto (212), Madrid.svg\" data-file-height=\"2141\" data-file-width=\"2488\" decoding=\"async\" height=\"60\" src=\"//upload.wikimedia.org/wikipedia/commons/thumb/8/84/Barrio_de_Aeropuerto_%28212%29%2C_Madrid.svg/70px-Barrio_de_Aeropuerto_%28212%29%2C_Madrid.svg.png\" srcset=\"//upload.wikimedia.org/wikipedia/commons/thumb/8/84/Barrio_de_Aeropuerto_%28212%29%2C_Madrid.svg/105px-Barrio_de_Aeropuerto_%28212%29%2C_Madrid.svg.png 1.5x, //upload.wikimedia.org/wikipedia/commons/thumb/8/84/Barrio_de_Aeropuerto_%28212%29%2C_Madrid.svg/140px-Barrio_de_Aeropuerto_%28212%29%2C_Madrid.svg.png 2x\" width=\"70\"/></a>\n</td></tr>\n<tr>\n<td align=\"center\">213\n</td>\n<td align=\"center\"><a href=\"/wiki/Casco_Hist%C3%B3rico_de_Barajas\" title=\"Casco Histórico de Barajas\">Casco Histórico de Barajas</a>\n</td>\n<td align=\"center\"><a class=\"image\" href=\"/wiki/File:Barrio_de_Casco_Hist%C3%B3rico_de_Barajas_(213),_Madrid.svg\"><img alt=\"Barrio de Casco Histórico de Barajas (213), Madrid.svg\" data-file-height=\"2141\" data-file-width=\"2488\" decoding=\"async\" height=\"60\" src=\"//upload.wikimedia.org/wikipedia/commons/thumb/9/99/Barrio_de_Casco_Hist%C3%B3rico_de_Barajas_%28213%29%2C_Madrid.svg/70px-Barrio_de_Casco_Hist%C3%B3rico_de_Barajas_%28213%29%2C_Madrid.svg.png\" srcset=\"//upload.wikimedia.org/wikipedia/commons/thumb/9/99/Barrio_de_Casco_Hist%C3%B3rico_de_Barajas_%28213%29%2C_Madrid.svg/105px-Barrio_de_Casco_Hist%C3%B3rico_de_Barajas_%28213%29%2C_Madrid.svg.png 1.5x, //upload.wikimedia.org/wikipedia/commons/thumb/9/99/Barrio_de_Casco_Hist%C3%B3rico_de_Barajas_%28213%29%2C_Madrid.svg/140px-Barrio_de_Casco_Hist%C3%B3rico_de_Barajas_%28213%29%2C_Madrid.svg.png 2x\" width=\"70\"/></a>\n</td></tr>\n<tr>\n<td align=\"center\">214\n</td>\n<td align=\"center\"><a href=\"/wiki/Tim%C3%B3n_(Madrid)\" title=\"Timón (Madrid)\">Timón</a>\n</td>\n<td align=\"center\"><a class=\"image\" href=\"/wiki/File:Barrio_de_Tim%C3%B3n_(214),_Madrid.svg\"><img alt=\"Barrio de Timón (214), Madrid.svg\" data-file-height=\"2141\" data-file-width=\"2488\" decoding=\"async\" height=\"60\" src=\"//upload.wikimedia.org/wikipedia/commons/thumb/7/74/Barrio_de_Tim%C3%B3n_%28214%29%2C_Madrid.svg/70px-Barrio_de_Tim%C3%B3n_%28214%29%2C_Madrid.svg.png\" srcset=\"//upload.wikimedia.org/wikipedia/commons/thumb/7/74/Barrio_de_Tim%C3%B3n_%28214%29%2C_Madrid.svg/105px-Barrio_de_Tim%C3%B3n_%28214%29%2C_Madrid.svg.png 1.5x, //upload.wikimedia.org/wikipedia/commons/thumb/7/74/Barrio_de_Tim%C3%B3n_%28214%29%2C_Madrid.svg/140px-Barrio_de_Tim%C3%B3n_%28214%29%2C_Madrid.svg.png 2x\" width=\"70\"/></a>\n</td></tr>\n<tr>\n<td align=\"center\">215\n</td>\n<td align=\"center\"><a class=\"mw-redirect\" href=\"/wiki/Corralejos_(Madrid)\" title=\"Corralejos (Madrid)\">Corralejos</a>\n</td>\n<td align=\"center\"><a class=\"image\" href=\"/wiki/File:Barrio_de_Corralejos_(215),_Madrid.svg\"><img alt=\"Barrio de Corralejos (215), Madrid.svg\" data-file-height=\"2141\" data-file-width=\"2488\" decoding=\"async\" height=\"60\" src=\"//upload.wikimedia.org/wikipedia/commons/thumb/e/ea/Barrio_de_Corralejos_%28215%29%2C_Madrid.svg/70px-Barrio_de_Corralejos_%28215%29%2C_Madrid.svg.png\" srcset=\"//upload.wikimedia.org/wikipedia/commons/thumb/e/ea/Barrio_de_Corralejos_%28215%29%2C_Madrid.svg/105px-Barrio_de_Corralejos_%28215%29%2C_Madrid.svg.png 1.5x, //upload.wikimedia.org/wikipedia/commons/thumb/e/ea/Barrio_de_Corralejos_%28215%29%2C_Madrid.svg/140px-Barrio_de_Corralejos_%28215%29%2C_Madrid.svg.png 2x\" width=\"70\"/></a>\n</td></tr></tbody></table>"
     },
     "execution_count": 10,
     "metadata": {},
     "output_type": "execute_result"
    }
   ],
   "source": [
    "table # we have the table with the neighborhoods of the city of Madrid"
   ]
  },
  {
   "cell_type": "code",
   "execution_count": 11,
   "metadata": {
    "pycharm": {
     "name": "#%%\n"
    }
   },
   "outputs": [],
   "source": [
    "# Finding the tr tags in the table ( just the header)\n",
    "trs = table.find_all('tr')[0]"
   ]
  },
  {
   "cell_type": "code",
   "execution_count": 12,
   "metadata": {
    "pycharm": {
     "name": "#%%\n"
    }
   },
   "outputs": [
    {
     "data": {
      "text/plain": "<tr>\n<th>District name (number)\n</th>\n<th>District location\n</th>\n<th>Number\n</th>\n<th>Name\n</th>\n<th>Image\n</th></tr>"
     },
     "execution_count": 12,
     "metadata": {},
     "output_type": "execute_result"
    }
   ],
   "source": [
    "trs # we have the header of the table"
   ]
  },
  {
   "cell_type": "code",
   "execution_count": 13,
   "metadata": {
    "pycharm": {
     "name": "#%%\n"
    }
   },
   "outputs": [],
   "source": [
    "# Finding the th tags in the header\n",
    "ths = trs.find_all('th')"
   ]
  },
  {
   "cell_type": "code",
   "execution_count": 14,
   "metadata": {
    "pycharm": {
     "name": "#%%\n"
    }
   },
   "outputs": [
    {
     "name": "stdout",
     "output_type": "stream",
     "text": [
      "[<th>District name (number)\n",
      "</th>, <th>District location\n",
      "</th>, <th>Number\n",
      "</th>, <th>Name\n",
      "</th>, <th>Image\n",
      "</th>]\n"
     ]
    }
   ],
   "source": [
    "print(ths) # we have the header of the table"
   ]
  },
  {
   "cell_type": "code",
   "execution_count": 15,
   "metadata": {
    "pycharm": {
     "name": "#%%\n"
    }
   },
   "outputs": [
    {
     "name": "stdout",
     "output_type": "stream",
     "text": [
      "Number of neighbourhoods: 131\n"
     ]
    }
   ],
   "source": [
    "# Placeholder for list of neighbourhoods\n",
    "neighbourhoods = []\n",
    "\n",
    "# Iterate through the rows of the table\n",
    "# Note: each district has sub-rows of neighbourhoods\n",
    "for row in table.findAll(\"tr\"):\n",
    "    cells = row.findAll('td')\n",
    "\n",
    "    # Parse 1st neighbourhood of the district\n",
    "    if len(cells)==5:\n",
    "        neighbourhoods.append(cells[3].find(text=True).replace('\\n', '').rstrip().lstrip().upper())\n",
    "\n",
    "    # Parse sub-rows (rest of neighbourhoods of the district)\n",
    "    elif len(cells)==3:\n",
    "        neighbourhoods.append(cells[1].find(text=True).replace('\\n', '').rstrip().lstrip().upper())\n",
    "\n",
    "print(f'Number of neighbourhoods: {len(neighbourhoods)}')"
   ]
  },
  {
   "cell_type": "code",
   "execution_count": 16,
   "metadata": {
    "pycharm": {
     "name": "#%%\n"
    }
   },
   "outputs": [
    {
     "data": {
      "text/plain": "['PALACIO',\n 'EMBAJADORES',\n 'CORTES',\n 'JUSTICIA',\n 'UNIVERSIDAD',\n 'SOL',\n 'IMPERIAL',\n 'ACACIAS',\n 'CHOPERA',\n 'LEGAZPI',\n 'DELICIAS',\n 'PALOS DE MOGUER',\n 'ATOCHA',\n 'PACÍFICO',\n 'ADELFAS',\n 'ESTRELLA',\n 'IBIZA',\n 'LOS JERÓNIMOS',\n 'NIÑO JESÚS',\n 'RECOLETOS',\n 'GOYA',\n 'FUENTE DEL BERRO',\n 'GUINDALERA',\n 'LISTA',\n 'CASTELLANA',\n 'EL VISO',\n 'PROSPERIDAD',\n 'CIUDAD JARDÍN',\n 'HISPANOAMÉRICA',\n 'NUEVA ESPAÑA',\n 'CASTILLA',\n 'BELLAS VISTAS',\n 'CUATRO CAMINOS',\n 'CASTILLEJOS',\n 'ALMENARA',\n 'VALDEACEDERAS',\n 'BERRUGUETE',\n 'GAZTAMBIDE',\n 'ARAPILES',\n 'TRAFALGAR',\n 'ALMAGRO',\n 'RÍOS ROSAS',\n 'VALLEHERMOSO',\n 'EL PARDO',\n 'FUENTELARREINA',\n 'PEÑAGRANDE',\n 'PILAR',\n 'LA PAZ',\n 'VALVERDE',\n 'MIRASIERRA',\n 'EL GOLOSO',\n 'CASA DE CAMPO',\n 'ARGÜELLES',\n 'CIUDAD UNIVERSITARIA',\n 'VALDEZARZA',\n 'VALDEMARÍN',\n 'EL PLANTÍO',\n 'ARAVACA',\n 'LOS CÁRMENES',\n 'PUERTA DEL ÁNGEL',\n 'LUCERO',\n 'ALUCHE',\n 'CAMPAMENTO',\n 'CUATRO VIENTOS',\n 'LAS ÁGUILAS',\n 'COMILLAS',\n 'OPAÑEL',\n 'SAN ISIDRO',\n 'VISTA ALEGRE',\n 'PUERTA BONITA',\n 'BUENAVISTA',\n 'ABRANTES',\n 'ORCASITAS',\n 'ORCASUR',\n 'SAN FERMÍN',\n 'ALMENDRALES',\n 'MOSCARDÓ',\n 'ZOFÍO',\n 'PRADOLONGO',\n 'ENTREVÍAS',\n 'SAN DIEGO',\n 'PALOMERAS BAJAS',\n 'PALOMERAS SURESTE',\n 'PORTAZGO',\n 'NUMANCIA',\n 'PAVONES',\n 'HORCAJO',\n 'MARROQUINA',\n 'MEDIA LEGUA',\n 'FONTARRÓN',\n 'VINATEROS',\n 'VENTAS',\n 'PUEBLO NUEVO',\n 'QUINTANA',\n 'CONCEPCIÓN',\n 'SAN PASCUAL',\n 'SAN JUAN BAUTISTA',\n 'COLINA',\n 'ATALAYA',\n 'COSTILLARES',\n 'PALOMAS',\n 'PIOVERA',\n 'CANILLAS',\n 'PINAR DEL REY',\n 'APÓSTOL SANTIAGO',\n 'VALDEFUENTES',\n 'VILLAVERDE ALTO',\n 'SAN CRISTÓBAL',\n 'BUTARQUE',\n 'LOS ROSALES',\n 'LOS ÁNGELES',\n 'CASCO HISTÓRICO DE VALLECAS',\n 'SANTA EUGENIA',\n 'ENSANCHE DE VALLECAS',\n 'CASCO HISTÓRICO DE VICÁLVARO',\n 'VALDEBERNARDO',\n 'VALDERRIVAS',\n 'EL CAÑAVERAL',\n 'SIMANCAS',\n 'HELLÍN',\n 'AMPOSTA',\n 'ARCOS',\n 'ROSAS',\n 'REJAS',\n 'CANILLEJAS',\n 'EL SALVADOR',\n 'ALAMEDA DE OSUNA',\n 'AEROPUERTO',\n 'CASCO HISTÓRICO DE BARAJAS',\n 'TIMÓN',\n 'CORRALEJOS']"
     },
     "execution_count": 16,
     "metadata": {},
     "output_type": "execute_result"
    }
   ],
   "source": [
    "neighbourhoods # we have the list of the neighborhoods of the city of Madrid"
   ]
  },
  {
   "cell_type": "code",
   "execution_count": 17,
   "metadata": {
    "pycharm": {
     "name": "#%%\n"
    }
   },
   "outputs": [],
   "source": [
    "# Creating a dataframe with the neighborhoods of the city of Madrid\n",
    "# ---------------------------------------------------------------------------\n",
    "neighbourhoods_df = pd.DataFrame(neighbourhoods, columns=['Neighbourhood'])"
   ]
  },
  {
   "cell_type": "code",
   "execution_count": 18,
   "metadata": {
    "pycharm": {
     "name": "#%%\n"
    }
   },
   "outputs": [
    {
     "data": {
      "text/plain": "                  Neighbourhood\n0                       PALACIO\n1                   EMBAJADORES\n2                        CORTES\n3                      JUSTICIA\n4                   UNIVERSIDAD\n..                          ...\n126            ALAMEDA DE OSUNA\n127                  AEROPUERTO\n128  CASCO HISTÓRICO DE BARAJAS\n129                       TIMÓN\n130                  CORRALEJOS\n\n[131 rows x 1 columns]",
      "text/html": "<div>\n<style scoped>\n    .dataframe tbody tr th:only-of-type {\n        vertical-align: middle;\n    }\n\n    .dataframe tbody tr th {\n        vertical-align: top;\n    }\n\n    .dataframe thead th {\n        text-align: right;\n    }\n</style>\n<table border=\"1\" class=\"dataframe\">\n  <thead>\n    <tr style=\"text-align: right;\">\n      <th></th>\n      <th>Neighbourhood</th>\n    </tr>\n  </thead>\n  <tbody>\n    <tr>\n      <th>0</th>\n      <td>PALACIO</td>\n    </tr>\n    <tr>\n      <th>1</th>\n      <td>EMBAJADORES</td>\n    </tr>\n    <tr>\n      <th>2</th>\n      <td>CORTES</td>\n    </tr>\n    <tr>\n      <th>3</th>\n      <td>JUSTICIA</td>\n    </tr>\n    <tr>\n      <th>4</th>\n      <td>UNIVERSIDAD</td>\n    </tr>\n    <tr>\n      <th>...</th>\n      <td>...</td>\n    </tr>\n    <tr>\n      <th>126</th>\n      <td>ALAMEDA DE OSUNA</td>\n    </tr>\n    <tr>\n      <th>127</th>\n      <td>AEROPUERTO</td>\n    </tr>\n    <tr>\n      <th>128</th>\n      <td>CASCO HISTÓRICO DE BARAJAS</td>\n    </tr>\n    <tr>\n      <th>129</th>\n      <td>TIMÓN</td>\n    </tr>\n    <tr>\n      <th>130</th>\n      <td>CORRALEJOS</td>\n    </tr>\n  </tbody>\n</table>\n<p>131 rows × 1 columns</p>\n</div>"
     },
     "execution_count": 18,
     "metadata": {},
     "output_type": "execute_result"
    }
   ],
   "source": [
    "neighbourhoods_df # we have the dataframe with the neighborhoods of the city of Madrid"
   ]
  },
  {
   "cell_type": "code",
   "execution_count": 19,
   "outputs": [],
   "source": [
    "# Geocoder fails to locate some of the neighbourhoods correctly and therefore it is necessary\n",
    "# to request the coordinates using a different name for these particular areas.\n",
    "def rename(neighbourhood):\n",
    "    new_name = neighbourhood\n",
    "    if new_name == 'CASCO HISTÓRICO DE VICÁLVARO':\n",
    "        new_name = 'VICÁLVARO'\n",
    "    elif new_name == 'QUINTANA':\n",
    "        new_name = 'PARQUE DE CALERO'\n",
    "    elif new_name == 'BUTARQUE':\n",
    "        new_name = 'VILLAVERDE BAJO'\n",
    "    return new_name\n",
    "\n",
    "# Function that retrieves the geographical coordinates for a given neighborhood\n",
    "def get_coordinates(row):\n",
    "    # initialize variable to None\n",
    "    lat_lng_coords = None\n",
    "\n",
    "    # loop until we get the coordinates\n",
    "    while lat_lng_coords is None:\n",
    "      g = geocoder.arcgis(f'{rename(row[\"Neighbourhood\"])}, Madrid')\n",
    "      lat_lng_coords = g.latlng\n",
    "\n",
    "    # return pair lat,long\n",
    "    return pd.Series([lat_lng_coords[0], lat_lng_coords[1]])"
   ],
   "metadata": {
    "collapsed": false,
    "pycharm": {
     "name": "#%%\n"
    }
   }
  },
  {
   "cell_type": "code",
   "execution_count": 20,
   "outputs": [],
   "source": [
    "neighbourhoods_df[['Latitude', 'Longitude']] = neighbourhoods_df.apply(get_coordinates, axis=1)"
   ],
   "metadata": {
    "collapsed": false,
    "pycharm": {
     "name": "#%%\n"
    }
   }
  },
  {
   "cell_type": "code",
   "execution_count": 21,
   "outputs": [
    {
     "data": {
      "text/plain": "  Neighbourhood  Latitude  Longitude\n0       PALACIO  40.41517   -3.71273\n1   EMBAJADORES  40.40803   -3.70067\n2        CORTES  40.41589   -3.69636\n3      JUSTICIA  40.42479   -3.69308\n4   UNIVERSIDAD  40.42565   -3.70726",
      "text/html": "<div>\n<style scoped>\n    .dataframe tbody tr th:only-of-type {\n        vertical-align: middle;\n    }\n\n    .dataframe tbody tr th {\n        vertical-align: top;\n    }\n\n    .dataframe thead th {\n        text-align: right;\n    }\n</style>\n<table border=\"1\" class=\"dataframe\">\n  <thead>\n    <tr style=\"text-align: right;\">\n      <th></th>\n      <th>Neighbourhood</th>\n      <th>Latitude</th>\n      <th>Longitude</th>\n    </tr>\n  </thead>\n  <tbody>\n    <tr>\n      <th>0</th>\n      <td>PALACIO</td>\n      <td>40.41517</td>\n      <td>-3.71273</td>\n    </tr>\n    <tr>\n      <th>1</th>\n      <td>EMBAJADORES</td>\n      <td>40.40803</td>\n      <td>-3.70067</td>\n    </tr>\n    <tr>\n      <th>2</th>\n      <td>CORTES</td>\n      <td>40.41589</td>\n      <td>-3.69636</td>\n    </tr>\n    <tr>\n      <th>3</th>\n      <td>JUSTICIA</td>\n      <td>40.42479</td>\n      <td>-3.69308</td>\n    </tr>\n    <tr>\n      <th>4</th>\n      <td>UNIVERSIDAD</td>\n      <td>40.42565</td>\n      <td>-3.70726</td>\n    </tr>\n  </tbody>\n</table>\n</div>"
     },
     "execution_count": 21,
     "metadata": {},
     "output_type": "execute_result"
    }
   ],
   "source": [
    "neighbourhoods_df.head() # we have the dataframe with the neighborhoods of the city of Madrid and their coordinates"
   ],
   "metadata": {
    "collapsed": false,
    "pycharm": {
     "name": "#%%\n"
    }
   }
  },
  {
   "cell_type": "code",
   "execution_count": 22,
   "outputs": [
    {
     "data": {
      "text/plain": "(131, 3)"
     },
     "execution_count": 22,
     "metadata": {},
     "output_type": "execute_result"
    }
   ],
   "source": [
    "neighbourhoods_df.shape"
   ],
   "metadata": {
    "collapsed": false,
    "pycharm": {
     "name": "#%%\n"
    }
   }
  },
  {
   "cell_type": "code",
   "execution_count": 23,
   "outputs": [],
   "source": [
    "# Checking null values in the dataframe\n",
    "# ---------------------------------------------------------------------------"
   ],
   "metadata": {
    "collapsed": false,
    "pycharm": {
     "name": "#%%\n"
    }
   }
  },
  {
   "cell_type": "code",
   "execution_count": 24,
   "outputs": [
    {
     "data": {
      "text/plain": "Neighbourhood    0\nLatitude         0\nLongitude        0\ndtype: int64"
     },
     "execution_count": 24,
     "metadata": {},
     "output_type": "execute_result"
    }
   ],
   "source": [
    "neighbourhoods_df.isnull().sum() # we have the number of null values in the dataframe"
   ],
   "metadata": {
    "collapsed": false,
    "pycharm": {
     "name": "#%%\n"
    }
   }
  },
  {
   "cell_type": "code",
   "execution_count": 25,
   "outputs": [],
   "source": [
    "# Visualizing the dataframe\n",
    "# ---------------------------------------------------------------------------"
   ],
   "metadata": {
    "collapsed": false,
    "pycharm": {
     "name": "#%%\n"
    }
   }
  },
  {
   "cell_type": "code",
   "execution_count": 26,
   "outputs": [
    {
     "name": "stdout",
     "output_type": "stream",
     "text": [
      "The geograpical coordinates of Madrid are 40.4167047, -3.7035825\n"
     ]
    }
   ],
   "source": [
    "address = 'Madrid, Spain'\n",
    "geolocator = Nominatim(user_agent=\"madrid_explorer\")\n",
    "location = geolocator.geocode(address)\n",
    "latitude = location.latitude\n",
    "longitude = location.longitude\n",
    "print(f'The geograpical coordinates of Madrid are {latitude}, {longitude}')"
   ],
   "metadata": {
    "collapsed": false,
    "pycharm": {
     "name": "#%%\n"
    }
   }
  },
  {
   "cell_type": "code",
   "execution_count": 27,
   "outputs": [],
   "source": [
    "# Creating a map of the city of Madrid\n",
    "# ---------------------------------------------------------------------------"
   ],
   "metadata": {
    "collapsed": false,
    "pycharm": {
     "name": "#%%\n"
    }
   }
  },
  {
   "cell_type": "code",
   "execution_count": 28,
   "outputs": [],
   "source": [
    "# Creating the map\n",
    "#map = folium.Map(\n",
    "   # location=[latitude, longitude],\n",
    "   # zoom_start=12,\n",
    "    #tiles='Stamen Terrain'\n",
    "#)"
   ],
   "metadata": {
    "collapsed": false,
    "pycharm": {
     "name": "#%%\n"
    }
   }
  },
  {
   "cell_type": "code",
   "execution_count": 29,
   "outputs": [],
   "source": [
    "# Adding the markers to the map\n",
    "# ---------------------------------------------------------------------------"
   ],
   "metadata": {
    "collapsed": false,
    "pycharm": {
     "name": "#%%\n"
    }
   }
  },
  {
   "cell_type": "code",
   "execution_count": 30,
   "outputs": [],
   "source": [
    "#for index, row in neighbourhoods_df.iterrows():\n",
    "   # folium.Marker(\n",
    "       # location=[row['Latitude'], row['Longitude']],\n",
    "        #popup=row['Neighbourhood'],\n",
    "       # icon=folium.Icon(color='red')\n",
    "  #  ).add_to(map)\n"
   ],
   "metadata": {
    "collapsed": false,
    "pycharm": {
     "name": "#%% # Adding the markers to the map\n"
    }
   }
  },
  {
   "cell_type": "code",
   "execution_count": 31,
   "outputs": [],
   "source": [
    "# Saving the map\n",
    "# ---------------------------------------------------------------------------"
   ],
   "metadata": {
    "collapsed": false,
    "pycharm": {
     "name": "#%%\n"
    }
   }
  },
  {
   "cell_type": "code",
   "execution_count": 32,
   "outputs": [],
   "source": [
    "#map.save('madrid_map.html')"
   ],
   "metadata": {
    "collapsed": false,
    "pycharm": {
     "name": "#%% # Saving the map\n"
    }
   }
  },
  {
   "cell_type": "code",
   "execution_count": 33,
   "outputs": [],
   "source": [
    "#map"
   ],
   "metadata": {
    "collapsed": false,
    "pycharm": {
     "name": "#%%\n"
    }
   }
  },
  {
   "cell_type": "code",
   "execution_count": 34,
   "outputs": [],
   "source": [
    "# Spanish accents are not correctly rendered in Folium\n",
    "# to remove them for a better understanding of the map\n",
    "def remove_accents(input_str):\n",
    "    nfkd_form = unicodedata.normalize('NFKD', input_str)\n",
    "    only_ascii = nfkd_form.encode('ASCII', 'ignore')\n",
    "    return only_ascii.decode(\"utf-8\")"
   ],
   "metadata": {
    "collapsed": false,
    "pycharm": {
     "name": "#%%\n"
    }
   }
  },
  {
   "cell_type": "code",
   "execution_count": 35,
   "outputs": [
    {
     "data": {
      "text/plain": "<folium.folium.Map at 0x25bb69fdbe0>",
      "text/html": "<div style=\"width:100%;\"><div style=\"position:relative;width:100%;height:0;padding-bottom:60%;\"><span style=\"color:#565656\">Make this Notebook Trusted to load map: File -> Trust Notebook</span><iframe srcdoc=\"&lt;!DOCTYPE html&gt;\n&lt;head&gt;    \n    &lt;meta http-equiv=&quot;content-type&quot; content=&quot;text/html; charset=UTF-8&quot; /&gt;\n    \n        &lt;script&gt;\n            L_NO_TOUCH = false;\n            L_DISABLE_3D = false;\n        &lt;/script&gt;\n    \n    &lt;style&gt;html, body {width: 100%;height: 100%;margin: 0;padding: 0;}&lt;/style&gt;\n    &lt;style&gt;#map {position:absolute;top:0;bottom:0;right:0;left:0;}&lt;/style&gt;\n    &lt;script src=&quot;https://cdn.jsdelivr.net/npm/leaflet@1.6.0/dist/leaflet.js&quot;&gt;&lt;/script&gt;\n    &lt;script src=&quot;https://code.jquery.com/jquery-1.12.4.min.js&quot;&gt;&lt;/script&gt;\n    &lt;script src=&quot;https://maxcdn.bootstrapcdn.com/bootstrap/3.2.0/js/bootstrap.min.js&quot;&gt;&lt;/script&gt;\n    &lt;script src=&quot;https://cdnjs.cloudflare.com/ajax/libs/Leaflet.awesome-markers/2.0.2/leaflet.awesome-markers.js&quot;&gt;&lt;/script&gt;\n    &lt;link rel=&quot;stylesheet&quot; href=&quot;https://cdn.jsdelivr.net/npm/leaflet@1.6.0/dist/leaflet.css&quot;/&gt;\n    &lt;link rel=&quot;stylesheet&quot; href=&quot;https://maxcdn.bootstrapcdn.com/bootstrap/3.2.0/css/bootstrap.min.css&quot;/&gt;\n    &lt;link rel=&quot;stylesheet&quot; href=&quot;https://maxcdn.bootstrapcdn.com/bootstrap/3.2.0/css/bootstrap-theme.min.css&quot;/&gt;\n    &lt;link rel=&quot;stylesheet&quot; href=&quot;https://maxcdn.bootstrapcdn.com/font-awesome/4.6.3/css/font-awesome.min.css&quot;/&gt;\n    &lt;link rel=&quot;stylesheet&quot; href=&quot;https://cdnjs.cloudflare.com/ajax/libs/Leaflet.awesome-markers/2.0.2/leaflet.awesome-markers.css&quot;/&gt;\n    &lt;link rel=&quot;stylesheet&quot; href=&quot;https://cdn.jsdelivr.net/gh/python-visualization/folium/folium/templates/leaflet.awesome.rotate.min.css&quot;/&gt;\n    \n            &lt;meta name=&quot;viewport&quot; content=&quot;width=device-width,\n                initial-scale=1.0, maximum-scale=1.0, user-scalable=no&quot; /&gt;\n            &lt;style&gt;\n                #map_86b919d8097dd6ebd6548b2906909101 {\n                    position: relative;\n                    width: 100.0%;\n                    height: 100.0%;\n                    left: 0.0%;\n                    top: 0.0%;\n                }\n            &lt;/style&gt;\n        \n&lt;/head&gt;\n&lt;body&gt;    \n    \n            &lt;div class=&quot;folium-map&quot; id=&quot;map_86b919d8097dd6ebd6548b2906909101&quot; &gt;&lt;/div&gt;\n        \n&lt;/body&gt;\n&lt;script&gt;    \n    \n            var map_86b919d8097dd6ebd6548b2906909101 = L.map(\n                &quot;map_86b919d8097dd6ebd6548b2906909101&quot;,\n                {\n                    center: [40.4167047, -3.7035825],\n                    crs: L.CRS.EPSG3857,\n                    zoom: 11,\n                    zoomControl: true,\n                    preferCanvas: false,\n                }\n            );\n\n            \n\n        \n    \n            var tile_layer_7ef3d5b7c51a59290d9163e1c3181a03 = L.tileLayer(\n                &quot;https://{s}.tile.openstreetmap.org/{z}/{x}/{y}.png&quot;,\n                {&quot;attribution&quot;: &quot;Data by \\u0026copy; \\u003ca href=\\&quot;http://openstreetmap.org\\&quot;\\u003eOpenStreetMap\\u003c/a\\u003e, under \\u003ca href=\\&quot;http://www.openstreetmap.org/copyright\\&quot;\\u003eODbL\\u003c/a\\u003e.&quot;, &quot;detectRetina&quot;: false, &quot;maxNativeZoom&quot;: 18, &quot;maxZoom&quot;: 18, &quot;minZoom&quot;: 0, &quot;noWrap&quot;: false, &quot;opacity&quot;: 1, &quot;subdomains&quot;: &quot;abc&quot;, &quot;tms&quot;: false}\n            ).addTo(map_86b919d8097dd6ebd6548b2906909101);\n        \n    \n            var circle_marker_e8a20818dade9aa178d0065762ab900f = L.circleMarker(\n                [40.415170000000046, -3.712729999999965],\n                {&quot;bubblingMouseEvents&quot;: true, &quot;color&quot;: &quot;red&quot;, &quot;dashArray&quot;: null, &quot;dashOffset&quot;: null, &quot;fill&quot;: true, &quot;fillColor&quot;: &quot;#3186cc&quot;, &quot;fillOpacity&quot;: 0.7, &quot;fillRule&quot;: &quot;evenodd&quot;, &quot;lineCap&quot;: &quot;round&quot;, &quot;lineJoin&quot;: &quot;round&quot;, &quot;opacity&quot;: 1.0, &quot;radius&quot;: 5, &quot;stroke&quot;: true, &quot;weight&quot;: 3}\n            ).addTo(map_86b919d8097dd6ebd6548b2906909101);\n        \n    \n        var popup_4a0aa4806ee28c59dd9a413ba902ef0f = L.popup({&quot;maxWidth&quot;: &quot;100%&quot;});\n\n        \n            var html_92aa46a237ab22170da6ed906c1f0d6f = $(`&lt;div id=&quot;html_92aa46a237ab22170da6ed906c1f0d6f&quot; style=&quot;width: 100.0%; height: 100.0%;&quot;&gt;PALACIO&lt;/div&gt;`)[0];\n            popup_4a0aa4806ee28c59dd9a413ba902ef0f.setContent(html_92aa46a237ab22170da6ed906c1f0d6f);\n        \n\n        circle_marker_e8a20818dade9aa178d0065762ab900f.bindPopup(popup_4a0aa4806ee28c59dd9a413ba902ef0f)\n        ;\n\n        \n    \n    \n            var circle_marker_31a69c214aefe1ade2cf861300c44995 = L.circleMarker(\n                [40.40803000000005, -3.7006699999999455],\n                {&quot;bubblingMouseEvents&quot;: true, &quot;color&quot;: &quot;red&quot;, &quot;dashArray&quot;: null, &quot;dashOffset&quot;: null, &quot;fill&quot;: true, &quot;fillColor&quot;: &quot;#3186cc&quot;, &quot;fillOpacity&quot;: 0.7, &quot;fillRule&quot;: &quot;evenodd&quot;, &quot;lineCap&quot;: &quot;round&quot;, &quot;lineJoin&quot;: &quot;round&quot;, &quot;opacity&quot;: 1.0, &quot;radius&quot;: 5, &quot;stroke&quot;: true, &quot;weight&quot;: 3}\n            ).addTo(map_86b919d8097dd6ebd6548b2906909101);\n        \n    \n        var popup_4bb4ce14044a2bae2296f951eb90bdc6 = L.popup({&quot;maxWidth&quot;: &quot;100%&quot;});\n\n        \n            var html_786514f3f6891d2a3dbfdcf2c10cfee7 = $(`&lt;div id=&quot;html_786514f3f6891d2a3dbfdcf2c10cfee7&quot; style=&quot;width: 100.0%; height: 100.0%;&quot;&gt;EMBAJADORES&lt;/div&gt;`)[0];\n            popup_4bb4ce14044a2bae2296f951eb90bdc6.setContent(html_786514f3f6891d2a3dbfdcf2c10cfee7);\n        \n\n        circle_marker_31a69c214aefe1ade2cf861300c44995.bindPopup(popup_4bb4ce14044a2bae2296f951eb90bdc6)\n        ;\n\n        \n    \n    \n            var circle_marker_341f9553b8e720948b84c26d7acae2d6 = L.circleMarker(\n                [40.41589000000005, -3.69635999999997],\n                {&quot;bubblingMouseEvents&quot;: true, &quot;color&quot;: &quot;red&quot;, &quot;dashArray&quot;: null, &quot;dashOffset&quot;: null, &quot;fill&quot;: true, &quot;fillColor&quot;: &quot;#3186cc&quot;, &quot;fillOpacity&quot;: 0.7, &quot;fillRule&quot;: &quot;evenodd&quot;, &quot;lineCap&quot;: &quot;round&quot;, &quot;lineJoin&quot;: &quot;round&quot;, &quot;opacity&quot;: 1.0, &quot;radius&quot;: 5, &quot;stroke&quot;: true, &quot;weight&quot;: 3}\n            ).addTo(map_86b919d8097dd6ebd6548b2906909101);\n        \n    \n        var popup_378048ff401cabd342f5f6e4b26abc6b = L.popup({&quot;maxWidth&quot;: &quot;100%&quot;});\n\n        \n            var html_e8770c92e534139b635d2eaad35778c3 = $(`&lt;div id=&quot;html_e8770c92e534139b635d2eaad35778c3&quot; style=&quot;width: 100.0%; height: 100.0%;&quot;&gt;CORTES&lt;/div&gt;`)[0];\n            popup_378048ff401cabd342f5f6e4b26abc6b.setContent(html_e8770c92e534139b635d2eaad35778c3);\n        \n\n        circle_marker_341f9553b8e720948b84c26d7acae2d6.bindPopup(popup_378048ff401cabd342f5f6e4b26abc6b)\n        ;\n\n        \n    \n    \n            var circle_marker_72303c91c9a4f60b1433dc50a8448777 = L.circleMarker(\n                [40.42479000000003, -3.693079999999952],\n                {&quot;bubblingMouseEvents&quot;: true, &quot;color&quot;: &quot;red&quot;, &quot;dashArray&quot;: null, &quot;dashOffset&quot;: null, &quot;fill&quot;: true, &quot;fillColor&quot;: &quot;#3186cc&quot;, &quot;fillOpacity&quot;: 0.7, &quot;fillRule&quot;: &quot;evenodd&quot;, &quot;lineCap&quot;: &quot;round&quot;, &quot;lineJoin&quot;: &quot;round&quot;, &quot;opacity&quot;: 1.0, &quot;radius&quot;: 5, &quot;stroke&quot;: true, &quot;weight&quot;: 3}\n            ).addTo(map_86b919d8097dd6ebd6548b2906909101);\n        \n    \n        var popup_b23b10fea75bd707b65fb5db424af61c = L.popup({&quot;maxWidth&quot;: &quot;100%&quot;});\n\n        \n            var html_e3eb1f2c6f4a2cbed978bc322f9da8d1 = $(`&lt;div id=&quot;html_e3eb1f2c6f4a2cbed978bc322f9da8d1&quot; style=&quot;width: 100.0%; height: 100.0%;&quot;&gt;JUSTICIA&lt;/div&gt;`)[0];\n            popup_b23b10fea75bd707b65fb5db424af61c.setContent(html_e3eb1f2c6f4a2cbed978bc322f9da8d1);\n        \n\n        circle_marker_72303c91c9a4f60b1433dc50a8448777.bindPopup(popup_b23b10fea75bd707b65fb5db424af61c)\n        ;\n\n        \n    \n    \n            var circle_marker_9996e209a3a77aeec91afe83a56ac7cc = L.circleMarker(\n                [40.425650000000076, -3.7072599999999625],\n                {&quot;bubblingMouseEvents&quot;: true, &quot;color&quot;: &quot;red&quot;, &quot;dashArray&quot;: null, &quot;dashOffset&quot;: null, &quot;fill&quot;: true, &quot;fillColor&quot;: &quot;#3186cc&quot;, &quot;fillOpacity&quot;: 0.7, &quot;fillRule&quot;: &quot;evenodd&quot;, &quot;lineCap&quot;: &quot;round&quot;, &quot;lineJoin&quot;: &quot;round&quot;, &quot;opacity&quot;: 1.0, &quot;radius&quot;: 5, &quot;stroke&quot;: true, &quot;weight&quot;: 3}\n            ).addTo(map_86b919d8097dd6ebd6548b2906909101);\n        \n    \n        var popup_6f250c9334a1ec2899986e4814583715 = L.popup({&quot;maxWidth&quot;: &quot;100%&quot;});\n\n        \n            var html_4aba6515d93b5f6f392a66716117048c = $(`&lt;div id=&quot;html_4aba6515d93b5f6f392a66716117048c&quot; style=&quot;width: 100.0%; height: 100.0%;&quot;&gt;UNIVERSIDAD&lt;/div&gt;`)[0];\n            popup_6f250c9334a1ec2899986e4814583715.setContent(html_4aba6515d93b5f6f392a66716117048c);\n        \n\n        circle_marker_9996e209a3a77aeec91afe83a56ac7cc.bindPopup(popup_6f250c9334a1ec2899986e4814583715)\n        ;\n\n        \n    \n    \n            var circle_marker_69e298e611c85debd23262195a596032 = L.circleMarker(\n                [40.41802000000007, -3.7057699999999727],\n                {&quot;bubblingMouseEvents&quot;: true, &quot;color&quot;: &quot;red&quot;, &quot;dashArray&quot;: null, &quot;dashOffset&quot;: null, &quot;fill&quot;: true, &quot;fillColor&quot;: &quot;#3186cc&quot;, &quot;fillOpacity&quot;: 0.7, &quot;fillRule&quot;: &quot;evenodd&quot;, &quot;lineCap&quot;: &quot;round&quot;, &quot;lineJoin&quot;: &quot;round&quot;, &quot;opacity&quot;: 1.0, &quot;radius&quot;: 5, &quot;stroke&quot;: true, &quot;weight&quot;: 3}\n            ).addTo(map_86b919d8097dd6ebd6548b2906909101);\n        \n    \n        var popup_e55dc87b3f65eddc48e3b584827ddf2f = L.popup({&quot;maxWidth&quot;: &quot;100%&quot;});\n\n        \n            var html_258ad0d0497754ef49149bd5f12cb58e = $(`&lt;div id=&quot;html_258ad0d0497754ef49149bd5f12cb58e&quot; style=&quot;width: 100.0%; height: 100.0%;&quot;&gt;SOL&lt;/div&gt;`)[0];\n            popup_e55dc87b3f65eddc48e3b584827ddf2f.setContent(html_258ad0d0497754ef49149bd5f12cb58e);\n        \n\n        circle_marker_69e298e611c85debd23262195a596032.bindPopup(popup_e55dc87b3f65eddc48e3b584827ddf2f)\n        ;\n\n        \n    \n    \n            var circle_marker_619675c0b782d0e9d5b7da4c51f0ea28 = L.circleMarker(\n                [40.408330000000035, -3.7186499999999683],\n                {&quot;bubblingMouseEvents&quot;: true, &quot;color&quot;: &quot;red&quot;, &quot;dashArray&quot;: null, &quot;dashOffset&quot;: null, &quot;fill&quot;: true, &quot;fillColor&quot;: &quot;#3186cc&quot;, &quot;fillOpacity&quot;: 0.7, &quot;fillRule&quot;: &quot;evenodd&quot;, &quot;lineCap&quot;: &quot;round&quot;, &quot;lineJoin&quot;: &quot;round&quot;, &quot;opacity&quot;: 1.0, &quot;radius&quot;: 5, &quot;stroke&quot;: true, &quot;weight&quot;: 3}\n            ).addTo(map_86b919d8097dd6ebd6548b2906909101);\n        \n    \n        var popup_af4121ab7a2b0fbf30d03ca5f42949ad = L.popup({&quot;maxWidth&quot;: &quot;100%&quot;});\n\n        \n            var html_3366417dab3be4ed06d134b01ee0f284 = $(`&lt;div id=&quot;html_3366417dab3be4ed06d134b01ee0f284&quot; style=&quot;width: 100.0%; height: 100.0%;&quot;&gt;IMPERIAL&lt;/div&gt;`)[0];\n            popup_af4121ab7a2b0fbf30d03ca5f42949ad.setContent(html_3366417dab3be4ed06d134b01ee0f284);\n        \n\n        circle_marker_619675c0b782d0e9d5b7da4c51f0ea28.bindPopup(popup_af4121ab7a2b0fbf30d03ca5f42949ad)\n        ;\n\n        \n    \n    \n            var circle_marker_a29679ce61d95bf3cc5b6afc38d4974f = L.circleMarker(\n                [40.40137000000004, -3.7066899999999805],\n                {&quot;bubblingMouseEvents&quot;: true, &quot;color&quot;: &quot;red&quot;, &quot;dashArray&quot;: null, &quot;dashOffset&quot;: null, &quot;fill&quot;: true, &quot;fillColor&quot;: &quot;#3186cc&quot;, &quot;fillOpacity&quot;: 0.7, &quot;fillRule&quot;: &quot;evenodd&quot;, &quot;lineCap&quot;: &quot;round&quot;, &quot;lineJoin&quot;: &quot;round&quot;, &quot;opacity&quot;: 1.0, &quot;radius&quot;: 5, &quot;stroke&quot;: true, &quot;weight&quot;: 3}\n            ).addTo(map_86b919d8097dd6ebd6548b2906909101);\n        \n    \n        var popup_30ac0c43f9784ad27aae1163121efc13 = L.popup({&quot;maxWidth&quot;: &quot;100%&quot;});\n\n        \n            var html_7a14255c6b4b0bd9f22d414634492493 = $(`&lt;div id=&quot;html_7a14255c6b4b0bd9f22d414634492493&quot; style=&quot;width: 100.0%; height: 100.0%;&quot;&gt;ACACIAS&lt;/div&gt;`)[0];\n            popup_30ac0c43f9784ad27aae1163121efc13.setContent(html_7a14255c6b4b0bd9f22d414634492493);\n        \n\n        circle_marker_a29679ce61d95bf3cc5b6afc38d4974f.bindPopup(popup_30ac0c43f9784ad27aae1163121efc13)\n        ;\n\n        \n    \n    \n            var circle_marker_3e48b235bfa61870adc754f75dbaede9 = L.circleMarker(\n                [40.39536000000004, -3.6983299999999417],\n                {&quot;bubblingMouseEvents&quot;: true, &quot;color&quot;: &quot;red&quot;, &quot;dashArray&quot;: null, &quot;dashOffset&quot;: null, &quot;fill&quot;: true, &quot;fillColor&quot;: &quot;#3186cc&quot;, &quot;fillOpacity&quot;: 0.7, &quot;fillRule&quot;: &quot;evenodd&quot;, &quot;lineCap&quot;: &quot;round&quot;, &quot;lineJoin&quot;: &quot;round&quot;, &quot;opacity&quot;: 1.0, &quot;radius&quot;: 5, &quot;stroke&quot;: true, &quot;weight&quot;: 3}\n            ).addTo(map_86b919d8097dd6ebd6548b2906909101);\n        \n    \n        var popup_8231ce840eede24bcf0b2cda9d615592 = L.popup({&quot;maxWidth&quot;: &quot;100%&quot;});\n\n        \n            var html_03d4afa67c5e5fc917e6effa8266d732 = $(`&lt;div id=&quot;html_03d4afa67c5e5fc917e6effa8266d732&quot; style=&quot;width: 100.0%; height: 100.0%;&quot;&gt;CHOPERA&lt;/div&gt;`)[0];\n            popup_8231ce840eede24bcf0b2cda9d615592.setContent(html_03d4afa67c5e5fc917e6effa8266d732);\n        \n\n        circle_marker_3e48b235bfa61870adc754f75dbaede9.bindPopup(popup_8231ce840eede24bcf0b2cda9d615592)\n        ;\n\n        \n    \n    \n            var circle_marker_6c9084b5227020b80f5e84d4d79f3801 = L.circleMarker(\n                [40.38701000000003, -3.6898899999999344],\n                {&quot;bubblingMouseEvents&quot;: true, &quot;color&quot;: &quot;red&quot;, &quot;dashArray&quot;: null, &quot;dashOffset&quot;: null, &quot;fill&quot;: true, &quot;fillColor&quot;: &quot;#3186cc&quot;, &quot;fillOpacity&quot;: 0.7, &quot;fillRule&quot;: &quot;evenodd&quot;, &quot;lineCap&quot;: &quot;round&quot;, &quot;lineJoin&quot;: &quot;round&quot;, &quot;opacity&quot;: 1.0, &quot;radius&quot;: 5, &quot;stroke&quot;: true, &quot;weight&quot;: 3}\n            ).addTo(map_86b919d8097dd6ebd6548b2906909101);\n        \n    \n        var popup_91b9c8b7488dd8baa5225d3a9f0e0f58 = L.popup({&quot;maxWidth&quot;: &quot;100%&quot;});\n\n        \n            var html_72db0c819a477e3a49f405ac7ad52134 = $(`&lt;div id=&quot;html_72db0c819a477e3a49f405ac7ad52134&quot; style=&quot;width: 100.0%; height: 100.0%;&quot;&gt;LEGAZPI&lt;/div&gt;`)[0];\n            popup_91b9c8b7488dd8baa5225d3a9f0e0f58.setContent(html_72db0c819a477e3a49f405ac7ad52134);\n        \n\n        circle_marker_6c9084b5227020b80f5e84d4d79f3801.bindPopup(popup_91b9c8b7488dd8baa5225d3a9f0e0f58)\n        ;\n\n        \n    \n    \n            var circle_marker_34c36744840beb174172067c46bb555d = L.circleMarker(\n                [40.39613000000003, -3.68945999999994],\n                {&quot;bubblingMouseEvents&quot;: true, &quot;color&quot;: &quot;red&quot;, &quot;dashArray&quot;: null, &quot;dashOffset&quot;: null, &quot;fill&quot;: true, &quot;fillColor&quot;: &quot;#3186cc&quot;, &quot;fillOpacity&quot;: 0.7, &quot;fillRule&quot;: &quot;evenodd&quot;, &quot;lineCap&quot;: &quot;round&quot;, &quot;lineJoin&quot;: &quot;round&quot;, &quot;opacity&quot;: 1.0, &quot;radius&quot;: 5, &quot;stroke&quot;: true, &quot;weight&quot;: 3}\n            ).addTo(map_86b919d8097dd6ebd6548b2906909101);\n        \n    \n        var popup_40823f66e29b11d4661d96899be66dc1 = L.popup({&quot;maxWidth&quot;: &quot;100%&quot;});\n\n        \n            var html_8f7d61553beff7e6a13587b753915b02 = $(`&lt;div id=&quot;html_8f7d61553beff7e6a13587b753915b02&quot; style=&quot;width: 100.0%; height: 100.0%;&quot;&gt;DELICIAS&lt;/div&gt;`)[0];\n            popup_40823f66e29b11d4661d96899be66dc1.setContent(html_8f7d61553beff7e6a13587b753915b02);\n        \n\n        circle_marker_34c36744840beb174172067c46bb555d.bindPopup(popup_40823f66e29b11d4661d96899be66dc1)\n        ;\n\n        \n    \n    \n            var circle_marker_7ecc7f886675d6a4aebbf4eaf01d6d47 = L.circleMarker(\n                [40.40301000000005, -3.6935799999999404],\n                {&quot;bubblingMouseEvents&quot;: true, &quot;color&quot;: &quot;red&quot;, &quot;dashArray&quot;: null, &quot;dashOffset&quot;: null, &quot;fill&quot;: true, &quot;fillColor&quot;: &quot;#3186cc&quot;, &quot;fillOpacity&quot;: 0.7, &quot;fillRule&quot;: &quot;evenodd&quot;, &quot;lineCap&quot;: &quot;round&quot;, &quot;lineJoin&quot;: &quot;round&quot;, &quot;opacity&quot;: 1.0, &quot;radius&quot;: 5, &quot;stroke&quot;: true, &quot;weight&quot;: 3}\n            ).addTo(map_86b919d8097dd6ebd6548b2906909101);\n        \n    \n        var popup_763cc45f25902668f8d1edc8a266f49b = L.popup({&quot;maxWidth&quot;: &quot;100%&quot;});\n\n        \n            var html_b289bd0bbd02e63c0f9968cca30048a8 = $(`&lt;div id=&quot;html_b289bd0bbd02e63c0f9968cca30048a8&quot; style=&quot;width: 100.0%; height: 100.0%;&quot;&gt;PALOS DE MOGUER&lt;/div&gt;`)[0];\n            popup_763cc45f25902668f8d1edc8a266f49b.setContent(html_b289bd0bbd02e63c0f9968cca30048a8);\n        \n\n        circle_marker_7ecc7f886675d6a4aebbf4eaf01d6d47.bindPopup(popup_763cc45f25902668f8d1edc8a266f49b)\n        ;\n\n        \n    \n    \n            var circle_marker_a9a192431c2323747024778f97be77cb = L.circleMarker(\n                [40.400540000000035, -3.6839199999999437],\n                {&quot;bubblingMouseEvents&quot;: true, &quot;color&quot;: &quot;red&quot;, &quot;dashArray&quot;: null, &quot;dashOffset&quot;: null, &quot;fill&quot;: true, &quot;fillColor&quot;: &quot;#3186cc&quot;, &quot;fillOpacity&quot;: 0.7, &quot;fillRule&quot;: &quot;evenodd&quot;, &quot;lineCap&quot;: &quot;round&quot;, &quot;lineJoin&quot;: &quot;round&quot;, &quot;opacity&quot;: 1.0, &quot;radius&quot;: 5, &quot;stroke&quot;: true, &quot;weight&quot;: 3}\n            ).addTo(map_86b919d8097dd6ebd6548b2906909101);\n        \n    \n        var popup_38be088f6e1e2b857d646a5aa0098fd4 = L.popup({&quot;maxWidth&quot;: &quot;100%&quot;});\n\n        \n            var html_3b46d6d8b2b57748b00301b9e556944e = $(`&lt;div id=&quot;html_3b46d6d8b2b57748b00301b9e556944e&quot; style=&quot;width: 100.0%; height: 100.0%;&quot;&gt;ATOCHA&lt;/div&gt;`)[0];\n            popup_38be088f6e1e2b857d646a5aa0098fd4.setContent(html_3b46d6d8b2b57748b00301b9e556944e);\n        \n\n        circle_marker_a9a192431c2323747024778f97be77cb.bindPopup(popup_38be088f6e1e2b857d646a5aa0098fd4)\n        ;\n\n        \n    \n    \n            var circle_marker_26fe5b29fa6711e8cdae796d88566d7c = L.circleMarker(\n                [40.40191000000004, -3.676029999999969],\n                {&quot;bubblingMouseEvents&quot;: true, &quot;color&quot;: &quot;red&quot;, &quot;dashArray&quot;: null, &quot;dashOffset&quot;: null, &quot;fill&quot;: true, &quot;fillColor&quot;: &quot;#3186cc&quot;, &quot;fillOpacity&quot;: 0.7, &quot;fillRule&quot;: &quot;evenodd&quot;, &quot;lineCap&quot;: &quot;round&quot;, &quot;lineJoin&quot;: &quot;round&quot;, &quot;opacity&quot;: 1.0, &quot;radius&quot;: 5, &quot;stroke&quot;: true, &quot;weight&quot;: 3}\n            ).addTo(map_86b919d8097dd6ebd6548b2906909101);\n        \n    \n        var popup_a1c7e00731d99f0ecab5d6c6556cf4ff = L.popup({&quot;maxWidth&quot;: &quot;100%&quot;});\n\n        \n            var html_fa4430e4f5e7b73388f566488ac10bd9 = $(`&lt;div id=&quot;html_fa4430e4f5e7b73388f566488ac10bd9&quot; style=&quot;width: 100.0%; height: 100.0%;&quot;&gt;PACIFICO&lt;/div&gt;`)[0];\n            popup_a1c7e00731d99f0ecab5d6c6556cf4ff.setContent(html_fa4430e4f5e7b73388f566488ac10bd9);\n        \n\n        circle_marker_26fe5b29fa6711e8cdae796d88566d7c.bindPopup(popup_a1c7e00731d99f0ecab5d6c6556cf4ff)\n        ;\n\n        \n    \n    \n            var circle_marker_6daba04e7352feb2a4528ba633989dca = L.circleMarker(\n                [40.40173000000004, -3.6728799999999637],\n                {&quot;bubblingMouseEvents&quot;: true, &quot;color&quot;: &quot;red&quot;, &quot;dashArray&quot;: null, &quot;dashOffset&quot;: null, &quot;fill&quot;: true, &quot;fillColor&quot;: &quot;#3186cc&quot;, &quot;fillOpacity&quot;: 0.7, &quot;fillRule&quot;: &quot;evenodd&quot;, &quot;lineCap&quot;: &quot;round&quot;, &quot;lineJoin&quot;: &quot;round&quot;, &quot;opacity&quot;: 1.0, &quot;radius&quot;: 5, &quot;stroke&quot;: true, &quot;weight&quot;: 3}\n            ).addTo(map_86b919d8097dd6ebd6548b2906909101);\n        \n    \n        var popup_a550c1fdd5fd3e8b00cf2bb87ca6ebf0 = L.popup({&quot;maxWidth&quot;: &quot;100%&quot;});\n\n        \n            var html_4049570d5735f35e6c916f2bc8bc98ea = $(`&lt;div id=&quot;html_4049570d5735f35e6c916f2bc8bc98ea&quot; style=&quot;width: 100.0%; height: 100.0%;&quot;&gt;ADELFAS&lt;/div&gt;`)[0];\n            popup_a550c1fdd5fd3e8b00cf2bb87ca6ebf0.setContent(html_4049570d5735f35e6c916f2bc8bc98ea);\n        \n\n        circle_marker_6daba04e7352feb2a4528ba633989dca.bindPopup(popup_a550c1fdd5fd3e8b00cf2bb87ca6ebf0)\n        ;\n\n        \n    \n    \n            var circle_marker_f90854147011c29993eb0e21f6e49f6d = L.circleMarker(\n                [40.41117000000003, -3.665929999999946],\n                {&quot;bubblingMouseEvents&quot;: true, &quot;color&quot;: &quot;red&quot;, &quot;dashArray&quot;: null, &quot;dashOffset&quot;: null, &quot;fill&quot;: true, &quot;fillColor&quot;: &quot;#3186cc&quot;, &quot;fillOpacity&quot;: 0.7, &quot;fillRule&quot;: &quot;evenodd&quot;, &quot;lineCap&quot;: &quot;round&quot;, &quot;lineJoin&quot;: &quot;round&quot;, &quot;opacity&quot;: 1.0, &quot;radius&quot;: 5, &quot;stroke&quot;: true, &quot;weight&quot;: 3}\n            ).addTo(map_86b919d8097dd6ebd6548b2906909101);\n        \n    \n        var popup_8e8bb5f9bc4cafdfee3a017856bb593d = L.popup({&quot;maxWidth&quot;: &quot;100%&quot;});\n\n        \n            var html_57a2c181235dd08c2030cdf8283fc5ee = $(`&lt;div id=&quot;html_57a2c181235dd08c2030cdf8283fc5ee&quot; style=&quot;width: 100.0%; height: 100.0%;&quot;&gt;ESTRELLA&lt;/div&gt;`)[0];\n            popup_8e8bb5f9bc4cafdfee3a017856bb593d.setContent(html_57a2c181235dd08c2030cdf8283fc5ee);\n        \n\n        circle_marker_f90854147011c29993eb0e21f6e49f6d.bindPopup(popup_8e8bb5f9bc4cafdfee3a017856bb593d)\n        ;\n\n        \n    \n    \n            var circle_marker_3a88fb78d3f7ef0cb315b87d89b0af40 = L.circleMarker(\n                [40.417940000000044, -3.6762599999999566],\n                {&quot;bubblingMouseEvents&quot;: true, &quot;color&quot;: &quot;red&quot;, &quot;dashArray&quot;: null, &quot;dashOffset&quot;: null, &quot;fill&quot;: true, &quot;fillColor&quot;: &quot;#3186cc&quot;, &quot;fillOpacity&quot;: 0.7, &quot;fillRule&quot;: &quot;evenodd&quot;, &quot;lineCap&quot;: &quot;round&quot;, &quot;lineJoin&quot;: &quot;round&quot;, &quot;opacity&quot;: 1.0, &quot;radius&quot;: 5, &quot;stroke&quot;: true, &quot;weight&quot;: 3}\n            ).addTo(map_86b919d8097dd6ebd6548b2906909101);\n        \n    \n        var popup_6cea333b3111547bf12574cff0d1d09e = L.popup({&quot;maxWidth&quot;: &quot;100%&quot;});\n\n        \n            var html_4640f068e987f0f2605c6fb5dd4e294d = $(`&lt;div id=&quot;html_4640f068e987f0f2605c6fb5dd4e294d&quot; style=&quot;width: 100.0%; height: 100.0%;&quot;&gt;IBIZA&lt;/div&gt;`)[0];\n            popup_6cea333b3111547bf12574cff0d1d09e.setContent(html_4640f068e987f0f2605c6fb5dd4e294d);\n        \n\n        circle_marker_3a88fb78d3f7ef0cb315b87d89b0af40.bindPopup(popup_6cea333b3111547bf12574cff0d1d09e)\n        ;\n\n        \n    \n    \n            var circle_marker_a73fb593ce053e1d4b7e3d17b88334d6 = L.circleMarker(\n                [40.41407000000004, -3.6902299999999286],\n                {&quot;bubblingMouseEvents&quot;: true, &quot;color&quot;: &quot;red&quot;, &quot;dashArray&quot;: null, &quot;dashOffset&quot;: null, &quot;fill&quot;: true, &quot;fillColor&quot;: &quot;#3186cc&quot;, &quot;fillOpacity&quot;: 0.7, &quot;fillRule&quot;: &quot;evenodd&quot;, &quot;lineCap&quot;: &quot;round&quot;, &quot;lineJoin&quot;: &quot;round&quot;, &quot;opacity&quot;: 1.0, &quot;radius&quot;: 5, &quot;stroke&quot;: true, &quot;weight&quot;: 3}\n            ).addTo(map_86b919d8097dd6ebd6548b2906909101);\n        \n    \n        var popup_cae32e73299981ba11d92363e24a1142 = L.popup({&quot;maxWidth&quot;: &quot;100%&quot;});\n\n        \n            var html_29c56447c52e894641293a28bcc7cfd8 = $(`&lt;div id=&quot;html_29c56447c52e894641293a28bcc7cfd8&quot; style=&quot;width: 100.0%; height: 100.0%;&quot;&gt;LOS JERONIMOS&lt;/div&gt;`)[0];\n            popup_cae32e73299981ba11d92363e24a1142.setContent(html_29c56447c52e894641293a28bcc7cfd8);\n        \n\n        circle_marker_a73fb593ce053e1d4b7e3d17b88334d6.bindPopup(popup_cae32e73299981ba11d92363e24a1142)\n        ;\n\n        \n    \n    \n            var circle_marker_9024c25e0bd80f0e6c1fcbc42fe96aa9 = L.circleMarker(\n                [40.41095000000007, -3.67229999999995],\n                {&quot;bubblingMouseEvents&quot;: true, &quot;color&quot;: &quot;red&quot;, &quot;dashArray&quot;: null, &quot;dashOffset&quot;: null, &quot;fill&quot;: true, &quot;fillColor&quot;: &quot;#3186cc&quot;, &quot;fillOpacity&quot;: 0.7, &quot;fillRule&quot;: &quot;evenodd&quot;, &quot;lineCap&quot;: &quot;round&quot;, &quot;lineJoin&quot;: &quot;round&quot;, &quot;opacity&quot;: 1.0, &quot;radius&quot;: 5, &quot;stroke&quot;: true, &quot;weight&quot;: 3}\n            ).addTo(map_86b919d8097dd6ebd6548b2906909101);\n        \n    \n        var popup_f4376efcf4a51b6f73a4ed9e7a95fca3 = L.popup({&quot;maxWidth&quot;: &quot;100%&quot;});\n\n        \n            var html_817e977944e3606262ba0d6dfbee46f8 = $(`&lt;div id=&quot;html_817e977944e3606262ba0d6dfbee46f8&quot; style=&quot;width: 100.0%; height: 100.0%;&quot;&gt;NINO JESUS&lt;/div&gt;`)[0];\n            popup_f4376efcf4a51b6f73a4ed9e7a95fca3.setContent(html_817e977944e3606262ba0d6dfbee46f8);\n        \n\n        circle_marker_9024c25e0bd80f0e6c1fcbc42fe96aa9.bindPopup(popup_f4376efcf4a51b6f73a4ed9e7a95fca3)\n        ;\n\n        \n    \n    \n            var circle_marker_0755d61f60661b2100b68f8b30241caf = L.circleMarker(\n                [40.42530000000005, -3.6865099999999416],\n                {&quot;bubblingMouseEvents&quot;: true, &quot;color&quot;: &quot;red&quot;, &quot;dashArray&quot;: null, &quot;dashOffset&quot;: null, &quot;fill&quot;: true, &quot;fillColor&quot;: &quot;#3186cc&quot;, &quot;fillOpacity&quot;: 0.7, &quot;fillRule&quot;: &quot;evenodd&quot;, &quot;lineCap&quot;: &quot;round&quot;, &quot;lineJoin&quot;: &quot;round&quot;, &quot;opacity&quot;: 1.0, &quot;radius&quot;: 5, &quot;stroke&quot;: true, &quot;weight&quot;: 3}\n            ).addTo(map_86b919d8097dd6ebd6548b2906909101);\n        \n    \n        var popup_d1efaf450166d3b37522b5c2482a119e = L.popup({&quot;maxWidth&quot;: &quot;100%&quot;});\n\n        \n            var html_c2eddf7af85b8e6b98871e91e964f130 = $(`&lt;div id=&quot;html_c2eddf7af85b8e6b98871e91e964f130&quot; style=&quot;width: 100.0%; height: 100.0%;&quot;&gt;RECOLETOS&lt;/div&gt;`)[0];\n            popup_d1efaf450166d3b37522b5c2482a119e.setContent(html_c2eddf7af85b8e6b98871e91e964f130);\n        \n\n        circle_marker_0755d61f60661b2100b68f8b30241caf.bindPopup(popup_d1efaf450166d3b37522b5c2482a119e)\n        ;\n\n        \n    \n    \n            var circle_marker_60b0d74108b65677e56f47dc58a88bd5 = L.circleMarker(\n                [40.425470000000075, -3.6741799999999785],\n                {&quot;bubblingMouseEvents&quot;: true, &quot;color&quot;: &quot;red&quot;, &quot;dashArray&quot;: null, &quot;dashOffset&quot;: null, &quot;fill&quot;: true, &quot;fillColor&quot;: &quot;#3186cc&quot;, &quot;fillOpacity&quot;: 0.7, &quot;fillRule&quot;: &quot;evenodd&quot;, &quot;lineCap&quot;: &quot;round&quot;, &quot;lineJoin&quot;: &quot;round&quot;, &quot;opacity&quot;: 1.0, &quot;radius&quot;: 5, &quot;stroke&quot;: true, &quot;weight&quot;: 3}\n            ).addTo(map_86b919d8097dd6ebd6548b2906909101);\n        \n    \n        var popup_96c215f95867db7aa90bedc338ef17f7 = L.popup({&quot;maxWidth&quot;: &quot;100%&quot;});\n\n        \n            var html_e2bf80bb60b011705925157849bb82a1 = $(`&lt;div id=&quot;html_e2bf80bb60b011705925157849bb82a1&quot; style=&quot;width: 100.0%; height: 100.0%;&quot;&gt;GOYA&lt;/div&gt;`)[0];\n            popup_96c215f95867db7aa90bedc338ef17f7.setContent(html_e2bf80bb60b011705925157849bb82a1);\n        \n\n        circle_marker_60b0d74108b65677e56f47dc58a88bd5.bindPopup(popup_96c215f95867db7aa90bedc338ef17f7)\n        ;\n\n        \n    \n    \n            var circle_marker_773e6425c526a1a2aa1802889695315a = L.circleMarker(\n                [40.42376000000007, -3.667539999999974],\n                {&quot;bubblingMouseEvents&quot;: true, &quot;color&quot;: &quot;red&quot;, &quot;dashArray&quot;: null, &quot;dashOffset&quot;: null, &quot;fill&quot;: true, &quot;fillColor&quot;: &quot;#3186cc&quot;, &quot;fillOpacity&quot;: 0.7, &quot;fillRule&quot;: &quot;evenodd&quot;, &quot;lineCap&quot;: &quot;round&quot;, &quot;lineJoin&quot;: &quot;round&quot;, &quot;opacity&quot;: 1.0, &quot;radius&quot;: 5, &quot;stroke&quot;: true, &quot;weight&quot;: 3}\n            ).addTo(map_86b919d8097dd6ebd6548b2906909101);\n        \n    \n        var popup_9de0ed69c01886f5280282594d01da0b = L.popup({&quot;maxWidth&quot;: &quot;100%&quot;});\n\n        \n            var html_130565a3a26fd6d5690a7bd1f05afc3e = $(`&lt;div id=&quot;html_130565a3a26fd6d5690a7bd1f05afc3e&quot; style=&quot;width: 100.0%; height: 100.0%;&quot;&gt;FUENTE DEL BERRO&lt;/div&gt;`)[0];\n            popup_9de0ed69c01886f5280282594d01da0b.setContent(html_130565a3a26fd6d5690a7bd1f05afc3e);\n        \n\n        circle_marker_773e6425c526a1a2aa1802889695315a.bindPopup(popup_9de0ed69c01886f5280282594d01da0b)\n        ;\n\n        \n    \n    \n            var circle_marker_01698f7d3a581080e88e11719fc07891 = L.circleMarker(\n                [40.43241000000006, -3.66599999999994],\n                {&quot;bubblingMouseEvents&quot;: true, &quot;color&quot;: &quot;red&quot;, &quot;dashArray&quot;: null, &quot;dashOffset&quot;: null, &quot;fill&quot;: true, &quot;fillColor&quot;: &quot;#3186cc&quot;, &quot;fillOpacity&quot;: 0.7, &quot;fillRule&quot;: &quot;evenodd&quot;, &quot;lineCap&quot;: &quot;round&quot;, &quot;lineJoin&quot;: &quot;round&quot;, &quot;opacity&quot;: 1.0, &quot;radius&quot;: 5, &quot;stroke&quot;: true, &quot;weight&quot;: 3}\n            ).addTo(map_86b919d8097dd6ebd6548b2906909101);\n        \n    \n        var popup_27a0b37240491e01dd932d02e35684cc = L.popup({&quot;maxWidth&quot;: &quot;100%&quot;});\n\n        \n            var html_135400973796e5b6f7878cde3aa28369 = $(`&lt;div id=&quot;html_135400973796e5b6f7878cde3aa28369&quot; style=&quot;width: 100.0%; height: 100.0%;&quot;&gt;GUINDALERA&lt;/div&gt;`)[0];\n            popup_27a0b37240491e01dd932d02e35684cc.setContent(html_135400973796e5b6f7878cde3aa28369);\n        \n\n        circle_marker_01698f7d3a581080e88e11719fc07891.bindPopup(popup_27a0b37240491e01dd932d02e35684cc)\n        ;\n\n        \n    \n    \n            var circle_marker_e0d78a5d9d997a0c4347f3ee8d4ec843 = L.circleMarker(\n                [40.43231000000003, -3.67507999999998],\n                {&quot;bubblingMouseEvents&quot;: true, &quot;color&quot;: &quot;red&quot;, &quot;dashArray&quot;: null, &quot;dashOffset&quot;: null, &quot;fill&quot;: true, &quot;fillColor&quot;: &quot;#3186cc&quot;, &quot;fillOpacity&quot;: 0.7, &quot;fillRule&quot;: &quot;evenodd&quot;, &quot;lineCap&quot;: &quot;round&quot;, &quot;lineJoin&quot;: &quot;round&quot;, &quot;opacity&quot;: 1.0, &quot;radius&quot;: 5, &quot;stroke&quot;: true, &quot;weight&quot;: 3}\n            ).addTo(map_86b919d8097dd6ebd6548b2906909101);\n        \n    \n        var popup_c1fc4fdfebf1f42448e83cde04facaf0 = L.popup({&quot;maxWidth&quot;: &quot;100%&quot;});\n\n        \n            var html_0f248ecb5298263b7e08da9cded65e2a = $(`&lt;div id=&quot;html_0f248ecb5298263b7e08da9cded65e2a&quot; style=&quot;width: 100.0%; height: 100.0%;&quot;&gt;LISTA&lt;/div&gt;`)[0];\n            popup_c1fc4fdfebf1f42448e83cde04facaf0.setContent(html_0f248ecb5298263b7e08da9cded65e2a);\n        \n\n        circle_marker_e0d78a5d9d997a0c4347f3ee8d4ec843.bindPopup(popup_c1fc4fdfebf1f42448e83cde04facaf0)\n        ;\n\n        \n    \n    \n            var circle_marker_04ee04435f3906ffb67714d4eeda9bea = L.circleMarker(\n                [40.43494000000004, -3.6831899999999678],\n                {&quot;bubblingMouseEvents&quot;: true, &quot;color&quot;: &quot;red&quot;, &quot;dashArray&quot;: null, &quot;dashOffset&quot;: null, &quot;fill&quot;: true, &quot;fillColor&quot;: &quot;#3186cc&quot;, &quot;fillOpacity&quot;: 0.7, &quot;fillRule&quot;: &quot;evenodd&quot;, &quot;lineCap&quot;: &quot;round&quot;, &quot;lineJoin&quot;: &quot;round&quot;, &quot;opacity&quot;: 1.0, &quot;radius&quot;: 5, &quot;stroke&quot;: true, &quot;weight&quot;: 3}\n            ).addTo(map_86b919d8097dd6ebd6548b2906909101);\n        \n    \n        var popup_c07ab9397a538a4f412bbbce61d98db4 = L.popup({&quot;maxWidth&quot;: &quot;100%&quot;});\n\n        \n            var html_d81e44d696f436dd86d6e5b05f75af62 = $(`&lt;div id=&quot;html_d81e44d696f436dd86d6e5b05f75af62&quot; style=&quot;width: 100.0%; height: 100.0%;&quot;&gt;CASTELLANA&lt;/div&gt;`)[0];\n            popup_c07ab9397a538a4f412bbbce61d98db4.setContent(html_d81e44d696f436dd86d6e5b05f75af62);\n        \n\n        circle_marker_04ee04435f3906ffb67714d4eeda9bea.bindPopup(popup_c07ab9397a538a4f412bbbce61d98db4)\n        ;\n\n        \n    \n    \n            var circle_marker_b178afc765161e21798185d55441b5ff = L.circleMarker(\n                [40.447460000000035, -3.68542999999994],\n                {&quot;bubblingMouseEvents&quot;: true, &quot;color&quot;: &quot;red&quot;, &quot;dashArray&quot;: null, &quot;dashOffset&quot;: null, &quot;fill&quot;: true, &quot;fillColor&quot;: &quot;#3186cc&quot;, &quot;fillOpacity&quot;: 0.7, &quot;fillRule&quot;: &quot;evenodd&quot;, &quot;lineCap&quot;: &quot;round&quot;, &quot;lineJoin&quot;: &quot;round&quot;, &quot;opacity&quot;: 1.0, &quot;radius&quot;: 5, &quot;stroke&quot;: true, &quot;weight&quot;: 3}\n            ).addTo(map_86b919d8097dd6ebd6548b2906909101);\n        \n    \n        var popup_2a0445f3475f5cef95a26b5873346802 = L.popup({&quot;maxWidth&quot;: &quot;100%&quot;});\n\n        \n            var html_dc28f367e5526cba833f9ecfb65ac865 = $(`&lt;div id=&quot;html_dc28f367e5526cba833f9ecfb65ac865&quot; style=&quot;width: 100.0%; height: 100.0%;&quot;&gt;EL VISO&lt;/div&gt;`)[0];\n            popup_2a0445f3475f5cef95a26b5873346802.setContent(html_dc28f367e5526cba833f9ecfb65ac865);\n        \n\n        circle_marker_b178afc765161e21798185d55441b5ff.bindPopup(popup_2a0445f3475f5cef95a26b5873346802)\n        ;\n\n        \n    \n    \n            var circle_marker_9af95ecdc68bca5f6b6cde9a394c5062 = L.circleMarker(\n                [40.44180000000006, -3.669249999999977],\n                {&quot;bubblingMouseEvents&quot;: true, &quot;color&quot;: &quot;red&quot;, &quot;dashArray&quot;: null, &quot;dashOffset&quot;: null, &quot;fill&quot;: true, &quot;fillColor&quot;: &quot;#3186cc&quot;, &quot;fillOpacity&quot;: 0.7, &quot;fillRule&quot;: &quot;evenodd&quot;, &quot;lineCap&quot;: &quot;round&quot;, &quot;lineJoin&quot;: &quot;round&quot;, &quot;opacity&quot;: 1.0, &quot;radius&quot;: 5, &quot;stroke&quot;: true, &quot;weight&quot;: 3}\n            ).addTo(map_86b919d8097dd6ebd6548b2906909101);\n        \n    \n        var popup_a2c3ee0aeb0b8756d36a915fd0b90236 = L.popup({&quot;maxWidth&quot;: &quot;100%&quot;});\n\n        \n            var html_6a4baa0fa45e4ebeb41b238e47302e2c = $(`&lt;div id=&quot;html_6a4baa0fa45e4ebeb41b238e47302e2c&quot; style=&quot;width: 100.0%; height: 100.0%;&quot;&gt;PROSPERIDAD&lt;/div&gt;`)[0];\n            popup_a2c3ee0aeb0b8756d36a915fd0b90236.setContent(html_6a4baa0fa45e4ebeb41b238e47302e2c);\n        \n\n        circle_marker_9af95ecdc68bca5f6b6cde9a394c5062.bindPopup(popup_a2c3ee0aeb0b8756d36a915fd0b90236)\n        ;\n\n        \n    \n    \n            var circle_marker_611ee81118e25224f81acfe42bf31f9f = L.circleMarker(\n                [40.45046000000008, -3.6677099999999427],\n                {&quot;bubblingMouseEvents&quot;: true, &quot;color&quot;: &quot;red&quot;, &quot;dashArray&quot;: null, &quot;dashOffset&quot;: null, &quot;fill&quot;: true, &quot;fillColor&quot;: &quot;#3186cc&quot;, &quot;fillOpacity&quot;: 0.7, &quot;fillRule&quot;: &quot;evenodd&quot;, &quot;lineCap&quot;: &quot;round&quot;, &quot;lineJoin&quot;: &quot;round&quot;, &quot;opacity&quot;: 1.0, &quot;radius&quot;: 5, &quot;stroke&quot;: true, &quot;weight&quot;: 3}\n            ).addTo(map_86b919d8097dd6ebd6548b2906909101);\n        \n    \n        var popup_7f3459b33ae08f017bc79706e1910e4c = L.popup({&quot;maxWidth&quot;: &quot;100%&quot;});\n\n        \n            var html_71b411ff9d8fa7ebff41265af86c8462 = $(`&lt;div id=&quot;html_71b411ff9d8fa7ebff41265af86c8462&quot; style=&quot;width: 100.0%; height: 100.0%;&quot;&gt;CIUDAD JARDIN&lt;/div&gt;`)[0];\n            popup_7f3459b33ae08f017bc79706e1910e4c.setContent(html_71b411ff9d8fa7ebff41265af86c8462);\n        \n\n        circle_marker_611ee81118e25224f81acfe42bf31f9f.bindPopup(popup_7f3459b33ae08f017bc79706e1910e4c)\n        ;\n\n        \n    \n    \n            var circle_marker_8735a1c2cb8c2e0e65fe887f876266b4 = L.circleMarker(\n                [40.45688000000007, -3.6769799999999577],\n                {&quot;bubblingMouseEvents&quot;: true, &quot;color&quot;: &quot;red&quot;, &quot;dashArray&quot;: null, &quot;dashOffset&quot;: null, &quot;fill&quot;: true, &quot;fillColor&quot;: &quot;#3186cc&quot;, &quot;fillOpacity&quot;: 0.7, &quot;fillRule&quot;: &quot;evenodd&quot;, &quot;lineCap&quot;: &quot;round&quot;, &quot;lineJoin&quot;: &quot;round&quot;, &quot;opacity&quot;: 1.0, &quot;radius&quot;: 5, &quot;stroke&quot;: true, &quot;weight&quot;: 3}\n            ).addTo(map_86b919d8097dd6ebd6548b2906909101);\n        \n    \n        var popup_03a7d9d867f35e91438fdcfa23786d65 = L.popup({&quot;maxWidth&quot;: &quot;100%&quot;});\n\n        \n            var html_ef4514c113ddd95747cc56bf06bad86c = $(`&lt;div id=&quot;html_ef4514c113ddd95747cc56bf06bad86c&quot; style=&quot;width: 100.0%; height: 100.0%;&quot;&gt;HISPANOAMERICA&lt;/div&gt;`)[0];\n            popup_03a7d9d867f35e91438fdcfa23786d65.setContent(html_ef4514c113ddd95747cc56bf06bad86c);\n        \n\n        circle_marker_8735a1c2cb8c2e0e65fe887f876266b4.bindPopup(popup_03a7d9d867f35e91438fdcfa23786d65)\n        ;\n\n        \n    \n    \n            var circle_marker_5eabc820c0a02a3499a87e7cbe8220f6 = L.circleMarker(\n                [40.46412000000004, -3.6797999999999433],\n                {&quot;bubblingMouseEvents&quot;: true, &quot;color&quot;: &quot;red&quot;, &quot;dashArray&quot;: null, &quot;dashOffset&quot;: null, &quot;fill&quot;: true, &quot;fillColor&quot;: &quot;#3186cc&quot;, &quot;fillOpacity&quot;: 0.7, &quot;fillRule&quot;: &quot;evenodd&quot;, &quot;lineCap&quot;: &quot;round&quot;, &quot;lineJoin&quot;: &quot;round&quot;, &quot;opacity&quot;: 1.0, &quot;radius&quot;: 5, &quot;stroke&quot;: true, &quot;weight&quot;: 3}\n            ).addTo(map_86b919d8097dd6ebd6548b2906909101);\n        \n    \n        var popup_aaabf54a290deb43993b123325f5774a = L.popup({&quot;maxWidth&quot;: &quot;100%&quot;});\n\n        \n            var html_12b08eb6c604e80c7403cb9b41c8a180 = $(`&lt;div id=&quot;html_12b08eb6c604e80c7403cb9b41c8a180&quot; style=&quot;width: 100.0%; height: 100.0%;&quot;&gt;NUEVA ESPANA&lt;/div&gt;`)[0];\n            popup_aaabf54a290deb43993b123325f5774a.setContent(html_12b08eb6c604e80c7403cb9b41c8a180);\n        \n\n        circle_marker_5eabc820c0a02a3499a87e7cbe8220f6.bindPopup(popup_aaabf54a290deb43993b123325f5774a)\n        ;\n\n        \n    \n    \n            var circle_marker_f0d4876ca7df79b0ff8c4b48ea2f329a = L.circleMarker(\n                [40.471310000000074, -3.675999999999931],\n                {&quot;bubblingMouseEvents&quot;: true, &quot;color&quot;: &quot;red&quot;, &quot;dashArray&quot;: null, &quot;dashOffset&quot;: null, &quot;fill&quot;: true, &quot;fillColor&quot;: &quot;#3186cc&quot;, &quot;fillOpacity&quot;: 0.7, &quot;fillRule&quot;: &quot;evenodd&quot;, &quot;lineCap&quot;: &quot;round&quot;, &quot;lineJoin&quot;: &quot;round&quot;, &quot;opacity&quot;: 1.0, &quot;radius&quot;: 5, &quot;stroke&quot;: true, &quot;weight&quot;: 3}\n            ).addTo(map_86b919d8097dd6ebd6548b2906909101);\n        \n    \n        var popup_b3e7cb91aa3aaff883ee08694231f18a = L.popup({&quot;maxWidth&quot;: &quot;100%&quot;});\n\n        \n            var html_8ae570f36bf307206b5d84eb905d4b9b = $(`&lt;div id=&quot;html_8ae570f36bf307206b5d84eb905d4b9b&quot; style=&quot;width: 100.0%; height: 100.0%;&quot;&gt;CASTILLA&lt;/div&gt;`)[0];\n            popup_b3e7cb91aa3aaff883ee08694231f18a.setContent(html_8ae570f36bf307206b5d84eb905d4b9b);\n        \n\n        circle_marker_f0d4876ca7df79b0ff8c4b48ea2f329a.bindPopup(popup_b3e7cb91aa3aaff883ee08694231f18a)\n        ;\n\n        \n    \n    \n            var circle_marker_dec21b70247b48fc21fcaec0d49b2fd9 = L.circleMarker(\n                [40.45457000000005, -3.7055199999999786],\n                {&quot;bubblingMouseEvents&quot;: true, &quot;color&quot;: &quot;red&quot;, &quot;dashArray&quot;: null, &quot;dashOffset&quot;: null, &quot;fill&quot;: true, &quot;fillColor&quot;: &quot;#3186cc&quot;, &quot;fillOpacity&quot;: 0.7, &quot;fillRule&quot;: &quot;evenodd&quot;, &quot;lineCap&quot;: &quot;round&quot;, &quot;lineJoin&quot;: &quot;round&quot;, &quot;opacity&quot;: 1.0, &quot;radius&quot;: 5, &quot;stroke&quot;: true, &quot;weight&quot;: 3}\n            ).addTo(map_86b919d8097dd6ebd6548b2906909101);\n        \n    \n        var popup_61771ada52c8a814cbcc0d7826701b93 = L.popup({&quot;maxWidth&quot;: &quot;100%&quot;});\n\n        \n            var html_bd1cc56ca322b25fec4f9dd3d5870f2f = $(`&lt;div id=&quot;html_bd1cc56ca322b25fec4f9dd3d5870f2f&quot; style=&quot;width: 100.0%; height: 100.0%;&quot;&gt;BELLAS VISTAS&lt;/div&gt;`)[0];\n            popup_61771ada52c8a814cbcc0d7826701b93.setContent(html_bd1cc56ca322b25fec4f9dd3d5870f2f);\n        \n\n        circle_marker_dec21b70247b48fc21fcaec0d49b2fd9.bindPopup(popup_61771ada52c8a814cbcc0d7826701b93)\n        ;\n\n        \n    \n    \n            var circle_marker_f5468ad8fe35a4b478fa5d3a3e4a2b32 = L.circleMarker(\n                [40.45297000000005, -3.6972699999999463],\n                {&quot;bubblingMouseEvents&quot;: true, &quot;color&quot;: &quot;red&quot;, &quot;dashArray&quot;: null, &quot;dashOffset&quot;: null, &quot;fill&quot;: true, &quot;fillColor&quot;: &quot;#3186cc&quot;, &quot;fillOpacity&quot;: 0.7, &quot;fillRule&quot;: &quot;evenodd&quot;, &quot;lineCap&quot;: &quot;round&quot;, &quot;lineJoin&quot;: &quot;round&quot;, &quot;opacity&quot;: 1.0, &quot;radius&quot;: 5, &quot;stroke&quot;: true, &quot;weight&quot;: 3}\n            ).addTo(map_86b919d8097dd6ebd6548b2906909101);\n        \n    \n        var popup_30ecaee3f209b95bdc5998ab21821a24 = L.popup({&quot;maxWidth&quot;: &quot;100%&quot;});\n\n        \n            var html_6ff009f64d7a54820dee24fb533f5e03 = $(`&lt;div id=&quot;html_6ff009f64d7a54820dee24fb533f5e03&quot; style=&quot;width: 100.0%; height: 100.0%;&quot;&gt;CUATRO CAMINOS&lt;/div&gt;`)[0];\n            popup_30ecaee3f209b95bdc5998ab21821a24.setContent(html_6ff009f64d7a54820dee24fb533f5e03);\n        \n\n        circle_marker_f5468ad8fe35a4b478fa5d3a3e4a2b32.bindPopup(popup_30ecaee3f209b95bdc5998ab21821a24)\n        ;\n\n        \n    \n    \n            var circle_marker_7c4235846782a8df8f77385b508b7d31 = L.circleMarker(\n                [40.459460000000036, -3.694819999999936],\n                {&quot;bubblingMouseEvents&quot;: true, &quot;color&quot;: &quot;red&quot;, &quot;dashArray&quot;: null, &quot;dashOffset&quot;: null, &quot;fill&quot;: true, &quot;fillColor&quot;: &quot;#3186cc&quot;, &quot;fillOpacity&quot;: 0.7, &quot;fillRule&quot;: &quot;evenodd&quot;, &quot;lineCap&quot;: &quot;round&quot;, &quot;lineJoin&quot;: &quot;round&quot;, &quot;opacity&quot;: 1.0, &quot;radius&quot;: 5, &quot;stroke&quot;: true, &quot;weight&quot;: 3}\n            ).addTo(map_86b919d8097dd6ebd6548b2906909101);\n        \n    \n        var popup_6c43463e5ca0d5d5b45fcd0ea4839410 = L.popup({&quot;maxWidth&quot;: &quot;100%&quot;});\n\n        \n            var html_fd617b604116d56674edb9e9008c5fc7 = $(`&lt;div id=&quot;html_fd617b604116d56674edb9e9008c5fc7&quot; style=&quot;width: 100.0%; height: 100.0%;&quot;&gt;CASTILLEJOS&lt;/div&gt;`)[0];\n            popup_6c43463e5ca0d5d5b45fcd0ea4839410.setContent(html_fd617b604116d56674edb9e9008c5fc7);\n        \n\n        circle_marker_7c4235846782a8df8f77385b508b7d31.bindPopup(popup_6c43463e5ca0d5d5b45fcd0ea4839410)\n        ;\n\n        \n    \n    \n            var circle_marker_ca77c2a9c79c667af9b5ef15b6f5b1d3 = L.circleMarker(\n                [40.47114000000005, -3.6958099999999376],\n                {&quot;bubblingMouseEvents&quot;: true, &quot;color&quot;: &quot;red&quot;, &quot;dashArray&quot;: null, &quot;dashOffset&quot;: null, &quot;fill&quot;: true, &quot;fillColor&quot;: &quot;#3186cc&quot;, &quot;fillOpacity&quot;: 0.7, &quot;fillRule&quot;: &quot;evenodd&quot;, &quot;lineCap&quot;: &quot;round&quot;, &quot;lineJoin&quot;: &quot;round&quot;, &quot;opacity&quot;: 1.0, &quot;radius&quot;: 5, &quot;stroke&quot;: true, &quot;weight&quot;: 3}\n            ).addTo(map_86b919d8097dd6ebd6548b2906909101);\n        \n    \n        var popup_b0f98f8bc1ade1e4ab4924fab31f80fc = L.popup({&quot;maxWidth&quot;: &quot;100%&quot;});\n\n        \n            var html_4b7d9e4e95c64e59c675d119b9c90582 = $(`&lt;div id=&quot;html_4b7d9e4e95c64e59c675d119b9c90582&quot; style=&quot;width: 100.0%; height: 100.0%;&quot;&gt;ALMENARA&lt;/div&gt;`)[0];\n            popup_b0f98f8bc1ade1e4ab4924fab31f80fc.setContent(html_4b7d9e4e95c64e59c675d119b9c90582);\n        \n\n        circle_marker_ca77c2a9c79c667af9b5ef15b6f5b1d3.bindPopup(popup_b0f98f8bc1ade1e4ab4924fab31f80fc)\n        ;\n\n        \n    \n    \n            var circle_marker_047ccfda80ba10c26517c885a9183f56 = L.circleMarker(\n                [40.46593000000007, -3.7009599999999523],\n                {&quot;bubblingMouseEvents&quot;: true, &quot;color&quot;: &quot;red&quot;, &quot;dashArray&quot;: null, &quot;dashOffset&quot;: null, &quot;fill&quot;: true, &quot;fillColor&quot;: &quot;#3186cc&quot;, &quot;fillOpacity&quot;: 0.7, &quot;fillRule&quot;: &quot;evenodd&quot;, &quot;lineCap&quot;: &quot;round&quot;, &quot;lineJoin&quot;: &quot;round&quot;, &quot;opacity&quot;: 1.0, &quot;radius&quot;: 5, &quot;stroke&quot;: true, &quot;weight&quot;: 3}\n            ).addTo(map_86b919d8097dd6ebd6548b2906909101);\n        \n    \n        var popup_214eef7656097b5ab02bf34ee935861b = L.popup({&quot;maxWidth&quot;: &quot;100%&quot;});\n\n        \n            var html_3664d4d4cd75ac3c7c0532be7098274e = $(`&lt;div id=&quot;html_3664d4d4cd75ac3c7c0532be7098274e&quot; style=&quot;width: 100.0%; height: 100.0%;&quot;&gt;VALDEACEDERAS&lt;/div&gt;`)[0];\n            popup_214eef7656097b5ab02bf34ee935861b.setContent(html_3664d4d4cd75ac3c7c0532be7098274e);\n        \n\n        circle_marker_047ccfda80ba10c26517c885a9183f56.bindPopup(popup_214eef7656097b5ab02bf34ee935861b)\n        ;\n\n        \n    \n    \n            var circle_marker_ca587581d17f1cb73f20613e675ed5fb = L.circleMarker(\n                [40.46046000000007, -3.703869999999938],\n                {&quot;bubblingMouseEvents&quot;: true, &quot;color&quot;: &quot;red&quot;, &quot;dashArray&quot;: null, &quot;dashOffset&quot;: null, &quot;fill&quot;: true, &quot;fillColor&quot;: &quot;#3186cc&quot;, &quot;fillOpacity&quot;: 0.7, &quot;fillRule&quot;: &quot;evenodd&quot;, &quot;lineCap&quot;: &quot;round&quot;, &quot;lineJoin&quot;: &quot;round&quot;, &quot;opacity&quot;: 1.0, &quot;radius&quot;: 5, &quot;stroke&quot;: true, &quot;weight&quot;: 3}\n            ).addTo(map_86b919d8097dd6ebd6548b2906909101);\n        \n    \n        var popup_f543f1a0ff57b6922dfef36065d940ff = L.popup({&quot;maxWidth&quot;: &quot;100%&quot;});\n\n        \n            var html_1165d33fc23525980f6cc1388eb49def = $(`&lt;div id=&quot;html_1165d33fc23525980f6cc1388eb49def&quot; style=&quot;width: 100.0%; height: 100.0%;&quot;&gt;BERRUGUETE&lt;/div&gt;`)[0];\n            popup_f543f1a0ff57b6922dfef36065d940ff.setContent(html_1165d33fc23525980f6cc1388eb49def);\n        \n\n        circle_marker_ca587581d17f1cb73f20613e675ed5fb.bindPopup(popup_f543f1a0ff57b6922dfef36065d940ff)\n        ;\n\n        \n    \n    \n            var circle_marker_946e1f788cd2ea63692eb1776e82111e = L.circleMarker(\n                [40.43490000000003, -3.715509999999938],\n                {&quot;bubblingMouseEvents&quot;: true, &quot;color&quot;: &quot;red&quot;, &quot;dashArray&quot;: null, &quot;dashOffset&quot;: null, &quot;fill&quot;: true, &quot;fillColor&quot;: &quot;#3186cc&quot;, &quot;fillOpacity&quot;: 0.7, &quot;fillRule&quot;: &quot;evenodd&quot;, &quot;lineCap&quot;: &quot;round&quot;, &quot;lineJoin&quot;: &quot;round&quot;, &quot;opacity&quot;: 1.0, &quot;radius&quot;: 5, &quot;stroke&quot;: true, &quot;weight&quot;: 3}\n            ).addTo(map_86b919d8097dd6ebd6548b2906909101);\n        \n    \n        var popup_83917a3d06dac628448898b5fc228edd = L.popup({&quot;maxWidth&quot;: &quot;100%&quot;});\n\n        \n            var html_4bcd53143ae943aca324c5423723c216 = $(`&lt;div id=&quot;html_4bcd53143ae943aca324c5423723c216&quot; style=&quot;width: 100.0%; height: 100.0%;&quot;&gt;GAZTAMBIDE&lt;/div&gt;`)[0];\n            popup_83917a3d06dac628448898b5fc228edd.setContent(html_4bcd53143ae943aca324c5423723c216);\n        \n\n        circle_marker_946e1f788cd2ea63692eb1776e82111e.bindPopup(popup_83917a3d06dac628448898b5fc228edd)\n        ;\n\n        \n    \n    \n            var circle_marker_210e44d81879e60fd1f1ed5e65dc569b = L.circleMarker(\n                [40.43286000000006, -3.7083999999999264],\n                {&quot;bubblingMouseEvents&quot;: true, &quot;color&quot;: &quot;red&quot;, &quot;dashArray&quot;: null, &quot;dashOffset&quot;: null, &quot;fill&quot;: true, &quot;fillColor&quot;: &quot;#3186cc&quot;, &quot;fillOpacity&quot;: 0.7, &quot;fillRule&quot;: &quot;evenodd&quot;, &quot;lineCap&quot;: &quot;round&quot;, &quot;lineJoin&quot;: &quot;round&quot;, &quot;opacity&quot;: 1.0, &quot;radius&quot;: 5, &quot;stroke&quot;: true, &quot;weight&quot;: 3}\n            ).addTo(map_86b919d8097dd6ebd6548b2906909101);\n        \n    \n        var popup_eb7cc273d4cec6fe6bd5372467ad41f3 = L.popup({&quot;maxWidth&quot;: &quot;100%&quot;});\n\n        \n            var html_85cb05410a457b7fdc8ee923b8c9697a = $(`&lt;div id=&quot;html_85cb05410a457b7fdc8ee923b8c9697a&quot; style=&quot;width: 100.0%; height: 100.0%;&quot;&gt;ARAPILES&lt;/div&gt;`)[0];\n            popup_eb7cc273d4cec6fe6bd5372467ad41f3.setContent(html_85cb05410a457b7fdc8ee923b8c9697a);\n        \n\n        circle_marker_210e44d81879e60fd1f1ed5e65dc569b.bindPopup(popup_eb7cc273d4cec6fe6bd5372467ad41f3)\n        ;\n\n        \n    \n    \n            var circle_marker_dc8ffe48158d75843779f0f838820f2f = L.circleMarker(\n                [40.43303000000003, -3.7000299999999697],\n                {&quot;bubblingMouseEvents&quot;: true, &quot;color&quot;: &quot;red&quot;, &quot;dashArray&quot;: null, &quot;dashOffset&quot;: null, &quot;fill&quot;: true, &quot;fillColor&quot;: &quot;#3186cc&quot;, &quot;fillOpacity&quot;: 0.7, &quot;fillRule&quot;: &quot;evenodd&quot;, &quot;lineCap&quot;: &quot;round&quot;, &quot;lineJoin&quot;: &quot;round&quot;, &quot;opacity&quot;: 1.0, &quot;radius&quot;: 5, &quot;stroke&quot;: true, &quot;weight&quot;: 3}\n            ).addTo(map_86b919d8097dd6ebd6548b2906909101);\n        \n    \n        var popup_c50ab1b5fefd30a05e486f57568b600e = L.popup({&quot;maxWidth&quot;: &quot;100%&quot;});\n\n        \n            var html_347fd880b9e601637b0894a270db0992 = $(`&lt;div id=&quot;html_347fd880b9e601637b0894a270db0992&quot; style=&quot;width: 100.0%; height: 100.0%;&quot;&gt;TRAFALGAR&lt;/div&gt;`)[0];\n            popup_c50ab1b5fefd30a05e486f57568b600e.setContent(html_347fd880b9e601637b0894a270db0992);\n        \n\n        circle_marker_dc8ffe48158d75843779f0f838820f2f.bindPopup(popup_c50ab1b5fefd30a05e486f57568b600e)\n        ;\n\n        \n    \n    \n            var circle_marker_90b17ef57367fdfb44a0f1d073c1fd86 = L.circleMarker(\n                [40.43296000000004, -3.6915299999999434],\n                {&quot;bubblingMouseEvents&quot;: true, &quot;color&quot;: &quot;red&quot;, &quot;dashArray&quot;: null, &quot;dashOffset&quot;: null, &quot;fill&quot;: true, &quot;fillColor&quot;: &quot;#3186cc&quot;, &quot;fillOpacity&quot;: 0.7, &quot;fillRule&quot;: &quot;evenodd&quot;, &quot;lineCap&quot;: &quot;round&quot;, &quot;lineJoin&quot;: &quot;round&quot;, &quot;opacity&quot;: 1.0, &quot;radius&quot;: 5, &quot;stroke&quot;: true, &quot;weight&quot;: 3}\n            ).addTo(map_86b919d8097dd6ebd6548b2906909101);\n        \n    \n        var popup_03a31afe6aae0c2e5b603449ddd6c8c3 = L.popup({&quot;maxWidth&quot;: &quot;100%&quot;});\n\n        \n            var html_d22e193a476785e6ab1aa7814ea317fd = $(`&lt;div id=&quot;html_d22e193a476785e6ab1aa7814ea317fd&quot; style=&quot;width: 100.0%; height: 100.0%;&quot;&gt;ALMAGRO&lt;/div&gt;`)[0];\n            popup_03a31afe6aae0c2e5b603449ddd6c8c3.setContent(html_d22e193a476785e6ab1aa7814ea317fd);\n        \n\n        circle_marker_90b17ef57367fdfb44a0f1d073c1fd86.bindPopup(popup_03a31afe6aae0c2e5b603449ddd6c8c3)\n        ;\n\n        \n    \n    \n            var circle_marker_a5a2124148d3ff58140f89a61b12e1df = L.circleMarker(\n                [40.444750000000056, -3.695109999999943],\n                {&quot;bubblingMouseEvents&quot;: true, &quot;color&quot;: &quot;red&quot;, &quot;dashArray&quot;: null, &quot;dashOffset&quot;: null, &quot;fill&quot;: true, &quot;fillColor&quot;: &quot;#3186cc&quot;, &quot;fillOpacity&quot;: 0.7, &quot;fillRule&quot;: &quot;evenodd&quot;, &quot;lineCap&quot;: &quot;round&quot;, &quot;lineJoin&quot;: &quot;round&quot;, &quot;opacity&quot;: 1.0, &quot;radius&quot;: 5, &quot;stroke&quot;: true, &quot;weight&quot;: 3}\n            ).addTo(map_86b919d8097dd6ebd6548b2906909101);\n        \n    \n        var popup_6ac690932e8ef62117936c5b3f39bfd6 = L.popup({&quot;maxWidth&quot;: &quot;100%&quot;});\n\n        \n            var html_9df9fee6c54012c86031678ff3efa7b5 = $(`&lt;div id=&quot;html_9df9fee6c54012c86031678ff3efa7b5&quot; style=&quot;width: 100.0%; height: 100.0%;&quot;&gt;RIOS ROSAS&lt;/div&gt;`)[0];\n            popup_6ac690932e8ef62117936c5b3f39bfd6.setContent(html_9df9fee6c54012c86031678ff3efa7b5);\n        \n\n        circle_marker_a5a2124148d3ff58140f89a61b12e1df.bindPopup(popup_6ac690932e8ef62117936c5b3f39bfd6)\n        ;\n\n        \n    \n    \n            var circle_marker_6cbf359bb3052119bc3837ad9fd2ca93 = L.circleMarker(\n                [40.44480000000004, -3.7148299999999495],\n                {&quot;bubblingMouseEvents&quot;: true, &quot;color&quot;: &quot;red&quot;, &quot;dashArray&quot;: null, &quot;dashOffset&quot;: null, &quot;fill&quot;: true, &quot;fillColor&quot;: &quot;#3186cc&quot;, &quot;fillOpacity&quot;: 0.7, &quot;fillRule&quot;: &quot;evenodd&quot;, &quot;lineCap&quot;: &quot;round&quot;, &quot;lineJoin&quot;: &quot;round&quot;, &quot;opacity&quot;: 1.0, &quot;radius&quot;: 5, &quot;stroke&quot;: true, &quot;weight&quot;: 3}\n            ).addTo(map_86b919d8097dd6ebd6548b2906909101);\n        \n    \n        var popup_570a37fd8d542a594e92dc2055934cae = L.popup({&quot;maxWidth&quot;: &quot;100%&quot;});\n\n        \n            var html_a91be295002b4d0afbbbe72e86564d90 = $(`&lt;div id=&quot;html_a91be295002b4d0afbbbe72e86564d90&quot; style=&quot;width: 100.0%; height: 100.0%;&quot;&gt;VALLEHERMOSO&lt;/div&gt;`)[0];\n            popup_570a37fd8d542a594e92dc2055934cae.setContent(html_a91be295002b4d0afbbbe72e86564d90);\n        \n\n        circle_marker_6cbf359bb3052119bc3837ad9fd2ca93.bindPopup(popup_570a37fd8d542a594e92dc2055934cae)\n        ;\n\n        \n    \n    \n            var circle_marker_a7970bf4f315dc68c2a35af09c494934 = L.circleMarker(\n                [40.56436000000008, -3.7985799999999585],\n                {&quot;bubblingMouseEvents&quot;: true, &quot;color&quot;: &quot;red&quot;, &quot;dashArray&quot;: null, &quot;dashOffset&quot;: null, &quot;fill&quot;: true, &quot;fillColor&quot;: &quot;#3186cc&quot;, &quot;fillOpacity&quot;: 0.7, &quot;fillRule&quot;: &quot;evenodd&quot;, &quot;lineCap&quot;: &quot;round&quot;, &quot;lineJoin&quot;: &quot;round&quot;, &quot;opacity&quot;: 1.0, &quot;radius&quot;: 5, &quot;stroke&quot;: true, &quot;weight&quot;: 3}\n            ).addTo(map_86b919d8097dd6ebd6548b2906909101);\n        \n    \n        var popup_8e028ce55208c668a6719daa8815b88b = L.popup({&quot;maxWidth&quot;: &quot;100%&quot;});\n\n        \n            var html_85d57e77986253eaf6770dac25688b8c = $(`&lt;div id=&quot;html_85d57e77986253eaf6770dac25688b8c&quot; style=&quot;width: 100.0%; height: 100.0%;&quot;&gt;EL PARDO&lt;/div&gt;`)[0];\n            popup_8e028ce55208c668a6719daa8815b88b.setContent(html_85d57e77986253eaf6770dac25688b8c);\n        \n\n        circle_marker_a7970bf4f315dc68c2a35af09c494934.bindPopup(popup_8e028ce55208c668a6719daa8815b88b)\n        ;\n\n        \n    \n    \n            var circle_marker_599a0871e33fe28e038bb797ae240f13 = L.circleMarker(\n                [40.480200000000025, -3.73933999999997],\n                {&quot;bubblingMouseEvents&quot;: true, &quot;color&quot;: &quot;red&quot;, &quot;dashArray&quot;: null, &quot;dashOffset&quot;: null, &quot;fill&quot;: true, &quot;fillColor&quot;: &quot;#3186cc&quot;, &quot;fillOpacity&quot;: 0.7, &quot;fillRule&quot;: &quot;evenodd&quot;, &quot;lineCap&quot;: &quot;round&quot;, &quot;lineJoin&quot;: &quot;round&quot;, &quot;opacity&quot;: 1.0, &quot;radius&quot;: 5, &quot;stroke&quot;: true, &quot;weight&quot;: 3}\n            ).addTo(map_86b919d8097dd6ebd6548b2906909101);\n        \n    \n        var popup_d91aedeb57ac6e69510efbb9d2c28a56 = L.popup({&quot;maxWidth&quot;: &quot;100%&quot;});\n\n        \n            var html_3830a82d4a746d5ab0a45f60363a58cd = $(`&lt;div id=&quot;html_3830a82d4a746d5ab0a45f60363a58cd&quot; style=&quot;width: 100.0%; height: 100.0%;&quot;&gt;FUENTELARREINA&lt;/div&gt;`)[0];\n            popup_d91aedeb57ac6e69510efbb9d2c28a56.setContent(html_3830a82d4a746d5ab0a45f60363a58cd);\n        \n\n        circle_marker_599a0871e33fe28e038bb797ae240f13.bindPopup(popup_d91aedeb57ac6e69510efbb9d2c28a56)\n        ;\n\n        \n    \n    \n            var circle_marker_7027ade0f214c46190b32d6274e50116 = L.circleMarker(\n                [40.47839000000005, -3.7273499999999444],\n                {&quot;bubblingMouseEvents&quot;: true, &quot;color&quot;: &quot;red&quot;, &quot;dashArray&quot;: null, &quot;dashOffset&quot;: null, &quot;fill&quot;: true, &quot;fillColor&quot;: &quot;#3186cc&quot;, &quot;fillOpacity&quot;: 0.7, &quot;fillRule&quot;: &quot;evenodd&quot;, &quot;lineCap&quot;: &quot;round&quot;, &quot;lineJoin&quot;: &quot;round&quot;, &quot;opacity&quot;: 1.0, &quot;radius&quot;: 5, &quot;stroke&quot;: true, &quot;weight&quot;: 3}\n            ).addTo(map_86b919d8097dd6ebd6548b2906909101);\n        \n    \n        var popup_07ecdb80f137eef7ccee2f71a29e4a6d = L.popup({&quot;maxWidth&quot;: &quot;100%&quot;});\n\n        \n            var html_81fa804f26fb4880b2ce523edd0dbe67 = $(`&lt;div id=&quot;html_81fa804f26fb4880b2ce523edd0dbe67&quot; style=&quot;width: 100.0%; height: 100.0%;&quot;&gt;PENAGRANDE&lt;/div&gt;`)[0];\n            popup_07ecdb80f137eef7ccee2f71a29e4a6d.setContent(html_81fa804f26fb4880b2ce523edd0dbe67);\n        \n\n        circle_marker_7027ade0f214c46190b32d6274e50116.bindPopup(popup_07ecdb80f137eef7ccee2f71a29e4a6d)\n        ;\n\n        \n    \n    \n            var circle_marker_cb52eb1751461e302e0593eb0fd71634 = L.circleMarker(\n                [40.475430000000074, -3.7112999999999374],\n                {&quot;bubblingMouseEvents&quot;: true, &quot;color&quot;: &quot;red&quot;, &quot;dashArray&quot;: null, &quot;dashOffset&quot;: null, &quot;fill&quot;: true, &quot;fillColor&quot;: &quot;#3186cc&quot;, &quot;fillOpacity&quot;: 0.7, &quot;fillRule&quot;: &quot;evenodd&quot;, &quot;lineCap&quot;: &quot;round&quot;, &quot;lineJoin&quot;: &quot;round&quot;, &quot;opacity&quot;: 1.0, &quot;radius&quot;: 5, &quot;stroke&quot;: true, &quot;weight&quot;: 3}\n            ).addTo(map_86b919d8097dd6ebd6548b2906909101);\n        \n    \n        var popup_dd0093634e9bb58a92749e6303f453d0 = L.popup({&quot;maxWidth&quot;: &quot;100%&quot;});\n\n        \n            var html_a411f592b5a9803c46462cc08959437f = $(`&lt;div id=&quot;html_a411f592b5a9803c46462cc08959437f&quot; style=&quot;width: 100.0%; height: 100.0%;&quot;&gt;PILAR&lt;/div&gt;`)[0];\n            popup_dd0093634e9bb58a92749e6303f453d0.setContent(html_a411f592b5a9803c46462cc08959437f);\n        \n\n        circle_marker_cb52eb1751461e302e0593eb0fd71634.bindPopup(popup_dd0093634e9bb58a92749e6303f453d0)\n        ;\n\n        \n    \n    \n            var circle_marker_0dfc3bcec920ca69a471bfc7b5ef4df5 = L.circleMarker(\n                [40.481580000000065, -3.6942699999999604],\n                {&quot;bubblingMouseEvents&quot;: true, &quot;color&quot;: &quot;red&quot;, &quot;dashArray&quot;: null, &quot;dashOffset&quot;: null, &quot;fill&quot;: true, &quot;fillColor&quot;: &quot;#3186cc&quot;, &quot;fillOpacity&quot;: 0.7, &quot;fillRule&quot;: &quot;evenodd&quot;, &quot;lineCap&quot;: &quot;round&quot;, &quot;lineJoin&quot;: &quot;round&quot;, &quot;opacity&quot;: 1.0, &quot;radius&quot;: 5, &quot;stroke&quot;: true, &quot;weight&quot;: 3}\n            ).addTo(map_86b919d8097dd6ebd6548b2906909101);\n        \n    \n        var popup_8ea521320ae59fee69f34c42e5947752 = L.popup({&quot;maxWidth&quot;: &quot;100%&quot;});\n\n        \n            var html_3145280a7a12d0c08a08760021078c1e = $(`&lt;div id=&quot;html_3145280a7a12d0c08a08760021078c1e&quot; style=&quot;width: 100.0%; height: 100.0%;&quot;&gt;LA PAZ&lt;/div&gt;`)[0];\n            popup_8ea521320ae59fee69f34c42e5947752.setContent(html_3145280a7a12d0c08a08760021078c1e);\n        \n\n        circle_marker_0dfc3bcec920ca69a471bfc7b5ef4df5.bindPopup(popup_8ea521320ae59fee69f34c42e5947752)\n        ;\n\n        \n    \n    \n            var circle_marker_fcafc7e679b52c328caf266aeb779dc8 = L.circleMarker(\n                [40.49991000000006, -3.686079999999947],\n                {&quot;bubblingMouseEvents&quot;: true, &quot;color&quot;: &quot;red&quot;, &quot;dashArray&quot;: null, &quot;dashOffset&quot;: null, &quot;fill&quot;: true, &quot;fillColor&quot;: &quot;#3186cc&quot;, &quot;fillOpacity&quot;: 0.7, &quot;fillRule&quot;: &quot;evenodd&quot;, &quot;lineCap&quot;: &quot;round&quot;, &quot;lineJoin&quot;: &quot;round&quot;, &quot;opacity&quot;: 1.0, &quot;radius&quot;: 5, &quot;stroke&quot;: true, &quot;weight&quot;: 3}\n            ).addTo(map_86b919d8097dd6ebd6548b2906909101);\n        \n    \n        var popup_3ac44efbee13880eb2db37fa8108fc55 = L.popup({&quot;maxWidth&quot;: &quot;100%&quot;});\n\n        \n            var html_6615ad4c2a86e00c7430f4fd44087e08 = $(`&lt;div id=&quot;html_6615ad4c2a86e00c7430f4fd44087e08&quot; style=&quot;width: 100.0%; height: 100.0%;&quot;&gt;VALVERDE&lt;/div&gt;`)[0];\n            popup_3ac44efbee13880eb2db37fa8108fc55.setContent(html_6615ad4c2a86e00c7430f4fd44087e08);\n        \n\n        circle_marker_fcafc7e679b52c328caf266aeb779dc8.bindPopup(popup_3ac44efbee13880eb2db37fa8108fc55)\n        ;\n\n        \n    \n    \n            var circle_marker_79685c12a113330e453572809afc764f = L.circleMarker(\n                [40.49427000000003, -3.7176899999999478],\n                {&quot;bubblingMouseEvents&quot;: true, &quot;color&quot;: &quot;red&quot;, &quot;dashArray&quot;: null, &quot;dashOffset&quot;: null, &quot;fill&quot;: true, &quot;fillColor&quot;: &quot;#3186cc&quot;, &quot;fillOpacity&quot;: 0.7, &quot;fillRule&quot;: &quot;evenodd&quot;, &quot;lineCap&quot;: &quot;round&quot;, &quot;lineJoin&quot;: &quot;round&quot;, &quot;opacity&quot;: 1.0, &quot;radius&quot;: 5, &quot;stroke&quot;: true, &quot;weight&quot;: 3}\n            ).addTo(map_86b919d8097dd6ebd6548b2906909101);\n        \n    \n        var popup_e5b5b680046603e4fef064c4435b49da = L.popup({&quot;maxWidth&quot;: &quot;100%&quot;});\n\n        \n            var html_eabcb0a4af459e54de0e99b4b9e1244e = $(`&lt;div id=&quot;html_eabcb0a4af459e54de0e99b4b9e1244e&quot; style=&quot;width: 100.0%; height: 100.0%;&quot;&gt;MIRASIERRA&lt;/div&gt;`)[0];\n            popup_e5b5b680046603e4fef064c4435b49da.setContent(html_eabcb0a4af459e54de0e99b4b9e1244e);\n        \n\n        circle_marker_79685c12a113330e453572809afc764f.bindPopup(popup_e5b5b680046603e4fef064c4435b49da)\n        ;\n\n        \n    \n    \n            var circle_marker_945a73447c31b503f98097d95a7dd53b = L.circleMarker(\n                [40.543570000000045, -3.696619999999939],\n                {&quot;bubblingMouseEvents&quot;: true, &quot;color&quot;: &quot;red&quot;, &quot;dashArray&quot;: null, &quot;dashOffset&quot;: null, &quot;fill&quot;: true, &quot;fillColor&quot;: &quot;#3186cc&quot;, &quot;fillOpacity&quot;: 0.7, &quot;fillRule&quot;: &quot;evenodd&quot;, &quot;lineCap&quot;: &quot;round&quot;, &quot;lineJoin&quot;: &quot;round&quot;, &quot;opacity&quot;: 1.0, &quot;radius&quot;: 5, &quot;stroke&quot;: true, &quot;weight&quot;: 3}\n            ).addTo(map_86b919d8097dd6ebd6548b2906909101);\n        \n    \n        var popup_64462f77697af76f30c2d5eaa59f21fd = L.popup({&quot;maxWidth&quot;: &quot;100%&quot;});\n\n        \n            var html_2f3ed9ba0e4377543a1b1d3ec4087fdc = $(`&lt;div id=&quot;html_2f3ed9ba0e4377543a1b1d3ec4087fdc&quot; style=&quot;width: 100.0%; height: 100.0%;&quot;&gt;EL GOLOSO&lt;/div&gt;`)[0];\n            popup_64462f77697af76f30c2d5eaa59f21fd.setContent(html_2f3ed9ba0e4377543a1b1d3ec4087fdc);\n        \n\n        circle_marker_945a73447c31b503f98097d95a7dd53b.bindPopup(popup_64462f77697af76f30c2d5eaa59f21fd)\n        ;\n\n        \n    \n    \n            var circle_marker_e0633780d1f69ba69b68de31d26f9309 = L.circleMarker(\n                [40.41336000000007, -3.7598199999999338],\n                {&quot;bubblingMouseEvents&quot;: true, &quot;color&quot;: &quot;red&quot;, &quot;dashArray&quot;: null, &quot;dashOffset&quot;: null, &quot;fill&quot;: true, &quot;fillColor&quot;: &quot;#3186cc&quot;, &quot;fillOpacity&quot;: 0.7, &quot;fillRule&quot;: &quot;evenodd&quot;, &quot;lineCap&quot;: &quot;round&quot;, &quot;lineJoin&quot;: &quot;round&quot;, &quot;opacity&quot;: 1.0, &quot;radius&quot;: 5, &quot;stroke&quot;: true, &quot;weight&quot;: 3}\n            ).addTo(map_86b919d8097dd6ebd6548b2906909101);\n        \n    \n        var popup_c2068a0601dc8e2b515ea87d248bc28f = L.popup({&quot;maxWidth&quot;: &quot;100%&quot;});\n\n        \n            var html_14b13e549ce9e97a4f7e5ba32b7f946e = $(`&lt;div id=&quot;html_14b13e549ce9e97a4f7e5ba32b7f946e&quot; style=&quot;width: 100.0%; height: 100.0%;&quot;&gt;CASA DE CAMPO&lt;/div&gt;`)[0];\n            popup_c2068a0601dc8e2b515ea87d248bc28f.setContent(html_14b13e549ce9e97a4f7e5ba32b7f946e);\n        \n\n        circle_marker_e0633780d1f69ba69b68de31d26f9309.bindPopup(popup_c2068a0601dc8e2b515ea87d248bc28f)\n        ;\n\n        \n    \n    \n            var circle_marker_992f2ac82c7fdb54526580e6680e43fa = L.circleMarker(\n                [40.42992000000004, -3.7184199999999805],\n                {&quot;bubblingMouseEvents&quot;: true, &quot;color&quot;: &quot;red&quot;, &quot;dashArray&quot;: null, &quot;dashOffset&quot;: null, &quot;fill&quot;: true, &quot;fillColor&quot;: &quot;#3186cc&quot;, &quot;fillOpacity&quot;: 0.7, &quot;fillRule&quot;: &quot;evenodd&quot;, &quot;lineCap&quot;: &quot;round&quot;, &quot;lineJoin&quot;: &quot;round&quot;, &quot;opacity&quot;: 1.0, &quot;radius&quot;: 5, &quot;stroke&quot;: true, &quot;weight&quot;: 3}\n            ).addTo(map_86b919d8097dd6ebd6548b2906909101);\n        \n    \n        var popup_c1d02e66cbb5742fd572c23677171b87 = L.popup({&quot;maxWidth&quot;: &quot;100%&quot;});\n\n        \n            var html_ea1910fa5e7b273eb5dcb35780d8d6f7 = $(`&lt;div id=&quot;html_ea1910fa5e7b273eb5dcb35780d8d6f7&quot; style=&quot;width: 100.0%; height: 100.0%;&quot;&gt;ARGUELLES&lt;/div&gt;`)[0];\n            popup_c1d02e66cbb5742fd572c23677171b87.setContent(html_ea1910fa5e7b273eb5dcb35780d8d6f7);\n        \n\n        circle_marker_992f2ac82c7fdb54526580e6680e43fa.bindPopup(popup_c1d02e66cbb5742fd572c23677171b87)\n        ;\n\n        \n    \n    \n            var circle_marker_4e5475b4c08ce7b3192f07861e0ac7a7 = L.circleMarker(\n                [40.44717000000003, -3.7306499999999687],\n                {&quot;bubblingMouseEvents&quot;: true, &quot;color&quot;: &quot;red&quot;, &quot;dashArray&quot;: null, &quot;dashOffset&quot;: null, &quot;fill&quot;: true, &quot;fillColor&quot;: &quot;#3186cc&quot;, &quot;fillOpacity&quot;: 0.7, &quot;fillRule&quot;: &quot;evenodd&quot;, &quot;lineCap&quot;: &quot;round&quot;, &quot;lineJoin&quot;: &quot;round&quot;, &quot;opacity&quot;: 1.0, &quot;radius&quot;: 5, &quot;stroke&quot;: true, &quot;weight&quot;: 3}\n            ).addTo(map_86b919d8097dd6ebd6548b2906909101);\n        \n    \n        var popup_bd814ae3e63d99f019f3482e28659345 = L.popup({&quot;maxWidth&quot;: &quot;100%&quot;});\n\n        \n            var html_83147f1d8a1676442a95d7ad625ab1a4 = $(`&lt;div id=&quot;html_83147f1d8a1676442a95d7ad625ab1a4&quot; style=&quot;width: 100.0%; height: 100.0%;&quot;&gt;CIUDAD UNIVERSITARIA&lt;/div&gt;`)[0];\n            popup_bd814ae3e63d99f019f3482e28659345.setContent(html_83147f1d8a1676442a95d7ad625ab1a4);\n        \n\n        circle_marker_4e5475b4c08ce7b3192f07861e0ac7a7.bindPopup(popup_bd814ae3e63d99f019f3482e28659345)\n        ;\n\n        \n    \n    \n            var circle_marker_075f2628a2841c023b8b16bb603a77e3 = L.circleMarker(\n                [40.46666000000005, -3.7197399999999448],\n                {&quot;bubblingMouseEvents&quot;: true, &quot;color&quot;: &quot;red&quot;, &quot;dashArray&quot;: null, &quot;dashOffset&quot;: null, &quot;fill&quot;: true, &quot;fillColor&quot;: &quot;#3186cc&quot;, &quot;fillOpacity&quot;: 0.7, &quot;fillRule&quot;: &quot;evenodd&quot;, &quot;lineCap&quot;: &quot;round&quot;, &quot;lineJoin&quot;: &quot;round&quot;, &quot;opacity&quot;: 1.0, &quot;radius&quot;: 5, &quot;stroke&quot;: true, &quot;weight&quot;: 3}\n            ).addTo(map_86b919d8097dd6ebd6548b2906909101);\n        \n    \n        var popup_794eaf81605662f90a3f1bdd9fb40c7a = L.popup({&quot;maxWidth&quot;: &quot;100%&quot;});\n\n        \n            var html_1611d2006e9db3e7839e7c01f730203e = $(`&lt;div id=&quot;html_1611d2006e9db3e7839e7c01f730203e&quot; style=&quot;width: 100.0%; height: 100.0%;&quot;&gt;VALDEZARZA&lt;/div&gt;`)[0];\n            popup_794eaf81605662f90a3f1bdd9fb40c7a.setContent(html_1611d2006e9db3e7839e7c01f730203e);\n        \n\n        circle_marker_075f2628a2841c023b8b16bb603a77e3.bindPopup(popup_794eaf81605662f90a3f1bdd9fb40c7a)\n        ;\n\n        \n    \n    \n            var circle_marker_a086ffc9caa32851defac37c56f3bcd6 = L.circleMarker(\n                [40.46996000000007, -3.7764099999999416],\n                {&quot;bubblingMouseEvents&quot;: true, &quot;color&quot;: &quot;red&quot;, &quot;dashArray&quot;: null, &quot;dashOffset&quot;: null, &quot;fill&quot;: true, &quot;fillColor&quot;: &quot;#3186cc&quot;, &quot;fillOpacity&quot;: 0.7, &quot;fillRule&quot;: &quot;evenodd&quot;, &quot;lineCap&quot;: &quot;round&quot;, &quot;lineJoin&quot;: &quot;round&quot;, &quot;opacity&quot;: 1.0, &quot;radius&quot;: 5, &quot;stroke&quot;: true, &quot;weight&quot;: 3}\n            ).addTo(map_86b919d8097dd6ebd6548b2906909101);\n        \n    \n        var popup_6ffdbbd0e729a0baa6a76823e0964af3 = L.popup({&quot;maxWidth&quot;: &quot;100%&quot;});\n\n        \n            var html_67471bb805adb94acccebeee800d8b29 = $(`&lt;div id=&quot;html_67471bb805adb94acccebeee800d8b29&quot; style=&quot;width: 100.0%; height: 100.0%;&quot;&gt;VALDEMARIN&lt;/div&gt;`)[0];\n            popup_6ffdbbd0e729a0baa6a76823e0964af3.setContent(html_67471bb805adb94acccebeee800d8b29);\n        \n\n        circle_marker_a086ffc9caa32851defac37c56f3bcd6.bindPopup(popup_6ffdbbd0e729a0baa6a76823e0964af3)\n        ;\n\n        \n    \n    \n            var circle_marker_e8e911b24cd1a7866f26a0d4f24838f5 = L.circleMarker(\n                [40.46893000000006, -3.820609999999931],\n                {&quot;bubblingMouseEvents&quot;: true, &quot;color&quot;: &quot;red&quot;, &quot;dashArray&quot;: null, &quot;dashOffset&quot;: null, &quot;fill&quot;: true, &quot;fillColor&quot;: &quot;#3186cc&quot;, &quot;fillOpacity&quot;: 0.7, &quot;fillRule&quot;: &quot;evenodd&quot;, &quot;lineCap&quot;: &quot;round&quot;, &quot;lineJoin&quot;: &quot;round&quot;, &quot;opacity&quot;: 1.0, &quot;radius&quot;: 5, &quot;stroke&quot;: true, &quot;weight&quot;: 3}\n            ).addTo(map_86b919d8097dd6ebd6548b2906909101);\n        \n    \n        var popup_c81d2bad8f06427a1265e9c2858d620f = L.popup({&quot;maxWidth&quot;: &quot;100%&quot;});\n\n        \n            var html_af9f436567d15729cdbd258ebc5cff06 = $(`&lt;div id=&quot;html_af9f436567d15729cdbd258ebc5cff06&quot; style=&quot;width: 100.0%; height: 100.0%;&quot;&gt;EL PLANTIO&lt;/div&gt;`)[0];\n            popup_c81d2bad8f06427a1265e9c2858d620f.setContent(html_af9f436567d15729cdbd258ebc5cff06);\n        \n\n        circle_marker_e8e911b24cd1a7866f26a0d4f24838f5.bindPopup(popup_c81d2bad8f06427a1265e9c2858d620f)\n        ;\n\n        \n    \n    \n            var circle_marker_c165adcef1d3b488265baca0ac766713 = L.circleMarker(\n                [40.45620000000008, -3.7804199999999355],\n                {&quot;bubblingMouseEvents&quot;: true, &quot;color&quot;: &quot;red&quot;, &quot;dashArray&quot;: null, &quot;dashOffset&quot;: null, &quot;fill&quot;: true, &quot;fillColor&quot;: &quot;#3186cc&quot;, &quot;fillOpacity&quot;: 0.7, &quot;fillRule&quot;: &quot;evenodd&quot;, &quot;lineCap&quot;: &quot;round&quot;, &quot;lineJoin&quot;: &quot;round&quot;, &quot;opacity&quot;: 1.0, &quot;radius&quot;: 5, &quot;stroke&quot;: true, &quot;weight&quot;: 3}\n            ).addTo(map_86b919d8097dd6ebd6548b2906909101);\n        \n    \n        var popup_7e26a93634a37f96f010679157e36bcd = L.popup({&quot;maxWidth&quot;: &quot;100%&quot;});\n\n        \n            var html_825e90a6e7dc3e502ba1091d2c1c7c6c = $(`&lt;div id=&quot;html_825e90a6e7dc3e502ba1091d2c1c7c6c&quot; style=&quot;width: 100.0%; height: 100.0%;&quot;&gt;ARAVACA&lt;/div&gt;`)[0];\n            popup_7e26a93634a37f96f010679157e36bcd.setContent(html_825e90a6e7dc3e502ba1091d2c1c7c6c);\n        \n\n        circle_marker_c165adcef1d3b488265baca0ac766713.bindPopup(popup_7e26a93634a37f96f010679157e36bcd)\n        ;\n\n        \n    \n    \n            var circle_marker_437724eec2f00757ad2d7b9dc5797322 = L.circleMarker(\n                [40.40280000000007, -3.731779999999958],\n                {&quot;bubblingMouseEvents&quot;: true, &quot;color&quot;: &quot;red&quot;, &quot;dashArray&quot;: null, &quot;dashOffset&quot;: null, &quot;fill&quot;: true, &quot;fillColor&quot;: &quot;#3186cc&quot;, &quot;fillOpacity&quot;: 0.7, &quot;fillRule&quot;: &quot;evenodd&quot;, &quot;lineCap&quot;: &quot;round&quot;, &quot;lineJoin&quot;: &quot;round&quot;, &quot;opacity&quot;: 1.0, &quot;radius&quot;: 5, &quot;stroke&quot;: true, &quot;weight&quot;: 3}\n            ).addTo(map_86b919d8097dd6ebd6548b2906909101);\n        \n    \n        var popup_a2ba18e0b04abbd2005d89c0c83ac78a = L.popup({&quot;maxWidth&quot;: &quot;100%&quot;});\n\n        \n            var html_a16ee41c075ca8c8b0e7cfaee49f99fc = $(`&lt;div id=&quot;html_a16ee41c075ca8c8b0e7cfaee49f99fc&quot; style=&quot;width: 100.0%; height: 100.0%;&quot;&gt;LOS CARMENES&lt;/div&gt;`)[0];\n            popup_a2ba18e0b04abbd2005d89c0c83ac78a.setContent(html_a16ee41c075ca8c8b0e7cfaee49f99fc);\n        \n\n        circle_marker_437724eec2f00757ad2d7b9dc5797322.bindPopup(popup_a2ba18e0b04abbd2005d89c0c83ac78a)\n        ;\n\n        \n    \n    \n            var circle_marker_725a6427aa9489970d1336c3b4bd0016 = L.circleMarker(\n                [40.40886000000006, -3.733919999999955],\n                {&quot;bubblingMouseEvents&quot;: true, &quot;color&quot;: &quot;red&quot;, &quot;dashArray&quot;: null, &quot;dashOffset&quot;: null, &quot;fill&quot;: true, &quot;fillColor&quot;: &quot;#3186cc&quot;, &quot;fillOpacity&quot;: 0.7, &quot;fillRule&quot;: &quot;evenodd&quot;, &quot;lineCap&quot;: &quot;round&quot;, &quot;lineJoin&quot;: &quot;round&quot;, &quot;opacity&quot;: 1.0, &quot;radius&quot;: 5, &quot;stroke&quot;: true, &quot;weight&quot;: 3}\n            ).addTo(map_86b919d8097dd6ebd6548b2906909101);\n        \n    \n        var popup_b5bcdaa1d39d9205c775f744d74a6cd9 = L.popup({&quot;maxWidth&quot;: &quot;100%&quot;});\n\n        \n            var html_261dfd8c8fdf4ac9e610c9cc166aa3de = $(`&lt;div id=&quot;html_261dfd8c8fdf4ac9e610c9cc166aa3de&quot; style=&quot;width: 100.0%; height: 100.0%;&quot;&gt;PUERTA DEL ANGEL&lt;/div&gt;`)[0];\n            popup_b5bcdaa1d39d9205c775f744d74a6cd9.setContent(html_261dfd8c8fdf4ac9e610c9cc166aa3de);\n        \n\n        circle_marker_725a6427aa9489970d1336c3b4bd0016.bindPopup(popup_b5bcdaa1d39d9205c775f744d74a6cd9)\n        ;\n\n        \n    \n    \n            var circle_marker_77064b10770fc453b961995a310642e1 = L.circleMarker(\n                [40.403580000000034, -3.74959999999993],\n                {&quot;bubblingMouseEvents&quot;: true, &quot;color&quot;: &quot;red&quot;, &quot;dashArray&quot;: null, &quot;dashOffset&quot;: null, &quot;fill&quot;: true, &quot;fillColor&quot;: &quot;#3186cc&quot;, &quot;fillOpacity&quot;: 0.7, &quot;fillRule&quot;: &quot;evenodd&quot;, &quot;lineCap&quot;: &quot;round&quot;, &quot;lineJoin&quot;: &quot;round&quot;, &quot;opacity&quot;: 1.0, &quot;radius&quot;: 5, &quot;stroke&quot;: true, &quot;weight&quot;: 3}\n            ).addTo(map_86b919d8097dd6ebd6548b2906909101);\n        \n    \n        var popup_65c0b7c4cef44e6b15ff6ce8340afa7f = L.popup({&quot;maxWidth&quot;: &quot;100%&quot;});\n\n        \n            var html_55313711b3ea35f155cff91783b58abe = $(`&lt;div id=&quot;html_55313711b3ea35f155cff91783b58abe&quot; style=&quot;width: 100.0%; height: 100.0%;&quot;&gt;LUCERO&lt;/div&gt;`)[0];\n            popup_65c0b7c4cef44e6b15ff6ce8340afa7f.setContent(html_55313711b3ea35f155cff91783b58abe);\n        \n\n        circle_marker_77064b10770fc453b961995a310642e1.bindPopup(popup_65c0b7c4cef44e6b15ff6ce8340afa7f)\n        ;\n\n        \n    \n    \n            var circle_marker_07f430337f5a99daadd1046d2fcbf220 = L.circleMarker(\n                [40.39271000000008, -3.760319999999979],\n                {&quot;bubblingMouseEvents&quot;: true, &quot;color&quot;: &quot;red&quot;, &quot;dashArray&quot;: null, &quot;dashOffset&quot;: null, &quot;fill&quot;: true, &quot;fillColor&quot;: &quot;#3186cc&quot;, &quot;fillOpacity&quot;: 0.7, &quot;fillRule&quot;: &quot;evenodd&quot;, &quot;lineCap&quot;: &quot;round&quot;, &quot;lineJoin&quot;: &quot;round&quot;, &quot;opacity&quot;: 1.0, &quot;radius&quot;: 5, &quot;stroke&quot;: true, &quot;weight&quot;: 3}\n            ).addTo(map_86b919d8097dd6ebd6548b2906909101);\n        \n    \n        var popup_6ce644e26d417dd37429f51c95bc56da = L.popup({&quot;maxWidth&quot;: &quot;100%&quot;});\n\n        \n            var html_a564e64c0ebddf19c9a6b51568e22b76 = $(`&lt;div id=&quot;html_a564e64c0ebddf19c9a6b51568e22b76&quot; style=&quot;width: 100.0%; height: 100.0%;&quot;&gt;ALUCHE&lt;/div&gt;`)[0];\n            popup_6ce644e26d417dd37429f51c95bc56da.setContent(html_a564e64c0ebddf19c9a6b51568e22b76);\n        \n\n        circle_marker_07f430337f5a99daadd1046d2fcbf220.bindPopup(popup_6ce644e26d417dd37429f51c95bc56da)\n        ;\n\n        \n    \n    \n            var circle_marker_dc17cb951a06c7777c020ff663086deb = L.circleMarker(\n                [40.396660000000054, -3.7740799999999695],\n                {&quot;bubblingMouseEvents&quot;: true, &quot;color&quot;: &quot;red&quot;, &quot;dashArray&quot;: null, &quot;dashOffset&quot;: null, &quot;fill&quot;: true, &quot;fillColor&quot;: &quot;#3186cc&quot;, &quot;fillOpacity&quot;: 0.7, &quot;fillRule&quot;: &quot;evenodd&quot;, &quot;lineCap&quot;: &quot;round&quot;, &quot;lineJoin&quot;: &quot;round&quot;, &quot;opacity&quot;: 1.0, &quot;radius&quot;: 5, &quot;stroke&quot;: true, &quot;weight&quot;: 3}\n            ).addTo(map_86b919d8097dd6ebd6548b2906909101);\n        \n    \n        var popup_8779bb0d0d4e70b59dedb50df501fd42 = L.popup({&quot;maxWidth&quot;: &quot;100%&quot;});\n\n        \n            var html_27b2b7e403d45439446fc544b7863953 = $(`&lt;div id=&quot;html_27b2b7e403d45439446fc544b7863953&quot; style=&quot;width: 100.0%; height: 100.0%;&quot;&gt;CAMPAMENTO&lt;/div&gt;`)[0];\n            popup_8779bb0d0d4e70b59dedb50df501fd42.setContent(html_27b2b7e403d45439446fc544b7863953);\n        \n\n        circle_marker_dc17cb951a06c7777c020ff663086deb.bindPopup(popup_8779bb0d0d4e70b59dedb50df501fd42)\n        ;\n\n        \n    \n    \n            var circle_marker_fae9cebfa5bbd36213e30fcb69e83201 = L.circleMarker(\n                [40.365080000000034, -3.775299999999959],\n                {&quot;bubblingMouseEvents&quot;: true, &quot;color&quot;: &quot;red&quot;, &quot;dashArray&quot;: null, &quot;dashOffset&quot;: null, &quot;fill&quot;: true, &quot;fillColor&quot;: &quot;#3186cc&quot;, &quot;fillOpacity&quot;: 0.7, &quot;fillRule&quot;: &quot;evenodd&quot;, &quot;lineCap&quot;: &quot;round&quot;, &quot;lineJoin&quot;: &quot;round&quot;, &quot;opacity&quot;: 1.0, &quot;radius&quot;: 5, &quot;stroke&quot;: true, &quot;weight&quot;: 3}\n            ).addTo(map_86b919d8097dd6ebd6548b2906909101);\n        \n    \n        var popup_0e8f5972e4aeb7ef905cbbbae6b9af15 = L.popup({&quot;maxWidth&quot;: &quot;100%&quot;});\n\n        \n            var html_ee9c98fde22b697144483ad058fdf55b = $(`&lt;div id=&quot;html_ee9c98fde22b697144483ad058fdf55b&quot; style=&quot;width: 100.0%; height: 100.0%;&quot;&gt;CUATRO VIENTOS&lt;/div&gt;`)[0];\n            popup_0e8f5972e4aeb7ef905cbbbae6b9af15.setContent(html_ee9c98fde22b697144483ad058fdf55b);\n        \n\n        circle_marker_fae9cebfa5bbd36213e30fcb69e83201.bindPopup(popup_0e8f5972e4aeb7ef905cbbbae6b9af15)\n        ;\n\n        \n    \n    \n            var circle_marker_afa5d374d634e6ed2f62e43d26291a8b = L.circleMarker(\n                [40.38166000000007, -3.7718799999999533],\n                {&quot;bubblingMouseEvents&quot;: true, &quot;color&quot;: &quot;red&quot;, &quot;dashArray&quot;: null, &quot;dashOffset&quot;: null, &quot;fill&quot;: true, &quot;fillColor&quot;: &quot;#3186cc&quot;, &quot;fillOpacity&quot;: 0.7, &quot;fillRule&quot;: &quot;evenodd&quot;, &quot;lineCap&quot;: &quot;round&quot;, &quot;lineJoin&quot;: &quot;round&quot;, &quot;opacity&quot;: 1.0, &quot;radius&quot;: 5, &quot;stroke&quot;: true, &quot;weight&quot;: 3}\n            ).addTo(map_86b919d8097dd6ebd6548b2906909101);\n        \n    \n        var popup_0408415553495965087d295ab8989460 = L.popup({&quot;maxWidth&quot;: &quot;100%&quot;});\n\n        \n            var html_70750dfbb655b983b2e7507edb368ef0 = $(`&lt;div id=&quot;html_70750dfbb655b983b2e7507edb368ef0&quot; style=&quot;width: 100.0%; height: 100.0%;&quot;&gt;LAS AGUILAS&lt;/div&gt;`)[0];\n            popup_0408415553495965087d295ab8989460.setContent(html_70750dfbb655b983b2e7507edb368ef0);\n        \n\n        circle_marker_afa5d374d634e6ed2f62e43d26291a8b.bindPopup(popup_0408415553495965087d295ab8989460)\n        ;\n\n        \n    \n    \n            var circle_marker_fc3aff63650b2a026ace17c22d74ecb4 = L.circleMarker(\n                [40.39495000000005, -3.70975999999996],\n                {&quot;bubblingMouseEvents&quot;: true, &quot;color&quot;: &quot;red&quot;, &quot;dashArray&quot;: null, &quot;dashOffset&quot;: null, &quot;fill&quot;: true, &quot;fillColor&quot;: &quot;#3186cc&quot;, &quot;fillOpacity&quot;: 0.7, &quot;fillRule&quot;: &quot;evenodd&quot;, &quot;lineCap&quot;: &quot;round&quot;, &quot;lineJoin&quot;: &quot;round&quot;, &quot;opacity&quot;: 1.0, &quot;radius&quot;: 5, &quot;stroke&quot;: true, &quot;weight&quot;: 3}\n            ).addTo(map_86b919d8097dd6ebd6548b2906909101);\n        \n    \n        var popup_26b59400bd19a0008e334d98f77548d0 = L.popup({&quot;maxWidth&quot;: &quot;100%&quot;});\n\n        \n            var html_05466f35b7506ef48a29cbfc0f140830 = $(`&lt;div id=&quot;html_05466f35b7506ef48a29cbfc0f140830&quot; style=&quot;width: 100.0%; height: 100.0%;&quot;&gt;COMILLAS&lt;/div&gt;`)[0];\n            popup_26b59400bd19a0008e334d98f77548d0.setContent(html_05466f35b7506ef48a29cbfc0f140830);\n        \n\n        circle_marker_fc3aff63650b2a026ace17c22d74ecb4.bindPopup(popup_26b59400bd19a0008e334d98f77548d0)\n        ;\n\n        \n    \n    \n            var circle_marker_6f0a27e98d96d133acfeb343aeb00f10 = L.circleMarker(\n                [40.38915000000003, -3.7237499999999386],\n                {&quot;bubblingMouseEvents&quot;: true, &quot;color&quot;: &quot;red&quot;, &quot;dashArray&quot;: null, &quot;dashOffset&quot;: null, &quot;fill&quot;: true, &quot;fillColor&quot;: &quot;#3186cc&quot;, &quot;fillOpacity&quot;: 0.7, &quot;fillRule&quot;: &quot;evenodd&quot;, &quot;lineCap&quot;: &quot;round&quot;, &quot;lineJoin&quot;: &quot;round&quot;, &quot;opacity&quot;: 1.0, &quot;radius&quot;: 5, &quot;stroke&quot;: true, &quot;weight&quot;: 3}\n            ).addTo(map_86b919d8097dd6ebd6548b2906909101);\n        \n    \n        var popup_6644fe91edca89b8ea4f8e88155e3ac9 = L.popup({&quot;maxWidth&quot;: &quot;100%&quot;});\n\n        \n            var html_ccc0c057b37b6158260e0bd6f7e41288 = $(`&lt;div id=&quot;html_ccc0c057b37b6158260e0bd6f7e41288&quot; style=&quot;width: 100.0%; height: 100.0%;&quot;&gt;OPANEL&lt;/div&gt;`)[0];\n            popup_6644fe91edca89b8ea4f8e88155e3ac9.setContent(html_ccc0c057b37b6158260e0bd6f7e41288);\n        \n\n        circle_marker_6f0a27e98d96d133acfeb343aeb00f10.bindPopup(popup_6644fe91edca89b8ea4f8e88155e3ac9)\n        ;\n\n        \n    \n    \n            var circle_marker_9804b8ecd9646d86f70d42a9436e1281 = L.circleMarker(\n                [40.395880000000034, -3.730479999999943],\n                {&quot;bubblingMouseEvents&quot;: true, &quot;color&quot;: &quot;red&quot;, &quot;dashArray&quot;: null, &quot;dashOffset&quot;: null, &quot;fill&quot;: true, &quot;fillColor&quot;: &quot;#3186cc&quot;, &quot;fillOpacity&quot;: 0.7, &quot;fillRule&quot;: &quot;evenodd&quot;, &quot;lineCap&quot;: &quot;round&quot;, &quot;lineJoin&quot;: &quot;round&quot;, &quot;opacity&quot;: 1.0, &quot;radius&quot;: 5, &quot;stroke&quot;: true, &quot;weight&quot;: 3}\n            ).addTo(map_86b919d8097dd6ebd6548b2906909101);\n        \n    \n        var popup_b36a989a11dca590bd07a503e4321dbd = L.popup({&quot;maxWidth&quot;: &quot;100%&quot;});\n\n        \n            var html_d0610dec365655caf61c4640be797ef6 = $(`&lt;div id=&quot;html_d0610dec365655caf61c4640be797ef6&quot; style=&quot;width: 100.0%; height: 100.0%;&quot;&gt;SAN ISIDRO&lt;/div&gt;`)[0];\n            popup_b36a989a11dca590bd07a503e4321dbd.setContent(html_d0610dec365655caf61c4640be797ef6);\n        \n\n        circle_marker_9804b8ecd9646d86f70d42a9436e1281.bindPopup(popup_b36a989a11dca590bd07a503e4321dbd)\n        ;\n\n        \n    \n    \n            var circle_marker_188db8eae653e6f280f5a8c711b4f244 = L.circleMarker(\n                [40.38492000000008, -3.74634999999995],\n                {&quot;bubblingMouseEvents&quot;: true, &quot;color&quot;: &quot;red&quot;, &quot;dashArray&quot;: null, &quot;dashOffset&quot;: null, &quot;fill&quot;: true, &quot;fillColor&quot;: &quot;#3186cc&quot;, &quot;fillOpacity&quot;: 0.7, &quot;fillRule&quot;: &quot;evenodd&quot;, &quot;lineCap&quot;: &quot;round&quot;, &quot;lineJoin&quot;: &quot;round&quot;, &quot;opacity&quot;: 1.0, &quot;radius&quot;: 5, &quot;stroke&quot;: true, &quot;weight&quot;: 3}\n            ).addTo(map_86b919d8097dd6ebd6548b2906909101);\n        \n    \n        var popup_a8efff294c82cb1bb6b85a9df6220866 = L.popup({&quot;maxWidth&quot;: &quot;100%&quot;});\n\n        \n            var html_3fde2d90267c31d3ee482ecd56d208e3 = $(`&lt;div id=&quot;html_3fde2d90267c31d3ee482ecd56d208e3&quot; style=&quot;width: 100.0%; height: 100.0%;&quot;&gt;VISTA ALEGRE&lt;/div&gt;`)[0];\n            popup_a8efff294c82cb1bb6b85a9df6220866.setContent(html_3fde2d90267c31d3ee482ecd56d208e3);\n        \n\n        circle_marker_188db8eae653e6f280f5a8c711b4f244.bindPopup(popup_a8efff294c82cb1bb6b85a9df6220866)\n        ;\n\n        \n    \n    \n            var circle_marker_ba26eb9ffa49db08369323673255ce49 = L.circleMarker(\n                [40.37982000000005, -3.7404599999999277],\n                {&quot;bubblingMouseEvents&quot;: true, &quot;color&quot;: &quot;red&quot;, &quot;dashArray&quot;: null, &quot;dashOffset&quot;: null, &quot;fill&quot;: true, &quot;fillColor&quot;: &quot;#3186cc&quot;, &quot;fillOpacity&quot;: 0.7, &quot;fillRule&quot;: &quot;evenodd&quot;, &quot;lineCap&quot;: &quot;round&quot;, &quot;lineJoin&quot;: &quot;round&quot;, &quot;opacity&quot;: 1.0, &quot;radius&quot;: 5, &quot;stroke&quot;: true, &quot;weight&quot;: 3}\n            ).addTo(map_86b919d8097dd6ebd6548b2906909101);\n        \n    \n        var popup_bd99b0fc754d235d67a101acba8fa281 = L.popup({&quot;maxWidth&quot;: &quot;100%&quot;});\n\n        \n            var html_3bd699e020cec195dc29a7f65ccabd56 = $(`&lt;div id=&quot;html_3bd699e020cec195dc29a7f65ccabd56&quot; style=&quot;width: 100.0%; height: 100.0%;&quot;&gt;PUERTA BONITA&lt;/div&gt;`)[0];\n            popup_bd99b0fc754d235d67a101acba8fa281.setContent(html_3bd699e020cec195dc29a7f65ccabd56);\n        \n\n        circle_marker_ba26eb9ffa49db08369323673255ce49.bindPopup(popup_bd99b0fc754d235d67a101acba8fa281)\n        ;\n\n        \n    \n    \n            var circle_marker_6c71c2829e59af79f3924a7e1ce3ed11 = L.circleMarker(\n                [40.36860000000007, -3.7400499999999397],\n                {&quot;bubblingMouseEvents&quot;: true, &quot;color&quot;: &quot;red&quot;, &quot;dashArray&quot;: null, &quot;dashOffset&quot;: null, &quot;fill&quot;: true, &quot;fillColor&quot;: &quot;#3186cc&quot;, &quot;fillOpacity&quot;: 0.7, &quot;fillRule&quot;: &quot;evenodd&quot;, &quot;lineCap&quot;: &quot;round&quot;, &quot;lineJoin&quot;: &quot;round&quot;, &quot;opacity&quot;: 1.0, &quot;radius&quot;: 5, &quot;stroke&quot;: true, &quot;weight&quot;: 3}\n            ).addTo(map_86b919d8097dd6ebd6548b2906909101);\n        \n    \n        var popup_4746ab52c723f75ae4c7a0af90048737 = L.popup({&quot;maxWidth&quot;: &quot;100%&quot;});\n\n        \n            var html_cf58daae12cffa7b77498a1b9dddede9 = $(`&lt;div id=&quot;html_cf58daae12cffa7b77498a1b9dddede9&quot; style=&quot;width: 100.0%; height: 100.0%;&quot;&gt;BUENAVISTA&lt;/div&gt;`)[0];\n            popup_4746ab52c723f75ae4c7a0af90048737.setContent(html_cf58daae12cffa7b77498a1b9dddede9);\n        \n\n        circle_marker_6c71c2829e59af79f3924a7e1ce3ed11.bindPopup(popup_4746ab52c723f75ae4c7a0af90048737)\n        ;\n\n        \n    \n    \n            var circle_marker_ec66796ceb84e6c4ba8e368fc2661308 = L.circleMarker(\n                [40.379800000000046, -3.726359999999943],\n                {&quot;bubblingMouseEvents&quot;: true, &quot;color&quot;: &quot;red&quot;, &quot;dashArray&quot;: null, &quot;dashOffset&quot;: null, &quot;fill&quot;: true, &quot;fillColor&quot;: &quot;#3186cc&quot;, &quot;fillOpacity&quot;: 0.7, &quot;fillRule&quot;: &quot;evenodd&quot;, &quot;lineCap&quot;: &quot;round&quot;, &quot;lineJoin&quot;: &quot;round&quot;, &quot;opacity&quot;: 1.0, &quot;radius&quot;: 5, &quot;stroke&quot;: true, &quot;weight&quot;: 3}\n            ).addTo(map_86b919d8097dd6ebd6548b2906909101);\n        \n    \n        var popup_e00517206890d15f8bb854f2b149fd2f = L.popup({&quot;maxWidth&quot;: &quot;100%&quot;});\n\n        \n            var html_35c36dfcb30bb6b5fef27f86cda3e250 = $(`&lt;div id=&quot;html_35c36dfcb30bb6b5fef27f86cda3e250&quot; style=&quot;width: 100.0%; height: 100.0%;&quot;&gt;ABRANTES&lt;/div&gt;`)[0];\n            popup_e00517206890d15f8bb854f2b149fd2f.setContent(html_35c36dfcb30bb6b5fef27f86cda3e250);\n        \n\n        circle_marker_ec66796ceb84e6c4ba8e368fc2661308.bindPopup(popup_e00517206890d15f8bb854f2b149fd2f)\n        ;\n\n        \n    \n    \n            var circle_marker_071c1502ce85ef001038996e57e47155 = L.circleMarker(\n                [40.36985000000004, -3.7123099999999454],\n                {&quot;bubblingMouseEvents&quot;: true, &quot;color&quot;: &quot;red&quot;, &quot;dashArray&quot;: null, &quot;dashOffset&quot;: null, &quot;fill&quot;: true, &quot;fillColor&quot;: &quot;#3186cc&quot;, &quot;fillOpacity&quot;: 0.7, &quot;fillRule&quot;: &quot;evenodd&quot;, &quot;lineCap&quot;: &quot;round&quot;, &quot;lineJoin&quot;: &quot;round&quot;, &quot;opacity&quot;: 1.0, &quot;radius&quot;: 5, &quot;stroke&quot;: true, &quot;weight&quot;: 3}\n            ).addTo(map_86b919d8097dd6ebd6548b2906909101);\n        \n    \n        var popup_36af763d70e5b07364657be67684e7f1 = L.popup({&quot;maxWidth&quot;: &quot;100%&quot;});\n\n        \n            var html_bb954e5e1edf2221129b37bf3c1c084f = $(`&lt;div id=&quot;html_bb954e5e1edf2221129b37bf3c1c084f&quot; style=&quot;width: 100.0%; height: 100.0%;&quot;&gt;ORCASITAS&lt;/div&gt;`)[0];\n            popup_36af763d70e5b07364657be67684e7f1.setContent(html_bb954e5e1edf2221129b37bf3c1c084f);\n        \n\n        circle_marker_071c1502ce85ef001038996e57e47155.bindPopup(popup_36af763d70e5b07364657be67684e7f1)\n        ;\n\n        \n    \n    \n            var circle_marker_ec754319b003b686c109b211c19eba6e = L.circleMarker(\n                [40.37099000000006, -3.699459999999931],\n                {&quot;bubblingMouseEvents&quot;: true, &quot;color&quot;: &quot;red&quot;, &quot;dashArray&quot;: null, &quot;dashOffset&quot;: null, &quot;fill&quot;: true, &quot;fillColor&quot;: &quot;#3186cc&quot;, &quot;fillOpacity&quot;: 0.7, &quot;fillRule&quot;: &quot;evenodd&quot;, &quot;lineCap&quot;: &quot;round&quot;, &quot;lineJoin&quot;: &quot;round&quot;, &quot;opacity&quot;: 1.0, &quot;radius&quot;: 5, &quot;stroke&quot;: true, &quot;weight&quot;: 3}\n            ).addTo(map_86b919d8097dd6ebd6548b2906909101);\n        \n    \n        var popup_6400d9f9c84f83f8d1baac99a640216d = L.popup({&quot;maxWidth&quot;: &quot;100%&quot;});\n\n        \n            var html_bced128eac3425337db4924b7a279e81 = $(`&lt;div id=&quot;html_bced128eac3425337db4924b7a279e81&quot; style=&quot;width: 100.0%; height: 100.0%;&quot;&gt;ORCASUR&lt;/div&gt;`)[0];\n            popup_6400d9f9c84f83f8d1baac99a640216d.setContent(html_bced128eac3425337db4924b7a279e81);\n        \n\n        circle_marker_ec754319b003b686c109b211c19eba6e.bindPopup(popup_6400d9f9c84f83f8d1baac99a640216d)\n        ;\n\n        \n    \n    \n            var circle_marker_4877c34ab4b25684d3e543a1686bd551 = L.circleMarker(\n                [40.37369000000007, -3.6902599999999666],\n                {&quot;bubblingMouseEvents&quot;: true, &quot;color&quot;: &quot;red&quot;, &quot;dashArray&quot;: null, &quot;dashOffset&quot;: null, &quot;fill&quot;: true, &quot;fillColor&quot;: &quot;#3186cc&quot;, &quot;fillOpacity&quot;: 0.7, &quot;fillRule&quot;: &quot;evenodd&quot;, &quot;lineCap&quot;: &quot;round&quot;, &quot;lineJoin&quot;: &quot;round&quot;, &quot;opacity&quot;: 1.0, &quot;radius&quot;: 5, &quot;stroke&quot;: true, &quot;weight&quot;: 3}\n            ).addTo(map_86b919d8097dd6ebd6548b2906909101);\n        \n    \n        var popup_23d5aa3d17039455a5cfb4f87e558956 = L.popup({&quot;maxWidth&quot;: &quot;100%&quot;});\n\n        \n            var html_0dd727eb2f1a2db4aa8b1a224eea01e1 = $(`&lt;div id=&quot;html_0dd727eb2f1a2db4aa8b1a224eea01e1&quot; style=&quot;width: 100.0%; height: 100.0%;&quot;&gt;SAN FERMIN&lt;/div&gt;`)[0];\n            popup_23d5aa3d17039455a5cfb4f87e558956.setContent(html_0dd727eb2f1a2db4aa8b1a224eea01e1);\n        \n\n        circle_marker_4877c34ab4b25684d3e543a1686bd551.bindPopup(popup_23d5aa3d17039455a5cfb4f87e558956)\n        ;\n\n        \n    \n    \n            var circle_marker_468a193c2a40f04caba25e005d3d0e93 = L.circleMarker(\n                [40.38431000000003, -3.6999199999999632],\n                {&quot;bubblingMouseEvents&quot;: true, &quot;color&quot;: &quot;red&quot;, &quot;dashArray&quot;: null, &quot;dashOffset&quot;: null, &quot;fill&quot;: true, &quot;fillColor&quot;: &quot;#3186cc&quot;, &quot;fillOpacity&quot;: 0.7, &quot;fillRule&quot;: &quot;evenodd&quot;, &quot;lineCap&quot;: &quot;round&quot;, &quot;lineJoin&quot;: &quot;round&quot;, &quot;opacity&quot;: 1.0, &quot;radius&quot;: 5, &quot;stroke&quot;: true, &quot;weight&quot;: 3}\n            ).addTo(map_86b919d8097dd6ebd6548b2906909101);\n        \n    \n        var popup_35a6f4a4b09dc169eb04e199095c4067 = L.popup({&quot;maxWidth&quot;: &quot;100%&quot;});\n\n        \n            var html_c302e15c88ad2cf758e143b10af7b7ab = $(`&lt;div id=&quot;html_c302e15c88ad2cf758e143b10af7b7ab&quot; style=&quot;width: 100.0%; height: 100.0%;&quot;&gt;ALMENDRALES&lt;/div&gt;`)[0];\n            popup_35a6f4a4b09dc169eb04e199095c4067.setContent(html_c302e15c88ad2cf758e143b10af7b7ab);\n        \n\n        circle_marker_468a193c2a40f04caba25e005d3d0e93.bindPopup(popup_35a6f4a4b09dc169eb04e199095c4067)\n        ;\n\n        \n    \n    \n            var circle_marker_e6e92d2ecf88af65f7235513fa0caac1 = L.circleMarker(\n                [40.388870000000054, -3.706649999999968],\n                {&quot;bubblingMouseEvents&quot;: true, &quot;color&quot;: &quot;red&quot;, &quot;dashArray&quot;: null, &quot;dashOffset&quot;: null, &quot;fill&quot;: true, &quot;fillColor&quot;: &quot;#3186cc&quot;, &quot;fillOpacity&quot;: 0.7, &quot;fillRule&quot;: &quot;evenodd&quot;, &quot;lineCap&quot;: &quot;round&quot;, &quot;lineJoin&quot;: &quot;round&quot;, &quot;opacity&quot;: 1.0, &quot;radius&quot;: 5, &quot;stroke&quot;: true, &quot;weight&quot;: 3}\n            ).addTo(map_86b919d8097dd6ebd6548b2906909101);\n        \n    \n        var popup_8df966a87ce37e3ee7227fcbee2a6dd7 = L.popup({&quot;maxWidth&quot;: &quot;100%&quot;});\n\n        \n            var html_39c5b9325a0c8d3f6ce4d90ba059a2e1 = $(`&lt;div id=&quot;html_39c5b9325a0c8d3f6ce4d90ba059a2e1&quot; style=&quot;width: 100.0%; height: 100.0%;&quot;&gt;MOSCARDO&lt;/div&gt;`)[0];\n            popup_8df966a87ce37e3ee7227fcbee2a6dd7.setContent(html_39c5b9325a0c8d3f6ce4d90ba059a2e1);\n        \n\n        circle_marker_e6e92d2ecf88af65f7235513fa0caac1.bindPopup(popup_8df966a87ce37e3ee7227fcbee2a6dd7)\n        ;\n\n        \n    \n    \n            var circle_marker_6dc858725448a35ed1b36d34540a5b8c = L.circleMarker(\n                [40.37987000000004, -3.7149499999999307],\n                {&quot;bubblingMouseEvents&quot;: true, &quot;color&quot;: &quot;red&quot;, &quot;dashArray&quot;: null, &quot;dashOffset&quot;: null, &quot;fill&quot;: true, &quot;fillColor&quot;: &quot;#3186cc&quot;, &quot;fillOpacity&quot;: 0.7, &quot;fillRule&quot;: &quot;evenodd&quot;, &quot;lineCap&quot;: &quot;round&quot;, &quot;lineJoin&quot;: &quot;round&quot;, &quot;opacity&quot;: 1.0, &quot;radius&quot;: 5, &quot;stroke&quot;: true, &quot;weight&quot;: 3}\n            ).addTo(map_86b919d8097dd6ebd6548b2906909101);\n        \n    \n        var popup_e95d0041516f36411c18a9ac7ea15e2c = L.popup({&quot;maxWidth&quot;: &quot;100%&quot;});\n\n        \n            var html_18d8bf5d8ef513211ee9cd29c68acba0 = $(`&lt;div id=&quot;html_18d8bf5d8ef513211ee9cd29c68acba0&quot; style=&quot;width: 100.0%; height: 100.0%;&quot;&gt;ZOFIO&lt;/div&gt;`)[0];\n            popup_e95d0041516f36411c18a9ac7ea15e2c.setContent(html_18d8bf5d8ef513211ee9cd29c68acba0);\n        \n\n        circle_marker_6dc858725448a35ed1b36d34540a5b8c.bindPopup(popup_e95d0041516f36411c18a9ac7ea15e2c)\n        ;\n\n        \n    \n    \n            var circle_marker_aadcb577d3f9a14b5cae8e180448b7ea = L.circleMarker(\n                [40.38297000000006, -3.7086499999999774],\n                {&quot;bubblingMouseEvents&quot;: true, &quot;color&quot;: &quot;red&quot;, &quot;dashArray&quot;: null, &quot;dashOffset&quot;: null, &quot;fill&quot;: true, &quot;fillColor&quot;: &quot;#3186cc&quot;, &quot;fillOpacity&quot;: 0.7, &quot;fillRule&quot;: &quot;evenodd&quot;, &quot;lineCap&quot;: &quot;round&quot;, &quot;lineJoin&quot;: &quot;round&quot;, &quot;opacity&quot;: 1.0, &quot;radius&quot;: 5, &quot;stroke&quot;: true, &quot;weight&quot;: 3}\n            ).addTo(map_86b919d8097dd6ebd6548b2906909101);\n        \n    \n        var popup_87a76aa86a7dea8eae6dd8f915dd7282 = L.popup({&quot;maxWidth&quot;: &quot;100%&quot;});\n\n        \n            var html_ae16845f75e3d64c7d951d3b1eb3b377 = $(`&lt;div id=&quot;html_ae16845f75e3d64c7d951d3b1eb3b377&quot; style=&quot;width: 100.0%; height: 100.0%;&quot;&gt;PRADOLONGO&lt;/div&gt;`)[0];\n            popup_87a76aa86a7dea8eae6dd8f915dd7282.setContent(html_ae16845f75e3d64c7d951d3b1eb3b377);\n        \n\n        circle_marker_aadcb577d3f9a14b5cae8e180448b7ea.bindPopup(popup_87a76aa86a7dea8eae6dd8f915dd7282)\n        ;\n\n        \n    \n    \n            var circle_marker_8d236c76d4aed935768294a34d7c3c42 = L.circleMarker(\n                [40.37925000000007, -3.67211999999995],\n                {&quot;bubblingMouseEvents&quot;: true, &quot;color&quot;: &quot;red&quot;, &quot;dashArray&quot;: null, &quot;dashOffset&quot;: null, &quot;fill&quot;: true, &quot;fillColor&quot;: &quot;#3186cc&quot;, &quot;fillOpacity&quot;: 0.7, &quot;fillRule&quot;: &quot;evenodd&quot;, &quot;lineCap&quot;: &quot;round&quot;, &quot;lineJoin&quot;: &quot;round&quot;, &quot;opacity&quot;: 1.0, &quot;radius&quot;: 5, &quot;stroke&quot;: true, &quot;weight&quot;: 3}\n            ).addTo(map_86b919d8097dd6ebd6548b2906909101);\n        \n    \n        var popup_7d24a6ae1dd1fd8039d1a5a811436155 = L.popup({&quot;maxWidth&quot;: &quot;100%&quot;});\n\n        \n            var html_cfa8f8a3bd06fb77df5c9cce8e78b6b2 = $(`&lt;div id=&quot;html_cfa8f8a3bd06fb77df5c9cce8e78b6b2&quot; style=&quot;width: 100.0%; height: 100.0%;&quot;&gt;ENTREVIAS&lt;/div&gt;`)[0];\n            popup_7d24a6ae1dd1fd8039d1a5a811436155.setContent(html_cfa8f8a3bd06fb77df5c9cce8e78b6b2);\n        \n\n        circle_marker_8d236c76d4aed935768294a34d7c3c42.bindPopup(popup_7d24a6ae1dd1fd8039d1a5a811436155)\n        ;\n\n        \n    \n    \n            var circle_marker_e6a10b7eb552ec4ebf4faf4619c53af2 = L.circleMarker(\n                [40.392310000000066, -3.6679999999999495],\n                {&quot;bubblingMouseEvents&quot;: true, &quot;color&quot;: &quot;red&quot;, &quot;dashArray&quot;: null, &quot;dashOffset&quot;: null, &quot;fill&quot;: true, &quot;fillColor&quot;: &quot;#3186cc&quot;, &quot;fillOpacity&quot;: 0.7, &quot;fillRule&quot;: &quot;evenodd&quot;, &quot;lineCap&quot;: &quot;round&quot;, &quot;lineJoin&quot;: &quot;round&quot;, &quot;opacity&quot;: 1.0, &quot;radius&quot;: 5, &quot;stroke&quot;: true, &quot;weight&quot;: 3}\n            ).addTo(map_86b919d8097dd6ebd6548b2906909101);\n        \n    \n        var popup_75a79442e7eee83dc9b04a3c8bed84b9 = L.popup({&quot;maxWidth&quot;: &quot;100%&quot;});\n\n        \n            var html_6be9f0894bd30fec301af3991009d2fb = $(`&lt;div id=&quot;html_6be9f0894bd30fec301af3991009d2fb&quot; style=&quot;width: 100.0%; height: 100.0%;&quot;&gt;SAN DIEGO&lt;/div&gt;`)[0];\n            popup_75a79442e7eee83dc9b04a3c8bed84b9.setContent(html_6be9f0894bd30fec301af3991009d2fb);\n        \n\n        circle_marker_e6a10b7eb552ec4ebf4faf4619c53af2.bindPopup(popup_75a79442e7eee83dc9b04a3c8bed84b9)\n        ;\n\n        \n    \n    \n            var circle_marker_6fb3232427336ce5e539766c8cb37a73 = L.circleMarker(\n                [40.387560000000065, -3.660289999999975],\n                {&quot;bubblingMouseEvents&quot;: true, &quot;color&quot;: &quot;red&quot;, &quot;dashArray&quot;: null, &quot;dashOffset&quot;: null, &quot;fill&quot;: true, &quot;fillColor&quot;: &quot;#3186cc&quot;, &quot;fillOpacity&quot;: 0.7, &quot;fillRule&quot;: &quot;evenodd&quot;, &quot;lineCap&quot;: &quot;round&quot;, &quot;lineJoin&quot;: &quot;round&quot;, &quot;opacity&quot;: 1.0, &quot;radius&quot;: 5, &quot;stroke&quot;: true, &quot;weight&quot;: 3}\n            ).addTo(map_86b919d8097dd6ebd6548b2906909101);\n        \n    \n        var popup_970003bc8f3e9eea3a78f769df15c0d7 = L.popup({&quot;maxWidth&quot;: &quot;100%&quot;});\n\n        \n            var html_9f1248d0f6245a448c01b806f747641b = $(`&lt;div id=&quot;html_9f1248d0f6245a448c01b806f747641b&quot; style=&quot;width: 100.0%; height: 100.0%;&quot;&gt;PALOMERAS BAJAS&lt;/div&gt;`)[0];\n            popup_970003bc8f3e9eea3a78f769df15c0d7.setContent(html_9f1248d0f6245a448c01b806f747641b);\n        \n\n        circle_marker_6fb3232427336ce5e539766c8cb37a73.bindPopup(popup_970003bc8f3e9eea3a78f769df15c0d7)\n        ;\n\n        \n    \n    \n            var circle_marker_3f9538c6c637ffa0e1d9666d867bf45c = L.circleMarker(\n                [40.38537000000008, -3.6352999999999724],\n                {&quot;bubblingMouseEvents&quot;: true, &quot;color&quot;: &quot;red&quot;, &quot;dashArray&quot;: null, &quot;dashOffset&quot;: null, &quot;fill&quot;: true, &quot;fillColor&quot;: &quot;#3186cc&quot;, &quot;fillOpacity&quot;: 0.7, &quot;fillRule&quot;: &quot;evenodd&quot;, &quot;lineCap&quot;: &quot;round&quot;, &quot;lineJoin&quot;: &quot;round&quot;, &quot;opacity&quot;: 1.0, &quot;radius&quot;: 5, &quot;stroke&quot;: true, &quot;weight&quot;: 3}\n            ).addTo(map_86b919d8097dd6ebd6548b2906909101);\n        \n    \n        var popup_bfe24da4e15825c982ce452d6e3d9a15 = L.popup({&quot;maxWidth&quot;: &quot;100%&quot;});\n\n        \n            var html_7f37e54eceedb2c80aa3bc5f9c2fd0fc = $(`&lt;div id=&quot;html_7f37e54eceedb2c80aa3bc5f9c2fd0fc&quot; style=&quot;width: 100.0%; height: 100.0%;&quot;&gt;PALOMERAS SURESTE&lt;/div&gt;`)[0];\n            popup_bfe24da4e15825c982ce452d6e3d9a15.setContent(html_7f37e54eceedb2c80aa3bc5f9c2fd0fc);\n        \n\n        circle_marker_3f9538c6c637ffa0e1d9666d867bf45c.bindPopup(popup_bfe24da4e15825c982ce452d6e3d9a15)\n        ;\n\n        \n    \n    \n            var circle_marker_19a44e7aad91230346d1cec15d920510 = L.circleMarker(\n                [40.390870000000064, -3.6480999999999426],\n                {&quot;bubblingMouseEvents&quot;: true, &quot;color&quot;: &quot;red&quot;, &quot;dashArray&quot;: null, &quot;dashOffset&quot;: null, &quot;fill&quot;: true, &quot;fillColor&quot;: &quot;#3186cc&quot;, &quot;fillOpacity&quot;: 0.7, &quot;fillRule&quot;: &quot;evenodd&quot;, &quot;lineCap&quot;: &quot;round&quot;, &quot;lineJoin&quot;: &quot;round&quot;, &quot;opacity&quot;: 1.0, &quot;radius&quot;: 5, &quot;stroke&quot;: true, &quot;weight&quot;: 3}\n            ).addTo(map_86b919d8097dd6ebd6548b2906909101);\n        \n    \n        var popup_99922dcb1f1a9dface40c663619f2ee2 = L.popup({&quot;maxWidth&quot;: &quot;100%&quot;});\n\n        \n            var html_29834d20a4d7e2eea9c7b701bdb045c6 = $(`&lt;div id=&quot;html_29834d20a4d7e2eea9c7b701bdb045c6&quot; style=&quot;width: 100.0%; height: 100.0%;&quot;&gt;PORTAZGO&lt;/div&gt;`)[0];\n            popup_99922dcb1f1a9dface40c663619f2ee2.setContent(html_29834d20a4d7e2eea9c7b701bdb045c6);\n        \n\n        circle_marker_19a44e7aad91230346d1cec15d920510.bindPopup(popup_99922dcb1f1a9dface40c663619f2ee2)\n        ;\n\n        \n    \n    \n            var circle_marker_29cc94f6f461f78e827d340f25ca69a3 = L.circleMarker(\n                [40.398510000000044, -3.6590099999999666],\n                {&quot;bubblingMouseEvents&quot;: true, &quot;color&quot;: &quot;red&quot;, &quot;dashArray&quot;: null, &quot;dashOffset&quot;: null, &quot;fill&quot;: true, &quot;fillColor&quot;: &quot;#3186cc&quot;, &quot;fillOpacity&quot;: 0.7, &quot;fillRule&quot;: &quot;evenodd&quot;, &quot;lineCap&quot;: &quot;round&quot;, &quot;lineJoin&quot;: &quot;round&quot;, &quot;opacity&quot;: 1.0, &quot;radius&quot;: 5, &quot;stroke&quot;: true, &quot;weight&quot;: 3}\n            ).addTo(map_86b919d8097dd6ebd6548b2906909101);\n        \n    \n        var popup_57c6df9c18f3d2132a287915f5281b96 = L.popup({&quot;maxWidth&quot;: &quot;100%&quot;});\n\n        \n            var html_9f19806cef7aa58fbd7d9c89e2c02ab3 = $(`&lt;div id=&quot;html_9f19806cef7aa58fbd7d9c89e2c02ab3&quot; style=&quot;width: 100.0%; height: 100.0%;&quot;&gt;NUMANCIA&lt;/div&gt;`)[0];\n            popup_57c6df9c18f3d2132a287915f5281b96.setContent(html_9f19806cef7aa58fbd7d9c89e2c02ab3);\n        \n\n        circle_marker_29cc94f6f461f78e827d340f25ca69a3.bindPopup(popup_57c6df9c18f3d2132a287915f5281b96)\n        ;\n\n        \n    \n    \n            var circle_marker_94fce0bb47e3ecae3674cde27362f313 = L.circleMarker(\n                [40.40004000000005, -3.6329999999999245],\n                {&quot;bubblingMouseEvents&quot;: true, &quot;color&quot;: &quot;red&quot;, &quot;dashArray&quot;: null, &quot;dashOffset&quot;: null, &quot;fill&quot;: true, &quot;fillColor&quot;: &quot;#3186cc&quot;, &quot;fillOpacity&quot;: 0.7, &quot;fillRule&quot;: &quot;evenodd&quot;, &quot;lineCap&quot;: &quot;round&quot;, &quot;lineJoin&quot;: &quot;round&quot;, &quot;opacity&quot;: 1.0, &quot;radius&quot;: 5, &quot;stroke&quot;: true, &quot;weight&quot;: 3}\n            ).addTo(map_86b919d8097dd6ebd6548b2906909101);\n        \n    \n        var popup_f1de8d0039ca8b01aca867c923c8c947 = L.popup({&quot;maxWidth&quot;: &quot;100%&quot;});\n\n        \n            var html_1404c8e6def96fec6455c9e278037cb9 = $(`&lt;div id=&quot;html_1404c8e6def96fec6455c9e278037cb9&quot; style=&quot;width: 100.0%; height: 100.0%;&quot;&gt;PAVONES&lt;/div&gt;`)[0];\n            popup_f1de8d0039ca8b01aca867c923c8c947.setContent(html_1404c8e6def96fec6455c9e278037cb9);\n        \n\n        circle_marker_94fce0bb47e3ecae3674cde27362f313.bindPopup(popup_f1de8d0039ca8b01aca867c923c8c947)\n        ;\n\n        \n    \n    \n            var circle_marker_0559a611562aefa9e5afdc40a6235eec = L.circleMarker(\n                [40.407290000000046, -3.627369999999928],\n                {&quot;bubblingMouseEvents&quot;: true, &quot;color&quot;: &quot;red&quot;, &quot;dashArray&quot;: null, &quot;dashOffset&quot;: null, &quot;fill&quot;: true, &quot;fillColor&quot;: &quot;#3186cc&quot;, &quot;fillOpacity&quot;: 0.7, &quot;fillRule&quot;: &quot;evenodd&quot;, &quot;lineCap&quot;: &quot;round&quot;, &quot;lineJoin&quot;: &quot;round&quot;, &quot;opacity&quot;: 1.0, &quot;radius&quot;: 5, &quot;stroke&quot;: true, &quot;weight&quot;: 3}\n            ).addTo(map_86b919d8097dd6ebd6548b2906909101);\n        \n    \n        var popup_ba9ceda2151124ed330c40c68b722447 = L.popup({&quot;maxWidth&quot;: &quot;100%&quot;});\n\n        \n            var html_8f66855de5aff9b4bd53fff8665ee8ff = $(`&lt;div id=&quot;html_8f66855de5aff9b4bd53fff8665ee8ff&quot; style=&quot;width: 100.0%; height: 100.0%;&quot;&gt;HORCAJO&lt;/div&gt;`)[0];\n            popup_ba9ceda2151124ed330c40c68b722447.setContent(html_8f66855de5aff9b4bd53fff8665ee8ff);\n        \n\n        circle_marker_0559a611562aefa9e5afdc40a6235eec.bindPopup(popup_ba9ceda2151124ed330c40c68b722447)\n        ;\n\n        \n    \n    \n            var circle_marker_fc8c9269f24fc44f0e5a883952fbba4f = L.circleMarker(\n                [40.41176000000007, -3.6461799999999585],\n                {&quot;bubblingMouseEvents&quot;: true, &quot;color&quot;: &quot;red&quot;, &quot;dashArray&quot;: null, &quot;dashOffset&quot;: null, &quot;fill&quot;: true, &quot;fillColor&quot;: &quot;#3186cc&quot;, &quot;fillOpacity&quot;: 0.7, &quot;fillRule&quot;: &quot;evenodd&quot;, &quot;lineCap&quot;: &quot;round&quot;, &quot;lineJoin&quot;: &quot;round&quot;, &quot;opacity&quot;: 1.0, &quot;radius&quot;: 5, &quot;stroke&quot;: true, &quot;weight&quot;: 3}\n            ).addTo(map_86b919d8097dd6ebd6548b2906909101);\n        \n    \n        var popup_f00ad570a1e3417283958ff75365d89e = L.popup({&quot;maxWidth&quot;: &quot;100%&quot;});\n\n        \n            var html_b60c246b9d562c7182cc386ae0fa23c8 = $(`&lt;div id=&quot;html_b60c246b9d562c7182cc386ae0fa23c8&quot; style=&quot;width: 100.0%; height: 100.0%;&quot;&gt;MARROQUINA&lt;/div&gt;`)[0];\n            popup_f00ad570a1e3417283958ff75365d89e.setContent(html_b60c246b9d562c7182cc386ae0fa23c8);\n        \n\n        circle_marker_fc8c9269f24fc44f0e5a883952fbba4f.bindPopup(popup_f00ad570a1e3417283958ff75365d89e)\n        ;\n\n        \n    \n    \n            var circle_marker_aa1874122323b2dbf833a432df56be44 = L.circleMarker(\n                [40.41074000000003, -3.6595199999999295],\n                {&quot;bubblingMouseEvents&quot;: true, &quot;color&quot;: &quot;red&quot;, &quot;dashArray&quot;: null, &quot;dashOffset&quot;: null, &quot;fill&quot;: true, &quot;fillColor&quot;: &quot;#3186cc&quot;, &quot;fillOpacity&quot;: 0.7, &quot;fillRule&quot;: &quot;evenodd&quot;, &quot;lineCap&quot;: &quot;round&quot;, &quot;lineJoin&quot;: &quot;round&quot;, &quot;opacity&quot;: 1.0, &quot;radius&quot;: 5, &quot;stroke&quot;: true, &quot;weight&quot;: 3}\n            ).addTo(map_86b919d8097dd6ebd6548b2906909101);\n        \n    \n        var popup_2001c18e14a392973cdba8f632c26678 = L.popup({&quot;maxWidth&quot;: &quot;100%&quot;});\n\n        \n            var html_56019bd089fde7b85fd47c6f8c013d5a = $(`&lt;div id=&quot;html_56019bd089fde7b85fd47c6f8c013d5a&quot; style=&quot;width: 100.0%; height: 100.0%;&quot;&gt;MEDIA LEGUA&lt;/div&gt;`)[0];\n            popup_2001c18e14a392973cdba8f632c26678.setContent(html_56019bd089fde7b85fd47c6f8c013d5a);\n        \n\n        circle_marker_aa1874122323b2dbf833a432df56be44.bindPopup(popup_2001c18e14a392973cdba8f632c26678)\n        ;\n\n        \n    \n    \n            var circle_marker_b9d9957fdcecabd1a85c74cf80d1f3e0 = L.circleMarker(\n                [40.40301000000005, -3.649099999999976],\n                {&quot;bubblingMouseEvents&quot;: true, &quot;color&quot;: &quot;red&quot;, &quot;dashArray&quot;: null, &quot;dashOffset&quot;: null, &quot;fill&quot;: true, &quot;fillColor&quot;: &quot;#3186cc&quot;, &quot;fillOpacity&quot;: 0.7, &quot;fillRule&quot;: &quot;evenodd&quot;, &quot;lineCap&quot;: &quot;round&quot;, &quot;lineJoin&quot;: &quot;round&quot;, &quot;opacity&quot;: 1.0, &quot;radius&quot;: 5, &quot;stroke&quot;: true, &quot;weight&quot;: 3}\n            ).addTo(map_86b919d8097dd6ebd6548b2906909101);\n        \n    \n        var popup_53becbe3d83cb2e96e1da64db7b6a360 = L.popup({&quot;maxWidth&quot;: &quot;100%&quot;});\n\n        \n            var html_bd82a29013f2cbd514a2e8c5c0c0c081 = $(`&lt;div id=&quot;html_bd82a29013f2cbd514a2e8c5c0c0c081&quot; style=&quot;width: 100.0%; height: 100.0%;&quot;&gt;FONTARRON&lt;/div&gt;`)[0];\n            popup_53becbe3d83cb2e96e1da64db7b6a360.setContent(html_bd82a29013f2cbd514a2e8c5c0c0c081);\n        \n\n        circle_marker_b9d9957fdcecabd1a85c74cf80d1f3e0.bindPopup(popup_53becbe3d83cb2e96e1da64db7b6a360)\n        ;\n\n        \n    \n    \n            var circle_marker_6fdd013c85672849e186ccdcb0e8175d = L.circleMarker(\n                [40.40444000000008, -3.6402899999999363],\n                {&quot;bubblingMouseEvents&quot;: true, &quot;color&quot;: &quot;red&quot;, &quot;dashArray&quot;: null, &quot;dashOffset&quot;: null, &quot;fill&quot;: true, &quot;fillColor&quot;: &quot;#3186cc&quot;, &quot;fillOpacity&quot;: 0.7, &quot;fillRule&quot;: &quot;evenodd&quot;, &quot;lineCap&quot;: &quot;round&quot;, &quot;lineJoin&quot;: &quot;round&quot;, &quot;opacity&quot;: 1.0, &quot;radius&quot;: 5, &quot;stroke&quot;: true, &quot;weight&quot;: 3}\n            ).addTo(map_86b919d8097dd6ebd6548b2906909101);\n        \n    \n        var popup_08a6db40e974b3dfa439144afd7dbc4f = L.popup({&quot;maxWidth&quot;: &quot;100%&quot;});\n\n        \n            var html_1cdc00ed2571c31172a013616e51bd1a = $(`&lt;div id=&quot;html_1cdc00ed2571c31172a013616e51bd1a&quot; style=&quot;width: 100.0%; height: 100.0%;&quot;&gt;VINATEROS&lt;/div&gt;`)[0];\n            popup_08a6db40e974b3dfa439144afd7dbc4f.setContent(html_1cdc00ed2571c31172a013616e51bd1a);\n        \n\n        circle_marker_6fdd013c85672849e186ccdcb0e8175d.bindPopup(popup_08a6db40e974b3dfa439144afd7dbc4f)\n        ;\n\n        \n    \n    \n            var circle_marker_a6274a3c5d4ac9ab6061b4706111afda = L.circleMarker(\n                [40.42238000000003, -3.650199999999927],\n                {&quot;bubblingMouseEvents&quot;: true, &quot;color&quot;: &quot;red&quot;, &quot;dashArray&quot;: null, &quot;dashOffset&quot;: null, &quot;fill&quot;: true, &quot;fillColor&quot;: &quot;#3186cc&quot;, &quot;fillOpacity&quot;: 0.7, &quot;fillRule&quot;: &quot;evenodd&quot;, &quot;lineCap&quot;: &quot;round&quot;, &quot;lineJoin&quot;: &quot;round&quot;, &quot;opacity&quot;: 1.0, &quot;radius&quot;: 5, &quot;stroke&quot;: true, &quot;weight&quot;: 3}\n            ).addTo(map_86b919d8097dd6ebd6548b2906909101);\n        \n    \n        var popup_335967e033d9b681e1599819d29bbd8f = L.popup({&quot;maxWidth&quot;: &quot;100%&quot;});\n\n        \n            var html_365da914e15200d1e90683527c83bb4d = $(`&lt;div id=&quot;html_365da914e15200d1e90683527c83bb4d&quot; style=&quot;width: 100.0%; height: 100.0%;&quot;&gt;VENTAS&lt;/div&gt;`)[0];\n            popup_335967e033d9b681e1599819d29bbd8f.setContent(html_365da914e15200d1e90683527c83bb4d);\n        \n\n        circle_marker_a6274a3c5d4ac9ab6061b4706111afda.bindPopup(popup_335967e033d9b681e1599819d29bbd8f)\n        ;\n\n        \n    \n    \n            var circle_marker_2caced962122d8e159ce01762408a473 = L.circleMarker(\n                [40.42895000000004, -3.6382599999999456],\n                {&quot;bubblingMouseEvents&quot;: true, &quot;color&quot;: &quot;red&quot;, &quot;dashArray&quot;: null, &quot;dashOffset&quot;: null, &quot;fill&quot;: true, &quot;fillColor&quot;: &quot;#3186cc&quot;, &quot;fillOpacity&quot;: 0.7, &quot;fillRule&quot;: &quot;evenodd&quot;, &quot;lineCap&quot;: &quot;round&quot;, &quot;lineJoin&quot;: &quot;round&quot;, &quot;opacity&quot;: 1.0, &quot;radius&quot;: 5, &quot;stroke&quot;: true, &quot;weight&quot;: 3}\n            ).addTo(map_86b919d8097dd6ebd6548b2906909101);\n        \n    \n        var popup_d8d35696e5aef05ac05cb0b98fe57217 = L.popup({&quot;maxWidth&quot;: &quot;100%&quot;});\n\n        \n            var html_bc84ce8269c3a7ba9cbb2717ca8ed29d = $(`&lt;div id=&quot;html_bc84ce8269c3a7ba9cbb2717ca8ed29d&quot; style=&quot;width: 100.0%; height: 100.0%;&quot;&gt;PUEBLO NUEVO&lt;/div&gt;`)[0];\n            popup_d8d35696e5aef05ac05cb0b98fe57217.setContent(html_bc84ce8269c3a7ba9cbb2717ca8ed29d);\n        \n\n        circle_marker_2caced962122d8e159ce01762408a473.bindPopup(popup_d8d35696e5aef05ac05cb0b98fe57217)\n        ;\n\n        \n    \n    \n            var circle_marker_f2f6c6b4b013cc627b1b3e8bbafa33ab = L.circleMarker(\n                [40.434690000000046, -3.653609999999958],\n                {&quot;bubblingMouseEvents&quot;: true, &quot;color&quot;: &quot;red&quot;, &quot;dashArray&quot;: null, &quot;dashOffset&quot;: null, &quot;fill&quot;: true, &quot;fillColor&quot;: &quot;#3186cc&quot;, &quot;fillOpacity&quot;: 0.7, &quot;fillRule&quot;: &quot;evenodd&quot;, &quot;lineCap&quot;: &quot;round&quot;, &quot;lineJoin&quot;: &quot;round&quot;, &quot;opacity&quot;: 1.0, &quot;radius&quot;: 5, &quot;stroke&quot;: true, &quot;weight&quot;: 3}\n            ).addTo(map_86b919d8097dd6ebd6548b2906909101);\n        \n    \n        var popup_737858a4b1025cc0466e49f99862ba5c = L.popup({&quot;maxWidth&quot;: &quot;100%&quot;});\n\n        \n            var html_53a470378d201fc53ba2188c4bdd210b = $(`&lt;div id=&quot;html_53a470378d201fc53ba2188c4bdd210b&quot; style=&quot;width: 100.0%; height: 100.0%;&quot;&gt;QUINTANA&lt;/div&gt;`)[0];\n            popup_737858a4b1025cc0466e49f99862ba5c.setContent(html_53a470378d201fc53ba2188c4bdd210b);\n        \n\n        circle_marker_f2f6c6b4b013cc627b1b3e8bbafa33ab.bindPopup(popup_737858a4b1025cc0466e49f99862ba5c)\n        ;\n\n        \n    \n    \n            var circle_marker_7c43b17b8eca5155f2cacfefa2df889f = L.circleMarker(\n                [40.43974000000003, -3.648489999999981],\n                {&quot;bubblingMouseEvents&quot;: true, &quot;color&quot;: &quot;red&quot;, &quot;dashArray&quot;: null, &quot;dashOffset&quot;: null, &quot;fill&quot;: true, &quot;fillColor&quot;: &quot;#3186cc&quot;, &quot;fillOpacity&quot;: 0.7, &quot;fillRule&quot;: &quot;evenodd&quot;, &quot;lineCap&quot;: &quot;round&quot;, &quot;lineJoin&quot;: &quot;round&quot;, &quot;opacity&quot;: 1.0, &quot;radius&quot;: 5, &quot;stroke&quot;: true, &quot;weight&quot;: 3}\n            ).addTo(map_86b919d8097dd6ebd6548b2906909101);\n        \n    \n        var popup_08e9d6a8229036853e250193c27dccfa = L.popup({&quot;maxWidth&quot;: &quot;100%&quot;});\n\n        \n            var html_b08af7c3346c73e270f529267970a761 = $(`&lt;div id=&quot;html_b08af7c3346c73e270f529267970a761&quot; style=&quot;width: 100.0%; height: 100.0%;&quot;&gt;CONCEPCION&lt;/div&gt;`)[0];\n            popup_08e9d6a8229036853e250193c27dccfa.setContent(html_b08af7c3346c73e270f529267970a761);\n        \n\n        circle_marker_7c43b17b8eca5155f2cacfefa2df889f.bindPopup(popup_08e9d6a8229036853e250193c27dccfa)\n        ;\n\n        \n    \n    \n            var circle_marker_e198dd7c55a8b5f2d274fd005cdc733f = L.circleMarker(\n                [40.44550000000004, -3.651809999999955],\n                {&quot;bubblingMouseEvents&quot;: true, &quot;color&quot;: &quot;red&quot;, &quot;dashArray&quot;: null, &quot;dashOffset&quot;: null, &quot;fill&quot;: true, &quot;fillColor&quot;: &quot;#3186cc&quot;, &quot;fillOpacity&quot;: 0.7, &quot;fillRule&quot;: &quot;evenodd&quot;, &quot;lineCap&quot;: &quot;round&quot;, &quot;lineJoin&quot;: &quot;round&quot;, &quot;opacity&quot;: 1.0, &quot;radius&quot;: 5, &quot;stroke&quot;: true, &quot;weight&quot;: 3}\n            ).addTo(map_86b919d8097dd6ebd6548b2906909101);\n        \n    \n        var popup_3bc92eea3b34e085b7e592623e7d87ad = L.popup({&quot;maxWidth&quot;: &quot;100%&quot;});\n\n        \n            var html_de5009bd730541e86bfaa8411943e619 = $(`&lt;div id=&quot;html_de5009bd730541e86bfaa8411943e619&quot; style=&quot;width: 100.0%; height: 100.0%;&quot;&gt;SAN PASCUAL&lt;/div&gt;`)[0];\n            popup_3bc92eea3b34e085b7e592623e7d87ad.setContent(html_de5009bd730541e86bfaa8411943e619);\n        \n\n        circle_marker_e198dd7c55a8b5f2d274fd005cdc733f.bindPopup(popup_3bc92eea3b34e085b7e592623e7d87ad)\n        ;\n\n        \n    \n    \n            var circle_marker_f46fede9321141838c57274aa744994c = L.circleMarker(\n                [40.45159000000007, -3.655909999999949],\n                {&quot;bubblingMouseEvents&quot;: true, &quot;color&quot;: &quot;red&quot;, &quot;dashArray&quot;: null, &quot;dashOffset&quot;: null, &quot;fill&quot;: true, &quot;fillColor&quot;: &quot;#3186cc&quot;, &quot;fillOpacity&quot;: 0.7, &quot;fillRule&quot;: &quot;evenodd&quot;, &quot;lineCap&quot;: &quot;round&quot;, &quot;lineJoin&quot;: &quot;round&quot;, &quot;opacity&quot;: 1.0, &quot;radius&quot;: 5, &quot;stroke&quot;: true, &quot;weight&quot;: 3}\n            ).addTo(map_86b919d8097dd6ebd6548b2906909101);\n        \n    \n        var popup_c0f6973ce523b3762cf15b5e4d7d2762 = L.popup({&quot;maxWidth&quot;: &quot;100%&quot;});\n\n        \n            var html_23862487aafafbb90e50ca4a4acd7cf9 = $(`&lt;div id=&quot;html_23862487aafafbb90e50ca4a4acd7cf9&quot; style=&quot;width: 100.0%; height: 100.0%;&quot;&gt;SAN JUAN BAUTISTA&lt;/div&gt;`)[0];\n            popup_c0f6973ce523b3762cf15b5e4d7d2762.setContent(html_23862487aafafbb90e50ca4a4acd7cf9);\n        \n\n        circle_marker_f46fede9321141838c57274aa744994c.bindPopup(popup_c0f6973ce523b3762cf15b5e4d7d2762)\n        ;\n\n        \n    \n    \n            var circle_marker_a419439ba616c3d48186859501dad9c5 = L.circleMarker(\n                [40.45861000000008, -3.6601199999999494],\n                {&quot;bubblingMouseEvents&quot;: true, &quot;color&quot;: &quot;red&quot;, &quot;dashArray&quot;: null, &quot;dashOffset&quot;: null, &quot;fill&quot;: true, &quot;fillColor&quot;: &quot;#3186cc&quot;, &quot;fillOpacity&quot;: 0.7, &quot;fillRule&quot;: &quot;evenodd&quot;, &quot;lineCap&quot;: &quot;round&quot;, &quot;lineJoin&quot;: &quot;round&quot;, &quot;opacity&quot;: 1.0, &quot;radius&quot;: 5, &quot;stroke&quot;: true, &quot;weight&quot;: 3}\n            ).addTo(map_86b919d8097dd6ebd6548b2906909101);\n        \n    \n        var popup_c6f68f03a23825f7254389aa9f36e748 = L.popup({&quot;maxWidth&quot;: &quot;100%&quot;});\n\n        \n            var html_f6fbaf2e29f471488aa92ee861b85f2f = $(`&lt;div id=&quot;html_f6fbaf2e29f471488aa92ee861b85f2f&quot; style=&quot;width: 100.0%; height: 100.0%;&quot;&gt;COLINA&lt;/div&gt;`)[0];\n            popup_c6f68f03a23825f7254389aa9f36e748.setContent(html_f6fbaf2e29f471488aa92ee861b85f2f);\n        \n\n        circle_marker_a419439ba616c3d48186859501dad9c5.bindPopup(popup_c6f68f03a23825f7254389aa9f36e748)\n        ;\n\n        \n    \n    \n            var circle_marker_4ffd376d95eeb98c85347c398a08c46d = L.circleMarker(\n                [40.46457000000004, -3.66334999999998],\n                {&quot;bubblingMouseEvents&quot;: true, &quot;color&quot;: &quot;red&quot;, &quot;dashArray&quot;: null, &quot;dashOffset&quot;: null, &quot;fill&quot;: true, &quot;fillColor&quot;: &quot;#3186cc&quot;, &quot;fillOpacity&quot;: 0.7, &quot;fillRule&quot;: &quot;evenodd&quot;, &quot;lineCap&quot;: &quot;round&quot;, &quot;lineJoin&quot;: &quot;round&quot;, &quot;opacity&quot;: 1.0, &quot;radius&quot;: 5, &quot;stroke&quot;: true, &quot;weight&quot;: 3}\n            ).addTo(map_86b919d8097dd6ebd6548b2906909101);\n        \n    \n        var popup_96b697436b90a6c1b5121279da2a95e4 = L.popup({&quot;maxWidth&quot;: &quot;100%&quot;});\n\n        \n            var html_217439d5976feb1af333cbcd410d1bc6 = $(`&lt;div id=&quot;html_217439d5976feb1af333cbcd410d1bc6&quot; style=&quot;width: 100.0%; height: 100.0%;&quot;&gt;ATALAYA&lt;/div&gt;`)[0];\n            popup_96b697436b90a6c1b5121279da2a95e4.setContent(html_217439d5976feb1af333cbcd410d1bc6);\n        \n\n        circle_marker_4ffd376d95eeb98c85347c398a08c46d.bindPopup(popup_96b697436b90a6c1b5121279da2a95e4)\n        ;\n\n        \n    \n    \n            var circle_marker_b0e113250b799b17c9db8072497b5411 = L.circleMarker(\n                [40.48041000000006, -3.66826999999995],\n                {&quot;bubblingMouseEvents&quot;: true, &quot;color&quot;: &quot;red&quot;, &quot;dashArray&quot;: null, &quot;dashOffset&quot;: null, &quot;fill&quot;: true, &quot;fillColor&quot;: &quot;#3186cc&quot;, &quot;fillOpacity&quot;: 0.7, &quot;fillRule&quot;: &quot;evenodd&quot;, &quot;lineCap&quot;: &quot;round&quot;, &quot;lineJoin&quot;: &quot;round&quot;, &quot;opacity&quot;: 1.0, &quot;radius&quot;: 5, &quot;stroke&quot;: true, &quot;weight&quot;: 3}\n            ).addTo(map_86b919d8097dd6ebd6548b2906909101);\n        \n    \n        var popup_4e8508f97881ed8c39d1137a3ea4eeaa = L.popup({&quot;maxWidth&quot;: &quot;100%&quot;});\n\n        \n            var html_95036d3113c4d9e896cd5c9e3ebbd364 = $(`&lt;div id=&quot;html_95036d3113c4d9e896cd5c9e3ebbd364&quot; style=&quot;width: 100.0%; height: 100.0%;&quot;&gt;COSTILLARES&lt;/div&gt;`)[0];\n            popup_4e8508f97881ed8c39d1137a3ea4eeaa.setContent(html_95036d3113c4d9e896cd5c9e3ebbd364);\n        \n\n        circle_marker_b0e113250b799b17c9db8072497b5411.bindPopup(popup_4e8508f97881ed8c39d1137a3ea4eeaa)\n        ;\n\n        \n    \n    \n            var circle_marker_5d43b6f1ec398e99376a8ad77286dad0 = L.circleMarker(\n                [40.45383000000004, -3.615009999999927],\n                {&quot;bubblingMouseEvents&quot;: true, &quot;color&quot;: &quot;red&quot;, &quot;dashArray&quot;: null, &quot;dashOffset&quot;: null, &quot;fill&quot;: true, &quot;fillColor&quot;: &quot;#3186cc&quot;, &quot;fillOpacity&quot;: 0.7, &quot;fillRule&quot;: &quot;evenodd&quot;, &quot;lineCap&quot;: &quot;round&quot;, &quot;lineJoin&quot;: &quot;round&quot;, &quot;opacity&quot;: 1.0, &quot;radius&quot;: 5, &quot;stroke&quot;: true, &quot;weight&quot;: 3}\n            ).addTo(map_86b919d8097dd6ebd6548b2906909101);\n        \n    \n        var popup_80bd508846ae819a0a7e913e4baee546 = L.popup({&quot;maxWidth&quot;: &quot;100%&quot;});\n\n        \n            var html_b37ce1d837f74a47f4d83d196f4c0905 = $(`&lt;div id=&quot;html_b37ce1d837f74a47f4d83d196f4c0905&quot; style=&quot;width: 100.0%; height: 100.0%;&quot;&gt;PALOMAS&lt;/div&gt;`)[0];\n            popup_80bd508846ae819a0a7e913e4baee546.setContent(html_b37ce1d837f74a47f4d83d196f4c0905);\n        \n\n        circle_marker_5d43b6f1ec398e99376a8ad77286dad0.bindPopup(popup_80bd508846ae819a0a7e913e4baee546)\n        ;\n\n        \n    \n    \n            var circle_marker_0bca2f2296dbf5309c14cc6ce90dea22 = L.circleMarker(\n                [40.45653000000004, -3.6370999999999754],\n                {&quot;bubblingMouseEvents&quot;: true, &quot;color&quot;: &quot;red&quot;, &quot;dashArray&quot;: null, &quot;dashOffset&quot;: null, &quot;fill&quot;: true, &quot;fillColor&quot;: &quot;#3186cc&quot;, &quot;fillOpacity&quot;: 0.7, &quot;fillRule&quot;: &quot;evenodd&quot;, &quot;lineCap&quot;: &quot;round&quot;, &quot;lineJoin&quot;: &quot;round&quot;, &quot;opacity&quot;: 1.0, &quot;radius&quot;: 5, &quot;stroke&quot;: true, &quot;weight&quot;: 3}\n            ).addTo(map_86b919d8097dd6ebd6548b2906909101);\n        \n    \n        var popup_90f7439ba3b0f16567b60335fc24f183 = L.popup({&quot;maxWidth&quot;: &quot;100%&quot;});\n\n        \n            var html_3eef3f2f42081bedc5757b2cba07c459 = $(`&lt;div id=&quot;html_3eef3f2f42081bedc5757b2cba07c459&quot; style=&quot;width: 100.0%; height: 100.0%;&quot;&gt;PIOVERA&lt;/div&gt;`)[0];\n            popup_90f7439ba3b0f16567b60335fc24f183.setContent(html_3eef3f2f42081bedc5757b2cba07c459);\n        \n\n        circle_marker_0bca2f2296dbf5309c14cc6ce90dea22.bindPopup(popup_90f7439ba3b0f16567b60335fc24f183)\n        ;\n\n        \n    \n    \n            var circle_marker_44068aabf272ac4d66a52ee4aa8bdbeb = L.circleMarker(\n                [40.46448000000004, -3.643379999999979],\n                {&quot;bubblingMouseEvents&quot;: true, &quot;color&quot;: &quot;red&quot;, &quot;dashArray&quot;: null, &quot;dashOffset&quot;: null, &quot;fill&quot;: true, &quot;fillColor&quot;: &quot;#3186cc&quot;, &quot;fillOpacity&quot;: 0.7, &quot;fillRule&quot;: &quot;evenodd&quot;, &quot;lineCap&quot;: &quot;round&quot;, &quot;lineJoin&quot;: &quot;round&quot;, &quot;opacity&quot;: 1.0, &quot;radius&quot;: 5, &quot;stroke&quot;: true, &quot;weight&quot;: 3}\n            ).addTo(map_86b919d8097dd6ebd6548b2906909101);\n        \n    \n        var popup_d1bb311b4b4d038f28c6d20bdeb6ba61 = L.popup({&quot;maxWidth&quot;: &quot;100%&quot;});\n\n        \n            var html_3d0bed567d8e3e50e8c6fdeabead5540 = $(`&lt;div id=&quot;html_3d0bed567d8e3e50e8c6fdeabead5540&quot; style=&quot;width: 100.0%; height: 100.0%;&quot;&gt;CANILLAS&lt;/div&gt;`)[0];\n            popup_d1bb311b4b4d038f28c6d20bdeb6ba61.setContent(html_3d0bed567d8e3e50e8c6fdeabead5540);\n        \n\n        circle_marker_44068aabf272ac4d66a52ee4aa8bdbeb.bindPopup(popup_d1bb311b4b4d038f28c6d20bdeb6ba61)\n        ;\n\n        \n    \n    \n            var circle_marker_02b6d7c5e5f7c0a3d786fd53b890ec73 = L.circleMarker(\n                [40.47225000000003, -3.6494299999999384],\n                {&quot;bubblingMouseEvents&quot;: true, &quot;color&quot;: &quot;red&quot;, &quot;dashArray&quot;: null, &quot;dashOffset&quot;: null, &quot;fill&quot;: true, &quot;fillColor&quot;: &quot;#3186cc&quot;, &quot;fillOpacity&quot;: 0.7, &quot;fillRule&quot;: &quot;evenodd&quot;, &quot;lineCap&quot;: &quot;round&quot;, &quot;lineJoin&quot;: &quot;round&quot;, &quot;opacity&quot;: 1.0, &quot;radius&quot;: 5, &quot;stroke&quot;: true, &quot;weight&quot;: 3}\n            ).addTo(map_86b919d8097dd6ebd6548b2906909101);\n        \n    \n        var popup_70570d601b6f53f31fb05bf7b778418b = L.popup({&quot;maxWidth&quot;: &quot;100%&quot;});\n\n        \n            var html_c84410508492b06666ea79dab806376e = $(`&lt;div id=&quot;html_c84410508492b06666ea79dab806376e&quot; style=&quot;width: 100.0%; height: 100.0%;&quot;&gt;PINAR DEL REY&lt;/div&gt;`)[0];\n            popup_70570d601b6f53f31fb05bf7b778418b.setContent(html_c84410508492b06666ea79dab806376e);\n        \n\n        circle_marker_02b6d7c5e5f7c0a3d786fd53b890ec73.bindPopup(popup_70570d601b6f53f31fb05bf7b778418b)\n        ;\n\n        \n    \n    \n            var circle_marker_f9fb502a6fd0a7aff81b89138aeb21d7 = L.circleMarker(\n                [40.47557000000006, -3.6607099999999377],\n                {&quot;bubblingMouseEvents&quot;: true, &quot;color&quot;: &quot;red&quot;, &quot;dashArray&quot;: null, &quot;dashOffset&quot;: null, &quot;fill&quot;: true, &quot;fillColor&quot;: &quot;#3186cc&quot;, &quot;fillOpacity&quot;: 0.7, &quot;fillRule&quot;: &quot;evenodd&quot;, &quot;lineCap&quot;: &quot;round&quot;, &quot;lineJoin&quot;: &quot;round&quot;, &quot;opacity&quot;: 1.0, &quot;radius&quot;: 5, &quot;stroke&quot;: true, &quot;weight&quot;: 3}\n            ).addTo(map_86b919d8097dd6ebd6548b2906909101);\n        \n    \n        var popup_6d4ad0bb8b47cdb0541e3614c7350adb = L.popup({&quot;maxWidth&quot;: &quot;100%&quot;});\n\n        \n            var html_38fbc75db86b0e07e7033c0ec2068070 = $(`&lt;div id=&quot;html_38fbc75db86b0e07e7033c0ec2068070&quot; style=&quot;width: 100.0%; height: 100.0%;&quot;&gt;APOSTOL SANTIAGO&lt;/div&gt;`)[0];\n            popup_6d4ad0bb8b47cdb0541e3614c7350adb.setContent(html_38fbc75db86b0e07e7033c0ec2068070);\n        \n\n        circle_marker_f9fb502a6fd0a7aff81b89138aeb21d7.bindPopup(popup_6d4ad0bb8b47cdb0541e3614c7350adb)\n        ;\n\n        \n    \n    \n            var circle_marker_db5fcc26f0e2493d409c6d95803106da = L.circleMarker(\n                [40.49405000000007, -3.6592999999999734],\n                {&quot;bubblingMouseEvents&quot;: true, &quot;color&quot;: &quot;red&quot;, &quot;dashArray&quot;: null, &quot;dashOffset&quot;: null, &quot;fill&quot;: true, &quot;fillColor&quot;: &quot;#3186cc&quot;, &quot;fillOpacity&quot;: 0.7, &quot;fillRule&quot;: &quot;evenodd&quot;, &quot;lineCap&quot;: &quot;round&quot;, &quot;lineJoin&quot;: &quot;round&quot;, &quot;opacity&quot;: 1.0, &quot;radius&quot;: 5, &quot;stroke&quot;: true, &quot;weight&quot;: 3}\n            ).addTo(map_86b919d8097dd6ebd6548b2906909101);\n        \n    \n        var popup_097954b1a48af36c60b067da3a714307 = L.popup({&quot;maxWidth&quot;: &quot;100%&quot;});\n\n        \n            var html_19bd0cc020aebbffb24eccd3e5dc0281 = $(`&lt;div id=&quot;html_19bd0cc020aebbffb24eccd3e5dc0281&quot; style=&quot;width: 100.0%; height: 100.0%;&quot;&gt;VALDEFUENTES&lt;/div&gt;`)[0];\n            popup_097954b1a48af36c60b067da3a714307.setContent(html_19bd0cc020aebbffb24eccd3e5dc0281);\n        \n\n        circle_marker_db5fcc26f0e2493d409c6d95803106da.bindPopup(popup_097954b1a48af36c60b067da3a714307)\n        ;\n\n        \n    \n    \n            var circle_marker_21c823761148d091eb852c2ba8f4f8d2 = L.circleMarker(\n                [40.34175000000005, -3.7125199999999268],\n                {&quot;bubblingMouseEvents&quot;: true, &quot;color&quot;: &quot;red&quot;, &quot;dashArray&quot;: null, &quot;dashOffset&quot;: null, &quot;fill&quot;: true, &quot;fillColor&quot;: &quot;#3186cc&quot;, &quot;fillOpacity&quot;: 0.7, &quot;fillRule&quot;: &quot;evenodd&quot;, &quot;lineCap&quot;: &quot;round&quot;, &quot;lineJoin&quot;: &quot;round&quot;, &quot;opacity&quot;: 1.0, &quot;radius&quot;: 5, &quot;stroke&quot;: true, &quot;weight&quot;: 3}\n            ).addTo(map_86b919d8097dd6ebd6548b2906909101);\n        \n    \n        var popup_0ba7b76ff60a3980be44527a5ca24473 = L.popup({&quot;maxWidth&quot;: &quot;100%&quot;});\n\n        \n            var html_d2ed8653b7618b1ce9ab4d206a7767f3 = $(`&lt;div id=&quot;html_d2ed8653b7618b1ce9ab4d206a7767f3&quot; style=&quot;width: 100.0%; height: 100.0%;&quot;&gt;VILLAVERDE ALTO&lt;/div&gt;`)[0];\n            popup_0ba7b76ff60a3980be44527a5ca24473.setContent(html_d2ed8653b7618b1ce9ab4d206a7767f3);\n        \n\n        circle_marker_21c823761148d091eb852c2ba8f4f8d2.bindPopup(popup_0ba7b76ff60a3980be44527a5ca24473)\n        ;\n\n        \n    \n    \n            var circle_marker_8a87dd9e3797299cdb20b9d0ef90054a = L.circleMarker(\n                [40.340490000000045, -3.6877399999999625],\n                {&quot;bubblingMouseEvents&quot;: true, &quot;color&quot;: &quot;red&quot;, &quot;dashArray&quot;: null, &quot;dashOffset&quot;: null, &quot;fill&quot;: true, &quot;fillColor&quot;: &quot;#3186cc&quot;, &quot;fillOpacity&quot;: 0.7, &quot;fillRule&quot;: &quot;evenodd&quot;, &quot;lineCap&quot;: &quot;round&quot;, &quot;lineJoin&quot;: &quot;round&quot;, &quot;opacity&quot;: 1.0, &quot;radius&quot;: 5, &quot;stroke&quot;: true, &quot;weight&quot;: 3}\n            ).addTo(map_86b919d8097dd6ebd6548b2906909101);\n        \n    \n        var popup_c7b0abc92536867072fa18b20c4ab52c = L.popup({&quot;maxWidth&quot;: &quot;100%&quot;});\n\n        \n            var html_f11563118e97f8cdbacbab2040e68044 = $(`&lt;div id=&quot;html_f11563118e97f8cdbacbab2040e68044&quot; style=&quot;width: 100.0%; height: 100.0%;&quot;&gt;SAN CRISTOBAL&lt;/div&gt;`)[0];\n            popup_c7b0abc92536867072fa18b20c4ab52c.setContent(html_f11563118e97f8cdbacbab2040e68044);\n        \n\n        circle_marker_8a87dd9e3797299cdb20b9d0ef90054a.bindPopup(popup_c7b0abc92536867072fa18b20c4ab52c)\n        ;\n\n        \n    \n    \n            var circle_marker_39310239f561008aa983b44ca2779484 = L.circleMarker(\n                [40.348550000000046, -3.6821199999999408],\n                {&quot;bubblingMouseEvents&quot;: true, &quot;color&quot;: &quot;red&quot;, &quot;dashArray&quot;: null, &quot;dashOffset&quot;: null, &quot;fill&quot;: true, &quot;fillColor&quot;: &quot;#3186cc&quot;, &quot;fillOpacity&quot;: 0.7, &quot;fillRule&quot;: &quot;evenodd&quot;, &quot;lineCap&quot;: &quot;round&quot;, &quot;lineJoin&quot;: &quot;round&quot;, &quot;opacity&quot;: 1.0, &quot;radius&quot;: 5, &quot;stroke&quot;: true, &quot;weight&quot;: 3}\n            ).addTo(map_86b919d8097dd6ebd6548b2906909101);\n        \n    \n        var popup_f5c9072b545048653faf6e6f38e9ac1c = L.popup({&quot;maxWidth&quot;: &quot;100%&quot;});\n\n        \n            var html_639a91474e36fa14eede0c386567f45b = $(`&lt;div id=&quot;html_639a91474e36fa14eede0c386567f45b&quot; style=&quot;width: 100.0%; height: 100.0%;&quot;&gt;BUTARQUE&lt;/div&gt;`)[0];\n            popup_f5c9072b545048653faf6e6f38e9ac1c.setContent(html_639a91474e36fa14eede0c386567f45b);\n        \n\n        circle_marker_39310239f561008aa983b44ca2779484.bindPopup(popup_f5c9072b545048653faf6e6f38e9ac1c)\n        ;\n\n        \n    \n    \n            var circle_marker_d0005ea7f8d6a0ad34bd993cac718638 = L.circleMarker(\n                [40.35567000000003, -3.687219999999968],\n                {&quot;bubblingMouseEvents&quot;: true, &quot;color&quot;: &quot;red&quot;, &quot;dashArray&quot;: null, &quot;dashOffset&quot;: null, &quot;fill&quot;: true, &quot;fillColor&quot;: &quot;#3186cc&quot;, &quot;fillOpacity&quot;: 0.7, &quot;fillRule&quot;: &quot;evenodd&quot;, &quot;lineCap&quot;: &quot;round&quot;, &quot;lineJoin&quot;: &quot;round&quot;, &quot;opacity&quot;: 1.0, &quot;radius&quot;: 5, &quot;stroke&quot;: true, &quot;weight&quot;: 3}\n            ).addTo(map_86b919d8097dd6ebd6548b2906909101);\n        \n    \n        var popup_e8ad7d4edf3065335af2e2e29679594f = L.popup({&quot;maxWidth&quot;: &quot;100%&quot;});\n\n        \n            var html_f8d52bb98697465df729e1bf7e32c593 = $(`&lt;div id=&quot;html_f8d52bb98697465df729e1bf7e32c593&quot; style=&quot;width: 100.0%; height: 100.0%;&quot;&gt;LOS ROSALES&lt;/div&gt;`)[0];\n            popup_e8ad7d4edf3065335af2e2e29679594f.setContent(html_f8d52bb98697465df729e1bf7e32c593);\n        \n\n        circle_marker_d0005ea7f8d6a0ad34bd993cac718638.bindPopup(popup_e8ad7d4edf3065335af2e2e29679594f)\n        ;\n\n        \n    \n    \n            var circle_marker_0476d04c03a6c7f8443206b32d50f1a8 = L.circleMarker(\n                [40.35641000000004, -3.695979999999963],\n                {&quot;bubblingMouseEvents&quot;: true, &quot;color&quot;: &quot;red&quot;, &quot;dashArray&quot;: null, &quot;dashOffset&quot;: null, &quot;fill&quot;: true, &quot;fillColor&quot;: &quot;#3186cc&quot;, &quot;fillOpacity&quot;: 0.7, &quot;fillRule&quot;: &quot;evenodd&quot;, &quot;lineCap&quot;: &quot;round&quot;, &quot;lineJoin&quot;: &quot;round&quot;, &quot;opacity&quot;: 1.0, &quot;radius&quot;: 5, &quot;stroke&quot;: true, &quot;weight&quot;: 3}\n            ).addTo(map_86b919d8097dd6ebd6548b2906909101);\n        \n    \n        var popup_a3c2e2a82aa9b9a4a15b32ed2cfb3d67 = L.popup({&quot;maxWidth&quot;: &quot;100%&quot;});\n\n        \n            var html_939fdd2f86bbae7c732f0c76b045af32 = $(`&lt;div id=&quot;html_939fdd2f86bbae7c732f0c76b045af32&quot; style=&quot;width: 100.0%; height: 100.0%;&quot;&gt;LOS ANGELES&lt;/div&gt;`)[0];\n            popup_a3c2e2a82aa9b9a4a15b32ed2cfb3d67.setContent(html_939fdd2f86bbae7c732f0c76b045af32);\n        \n\n        circle_marker_0476d04c03a6c7f8443206b32d50f1a8.bindPopup(popup_a3c2e2a82aa9b9a4a15b32ed2cfb3d67)\n        ;\n\n        \n    \n    \n            var circle_marker_9ead6d4427ed0ee86e44cfaaf97067cc = L.circleMarker(\n                [40.36251000000004, -3.6170999999999367],\n                {&quot;bubblingMouseEvents&quot;: true, &quot;color&quot;: &quot;red&quot;, &quot;dashArray&quot;: null, &quot;dashOffset&quot;: null, &quot;fill&quot;: true, &quot;fillColor&quot;: &quot;#3186cc&quot;, &quot;fillOpacity&quot;: 0.7, &quot;fillRule&quot;: &quot;evenodd&quot;, &quot;lineCap&quot;: &quot;round&quot;, &quot;lineJoin&quot;: &quot;round&quot;, &quot;opacity&quot;: 1.0, &quot;radius&quot;: 5, &quot;stroke&quot;: true, &quot;weight&quot;: 3}\n            ).addTo(map_86b919d8097dd6ebd6548b2906909101);\n        \n    \n        var popup_4d73d9875940e5f0d3f93b21fdd824cc = L.popup({&quot;maxWidth&quot;: &quot;100%&quot;});\n\n        \n            var html_5171f449b82c5ecf6ead0719f4250723 = $(`&lt;div id=&quot;html_5171f449b82c5ecf6ead0719f4250723&quot; style=&quot;width: 100.0%; height: 100.0%;&quot;&gt;CASCO HISTORICO DE VALLECAS&lt;/div&gt;`)[0];\n            popup_4d73d9875940e5f0d3f93b21fdd824cc.setContent(html_5171f449b82c5ecf6ead0719f4250723);\n        \n\n        circle_marker_9ead6d4427ed0ee86e44cfaaf97067cc.bindPopup(popup_4d73d9875940e5f0d3f93b21fdd824cc)\n        ;\n\n        \n    \n    \n            var circle_marker_db71be4ecd944b0f9ae40d5bb3896fbe = L.circleMarker(\n                [40.38121000000007, -3.6097199999999248],\n                {&quot;bubblingMouseEvents&quot;: true, &quot;color&quot;: &quot;red&quot;, &quot;dashArray&quot;: null, &quot;dashOffset&quot;: null, &quot;fill&quot;: true, &quot;fillColor&quot;: &quot;#3186cc&quot;, &quot;fillOpacity&quot;: 0.7, &quot;fillRule&quot;: &quot;evenodd&quot;, &quot;lineCap&quot;: &quot;round&quot;, &quot;lineJoin&quot;: &quot;round&quot;, &quot;opacity&quot;: 1.0, &quot;radius&quot;: 5, &quot;stroke&quot;: true, &quot;weight&quot;: 3}\n            ).addTo(map_86b919d8097dd6ebd6548b2906909101);\n        \n    \n        var popup_27e283108f90e7485b990675c29352ca = L.popup({&quot;maxWidth&quot;: &quot;100%&quot;});\n\n        \n            var html_d8b41fe5b50e300235fe7bd966a2a959 = $(`&lt;div id=&quot;html_d8b41fe5b50e300235fe7bd966a2a959&quot; style=&quot;width: 100.0%; height: 100.0%;&quot;&gt;SANTA EUGENIA&lt;/div&gt;`)[0];\n            popup_27e283108f90e7485b990675c29352ca.setContent(html_d8b41fe5b50e300235fe7bd966a2a959);\n        \n\n        circle_marker_db71be4ecd944b0f9ae40d5bb3896fbe.bindPopup(popup_27e283108f90e7485b990675c29352ca)\n        ;\n\n        \n    \n    \n            var circle_marker_6c42ff01db69e2ee6b076a90ea0d7809 = L.circleMarker(\n                [40.37896000000006, -3.613839999999925],\n                {&quot;bubblingMouseEvents&quot;: true, &quot;color&quot;: &quot;red&quot;, &quot;dashArray&quot;: null, &quot;dashOffset&quot;: null, &quot;fill&quot;: true, &quot;fillColor&quot;: &quot;#3186cc&quot;, &quot;fillOpacity&quot;: 0.7, &quot;fillRule&quot;: &quot;evenodd&quot;, &quot;lineCap&quot;: &quot;round&quot;, &quot;lineJoin&quot;: &quot;round&quot;, &quot;opacity&quot;: 1.0, &quot;radius&quot;: 5, &quot;stroke&quot;: true, &quot;weight&quot;: 3}\n            ).addTo(map_86b919d8097dd6ebd6548b2906909101);\n        \n    \n        var popup_6298d375f2997ccd70b564165d63b292 = L.popup({&quot;maxWidth&quot;: &quot;100%&quot;});\n\n        \n            var html_44e01902c96caedf584aa17016a4cd0c = $(`&lt;div id=&quot;html_44e01902c96caedf584aa17016a4cd0c&quot; style=&quot;width: 100.0%; height: 100.0%;&quot;&gt;ENSANCHE DE VALLECAS&lt;/div&gt;`)[0];\n            popup_6298d375f2997ccd70b564165d63b292.setContent(html_44e01902c96caedf584aa17016a4cd0c);\n        \n\n        circle_marker_6c42ff01db69e2ee6b076a90ea0d7809.bindPopup(popup_6298d375f2997ccd70b564165d63b292)\n        ;\n\n        \n    \n    \n            var circle_marker_edc825f46286939651912bf97e83af6f = L.circleMarker(\n                [40.400000000000034, -3.599999999999966],\n                {&quot;bubblingMouseEvents&quot;: true, &quot;color&quot;: &quot;red&quot;, &quot;dashArray&quot;: null, &quot;dashOffset&quot;: null, &quot;fill&quot;: true, &quot;fillColor&quot;: &quot;#3186cc&quot;, &quot;fillOpacity&quot;: 0.7, &quot;fillRule&quot;: &quot;evenodd&quot;, &quot;lineCap&quot;: &quot;round&quot;, &quot;lineJoin&quot;: &quot;round&quot;, &quot;opacity&quot;: 1.0, &quot;radius&quot;: 5, &quot;stroke&quot;: true, &quot;weight&quot;: 3}\n            ).addTo(map_86b919d8097dd6ebd6548b2906909101);\n        \n    \n        var popup_c3240b579deaa1c93544c3264226f420 = L.popup({&quot;maxWidth&quot;: &quot;100%&quot;});\n\n        \n            var html_8ceed718634c571122885d16d02215a4 = $(`&lt;div id=&quot;html_8ceed718634c571122885d16d02215a4&quot; style=&quot;width: 100.0%; height: 100.0%;&quot;&gt;CASCO HISTORICO DE VICALVARO&lt;/div&gt;`)[0];\n            popup_c3240b579deaa1c93544c3264226f420.setContent(html_8ceed718634c571122885d16d02215a4);\n        \n\n        circle_marker_edc825f46286939651912bf97e83af6f.bindPopup(popup_c3240b579deaa1c93544c3264226f420)\n        ;\n\n        \n    \n    \n            var circle_marker_eef0374cdcc96ba271ecaa4cf38881bd = L.circleMarker(\n                [40.400720000000035, -3.6213299999999435],\n                {&quot;bubblingMouseEvents&quot;: true, &quot;color&quot;: &quot;red&quot;, &quot;dashArray&quot;: null, &quot;dashOffset&quot;: null, &quot;fill&quot;: true, &quot;fillColor&quot;: &quot;#3186cc&quot;, &quot;fillOpacity&quot;: 0.7, &quot;fillRule&quot;: &quot;evenodd&quot;, &quot;lineCap&quot;: &quot;round&quot;, &quot;lineJoin&quot;: &quot;round&quot;, &quot;opacity&quot;: 1.0, &quot;radius&quot;: 5, &quot;stroke&quot;: true, &quot;weight&quot;: 3}\n            ).addTo(map_86b919d8097dd6ebd6548b2906909101);\n        \n    \n        var popup_215d3b16339055e529516107a9c43347 = L.popup({&quot;maxWidth&quot;: &quot;100%&quot;});\n\n        \n            var html_afe66c6db11199f5ccfe0b8349f99f4d = $(`&lt;div id=&quot;html_afe66c6db11199f5ccfe0b8349f99f4d&quot; style=&quot;width: 100.0%; height: 100.0%;&quot;&gt;VALDEBERNARDO&lt;/div&gt;`)[0];\n            popup_215d3b16339055e529516107a9c43347.setContent(html_afe66c6db11199f5ccfe0b8349f99f4d);\n        \n\n        circle_marker_eef0374cdcc96ba271ecaa4cf38881bd.bindPopup(popup_215d3b16339055e529516107a9c43347)\n        ;\n\n        \n    \n    \n            var circle_marker_9d5213b7e73ee41cb5e02e629fcfde58 = L.circleMarker(\n                [40.403320000000065, -3.5955399999999713],\n                {&quot;bubblingMouseEvents&quot;: true, &quot;color&quot;: &quot;red&quot;, &quot;dashArray&quot;: null, &quot;dashOffset&quot;: null, &quot;fill&quot;: true, &quot;fillColor&quot;: &quot;#3186cc&quot;, &quot;fillOpacity&quot;: 0.7, &quot;fillRule&quot;: &quot;evenodd&quot;, &quot;lineCap&quot;: &quot;round&quot;, &quot;lineJoin&quot;: &quot;round&quot;, &quot;opacity&quot;: 1.0, &quot;radius&quot;: 5, &quot;stroke&quot;: true, &quot;weight&quot;: 3}\n            ).addTo(map_86b919d8097dd6ebd6548b2906909101);\n        \n    \n        var popup_cd2abd68cfe160f07878892d4d28d759 = L.popup({&quot;maxWidth&quot;: &quot;100%&quot;});\n\n        \n            var html_dca3fa8823c44d4e3ce657e1445787e1 = $(`&lt;div id=&quot;html_dca3fa8823c44d4e3ce657e1445787e1&quot; style=&quot;width: 100.0%; height: 100.0%;&quot;&gt;VALDERRIVAS&lt;/div&gt;`)[0];\n            popup_cd2abd68cfe160f07878892d4d28d759.setContent(html_dca3fa8823c44d4e3ce657e1445787e1);\n        \n\n        circle_marker_9d5213b7e73ee41cb5e02e629fcfde58.bindPopup(popup_cd2abd68cfe160f07878892d4d28d759)\n        ;\n\n        \n    \n    \n            var circle_marker_547b8e7a13884a9b9e070aec23f094b7 = L.circleMarker(\n                [40.40728000000007, -3.5645399999999654],\n                {&quot;bubblingMouseEvents&quot;: true, &quot;color&quot;: &quot;red&quot;, &quot;dashArray&quot;: null, &quot;dashOffset&quot;: null, &quot;fill&quot;: true, &quot;fillColor&quot;: &quot;#3186cc&quot;, &quot;fillOpacity&quot;: 0.7, &quot;fillRule&quot;: &quot;evenodd&quot;, &quot;lineCap&quot;: &quot;round&quot;, &quot;lineJoin&quot;: &quot;round&quot;, &quot;opacity&quot;: 1.0, &quot;radius&quot;: 5, &quot;stroke&quot;: true, &quot;weight&quot;: 3}\n            ).addTo(map_86b919d8097dd6ebd6548b2906909101);\n        \n    \n        var popup_d1b8d2fd35c544f1a48342c6d63ae8f0 = L.popup({&quot;maxWidth&quot;: &quot;100%&quot;});\n\n        \n            var html_59ee26e986400c4cd3d7738736495fd8 = $(`&lt;div id=&quot;html_59ee26e986400c4cd3d7738736495fd8&quot; style=&quot;width: 100.0%; height: 100.0%;&quot;&gt;EL CANAVERAL&lt;/div&gt;`)[0];\n            popup_d1b8d2fd35c544f1a48342c6d63ae8f0.setContent(html_59ee26e986400c4cd3d7738736495fd8);\n        \n\n        circle_marker_547b8e7a13884a9b9e070aec23f094b7.bindPopup(popup_d1b8d2fd35c544f1a48342c6d63ae8f0)\n        ;\n\n        \n    \n    \n            var circle_marker_b6aad528b7f8f36fddabd9c662a8ba91 = L.circleMarker(\n                [40.43577000000005, -3.624879999999962],\n                {&quot;bubblingMouseEvents&quot;: true, &quot;color&quot;: &quot;red&quot;, &quot;dashArray&quot;: null, &quot;dashOffset&quot;: null, &quot;fill&quot;: true, &quot;fillColor&quot;: &quot;#3186cc&quot;, &quot;fillOpacity&quot;: 0.7, &quot;fillRule&quot;: &quot;evenodd&quot;, &quot;lineCap&quot;: &quot;round&quot;, &quot;lineJoin&quot;: &quot;round&quot;, &quot;opacity&quot;: 1.0, &quot;radius&quot;: 5, &quot;stroke&quot;: true, &quot;weight&quot;: 3}\n            ).addTo(map_86b919d8097dd6ebd6548b2906909101);\n        \n    \n        var popup_b48433c63a880812748ed94d035bc8c2 = L.popup({&quot;maxWidth&quot;: &quot;100%&quot;});\n\n        \n            var html_fcd7d15f5c0e03baab91cd115b324461 = $(`&lt;div id=&quot;html_fcd7d15f5c0e03baab91cd115b324461&quot; style=&quot;width: 100.0%; height: 100.0%;&quot;&gt;SIMANCAS&lt;/div&gt;`)[0];\n            popup_b48433c63a880812748ed94d035bc8c2.setContent(html_fcd7d15f5c0e03baab91cd115b324461);\n        \n\n        circle_marker_b6aad528b7f8f36fddabd9c662a8ba91.bindPopup(popup_b48433c63a880812748ed94d035bc8c2)\n        ;\n\n        \n    \n    \n            var circle_marker_10570eed293a837adbe9e7c0d285d5c9 = L.circleMarker(\n                [40.43164000000007, -3.6154999999999404],\n                {&quot;bubblingMouseEvents&quot;: true, &quot;color&quot;: &quot;red&quot;, &quot;dashArray&quot;: null, &quot;dashOffset&quot;: null, &quot;fill&quot;: true, &quot;fillColor&quot;: &quot;#3186cc&quot;, &quot;fillOpacity&quot;: 0.7, &quot;fillRule&quot;: &quot;evenodd&quot;, &quot;lineCap&quot;: &quot;round&quot;, &quot;lineJoin&quot;: &quot;round&quot;, &quot;opacity&quot;: 1.0, &quot;radius&quot;: 5, &quot;stroke&quot;: true, &quot;weight&quot;: 3}\n            ).addTo(map_86b919d8097dd6ebd6548b2906909101);\n        \n    \n        var popup_f9c234d61f327c587dda2a3a6561d5d1 = L.popup({&quot;maxWidth&quot;: &quot;100%&quot;});\n\n        \n            var html_0fa21f4791fcc1f626c90a58b712be5b = $(`&lt;div id=&quot;html_0fa21f4791fcc1f626c90a58b712be5b&quot; style=&quot;width: 100.0%; height: 100.0%;&quot;&gt;HELLIN&lt;/div&gt;`)[0];\n            popup_f9c234d61f327c587dda2a3a6561d5d1.setContent(html_0fa21f4791fcc1f626c90a58b712be5b);\n        \n\n        circle_marker_10570eed293a837adbe9e7c0d285d5c9.bindPopup(popup_f9c234d61f327c587dda2a3a6561d5d1)\n        ;\n\n        \n    \n    \n            var circle_marker_722dd284f4a5f62f8d828722b33a5031 = L.circleMarker(\n                [40.42643000000004, -3.621309999999937],\n                {&quot;bubblingMouseEvents&quot;: true, &quot;color&quot;: &quot;red&quot;, &quot;dashArray&quot;: null, &quot;dashOffset&quot;: null, &quot;fill&quot;: true, &quot;fillColor&quot;: &quot;#3186cc&quot;, &quot;fillOpacity&quot;: 0.7, &quot;fillRule&quot;: &quot;evenodd&quot;, &quot;lineCap&quot;: &quot;round&quot;, &quot;lineJoin&quot;: &quot;round&quot;, &quot;opacity&quot;: 1.0, &quot;radius&quot;: 5, &quot;stroke&quot;: true, &quot;weight&quot;: 3}\n            ).addTo(map_86b919d8097dd6ebd6548b2906909101);\n        \n    \n        var popup_f6e5ac632918d51029f76b61f9a519c1 = L.popup({&quot;maxWidth&quot;: &quot;100%&quot;});\n\n        \n            var html_003c9210a836ff3d3382e650576fa3d6 = $(`&lt;div id=&quot;html_003c9210a836ff3d3382e650576fa3d6&quot; style=&quot;width: 100.0%; height: 100.0%;&quot;&gt;AMPOSTA&lt;/div&gt;`)[0];\n            popup_f6e5ac632918d51029f76b61f9a519c1.setContent(html_003c9210a836ff3d3382e650576fa3d6);\n        \n\n        circle_marker_722dd284f4a5f62f8d828722b33a5031.bindPopup(popup_f6e5ac632918d51029f76b61f9a519c1)\n        ;\n\n        \n    \n    \n            var circle_marker_6110119c59df3f3be71c58ddfb6912fa = L.circleMarker(\n                [40.42178000000007, -3.617839999999944],\n                {&quot;bubblingMouseEvents&quot;: true, &quot;color&quot;: &quot;red&quot;, &quot;dashArray&quot;: null, &quot;dashOffset&quot;: null, &quot;fill&quot;: true, &quot;fillColor&quot;: &quot;#3186cc&quot;, &quot;fillOpacity&quot;: 0.7, &quot;fillRule&quot;: &quot;evenodd&quot;, &quot;lineCap&quot;: &quot;round&quot;, &quot;lineJoin&quot;: &quot;round&quot;, &quot;opacity&quot;: 1.0, &quot;radius&quot;: 5, &quot;stroke&quot;: true, &quot;weight&quot;: 3}\n            ).addTo(map_86b919d8097dd6ebd6548b2906909101);\n        \n    \n        var popup_05b67d8e5ab1de353679dbb85707c26c = L.popup({&quot;maxWidth&quot;: &quot;100%&quot;});\n\n        \n            var html_6636306c35d84e23f410b906f0cc1a5e = $(`&lt;div id=&quot;html_6636306c35d84e23f410b906f0cc1a5e&quot; style=&quot;width: 100.0%; height: 100.0%;&quot;&gt;ARCOS&lt;/div&gt;`)[0];\n            popup_05b67d8e5ab1de353679dbb85707c26c.setContent(html_6636306c35d84e23f410b906f0cc1a5e);\n        \n\n        circle_marker_6110119c59df3f3be71c58ddfb6912fa.bindPopup(popup_05b67d8e5ab1de353679dbb85707c26c)\n        ;\n\n        \n    \n    \n            var circle_marker_34812c19b056ecabca20d2b30d902c48 = L.circleMarker(\n                [40.428690000000074, -3.6008599999999547],\n                {&quot;bubblingMouseEvents&quot;: true, &quot;color&quot;: &quot;red&quot;, &quot;dashArray&quot;: null, &quot;dashOffset&quot;: null, &quot;fill&quot;: true, &quot;fillColor&quot;: &quot;#3186cc&quot;, &quot;fillOpacity&quot;: 0.7, &quot;fillRule&quot;: &quot;evenodd&quot;, &quot;lineCap&quot;: &quot;round&quot;, &quot;lineJoin&quot;: &quot;round&quot;, &quot;opacity&quot;: 1.0, &quot;radius&quot;: 5, &quot;stroke&quot;: true, &quot;weight&quot;: 3}\n            ).addTo(map_86b919d8097dd6ebd6548b2906909101);\n        \n    \n        var popup_cea767f4ffd61b983df5b6eadd06097c = L.popup({&quot;maxWidth&quot;: &quot;100%&quot;});\n\n        \n            var html_2584870325035da36f192075aa1f3119 = $(`&lt;div id=&quot;html_2584870325035da36f192075aa1f3119&quot; style=&quot;width: 100.0%; height: 100.0%;&quot;&gt;ROSAS&lt;/div&gt;`)[0];\n            popup_cea767f4ffd61b983df5b6eadd06097c.setContent(html_2584870325035da36f192075aa1f3119);\n        \n\n        circle_marker_34812c19b056ecabca20d2b30d902c48.bindPopup(popup_cea767f4ffd61b983df5b6eadd06097c)\n        ;\n\n        \n    \n    \n            var circle_marker_02d904e1fb326e462eb704585a3b9ce1 = L.circleMarker(\n                [40.44629000000003, -3.5748899999999253],\n                {&quot;bubblingMouseEvents&quot;: true, &quot;color&quot;: &quot;red&quot;, &quot;dashArray&quot;: null, &quot;dashOffset&quot;: null, &quot;fill&quot;: true, &quot;fillColor&quot;: &quot;#3186cc&quot;, &quot;fillOpacity&quot;: 0.7, &quot;fillRule&quot;: &quot;evenodd&quot;, &quot;lineCap&quot;: &quot;round&quot;, &quot;lineJoin&quot;: &quot;round&quot;, &quot;opacity&quot;: 1.0, &quot;radius&quot;: 5, &quot;stroke&quot;: true, &quot;weight&quot;: 3}\n            ).addTo(map_86b919d8097dd6ebd6548b2906909101);\n        \n    \n        var popup_cd42e5a7ff7bc3ca2a95e524dcfa366e = L.popup({&quot;maxWidth&quot;: &quot;100%&quot;});\n\n        \n            var html_05a05cc11037eef0cae89529e3763a4b = $(`&lt;div id=&quot;html_05a05cc11037eef0cae89529e3763a4b&quot; style=&quot;width: 100.0%; height: 100.0%;&quot;&gt;REJAS&lt;/div&gt;`)[0];\n            popup_cd42e5a7ff7bc3ca2a95e524dcfa366e.setContent(html_05a05cc11037eef0cae89529e3763a4b);\n        \n\n        circle_marker_02d904e1fb326e462eb704585a3b9ce1.bindPopup(popup_cd42e5a7ff7bc3ca2a95e524dcfa366e)\n        ;\n\n        \n    \n    \n            var circle_marker_b5bff55379d3092e4507452a49b60813 = L.circleMarker(\n                [40.44373000000007, -3.609769999999969],\n                {&quot;bubblingMouseEvents&quot;: true, &quot;color&quot;: &quot;red&quot;, &quot;dashArray&quot;: null, &quot;dashOffset&quot;: null, &quot;fill&quot;: true, &quot;fillColor&quot;: &quot;#3186cc&quot;, &quot;fillOpacity&quot;: 0.7, &quot;fillRule&quot;: &quot;evenodd&quot;, &quot;lineCap&quot;: &quot;round&quot;, &quot;lineJoin&quot;: &quot;round&quot;, &quot;opacity&quot;: 1.0, &quot;radius&quot;: 5, &quot;stroke&quot;: true, &quot;weight&quot;: 3}\n            ).addTo(map_86b919d8097dd6ebd6548b2906909101);\n        \n    \n        var popup_e5cd22b35f00d05b82630db6d8c2b4e8 = L.popup({&quot;maxWidth&quot;: &quot;100%&quot;});\n\n        \n            var html_5ced1b5c2eca19c990b830b65b71e1b6 = $(`&lt;div id=&quot;html_5ced1b5c2eca19c990b830b65b71e1b6&quot; style=&quot;width: 100.0%; height: 100.0%;&quot;&gt;CANILLEJAS&lt;/div&gt;`)[0];\n            popup_e5cd22b35f00d05b82630db6d8c2b4e8.setContent(html_5ced1b5c2eca19c990b830b65b71e1b6);\n        \n\n        circle_marker_b5bff55379d3092e4507452a49b60813.bindPopup(popup_e5cd22b35f00d05b82630db6d8c2b4e8)\n        ;\n\n        \n    \n    \n            var circle_marker_311e258a39abd80284a2b4b2c3b2384a = L.circleMarker(\n                [40.44384000000008, -3.6347699999999463],\n                {&quot;bubblingMouseEvents&quot;: true, &quot;color&quot;: &quot;red&quot;, &quot;dashArray&quot;: null, &quot;dashOffset&quot;: null, &quot;fill&quot;: true, &quot;fillColor&quot;: &quot;#3186cc&quot;, &quot;fillOpacity&quot;: 0.7, &quot;fillRule&quot;: &quot;evenodd&quot;, &quot;lineCap&quot;: &quot;round&quot;, &quot;lineJoin&quot;: &quot;round&quot;, &quot;opacity&quot;: 1.0, &quot;radius&quot;: 5, &quot;stroke&quot;: true, &quot;weight&quot;: 3}\n            ).addTo(map_86b919d8097dd6ebd6548b2906909101);\n        \n    \n        var popup_81c8edfec50dca92e2244594258440a6 = L.popup({&quot;maxWidth&quot;: &quot;100%&quot;});\n\n        \n            var html_be9e5ff991ed80b716ae60689897541c = $(`&lt;div id=&quot;html_be9e5ff991ed80b716ae60689897541c&quot; style=&quot;width: 100.0%; height: 100.0%;&quot;&gt;EL SALVADOR&lt;/div&gt;`)[0];\n            popup_81c8edfec50dca92e2244594258440a6.setContent(html_be9e5ff991ed80b716ae60689897541c);\n        \n\n        circle_marker_311e258a39abd80284a2b4b2c3b2384a.bindPopup(popup_81c8edfec50dca92e2244594258440a6)\n        ;\n\n        \n    \n    \n            var circle_marker_164e54949176b892a8a55241c93ede3d = L.circleMarker(\n                [40.45818000000003, -3.589529999999968],\n                {&quot;bubblingMouseEvents&quot;: true, &quot;color&quot;: &quot;red&quot;, &quot;dashArray&quot;: null, &quot;dashOffset&quot;: null, &quot;fill&quot;: true, &quot;fillColor&quot;: &quot;#3186cc&quot;, &quot;fillOpacity&quot;: 0.7, &quot;fillRule&quot;: &quot;evenodd&quot;, &quot;lineCap&quot;: &quot;round&quot;, &quot;lineJoin&quot;: &quot;round&quot;, &quot;opacity&quot;: 1.0, &quot;radius&quot;: 5, &quot;stroke&quot;: true, &quot;weight&quot;: 3}\n            ).addTo(map_86b919d8097dd6ebd6548b2906909101);\n        \n    \n        var popup_facba5b1f135c69d945255ac44ede73c = L.popup({&quot;maxWidth&quot;: &quot;100%&quot;});\n\n        \n            var html_a6e221f91f63f2bf9623019411e1581f = $(`&lt;div id=&quot;html_a6e221f91f63f2bf9623019411e1581f&quot; style=&quot;width: 100.0%; height: 100.0%;&quot;&gt;ALAMEDA DE OSUNA&lt;/div&gt;`)[0];\n            popup_facba5b1f135c69d945255ac44ede73c.setContent(html_a6e221f91f63f2bf9623019411e1581f);\n        \n\n        circle_marker_164e54949176b892a8a55241c93ede3d.bindPopup(popup_facba5b1f135c69d945255ac44ede73c)\n        ;\n\n        \n    \n    \n            var circle_marker_b5e334f9ea7c857b976b424f44b7fc24 = L.circleMarker(\n                [40.483370000000036, -3.5594899999999257],\n                {&quot;bubblingMouseEvents&quot;: true, &quot;color&quot;: &quot;red&quot;, &quot;dashArray&quot;: null, &quot;dashOffset&quot;: null, &quot;fill&quot;: true, &quot;fillColor&quot;: &quot;#3186cc&quot;, &quot;fillOpacity&quot;: 0.7, &quot;fillRule&quot;: &quot;evenodd&quot;, &quot;lineCap&quot;: &quot;round&quot;, &quot;lineJoin&quot;: &quot;round&quot;, &quot;opacity&quot;: 1.0, &quot;radius&quot;: 5, &quot;stroke&quot;: true, &quot;weight&quot;: 3}\n            ).addTo(map_86b919d8097dd6ebd6548b2906909101);\n        \n    \n        var popup_0a7e6d2b89080f04510b7754eb15856a = L.popup({&quot;maxWidth&quot;: &quot;100%&quot;});\n\n        \n            var html_55f0bac9e59e92b722cca4c86a654894 = $(`&lt;div id=&quot;html_55f0bac9e59e92b722cca4c86a654894&quot; style=&quot;width: 100.0%; height: 100.0%;&quot;&gt;AEROPUERTO&lt;/div&gt;`)[0];\n            popup_0a7e6d2b89080f04510b7754eb15856a.setContent(html_55f0bac9e59e92b722cca4c86a654894);\n        \n\n        circle_marker_b5e334f9ea7c857b976b424f44b7fc24.bindPopup(popup_0a7e6d2b89080f04510b7754eb15856a)\n        ;\n\n        \n    \n    \n            var circle_marker_43e457fa8e025a5541a2dad19bde2657 = L.circleMarker(\n                [40.47482000000008, -3.5795099999999707],\n                {&quot;bubblingMouseEvents&quot;: true, &quot;color&quot;: &quot;red&quot;, &quot;dashArray&quot;: null, &quot;dashOffset&quot;: null, &quot;fill&quot;: true, &quot;fillColor&quot;: &quot;#3186cc&quot;, &quot;fillOpacity&quot;: 0.7, &quot;fillRule&quot;: &quot;evenodd&quot;, &quot;lineCap&quot;: &quot;round&quot;, &quot;lineJoin&quot;: &quot;round&quot;, &quot;opacity&quot;: 1.0, &quot;radius&quot;: 5, &quot;stroke&quot;: true, &quot;weight&quot;: 3}\n            ).addTo(map_86b919d8097dd6ebd6548b2906909101);\n        \n    \n        var popup_ae68b6b78d89c80500ceb4b892aa367e = L.popup({&quot;maxWidth&quot;: &quot;100%&quot;});\n\n        \n            var html_92314c40cf6cc73adfb04141435bf6eb = $(`&lt;div id=&quot;html_92314c40cf6cc73adfb04141435bf6eb&quot; style=&quot;width: 100.0%; height: 100.0%;&quot;&gt;CASCO HISTORICO DE BARAJAS&lt;/div&gt;`)[0];\n            popup_ae68b6b78d89c80500ceb4b892aa367e.setContent(html_92314c40cf6cc73adfb04141435bf6eb);\n        \n\n        circle_marker_43e457fa8e025a5541a2dad19bde2657.bindPopup(popup_ae68b6b78d89c80500ceb4b892aa367e)\n        ;\n\n        \n    \n    \n            var circle_marker_cce554f693fb43ee4db8692dd2cced00 = L.circleMarker(\n                [40.48568000000006, -3.6047199999999293],\n                {&quot;bubblingMouseEvents&quot;: true, &quot;color&quot;: &quot;red&quot;, &quot;dashArray&quot;: null, &quot;dashOffset&quot;: null, &quot;fill&quot;: true, &quot;fillColor&quot;: &quot;#3186cc&quot;, &quot;fillOpacity&quot;: 0.7, &quot;fillRule&quot;: &quot;evenodd&quot;, &quot;lineCap&quot;: &quot;round&quot;, &quot;lineJoin&quot;: &quot;round&quot;, &quot;opacity&quot;: 1.0, &quot;radius&quot;: 5, &quot;stroke&quot;: true, &quot;weight&quot;: 3}\n            ).addTo(map_86b919d8097dd6ebd6548b2906909101);\n        \n    \n        var popup_c3677e588e10eb7266a3d211e860ca4d = L.popup({&quot;maxWidth&quot;: &quot;100%&quot;});\n\n        \n            var html_fc166f442edbe46d73cb38c7e5b6d873 = $(`&lt;div id=&quot;html_fc166f442edbe46d73cb38c7e5b6d873&quot; style=&quot;width: 100.0%; height: 100.0%;&quot;&gt;TIMON&lt;/div&gt;`)[0];\n            popup_c3677e588e10eb7266a3d211e860ca4d.setContent(html_fc166f442edbe46d73cb38c7e5b6d873);\n        \n\n        circle_marker_cce554f693fb43ee4db8692dd2cced00.bindPopup(popup_c3677e588e10eb7266a3d211e860ca4d)\n        ;\n\n        \n    \n    \n            var circle_marker_b4af814c18c070b142f8563fe701028a = L.circleMarker(\n                [40.465400000000045, -3.6116399999999658],\n                {&quot;bubblingMouseEvents&quot;: true, &quot;color&quot;: &quot;red&quot;, &quot;dashArray&quot;: null, &quot;dashOffset&quot;: null, &quot;fill&quot;: true, &quot;fillColor&quot;: &quot;#3186cc&quot;, &quot;fillOpacity&quot;: 0.7, &quot;fillRule&quot;: &quot;evenodd&quot;, &quot;lineCap&quot;: &quot;round&quot;, &quot;lineJoin&quot;: &quot;round&quot;, &quot;opacity&quot;: 1.0, &quot;radius&quot;: 5, &quot;stroke&quot;: true, &quot;weight&quot;: 3}\n            ).addTo(map_86b919d8097dd6ebd6548b2906909101);\n        \n    \n        var popup_c51af090da0371bfb5d1ecbc662883f4 = L.popup({&quot;maxWidth&quot;: &quot;100%&quot;});\n\n        \n            var html_c3d2499ace3a5f77c01b9ecfba5a169c = $(`&lt;div id=&quot;html_c3d2499ace3a5f77c01b9ecfba5a169c&quot; style=&quot;width: 100.0%; height: 100.0%;&quot;&gt;CORRALEJOS&lt;/div&gt;`)[0];\n            popup_c51af090da0371bfb5d1ecbc662883f4.setContent(html_c3d2499ace3a5f77c01b9ecfba5a169c);\n        \n\n        circle_marker_b4af814c18c070b142f8563fe701028a.bindPopup(popup_c51af090da0371bfb5d1ecbc662883f4)\n        ;\n\n        \n    \n&lt;/script&gt;\" style=\"position:absolute;width:100%;height:100%;left:0;top:0;border:none !important;\" allowfullscreen webkitallowfullscreen mozallowfullscreen></iframe></div></div>"
     },
     "execution_count": 35,
     "metadata": {},
     "output_type": "execute_result"
    }
   ],
   "source": [
    "# create map of Madrid using latitude and longitude values\n",
    "map_madrid = folium.Map(location=[latitude, longitude], zoom_start=11)\n",
    "\n",
    "# add markers to map\n",
    "for lat, lng, label in zip(neighbourhoods_df['Latitude'], neighbourhoods_df['Longitude'], neighbourhoods_df['Neighbourhood']):\n",
    "    label = folium.Popup(remove_accents(label), parse_html=True)\n",
    "    folium.CircleMarker(\n",
    "        [lat, lng],\n",
    "        radius=5,\n",
    "        popup=label,\n",
    "        color='red',\n",
    "        fill=True,\n",
    "        fill_color='#3186cc',\n",
    "        fill_opacity=0.7,\n",
    "        parse_html=False).add_to(map_madrid)\n",
    "\n",
    "map_madrid"
   ],
   "metadata": {
    "collapsed": false,
    "pycharm": {
     "name": "#%%\n"
    }
   }
  },
  {
   "cell_type": "code",
   "execution_count": 36,
   "outputs": [],
   "source": [
    "#---------------------------------------------------------------------------\n",
    "\n"
   ],
   "metadata": {
    "collapsed": false,
    "pycharm": {
     "name": "#%%\n"
    }
   }
  },
  {
   "cell_type": "code",
   "execution_count": 37,
   "outputs": [],
   "source": [
    "# Establishing a connection to foursquare API\n",
    "# ---------------------------------------------------------------------------"
   ],
   "metadata": {
    "collapsed": false,
    "pycharm": {
     "name": "#%%\n"
    }
   }
  },
  {
   "cell_type": "code",
   "execution_count": 38,
   "outputs": [],
   "source": [
    "tok1 = \"RRLQJ3E2XUVOIOJ1JCCTVG5T2TW5EUVL35NBIEAJGO5UHUH2\"\n",
    "tok2 = \"IZUZ45XFYXTK0NNIBHIF412VCEOZGOMSLUN5CWOT50IERA5S\""
   ],
   "metadata": {
    "collapsed": false,
    "pycharm": {
     "name": "#%%\n"
    }
   }
  },
  {
   "cell_type": "code",
   "execution_count": 39,
   "outputs": [],
   "source": [
    "#find_places('wine', latitude, longitude)"
   ],
   "metadata": {
    "collapsed": false,
    "pycharm": {
     "name": "#%%\n"
    }
   }
  },
  {
   "cell_type": "code",
   "execution_count": 40,
   "outputs": [],
   "source": [
    "# Function to find venues in a given neighbourhood\n",
    "def getnearbyvenues (names, latitudes, longitudes, radius=500):\n",
    "\n",
    "    venues_list=[]\n",
    "    for name, lat, lng in zip(names, latitudes, longitudes):\n",
    "\n",
    "        # create the API request URL\n",
    "        url = 'https://api.foursquare.com/v2/venues/search?' + \\\n",
    "            '&client_id={}'.format(tok1) + \\\n",
    "            '&client_secret={}'.format(tok2) + \\\n",
    "            '&v=20180323' + \\\n",
    "            '&ll={},{}'.format(lat, lng) + \\\n",
    "            '&radius={}'.format(radius)+\\\n",
    "            '&limit=100'\n",
    "\n",
    "\n",
    "        # make the GET request\n",
    "        results = requests.get(url).json()[\"response\"]['venues']\n",
    "\n",
    "        # return only relevant information for each nearby venue\n",
    "        venues_list.append([(\n",
    "            name,\n",
    "            lat,\n",
    "            lng,\n",
    "            v['name'],\n",
    "            v['location']['lat'],\n",
    "            v['location']['lng'],\n",
    "            v['categories'][0]['name']) for v in results if v['categories']])\n",
    "\n",
    "    nearby_venues = pd.DataFrame([item for venue_list in venues_list for item in venue_list])\n",
    "    nearby_venues.columns = ['Neighbourhood',\n",
    "                  'Neighbourhood Latitude',\n",
    "                  'Neighbourhood Longitude',\n",
    "                  'Venue',\n",
    "                  'Venue Latitude',\n",
    "                  'Venue Longitude',\n",
    "                  'Venue Category']\n",
    "\n",
    "    return nearby_venues"
   ],
   "metadata": {
    "collapsed": false,
    "pycharm": {
     "name": "#%%\n"
    }
   }
  },
  {
   "cell_type": "code",
   "execution_count": 41,
   "outputs": [
    {
     "name": "stdout",
     "output_type": "stream",
     "text": [
      "(6018, 7)\n"
     ]
    },
    {
     "data": {
      "text/plain": "  Neighbourhood  Neighbourhood Latitude  Neighbourhood Longitude  \\\n0       PALACIO                40.41517                 -3.71273   \n1       PALACIO                40.41517                 -3.71273   \n2       PALACIO                40.41517                 -3.71273   \n3       PALACIO                40.41517                 -3.71273   \n4       PALACIO                40.41517                 -3.71273   \n\n                                               Venue  Venue Latitude  \\\n0                      Instituto Italiano de Cultura       40.415197   \n1                                Cervecería La Mayor       40.415218   \n2                                  Consejo De Estado       40.415129   \n3  Santa Iglesia Catedral de Santa María la Real ...       40.415767   \n4                             Iglesia del Sacramento       40.415070   \n\n   Venue Longitude                Venue Category  \n0        -3.712883  General College & University  \n1        -3.712194                      Beer Bar  \n2        -3.713384           Government Building  \n3        -3.714516                        Church  \n4        -3.712244                        Church  ",
      "text/html": "<div>\n<style scoped>\n    .dataframe tbody tr th:only-of-type {\n        vertical-align: middle;\n    }\n\n    .dataframe tbody tr th {\n        vertical-align: top;\n    }\n\n    .dataframe thead th {\n        text-align: right;\n    }\n</style>\n<table border=\"1\" class=\"dataframe\">\n  <thead>\n    <tr style=\"text-align: right;\">\n      <th></th>\n      <th>Neighbourhood</th>\n      <th>Neighbourhood Latitude</th>\n      <th>Neighbourhood Longitude</th>\n      <th>Venue</th>\n      <th>Venue Latitude</th>\n      <th>Venue Longitude</th>\n      <th>Venue Category</th>\n    </tr>\n  </thead>\n  <tbody>\n    <tr>\n      <th>0</th>\n      <td>PALACIO</td>\n      <td>40.41517</td>\n      <td>-3.71273</td>\n      <td>Instituto Italiano de Cultura</td>\n      <td>40.415197</td>\n      <td>-3.712883</td>\n      <td>General College &amp; University</td>\n    </tr>\n    <tr>\n      <th>1</th>\n      <td>PALACIO</td>\n      <td>40.41517</td>\n      <td>-3.71273</td>\n      <td>Cervecería La Mayor</td>\n      <td>40.415218</td>\n      <td>-3.712194</td>\n      <td>Beer Bar</td>\n    </tr>\n    <tr>\n      <th>2</th>\n      <td>PALACIO</td>\n      <td>40.41517</td>\n      <td>-3.71273</td>\n      <td>Consejo De Estado</td>\n      <td>40.415129</td>\n      <td>-3.713384</td>\n      <td>Government Building</td>\n    </tr>\n    <tr>\n      <th>3</th>\n      <td>PALACIO</td>\n      <td>40.41517</td>\n      <td>-3.71273</td>\n      <td>Santa Iglesia Catedral de Santa María la Real ...</td>\n      <td>40.415767</td>\n      <td>-3.714516</td>\n      <td>Church</td>\n    </tr>\n    <tr>\n      <th>4</th>\n      <td>PALACIO</td>\n      <td>40.41517</td>\n      <td>-3.71273</td>\n      <td>Iglesia del Sacramento</td>\n      <td>40.415070</td>\n      <td>-3.712244</td>\n      <td>Church</td>\n    </tr>\n  </tbody>\n</table>\n</div>"
     },
     "execution_count": 41,
     "metadata": {},
     "output_type": "execute_result"
    }
   ],
   "source": [
    "# Search for venues within 1Km of radius from the neighbourhood centre point\n",
    "radius = 1000\n",
    "\n",
    "madrid_venues = getnearbyvenues(names=neighbourhoods_df['Neighbourhood'],\n",
    "                                   latitudes=neighbourhoods_df['Latitude'],\n",
    "                                   longitudes=neighbourhoods_df['Longitude'],\n",
    "                                   radius=radius)\n",
    "\n",
    "print(madrid_venues.shape)\n",
    "madrid_venues.head()"
   ],
   "metadata": {
    "collapsed": false,
    "pycharm": {
     "name": "#%%\n"
    }
   }
  },
  {
   "cell_type": "code",
   "execution_count": 42,
   "outputs": [],
   "source": [
    "#---------------------------------------------------------------------------"
   ],
   "metadata": {
    "collapsed": false,
    "pycharm": {
     "name": "#%%\n"
    }
   }
  },
  {
   "cell_type": "code",
   "execution_count": 43,
   "outputs": [],
   "source": [
    "# Clustering the venues in the neighbourhood\n",
    "# ---------------------------------------------------------------------------"
   ],
   "metadata": {
    "collapsed": false,
    "pycharm": {
     "name": "#%%\n"
    }
   }
  },
  {
   "cell_type": "code",
   "execution_count": 44,
   "outputs": [],
   "source": [
    "# applying one hot encoding to the category column\n",
    "madrid_venues_categ = pd.get_dummies(madrid_venues['Venue Category'])\n",
    "# adding the neightbourhood column back to the dataframe\n",
    "madrid_venues_categ['Neighbourhood'] = madrid_venues['Neighbourhood']"
   ],
   "metadata": {
    "collapsed": false,
    "pycharm": {
     "name": "#%% # Clustering the venues in the neighbourhood\n"
    }
   }
  },
  {
   "cell_type": "code",
   "execution_count": 45,
   "outputs": [
    {
     "data": {
      "text/plain": "   Accessories Store  Adult Boutique  Adult Education Center  \\\n0                  0               0                       0   \n1                  0               0                       0   \n2                  0               0                       0   \n3                  0               0                       0   \n4                  0               0                       0   \n\n   Advertising Agency  African Restaurant  Airport  Airport Gate  \\\n0                   0                   0        0             0   \n1                   0                   0        0             0   \n2                   0                   0        0             0   \n3                   0                   0        0             0   \n4                   0                   0        0             0   \n\n   Airport Lounge  Airport Service  Airport Terminal  ...  Water Park  \\\n0               0                0                 0  ...           0   \n1               0                0                 0  ...           0   \n2               0                0                 0  ...           0   \n3               0                0                 0  ...           0   \n4               0                0                 0  ...           0   \n\n   Wine Bar  Wine Shop  Winery  Wings Joint  Women's Store  Yoga Studio  Zoo  \\\n0         0          0       0            0              0            0    0   \n1         0          0       0            0              0            0    0   \n2         0          0       0            0              0            0    0   \n3         0          0       0            0              0            0    0   \n4         0          0       0            0              0            0    0   \n\n   Zoo Exhibit  Neighbourhood  \n0            0        PALACIO  \n1            0        PALACIO  \n2            0        PALACIO  \n3            0        PALACIO  \n4            0        PALACIO  \n\n[5 rows x 447 columns]",
      "text/html": "<div>\n<style scoped>\n    .dataframe tbody tr th:only-of-type {\n        vertical-align: middle;\n    }\n\n    .dataframe tbody tr th {\n        vertical-align: top;\n    }\n\n    .dataframe thead th {\n        text-align: right;\n    }\n</style>\n<table border=\"1\" class=\"dataframe\">\n  <thead>\n    <tr style=\"text-align: right;\">\n      <th></th>\n      <th>Accessories Store</th>\n      <th>Adult Boutique</th>\n      <th>Adult Education Center</th>\n      <th>Advertising Agency</th>\n      <th>African Restaurant</th>\n      <th>Airport</th>\n      <th>Airport Gate</th>\n      <th>Airport Lounge</th>\n      <th>Airport Service</th>\n      <th>Airport Terminal</th>\n      <th>...</th>\n      <th>Water Park</th>\n      <th>Wine Bar</th>\n      <th>Wine Shop</th>\n      <th>Winery</th>\n      <th>Wings Joint</th>\n      <th>Women's Store</th>\n      <th>Yoga Studio</th>\n      <th>Zoo</th>\n      <th>Zoo Exhibit</th>\n      <th>Neighbourhood</th>\n    </tr>\n  </thead>\n  <tbody>\n    <tr>\n      <th>0</th>\n      <td>0</td>\n      <td>0</td>\n      <td>0</td>\n      <td>0</td>\n      <td>0</td>\n      <td>0</td>\n      <td>0</td>\n      <td>0</td>\n      <td>0</td>\n      <td>0</td>\n      <td>...</td>\n      <td>0</td>\n      <td>0</td>\n      <td>0</td>\n      <td>0</td>\n      <td>0</td>\n      <td>0</td>\n      <td>0</td>\n      <td>0</td>\n      <td>0</td>\n      <td>PALACIO</td>\n    </tr>\n    <tr>\n      <th>1</th>\n      <td>0</td>\n      <td>0</td>\n      <td>0</td>\n      <td>0</td>\n      <td>0</td>\n      <td>0</td>\n      <td>0</td>\n      <td>0</td>\n      <td>0</td>\n      <td>0</td>\n      <td>...</td>\n      <td>0</td>\n      <td>0</td>\n      <td>0</td>\n      <td>0</td>\n      <td>0</td>\n      <td>0</td>\n      <td>0</td>\n      <td>0</td>\n      <td>0</td>\n      <td>PALACIO</td>\n    </tr>\n    <tr>\n      <th>2</th>\n      <td>0</td>\n      <td>0</td>\n      <td>0</td>\n      <td>0</td>\n      <td>0</td>\n      <td>0</td>\n      <td>0</td>\n      <td>0</td>\n      <td>0</td>\n      <td>0</td>\n      <td>...</td>\n      <td>0</td>\n      <td>0</td>\n      <td>0</td>\n      <td>0</td>\n      <td>0</td>\n      <td>0</td>\n      <td>0</td>\n      <td>0</td>\n      <td>0</td>\n      <td>PALACIO</td>\n    </tr>\n    <tr>\n      <th>3</th>\n      <td>0</td>\n      <td>0</td>\n      <td>0</td>\n      <td>0</td>\n      <td>0</td>\n      <td>0</td>\n      <td>0</td>\n      <td>0</td>\n      <td>0</td>\n      <td>0</td>\n      <td>...</td>\n      <td>0</td>\n      <td>0</td>\n      <td>0</td>\n      <td>0</td>\n      <td>0</td>\n      <td>0</td>\n      <td>0</td>\n      <td>0</td>\n      <td>0</td>\n      <td>PALACIO</td>\n    </tr>\n    <tr>\n      <th>4</th>\n      <td>0</td>\n      <td>0</td>\n      <td>0</td>\n      <td>0</td>\n      <td>0</td>\n      <td>0</td>\n      <td>0</td>\n      <td>0</td>\n      <td>0</td>\n      <td>0</td>\n      <td>...</td>\n      <td>0</td>\n      <td>0</td>\n      <td>0</td>\n      <td>0</td>\n      <td>0</td>\n      <td>0</td>\n      <td>0</td>\n      <td>0</td>\n      <td>0</td>\n      <td>PALACIO</td>\n    </tr>\n  </tbody>\n</table>\n<p>5 rows × 447 columns</p>\n</div>"
     },
     "execution_count": 45,
     "metadata": {},
     "output_type": "execute_result"
    }
   ],
   "source": [
    "madrid_venues_categ.head()"
   ],
   "metadata": {
    "collapsed": false,
    "pycharm": {
     "name": "#%%\n"
    }
   }
  },
  {
   "cell_type": "code",
   "execution_count": 46,
   "outputs": [
    {
     "data": {
      "text/plain": "       Neighbourhood  Accessories Store  Adult Boutique  \\\n0           ABRANTES           0.000000             0.0   \n1            ACACIAS           0.000000             0.0   \n2            ADELFAS           0.000000             0.0   \n3         AEROPUERTO           0.000000             0.0   \n4   ALAMEDA DE OSUNA           0.000000             0.0   \n5            ALMAGRO           0.000000             0.0   \n6           ALMENARA           0.000000             0.0   \n7        ALMENDRALES           0.000000             0.0   \n8             ALUCHE           0.000000             0.0   \n9            AMPOSTA           0.000000             0.0   \n10  APÓSTOL SANTIAGO           0.000000             0.0   \n11          ARAPILES           0.000000             0.0   \n12           ARAVACA           0.000000             0.0   \n13             ARCOS           0.021277             0.0   \n14         ARGÜELLES           0.000000             0.0   \n15           ATALAYA           0.000000             0.0   \n16            ATOCHA           0.000000             0.0   \n17     BELLAS VISTAS           0.000000             0.0   \n18        BERRUGUETE           0.000000             0.0   \n19        BUENAVISTA           0.000000             0.0   \n20          BUTARQUE           0.000000             0.0   \n21        CAMPAMENTO           0.000000             0.0   \n22          CANILLAS           0.000000             0.0   \n23        CANILLEJAS           0.000000             0.0   \n24     CASA DE CAMPO           0.000000             0.0   \n\n    Adult Education Center  Advertising Agency  African Restaurant  Airport  \\\n0                      0.0                 0.0                 0.0     0.00   \n1                      0.0                 0.0                 0.0     0.00   \n2                      0.0                 0.0                 0.0     0.00   \n3                      0.0                 0.0                 0.0     0.02   \n4                      0.0                 0.0                 0.0     0.00   \n5                      0.0                 0.0                 0.0     0.00   \n6                      0.0                 0.0                 0.0     0.00   \n7                      0.0                 0.0                 0.0     0.00   \n8                      0.0                 0.0                 0.0     0.00   \n9                      0.0                 0.0                 0.0     0.00   \n10                     0.0                 0.0                 0.0     0.00   \n11                     0.0                 0.0                 0.0     0.00   \n12                     0.0                 0.0                 0.0     0.00   \n13                     0.0                 0.0                 0.0     0.00   \n14                     0.0                 0.0                 0.0     0.00   \n15                     0.0                 0.0                 0.0     0.00   \n16                     0.0                 0.0                 0.0     0.00   \n17                     0.0                 0.0                 0.0     0.00   \n18                     0.0                 0.0                 0.0     0.00   \n19                     0.0                 0.0                 0.0     0.00   \n20                     0.0                 0.0                 0.0     0.00   \n21                     0.0                 0.0                 0.0     0.00   \n22                     0.0                 0.0                 0.0     0.00   \n23                     0.0                 0.0                 0.0     0.00   \n24                     0.0                 0.0                 0.0     0.00   \n\n    Airport Gate  Airport Lounge  Airport Service  ...  Warehouse  Water Park  \\\n0       0.000000            0.00             0.00  ...        0.0         0.0   \n1       0.000000            0.00             0.00  ...        0.0         0.0   \n2       0.000000            0.00             0.00  ...        0.0         0.0   \n3       0.640000            0.04             0.08  ...        0.0         0.0   \n4       0.000000            0.00             0.00  ...        0.0         0.0   \n5       0.000000            0.00             0.00  ...        0.0         0.0   \n6       0.000000            0.00             0.00  ...        0.0         0.0   \n7       0.000000            0.00             0.00  ...        0.0         0.0   \n8       0.000000            0.00             0.00  ...        0.0         0.0   \n9       0.000000            0.00             0.00  ...        0.0         0.0   \n10      0.000000            0.00             0.00  ...        0.0         0.0   \n11      0.000000            0.00             0.00  ...        0.0         0.0   \n12      0.000000            0.00             0.00  ...        0.0         0.0   \n13      0.000000            0.00             0.00  ...        0.0         0.0   \n14      0.000000            0.00             0.00  ...        0.0         0.0   \n15      0.000000            0.00             0.00  ...        0.0         0.0   \n16      0.000000            0.00             0.00  ...        0.0         0.0   \n17      0.000000            0.00             0.00  ...        0.0         0.0   \n18      0.000000            0.00             0.00  ...        0.0         0.0   \n19      0.021739            0.00             0.00  ...        0.0         0.0   \n20      0.000000            0.00             0.00  ...        0.0         0.0   \n21      0.000000            0.00             0.00  ...        0.0         0.0   \n22      0.000000            0.00             0.00  ...        0.0         0.0   \n23      0.000000            0.00             0.00  ...        0.0         0.0   \n24      0.000000            0.00             0.00  ...        0.0         0.0   \n\n    Wine Bar  Wine Shop    Winery  Wings Joint  Women's Store  Yoga Studio  \\\n0        0.0    0.00000  0.000000          0.0       0.000000     0.000000   \n1        0.0    0.00000  0.021277          0.0       0.000000     0.000000   \n2        0.0    0.00000  0.000000          0.0       0.000000     0.000000   \n3        0.0    0.00000  0.000000          0.0       0.000000     0.000000   \n4        0.0    0.02381  0.000000          0.0       0.000000     0.000000   \n5        0.0    0.00000  0.000000          0.0       0.000000     0.000000   \n6        0.0    0.00000  0.000000          0.0       0.000000     0.000000   \n7        0.0    0.00000  0.020833          0.0       0.000000     0.000000   \n8        0.0    0.00000  0.020833          0.0       0.000000     0.000000   \n9        0.0    0.00000  0.000000          0.0       0.000000     0.000000   \n10       0.0    0.00000  0.025000          0.0       0.000000     0.000000   \n11       0.0    0.00000  0.000000          0.0       0.000000     0.000000   \n12       0.0    0.00000  0.000000          0.0       0.000000     0.000000   \n13       0.0    0.00000  0.042553          0.0       0.021277     0.000000   \n14       0.0    0.00000  0.000000          0.0       0.000000     0.000000   \n15       0.0    0.00000  0.000000          0.0       0.000000     0.022727   \n16       0.0    0.00000  0.000000          0.0       0.000000     0.000000   \n17       0.0    0.00000  0.000000          0.0       0.000000     0.000000   \n18       0.0    0.00000  0.000000          0.0       0.000000     0.000000   \n19       0.0    0.00000  0.000000          0.0       0.000000     0.000000   \n20       0.0    0.00000  0.021739          0.0       0.000000     0.000000   \n21       0.0    0.00000  0.000000          0.0       0.000000     0.000000   \n22       0.0    0.00000  0.047619          0.0       0.023810     0.000000   \n23       0.0    0.00000  0.000000          0.0       0.000000     0.000000   \n24       0.0    0.00000  0.000000          0.0       0.000000     0.000000   \n\n     Zoo  Zoo Exhibit  \n0   0.00     0.000000  \n1   0.00     0.021277  \n2   0.00     0.000000  \n3   0.00     0.000000  \n4   0.00     0.000000  \n5   0.00     0.000000  \n6   0.00     0.000000  \n7   0.00     0.000000  \n8   0.00     0.000000  \n9   0.00     0.000000  \n10  0.00     0.000000  \n11  0.00     0.000000  \n12  0.00     0.000000  \n13  0.00     0.000000  \n14  0.00     0.000000  \n15  0.00     0.000000  \n16  0.00     0.000000  \n17  0.00     0.000000  \n18  0.00     0.000000  \n19  0.00     0.000000  \n20  0.00     0.000000  \n21  0.00     0.000000  \n22  0.00     0.000000  \n23  0.00     0.000000  \n24  0.02     0.160000  \n\n[25 rows x 447 columns]",
      "text/html": "<div>\n<style scoped>\n    .dataframe tbody tr th:only-of-type {\n        vertical-align: middle;\n    }\n\n    .dataframe tbody tr th {\n        vertical-align: top;\n    }\n\n    .dataframe thead th {\n        text-align: right;\n    }\n</style>\n<table border=\"1\" class=\"dataframe\">\n  <thead>\n    <tr style=\"text-align: right;\">\n      <th></th>\n      <th>Neighbourhood</th>\n      <th>Accessories Store</th>\n      <th>Adult Boutique</th>\n      <th>Adult Education Center</th>\n      <th>Advertising Agency</th>\n      <th>African Restaurant</th>\n      <th>Airport</th>\n      <th>Airport Gate</th>\n      <th>Airport Lounge</th>\n      <th>Airport Service</th>\n      <th>...</th>\n      <th>Warehouse</th>\n      <th>Water Park</th>\n      <th>Wine Bar</th>\n      <th>Wine Shop</th>\n      <th>Winery</th>\n      <th>Wings Joint</th>\n      <th>Women's Store</th>\n      <th>Yoga Studio</th>\n      <th>Zoo</th>\n      <th>Zoo Exhibit</th>\n    </tr>\n  </thead>\n  <tbody>\n    <tr>\n      <th>0</th>\n      <td>ABRANTES</td>\n      <td>0.000000</td>\n      <td>0.0</td>\n      <td>0.0</td>\n      <td>0.0</td>\n      <td>0.0</td>\n      <td>0.00</td>\n      <td>0.000000</td>\n      <td>0.00</td>\n      <td>0.00</td>\n      <td>...</td>\n      <td>0.0</td>\n      <td>0.0</td>\n      <td>0.0</td>\n      <td>0.00000</td>\n      <td>0.000000</td>\n      <td>0.0</td>\n      <td>0.000000</td>\n      <td>0.000000</td>\n      <td>0.00</td>\n      <td>0.000000</td>\n    </tr>\n    <tr>\n      <th>1</th>\n      <td>ACACIAS</td>\n      <td>0.000000</td>\n      <td>0.0</td>\n      <td>0.0</td>\n      <td>0.0</td>\n      <td>0.0</td>\n      <td>0.00</td>\n      <td>0.000000</td>\n      <td>0.00</td>\n      <td>0.00</td>\n      <td>...</td>\n      <td>0.0</td>\n      <td>0.0</td>\n      <td>0.0</td>\n      <td>0.00000</td>\n      <td>0.021277</td>\n      <td>0.0</td>\n      <td>0.000000</td>\n      <td>0.000000</td>\n      <td>0.00</td>\n      <td>0.021277</td>\n    </tr>\n    <tr>\n      <th>2</th>\n      <td>ADELFAS</td>\n      <td>0.000000</td>\n      <td>0.0</td>\n      <td>0.0</td>\n      <td>0.0</td>\n      <td>0.0</td>\n      <td>0.00</td>\n      <td>0.000000</td>\n      <td>0.00</td>\n      <td>0.00</td>\n      <td>...</td>\n      <td>0.0</td>\n      <td>0.0</td>\n      <td>0.0</td>\n      <td>0.00000</td>\n      <td>0.000000</td>\n      <td>0.0</td>\n      <td>0.000000</td>\n      <td>0.000000</td>\n      <td>0.00</td>\n      <td>0.000000</td>\n    </tr>\n    <tr>\n      <th>3</th>\n      <td>AEROPUERTO</td>\n      <td>0.000000</td>\n      <td>0.0</td>\n      <td>0.0</td>\n      <td>0.0</td>\n      <td>0.0</td>\n      <td>0.02</td>\n      <td>0.640000</td>\n      <td>0.04</td>\n      <td>0.08</td>\n      <td>...</td>\n      <td>0.0</td>\n      <td>0.0</td>\n      <td>0.0</td>\n      <td>0.00000</td>\n      <td>0.000000</td>\n      <td>0.0</td>\n      <td>0.000000</td>\n      <td>0.000000</td>\n      <td>0.00</td>\n      <td>0.000000</td>\n    </tr>\n    <tr>\n      <th>4</th>\n      <td>ALAMEDA DE OSUNA</td>\n      <td>0.000000</td>\n      <td>0.0</td>\n      <td>0.0</td>\n      <td>0.0</td>\n      <td>0.0</td>\n      <td>0.00</td>\n      <td>0.000000</td>\n      <td>0.00</td>\n      <td>0.00</td>\n      <td>...</td>\n      <td>0.0</td>\n      <td>0.0</td>\n      <td>0.0</td>\n      <td>0.02381</td>\n      <td>0.000000</td>\n      <td>0.0</td>\n      <td>0.000000</td>\n      <td>0.000000</td>\n      <td>0.00</td>\n      <td>0.000000</td>\n    </tr>\n    <tr>\n      <th>5</th>\n      <td>ALMAGRO</td>\n      <td>0.000000</td>\n      <td>0.0</td>\n      <td>0.0</td>\n      <td>0.0</td>\n      <td>0.0</td>\n      <td>0.00</td>\n      <td>0.000000</td>\n      <td>0.00</td>\n      <td>0.00</td>\n      <td>...</td>\n      <td>0.0</td>\n      <td>0.0</td>\n      <td>0.0</td>\n      <td>0.00000</td>\n      <td>0.000000</td>\n      <td>0.0</td>\n      <td>0.000000</td>\n      <td>0.000000</td>\n      <td>0.00</td>\n      <td>0.000000</td>\n    </tr>\n    <tr>\n      <th>6</th>\n      <td>ALMENARA</td>\n      <td>0.000000</td>\n      <td>0.0</td>\n      <td>0.0</td>\n      <td>0.0</td>\n      <td>0.0</td>\n      <td>0.00</td>\n      <td>0.000000</td>\n      <td>0.00</td>\n      <td>0.00</td>\n      <td>...</td>\n      <td>0.0</td>\n      <td>0.0</td>\n      <td>0.0</td>\n      <td>0.00000</td>\n      <td>0.000000</td>\n      <td>0.0</td>\n      <td>0.000000</td>\n      <td>0.000000</td>\n      <td>0.00</td>\n      <td>0.000000</td>\n    </tr>\n    <tr>\n      <th>7</th>\n      <td>ALMENDRALES</td>\n      <td>0.000000</td>\n      <td>0.0</td>\n      <td>0.0</td>\n      <td>0.0</td>\n      <td>0.0</td>\n      <td>0.00</td>\n      <td>0.000000</td>\n      <td>0.00</td>\n      <td>0.00</td>\n      <td>...</td>\n      <td>0.0</td>\n      <td>0.0</td>\n      <td>0.0</td>\n      <td>0.00000</td>\n      <td>0.020833</td>\n      <td>0.0</td>\n      <td>0.000000</td>\n      <td>0.000000</td>\n      <td>0.00</td>\n      <td>0.000000</td>\n    </tr>\n    <tr>\n      <th>8</th>\n      <td>ALUCHE</td>\n      <td>0.000000</td>\n      <td>0.0</td>\n      <td>0.0</td>\n      <td>0.0</td>\n      <td>0.0</td>\n      <td>0.00</td>\n      <td>0.000000</td>\n      <td>0.00</td>\n      <td>0.00</td>\n      <td>...</td>\n      <td>0.0</td>\n      <td>0.0</td>\n      <td>0.0</td>\n      <td>0.00000</td>\n      <td>0.020833</td>\n      <td>0.0</td>\n      <td>0.000000</td>\n      <td>0.000000</td>\n      <td>0.00</td>\n      <td>0.000000</td>\n    </tr>\n    <tr>\n      <th>9</th>\n      <td>AMPOSTA</td>\n      <td>0.000000</td>\n      <td>0.0</td>\n      <td>0.0</td>\n      <td>0.0</td>\n      <td>0.0</td>\n      <td>0.00</td>\n      <td>0.000000</td>\n      <td>0.00</td>\n      <td>0.00</td>\n      <td>...</td>\n      <td>0.0</td>\n      <td>0.0</td>\n      <td>0.0</td>\n      <td>0.00000</td>\n      <td>0.000000</td>\n      <td>0.0</td>\n      <td>0.000000</td>\n      <td>0.000000</td>\n      <td>0.00</td>\n      <td>0.000000</td>\n    </tr>\n    <tr>\n      <th>10</th>\n      <td>APÓSTOL SANTIAGO</td>\n      <td>0.000000</td>\n      <td>0.0</td>\n      <td>0.0</td>\n      <td>0.0</td>\n      <td>0.0</td>\n      <td>0.00</td>\n      <td>0.000000</td>\n      <td>0.00</td>\n      <td>0.00</td>\n      <td>...</td>\n      <td>0.0</td>\n      <td>0.0</td>\n      <td>0.0</td>\n      <td>0.00000</td>\n      <td>0.025000</td>\n      <td>0.0</td>\n      <td>0.000000</td>\n      <td>0.000000</td>\n      <td>0.00</td>\n      <td>0.000000</td>\n    </tr>\n    <tr>\n      <th>11</th>\n      <td>ARAPILES</td>\n      <td>0.000000</td>\n      <td>0.0</td>\n      <td>0.0</td>\n      <td>0.0</td>\n      <td>0.0</td>\n      <td>0.00</td>\n      <td>0.000000</td>\n      <td>0.00</td>\n      <td>0.00</td>\n      <td>...</td>\n      <td>0.0</td>\n      <td>0.0</td>\n      <td>0.0</td>\n      <td>0.00000</td>\n      <td>0.000000</td>\n      <td>0.0</td>\n      <td>0.000000</td>\n      <td>0.000000</td>\n      <td>0.00</td>\n      <td>0.000000</td>\n    </tr>\n    <tr>\n      <th>12</th>\n      <td>ARAVACA</td>\n      <td>0.000000</td>\n      <td>0.0</td>\n      <td>0.0</td>\n      <td>0.0</td>\n      <td>0.0</td>\n      <td>0.00</td>\n      <td>0.000000</td>\n      <td>0.00</td>\n      <td>0.00</td>\n      <td>...</td>\n      <td>0.0</td>\n      <td>0.0</td>\n      <td>0.0</td>\n      <td>0.00000</td>\n      <td>0.000000</td>\n      <td>0.0</td>\n      <td>0.000000</td>\n      <td>0.000000</td>\n      <td>0.00</td>\n      <td>0.000000</td>\n    </tr>\n    <tr>\n      <th>13</th>\n      <td>ARCOS</td>\n      <td>0.021277</td>\n      <td>0.0</td>\n      <td>0.0</td>\n      <td>0.0</td>\n      <td>0.0</td>\n      <td>0.00</td>\n      <td>0.000000</td>\n      <td>0.00</td>\n      <td>0.00</td>\n      <td>...</td>\n      <td>0.0</td>\n      <td>0.0</td>\n      <td>0.0</td>\n      <td>0.00000</td>\n      <td>0.042553</td>\n      <td>0.0</td>\n      <td>0.021277</td>\n      <td>0.000000</td>\n      <td>0.00</td>\n      <td>0.000000</td>\n    </tr>\n    <tr>\n      <th>14</th>\n      <td>ARGÜELLES</td>\n      <td>0.000000</td>\n      <td>0.0</td>\n      <td>0.0</td>\n      <td>0.0</td>\n      <td>0.0</td>\n      <td>0.00</td>\n      <td>0.000000</td>\n      <td>0.00</td>\n      <td>0.00</td>\n      <td>...</td>\n      <td>0.0</td>\n      <td>0.0</td>\n      <td>0.0</td>\n      <td>0.00000</td>\n      <td>0.000000</td>\n      <td>0.0</td>\n      <td>0.000000</td>\n      <td>0.000000</td>\n      <td>0.00</td>\n      <td>0.000000</td>\n    </tr>\n    <tr>\n      <th>15</th>\n      <td>ATALAYA</td>\n      <td>0.000000</td>\n      <td>0.0</td>\n      <td>0.0</td>\n      <td>0.0</td>\n      <td>0.0</td>\n      <td>0.00</td>\n      <td>0.000000</td>\n      <td>0.00</td>\n      <td>0.00</td>\n      <td>...</td>\n      <td>0.0</td>\n      <td>0.0</td>\n      <td>0.0</td>\n      <td>0.00000</td>\n      <td>0.000000</td>\n      <td>0.0</td>\n      <td>0.000000</td>\n      <td>0.022727</td>\n      <td>0.00</td>\n      <td>0.000000</td>\n    </tr>\n    <tr>\n      <th>16</th>\n      <td>ATOCHA</td>\n      <td>0.000000</td>\n      <td>0.0</td>\n      <td>0.0</td>\n      <td>0.0</td>\n      <td>0.0</td>\n      <td>0.00</td>\n      <td>0.000000</td>\n      <td>0.00</td>\n      <td>0.00</td>\n      <td>...</td>\n      <td>0.0</td>\n      <td>0.0</td>\n      <td>0.0</td>\n      <td>0.00000</td>\n      <td>0.000000</td>\n      <td>0.0</td>\n      <td>0.000000</td>\n      <td>0.000000</td>\n      <td>0.00</td>\n      <td>0.000000</td>\n    </tr>\n    <tr>\n      <th>17</th>\n      <td>BELLAS VISTAS</td>\n      <td>0.000000</td>\n      <td>0.0</td>\n      <td>0.0</td>\n      <td>0.0</td>\n      <td>0.0</td>\n      <td>0.00</td>\n      <td>0.000000</td>\n      <td>0.00</td>\n      <td>0.00</td>\n      <td>...</td>\n      <td>0.0</td>\n      <td>0.0</td>\n      <td>0.0</td>\n      <td>0.00000</td>\n      <td>0.000000</td>\n      <td>0.0</td>\n      <td>0.000000</td>\n      <td>0.000000</td>\n      <td>0.00</td>\n      <td>0.000000</td>\n    </tr>\n    <tr>\n      <th>18</th>\n      <td>BERRUGUETE</td>\n      <td>0.000000</td>\n      <td>0.0</td>\n      <td>0.0</td>\n      <td>0.0</td>\n      <td>0.0</td>\n      <td>0.00</td>\n      <td>0.000000</td>\n      <td>0.00</td>\n      <td>0.00</td>\n      <td>...</td>\n      <td>0.0</td>\n      <td>0.0</td>\n      <td>0.0</td>\n      <td>0.00000</td>\n      <td>0.000000</td>\n      <td>0.0</td>\n      <td>0.000000</td>\n      <td>0.000000</td>\n      <td>0.00</td>\n      <td>0.000000</td>\n    </tr>\n    <tr>\n      <th>19</th>\n      <td>BUENAVISTA</td>\n      <td>0.000000</td>\n      <td>0.0</td>\n      <td>0.0</td>\n      <td>0.0</td>\n      <td>0.0</td>\n      <td>0.00</td>\n      <td>0.021739</td>\n      <td>0.00</td>\n      <td>0.00</td>\n      <td>...</td>\n      <td>0.0</td>\n      <td>0.0</td>\n      <td>0.0</td>\n      <td>0.00000</td>\n      <td>0.000000</td>\n      <td>0.0</td>\n      <td>0.000000</td>\n      <td>0.000000</td>\n      <td>0.00</td>\n      <td>0.000000</td>\n    </tr>\n    <tr>\n      <th>20</th>\n      <td>BUTARQUE</td>\n      <td>0.000000</td>\n      <td>0.0</td>\n      <td>0.0</td>\n      <td>0.0</td>\n      <td>0.0</td>\n      <td>0.00</td>\n      <td>0.000000</td>\n      <td>0.00</td>\n      <td>0.00</td>\n      <td>...</td>\n      <td>0.0</td>\n      <td>0.0</td>\n      <td>0.0</td>\n      <td>0.00000</td>\n      <td>0.021739</td>\n      <td>0.0</td>\n      <td>0.000000</td>\n      <td>0.000000</td>\n      <td>0.00</td>\n      <td>0.000000</td>\n    </tr>\n    <tr>\n      <th>21</th>\n      <td>CAMPAMENTO</td>\n      <td>0.000000</td>\n      <td>0.0</td>\n      <td>0.0</td>\n      <td>0.0</td>\n      <td>0.0</td>\n      <td>0.00</td>\n      <td>0.000000</td>\n      <td>0.00</td>\n      <td>0.00</td>\n      <td>...</td>\n      <td>0.0</td>\n      <td>0.0</td>\n      <td>0.0</td>\n      <td>0.00000</td>\n      <td>0.000000</td>\n      <td>0.0</td>\n      <td>0.000000</td>\n      <td>0.000000</td>\n      <td>0.00</td>\n      <td>0.000000</td>\n    </tr>\n    <tr>\n      <th>22</th>\n      <td>CANILLAS</td>\n      <td>0.000000</td>\n      <td>0.0</td>\n      <td>0.0</td>\n      <td>0.0</td>\n      <td>0.0</td>\n      <td>0.00</td>\n      <td>0.000000</td>\n      <td>0.00</td>\n      <td>0.00</td>\n      <td>...</td>\n      <td>0.0</td>\n      <td>0.0</td>\n      <td>0.0</td>\n      <td>0.00000</td>\n      <td>0.047619</td>\n      <td>0.0</td>\n      <td>0.023810</td>\n      <td>0.000000</td>\n      <td>0.00</td>\n      <td>0.000000</td>\n    </tr>\n    <tr>\n      <th>23</th>\n      <td>CANILLEJAS</td>\n      <td>0.000000</td>\n      <td>0.0</td>\n      <td>0.0</td>\n      <td>0.0</td>\n      <td>0.0</td>\n      <td>0.00</td>\n      <td>0.000000</td>\n      <td>0.00</td>\n      <td>0.00</td>\n      <td>...</td>\n      <td>0.0</td>\n      <td>0.0</td>\n      <td>0.0</td>\n      <td>0.00000</td>\n      <td>0.000000</td>\n      <td>0.0</td>\n      <td>0.000000</td>\n      <td>0.000000</td>\n      <td>0.00</td>\n      <td>0.000000</td>\n    </tr>\n    <tr>\n      <th>24</th>\n      <td>CASA DE CAMPO</td>\n      <td>0.000000</td>\n      <td>0.0</td>\n      <td>0.0</td>\n      <td>0.0</td>\n      <td>0.0</td>\n      <td>0.00</td>\n      <td>0.000000</td>\n      <td>0.00</td>\n      <td>0.00</td>\n      <td>...</td>\n      <td>0.0</td>\n      <td>0.0</td>\n      <td>0.0</td>\n      <td>0.00000</td>\n      <td>0.000000</td>\n      <td>0.0</td>\n      <td>0.000000</td>\n      <td>0.000000</td>\n      <td>0.02</td>\n      <td>0.160000</td>\n    </tr>\n  </tbody>\n</table>\n<p>25 rows × 447 columns</p>\n</div>"
     },
     "execution_count": 46,
     "metadata": {},
     "output_type": "execute_result"
    }
   ],
   "source": [
    "# Grouping the venues by neighbourhood\n",
    "madrid_venues_grouped = madrid_venues_categ.groupby('Neighbourhood').mean().reset_index()\n",
    "madrid_venues_grouped.head(25)"
   ],
   "metadata": {
    "collapsed": false,
    "pycharm": {
     "name": "#%%\n"
    }
   }
  },
  {
   "cell_type": "code",
   "execution_count": 47,
   "outputs": [
    {
     "name": "stderr",
     "output_type": "stream",
     "text": [
      "C:\\Users\\PLATER~1\\AppData\\Local\\Temp/ipykernel_7792/1602861246.py:2: FutureWarning: Dropping of nuisance columns in DataFrame reductions (with 'numeric_only=None') is deprecated; in a future version this will raise TypeError.  Select only valid columns before calling the reduction.\n",
      "  madrid_venues_grouped.sum(axis=1)\n"
     ]
    },
    {
     "data": {
      "text/plain": "0      1.0\n1      1.0\n2      1.0\n3      1.0\n4      1.0\n      ... \n126    1.0\n127    1.0\n128    1.0\n129    1.0\n130    1.0\nLength: 131, dtype: float64"
     },
     "execution_count": 47,
     "metadata": {},
     "output_type": "execute_result"
    }
   ],
   "source": [
    "#madrid_venues_grouped = madrid_venues_categ['Airport'].sum()\n",
    "madrid_venues_grouped.sum(axis=1)"
   ],
   "metadata": {
    "collapsed": false,
    "pycharm": {
     "name": "#%%\n"
    }
   }
  },
  {
   "cell_type": "code",
   "execution_count": 48,
   "outputs": [
    {
     "name": "stdout",
     "output_type": "stream",
     "text": [
      "----ABRANTES----\n",
      "          venue  freq\n",
      "0        Bakery  0.07\n",
      "1           Bar  0.07\n",
      "2          Park  0.04\n",
      "3      Pharmacy  0.04\n",
      "4  Soccer Field  0.04\n",
      "\n",
      "\n",
      "----ACACIAS----\n",
      "                venue  freq\n",
      "0                Park  0.09\n",
      "1         Pizza Place  0.06\n",
      "2                Café  0.04\n",
      "3  Salon / Barbershop  0.04\n",
      "4        Dance Studio  0.04\n",
      "\n",
      "\n",
      "----ADELFAS----\n",
      "                venue  freq\n",
      "0                Bank  0.08\n",
      "1                 Bar  0.06\n",
      "2       Metro Station  0.04\n",
      "3                Café  0.04\n",
      "4  Spanish Restaurant  0.04\n",
      "\n",
      "\n",
      "----AEROPUERTO----\n",
      "              venue  freq\n",
      "0      Airport Gate  0.64\n",
      "1   Airport Service  0.08\n",
      "2    Airport Lounge  0.04\n",
      "3  Airport Terminal  0.04\n",
      "4      Optical Shop  0.04\n",
      "\n",
      "\n",
      "----ALAMEDA DE OSUNA----\n",
      "                venue  freq\n",
      "0       Travel Agency  0.17\n",
      "1                 Bar  0.07\n",
      "2           Bookstore  0.07\n",
      "3                Bank  0.05\n",
      "4  Italian Restaurant  0.05\n",
      "\n",
      "\n",
      "----ALMAGRO----\n",
      "                venue  freq\n",
      "0            Building  0.09\n",
      "1              Office  0.09\n",
      "2  Spanish Restaurant  0.07\n",
      "3           Nightclub  0.04\n",
      "4                 Bar  0.04\n",
      "\n",
      "\n",
      "----ALMENARA----\n",
      "                 venue  freq\n",
      "0               Office  0.07\n",
      "1          Post Office  0.04\n",
      "2  Government Building  0.04\n",
      "3           Restaurant  0.04\n",
      "4              Dog Run  0.04\n",
      "\n",
      "\n",
      "----ALMENDRALES----\n",
      "                venue  freq\n",
      "0          Restaurant  0.06\n",
      "1               Diner  0.06\n",
      "2  Chinese Restaurant  0.06\n",
      "3     Automotive Shop  0.04\n",
      "4  Salon / Barbershop  0.04\n",
      "\n",
      "\n",
      "----ALUCHE----\n",
      "         venue  freq\n",
      "0          Bar  0.08\n",
      "1   Restaurant  0.08\n",
      "2         Park  0.06\n",
      "3  Pizza Place  0.04\n",
      "4  Coffee Shop  0.04\n",
      "\n",
      "\n",
      "----AMPOSTA----\n",
      "                venue  freq\n",
      "0                Bank  0.08\n",
      "1  Spanish Restaurant  0.06\n",
      "2         Gas Station  0.06\n",
      "3      Medical Center  0.04\n",
      "4            Bus Line  0.04\n",
      "\n",
      "\n",
      "----APÓSTOL SANTIAGO----\n",
      "           venue  freq\n",
      "0           Park  0.10\n",
      "1       Bus Stop  0.05\n",
      "2    Gas Station  0.05\n",
      "3  Grocery Store  0.05\n",
      "4           Bank  0.05\n",
      "\n",
      "\n",
      "----ARAPILES----\n",
      "                venue  freq\n",
      "0             Theater  0.10\n",
      "1  Salon / Barbershop  0.08\n",
      "2          Restaurant  0.06\n",
      "3                 Bar  0.06\n",
      "4                Bank  0.06\n",
      "\n",
      "\n",
      "----ARAVACA----\n",
      "              venue  freq\n",
      "0  Dentist's Office  0.06\n",
      "1              Pool  0.03\n",
      "2        Smoke Shop  0.03\n",
      "3               Gym  0.03\n",
      "4   Automotive Shop  0.03\n",
      "\n",
      "\n",
      "----ARCOS----\n",
      "                          venue  freq\n",
      "0                           Bar  0.04\n",
      "1                        Winery  0.04\n",
      "2                        Bakery  0.04\n",
      "3  General College & University  0.04\n",
      "4                 Metro Station  0.04\n",
      "\n",
      "\n",
      "----ARGÜELLES----\n",
      "                   venue  freq\n",
      "0             Restaurant  0.11\n",
      "1          Grocery Store  0.04\n",
      "2     Salon / Barbershop  0.04\n",
      "3                 Bakery  0.04\n",
      "4  General Entertainment  0.04\n",
      "\n",
      "\n",
      "----ATALAYA----\n",
      "                   venue  freq\n",
      "0             Playground  0.09\n",
      "1                   Pool  0.05\n",
      "2  General Entertainment  0.05\n",
      "3               Bus Stop  0.05\n",
      "4     Spanish Restaurant  0.05\n",
      "\n",
      "\n",
      "----ATOCHA----\n",
      "           venue  freq\n",
      "0         Office  0.09\n",
      "1           Bank  0.07\n",
      "2  Train Station  0.07\n",
      "3          Diner  0.05\n",
      "4           Café  0.05\n",
      "\n",
      "\n",
      "----BELLAS VISTAS----\n",
      "                 venue  freq\n",
      "0   Spanish Restaurant  0.06\n",
      "1  Martial Arts School  0.04\n",
      "2        Deli / Bodega  0.04\n",
      "3                  Bar  0.04\n",
      "4        Grocery Store  0.04\n",
      "\n",
      "\n",
      "----BERRUGUETE----\n",
      "                  venue  freq\n",
      "0                   Bar  0.09\n",
      "1           Supermarket  0.07\n",
      "2  Gym / Fitness Center  0.05\n",
      "3              Building  0.05\n",
      "4                Bakery  0.05\n",
      "\n",
      "\n",
      "----BUENAVISTA----\n",
      "                    venue  freq\n",
      "0          Clothing Store  0.07\n",
      "1          Medical Center  0.04\n",
      "2                     Gym  0.04\n",
      "3              Restaurant  0.04\n",
      "4  Furniture / Home Store  0.04\n",
      "\n",
      "\n",
      "----BUTARQUE----\n",
      "                    venue  freq\n",
      "0                  Bakery  0.09\n",
      "1                    Bank  0.04\n",
      "2              Sports Bar  0.04\n",
      "3          Breakfast Spot  0.04\n",
      "4  Furniture / Home Store  0.04\n",
      "\n",
      "\n",
      "----CAMPAMENTO----\n",
      "            venue  freq\n",
      "0        Bus Line  0.07\n",
      "1             Bar  0.04\n",
      "2   Grocery Store  0.04\n",
      "3        Bus Stop  0.04\n",
      "4  General Travel  0.04\n",
      "\n",
      "\n",
      "----CANILLAS----\n",
      "                venue  freq\n",
      "0                 Bar  0.10\n",
      "1           Pet Store  0.05\n",
      "2  Spanish Restaurant  0.05\n",
      "3              Winery  0.05\n",
      "4          Smoke Shop  0.05\n",
      "\n",
      "\n",
      "----CANILLEJAS----\n",
      "                venue  freq\n",
      "0                Park  0.08\n",
      "1               Diner  0.08\n",
      "2                 Bar  0.08\n",
      "3  Spanish Restaurant  0.05\n",
      "4                Bank  0.05\n",
      "\n",
      "\n",
      "----CASA DE CAMPO----\n",
      "                          venue  freq\n",
      "0  Theme Park Ride / Attraction  0.56\n",
      "1                   Zoo Exhibit  0.16\n",
      "2                    Theme Park  0.04\n",
      "3                      Aquarium  0.02\n",
      "4             Convenience Store  0.02\n",
      "\n",
      "\n",
      "----CASCO HISTÓRICO DE BARAJAS----\n",
      "         venue  freq\n",
      "0          Bar  0.07\n",
      "1        Plaza  0.07\n",
      "2   Restaurant  0.07\n",
      "3       Church  0.04\n",
      "4  Coffee Shop  0.04\n",
      "\n",
      "\n",
      "----CASCO HISTÓRICO DE VALLECAS----\n",
      "              venue  freq\n",
      "0               Bar  0.04\n",
      "1        Playground  0.04\n",
      "2          Bus Stop  0.04\n",
      "3  Asian Restaurant  0.04\n",
      "4              Café  0.04\n",
      "\n",
      "\n",
      "----CASCO HISTÓRICO DE VICÁLVARO----\n",
      "         venue  freq\n",
      "0         Pool  0.09\n",
      "1         Bank  0.07\n",
      "2  Pizza Place  0.04\n",
      "3       Church  0.04\n",
      "4       Bakery  0.04\n",
      "\n",
      "\n",
      "----CASTELLANA----\n",
      "            venue  freq\n",
      "0          Office  0.10\n",
      "1            Bank  0.06\n",
      "2        Building  0.06\n",
      "3             Bar  0.04\n",
      "4  Cosmetics Shop  0.04\n",
      "\n",
      "\n",
      "----CASTILLA----\n",
      "                   venue  freq\n",
      "0                 Office  0.12\n",
      "1  General Entertainment  0.08\n",
      "2                   Pool  0.05\n",
      "3     Spanish Restaurant  0.05\n",
      "4                 Church  0.05\n",
      "\n",
      "\n",
      "----CASTILLEJOS----\n",
      "        venue  freq\n",
      "0      Office  0.10\n",
      "1        Bank  0.08\n",
      "2         Gym  0.06\n",
      "3  Restaurant  0.06\n",
      "4       Hotel  0.04\n",
      "\n",
      "\n",
      "----CHOPERA----\n",
      "                venue  freq\n",
      "0    Tapas Restaurant  0.08\n",
      "1     Coworking Space  0.04\n",
      "2            Wine Bar  0.04\n",
      "3  Spanish Restaurant  0.04\n",
      "4                 Bar  0.04\n",
      "\n",
      "\n",
      "----CIUDAD JARDÍN----\n",
      "                 venue  freq\n",
      "0               Office  0.14\n",
      "1               Bakery  0.04\n",
      "2   Real Estate Office  0.04\n",
      "3           Restaurant  0.04\n",
      "4  Japanese Restaurant  0.04\n",
      "\n",
      "\n",
      "----CIUDAD UNIVERSITARIA----\n",
      "                       venue  freq\n",
      "0          College Cafeteria  0.12\n",
      "1                 University  0.10\n",
      "2            College Library  0.10\n",
      "3               College Quad  0.06\n",
      "4  College Academic Building  0.06\n",
      "\n",
      "\n",
      "----COLINA----\n",
      "                           venue  freq\n",
      "0             Miscellaneous Shop  0.06\n",
      "1                           Bank  0.06\n",
      "2                       Pharmacy  0.04\n",
      "3                    Bus Station  0.04\n",
      "4  Paper / Office Supplies Store  0.04\n",
      "\n",
      "\n",
      "----COMILLAS----\n",
      "                venue  freq\n",
      "0  Spanish Restaurant  0.06\n",
      "1              Bakery  0.06\n",
      "2                 Bar  0.04\n",
      "3            Bus Line  0.04\n",
      "4          Restaurant  0.04\n",
      "\n",
      "\n",
      "----CONCEPCIÓN----\n",
      "           venue  freq\n",
      "0            Bar  0.10\n",
      "1   Gourmet Shop  0.06\n",
      "2       Bus Stop  0.04\n",
      "3           Park  0.04\n",
      "4  Big Box Store  0.04\n",
      "\n",
      "\n",
      "----CORRALEJOS----\n",
      "                   venue  freq\n",
      "0            Event Space  0.18\n",
      "1  General Entertainment  0.09\n",
      "2                 Office  0.07\n",
      "3      Convention Center  0.07\n",
      "4           Meeting Room  0.04\n",
      "\n",
      "\n",
      "----CORTES----\n",
      "                 venue  freq\n",
      "0   Spanish Restaurant  0.08\n",
      "1  Embassy / Consulate  0.06\n",
      "2            Hotel Bar  0.06\n",
      "3                Hotel  0.06\n",
      "4          Event Space  0.06\n",
      "\n",
      "\n",
      "----COSTILLARES----\n",
      "              venue  freq\n",
      "0            Bakery  0.08\n",
      "1  Asian Restaurant  0.05\n",
      "2            School  0.05\n",
      "3               Bar  0.05\n",
      "4        Playground  0.05\n",
      "\n",
      "\n",
      "----CUATRO CAMINOS----\n",
      "              venue  freq\n",
      "0              Bank  0.07\n",
      "1            Bakery  0.07\n",
      "2  Tapas Restaurant  0.07\n",
      "3              Park  0.04\n",
      "4           Dog Run  0.04\n",
      "\n",
      "\n",
      "----CUATRO VIENTOS----\n",
      "               venue  freq\n",
      "0    Doctor's Office  0.04\n",
      "1    Auto Dealership  0.04\n",
      "2         Restaurant  0.04\n",
      "3  Mobile Phone Shop  0.04\n",
      "4     Clothing Store  0.04\n",
      "\n",
      "\n",
      "----DELICIAS----\n",
      "                      venue  freq\n",
      "0                    Office  0.07\n",
      "1      Gym / Fitness Center  0.07\n",
      "2  Mediterranean Restaurant  0.05\n",
      "3                Restaurant  0.05\n",
      "4            Breakfast Spot  0.05\n",
      "\n",
      "\n",
      "----EL CAÑAVERAL----\n",
      "            venue  freq\n",
      "0     Gas Station  0.07\n",
      "1  Medical Center  0.07\n",
      "2  Breakfast Spot  0.05\n",
      "3  Cosmetics Shop  0.05\n",
      "4        Pharmacy  0.05\n",
      "\n",
      "\n",
      "----EL GOLOSO----\n",
      "                       venue  freq\n",
      "0            College Library  0.11\n",
      "1  College Academic Building  0.09\n",
      "2          College Cafeteria  0.06\n",
      "3                Post Office  0.04\n",
      "4                   Hospital  0.04\n",
      "\n",
      "\n",
      "----EL PARDO----\n",
      "                venue  freq\n",
      "0                Bank  0.08\n",
      "1  Spanish Restaurant  0.08\n",
      "2             Parking  0.04\n",
      "3            Bus Line  0.04\n",
      "4            Building  0.04\n",
      "\n",
      "\n",
      "----EL PLANTÍO----\n",
      "             venue  freq\n",
      "0   Clothing Store  0.07\n",
      "1  Coworking Space  0.05\n",
      "2           Office  0.05\n",
      "3       Nail Salon  0.05\n",
      "4    Design Studio  0.05\n",
      "\n",
      "\n",
      "----EL SALVADOR----\n",
      "                venue  freq\n",
      "0  Spanish Restaurant  0.07\n",
      "1                Bank  0.07\n",
      "2                 Bar  0.05\n",
      "3                 Gym  0.05\n",
      "4              Church  0.05\n",
      "\n",
      "\n",
      "----EL VISO----\n",
      "                 venue  freq\n",
      "0                  Bar  0.09\n",
      "1         Tech Startup  0.06\n",
      "2  Embassy / Consulate  0.06\n",
      "3      Doctor's Office  0.04\n",
      "4               Bakery  0.04\n",
      "\n",
      "\n",
      "----EMBAJADORES----\n",
      "                venue  freq\n",
      "0                 Bar  0.08\n",
      "1  Spanish Restaurant  0.08\n",
      "2    Tapas Restaurant  0.06\n",
      "3         Pizza Place  0.06\n",
      "4             Theater  0.06\n",
      "\n",
      "\n",
      "----ENSANCHE DE VALLECAS----\n",
      "                 venue  freq\n",
      "0       Breakfast Spot  0.07\n",
      "1         Soccer Field  0.07\n",
      "2  Government Building  0.07\n",
      "3          Gas Station  0.04\n",
      "4   Spanish Restaurant  0.04\n",
      "\n",
      "\n",
      "----ENTREVÍAS----\n",
      "         venue  freq\n",
      "0          Bar  0.08\n",
      "1       School  0.06\n",
      "2  Pizza Place  0.04\n",
      "3       Bakery  0.04\n",
      "4         Bank  0.04\n",
      "\n",
      "\n",
      "----ESTRELLA----\n",
      "                venue  freq\n",
      "0                Bank  0.07\n",
      "1     Doctor's Office  0.07\n",
      "2  Spanish Restaurant  0.07\n",
      "3                 Bar  0.07\n",
      "4              Office  0.07\n",
      "\n",
      "\n",
      "----FONTARRÓN----\n",
      "               venue  freq\n",
      "0               Bank  0.09\n",
      "1              Diner  0.07\n",
      "2  Mobile Phone Shop  0.07\n",
      "3             Bakery  0.04\n",
      "4    Doctor's Office  0.04\n",
      "\n",
      "\n",
      "----FUENTE DEL BERRO----\n",
      "                venue  freq\n",
      "0  Salon / Barbershop  0.04\n",
      "1         Coffee Shop  0.04\n",
      "2  Spanish Restaurant  0.04\n",
      "3      Medical Center  0.04\n",
      "4      Breakfast Spot  0.04\n",
      "\n",
      "\n",
      "----FUENTELARREINA----\n",
      "        venue  freq\n",
      "0        Bank  0.05\n",
      "1  Playground  0.05\n",
      "2      Bakery  0.05\n",
      "3    Building  0.05\n",
      "4      Church  0.05\n",
      "\n",
      "\n",
      "----GAZTAMBIDE----\n",
      "                                      venue  freq\n",
      "0                        Spanish Restaurant  0.10\n",
      "1                                       Bar  0.06\n",
      "2                               Pizza Place  0.06\n",
      "3  Residential Building (Apartment / Condo)  0.04\n",
      "4                                 Nightclub  0.04\n",
      "\n",
      "\n",
      "----GOYA----\n",
      "                venue  freq\n",
      "0      Cosmetics Shop  0.06\n",
      "1                 Bar  0.06\n",
      "2  Miscellaneous Shop  0.04\n",
      "3                Bank  0.04\n",
      "4           Gift Shop  0.04\n",
      "\n",
      "\n",
      "----GUINDALERA----\n",
      "                   venue  freq\n",
      "0     Spanish Restaurant  0.09\n",
      "1  General Entertainment  0.06\n",
      "2         Medical Center  0.04\n",
      "3                   Bank  0.04\n",
      "4                    Bar  0.04\n",
      "\n",
      "\n",
      "----HELLÍN----\n",
      "         venue  freq\n",
      "0         Pool  0.07\n",
      "1         Bank  0.07\n",
      "2  Post Office  0.07\n",
      "3   Playground  0.04\n",
      "4        Diner  0.04\n",
      "\n",
      "\n",
      "----HISPANOAMÉRICA----\n",
      "           venue  freq\n",
      "0           Bank  0.06\n",
      "1     Restaurant  0.06\n",
      "2            Bar  0.04\n",
      "3            Gym  0.04\n",
      "4  Grocery Store  0.04\n",
      "\n",
      "\n",
      "----HORCAJO----\n",
      "              venue  freq\n",
      "0  Tapas Restaurant  0.07\n",
      "1              Bank  0.05\n",
      "2          Bus Stop  0.05\n",
      "3        Restaurant  0.05\n",
      "4          Building  0.05\n",
      "\n",
      "\n",
      "----IBIZA----\n",
      "                venue  freq\n",
      "0    Tapas Restaurant  0.18\n",
      "1  Salon / Barbershop  0.10\n",
      "2              Bakery  0.06\n",
      "3                Bank  0.06\n",
      "4                 Bar  0.06\n",
      "\n",
      "\n",
      "----IMPERIAL----\n",
      "             venue  freq\n",
      "0           Office  0.07\n",
      "1  Laundry Service  0.07\n",
      "2           School  0.05\n",
      "3           Bakery  0.05\n",
      "4              Bar  0.05\n",
      "\n",
      "\n",
      "----JUSTICIA----\n",
      "                 venue  freq\n",
      "0          Art Gallery  0.10\n",
      "1               Office  0.10\n",
      "2           Courthouse  0.08\n",
      "3             Boutique  0.06\n",
      "4  Embassy / Consulate  0.04\n",
      "\n",
      "\n",
      "----LA PAZ----\n",
      "                venue  freq\n",
      "0  Spanish Restaurant  0.06\n",
      "1            Hospital  0.06\n",
      "2      Breakfast Spot  0.06\n",
      "3            Building  0.04\n",
      "4                Bank  0.04\n",
      "\n",
      "\n",
      "----LAS ÁGUILAS----\n",
      "            venue  freq\n",
      "0  Medical Center  0.07\n",
      "1          School  0.07\n",
      "2             Bar  0.05\n",
      "3          Winery  0.05\n",
      "4        Pharmacy  0.05\n",
      "\n",
      "\n",
      "----LEGAZPI----\n",
      "         venue  freq\n",
      "0  Supermarket  0.08\n",
      "1       Office  0.08\n",
      "2     Bus Line  0.06\n",
      "3     Pharmacy  0.04\n",
      "4  Pizza Place  0.04\n",
      "\n",
      "\n",
      "----LISTA----\n",
      "                venue  freq\n",
      "0  Spanish Restaurant  0.06\n",
      "1   Food & Drink Shop  0.04\n",
      "2                 Bar  0.04\n",
      "3         Pizza Place  0.04\n",
      "4         Pastry Shop  0.04\n",
      "\n",
      "\n",
      "----LOS CÁRMENES----\n",
      "               venue  freq\n",
      "0           Pharmacy  0.06\n",
      "1              Diner  0.06\n",
      "2           Bus Line  0.06\n",
      "3  Convenience Store  0.04\n",
      "4             Bakery  0.04\n",
      "\n",
      "\n",
      "----LOS JERÓNIMOS----\n",
      "                venue  freq\n",
      "0              Office  0.06\n",
      "1                Café  0.06\n",
      "2         Art Gallery  0.06\n",
      "3  Italian Restaurant  0.04\n",
      "4            Building  0.04\n",
      "\n",
      "\n",
      "----LOS ROSALES----\n",
      "                venue  freq\n",
      "0  Salon / Barbershop  0.09\n",
      "1         Pizza Place  0.07\n",
      "2              Bakery  0.07\n",
      "3  Spanish Restaurant  0.04\n",
      "4      Breakfast Spot  0.04\n",
      "\n",
      "\n",
      "----LOS ÁNGELES----\n",
      "                  venue  freq\n",
      "0    Salon / Barbershop  0.06\n",
      "1    Spanish Restaurant  0.04\n",
      "2                Bakery  0.04\n",
      "3           High School  0.04\n",
      "4  Other Great Outdoors  0.04\n",
      "\n",
      "\n",
      "----LUCERO----\n",
      "                venue  freq\n",
      "0            Bus Line  0.07\n",
      "1                Bank  0.07\n",
      "2      Breakfast Spot  0.05\n",
      "3  Salon / Barbershop  0.05\n",
      "4               Diner  0.05\n",
      "\n",
      "\n",
      "----MARROQUINA----\n",
      "             venue  freq\n",
      "0           Bakery  0.07\n",
      "1           Office  0.05\n",
      "2  Laundry Service  0.05\n",
      "3         Pie Shop  0.05\n",
      "4             Park  0.05\n",
      "\n",
      "\n",
      "----MEDIA LEGUA----\n",
      "                  venue  freq\n",
      "0           Coffee Shop  0.09\n",
      "1    Salon / Barbershop  0.06\n",
      "2            Restaurant  0.04\n",
      "3  Fast Food Restaurant  0.04\n",
      "4           Post Office  0.04\n",
      "\n",
      "\n",
      "----MIRASIERRA----\n",
      "                  venue  freq\n",
      "0              Hospital  0.04\n",
      "1        Medical Center  0.04\n",
      "2  Fast Food Restaurant  0.04\n",
      "3              Pharmacy  0.04\n",
      "4           Gas Station  0.04\n",
      "\n",
      "\n",
      "----MOSCARDÓ----\n",
      "                venue  freq\n",
      "0          Restaurant  0.08\n",
      "1  Chinese Restaurant  0.08\n",
      "2                Bank  0.04\n",
      "3   Mobile Phone Shop  0.04\n",
      "4                 Bar  0.04\n",
      "\n",
      "\n",
      "----NIÑO JESÚS----\n",
      "                venue  freq\n",
      "0     Doctor's Office  0.07\n",
      "1                Pool  0.04\n",
      "2    Dentist's Office  0.04\n",
      "3  Spanish Restaurant  0.04\n",
      "4              Office  0.04\n",
      "\n",
      "\n",
      "----NUEVA ESPAÑA----\n",
      "              venue  freq\n",
      "0            Office  0.11\n",
      "1  Dentist's Office  0.07\n",
      "2    Student Center  0.04\n",
      "3    Medical Center  0.04\n",
      "4        University  0.04\n",
      "\n",
      "\n",
      "----NUMANCIA----\n",
      "            venue  freq\n",
      "0      Playground  0.12\n",
      "1             Bar  0.08\n",
      "2          Bakery  0.06\n",
      "3            Bank  0.06\n",
      "4  Breakfast Spot  0.04\n",
      "\n",
      "\n",
      "----OPAÑEL----\n",
      "                venue  freq\n",
      "0              Winery  0.06\n",
      "1                 Bar  0.06\n",
      "2         Supermarket  0.06\n",
      "3  Spanish Restaurant  0.04\n",
      "4              Bakery  0.04\n",
      "\n",
      "\n",
      "----ORCASITAS----\n",
      "                venue  freq\n",
      "0                 Bar  0.07\n",
      "1         Gas Station  0.04\n",
      "2              Bakery  0.04\n",
      "3                Bank  0.04\n",
      "4  Salon / Barbershop  0.04\n",
      "\n",
      "\n",
      "----ORCASUR----\n",
      "                       venue  freq\n",
      "0                    Parking  0.05\n",
      "1            Cultural Center  0.05\n",
      "2                   Bus Line  0.05\n",
      "3  College Academic Building  0.05\n",
      "4            Doctor's Office  0.05\n",
      "\n",
      "\n",
      "----PACÍFICO----\n",
      "                venue  freq\n",
      "0                 Bar  0.12\n",
      "1               Diner  0.04\n",
      "2                Café  0.04\n",
      "3              Office  0.04\n",
      "4  Salon / Barbershop  0.04\n",
      "\n",
      "\n",
      "----PALACIO----\n",
      "                 venue  freq\n",
      "0               Church  0.10\n",
      "1        Historic Site  0.06\n",
      "2   Spanish Restaurant  0.06\n",
      "3           Restaurant  0.04\n",
      "4  Monument / Landmark  0.04\n",
      "\n",
      "\n",
      "----PALOMAS----\n",
      "           venue  freq\n",
      "0          Hotel  0.04\n",
      "1    Candy Store  0.04\n",
      "2     Restaurant  0.04\n",
      "3         School  0.04\n",
      "4  Boat or Ferry  0.02\n",
      "\n",
      "\n",
      "----PALOMERAS BAJAS----\n",
      "            venue  freq\n",
      "0      Playground  0.14\n",
      "1     Post Office  0.07\n",
      "2           Diner  0.07\n",
      "3  Breakfast Spot  0.07\n",
      "4             Bar  0.05\n",
      "\n",
      "\n",
      "----PALOMERAS SURESTE----\n",
      "              venue  freq\n",
      "0              Pool  0.09\n",
      "1       Gas Station  0.07\n",
      "2    Medical Center  0.07\n",
      "3          Pharmacy  0.07\n",
      "4  Dentist's Office  0.04\n",
      "\n",
      "\n",
      "----PALOS DE MOGUER----\n",
      "                venue  freq\n",
      "0                 Bar  0.11\n",
      "1  Spanish Restaurant  0.11\n",
      "2                Bank  0.06\n",
      "3       Grocery Store  0.04\n",
      "4      Ice Cream Shop  0.02\n",
      "\n",
      "\n",
      "----PAVONES----\n",
      "                venue  freq\n",
      "0            Bus Stop  0.09\n",
      "1      Medical Center  0.07\n",
      "2       Grocery Store  0.05\n",
      "3              Temple  0.05\n",
      "4  Salon / Barbershop  0.05\n",
      "\n",
      "\n",
      "----PEÑAGRANDE----\n",
      "              venue  freq\n",
      "0          Building  0.07\n",
      "1            Office  0.07\n",
      "2             Diner  0.05\n",
      "3       Gas Station  0.05\n",
      "4  Dentist's Office  0.05\n",
      "\n",
      "\n",
      "----PILAR----\n",
      "                venue  freq\n",
      "0  Salon / Barbershop  0.07\n",
      "1            Bus Line  0.04\n",
      "2               Plaza  0.04\n",
      "3          Nail Salon  0.04\n",
      "4          Restaurant  0.04\n",
      "\n",
      "\n",
      "----PINAR DEL REY----\n",
      "                venue  freq\n",
      "0                 Bar  0.07\n",
      "1              Bakery  0.05\n",
      "2  Salon / Barbershop  0.05\n",
      "3     Doctor's Office  0.05\n",
      "4      Hardware Store  0.05\n",
      "\n",
      "\n",
      "----PIOVERA----\n",
      "                venue  freq\n",
      "0  Salon / Barbershop  0.07\n",
      "1          Kids Store  0.07\n",
      "2             Butcher  0.05\n",
      "3         Pizza Place  0.05\n",
      "4                Pool  0.05\n",
      "\n",
      "\n",
      "----PORTAZGO----\n",
      "                    venue  freq\n",
      "0                     Bar  0.11\n",
      "1             Pizza Place  0.04\n",
      "2            Chiropractor  0.04\n",
      "3  Furniture / Home Store  0.04\n",
      "4                    Park  0.04\n",
      "\n",
      "\n",
      "----PRADOLONGO----\n",
      "                venue  freq\n",
      "0  Chinese Restaurant  0.08\n",
      "1    Asian Restaurant  0.06\n",
      "2   Food & Drink Shop  0.04\n",
      "3        Noodle House  0.04\n",
      "4      Farmers Market  0.04\n",
      "\n",
      "\n",
      "----PROSPERIDAD----\n",
      "                venue  freq\n",
      "0  Spanish Restaurant  0.06\n",
      "1    Tapas Restaurant  0.06\n",
      "2                 Bar  0.04\n",
      "3         Supermarket  0.04\n",
      "4              Bakery  0.04\n",
      "\n",
      "\n",
      "----PUEBLO NUEVO----\n",
      "                 venue  freq\n",
      "0                 Park  0.04\n",
      "1               Bakery  0.04\n",
      "2  Housing Development  0.04\n",
      "3                  Bar  0.04\n",
      "4       Breakfast Spot  0.04\n",
      "\n",
      "\n",
      "----PUERTA BONITA----\n",
      "            venue  freq\n",
      "0  Cosmetics Shop  0.07\n",
      "1          Bakery  0.07\n",
      "2   Design Studio  0.05\n",
      "3             Bar  0.05\n",
      "4  Police Station  0.05\n",
      "\n",
      "\n",
      "----PUERTA DEL ÁNGEL----\n",
      "             venue  freq\n",
      "0           Bakery  0.10\n",
      "1    Grocery Store  0.08\n",
      "2           School  0.06\n",
      "3           Church  0.06\n",
      "4  Doctor's Office  0.04\n",
      "\n",
      "\n",
      "----QUINTANA----\n",
      "                venue  freq\n",
      "0          Restaurant  0.07\n",
      "1  Spanish Restaurant  0.07\n",
      "2                 Bar  0.05\n",
      "3  Mexican Restaurant  0.05\n",
      "4              Office  0.05\n",
      "\n",
      "\n",
      "----RECOLETOS----\n",
      "                     venue  freq\n",
      "0                 Boutique  0.11\n",
      "1           Clothing Store  0.09\n",
      "2  Health & Beauty Service  0.04\n",
      "3       Miscellaneous Shop  0.04\n",
      "4           Cosmetics Shop  0.04\n",
      "\n",
      "\n",
      "----REJAS----\n",
      "        venue  freq\n",
      "0      Office  0.14\n",
      "1  Playground  0.05\n",
      "2        Park  0.05\n",
      "3  Restaurant  0.05\n",
      "4       Diner  0.05\n",
      "\n",
      "\n",
      "----ROSAS----\n",
      "                venue  freq\n",
      "0              Bakery  0.05\n",
      "1               Diner  0.05\n",
      "2              School  0.05\n",
      "3    Asian Restaurant  0.05\n",
      "4  Salon / Barbershop  0.05\n",
      "\n",
      "\n",
      "----RÍOS ROSAS----\n",
      "                 venue  freq\n",
      "0  Government Building  0.06\n",
      "1           Restaurant  0.06\n",
      "2   Salon / Barbershop  0.04\n",
      "3              Parking  0.04\n",
      "4   Italian Restaurant  0.04\n",
      "\n",
      "\n",
      "----SAN CRISTÓBAL----\n",
      "                    venue  freq\n",
      "0           Military Base  0.06\n",
      "1                  Church  0.04\n",
      "2                  School  0.04\n",
      "3  Furniture / Home Store  0.04\n",
      "4                  Winery  0.04\n",
      "\n",
      "\n",
      "----SAN DIEGO----\n",
      "             venue  freq\n",
      "0           Market  0.05\n",
      "1         Bus Line  0.05\n",
      "2  Automotive Shop  0.05\n",
      "3              Pub  0.05\n",
      "4    Grocery Store  0.05\n",
      "\n",
      "\n",
      "----SAN FERMÍN----\n",
      "                venue  freq\n",
      "0                Park  0.04\n",
      "1      Hardware Store  0.04\n",
      "2  Salon / Barbershop  0.04\n",
      "3       Metro Station  0.04\n",
      "4      Scenic Lookout  0.04\n",
      "\n",
      "\n",
      "----SAN ISIDRO----\n",
      "                    venue  freq\n",
      "0                     Bar  0.11\n",
      "1        Dentist's Office  0.04\n",
      "2  Furniture / Home Store  0.04\n",
      "3                    Park  0.04\n",
      "4   Performing Arts Venue  0.04\n",
      "\n",
      "\n",
      "----SAN JUAN BAUTISTA----\n",
      "                 venue  freq\n",
      "0           Restaurant  0.10\n",
      "1       Medical Center  0.08\n",
      "2                 Bank  0.06\n",
      "3  Government Building  0.04\n",
      "4        Grocery Store  0.04\n",
      "\n",
      "\n",
      "----SAN PASCUAL----\n",
      "                 venue  freq\n",
      "0           Restaurant  0.07\n",
      "1  Government Building  0.07\n",
      "2           Smoke Shop  0.04\n",
      "3        Grocery Store  0.04\n",
      "4                  Bar  0.04\n",
      "\n",
      "\n",
      "----SANTA EUGENIA----\n",
      "                venue  freq\n",
      "0                 Bar  0.13\n",
      "1             Brewery  0.06\n",
      "2  Salon / Barbershop  0.04\n",
      "3            Building  0.04\n",
      "4        Soccer Field  0.04\n",
      "\n",
      "\n",
      "----SIMANCAS----\n",
      "                  venue  freq\n",
      "0                Office  0.19\n",
      "1              Building  0.08\n",
      "2       Coworking Space  0.05\n",
      "3          Tech Startup  0.05\n",
      "4  Other Great Outdoors  0.05\n",
      "\n",
      "\n",
      "----SOL----\n",
      "            venue  freq\n",
      "0  Clothing Store  0.12\n",
      "1           Hotel  0.04\n",
      "2      Restaurant  0.04\n",
      "3   Jewelry Store  0.04\n",
      "4          Hostel  0.04\n",
      "\n",
      "\n",
      "----TIMÓN----\n",
      "                 venue  freq\n",
      "0  Rental Car Location  0.13\n",
      "1                Diner  0.06\n",
      "2   Spanish Restaurant  0.04\n",
      "3            BBQ Joint  0.04\n",
      "4     Airport Terminal  0.04\n",
      "\n",
      "\n",
      "----TRAFALGAR----\n",
      "              venue  freq\n",
      "0               Bar  0.06\n",
      "1  Tapas Restaurant  0.06\n",
      "2              Café  0.04\n",
      "3             Plaza  0.04\n",
      "4               Spa  0.04\n",
      "\n",
      "\n",
      "----UNIVERSIDAD----\n",
      "            venue  freq\n",
      "0      Restaurant  0.06\n",
      "1       Bookstore  0.04\n",
      "2            Café  0.04\n",
      "3             Bar  0.04\n",
      "4  Breakfast Spot  0.04\n",
      "\n",
      "\n",
      "----VALDEACEDERAS----\n",
      "                venue  freq\n",
      "0  Salon / Barbershop  0.11\n",
      "1     Automotive Shop  0.06\n",
      "2      Police Station  0.04\n",
      "3           BBQ Joint  0.04\n",
      "4   Food & Drink Shop  0.04\n",
      "\n",
      "\n",
      "----VALDEBERNARDO----\n",
      "                venue  freq\n",
      "0  Spanish Restaurant  0.06\n",
      "1   Food & Drink Shop  0.06\n",
      "2    Tapas Restaurant  0.04\n",
      "3            Beer Bar  0.04\n",
      "4      Medical Center  0.04\n",
      "\n",
      "\n",
      "----VALDEFUENTES----\n",
      "              venue  freq\n",
      "0              Bank  0.06\n",
      "1        Restaurant  0.06\n",
      "2               Bar  0.06\n",
      "3  Dentist's Office  0.06\n",
      "4    Cosmetics Shop  0.04\n",
      "\n",
      "\n",
      "----VALDEMARÍN----\n",
      "            venue  freq\n",
      "0        Hospital  0.07\n",
      "1  Medical Center  0.07\n",
      "2            Park  0.05\n",
      "3          Church  0.05\n",
      "4          Bakery  0.05\n",
      "\n",
      "\n",
      "----VALDERRIVAS----\n",
      "           venue  freq\n",
      "0  Metro Station  0.04\n",
      "1           Café  0.04\n",
      "2         Market  0.04\n",
      "3          Diner  0.04\n",
      "4    Gas Station  0.04\n",
      "\n",
      "\n",
      "----VALDEZARZA----\n",
      "                venue  freq\n",
      "0                Café  0.11\n",
      "1  Spanish Restaurant  0.09\n",
      "2  Salon / Barbershop  0.06\n",
      "3                Pool  0.04\n",
      "4             Dog Run  0.04\n",
      "\n",
      "\n",
      "----VALLEHERMOSO----\n",
      "                venue  freq\n",
      "0          Restaurant  0.10\n",
      "1         Pizza Place  0.07\n",
      "2            Hospital  0.07\n",
      "3                Bank  0.07\n",
      "4  Salon / Barbershop  0.05\n",
      "\n",
      "\n",
      "----VALVERDE----\n",
      "             venue  freq\n",
      "0           Bakery  0.05\n",
      "1             Park  0.05\n",
      "2  Laundry Service  0.05\n",
      "3         Building  0.02\n",
      "4    Auto Workshop  0.02\n",
      "\n",
      "\n",
      "----VENTAS----\n",
      "           venue  freq\n",
      "0            Bar  0.10\n",
      "1   Soccer Field  0.05\n",
      "2      Gastropub  0.03\n",
      "3        Parking  0.03\n",
      "4  Grocery Store  0.03\n",
      "\n",
      "\n",
      "----VILLAVERDE ALTO----\n",
      "            venue  freq\n",
      "0             Bar  0.08\n",
      "1   Train Station  0.06\n",
      "2          Bakery  0.06\n",
      "3         Brewery  0.04\n",
      "4  Medical Center  0.04\n",
      "\n",
      "\n",
      "----VINATEROS----\n",
      "               venue  freq\n",
      "0                Bar  0.09\n",
      "1    Doctor's Office  0.07\n",
      "2  Elementary School  0.04\n",
      "3         Playground  0.04\n",
      "4             Church  0.04\n",
      "\n",
      "\n",
      "----VISTA ALEGRE----\n",
      "                venue  freq\n",
      "0              Bakery  0.09\n",
      "1  Spanish Restaurant  0.06\n",
      "2         Coffee Shop  0.04\n",
      "3  Chinese Restaurant  0.04\n",
      "4            Hospital  0.04\n",
      "\n",
      "\n",
      "----ZOFÍO----\n",
      "                venue  freq\n",
      "0                 Bar  0.08\n",
      "1                Park  0.06\n",
      "2         Bus Station  0.06\n",
      "3  Spanish Restaurant  0.04\n",
      "4              Winery  0.04\n",
      "\n",
      "\n"
     ]
    }
   ],
   "source": [
    "#Print each district along with top 5 most common venues\n",
    "num_top_venues = 5\n",
    "\n",
    "for hood in madrid_venues_grouped['Neighbourhood']:\n",
    "    print(\"----\"+hood+\"----\")\n",
    "    temp = madrid_venues_grouped[madrid_venues_grouped['Neighbourhood'] == hood].T.reset_index()\n",
    "    temp.columns = ['venue','freq']\n",
    "    temp = temp.iloc[1:]\n",
    "    temp['freq'] = temp['freq'].astype(float)\n",
    "    temp = temp.round({'freq': 2})\n",
    "    print(temp.sort_values('freq', ascending = False).reset_index(drop = True).head(num_top_venues))\n",
    "    print('\\n')"
   ],
   "metadata": {
    "collapsed": false,
    "pycharm": {
     "name": "#%%\n"
    }
   }
  },
  {
   "cell_type": "markdown",
   "source": [
    "### External data loading and cleaning"
   ],
   "metadata": {
    "collapsed": false,
    "pycharm": {
     "name": "#%% md\n"
    }
   }
  },
  {
   "cell_type": "code",
   "execution_count": 49,
   "outputs": [],
   "source": [
    "#---------------------------------------------------------------------------"
   ],
   "metadata": {
    "collapsed": false,
    "pycharm": {
     "name": "#%%\n"
    }
   }
  },
  {
   "cell_type": "code",
   "execution_count": 50,
   "outputs": [],
   "source": [
    "# Loading the data\n",
    "# ---------------------------------------------------------------------------"
   ],
   "metadata": {
    "collapsed": false,
    "pycharm": {
     "name": "#%%\n"
    }
   }
  },
  {
   "cell_type": "code",
   "execution_count": 51,
   "outputs": [
    {
     "name": "stdout",
     "output_type": "stream",
     "text": [
      "(266, 4)\n"
     ]
    },
    {
     "data": {
      "text/plain": "  District Neighbourhood      Age  Population\n0   CENTRO       PALACIO    Total     23603.0\n1   CENTRO       PALACIO  35 - 39      2012.0\n2   CENTRO   EMBAJADORES    Total     46649.0\n3   CENTRO   EMBAJADORES  35 - 39      5107.0\n4   CENTRO        CORTES    Total     10867.0",
      "text/html": "<div>\n<style scoped>\n    .dataframe tbody tr th:only-of-type {\n        vertical-align: middle;\n    }\n\n    .dataframe tbody tr th {\n        vertical-align: top;\n    }\n\n    .dataframe thead th {\n        text-align: right;\n    }\n</style>\n<table border=\"1\" class=\"dataframe\">\n  <thead>\n    <tr style=\"text-align: right;\">\n      <th></th>\n      <th>District</th>\n      <th>Neighbourhood</th>\n      <th>Age</th>\n      <th>Population</th>\n    </tr>\n  </thead>\n  <tbody>\n    <tr>\n      <th>0</th>\n      <td>CENTRO</td>\n      <td>PALACIO</td>\n      <td>Total</td>\n      <td>23603.0</td>\n    </tr>\n    <tr>\n      <th>1</th>\n      <td>CENTRO</td>\n      <td>PALACIO</td>\n      <td>35 - 39</td>\n      <td>2012.0</td>\n    </tr>\n    <tr>\n      <th>2</th>\n      <td>CENTRO</td>\n      <td>EMBAJADORES</td>\n      <td>Total</td>\n      <td>46649.0</td>\n    </tr>\n    <tr>\n      <th>3</th>\n      <td>CENTRO</td>\n      <td>EMBAJADORES</td>\n      <td>35 - 39</td>\n      <td>5107.0</td>\n    </tr>\n    <tr>\n      <th>4</th>\n      <td>CENTRO</td>\n      <td>CORTES</td>\n      <td>Total</td>\n      <td>10867.0</td>\n    </tr>\n  </tbody>\n</table>\n</div>"
     },
     "execution_count": 51,
     "metadata": {},
     "output_type": "execute_result"
    }
   ],
   "source": [
    "# Load the data\n",
    "df_madrid_population = pd.read_excel('Poblacion_35-39 por distrito y barrio.xls', header=4, names=['District', 'Neighbourhood', 'Age','Population'])#, converters={'Population': int})\n",
    "print(df_madrid_population.shape)\n",
    "df_madrid_population.head()"
   ],
   "metadata": {
    "collapsed": false,
    "pycharm": {
     "name": "#%%\n"
    }
   }
  },
  {
   "cell_type": "code",
   "execution_count": 52,
   "outputs": [],
   "source": [
    "# Dropping District Column\n",
    "df_madrid_population = df_madrid_population.drop(columns=['District'])\n",
    "# Dropping the rows when Age is 'Total'\n"
   ],
   "metadata": {
    "collapsed": false,
    "pycharm": {
     "name": "#%%\n"
    }
   }
  },
  {
   "cell_type": "code",
   "execution_count": 53,
   "outputs": [],
   "source": [
    "df_madrid_population = df_madrid_population[df_madrid_population['Age'] != 'Total']"
   ],
   "metadata": {
    "collapsed": false,
    "pycharm": {
     "name": "#%%\n"
    }
   }
  },
  {
   "cell_type": "code",
   "execution_count": 125,
   "outputs": [],
   "source": [
    "# Converting the Age column to integer\n",
    "df_madrid_population['Age'] = df_madrid_population['Age'].astype(int)"
   ],
   "metadata": {
    "collapsed": false,
    "pycharm": {
     "name": "#%%\n"
    }
   }
  },
  {
   "cell_type": "code",
   "execution_count": 126,
   "outputs": [
    {
     "data": {
      "text/plain": "Neighbourhood     object\nAge               object\nPopulation       float64\ndtype: object"
     },
     "execution_count": 126,
     "metadata": {},
     "output_type": "execute_result"
    }
   ],
   "source": [
    "# making population column as integer\n",
    "df_madrid_population.dtypes"
   ],
   "metadata": {
    "collapsed": false,
    "pycharm": {
     "name": "#%%\n"
    }
   }
  },
  {
   "cell_type": "code",
   "execution_count": 55,
   "outputs": [
    {
     "data": {
      "text/plain": "Neighbourhood    3\nAge              4\nPopulation       4\ndtype: int64"
     },
     "execution_count": 55,
     "metadata": {},
     "output_type": "execute_result"
    }
   ],
   "source": [
    "# Finding NaN values\n",
    "df_madrid_population.isnull().sum()"
   ],
   "metadata": {
    "collapsed": false,
    "pycharm": {
     "name": "#%%\n"
    }
   }
  },
  {
   "cell_type": "code",
   "execution_count": 56,
   "outputs": [],
   "source": [
    "# Dropping the rows with NaN values\n",
    "df_madrid_population = df_madrid_population.dropna()"
   ],
   "metadata": {
    "collapsed": false,
    "pycharm": {
     "name": "#%%\n"
    }
   }
  },
  {
   "cell_type": "code",
   "execution_count": 57,
   "outputs": [],
   "source": [
    "# Loading vulnerability data"
   ],
   "metadata": {
    "collapsed": false,
    "pycharm": {
     "name": "#%%\n"
    }
   }
  },
  {
   "cell_type": "code",
   "execution_count": 58,
   "outputs": [],
   "source": [
    "#---------------------------------------------------------------------------"
   ],
   "metadata": {
    "collapsed": false,
    "pycharm": {
     "name": "#%%\n"
    }
   }
  },
  {
   "cell_type": "code",
   "execution_count": 59,
   "outputs": [],
   "source": [
    "# Loading the data"
   ],
   "metadata": {
    "collapsed": false,
    "pycharm": {
     "name": "#%%\n"
    }
   }
  },
  {
   "cell_type": "code",
   "execution_count": 60,
   "outputs": [
    {
     "name": "stdout",
     "output_type": "stream",
     "text": [
      "(131, 21)\n"
     ]
    },
    {
     "data": {
      "text/plain": "   Ranking Vulnerabilidad    DISTRITO               BARRIO  Tasa Extranjeros  \\\n0                      63  01. Centro         011. Palacio              7.95   \n1                      45  01. Centro     012. Embajadores             16.93   \n2                      64  01. Centro          013. Cortes              9.90   \n3                      66  01. Centro        014. Justicia              9.93   \n4                      62  01. Centro     015. Universidad             11.60   \n\n   Esperanza de Vida  Sin Estudios o Primarios  Renta media hogar  \\\n0              82.99                 25.384970       35509.212948   \n1              83.70                 33.637783       26761.666506   \n2              82.32                 21.475771       37426.712735   \n3              85.57                 20.913148       41583.813435   \n4              84.09                 24.474370       31866.058946   \n\n   Tasa Paro Absoluto  Tasa Paro mayores 45  Tasa de Parados Sin Prestación  \\\n0                7.41                 9.920                        4.104906   \n1                7.69                11.150                        4.104906   \n2                6.82                 9.320                        4.104906   \n3                6.25                 9.145                        4.104906   \n4                6.51                 9.615                        4.104906   \n\n   ...  Tasa demanda Dependientes  Familas perceptoras renta mínima  \\\n0  ...                   0.037653                               926   \n1  ...                   0.037653                               926   \n2  ...                   0.037653                               926   \n3  ...                   0.037653                               926   \n4  ...                   0.037653                               926   \n\n   Tasa SAD Dependencia  Tasa Teleasistencia Dependencia  Población  \\\n0                 0.032                            0.035   0.005976   \n1                 0.032                            0.035   0.009284   \n2                 0.032                            0.035   0.005974   \n3                 0.032                            0.035   0.005911   \n4                 0.032                            0.035   0.006782   \n\n   Estatus Socio-Económico  Actividad Económica  Desarrollo Urbano  \\\n0                 0.007642             0.007969           0.007620   \n1                 0.007655             0.008483           0.007642   \n2                 0.007639             0.007637           0.007607   \n3                 0.007634             0.007469           0.007600   \n4                 0.007647             0.007692           0.007630   \n\n   Necesidades Asistenciales  Vulnerabilidad  \n0                   0.007487        0.007459  \n1                   0.007487        0.008193  \n2                   0.007487        0.007344  \n3                   0.007487        0.007273  \n4                   0.007487        0.007502  \n\n[5 rows x 21 columns]",
      "text/html": "<div>\n<style scoped>\n    .dataframe tbody tr th:only-of-type {\n        vertical-align: middle;\n    }\n\n    .dataframe tbody tr th {\n        vertical-align: top;\n    }\n\n    .dataframe thead th {\n        text-align: right;\n    }\n</style>\n<table border=\"1\" class=\"dataframe\">\n  <thead>\n    <tr style=\"text-align: right;\">\n      <th></th>\n      <th>Ranking Vulnerabilidad</th>\n      <th>DISTRITO</th>\n      <th>BARRIO</th>\n      <th>Tasa Extranjeros</th>\n      <th>Esperanza de Vida</th>\n      <th>Sin Estudios o Primarios</th>\n      <th>Renta media hogar</th>\n      <th>Tasa Paro Absoluto</th>\n      <th>Tasa Paro mayores 45</th>\n      <th>Tasa de Parados Sin Prestación</th>\n      <th>...</th>\n      <th>Tasa demanda Dependientes</th>\n      <th>Familas perceptoras renta mínima</th>\n      <th>Tasa SAD Dependencia</th>\n      <th>Tasa Teleasistencia Dependencia</th>\n      <th>Población</th>\n      <th>Estatus Socio-Económico</th>\n      <th>Actividad Económica</th>\n      <th>Desarrollo Urbano</th>\n      <th>Necesidades Asistenciales</th>\n      <th>Vulnerabilidad</th>\n    </tr>\n  </thead>\n  <tbody>\n    <tr>\n      <th>0</th>\n      <td>63</td>\n      <td>01. Centro</td>\n      <td>011. Palacio</td>\n      <td>7.95</td>\n      <td>82.99</td>\n      <td>25.384970</td>\n      <td>35509.212948</td>\n      <td>7.41</td>\n      <td>9.920</td>\n      <td>4.104906</td>\n      <td>...</td>\n      <td>0.037653</td>\n      <td>926</td>\n      <td>0.032</td>\n      <td>0.035</td>\n      <td>0.005976</td>\n      <td>0.007642</td>\n      <td>0.007969</td>\n      <td>0.007620</td>\n      <td>0.007487</td>\n      <td>0.007459</td>\n    </tr>\n    <tr>\n      <th>1</th>\n      <td>45</td>\n      <td>01. Centro</td>\n      <td>012. Embajadores</td>\n      <td>16.93</td>\n      <td>83.70</td>\n      <td>33.637783</td>\n      <td>26761.666506</td>\n      <td>7.69</td>\n      <td>11.150</td>\n      <td>4.104906</td>\n      <td>...</td>\n      <td>0.037653</td>\n      <td>926</td>\n      <td>0.032</td>\n      <td>0.035</td>\n      <td>0.009284</td>\n      <td>0.007655</td>\n      <td>0.008483</td>\n      <td>0.007642</td>\n      <td>0.007487</td>\n      <td>0.008193</td>\n    </tr>\n    <tr>\n      <th>2</th>\n      <td>64</td>\n      <td>01. Centro</td>\n      <td>013. Cortes</td>\n      <td>9.90</td>\n      <td>82.32</td>\n      <td>21.475771</td>\n      <td>37426.712735</td>\n      <td>6.82</td>\n      <td>9.320</td>\n      <td>4.104906</td>\n      <td>...</td>\n      <td>0.037653</td>\n      <td>926</td>\n      <td>0.032</td>\n      <td>0.035</td>\n      <td>0.005974</td>\n      <td>0.007639</td>\n      <td>0.007637</td>\n      <td>0.007607</td>\n      <td>0.007487</td>\n      <td>0.007344</td>\n    </tr>\n    <tr>\n      <th>3</th>\n      <td>66</td>\n      <td>01. Centro</td>\n      <td>014. Justicia</td>\n      <td>9.93</td>\n      <td>85.57</td>\n      <td>20.913148</td>\n      <td>41583.813435</td>\n      <td>6.25</td>\n      <td>9.145</td>\n      <td>4.104906</td>\n      <td>...</td>\n      <td>0.037653</td>\n      <td>926</td>\n      <td>0.032</td>\n      <td>0.035</td>\n      <td>0.005911</td>\n      <td>0.007634</td>\n      <td>0.007469</td>\n      <td>0.007600</td>\n      <td>0.007487</td>\n      <td>0.007273</td>\n    </tr>\n    <tr>\n      <th>4</th>\n      <td>62</td>\n      <td>01. Centro</td>\n      <td>015. Universidad</td>\n      <td>11.60</td>\n      <td>84.09</td>\n      <td>24.474370</td>\n      <td>31866.058946</td>\n      <td>6.51</td>\n      <td>9.615</td>\n      <td>4.104906</td>\n      <td>...</td>\n      <td>0.037653</td>\n      <td>926</td>\n      <td>0.032</td>\n      <td>0.035</td>\n      <td>0.006782</td>\n      <td>0.007647</td>\n      <td>0.007692</td>\n      <td>0.007630</td>\n      <td>0.007487</td>\n      <td>0.007502</td>\n    </tr>\n  </tbody>\n</table>\n<p>5 rows × 21 columns</p>\n</div>"
     },
     "execution_count": 60,
     "metadata": {},
     "output_type": "execute_result"
    }
   ],
   "source": [
    "df_madrid_income = pd.read_excel('Vulnerabilidad_Madrid.xlsx',header=2)\n",
    "print(df_madrid_income.shape)\n",
    "df_madrid_income.head()"
   ],
   "metadata": {
    "collapsed": false,
    "pycharm": {
     "name": "#%%\n"
    }
   }
  },
  {
   "cell_type": "code",
   "execution_count": 61,
   "outputs": [],
   "source": [
    "#---------------------------------------------------------------------------"
   ],
   "metadata": {
    "collapsed": false,
    "pycharm": {
     "name": "#%%\n"
    }
   }
  },
  {
   "cell_type": "code",
   "execution_count": 62,
   "outputs": [],
   "source": [
    "# Cleaning Dataframes\n",
    "# ---------------------------------------------------------------------------"
   ],
   "metadata": {
    "collapsed": false,
    "pycharm": {
     "name": "#%%\n"
    }
   }
  },
  {
   "cell_type": "code",
   "execution_count": 63,
   "outputs": [],
   "source": [
    "# Cleaning the dataframes\n",
    "# Applying a df_madrid_income to remove all columns except \"DISTRITO\" ,\"BARRIO\" y \"Renta media hogar\"\n",
    "df_madrid_income = df_madrid_income[['DISTRITO', 'BARRIO', 'Renta media hogar']]"
   ],
   "metadata": {
    "collapsed": false,
    "pycharm": {
     "name": "#%%\n"
    }
   }
  },
  {
   "cell_type": "code",
   "execution_count": 64,
   "outputs": [],
   "source": [
    "#---------------------------------------------------------------------------"
   ],
   "metadata": {
    "collapsed": false,
    "pycharm": {
     "name": "#%%\n"
    }
   }
  },
  {
   "cell_type": "code",
   "execution_count": 65,
   "outputs": [
    {
     "data": {
      "text/plain": "     DISTRITO               BARRIO  Renta media hogar\n0  01. Centro         011. Palacio       35509.212948\n1  01. Centro     012. Embajadores       26761.666506\n2  01. Centro          013. Cortes       37426.712735\n3  01. Centro        014. Justicia       41583.813435\n4  01. Centro     015. Universidad       31866.058946",
      "text/html": "<div>\n<style scoped>\n    .dataframe tbody tr th:only-of-type {\n        vertical-align: middle;\n    }\n\n    .dataframe tbody tr th {\n        vertical-align: top;\n    }\n\n    .dataframe thead th {\n        text-align: right;\n    }\n</style>\n<table border=\"1\" class=\"dataframe\">\n  <thead>\n    <tr style=\"text-align: right;\">\n      <th></th>\n      <th>DISTRITO</th>\n      <th>BARRIO</th>\n      <th>Renta media hogar</th>\n    </tr>\n  </thead>\n  <tbody>\n    <tr>\n      <th>0</th>\n      <td>01. Centro</td>\n      <td>011. Palacio</td>\n      <td>35509.212948</td>\n    </tr>\n    <tr>\n      <th>1</th>\n      <td>01. Centro</td>\n      <td>012. Embajadores</td>\n      <td>26761.666506</td>\n    </tr>\n    <tr>\n      <th>2</th>\n      <td>01. Centro</td>\n      <td>013. Cortes</td>\n      <td>37426.712735</td>\n    </tr>\n    <tr>\n      <th>3</th>\n      <td>01. Centro</td>\n      <td>014. Justicia</td>\n      <td>41583.813435</td>\n    </tr>\n    <tr>\n      <th>4</th>\n      <td>01. Centro</td>\n      <td>015. Universidad</td>\n      <td>31866.058946</td>\n    </tr>\n  </tbody>\n</table>\n</div>"
     },
     "execution_count": 65,
     "metadata": {},
     "output_type": "execute_result"
    }
   ],
   "source": [
    "df_madrid_income.head()"
   ],
   "metadata": {
    "collapsed": false,
    "pycharm": {
     "name": "#%%\n"
    }
   }
  },
  {
   "cell_type": "code",
   "execution_count": 66,
   "outputs": [],
   "source": [
    "# Removing decimals in 'Renta media hogar'\n",
    "df_madrid_income['Renta media hogar'] = df_madrid_income['Renta media hogar'].astype(int)"
   ],
   "metadata": {
    "collapsed": false,
    "pycharm": {
     "name": "#%%\n"
    }
   }
  },
  {
   "cell_type": "code",
   "execution_count": 67,
   "outputs": [
    {
     "data": {
      "text/plain": "        DISTRITO                              BARRIO  Renta media hogar\n0     01. Centro                        011. Palacio              35509\n1     01. Centro                    012. Embajadores              26761\n2     01. Centro                         013. Cortes              37426\n3     01. Centro                       014. Justicia              41583\n4     01. Centro                    015. Universidad              31866\n..           ...                                 ...                ...\n126  21. Barajas               211. Alameda de Osuna              52966\n127  21. Barajas                     212. Aeropuerto              25366\n128  21. Barajas     213. Casco Histórico de Barajas              30892\n129  21. Barajas                          214. Timón              41635\n130  21. Barajas                     215. Corralejos              67321\n\n[131 rows x 3 columns]",
      "text/html": "<div>\n<style scoped>\n    .dataframe tbody tr th:only-of-type {\n        vertical-align: middle;\n    }\n\n    .dataframe tbody tr th {\n        vertical-align: top;\n    }\n\n    .dataframe thead th {\n        text-align: right;\n    }\n</style>\n<table border=\"1\" class=\"dataframe\">\n  <thead>\n    <tr style=\"text-align: right;\">\n      <th></th>\n      <th>DISTRITO</th>\n      <th>BARRIO</th>\n      <th>Renta media hogar</th>\n    </tr>\n  </thead>\n  <tbody>\n    <tr>\n      <th>0</th>\n      <td>01. Centro</td>\n      <td>011. Palacio</td>\n      <td>35509</td>\n    </tr>\n    <tr>\n      <th>1</th>\n      <td>01. Centro</td>\n      <td>012. Embajadores</td>\n      <td>26761</td>\n    </tr>\n    <tr>\n      <th>2</th>\n      <td>01. Centro</td>\n      <td>013. Cortes</td>\n      <td>37426</td>\n    </tr>\n    <tr>\n      <th>3</th>\n      <td>01. Centro</td>\n      <td>014. Justicia</td>\n      <td>41583</td>\n    </tr>\n    <tr>\n      <th>4</th>\n      <td>01. Centro</td>\n      <td>015. Universidad</td>\n      <td>31866</td>\n    </tr>\n    <tr>\n      <th>...</th>\n      <td>...</td>\n      <td>...</td>\n      <td>...</td>\n    </tr>\n    <tr>\n      <th>126</th>\n      <td>21. Barajas</td>\n      <td>211. Alameda de Osuna</td>\n      <td>52966</td>\n    </tr>\n    <tr>\n      <th>127</th>\n      <td>21. Barajas</td>\n      <td>212. Aeropuerto</td>\n      <td>25366</td>\n    </tr>\n    <tr>\n      <th>128</th>\n      <td>21. Barajas</td>\n      <td>213. Casco Histórico de Barajas</td>\n      <td>30892</td>\n    </tr>\n    <tr>\n      <th>129</th>\n      <td>21. Barajas</td>\n      <td>214. Timón</td>\n      <td>41635</td>\n    </tr>\n    <tr>\n      <th>130</th>\n      <td>21. Barajas</td>\n      <td>215. Corralejos</td>\n      <td>67321</td>\n    </tr>\n  </tbody>\n</table>\n<p>131 rows × 3 columns</p>\n</div>"
     },
     "execution_count": 67,
     "metadata": {},
     "output_type": "execute_result"
    }
   ],
   "source": [
    "df_madrid_income"
   ],
   "metadata": {
    "collapsed": false,
    "pycharm": {
     "name": "#%%\n"
    }
   }
  },
  {
   "cell_type": "code",
   "execution_count": 68,
   "outputs": [
    {
     "name": "stderr",
     "output_type": "stream",
     "text": [
      "C:\\Users\\PLATER~1\\AppData\\Local\\Temp/ipykernel_7792/3825944904.py:2: FutureWarning: The default value of regex will change from True to False in a future version.\n",
      "  df_madrid_income['DISTRITO'] = df_madrid_income['DISTRITO'].str.replace('\\d+', '')\n",
      "C:\\Users\\PLATER~1\\AppData\\Local\\Temp/ipykernel_7792/3825944904.py:3: FutureWarning: The default value of regex will change from True to False in a future version.\n",
      "  df_madrid_income['BARRIO'] = df_madrid_income['BARRIO'].str.replace('\\d+', '')\n",
      "C:\\Users\\PLATER~1\\AppData\\Local\\Temp/ipykernel_7792/3825944904.py:5: FutureWarning: The default value of regex will change from True to False in a future version.\n",
      "  df_madrid_income['DISTRITO'] = df_madrid_income['DISTRITO'].str.replace('\\s+', '')\n",
      "C:\\Users\\PLATER~1\\AppData\\Local\\Temp/ipykernel_7792/3825944904.py:6: FutureWarning: The default value of regex will change from True to False in a future version.\n",
      "  df_madrid_income['BARRIO'] = df_madrid_income['BARRIO'].str.replace('\\s+', '')\n",
      "C:\\Users\\PLATER~1\\AppData\\Local\\Temp/ipykernel_7792/3825944904.py:8: FutureWarning: The default value of regex will change from True to False in a future version.\n",
      "  df_madrid_income['DISTRITO'] = df_madrid_income['DISTRITO'].str.replace('\\.', '')\n",
      "C:\\Users\\PLATER~1\\AppData\\Local\\Temp/ipykernel_7792/3825944904.py:9: FutureWarning: The default value of regex will change from True to False in a future version.\n",
      "  df_madrid_income['BARRIO'] = df_madrid_income['BARRIO'].str.replace('\\.', '')\n"
     ]
    }
   ],
   "source": [
    "# Removing numbers in string 'DISTRITO' & 'BARRIO'\n",
    "df_madrid_income['DISTRITO'] = df_madrid_income['DISTRITO'].str.replace('\\d+', '')\n",
    "df_madrid_income['BARRIO'] = df_madrid_income['BARRIO'].str.replace('\\d+', '')\n",
    "# Removing spaces in 'DISTRITO' & BARRIO'\n",
    "df_madrid_income['DISTRITO'] = df_madrid_income['DISTRITO'].str.replace('\\s+', '')\n",
    "df_madrid_income['BARRIO'] = df_madrid_income['BARRIO'].str.replace('\\s+', '')\n",
    "# Removing . in 'DISTRITO' & 'BARRIO'\n",
    "df_madrid_income['DISTRITO'] = df_madrid_income['DISTRITO'].str.replace('\\.', '')\n",
    "df_madrid_income['BARRIO'] = df_madrid_income['BARRIO'].str.replace('\\.', '')"
   ],
   "metadata": {
    "collapsed": false,
    "pycharm": {
     "name": "#%%\n"
    }
   }
  },
  {
   "cell_type": "code",
   "execution_count": 69,
   "outputs": [
    {
     "data": {
      "text/plain": "  DISTRITO       BARRIO  Renta media hogar\n0   Centro      Palacio              35509\n1   Centro  Embajadores              26761\n2   Centro       Cortes              37426\n3   Centro     Justicia              41583\n4   Centro  Universidad              31866",
      "text/html": "<div>\n<style scoped>\n    .dataframe tbody tr th:only-of-type {\n        vertical-align: middle;\n    }\n\n    .dataframe tbody tr th {\n        vertical-align: top;\n    }\n\n    .dataframe thead th {\n        text-align: right;\n    }\n</style>\n<table border=\"1\" class=\"dataframe\">\n  <thead>\n    <tr style=\"text-align: right;\">\n      <th></th>\n      <th>DISTRITO</th>\n      <th>BARRIO</th>\n      <th>Renta media hogar</th>\n    </tr>\n  </thead>\n  <tbody>\n    <tr>\n      <th>0</th>\n      <td>Centro</td>\n      <td>Palacio</td>\n      <td>35509</td>\n    </tr>\n    <tr>\n      <th>1</th>\n      <td>Centro</td>\n      <td>Embajadores</td>\n      <td>26761</td>\n    </tr>\n    <tr>\n      <th>2</th>\n      <td>Centro</td>\n      <td>Cortes</td>\n      <td>37426</td>\n    </tr>\n    <tr>\n      <th>3</th>\n      <td>Centro</td>\n      <td>Justicia</td>\n      <td>41583</td>\n    </tr>\n    <tr>\n      <th>4</th>\n      <td>Centro</td>\n      <td>Universidad</td>\n      <td>31866</td>\n    </tr>\n  </tbody>\n</table>\n</div>"
     },
     "execution_count": 69,
     "metadata": {},
     "output_type": "execute_result"
    }
   ],
   "source": [
    "df_madrid_income.head()"
   ],
   "metadata": {
    "collapsed": false,
    "pycharm": {
     "name": "#%%\n"
    }
   }
  },
  {
   "cell_type": "code",
   "execution_count": 70,
   "outputs": [],
   "source": [
    "#---------------------------------------------------------------------------"
   ],
   "metadata": {
    "collapsed": false,
    "pycharm": {
     "name": "#%%\n"
    }
   }
  },
  {
   "cell_type": "code",
   "execution_count": 71,
   "outputs": [],
   "source": [
    "# Making  the columns 'DISTRITO' & 'BARRIO' as mayusculas\n",
    "#df_madrid_income['DISTRITO'] = df_madrid_income['DISTRITO'].str.upper()\n",
    "#df_madrid_income['BARRIO'] = df_madrid_income['BARRIO'].str.upper()\n",
    "\n"
   ],
   "metadata": {
    "collapsed": false,
    "pycharm": {
     "name": "#%%\n"
    }
   }
  },
  {
   "cell_type": "code",
   "execution_count": 72,
   "outputs": [],
   "source": [
    "# Changing the columns names to 'District' & 'Neighbourhood'\n",
    "df_madrid_income.rename(columns={'DISTRITO': 'District', 'BARRIO': 'Neighbourhood', 'Renta media hogar' : 'Income'}, inplace=True)\n",
    "#Dropping District column\n",
    "df_madrid_income.drop(columns=['District'], inplace=True)\n"
   ],
   "metadata": {
    "collapsed": false,
    "pycharm": {
     "name": "#%%\n"
    }
   }
  },
  {
   "cell_type": "code",
   "execution_count": 73,
   "outputs": [],
   "source": [
    "df_madrid_income['Neighbourhood'] = df_madrid_income['Neighbourhood'].str.upper()"
   ],
   "metadata": {
    "collapsed": false,
    "pycharm": {
     "name": "#%%\n"
    }
   }
  },
  {
   "cell_type": "code",
   "execution_count": 74,
   "outputs": [
    {
     "data": {
      "text/plain": "  Neighbourhood  Income\n0       PALACIO   35509\n1   EMBAJADORES   26761\n2        CORTES   37426\n3      JUSTICIA   41583\n4   UNIVERSIDAD   31866",
      "text/html": "<div>\n<style scoped>\n    .dataframe tbody tr th:only-of-type {\n        vertical-align: middle;\n    }\n\n    .dataframe tbody tr th {\n        vertical-align: top;\n    }\n\n    .dataframe thead th {\n        text-align: right;\n    }\n</style>\n<table border=\"1\" class=\"dataframe\">\n  <thead>\n    <tr style=\"text-align: right;\">\n      <th></th>\n      <th>Neighbourhood</th>\n      <th>Income</th>\n    </tr>\n  </thead>\n  <tbody>\n    <tr>\n      <th>0</th>\n      <td>PALACIO</td>\n      <td>35509</td>\n    </tr>\n    <tr>\n      <th>1</th>\n      <td>EMBAJADORES</td>\n      <td>26761</td>\n    </tr>\n    <tr>\n      <th>2</th>\n      <td>CORTES</td>\n      <td>37426</td>\n    </tr>\n    <tr>\n      <th>3</th>\n      <td>JUSTICIA</td>\n      <td>41583</td>\n    </tr>\n    <tr>\n      <th>4</th>\n      <td>UNIVERSIDAD</td>\n      <td>31866</td>\n    </tr>\n  </tbody>\n</table>\n</div>"
     },
     "execution_count": 74,
     "metadata": {},
     "output_type": "execute_result"
    }
   ],
   "source": [
    "df_madrid_income.head()"
   ],
   "metadata": {
    "collapsed": false,
    "pycharm": {
     "name": "#%%\n"
    }
   }
  },
  {
   "cell_type": "code",
   "execution_count": 75,
   "outputs": [
    {
     "data": {
      "text/plain": "Neighbourhood    object\nIncome            int32\ndtype: object"
     },
     "execution_count": 75,
     "metadata": {},
     "output_type": "execute_result"
    }
   ],
   "source": [
    "df_madrid_income.dtypes"
   ],
   "metadata": {
    "collapsed": false,
    "pycharm": {
     "name": "#%%\n"
    }
   }
  },
  {
   "cell_type": "code",
   "execution_count": 76,
   "outputs": [
    {
     "data": {
      "text/plain": "Neighbourhood    0\nIncome           0\ndtype: int64"
     },
     "execution_count": 76,
     "metadata": {},
     "output_type": "execute_result"
    }
   ],
   "source": [
    "df_madrid_income.isnull().sum()"
   ],
   "metadata": {
    "collapsed": false,
    "pycharm": {
     "name": "#%%\n"
    }
   }
  },
  {
   "cell_type": "code",
   "execution_count": 77,
   "outputs": [],
   "source": [
    "#---------------------------------------------------------------------------"
   ],
   "metadata": {
    "collapsed": false,
    "pycharm": {
     "name": "#%%\n"
    }
   }
  },
  {
   "cell_type": "code",
   "execution_count": 78,
   "outputs": [],
   "source": [
    "# Neighbourhoods Segmentation\n",
    "#---------------------------------------------------------------------------"
   ],
   "metadata": {
    "collapsed": false,
    "pycharm": {
     "name": "#%%\n"
    }
   }
  },
  {
   "cell_type": "code",
   "execution_count": 79,
   "outputs": [],
   "source": [
    "# Creating a new dataframe with the neighbourhood segmentation\n",
    "# Function for sorting the venues in descencing order\n",
    "def return_most_common_venues(row, num_top_venues):\n",
    "    row_categories = row.iloc[1:]\n",
    "    row_categories_sorted = row_categories.sort_values(ascending=False)\n",
    "\n",
    "    return row_categories_sorted.index.values[0:num_top_venues]\n"
   ],
   "metadata": {
    "collapsed": false,
    "pycharm": {
     "name": "#%%\n"
    }
   }
  },
  {
   "cell_type": "code",
   "execution_count": 80,
   "outputs": [
    {
     "data": {
      "text/plain": "        Neighbourhood 1st Most Common Venue 2nd Most Common Venue  \\\n0            ABRANTES                Bakery                   Bar   \n1             ACACIAS                  Park           Pizza Place   \n2             ADELFAS                  Bank                   Bar   \n3          AEROPUERTO          Airport Gate       Airport Service   \n4    ALAMEDA DE OSUNA         Travel Agency                   Bar   \n..                ...                   ...                   ...   \n126            VENTAS                   Bar          Soccer Field   \n127   VILLAVERDE ALTO                   Bar         Train Station   \n128         VINATEROS                   Bar       Doctor's Office   \n129      VISTA ALEGRE                Bakery    Spanish Restaurant   \n130             ZOFÍO                   Bar                  Park   \n\n    3rd Most Common Venue 4th Most Common Venue 5th Most Common Venue  \\\n0                    Park              Pharmacy          Soccer Field   \n1                    Café    Salon / Barbershop          Dance Studio   \n2           Metro Station                  Café    Spanish Restaurant   \n3          Airport Lounge      Airport Terminal          Optical Shop   \n4               Bookstore                  Bank    Italian Restaurant   \n..                    ...                   ...                   ...   \n126             Gastropub               Parking         Grocery Store   \n127                Bakery               Brewery        Medical Center   \n128     Elementary School            Playground                Church   \n129           Coffee Shop    Chinese Restaurant              Hospital   \n130           Bus Station    Spanish Restaurant                Winery   \n\n    6th Most Common Venue 7th Most Common Venue 8th Most Common Venue  \\\n0                    Bank                 Plaza                Church   \n1                     Bar      Tapas Restaurant                Church   \n2                     Gym                Bakery           Coffee Shop   \n3               Newsstand    Miscellaneous Shop              Building   \n4           Grocery Store                   Pub    Spanish Restaurant   \n..                    ...                   ...                   ...   \n126        Medical Center                Bakery                  Bank   \n127     Mobile Phone Shop                Office    Spanish Restaurant   \n128  Gym / Fitness Center         Grocery Store        Massage Studio   \n129         Grocery Store               Dog Run              Bus Line   \n130      Asian Restaurant       Automotive Shop           Gas Station   \n\n    9th Most Common Venue 10th Most Common Venue  \n0             Coffee Shop       Tapas Restaurant  \n1          Medical Center          Grocery Store  \n2         Motorcycle Shop     Salon / Barbershop  \n3     Rental Car Location                Airport  \n4               Gift Shop  General Entertainment  \n..                    ...                    ...  \n126           Flea Market      Elementary School  \n127            Playground            Candy Store  \n128    Athletics & Sports         Hardware Store  \n129           Gas Station     Miscellaneous Shop  \n130  Gym / Fitness Center            Event Space  \n\n[131 rows x 11 columns]",
      "text/html": "<div>\n<style scoped>\n    .dataframe tbody tr th:only-of-type {\n        vertical-align: middle;\n    }\n\n    .dataframe tbody tr th {\n        vertical-align: top;\n    }\n\n    .dataframe thead th {\n        text-align: right;\n    }\n</style>\n<table border=\"1\" class=\"dataframe\">\n  <thead>\n    <tr style=\"text-align: right;\">\n      <th></th>\n      <th>Neighbourhood</th>\n      <th>1st Most Common Venue</th>\n      <th>2nd Most Common Venue</th>\n      <th>3rd Most Common Venue</th>\n      <th>4th Most Common Venue</th>\n      <th>5th Most Common Venue</th>\n      <th>6th Most Common Venue</th>\n      <th>7th Most Common Venue</th>\n      <th>8th Most Common Venue</th>\n      <th>9th Most Common Venue</th>\n      <th>10th Most Common Venue</th>\n    </tr>\n  </thead>\n  <tbody>\n    <tr>\n      <th>0</th>\n      <td>ABRANTES</td>\n      <td>Bakery</td>\n      <td>Bar</td>\n      <td>Park</td>\n      <td>Pharmacy</td>\n      <td>Soccer Field</td>\n      <td>Bank</td>\n      <td>Plaza</td>\n      <td>Church</td>\n      <td>Coffee Shop</td>\n      <td>Tapas Restaurant</td>\n    </tr>\n    <tr>\n      <th>1</th>\n      <td>ACACIAS</td>\n      <td>Park</td>\n      <td>Pizza Place</td>\n      <td>Café</td>\n      <td>Salon / Barbershop</td>\n      <td>Dance Studio</td>\n      <td>Bar</td>\n      <td>Tapas Restaurant</td>\n      <td>Church</td>\n      <td>Medical Center</td>\n      <td>Grocery Store</td>\n    </tr>\n    <tr>\n      <th>2</th>\n      <td>ADELFAS</td>\n      <td>Bank</td>\n      <td>Bar</td>\n      <td>Metro Station</td>\n      <td>Café</td>\n      <td>Spanish Restaurant</td>\n      <td>Gym</td>\n      <td>Bakery</td>\n      <td>Coffee Shop</td>\n      <td>Motorcycle Shop</td>\n      <td>Salon / Barbershop</td>\n    </tr>\n    <tr>\n      <th>3</th>\n      <td>AEROPUERTO</td>\n      <td>Airport Gate</td>\n      <td>Airport Service</td>\n      <td>Airport Lounge</td>\n      <td>Airport Terminal</td>\n      <td>Optical Shop</td>\n      <td>Newsstand</td>\n      <td>Miscellaneous Shop</td>\n      <td>Building</td>\n      <td>Rental Car Location</td>\n      <td>Airport</td>\n    </tr>\n    <tr>\n      <th>4</th>\n      <td>ALAMEDA DE OSUNA</td>\n      <td>Travel Agency</td>\n      <td>Bar</td>\n      <td>Bookstore</td>\n      <td>Bank</td>\n      <td>Italian Restaurant</td>\n      <td>Grocery Store</td>\n      <td>Pub</td>\n      <td>Spanish Restaurant</td>\n      <td>Gift Shop</td>\n      <td>General Entertainment</td>\n    </tr>\n    <tr>\n      <th>...</th>\n      <td>...</td>\n      <td>...</td>\n      <td>...</td>\n      <td>...</td>\n      <td>...</td>\n      <td>...</td>\n      <td>...</td>\n      <td>...</td>\n      <td>...</td>\n      <td>...</td>\n      <td>...</td>\n    </tr>\n    <tr>\n      <th>126</th>\n      <td>VENTAS</td>\n      <td>Bar</td>\n      <td>Soccer Field</td>\n      <td>Gastropub</td>\n      <td>Parking</td>\n      <td>Grocery Store</td>\n      <td>Medical Center</td>\n      <td>Bakery</td>\n      <td>Bank</td>\n      <td>Flea Market</td>\n      <td>Elementary School</td>\n    </tr>\n    <tr>\n      <th>127</th>\n      <td>VILLAVERDE ALTO</td>\n      <td>Bar</td>\n      <td>Train Station</td>\n      <td>Bakery</td>\n      <td>Brewery</td>\n      <td>Medical Center</td>\n      <td>Mobile Phone Shop</td>\n      <td>Office</td>\n      <td>Spanish Restaurant</td>\n      <td>Playground</td>\n      <td>Candy Store</td>\n    </tr>\n    <tr>\n      <th>128</th>\n      <td>VINATEROS</td>\n      <td>Bar</td>\n      <td>Doctor's Office</td>\n      <td>Elementary School</td>\n      <td>Playground</td>\n      <td>Church</td>\n      <td>Gym / Fitness Center</td>\n      <td>Grocery Store</td>\n      <td>Massage Studio</td>\n      <td>Athletics &amp; Sports</td>\n      <td>Hardware Store</td>\n    </tr>\n    <tr>\n      <th>129</th>\n      <td>VISTA ALEGRE</td>\n      <td>Bakery</td>\n      <td>Spanish Restaurant</td>\n      <td>Coffee Shop</td>\n      <td>Chinese Restaurant</td>\n      <td>Hospital</td>\n      <td>Grocery Store</td>\n      <td>Dog Run</td>\n      <td>Bus Line</td>\n      <td>Gas Station</td>\n      <td>Miscellaneous Shop</td>\n    </tr>\n    <tr>\n      <th>130</th>\n      <td>ZOFÍO</td>\n      <td>Bar</td>\n      <td>Park</td>\n      <td>Bus Station</td>\n      <td>Spanish Restaurant</td>\n      <td>Winery</td>\n      <td>Asian Restaurant</td>\n      <td>Automotive Shop</td>\n      <td>Gas Station</td>\n      <td>Gym / Fitness Center</td>\n      <td>Event Space</td>\n    </tr>\n  </tbody>\n</table>\n<p>131 rows × 11 columns</p>\n</div>"
     },
     "execution_count": 80,
     "metadata": {},
     "output_type": "execute_result"
    }
   ],
   "source": [
    "num_top_venues = 10\n",
    "\n",
    "indicators = ['st', 'nd', 'rd']\n",
    "\n",
    "# create columns according to number of top venues\n",
    "columns = ['Neighbourhood']\n",
    "for ind in np.arange(num_top_venues):\n",
    "    try:\n",
    "        columns.append('{}{} Most Common Venue'.format(ind+1, indicators[ind]))\n",
    "    except:\n",
    "        columns.append('{}th Most Common Venue'.format(ind+1))\n",
    "\n",
    "# create a new dataframe\n",
    "neighbourhoods_venues_sorted = pd.DataFrame(columns=columns)\n",
    "neighbourhoods_venues_sorted['Neighbourhood'] = madrid_venues_grouped['Neighbourhood']\n",
    "\n",
    "for ind in np.arange(madrid_venues_grouped.shape[0]):\n",
    "    neighbourhoods_venues_sorted.iloc[ind, 1:] = return_most_common_venues(madrid_venues_grouped.iloc[ind, :], num_top_venues)\n",
    "\n",
    "neighbourhoods_venues_sorted"
   ],
   "metadata": {
    "collapsed": false,
    "pycharm": {
     "name": "#%%\n"
    }
   }
  },
  {
   "cell_type": "code",
   "execution_count": 81,
   "outputs": [
    {
     "name": "stderr",
     "output_type": "stream",
     "text": [
      "C:\\Users\\PLATER~1\\AppData\\Local\\Temp/ipykernel_7792/3329443557.py:1: FutureWarning: In a future version of pandas all arguments of DataFrame.drop except for the argument 'labels' will be keyword-only\n",
      "  madrid_grouped_clustering = madrid_venues_grouped.drop('Neighbourhood', 1)\n",
      "C:\\Users\\Platermatter\\anaconda3\\lib\\site-packages\\sklearn\\cluster\\_kmeans.py:881: UserWarning: KMeans is known to have a memory leak on Windows with MKL, when there are less chunks than available threads. You can avoid it by setting the environment variable OMP_NUM_THREADS=1.\n",
      "  warnings.warn(\n"
     ]
    },
    {
     "name": "stdout",
     "output_type": "stream",
     "text": [
      "1 2 3 4 5 6 7 8 9 "
     ]
    },
    {
     "data": {
      "text/plain": "Text(0.5, 1.0, 'Elbow Method For Optimal k')"
     },
     "execution_count": 81,
     "metadata": {},
     "output_type": "execute_result"
    },
    {
     "data": {
      "text/plain": "<Figure size 720x432 with 1 Axes>",
      "image/png": "[encoded data removed]"
     },
     "metadata": {},
     "output_type": "display_data"
    }
   ],
   "source": [
    "madrid_grouped_clustering = madrid_venues_grouped.drop('Neighbourhood', 1)\n",
    "sum_of_squared_distances = []\n",
    "K = range(1,10)\n",
    "\n",
    "for k in K:\n",
    "    print(k, end=' ')\n",
    "    kmeans = KMeans(n_clusters=k, random_state=1, n_init=20).fit(madrid_grouped_clustering)\n",
    "    sum_of_squared_distances.append(kmeans.inertia_)\n",
    "\n",
    "plt.figure(figsize=(10, 6))\n",
    "plt.plot(K, sum_of_squared_distances, 'bx-')\n",
    "plt.title('Elbow Method For Optimal k')"
   ],
   "metadata": {
    "collapsed": false,
    "pycharm": {
     "name": "#%%\n"
    }
   }
  },
  {
   "cell_type": "code",
   "execution_count": 82,
   "outputs": [],
   "source": [
    "#---------------------------------------------------------------------------"
   ],
   "metadata": {
    "collapsed": false,
    "pycharm": {
     "name": "#%%\n"
    }
   }
  },
  {
   "cell_type": "code",
   "execution_count": 83,
   "outputs": [],
   "source": [
    "# Clustering with K-Means"
   ],
   "metadata": {
    "collapsed": false,
    "pycharm": {
     "name": "#%%\n"
    }
   }
  },
  {
   "cell_type": "code",
   "execution_count": 84,
   "outputs": [],
   "source": [
    "#---------------------------------------------------------------------------"
   ],
   "metadata": {
    "collapsed": false,
    "pycharm": {
     "name": "#%%\n"
    }
   }
  },
  {
   "cell_type": "code",
   "execution_count": 85,
   "outputs": [
    {
     "data": {
      "text/plain": "array([0, 0, 0, 4, 0, 2, 2, 0, 0, 3])"
     },
     "execution_count": 85,
     "metadata": {},
     "output_type": "execute_result"
    }
   ],
   "source": [
    "# Clustering Neighborhoods in to 2 clusters\n",
    "# set number of clusters\n",
    "kclusters = 5\n",
    "\n",
    "# run k-means clustering\n",
    "kmeans = KMeans(n_clusters=kclusters, random_state=100).fit(madrid_grouped_clustering)\n",
    "\n",
    "# check cluster labels generated for each row in the dataframe\n",
    "kmeans.labels_[0:10]"
   ],
   "metadata": {
    "collapsed": false,
    "pycharm": {
     "name": "#%%\n"
    }
   }
  },
  {
   "cell_type": "code",
   "execution_count": 86,
   "outputs": [
    {
     "data": {
      "text/plain": "                  Neighbourhood  Latitude  Longitude  Cluster Labels  \\\n0                       PALACIO  40.41517   -3.71273               3   \n1                   EMBAJADORES  40.40803   -3.70067               0   \n2                        CORTES  40.41589   -3.69636               2   \n3                      JUSTICIA  40.42479   -3.69308               2   \n4                   UNIVERSIDAD  40.42565   -3.70726               0   \n..                          ...       ...        ...             ...   \n126            ALAMEDA DE OSUNA  40.45818   -3.58953               0   \n127                  AEROPUERTO  40.48337   -3.55949               4   \n128  CASCO HISTÓRICO DE BARAJAS  40.47482   -3.57951               0   \n129                       TIMÓN  40.48568   -3.60472               0   \n130                  CORRALEJOS  40.46540   -3.61164               2   \n\n    1st Most Common Venue  2nd Most Common Venue 3rd Most Common Venue  \\\n0                  Church          Historic Site    Spanish Restaurant   \n1                     Bar     Spanish Restaurant      Tapas Restaurant   \n2      Spanish Restaurant    Embassy / Consulate             Hotel Bar   \n3             Art Gallery                 Office            Courthouse   \n4              Restaurant              Bookstore                  Café   \n..                    ...                    ...                   ...   \n126         Travel Agency                    Bar             Bookstore   \n127          Airport Gate        Airport Service        Airport Lounge   \n128                   Bar                  Plaza            Restaurant   \n129   Rental Car Location                  Diner    Spanish Restaurant   \n130           Event Space  General Entertainment                Office   \n\n    4th Most Common Venue 5th Most Common Venue 6th Most Common Venue  \\\n0              Restaurant   Monument / Landmark              Building   \n1             Pizza Place               Theater    African Restaurant   \n2                   Hotel           Event Space   Japanese Restaurant   \n3                Boutique   Embassy / Consulate           Post Office   \n4                     Bar        Breakfast Spot                Hostel   \n..                    ...                   ...                   ...   \n126                  Bank    Italian Restaurant         Grocery Store   \n127      Airport Terminal          Optical Shop             Newsstand   \n128                Church           Coffee Shop    Spanish Restaurant   \n129             BBQ Joint      Airport Terminal           Supermarket   \n130     Convention Center          Meeting Room   Sporting Goods Shop   \n\n    7th Most Common Venue 8th Most Common Venue  9th Most Common Venue  \\\n0             Bus Station                Bakery    Government Building   \n1      Salon / Barbershop     Indian Restaurant            Coffee Shop   \n2              Restaurant      Tapas Restaurant                 Office   \n3           Women's Store            Restaurant                   Food   \n4       Electronics Store       College Library  Portuguese Restaurant   \n..                    ...                   ...                    ...   \n126                   Pub    Spanish Restaurant              Gift Shop   \n127    Miscellaneous Shop              Building    Rental Car Location   \n128              Pharmacy             BBQ Joint              City Hall   \n129            Restaurant              Beer Bar         Duty-free Shop   \n130                Arcade           Golf Course                   Park   \n\n    10th Most Common Venue  \n0                 Beer Bar  \n1               Restaurant  \n2         Capitol Building  \n3                 Building  \n4       Falafel Restaurant  \n..                     ...  \n126  General Entertainment  \n127                Airport  \n128        Doctor's Office  \n129                 Bakery  \n130         Clothing Store  \n\n[131 rows x 14 columns]",
      "text/html": "<div>\n<style scoped>\n    .dataframe tbody tr th:only-of-type {\n        vertical-align: middle;\n    }\n\n    .dataframe tbody tr th {\n        vertical-align: top;\n    }\n\n    .dataframe thead th {\n        text-align: right;\n    }\n</style>\n<table border=\"1\" class=\"dataframe\">\n  <thead>\n    <tr style=\"text-align: right;\">\n      <th></th>\n      <th>Neighbourhood</th>\n      <th>Latitude</th>\n      <th>Longitude</th>\n      <th>Cluster Labels</th>\n      <th>1st Most Common Venue</th>\n      <th>2nd Most Common Venue</th>\n      <th>3rd Most Common Venue</th>\n      <th>4th Most Common Venue</th>\n      <th>5th Most Common Venue</th>\n      <th>6th Most Common Venue</th>\n      <th>7th Most Common Venue</th>\n      <th>8th Most Common Venue</th>\n      <th>9th Most Common Venue</th>\n      <th>10th Most Common Venue</th>\n    </tr>\n  </thead>\n  <tbody>\n    <tr>\n      <th>0</th>\n      <td>PALACIO</td>\n      <td>40.41517</td>\n      <td>-3.71273</td>\n      <td>3</td>\n      <td>Church</td>\n      <td>Historic Site</td>\n      <td>Spanish Restaurant</td>\n      <td>Restaurant</td>\n      <td>Monument / Landmark</td>\n      <td>Building</td>\n      <td>Bus Station</td>\n      <td>Bakery</td>\n      <td>Government Building</td>\n      <td>Beer Bar</td>\n    </tr>\n    <tr>\n      <th>1</th>\n      <td>EMBAJADORES</td>\n      <td>40.40803</td>\n      <td>-3.70067</td>\n      <td>0</td>\n      <td>Bar</td>\n      <td>Spanish Restaurant</td>\n      <td>Tapas Restaurant</td>\n      <td>Pizza Place</td>\n      <td>Theater</td>\n      <td>African Restaurant</td>\n      <td>Salon / Barbershop</td>\n      <td>Indian Restaurant</td>\n      <td>Coffee Shop</td>\n      <td>Restaurant</td>\n    </tr>\n    <tr>\n      <th>2</th>\n      <td>CORTES</td>\n      <td>40.41589</td>\n      <td>-3.69636</td>\n      <td>2</td>\n      <td>Spanish Restaurant</td>\n      <td>Embassy / Consulate</td>\n      <td>Hotel Bar</td>\n      <td>Hotel</td>\n      <td>Event Space</td>\n      <td>Japanese Restaurant</td>\n      <td>Restaurant</td>\n      <td>Tapas Restaurant</td>\n      <td>Office</td>\n      <td>Capitol Building</td>\n    </tr>\n    <tr>\n      <th>3</th>\n      <td>JUSTICIA</td>\n      <td>40.42479</td>\n      <td>-3.69308</td>\n      <td>2</td>\n      <td>Art Gallery</td>\n      <td>Office</td>\n      <td>Courthouse</td>\n      <td>Boutique</td>\n      <td>Embassy / Consulate</td>\n      <td>Post Office</td>\n      <td>Women's Store</td>\n      <td>Restaurant</td>\n      <td>Food</td>\n      <td>Building</td>\n    </tr>\n    <tr>\n      <th>4</th>\n      <td>UNIVERSIDAD</td>\n      <td>40.42565</td>\n      <td>-3.70726</td>\n      <td>0</td>\n      <td>Restaurant</td>\n      <td>Bookstore</td>\n      <td>Café</td>\n      <td>Bar</td>\n      <td>Breakfast Spot</td>\n      <td>Hostel</td>\n      <td>Electronics Store</td>\n      <td>College Library</td>\n      <td>Portuguese Restaurant</td>\n      <td>Falafel Restaurant</td>\n    </tr>\n    <tr>\n      <th>...</th>\n      <td>...</td>\n      <td>...</td>\n      <td>...</td>\n      <td>...</td>\n      <td>...</td>\n      <td>...</td>\n      <td>...</td>\n      <td>...</td>\n      <td>...</td>\n      <td>...</td>\n      <td>...</td>\n      <td>...</td>\n      <td>...</td>\n      <td>...</td>\n    </tr>\n    <tr>\n      <th>126</th>\n      <td>ALAMEDA DE OSUNA</td>\n      <td>40.45818</td>\n      <td>-3.58953</td>\n      <td>0</td>\n      <td>Travel Agency</td>\n      <td>Bar</td>\n      <td>Bookstore</td>\n      <td>Bank</td>\n      <td>Italian Restaurant</td>\n      <td>Grocery Store</td>\n      <td>Pub</td>\n      <td>Spanish Restaurant</td>\n      <td>Gift Shop</td>\n      <td>General Entertainment</td>\n    </tr>\n    <tr>\n      <th>127</th>\n      <td>AEROPUERTO</td>\n      <td>40.48337</td>\n      <td>-3.55949</td>\n      <td>4</td>\n      <td>Airport Gate</td>\n      <td>Airport Service</td>\n      <td>Airport Lounge</td>\n      <td>Airport Terminal</td>\n      <td>Optical Shop</td>\n      <td>Newsstand</td>\n      <td>Miscellaneous Shop</td>\n      <td>Building</td>\n      <td>Rental Car Location</td>\n      <td>Airport</td>\n    </tr>\n    <tr>\n      <th>128</th>\n      <td>CASCO HISTÓRICO DE BARAJAS</td>\n      <td>40.47482</td>\n      <td>-3.57951</td>\n      <td>0</td>\n      <td>Bar</td>\n      <td>Plaza</td>\n      <td>Restaurant</td>\n      <td>Church</td>\n      <td>Coffee Shop</td>\n      <td>Spanish Restaurant</td>\n      <td>Pharmacy</td>\n      <td>BBQ Joint</td>\n      <td>City Hall</td>\n      <td>Doctor's Office</td>\n    </tr>\n    <tr>\n      <th>129</th>\n      <td>TIMÓN</td>\n      <td>40.48568</td>\n      <td>-3.60472</td>\n      <td>0</td>\n      <td>Rental Car Location</td>\n      <td>Diner</td>\n      <td>Spanish Restaurant</td>\n      <td>BBQ Joint</td>\n      <td>Airport Terminal</td>\n      <td>Supermarket</td>\n      <td>Restaurant</td>\n      <td>Beer Bar</td>\n      <td>Duty-free Shop</td>\n      <td>Bakery</td>\n    </tr>\n    <tr>\n      <th>130</th>\n      <td>CORRALEJOS</td>\n      <td>40.46540</td>\n      <td>-3.61164</td>\n      <td>2</td>\n      <td>Event Space</td>\n      <td>General Entertainment</td>\n      <td>Office</td>\n      <td>Convention Center</td>\n      <td>Meeting Room</td>\n      <td>Sporting Goods Shop</td>\n      <td>Arcade</td>\n      <td>Golf Course</td>\n      <td>Park</td>\n      <td>Clothing Store</td>\n    </tr>\n  </tbody>\n</table>\n<p>131 rows × 14 columns</p>\n</div>"
     },
     "execution_count": 86,
     "metadata": {},
     "output_type": "execute_result"
    }
   ],
   "source": [
    "# add clustering labels\n",
    "neighbourhoods_venues_sorted.insert(0, 'Cluster Labels', kmeans.labels_)\n",
    "\n",
    "madrid_merged = neighbourhoods_df\n",
    "\n",
    "# merge madrid_grouped with df_madrid to add latitude/longitude for each neighbourhood\n",
    "madrid_merged = madrid_merged.join(neighbourhoods_venues_sorted.set_index('Neighbourhood'), on='Neighbourhood')\n",
    "\n",
    "madrid_merged\n"
   ],
   "metadata": {
    "collapsed": false,
    "pycharm": {
     "name": "#%%\n"
    }
   }
  },
  {
   "cell_type": "code",
   "execution_count": 87,
   "outputs": [],
   "source": [
    "#---------------------------------------------------------------------------bº"
   ],
   "metadata": {
    "collapsed": false,
    "pycharm": {
     "name": "#%%\n"
    }
   }
  },
  {
   "cell_type": "code",
   "execution_count": 88,
   "outputs": [
    {
     "data": {
      "text/plain": "array([0, 0, 0, 4, 0, 2, 2, 0, 0, 3, 3, 0, 3, 0, 2, 3, 2, 0, 0, 3, 0, 3,\n       0, 0, 1, 0, 0, 3, 2, 2, 2, 0, 2, 3, 3, 0, 0, 2, 2, 0, 0, 3, 2, 3,\n       3, 3, 3, 0, 0, 0, 0, 0, 0, 3, 0, 3, 0, 0, 0, 3, 0, 0, 0, 0, 2, 3,\n       3, 2, 0, 3, 2, 0, 0, 3, 0, 2, 3, 0, 0, 2, 0, 0, 0, 3, 0, 3, 3, 0,\n       3, 0, 3, 3, 0, 0, 3, 0, 0, 0, 3, 0, 3, 0, 3, 2, 0, 2, 3, 3, 3, 0,\n       2, 2, 0, 2, 3, 0, 0, 0, 0, 3, 0, 3, 3, 0, 2, 3, 0, 0, 0, 0, 0])"
     },
     "execution_count": 88,
     "metadata": {},
     "output_type": "execute_result"
    }
   ],
   "source": [
    "kmeans.labels_"
   ],
   "metadata": {
    "collapsed": false,
    "pycharm": {
     "name": "#%%\n"
    }
   }
  },
  {
   "cell_type": "markdown",
   "source": [],
   "metadata": {
    "collapsed": false,
    "pycharm": {
     "name": "#%% md\n"
    }
   }
  },
  {
   "cell_type": "code",
   "execution_count": 89,
   "outputs": [
    {
     "data": {
      "text/plain": "<folium.folium.Map at 0x25bb9f0b310>",
      "text/html": "<div style=\"width:100%;\"><div style=\"position:relative;width:100%;height:0;padding-bottom:60%;\"><span style=\"color:#565656\">Make this Notebook Trusted to load map: File -> Trust Notebook</span><iframe srcdoc=\"&lt;!DOCTYPE html&gt;\n&lt;head&gt;    \n    &lt;meta http-equiv=&quot;content-type&quot; content=&quot;text/html; charset=UTF-8&quot; /&gt;\n    \n        &lt;script&gt;\n            L_NO_TOUCH = false;\n            L_DISABLE_3D = false;\n        &lt;/script&gt;\n    \n    &lt;style&gt;html, body {width: 100%;height: 100%;margin: 0;padding: 0;}&lt;/style&gt;\n    &lt;style&gt;#map {position:absolute;top:0;bottom:0;right:0;left:0;}&lt;/style&gt;\n    &lt;script src=&quot;https://cdn.jsdelivr.net/npm/leaflet@1.6.0/dist/leaflet.js&quot;&gt;&lt;/script&gt;\n    &lt;script src=&quot;https://code.jquery.com/jquery-1.12.4.min.js&quot;&gt;&lt;/script&gt;\n    &lt;script src=&quot;https://maxcdn.bootstrapcdn.com/bootstrap/3.2.0/js/bootstrap.min.js&quot;&gt;&lt;/script&gt;\n    &lt;script src=&quot;https://cdnjs.cloudflare.com/ajax/libs/Leaflet.awesome-markers/2.0.2/leaflet.awesome-markers.js&quot;&gt;&lt;/script&gt;\n    &lt;link rel=&quot;stylesheet&quot; href=&quot;https://cdn.jsdelivr.net/npm/leaflet@1.6.0/dist/leaflet.css&quot;/&gt;\n    &lt;link rel=&quot;stylesheet&quot; href=&quot;https://maxcdn.bootstrapcdn.com/bootstrap/3.2.0/css/bootstrap.min.css&quot;/&gt;\n    &lt;link rel=&quot;stylesheet&quot; href=&quot;https://maxcdn.bootstrapcdn.com/bootstrap/3.2.0/css/bootstrap-theme.min.css&quot;/&gt;\n    &lt;link rel=&quot;stylesheet&quot; href=&quot;https://maxcdn.bootstrapcdn.com/font-awesome/4.6.3/css/font-awesome.min.css&quot;/&gt;\n    &lt;link rel=&quot;stylesheet&quot; href=&quot;https://cdnjs.cloudflare.com/ajax/libs/Leaflet.awesome-markers/2.0.2/leaflet.awesome-markers.css&quot;/&gt;\n    &lt;link rel=&quot;stylesheet&quot; href=&quot;https://cdn.jsdelivr.net/gh/python-visualization/folium/folium/templates/leaflet.awesome.rotate.min.css&quot;/&gt;\n    \n            &lt;meta name=&quot;viewport&quot; content=&quot;width=device-width,\n                initial-scale=1.0, maximum-scale=1.0, user-scalable=no&quot; /&gt;\n            &lt;style&gt;\n                #map_79f8d12debbb9fd5457e360a0677c10a {\n                    position: relative;\n                    width: 100.0%;\n                    height: 100.0%;\n                    left: 0.0%;\n                    top: 0.0%;\n                }\n            &lt;/style&gt;\n        \n&lt;/head&gt;\n&lt;body&gt;    \n    \n            &lt;div class=&quot;folium-map&quot; id=&quot;map_79f8d12debbb9fd5457e360a0677c10a&quot; &gt;&lt;/div&gt;\n        \n&lt;/body&gt;\n&lt;script&gt;    \n    \n            var map_79f8d12debbb9fd5457e360a0677c10a = L.map(\n                &quot;map_79f8d12debbb9fd5457e360a0677c10a&quot;,\n                {\n                    center: [40.4167047, -3.7035825],\n                    crs: L.CRS.EPSG3857,\n                    zoom: 11,\n                    zoomControl: true,\n                    preferCanvas: false,\n                }\n            );\n\n            \n\n        \n    \n            var tile_layer_4eeb406e78e7d22322afbd1ab5286ca8 = L.tileLayer(\n                &quot;https://{s}.tile.openstreetmap.org/{z}/{x}/{y}.png&quot;,\n                {&quot;attribution&quot;: &quot;Data by \\u0026copy; \\u003ca href=\\&quot;http://openstreetmap.org\\&quot;\\u003eOpenStreetMap\\u003c/a\\u003e, under \\u003ca href=\\&quot;http://www.openstreetmap.org/copyright\\&quot;\\u003eODbL\\u003c/a\\u003e.&quot;, &quot;detectRetina&quot;: false, &quot;maxNativeZoom&quot;: 18, &quot;maxZoom&quot;: 18, &quot;minZoom&quot;: 0, &quot;noWrap&quot;: false, &quot;opacity&quot;: 1, &quot;subdomains&quot;: &quot;abc&quot;, &quot;tms&quot;: false}\n            ).addTo(map_79f8d12debbb9fd5457e360a0677c10a);\n        \n    \n            var circle_marker_b3ff5454b55266336d6644604cf2a74c = L.circleMarker(\n                [40.415170000000046, -3.712729999999965],\n                {&quot;bubblingMouseEvents&quot;: true, &quot;color&quot;: &quot;#3388ff&quot;, &quot;dashArray&quot;: null, &quot;dashOffset&quot;: null, &quot;fill&quot;: true, &quot;fillColor&quot;: &quot;#3388ff&quot;, &quot;fillOpacity&quot;: 0.7, &quot;fillRule&quot;: &quot;evenodd&quot;, &quot;lineCap&quot;: &quot;round&quot;, &quot;lineJoin&quot;: &quot;round&quot;, &quot;opacity&quot;: 1.0, &quot;radius&quot;: 5, &quot;stroke&quot;: true, &quot;weight&quot;: 3}\n            ).addTo(map_79f8d12debbb9fd5457e360a0677c10a);\n        \n    \n        var popup_818001b1b548b423ebcf034d4da4fd5a = L.popup({&quot;maxWidth&quot;: &quot;100%&quot;});\n\n        \n            var html_5e452ccaee3d67959c242dbd35d7167c = $(`&lt;div id=&quot;html_5e452ccaee3d67959c242dbd35d7167c&quot; style=&quot;width: 100.0%; height: 100.0%;&quot;&gt;PALACIO Cluster 3&lt;/div&gt;`)[0];\n            popup_818001b1b548b423ebcf034d4da4fd5a.setContent(html_5e452ccaee3d67959c242dbd35d7167c);\n        \n\n        circle_marker_b3ff5454b55266336d6644604cf2a74c.bindPopup(popup_818001b1b548b423ebcf034d4da4fd5a)\n        ;\n\n        \n    \n    \n            var circle_marker_92b88f3becd80f042e83a2a3217068d3 = L.circleMarker(\n                [40.40803000000005, -3.7006699999999455],\n                {&quot;bubblingMouseEvents&quot;: true, &quot;color&quot;: &quot;#3388ff&quot;, &quot;dashArray&quot;: null, &quot;dashOffset&quot;: null, &quot;fill&quot;: true, &quot;fillColor&quot;: &quot;#3388ff&quot;, &quot;fillOpacity&quot;: 0.7, &quot;fillRule&quot;: &quot;evenodd&quot;, &quot;lineCap&quot;: &quot;round&quot;, &quot;lineJoin&quot;: &quot;round&quot;, &quot;opacity&quot;: 1.0, &quot;radius&quot;: 5, &quot;stroke&quot;: true, &quot;weight&quot;: 3}\n            ).addTo(map_79f8d12debbb9fd5457e360a0677c10a);\n        \n    \n        var popup_f5fa2d76eba5cfa853b3d373d989bbcf = L.popup({&quot;maxWidth&quot;: &quot;100%&quot;});\n\n        \n            var html_0d29327264e08bbf3586758383bef906 = $(`&lt;div id=&quot;html_0d29327264e08bbf3586758383bef906&quot; style=&quot;width: 100.0%; height: 100.0%;&quot;&gt;EMBAJADORES Cluster 0&lt;/div&gt;`)[0];\n            popup_f5fa2d76eba5cfa853b3d373d989bbcf.setContent(html_0d29327264e08bbf3586758383bef906);\n        \n\n        circle_marker_92b88f3becd80f042e83a2a3217068d3.bindPopup(popup_f5fa2d76eba5cfa853b3d373d989bbcf)\n        ;\n\n        \n    \n    \n            var circle_marker_02b01ae8ae764820a7a691e248252d86 = L.circleMarker(\n                [40.41589000000005, -3.69635999999997],\n                {&quot;bubblingMouseEvents&quot;: true, &quot;color&quot;: &quot;#3388ff&quot;, &quot;dashArray&quot;: null, &quot;dashOffset&quot;: null, &quot;fill&quot;: true, &quot;fillColor&quot;: &quot;#3388ff&quot;, &quot;fillOpacity&quot;: 0.7, &quot;fillRule&quot;: &quot;evenodd&quot;, &quot;lineCap&quot;: &quot;round&quot;, &quot;lineJoin&quot;: &quot;round&quot;, &quot;opacity&quot;: 1.0, &quot;radius&quot;: 5, &quot;stroke&quot;: true, &quot;weight&quot;: 3}\n            ).addTo(map_79f8d12debbb9fd5457e360a0677c10a);\n        \n    \n        var popup_1eda583f065f5c3bab1099f3cdf14869 = L.popup({&quot;maxWidth&quot;: &quot;100%&quot;});\n\n        \n            var html_2c9c24a0bd840e1718e745ddf7840a70 = $(`&lt;div id=&quot;html_2c9c24a0bd840e1718e745ddf7840a70&quot; style=&quot;width: 100.0%; height: 100.0%;&quot;&gt;CORTES Cluster 2&lt;/div&gt;`)[0];\n            popup_1eda583f065f5c3bab1099f3cdf14869.setContent(html_2c9c24a0bd840e1718e745ddf7840a70);\n        \n\n        circle_marker_02b01ae8ae764820a7a691e248252d86.bindPopup(popup_1eda583f065f5c3bab1099f3cdf14869)\n        ;\n\n        \n    \n    \n            var circle_marker_af4f0f428408f8f86d1aa9425f11cff7 = L.circleMarker(\n                [40.42479000000003, -3.693079999999952],\n                {&quot;bubblingMouseEvents&quot;: true, &quot;color&quot;: &quot;#3388ff&quot;, &quot;dashArray&quot;: null, &quot;dashOffset&quot;: null, &quot;fill&quot;: true, &quot;fillColor&quot;: &quot;#3388ff&quot;, &quot;fillOpacity&quot;: 0.7, &quot;fillRule&quot;: &quot;evenodd&quot;, &quot;lineCap&quot;: &quot;round&quot;, &quot;lineJoin&quot;: &quot;round&quot;, &quot;opacity&quot;: 1.0, &quot;radius&quot;: 5, &quot;stroke&quot;: true, &quot;weight&quot;: 3}\n            ).addTo(map_79f8d12debbb9fd5457e360a0677c10a);\n        \n    \n        var popup_b6aac1dcf4f5755627433dbf45c14a4f = L.popup({&quot;maxWidth&quot;: &quot;100%&quot;});\n\n        \n            var html_44c94b6ef54fea99eca7f157c244d64a = $(`&lt;div id=&quot;html_44c94b6ef54fea99eca7f157c244d64a&quot; style=&quot;width: 100.0%; height: 100.0%;&quot;&gt;JUSTICIA Cluster 2&lt;/div&gt;`)[0];\n            popup_b6aac1dcf4f5755627433dbf45c14a4f.setContent(html_44c94b6ef54fea99eca7f157c244d64a);\n        \n\n        circle_marker_af4f0f428408f8f86d1aa9425f11cff7.bindPopup(popup_b6aac1dcf4f5755627433dbf45c14a4f)\n        ;\n\n        \n    \n    \n            var circle_marker_e4e2ca4d04dd5b40571b330c215e3da3 = L.circleMarker(\n                [40.425650000000076, -3.7072599999999625],\n                {&quot;bubblingMouseEvents&quot;: true, &quot;color&quot;: &quot;#3388ff&quot;, &quot;dashArray&quot;: null, &quot;dashOffset&quot;: null, &quot;fill&quot;: true, &quot;fillColor&quot;: &quot;#3388ff&quot;, &quot;fillOpacity&quot;: 0.7, &quot;fillRule&quot;: &quot;evenodd&quot;, &quot;lineCap&quot;: &quot;round&quot;, &quot;lineJoin&quot;: &quot;round&quot;, &quot;opacity&quot;: 1.0, &quot;radius&quot;: 5, &quot;stroke&quot;: true, &quot;weight&quot;: 3}\n            ).addTo(map_79f8d12debbb9fd5457e360a0677c10a);\n        \n    \n        var popup_10e2ebf1a0c7b9ae3f0dee99f4bb7c75 = L.popup({&quot;maxWidth&quot;: &quot;100%&quot;});\n\n        \n            var html_5535979ac224c949727237a8a08924db = $(`&lt;div id=&quot;html_5535979ac224c949727237a8a08924db&quot; style=&quot;width: 100.0%; height: 100.0%;&quot;&gt;UNIVERSIDAD Cluster 0&lt;/div&gt;`)[0];\n            popup_10e2ebf1a0c7b9ae3f0dee99f4bb7c75.setContent(html_5535979ac224c949727237a8a08924db);\n        \n\n        circle_marker_e4e2ca4d04dd5b40571b330c215e3da3.bindPopup(popup_10e2ebf1a0c7b9ae3f0dee99f4bb7c75)\n        ;\n\n        \n    \n    \n            var circle_marker_387b2e650851834d474dd0b038b83032 = L.circleMarker(\n                [40.41802000000007, -3.7057699999999727],\n                {&quot;bubblingMouseEvents&quot;: true, &quot;color&quot;: &quot;#3388ff&quot;, &quot;dashArray&quot;: null, &quot;dashOffset&quot;: null, &quot;fill&quot;: true, &quot;fillColor&quot;: &quot;#3388ff&quot;, &quot;fillOpacity&quot;: 0.7, &quot;fillRule&quot;: &quot;evenodd&quot;, &quot;lineCap&quot;: &quot;round&quot;, &quot;lineJoin&quot;: &quot;round&quot;, &quot;opacity&quot;: 1.0, &quot;radius&quot;: 5, &quot;stroke&quot;: true, &quot;weight&quot;: 3}\n            ).addTo(map_79f8d12debbb9fd5457e360a0677c10a);\n        \n    \n        var popup_9888cf331264e0eb033c166f45764144 = L.popup({&quot;maxWidth&quot;: &quot;100%&quot;});\n\n        \n            var html_242e1988adcaa5282db32a0ad3c602b9 = $(`&lt;div id=&quot;html_242e1988adcaa5282db32a0ad3c602b9&quot; style=&quot;width: 100.0%; height: 100.0%;&quot;&gt;SOL Cluster 3&lt;/div&gt;`)[0];\n            popup_9888cf331264e0eb033c166f45764144.setContent(html_242e1988adcaa5282db32a0ad3c602b9);\n        \n\n        circle_marker_387b2e650851834d474dd0b038b83032.bindPopup(popup_9888cf331264e0eb033c166f45764144)\n        ;\n\n        \n    \n    \n            var circle_marker_fc2e79875e0827731537aaf679b5fbb7 = L.circleMarker(\n                [40.408330000000035, -3.7186499999999683],\n                {&quot;bubblingMouseEvents&quot;: true, &quot;color&quot;: &quot;#3388ff&quot;, &quot;dashArray&quot;: null, &quot;dashOffset&quot;: null, &quot;fill&quot;: true, &quot;fillColor&quot;: &quot;#3388ff&quot;, &quot;fillOpacity&quot;: 0.7, &quot;fillRule&quot;: &quot;evenodd&quot;, &quot;lineCap&quot;: &quot;round&quot;, &quot;lineJoin&quot;: &quot;round&quot;, &quot;opacity&quot;: 1.0, &quot;radius&quot;: 5, &quot;stroke&quot;: true, &quot;weight&quot;: 3}\n            ).addTo(map_79f8d12debbb9fd5457e360a0677c10a);\n        \n    \n        var popup_26ab6de0309615f1e08e41c930d16340 = L.popup({&quot;maxWidth&quot;: &quot;100%&quot;});\n\n        \n            var html_7ba7cb6c14ca1edec9f9ed7b607ef3c8 = $(`&lt;div id=&quot;html_7ba7cb6c14ca1edec9f9ed7b607ef3c8&quot; style=&quot;width: 100.0%; height: 100.0%;&quot;&gt;IMPERIAL Cluster 0&lt;/div&gt;`)[0];\n            popup_26ab6de0309615f1e08e41c930d16340.setContent(html_7ba7cb6c14ca1edec9f9ed7b607ef3c8);\n        \n\n        circle_marker_fc2e79875e0827731537aaf679b5fbb7.bindPopup(popup_26ab6de0309615f1e08e41c930d16340)\n        ;\n\n        \n    \n    \n            var circle_marker_3ad416b894bbb3ea202818fae3293049 = L.circleMarker(\n                [40.40137000000004, -3.7066899999999805],\n                {&quot;bubblingMouseEvents&quot;: true, &quot;color&quot;: &quot;#3388ff&quot;, &quot;dashArray&quot;: null, &quot;dashOffset&quot;: null, &quot;fill&quot;: true, &quot;fillColor&quot;: &quot;#3388ff&quot;, &quot;fillOpacity&quot;: 0.7, &quot;fillRule&quot;: &quot;evenodd&quot;, &quot;lineCap&quot;: &quot;round&quot;, &quot;lineJoin&quot;: &quot;round&quot;, &quot;opacity&quot;: 1.0, &quot;radius&quot;: 5, &quot;stroke&quot;: true, &quot;weight&quot;: 3}\n            ).addTo(map_79f8d12debbb9fd5457e360a0677c10a);\n        \n    \n        var popup_670ba153920d0db8686bcef93784926a = L.popup({&quot;maxWidth&quot;: &quot;100%&quot;});\n\n        \n            var html_50dbfcc5c081e95ae80eb690f799b1ec = $(`&lt;div id=&quot;html_50dbfcc5c081e95ae80eb690f799b1ec&quot; style=&quot;width: 100.0%; height: 100.0%;&quot;&gt;ACACIAS Cluster 0&lt;/div&gt;`)[0];\n            popup_670ba153920d0db8686bcef93784926a.setContent(html_50dbfcc5c081e95ae80eb690f799b1ec);\n        \n\n        circle_marker_3ad416b894bbb3ea202818fae3293049.bindPopup(popup_670ba153920d0db8686bcef93784926a)\n        ;\n\n        \n    \n    \n            var circle_marker_1b567d158468f9351da7c776a883ac00 = L.circleMarker(\n                [40.39536000000004, -3.6983299999999417],\n                {&quot;bubblingMouseEvents&quot;: true, &quot;color&quot;: &quot;#3388ff&quot;, &quot;dashArray&quot;: null, &quot;dashOffset&quot;: null, &quot;fill&quot;: true, &quot;fillColor&quot;: &quot;#3388ff&quot;, &quot;fillOpacity&quot;: 0.7, &quot;fillRule&quot;: &quot;evenodd&quot;, &quot;lineCap&quot;: &quot;round&quot;, &quot;lineJoin&quot;: &quot;round&quot;, &quot;opacity&quot;: 1.0, &quot;radius&quot;: 5, &quot;stroke&quot;: true, &quot;weight&quot;: 3}\n            ).addTo(map_79f8d12debbb9fd5457e360a0677c10a);\n        \n    \n        var popup_450348a67d81c609443665eb139a0abc = L.popup({&quot;maxWidth&quot;: &quot;100%&quot;});\n\n        \n            var html_d3346a21e17bd9b686c0d16462d59239 = $(`&lt;div id=&quot;html_d3346a21e17bd9b686c0d16462d59239&quot; style=&quot;width: 100.0%; height: 100.0%;&quot;&gt;CHOPERA Cluster 0&lt;/div&gt;`)[0];\n            popup_450348a67d81c609443665eb139a0abc.setContent(html_d3346a21e17bd9b686c0d16462d59239);\n        \n\n        circle_marker_1b567d158468f9351da7c776a883ac00.bindPopup(popup_450348a67d81c609443665eb139a0abc)\n        ;\n\n        \n    \n    \n            var circle_marker_8a5fcacb066ca82608972ed6149414de = L.circleMarker(\n                [40.38701000000003, -3.6898899999999344],\n                {&quot;bubblingMouseEvents&quot;: true, &quot;color&quot;: &quot;#3388ff&quot;, &quot;dashArray&quot;: null, &quot;dashOffset&quot;: null, &quot;fill&quot;: true, &quot;fillColor&quot;: &quot;#3388ff&quot;, &quot;fillOpacity&quot;: 0.7, &quot;fillRule&quot;: &quot;evenodd&quot;, &quot;lineCap&quot;: &quot;round&quot;, &quot;lineJoin&quot;: &quot;round&quot;, &quot;opacity&quot;: 1.0, &quot;radius&quot;: 5, &quot;stroke&quot;: true, &quot;weight&quot;: 3}\n            ).addTo(map_79f8d12debbb9fd5457e360a0677c10a);\n        \n    \n        var popup_8470f8eddf6ed72ec84fd78738f713be = L.popup({&quot;maxWidth&quot;: &quot;100%&quot;});\n\n        \n            var html_e05f5d278bcd7e9e265d75bcaa942f8a = $(`&lt;div id=&quot;html_e05f5d278bcd7e9e265d75bcaa942f8a&quot; style=&quot;width: 100.0%; height: 100.0%;&quot;&gt;LEGAZPI Cluster 2&lt;/div&gt;`)[0];\n            popup_8470f8eddf6ed72ec84fd78738f713be.setContent(html_e05f5d278bcd7e9e265d75bcaa942f8a);\n        \n\n        circle_marker_8a5fcacb066ca82608972ed6149414de.bindPopup(popup_8470f8eddf6ed72ec84fd78738f713be)\n        ;\n\n        \n    \n    \n            var circle_marker_6c2e62290108a7d714fa254c21e1016f = L.circleMarker(\n                [40.39613000000003, -3.68945999999994],\n                {&quot;bubblingMouseEvents&quot;: true, &quot;color&quot;: &quot;#3388ff&quot;, &quot;dashArray&quot;: null, &quot;dashOffset&quot;: null, &quot;fill&quot;: true, &quot;fillColor&quot;: &quot;#3388ff&quot;, &quot;fillOpacity&quot;: 0.7, &quot;fillRule&quot;: &quot;evenodd&quot;, &quot;lineCap&quot;: &quot;round&quot;, &quot;lineJoin&quot;: &quot;round&quot;, &quot;opacity&quot;: 1.0, &quot;radius&quot;: 5, &quot;stroke&quot;: true, &quot;weight&quot;: 3}\n            ).addTo(map_79f8d12debbb9fd5457e360a0677c10a);\n        \n    \n        var popup_50e3f9b2d28d73f2185b4774ffce3776 = L.popup({&quot;maxWidth&quot;: &quot;100%&quot;});\n\n        \n            var html_adf9387ad7d2bf2ff0484c473218b8ed = $(`&lt;div id=&quot;html_adf9387ad7d2bf2ff0484c473218b8ed&quot; style=&quot;width: 100.0%; height: 100.0%;&quot;&gt;DELICIAS Cluster 2&lt;/div&gt;`)[0];\n            popup_50e3f9b2d28d73f2185b4774ffce3776.setContent(html_adf9387ad7d2bf2ff0484c473218b8ed);\n        \n\n        circle_marker_6c2e62290108a7d714fa254c21e1016f.bindPopup(popup_50e3f9b2d28d73f2185b4774ffce3776)\n        ;\n\n        \n    \n    \n            var circle_marker_6393bafe2320d84726adb5eb495db4aa = L.circleMarker(\n                [40.40301000000005, -3.6935799999999404],\n                {&quot;bubblingMouseEvents&quot;: true, &quot;color&quot;: &quot;#3388ff&quot;, &quot;dashArray&quot;: null, &quot;dashOffset&quot;: null, &quot;fill&quot;: true, &quot;fillColor&quot;: &quot;#3388ff&quot;, &quot;fillOpacity&quot;: 0.7, &quot;fillRule&quot;: &quot;evenodd&quot;, &quot;lineCap&quot;: &quot;round&quot;, &quot;lineJoin&quot;: &quot;round&quot;, &quot;opacity&quot;: 1.0, &quot;radius&quot;: 5, &quot;stroke&quot;: true, &quot;weight&quot;: 3}\n            ).addTo(map_79f8d12debbb9fd5457e360a0677c10a);\n        \n    \n        var popup_21bbf93cc0fd147827590d148f463b8a = L.popup({&quot;maxWidth&quot;: &quot;100%&quot;});\n\n        \n            var html_0a7fe59f6163d9a73d91aa3b94095ab3 = $(`&lt;div id=&quot;html_0a7fe59f6163d9a73d91aa3b94095ab3&quot; style=&quot;width: 100.0%; height: 100.0%;&quot;&gt;PALOS DE MOGUER Cluster 0&lt;/div&gt;`)[0];\n            popup_21bbf93cc0fd147827590d148f463b8a.setContent(html_0a7fe59f6163d9a73d91aa3b94095ab3);\n        \n\n        circle_marker_6393bafe2320d84726adb5eb495db4aa.bindPopup(popup_21bbf93cc0fd147827590d148f463b8a)\n        ;\n\n        \n    \n    \n            var circle_marker_a0cbfbf41c946c4a7a417e1fd8ce952d = L.circleMarker(\n                [40.400540000000035, -3.6839199999999437],\n                {&quot;bubblingMouseEvents&quot;: true, &quot;color&quot;: &quot;#3388ff&quot;, &quot;dashArray&quot;: null, &quot;dashOffset&quot;: null, &quot;fill&quot;: true, &quot;fillColor&quot;: &quot;#3388ff&quot;, &quot;fillOpacity&quot;: 0.7, &quot;fillRule&quot;: &quot;evenodd&quot;, &quot;lineCap&quot;: &quot;round&quot;, &quot;lineJoin&quot;: &quot;round&quot;, &quot;opacity&quot;: 1.0, &quot;radius&quot;: 5, &quot;stroke&quot;: true, &quot;weight&quot;: 3}\n            ).addTo(map_79f8d12debbb9fd5457e360a0677c10a);\n        \n    \n        var popup_a89009bd5956f75eccb2edfbc804f3e6 = L.popup({&quot;maxWidth&quot;: &quot;100%&quot;});\n\n        \n            var html_c1f79dbf66069ad112c60173d4602254 = $(`&lt;div id=&quot;html_c1f79dbf66069ad112c60173d4602254&quot; style=&quot;width: 100.0%; height: 100.0%;&quot;&gt;ATOCHA Cluster 2&lt;/div&gt;`)[0];\n            popup_a89009bd5956f75eccb2edfbc804f3e6.setContent(html_c1f79dbf66069ad112c60173d4602254);\n        \n\n        circle_marker_a0cbfbf41c946c4a7a417e1fd8ce952d.bindPopup(popup_a89009bd5956f75eccb2edfbc804f3e6)\n        ;\n\n        \n    \n    \n            var circle_marker_7ef45bb608b987c8c10cda1fc6837852 = L.circleMarker(\n                [40.40191000000004, -3.676029999999969],\n                {&quot;bubblingMouseEvents&quot;: true, &quot;color&quot;: &quot;#3388ff&quot;, &quot;dashArray&quot;: null, &quot;dashOffset&quot;: null, &quot;fill&quot;: true, &quot;fillColor&quot;: &quot;#3388ff&quot;, &quot;fillOpacity&quot;: 0.7, &quot;fillRule&quot;: &quot;evenodd&quot;, &quot;lineCap&quot;: &quot;round&quot;, &quot;lineJoin&quot;: &quot;round&quot;, &quot;opacity&quot;: 1.0, &quot;radius&quot;: 5, &quot;stroke&quot;: true, &quot;weight&quot;: 3}\n            ).addTo(map_79f8d12debbb9fd5457e360a0677c10a);\n        \n    \n        var popup_1ad0047826fc8b5200f7299488c5015e = L.popup({&quot;maxWidth&quot;: &quot;100%&quot;});\n\n        \n            var html_522e3b37da8ea825e3d2ce31c262d8f0 = $(`&lt;div id=&quot;html_522e3b37da8ea825e3d2ce31c262d8f0&quot; style=&quot;width: 100.0%; height: 100.0%;&quot;&gt;PACIFICO Cluster 0&lt;/div&gt;`)[0];\n            popup_1ad0047826fc8b5200f7299488c5015e.setContent(html_522e3b37da8ea825e3d2ce31c262d8f0);\n        \n\n        circle_marker_7ef45bb608b987c8c10cda1fc6837852.bindPopup(popup_1ad0047826fc8b5200f7299488c5015e)\n        ;\n\n        \n    \n    \n            var circle_marker_5f9668f1d027ac5635453e631a37153a = L.circleMarker(\n                [40.40173000000004, -3.6728799999999637],\n                {&quot;bubblingMouseEvents&quot;: true, &quot;color&quot;: &quot;#3388ff&quot;, &quot;dashArray&quot;: null, &quot;dashOffset&quot;: null, &quot;fill&quot;: true, &quot;fillColor&quot;: &quot;#3388ff&quot;, &quot;fillOpacity&quot;: 0.7, &quot;fillRule&quot;: &quot;evenodd&quot;, &quot;lineCap&quot;: &quot;round&quot;, &quot;lineJoin&quot;: &quot;round&quot;, &quot;opacity&quot;: 1.0, &quot;radius&quot;: 5, &quot;stroke&quot;: true, &quot;weight&quot;: 3}\n            ).addTo(map_79f8d12debbb9fd5457e360a0677c10a);\n        \n    \n        var popup_4011f915b2eb0d6fb6462e8412f2a021 = L.popup({&quot;maxWidth&quot;: &quot;100%&quot;});\n\n        \n            var html_15a4ce0dd837d823cea09ef2c3c0786d = $(`&lt;div id=&quot;html_15a4ce0dd837d823cea09ef2c3c0786d&quot; style=&quot;width: 100.0%; height: 100.0%;&quot;&gt;ADELFAS Cluster 0&lt;/div&gt;`)[0];\n            popup_4011f915b2eb0d6fb6462e8412f2a021.setContent(html_15a4ce0dd837d823cea09ef2c3c0786d);\n        \n\n        circle_marker_5f9668f1d027ac5635453e631a37153a.bindPopup(popup_4011f915b2eb0d6fb6462e8412f2a021)\n        ;\n\n        \n    \n    \n            var circle_marker_7a53d43ee44a1485a9cc30b3fd0831ee = L.circleMarker(\n                [40.41117000000003, -3.665929999999946],\n                {&quot;bubblingMouseEvents&quot;: true, &quot;color&quot;: &quot;#3388ff&quot;, &quot;dashArray&quot;: null, &quot;dashOffset&quot;: null, &quot;fill&quot;: true, &quot;fillColor&quot;: &quot;#3388ff&quot;, &quot;fillOpacity&quot;: 0.7, &quot;fillRule&quot;: &quot;evenodd&quot;, &quot;lineCap&quot;: &quot;round&quot;, &quot;lineJoin&quot;: &quot;round&quot;, &quot;opacity&quot;: 1.0, &quot;radius&quot;: 5, &quot;stroke&quot;: true, &quot;weight&quot;: 3}\n            ).addTo(map_79f8d12debbb9fd5457e360a0677c10a);\n        \n    \n        var popup_5a6e38892113ac323c22532da6456cf7 = L.popup({&quot;maxWidth&quot;: &quot;100%&quot;});\n\n        \n            var html_c505c170b1febd3bfcaf803894033d60 = $(`&lt;div id=&quot;html_c505c170b1febd3bfcaf803894033d60&quot; style=&quot;width: 100.0%; height: 100.0%;&quot;&gt;ESTRELLA Cluster 0&lt;/div&gt;`)[0];\n            popup_5a6e38892113ac323c22532da6456cf7.setContent(html_c505c170b1febd3bfcaf803894033d60);\n        \n\n        circle_marker_7a53d43ee44a1485a9cc30b3fd0831ee.bindPopup(popup_5a6e38892113ac323c22532da6456cf7)\n        ;\n\n        \n    \n    \n            var circle_marker_c05074e0913d5613017837638c4398d6 = L.circleMarker(\n                [40.417940000000044, -3.6762599999999566],\n                {&quot;bubblingMouseEvents&quot;: true, &quot;color&quot;: &quot;#3388ff&quot;, &quot;dashArray&quot;: null, &quot;dashOffset&quot;: null, &quot;fill&quot;: true, &quot;fillColor&quot;: &quot;#3388ff&quot;, &quot;fillOpacity&quot;: 0.7, &quot;fillRule&quot;: &quot;evenodd&quot;, &quot;lineCap&quot;: &quot;round&quot;, &quot;lineJoin&quot;: &quot;round&quot;, &quot;opacity&quot;: 1.0, &quot;radius&quot;: 5, &quot;stroke&quot;: true, &quot;weight&quot;: 3}\n            ).addTo(map_79f8d12debbb9fd5457e360a0677c10a);\n        \n    \n        var popup_6bcbf5564d08bd44cedaece03cb6d8b8 = L.popup({&quot;maxWidth&quot;: &quot;100%&quot;});\n\n        \n            var html_a3ea473ab804bf40541be16cc3ca110b = $(`&lt;div id=&quot;html_a3ea473ab804bf40541be16cc3ca110b&quot; style=&quot;width: 100.0%; height: 100.0%;&quot;&gt;IBIZA Cluster 0&lt;/div&gt;`)[0];\n            popup_6bcbf5564d08bd44cedaece03cb6d8b8.setContent(html_a3ea473ab804bf40541be16cc3ca110b);\n        \n\n        circle_marker_c05074e0913d5613017837638c4398d6.bindPopup(popup_6bcbf5564d08bd44cedaece03cb6d8b8)\n        ;\n\n        \n    \n    \n            var circle_marker_a6c49a9bed5d765b4217d65a385b3ff8 = L.circleMarker(\n                [40.41407000000004, -3.6902299999999286],\n                {&quot;bubblingMouseEvents&quot;: true, &quot;color&quot;: &quot;#3388ff&quot;, &quot;dashArray&quot;: null, &quot;dashOffset&quot;: null, &quot;fill&quot;: true, &quot;fillColor&quot;: &quot;#3388ff&quot;, &quot;fillOpacity&quot;: 0.7, &quot;fillRule&quot;: &quot;evenodd&quot;, &quot;lineCap&quot;: &quot;round&quot;, &quot;lineJoin&quot;: &quot;round&quot;, &quot;opacity&quot;: 1.0, &quot;radius&quot;: 5, &quot;stroke&quot;: true, &quot;weight&quot;: 3}\n            ).addTo(map_79f8d12debbb9fd5457e360a0677c10a);\n        \n    \n        var popup_7727a297ec1f1ff994c4317a9beb4978 = L.popup({&quot;maxWidth&quot;: &quot;100%&quot;});\n\n        \n            var html_78837a2fed0f3bcf55faf950d31b7c97 = $(`&lt;div id=&quot;html_78837a2fed0f3bcf55faf950d31b7c97&quot; style=&quot;width: 100.0%; height: 100.0%;&quot;&gt;LOS JERONIMOS Cluster 2&lt;/div&gt;`)[0];\n            popup_7727a297ec1f1ff994c4317a9beb4978.setContent(html_78837a2fed0f3bcf55faf950d31b7c97);\n        \n\n        circle_marker_a6c49a9bed5d765b4217d65a385b3ff8.bindPopup(popup_7727a297ec1f1ff994c4317a9beb4978)\n        ;\n\n        \n    \n    \n            var circle_marker_eb1f5ca97507bfbd74b5846644919cc7 = L.circleMarker(\n                [40.41095000000007, -3.67229999999995],\n                {&quot;bubblingMouseEvents&quot;: true, &quot;color&quot;: &quot;#3388ff&quot;, &quot;dashArray&quot;: null, &quot;dashOffset&quot;: null, &quot;fill&quot;: true, &quot;fillColor&quot;: &quot;#3388ff&quot;, &quot;fillOpacity&quot;: 0.7, &quot;fillRule&quot;: &quot;evenodd&quot;, &quot;lineCap&quot;: &quot;round&quot;, &quot;lineJoin&quot;: &quot;round&quot;, &quot;opacity&quot;: 1.0, &quot;radius&quot;: 5, &quot;stroke&quot;: true, &quot;weight&quot;: 3}\n            ).addTo(map_79f8d12debbb9fd5457e360a0677c10a);\n        \n    \n        var popup_c65718ca9155bcf45285a245a4a098df = L.popup({&quot;maxWidth&quot;: &quot;100%&quot;});\n\n        \n            var html_33a706a781abe6c54325af265041eb91 = $(`&lt;div id=&quot;html_33a706a781abe6c54325af265041eb91&quot; style=&quot;width: 100.0%; height: 100.0%;&quot;&gt;NINO JESUS Cluster 0&lt;/div&gt;`)[0];\n            popup_c65718ca9155bcf45285a245a4a098df.setContent(html_33a706a781abe6c54325af265041eb91);\n        \n\n        circle_marker_eb1f5ca97507bfbd74b5846644919cc7.bindPopup(popup_c65718ca9155bcf45285a245a4a098df)\n        ;\n\n        \n    \n    \n            var circle_marker_45a67812ef56ef5fbe268181c36e03b1 = L.circleMarker(\n                [40.42530000000005, -3.6865099999999416],\n                {&quot;bubblingMouseEvents&quot;: true, &quot;color&quot;: &quot;#3388ff&quot;, &quot;dashArray&quot;: null, &quot;dashOffset&quot;: null, &quot;fill&quot;: true, &quot;fillColor&quot;: &quot;#3388ff&quot;, &quot;fillOpacity&quot;: 0.7, &quot;fillRule&quot;: &quot;evenodd&quot;, &quot;lineCap&quot;: &quot;round&quot;, &quot;lineJoin&quot;: &quot;round&quot;, &quot;opacity&quot;: 1.0, &quot;radius&quot;: 5, &quot;stroke&quot;: true, &quot;weight&quot;: 3}\n            ).addTo(map_79f8d12debbb9fd5457e360a0677c10a);\n        \n    \n        var popup_b48dd836e12874d73c568cb945b4970c = L.popup({&quot;maxWidth&quot;: &quot;100%&quot;});\n\n        \n            var html_71e8f19d699701041b128e4c564c5655 = $(`&lt;div id=&quot;html_71e8f19d699701041b128e4c564c5655&quot; style=&quot;width: 100.0%; height: 100.0%;&quot;&gt;RECOLETOS Cluster 3&lt;/div&gt;`)[0];\n            popup_b48dd836e12874d73c568cb945b4970c.setContent(html_71e8f19d699701041b128e4c564c5655);\n        \n\n        circle_marker_45a67812ef56ef5fbe268181c36e03b1.bindPopup(popup_b48dd836e12874d73c568cb945b4970c)\n        ;\n\n        \n    \n    \n            var circle_marker_3b7e484b9d9b2e8b50ac128c1d0d4655 = L.circleMarker(\n                [40.425470000000075, -3.6741799999999785],\n                {&quot;bubblingMouseEvents&quot;: true, &quot;color&quot;: &quot;#3388ff&quot;, &quot;dashArray&quot;: null, &quot;dashOffset&quot;: null, &quot;fill&quot;: true, &quot;fillColor&quot;: &quot;#3388ff&quot;, &quot;fillOpacity&quot;: 0.7, &quot;fillRule&quot;: &quot;evenodd&quot;, &quot;lineCap&quot;: &quot;round&quot;, &quot;lineJoin&quot;: &quot;round&quot;, &quot;opacity&quot;: 1.0, &quot;radius&quot;: 5, &quot;stroke&quot;: true, &quot;weight&quot;: 3}\n            ).addTo(map_79f8d12debbb9fd5457e360a0677c10a);\n        \n    \n        var popup_eb047db89fcd792bd74e18266bb02b44 = L.popup({&quot;maxWidth&quot;: &quot;100%&quot;});\n\n        \n            var html_6b77fe4a6b7f524687d67f5870ab9772 = $(`&lt;div id=&quot;html_6b77fe4a6b7f524687d67f5870ab9772&quot; style=&quot;width: 100.0%; height: 100.0%;&quot;&gt;GOYA Cluster 0&lt;/div&gt;`)[0];\n            popup_eb047db89fcd792bd74e18266bb02b44.setContent(html_6b77fe4a6b7f524687d67f5870ab9772);\n        \n\n        circle_marker_3b7e484b9d9b2e8b50ac128c1d0d4655.bindPopup(popup_eb047db89fcd792bd74e18266bb02b44)\n        ;\n\n        \n    \n    \n            var circle_marker_8fd9f04013fc2ac648dba3f84cec83ac = L.circleMarker(\n                [40.42376000000007, -3.667539999999974],\n                {&quot;bubblingMouseEvents&quot;: true, &quot;color&quot;: &quot;#3388ff&quot;, &quot;dashArray&quot;: null, &quot;dashOffset&quot;: null, &quot;fill&quot;: true, &quot;fillColor&quot;: &quot;#3388ff&quot;, &quot;fillOpacity&quot;: 0.7, &quot;fillRule&quot;: &quot;evenodd&quot;, &quot;lineCap&quot;: &quot;round&quot;, &quot;lineJoin&quot;: &quot;round&quot;, &quot;opacity&quot;: 1.0, &quot;radius&quot;: 5, &quot;stroke&quot;: true, &quot;weight&quot;: 3}\n            ).addTo(map_79f8d12debbb9fd5457e360a0677c10a);\n        \n    \n        var popup_e450cba7112a8b169f00e88e5261269a = L.popup({&quot;maxWidth&quot;: &quot;100%&quot;});\n\n        \n            var html_8ff4f7f211377c3e8639c7c1b4fdd71d = $(`&lt;div id=&quot;html_8ff4f7f211377c3e8639c7c1b4fdd71d&quot; style=&quot;width: 100.0%; height: 100.0%;&quot;&gt;FUENTE DEL BERRO Cluster 0&lt;/div&gt;`)[0];\n            popup_e450cba7112a8b169f00e88e5261269a.setContent(html_8ff4f7f211377c3e8639c7c1b4fdd71d);\n        \n\n        circle_marker_8fd9f04013fc2ac648dba3f84cec83ac.bindPopup(popup_e450cba7112a8b169f00e88e5261269a)\n        ;\n\n        \n    \n    \n            var circle_marker_c0721ba8592bb4bdc5c943534708f516 = L.circleMarker(\n                [40.43241000000006, -3.66599999999994],\n                {&quot;bubblingMouseEvents&quot;: true, &quot;color&quot;: &quot;#3388ff&quot;, &quot;dashArray&quot;: null, &quot;dashOffset&quot;: null, &quot;fill&quot;: true, &quot;fillColor&quot;: &quot;#3388ff&quot;, &quot;fillOpacity&quot;: 0.7, &quot;fillRule&quot;: &quot;evenodd&quot;, &quot;lineCap&quot;: &quot;round&quot;, &quot;lineJoin&quot;: &quot;round&quot;, &quot;opacity&quot;: 1.0, &quot;radius&quot;: 5, &quot;stroke&quot;: true, &quot;weight&quot;: 3}\n            ).addTo(map_79f8d12debbb9fd5457e360a0677c10a);\n        \n    \n        var popup_5097d94991d4ec3632bdbb23681814d8 = L.popup({&quot;maxWidth&quot;: &quot;100%&quot;});\n\n        \n            var html_49fdc455fd6fe023e7c3447faeb3a827 = $(`&lt;div id=&quot;html_49fdc455fd6fe023e7c3447faeb3a827&quot; style=&quot;width: 100.0%; height: 100.0%;&quot;&gt;GUINDALERA Cluster 0&lt;/div&gt;`)[0];\n            popup_5097d94991d4ec3632bdbb23681814d8.setContent(html_49fdc455fd6fe023e7c3447faeb3a827);\n        \n\n        circle_marker_c0721ba8592bb4bdc5c943534708f516.bindPopup(popup_5097d94991d4ec3632bdbb23681814d8)\n        ;\n\n        \n    \n    \n            var circle_marker_b17a20841f939fa50ee7a6005dff42ab = L.circleMarker(\n                [40.43231000000003, -3.67507999999998],\n                {&quot;bubblingMouseEvents&quot;: true, &quot;color&quot;: &quot;#3388ff&quot;, &quot;dashArray&quot;: null, &quot;dashOffset&quot;: null, &quot;fill&quot;: true, &quot;fillColor&quot;: &quot;#3388ff&quot;, &quot;fillOpacity&quot;: 0.7, &quot;fillRule&quot;: &quot;evenodd&quot;, &quot;lineCap&quot;: &quot;round&quot;, &quot;lineJoin&quot;: &quot;round&quot;, &quot;opacity&quot;: 1.0, &quot;radius&quot;: 5, &quot;stroke&quot;: true, &quot;weight&quot;: 3}\n            ).addTo(map_79f8d12debbb9fd5457e360a0677c10a);\n        \n    \n        var popup_9fc46cd6e15dd627483d6b5a76053538 = L.popup({&quot;maxWidth&quot;: &quot;100%&quot;});\n\n        \n            var html_8ea8e79018cc14bc7ffab20aa64202be = $(`&lt;div id=&quot;html_8ea8e79018cc14bc7ffab20aa64202be&quot; style=&quot;width: 100.0%; height: 100.0%;&quot;&gt;LISTA Cluster 0&lt;/div&gt;`)[0];\n            popup_9fc46cd6e15dd627483d6b5a76053538.setContent(html_8ea8e79018cc14bc7ffab20aa64202be);\n        \n\n        circle_marker_b17a20841f939fa50ee7a6005dff42ab.bindPopup(popup_9fc46cd6e15dd627483d6b5a76053538)\n        ;\n\n        \n    \n    \n            var circle_marker_887d430e58f560a84107431d7f335101 = L.circleMarker(\n                [40.43494000000004, -3.6831899999999678],\n                {&quot;bubblingMouseEvents&quot;: true, &quot;color&quot;: &quot;#3388ff&quot;, &quot;dashArray&quot;: null, &quot;dashOffset&quot;: null, &quot;fill&quot;: true, &quot;fillColor&quot;: &quot;#3388ff&quot;, &quot;fillOpacity&quot;: 0.7, &quot;fillRule&quot;: &quot;evenodd&quot;, &quot;lineCap&quot;: &quot;round&quot;, &quot;lineJoin&quot;: &quot;round&quot;, &quot;opacity&quot;: 1.0, &quot;radius&quot;: 5, &quot;stroke&quot;: true, &quot;weight&quot;: 3}\n            ).addTo(map_79f8d12debbb9fd5457e360a0677c10a);\n        \n    \n        var popup_783432d022fe9ccfeebcf79cae715b03 = L.popup({&quot;maxWidth&quot;: &quot;100%&quot;});\n\n        \n            var html_a4226e9ae77697faf2693e48dbca29e6 = $(`&lt;div id=&quot;html_a4226e9ae77697faf2693e48dbca29e6&quot; style=&quot;width: 100.0%; height: 100.0%;&quot;&gt;CASTELLANA Cluster 2&lt;/div&gt;`)[0];\n            popup_783432d022fe9ccfeebcf79cae715b03.setContent(html_a4226e9ae77697faf2693e48dbca29e6);\n        \n\n        circle_marker_887d430e58f560a84107431d7f335101.bindPopup(popup_783432d022fe9ccfeebcf79cae715b03)\n        ;\n\n        \n    \n    \n            var circle_marker_26e93cb0e9625c7c9626b40ae86f2a6c = L.circleMarker(\n                [40.447460000000035, -3.68542999999994],\n                {&quot;bubblingMouseEvents&quot;: true, &quot;color&quot;: &quot;#3388ff&quot;, &quot;dashArray&quot;: null, &quot;dashOffset&quot;: null, &quot;fill&quot;: true, &quot;fillColor&quot;: &quot;#3388ff&quot;, &quot;fillOpacity&quot;: 0.7, &quot;fillRule&quot;: &quot;evenodd&quot;, &quot;lineCap&quot;: &quot;round&quot;, &quot;lineJoin&quot;: &quot;round&quot;, &quot;opacity&quot;: 1.0, &quot;radius&quot;: 5, &quot;stroke&quot;: true, &quot;weight&quot;: 3}\n            ).addTo(map_79f8d12debbb9fd5457e360a0677c10a);\n        \n    \n        var popup_d68e327d40957153c08bb4efc9bcf2b6 = L.popup({&quot;maxWidth&quot;: &quot;100%&quot;});\n\n        \n            var html_1887d5bf511f286b01fe3fafb72f3d2a = $(`&lt;div id=&quot;html_1887d5bf511f286b01fe3fafb72f3d2a&quot; style=&quot;width: 100.0%; height: 100.0%;&quot;&gt;EL VISO Cluster 0&lt;/div&gt;`)[0];\n            popup_d68e327d40957153c08bb4efc9bcf2b6.setContent(html_1887d5bf511f286b01fe3fafb72f3d2a);\n        \n\n        circle_marker_26e93cb0e9625c7c9626b40ae86f2a6c.bindPopup(popup_d68e327d40957153c08bb4efc9bcf2b6)\n        ;\n\n        \n    \n    \n            var circle_marker_0ff08d89ba002191959038f4e060c7e3 = L.circleMarker(\n                [40.44180000000006, -3.669249999999977],\n                {&quot;bubblingMouseEvents&quot;: true, &quot;color&quot;: &quot;#3388ff&quot;, &quot;dashArray&quot;: null, &quot;dashOffset&quot;: null, &quot;fill&quot;: true, &quot;fillColor&quot;: &quot;#3388ff&quot;, &quot;fillOpacity&quot;: 0.7, &quot;fillRule&quot;: &quot;evenodd&quot;, &quot;lineCap&quot;: &quot;round&quot;, &quot;lineJoin&quot;: &quot;round&quot;, &quot;opacity&quot;: 1.0, &quot;radius&quot;: 5, &quot;stroke&quot;: true, &quot;weight&quot;: 3}\n            ).addTo(map_79f8d12debbb9fd5457e360a0677c10a);\n        \n    \n        var popup_1b2f61f24160658562102be880652ee2 = L.popup({&quot;maxWidth&quot;: &quot;100%&quot;});\n\n        \n            var html_aae92e0f93d59a5625b24f65d0b2b227 = $(`&lt;div id=&quot;html_aae92e0f93d59a5625b24f65d0b2b227&quot; style=&quot;width: 100.0%; height: 100.0%;&quot;&gt;PROSPERIDAD Cluster 0&lt;/div&gt;`)[0];\n            popup_1b2f61f24160658562102be880652ee2.setContent(html_aae92e0f93d59a5625b24f65d0b2b227);\n        \n\n        circle_marker_0ff08d89ba002191959038f4e060c7e3.bindPopup(popup_1b2f61f24160658562102be880652ee2)\n        ;\n\n        \n    \n    \n            var circle_marker_ce5f4abe99a49b7d05ca04770044168d = L.circleMarker(\n                [40.45046000000008, -3.6677099999999427],\n                {&quot;bubblingMouseEvents&quot;: true, &quot;color&quot;: &quot;#3388ff&quot;, &quot;dashArray&quot;: null, &quot;dashOffset&quot;: null, &quot;fill&quot;: true, &quot;fillColor&quot;: &quot;#3388ff&quot;, &quot;fillOpacity&quot;: 0.7, &quot;fillRule&quot;: &quot;evenodd&quot;, &quot;lineCap&quot;: &quot;round&quot;, &quot;lineJoin&quot;: &quot;round&quot;, &quot;opacity&quot;: 1.0, &quot;radius&quot;: 5, &quot;stroke&quot;: true, &quot;weight&quot;: 3}\n            ).addTo(map_79f8d12debbb9fd5457e360a0677c10a);\n        \n    \n        var popup_9484d12a22ed8bce6881c18d04acd76e = L.popup({&quot;maxWidth&quot;: &quot;100%&quot;});\n\n        \n            var html_fbfedc232096e4dade8e9bcad92db98e = $(`&lt;div id=&quot;html_fbfedc232096e4dade8e9bcad92db98e&quot; style=&quot;width: 100.0%; height: 100.0%;&quot;&gt;CIUDAD JARDIN Cluster 2&lt;/div&gt;`)[0];\n            popup_9484d12a22ed8bce6881c18d04acd76e.setContent(html_fbfedc232096e4dade8e9bcad92db98e);\n        \n\n        circle_marker_ce5f4abe99a49b7d05ca04770044168d.bindPopup(popup_9484d12a22ed8bce6881c18d04acd76e)\n        ;\n\n        \n    \n    \n            var circle_marker_6c7b23e7e451e4c40cc1176b0169adbe = L.circleMarker(\n                [40.45688000000007, -3.6769799999999577],\n                {&quot;bubblingMouseEvents&quot;: true, &quot;color&quot;: &quot;#3388ff&quot;, &quot;dashArray&quot;: null, &quot;dashOffset&quot;: null, &quot;fill&quot;: true, &quot;fillColor&quot;: &quot;#3388ff&quot;, &quot;fillOpacity&quot;: 0.7, &quot;fillRule&quot;: &quot;evenodd&quot;, &quot;lineCap&quot;: &quot;round&quot;, &quot;lineJoin&quot;: &quot;round&quot;, &quot;opacity&quot;: 1.0, &quot;radius&quot;: 5, &quot;stroke&quot;: true, &quot;weight&quot;: 3}\n            ).addTo(map_79f8d12debbb9fd5457e360a0677c10a);\n        \n    \n        var popup_9993d4b837b6431cb19c2f0d13768fde = L.popup({&quot;maxWidth&quot;: &quot;100%&quot;});\n\n        \n            var html_e8e119e2e6744d9eb7f206fb4f1cc37c = $(`&lt;div id=&quot;html_e8e119e2e6744d9eb7f206fb4f1cc37c&quot; style=&quot;width: 100.0%; height: 100.0%;&quot;&gt;HISPANOAMERICA Cluster 0&lt;/div&gt;`)[0];\n            popup_9993d4b837b6431cb19c2f0d13768fde.setContent(html_e8e119e2e6744d9eb7f206fb4f1cc37c);\n        \n\n        circle_marker_6c7b23e7e451e4c40cc1176b0169adbe.bindPopup(popup_9993d4b837b6431cb19c2f0d13768fde)\n        ;\n\n        \n    \n    \n            var circle_marker_9349db899c38394676d35665536ebca9 = L.circleMarker(\n                [40.46412000000004, -3.6797999999999433],\n                {&quot;bubblingMouseEvents&quot;: true, &quot;color&quot;: &quot;#3388ff&quot;, &quot;dashArray&quot;: null, &quot;dashOffset&quot;: null, &quot;fill&quot;: true, &quot;fillColor&quot;: &quot;#3388ff&quot;, &quot;fillOpacity&quot;: 0.7, &quot;fillRule&quot;: &quot;evenodd&quot;, &quot;lineCap&quot;: &quot;round&quot;, &quot;lineJoin&quot;: &quot;round&quot;, &quot;opacity&quot;: 1.0, &quot;radius&quot;: 5, &quot;stroke&quot;: true, &quot;weight&quot;: 3}\n            ).addTo(map_79f8d12debbb9fd5457e360a0677c10a);\n        \n    \n        var popup_bb0ac41d36ba62ac021c72c28c6af5e8 = L.popup({&quot;maxWidth&quot;: &quot;100%&quot;});\n\n        \n            var html_29247efbc02868f16e01adeb3cc9cd26 = $(`&lt;div id=&quot;html_29247efbc02868f16e01adeb3cc9cd26&quot; style=&quot;width: 100.0%; height: 100.0%;&quot;&gt;NUEVA ESPANA Cluster 2&lt;/div&gt;`)[0];\n            popup_bb0ac41d36ba62ac021c72c28c6af5e8.setContent(html_29247efbc02868f16e01adeb3cc9cd26);\n        \n\n        circle_marker_9349db899c38394676d35665536ebca9.bindPopup(popup_bb0ac41d36ba62ac021c72c28c6af5e8)\n        ;\n\n        \n    \n    \n            var circle_marker_b0cea88ee5542c001b5aaf96bd32df38 = L.circleMarker(\n                [40.471310000000074, -3.675999999999931],\n                {&quot;bubblingMouseEvents&quot;: true, &quot;color&quot;: &quot;#3388ff&quot;, &quot;dashArray&quot;: null, &quot;dashOffset&quot;: null, &quot;fill&quot;: true, &quot;fillColor&quot;: &quot;#3388ff&quot;, &quot;fillOpacity&quot;: 0.7, &quot;fillRule&quot;: &quot;evenodd&quot;, &quot;lineCap&quot;: &quot;round&quot;, &quot;lineJoin&quot;: &quot;round&quot;, &quot;opacity&quot;: 1.0, &quot;radius&quot;: 5, &quot;stroke&quot;: true, &quot;weight&quot;: 3}\n            ).addTo(map_79f8d12debbb9fd5457e360a0677c10a);\n        \n    \n        var popup_8cf4d0ae2d3a15090e5ee017bb1e3a78 = L.popup({&quot;maxWidth&quot;: &quot;100%&quot;});\n\n        \n            var html_63362b2a410cbd5e4676625021c64612 = $(`&lt;div id=&quot;html_63362b2a410cbd5e4676625021c64612&quot; style=&quot;width: 100.0%; height: 100.0%;&quot;&gt;CASTILLA Cluster 2&lt;/div&gt;`)[0];\n            popup_8cf4d0ae2d3a15090e5ee017bb1e3a78.setContent(html_63362b2a410cbd5e4676625021c64612);\n        \n\n        circle_marker_b0cea88ee5542c001b5aaf96bd32df38.bindPopup(popup_8cf4d0ae2d3a15090e5ee017bb1e3a78)\n        ;\n\n        \n    \n    \n            var circle_marker_18800728e484f0bc44f83ddf4710d8fa = L.circleMarker(\n                [40.45457000000005, -3.7055199999999786],\n                {&quot;bubblingMouseEvents&quot;: true, &quot;color&quot;: &quot;#3388ff&quot;, &quot;dashArray&quot;: null, &quot;dashOffset&quot;: null, &quot;fill&quot;: true, &quot;fillColor&quot;: &quot;#3388ff&quot;, &quot;fillOpacity&quot;: 0.7, &quot;fillRule&quot;: &quot;evenodd&quot;, &quot;lineCap&quot;: &quot;round&quot;, &quot;lineJoin&quot;: &quot;round&quot;, &quot;opacity&quot;: 1.0, &quot;radius&quot;: 5, &quot;stroke&quot;: true, &quot;weight&quot;: 3}\n            ).addTo(map_79f8d12debbb9fd5457e360a0677c10a);\n        \n    \n        var popup_834c54e5ba68665b701f70b2d6c0f81b = L.popup({&quot;maxWidth&quot;: &quot;100%&quot;});\n\n        \n            var html_38f25f251b695205fcf36b16a862f180 = $(`&lt;div id=&quot;html_38f25f251b695205fcf36b16a862f180&quot; style=&quot;width: 100.0%; height: 100.0%;&quot;&gt;BELLAS VISTAS Cluster 0&lt;/div&gt;`)[0];\n            popup_834c54e5ba68665b701f70b2d6c0f81b.setContent(html_38f25f251b695205fcf36b16a862f180);\n        \n\n        circle_marker_18800728e484f0bc44f83ddf4710d8fa.bindPopup(popup_834c54e5ba68665b701f70b2d6c0f81b)\n        ;\n\n        \n    \n    \n            var circle_marker_b0209167ec1290cda32bda61fe220a34 = L.circleMarker(\n                [40.45297000000005, -3.6972699999999463],\n                {&quot;bubblingMouseEvents&quot;: true, &quot;color&quot;: &quot;#3388ff&quot;, &quot;dashArray&quot;: null, &quot;dashOffset&quot;: null, &quot;fill&quot;: true, &quot;fillColor&quot;: &quot;#3388ff&quot;, &quot;fillOpacity&quot;: 0.7, &quot;fillRule&quot;: &quot;evenodd&quot;, &quot;lineCap&quot;: &quot;round&quot;, &quot;lineJoin&quot;: &quot;round&quot;, &quot;opacity&quot;: 1.0, &quot;radius&quot;: 5, &quot;stroke&quot;: true, &quot;weight&quot;: 3}\n            ).addTo(map_79f8d12debbb9fd5457e360a0677c10a);\n        \n    \n        var popup_a50552558ed0f6e554c7938fc0cc31c1 = L.popup({&quot;maxWidth&quot;: &quot;100%&quot;});\n\n        \n            var html_f7803cd1d44629df9a9fdef68e4c02ae = $(`&lt;div id=&quot;html_f7803cd1d44629df9a9fdef68e4c02ae&quot; style=&quot;width: 100.0%; height: 100.0%;&quot;&gt;CUATRO CAMINOS Cluster 0&lt;/div&gt;`)[0];\n            popup_a50552558ed0f6e554c7938fc0cc31c1.setContent(html_f7803cd1d44629df9a9fdef68e4c02ae);\n        \n\n        circle_marker_b0209167ec1290cda32bda61fe220a34.bindPopup(popup_a50552558ed0f6e554c7938fc0cc31c1)\n        ;\n\n        \n    \n    \n            var circle_marker_3d3e51bf4e158462ab2a49009d699c4c = L.circleMarker(\n                [40.459460000000036, -3.694819999999936],\n                {&quot;bubblingMouseEvents&quot;: true, &quot;color&quot;: &quot;#3388ff&quot;, &quot;dashArray&quot;: null, &quot;dashOffset&quot;: null, &quot;fill&quot;: true, &quot;fillColor&quot;: &quot;#3388ff&quot;, &quot;fillOpacity&quot;: 0.7, &quot;fillRule&quot;: &quot;evenodd&quot;, &quot;lineCap&quot;: &quot;round&quot;, &quot;lineJoin&quot;: &quot;round&quot;, &quot;opacity&quot;: 1.0, &quot;radius&quot;: 5, &quot;stroke&quot;: true, &quot;weight&quot;: 3}\n            ).addTo(map_79f8d12debbb9fd5457e360a0677c10a);\n        \n    \n        var popup_7c8dd3414b3da18ed35f5be88319642a = L.popup({&quot;maxWidth&quot;: &quot;100%&quot;});\n\n        \n            var html_8bc0440bca66f6167a91ccbd506ee33b = $(`&lt;div id=&quot;html_8bc0440bca66f6167a91ccbd506ee33b&quot; style=&quot;width: 100.0%; height: 100.0%;&quot;&gt;CASTILLEJOS Cluster 2&lt;/div&gt;`)[0];\n            popup_7c8dd3414b3da18ed35f5be88319642a.setContent(html_8bc0440bca66f6167a91ccbd506ee33b);\n        \n\n        circle_marker_3d3e51bf4e158462ab2a49009d699c4c.bindPopup(popup_7c8dd3414b3da18ed35f5be88319642a)\n        ;\n\n        \n    \n    \n            var circle_marker_3e9b13cdbe9dfd42ea91a8a2687a7f7b = L.circleMarker(\n                [40.47114000000005, -3.6958099999999376],\n                {&quot;bubblingMouseEvents&quot;: true, &quot;color&quot;: &quot;#3388ff&quot;, &quot;dashArray&quot;: null, &quot;dashOffset&quot;: null, &quot;fill&quot;: true, &quot;fillColor&quot;: &quot;#3388ff&quot;, &quot;fillOpacity&quot;: 0.7, &quot;fillRule&quot;: &quot;evenodd&quot;, &quot;lineCap&quot;: &quot;round&quot;, &quot;lineJoin&quot;: &quot;round&quot;, &quot;opacity&quot;: 1.0, &quot;radius&quot;: 5, &quot;stroke&quot;: true, &quot;weight&quot;: 3}\n            ).addTo(map_79f8d12debbb9fd5457e360a0677c10a);\n        \n    \n        var popup_2c9865b049990d2bcc0482a26efcc9e3 = L.popup({&quot;maxWidth&quot;: &quot;100%&quot;});\n\n        \n            var html_d866876940a32d62a44f35d7b8908a59 = $(`&lt;div id=&quot;html_d866876940a32d62a44f35d7b8908a59&quot; style=&quot;width: 100.0%; height: 100.0%;&quot;&gt;ALMENARA Cluster 2&lt;/div&gt;`)[0];\n            popup_2c9865b049990d2bcc0482a26efcc9e3.setContent(html_d866876940a32d62a44f35d7b8908a59);\n        \n\n        circle_marker_3e9b13cdbe9dfd42ea91a8a2687a7f7b.bindPopup(popup_2c9865b049990d2bcc0482a26efcc9e3)\n        ;\n\n        \n    \n    \n            var circle_marker_079cffcfa153dfb8f215e739d5f8f608 = L.circleMarker(\n                [40.46593000000007, -3.7009599999999523],\n                {&quot;bubblingMouseEvents&quot;: true, &quot;color&quot;: &quot;#3388ff&quot;, &quot;dashArray&quot;: null, &quot;dashOffset&quot;: null, &quot;fill&quot;: true, &quot;fillColor&quot;: &quot;#3388ff&quot;, &quot;fillOpacity&quot;: 0.7, &quot;fillRule&quot;: &quot;evenodd&quot;, &quot;lineCap&quot;: &quot;round&quot;, &quot;lineJoin&quot;: &quot;round&quot;, &quot;opacity&quot;: 1.0, &quot;radius&quot;: 5, &quot;stroke&quot;: true, &quot;weight&quot;: 3}\n            ).addTo(map_79f8d12debbb9fd5457e360a0677c10a);\n        \n    \n        var popup_c94d82cecb7eb92edde41d20b897fce8 = L.popup({&quot;maxWidth&quot;: &quot;100%&quot;});\n\n        \n            var html_cc0e5f6e8e442b2c413cb3fafc2f5268 = $(`&lt;div id=&quot;html_cc0e5f6e8e442b2c413cb3fafc2f5268&quot; style=&quot;width: 100.0%; height: 100.0%;&quot;&gt;VALDEACEDERAS Cluster 0&lt;/div&gt;`)[0];\n            popup_c94d82cecb7eb92edde41d20b897fce8.setContent(html_cc0e5f6e8e442b2c413cb3fafc2f5268);\n        \n\n        circle_marker_079cffcfa153dfb8f215e739d5f8f608.bindPopup(popup_c94d82cecb7eb92edde41d20b897fce8)\n        ;\n\n        \n    \n    \n            var circle_marker_871c61a62627ea0b132e6bd5825ee881 = L.circleMarker(\n                [40.46046000000007, -3.703869999999938],\n                {&quot;bubblingMouseEvents&quot;: true, &quot;color&quot;: &quot;#3388ff&quot;, &quot;dashArray&quot;: null, &quot;dashOffset&quot;: null, &quot;fill&quot;: true, &quot;fillColor&quot;: &quot;#3388ff&quot;, &quot;fillOpacity&quot;: 0.7, &quot;fillRule&quot;: &quot;evenodd&quot;, &quot;lineCap&quot;: &quot;round&quot;, &quot;lineJoin&quot;: &quot;round&quot;, &quot;opacity&quot;: 1.0, &quot;radius&quot;: 5, &quot;stroke&quot;: true, &quot;weight&quot;: 3}\n            ).addTo(map_79f8d12debbb9fd5457e360a0677c10a);\n        \n    \n        var popup_2fddcb8cf076999aec18dfbf399ad1f4 = L.popup({&quot;maxWidth&quot;: &quot;100%&quot;});\n\n        \n            var html_bc34002aa37a3c2762b080b06ac329b3 = $(`&lt;div id=&quot;html_bc34002aa37a3c2762b080b06ac329b3&quot; style=&quot;width: 100.0%; height: 100.0%;&quot;&gt;BERRUGUETE Cluster 0&lt;/div&gt;`)[0];\n            popup_2fddcb8cf076999aec18dfbf399ad1f4.setContent(html_bc34002aa37a3c2762b080b06ac329b3);\n        \n\n        circle_marker_871c61a62627ea0b132e6bd5825ee881.bindPopup(popup_2fddcb8cf076999aec18dfbf399ad1f4)\n        ;\n\n        \n    \n    \n            var circle_marker_8edc9e7e213da0fe6e05947f419ab460 = L.circleMarker(\n                [40.43490000000003, -3.715509999999938],\n                {&quot;bubblingMouseEvents&quot;: true, &quot;color&quot;: &quot;#3388ff&quot;, &quot;dashArray&quot;: null, &quot;dashOffset&quot;: null, &quot;fill&quot;: true, &quot;fillColor&quot;: &quot;#3388ff&quot;, &quot;fillOpacity&quot;: 0.7, &quot;fillRule&quot;: &quot;evenodd&quot;, &quot;lineCap&quot;: &quot;round&quot;, &quot;lineJoin&quot;: &quot;round&quot;, &quot;opacity&quot;: 1.0, &quot;radius&quot;: 5, &quot;stroke&quot;: true, &quot;weight&quot;: 3}\n            ).addTo(map_79f8d12debbb9fd5457e360a0677c10a);\n        \n    \n        var popup_8c4ac5497cc4cdd34df370f95a815853 = L.popup({&quot;maxWidth&quot;: &quot;100%&quot;});\n\n        \n            var html_2ddcd334300d405b52f0a6b03cc61e20 = $(`&lt;div id=&quot;html_2ddcd334300d405b52f0a6b03cc61e20&quot; style=&quot;width: 100.0%; height: 100.0%;&quot;&gt;GAZTAMBIDE Cluster 0&lt;/div&gt;`)[0];\n            popup_8c4ac5497cc4cdd34df370f95a815853.setContent(html_2ddcd334300d405b52f0a6b03cc61e20);\n        \n\n        circle_marker_8edc9e7e213da0fe6e05947f419ab460.bindPopup(popup_8c4ac5497cc4cdd34df370f95a815853)\n        ;\n\n        \n    \n    \n            var circle_marker_8a2416aa3f5b9f836f6463b7830a27a6 = L.circleMarker(\n                [40.43286000000006, -3.7083999999999264],\n                {&quot;bubblingMouseEvents&quot;: true, &quot;color&quot;: &quot;#3388ff&quot;, &quot;dashArray&quot;: null, &quot;dashOffset&quot;: null, &quot;fill&quot;: true, &quot;fillColor&quot;: &quot;#3388ff&quot;, &quot;fillOpacity&quot;: 0.7, &quot;fillRule&quot;: &quot;evenodd&quot;, &quot;lineCap&quot;: &quot;round&quot;, &quot;lineJoin&quot;: &quot;round&quot;, &quot;opacity&quot;: 1.0, &quot;radius&quot;: 5, &quot;stroke&quot;: true, &quot;weight&quot;: 3}\n            ).addTo(map_79f8d12debbb9fd5457e360a0677c10a);\n        \n    \n        var popup_76e940e4983b842f5f8e2d9bd385bc93 = L.popup({&quot;maxWidth&quot;: &quot;100%&quot;});\n\n        \n            var html_fc56fa8bf54415a07977bf7afb37cd71 = $(`&lt;div id=&quot;html_fc56fa8bf54415a07977bf7afb37cd71&quot; style=&quot;width: 100.0%; height: 100.0%;&quot;&gt;ARAPILES Cluster 0&lt;/div&gt;`)[0];\n            popup_76e940e4983b842f5f8e2d9bd385bc93.setContent(html_fc56fa8bf54415a07977bf7afb37cd71);\n        \n\n        circle_marker_8a2416aa3f5b9f836f6463b7830a27a6.bindPopup(popup_76e940e4983b842f5f8e2d9bd385bc93)\n        ;\n\n        \n    \n    \n            var circle_marker_d0882a706a23cdb42a43bbe0897c4d91 = L.circleMarker(\n                [40.43303000000003, -3.7000299999999697],\n                {&quot;bubblingMouseEvents&quot;: true, &quot;color&quot;: &quot;#3388ff&quot;, &quot;dashArray&quot;: null, &quot;dashOffset&quot;: null, &quot;fill&quot;: true, &quot;fillColor&quot;: &quot;#3388ff&quot;, &quot;fillOpacity&quot;: 0.7, &quot;fillRule&quot;: &quot;evenodd&quot;, &quot;lineCap&quot;: &quot;round&quot;, &quot;lineJoin&quot;: &quot;round&quot;, &quot;opacity&quot;: 1.0, &quot;radius&quot;: 5, &quot;stroke&quot;: true, &quot;weight&quot;: 3}\n            ).addTo(map_79f8d12debbb9fd5457e360a0677c10a);\n        \n    \n        var popup_a2e4015ef952189f375cfc509276071d = L.popup({&quot;maxWidth&quot;: &quot;100%&quot;});\n\n        \n            var html_5009062660888fb6b8148692dc6d2d01 = $(`&lt;div id=&quot;html_5009062660888fb6b8148692dc6d2d01&quot; style=&quot;width: 100.0%; height: 100.0%;&quot;&gt;TRAFALGAR Cluster 0&lt;/div&gt;`)[0];\n            popup_a2e4015ef952189f375cfc509276071d.setContent(html_5009062660888fb6b8148692dc6d2d01);\n        \n\n        circle_marker_d0882a706a23cdb42a43bbe0897c4d91.bindPopup(popup_a2e4015ef952189f375cfc509276071d)\n        ;\n\n        \n    \n    \n            var circle_marker_6a53d2381aaae5ae4dcd8efa4300eed2 = L.circleMarker(\n                [40.43296000000004, -3.6915299999999434],\n                {&quot;bubblingMouseEvents&quot;: true, &quot;color&quot;: &quot;#3388ff&quot;, &quot;dashArray&quot;: null, &quot;dashOffset&quot;: null, &quot;fill&quot;: true, &quot;fillColor&quot;: &quot;#3388ff&quot;, &quot;fillOpacity&quot;: 0.7, &quot;fillRule&quot;: &quot;evenodd&quot;, &quot;lineCap&quot;: &quot;round&quot;, &quot;lineJoin&quot;: &quot;round&quot;, &quot;opacity&quot;: 1.0, &quot;radius&quot;: 5, &quot;stroke&quot;: true, &quot;weight&quot;: 3}\n            ).addTo(map_79f8d12debbb9fd5457e360a0677c10a);\n        \n    \n        var popup_11a0d11a8c2cc8ae2da60081a6d6a098 = L.popup({&quot;maxWidth&quot;: &quot;100%&quot;});\n\n        \n            var html_64f4774111c4f75f2727956e52ab89eb = $(`&lt;div id=&quot;html_64f4774111c4f75f2727956e52ab89eb&quot; style=&quot;width: 100.0%; height: 100.0%;&quot;&gt;ALMAGRO Cluster 2&lt;/div&gt;`)[0];\n            popup_11a0d11a8c2cc8ae2da60081a6d6a098.setContent(html_64f4774111c4f75f2727956e52ab89eb);\n        \n\n        circle_marker_6a53d2381aaae5ae4dcd8efa4300eed2.bindPopup(popup_11a0d11a8c2cc8ae2da60081a6d6a098)\n        ;\n\n        \n    \n    \n            var circle_marker_5d368e541f164a25c5e5907a6fda922f = L.circleMarker(\n                [40.444750000000056, -3.695109999999943],\n                {&quot;bubblingMouseEvents&quot;: true, &quot;color&quot;: &quot;#3388ff&quot;, &quot;dashArray&quot;: null, &quot;dashOffset&quot;: null, &quot;fill&quot;: true, &quot;fillColor&quot;: &quot;#3388ff&quot;, &quot;fillOpacity&quot;: 0.7, &quot;fillRule&quot;: &quot;evenodd&quot;, &quot;lineCap&quot;: &quot;round&quot;, &quot;lineJoin&quot;: &quot;round&quot;, &quot;opacity&quot;: 1.0, &quot;radius&quot;: 5, &quot;stroke&quot;: true, &quot;weight&quot;: 3}\n            ).addTo(map_79f8d12debbb9fd5457e360a0677c10a);\n        \n    \n        var popup_64215874114d0ac1a4b6eed78537f758 = L.popup({&quot;maxWidth&quot;: &quot;100%&quot;});\n\n        \n            var html_39a034374d79484e710f367b53adfbf8 = $(`&lt;div id=&quot;html_39a034374d79484e710f367b53adfbf8&quot; style=&quot;width: 100.0%; height: 100.0%;&quot;&gt;RIOS ROSAS Cluster 2&lt;/div&gt;`)[0];\n            popup_64215874114d0ac1a4b6eed78537f758.setContent(html_39a034374d79484e710f367b53adfbf8);\n        \n\n        circle_marker_5d368e541f164a25c5e5907a6fda922f.bindPopup(popup_64215874114d0ac1a4b6eed78537f758)\n        ;\n\n        \n    \n    \n            var circle_marker_336a4cb355b34dd25c5d5e03098f953d = L.circleMarker(\n                [40.44480000000004, -3.7148299999999495],\n                {&quot;bubblingMouseEvents&quot;: true, &quot;color&quot;: &quot;#3388ff&quot;, &quot;dashArray&quot;: null, &quot;dashOffset&quot;: null, &quot;fill&quot;: true, &quot;fillColor&quot;: &quot;#3388ff&quot;, &quot;fillOpacity&quot;: 0.7, &quot;fillRule&quot;: &quot;evenodd&quot;, &quot;lineCap&quot;: &quot;round&quot;, &quot;lineJoin&quot;: &quot;round&quot;, &quot;opacity&quot;: 1.0, &quot;radius&quot;: 5, &quot;stroke&quot;: true, &quot;weight&quot;: 3}\n            ).addTo(map_79f8d12debbb9fd5457e360a0677c10a);\n        \n    \n        var popup_bc861a11ebc9b343425d212127d11d33 = L.popup({&quot;maxWidth&quot;: &quot;100%&quot;});\n\n        \n            var html_a9dc1e4f02464967d7d1ab7800771fa4 = $(`&lt;div id=&quot;html_a9dc1e4f02464967d7d1ab7800771fa4&quot; style=&quot;width: 100.0%; height: 100.0%;&quot;&gt;VALLEHERMOSO Cluster 2&lt;/div&gt;`)[0];\n            popup_bc861a11ebc9b343425d212127d11d33.setContent(html_a9dc1e4f02464967d7d1ab7800771fa4);\n        \n\n        circle_marker_336a4cb355b34dd25c5d5e03098f953d.bindPopup(popup_bc861a11ebc9b343425d212127d11d33)\n        ;\n\n        \n    \n    \n            var circle_marker_25b5d0093dfa1bb57087d397c9a107fe = L.circleMarker(\n                [40.56436000000008, -3.7985799999999585],\n                {&quot;bubblingMouseEvents&quot;: true, &quot;color&quot;: &quot;#3388ff&quot;, &quot;dashArray&quot;: null, &quot;dashOffset&quot;: null, &quot;fill&quot;: true, &quot;fillColor&quot;: &quot;#3388ff&quot;, &quot;fillOpacity&quot;: 0.7, &quot;fillRule&quot;: &quot;evenodd&quot;, &quot;lineCap&quot;: &quot;round&quot;, &quot;lineJoin&quot;: &quot;round&quot;, &quot;opacity&quot;: 1.0, &quot;radius&quot;: 5, &quot;stroke&quot;: true, &quot;weight&quot;: 3}\n            ).addTo(map_79f8d12debbb9fd5457e360a0677c10a);\n        \n    \n        var popup_2955b237144b0a8b2ebfa9f0c44c65dc = L.popup({&quot;maxWidth&quot;: &quot;100%&quot;});\n\n        \n            var html_8ccbd2194d8bb6a612eaba5567f078ee = $(`&lt;div id=&quot;html_8ccbd2194d8bb6a612eaba5567f078ee&quot; style=&quot;width: 100.0%; height: 100.0%;&quot;&gt;EL PARDO Cluster 3&lt;/div&gt;`)[0];\n            popup_2955b237144b0a8b2ebfa9f0c44c65dc.setContent(html_8ccbd2194d8bb6a612eaba5567f078ee);\n        \n\n        circle_marker_25b5d0093dfa1bb57087d397c9a107fe.bindPopup(popup_2955b237144b0a8b2ebfa9f0c44c65dc)\n        ;\n\n        \n    \n    \n            var circle_marker_4c2adbfc394e12f0901160c0eae4cf69 = L.circleMarker(\n                [40.480200000000025, -3.73933999999997],\n                {&quot;bubblingMouseEvents&quot;: true, &quot;color&quot;: &quot;#3388ff&quot;, &quot;dashArray&quot;: null, &quot;dashOffset&quot;: null, &quot;fill&quot;: true, &quot;fillColor&quot;: &quot;#3388ff&quot;, &quot;fillOpacity&quot;: 0.7, &quot;fillRule&quot;: &quot;evenodd&quot;, &quot;lineCap&quot;: &quot;round&quot;, &quot;lineJoin&quot;: &quot;round&quot;, &quot;opacity&quot;: 1.0, &quot;radius&quot;: 5, &quot;stroke&quot;: true, &quot;weight&quot;: 3}\n            ).addTo(map_79f8d12debbb9fd5457e360a0677c10a);\n        \n    \n        var popup_8e2ea03a5d1c63f0a468c0d999a7326f = L.popup({&quot;maxWidth&quot;: &quot;100%&quot;});\n\n        \n            var html_dd74143f3fd31d8b22d11a5248f2061b = $(`&lt;div id=&quot;html_dd74143f3fd31d8b22d11a5248f2061b&quot; style=&quot;width: 100.0%; height: 100.0%;&quot;&gt;FUENTELARREINA Cluster 3&lt;/div&gt;`)[0];\n            popup_8e2ea03a5d1c63f0a468c0d999a7326f.setContent(html_dd74143f3fd31d8b22d11a5248f2061b);\n        \n\n        circle_marker_4c2adbfc394e12f0901160c0eae4cf69.bindPopup(popup_8e2ea03a5d1c63f0a468c0d999a7326f)\n        ;\n\n        \n    \n    \n            var circle_marker_f1ef42f83970db4385622fcb6d50895c = L.circleMarker(\n                [40.47839000000005, -3.7273499999999444],\n                {&quot;bubblingMouseEvents&quot;: true, &quot;color&quot;: &quot;#3388ff&quot;, &quot;dashArray&quot;: null, &quot;dashOffset&quot;: null, &quot;fill&quot;: true, &quot;fillColor&quot;: &quot;#3388ff&quot;, &quot;fillOpacity&quot;: 0.7, &quot;fillRule&quot;: &quot;evenodd&quot;, &quot;lineCap&quot;: &quot;round&quot;, &quot;lineJoin&quot;: &quot;round&quot;, &quot;opacity&quot;: 1.0, &quot;radius&quot;: 5, &quot;stroke&quot;: true, &quot;weight&quot;: 3}\n            ).addTo(map_79f8d12debbb9fd5457e360a0677c10a);\n        \n    \n        var popup_7aa6302721d96b3c7f4510d478df35a1 = L.popup({&quot;maxWidth&quot;: &quot;100%&quot;});\n\n        \n            var html_2b186841c9f3c48ca8d5f5e6c32332e1 = $(`&lt;div id=&quot;html_2b186841c9f3c48ca8d5f5e6c32332e1&quot; style=&quot;width: 100.0%; height: 100.0%;&quot;&gt;PENAGRANDE Cluster 3&lt;/div&gt;`)[0];\n            popup_7aa6302721d96b3c7f4510d478df35a1.setContent(html_2b186841c9f3c48ca8d5f5e6c32332e1);\n        \n\n        circle_marker_f1ef42f83970db4385622fcb6d50895c.bindPopup(popup_7aa6302721d96b3c7f4510d478df35a1)\n        ;\n\n        \n    \n    \n            var circle_marker_4057c5fe3858128c43dbf05aed06e50d = L.circleMarker(\n                [40.475430000000074, -3.7112999999999374],\n                {&quot;bubblingMouseEvents&quot;: true, &quot;color&quot;: &quot;#3388ff&quot;, &quot;dashArray&quot;: null, &quot;dashOffset&quot;: null, &quot;fill&quot;: true, &quot;fillColor&quot;: &quot;#3388ff&quot;, &quot;fillOpacity&quot;: 0.7, &quot;fillRule&quot;: &quot;evenodd&quot;, &quot;lineCap&quot;: &quot;round&quot;, &quot;lineJoin&quot;: &quot;round&quot;, &quot;opacity&quot;: 1.0, &quot;radius&quot;: 5, &quot;stroke&quot;: true, &quot;weight&quot;: 3}\n            ).addTo(map_79f8d12debbb9fd5457e360a0677c10a);\n        \n    \n        var popup_d51c3dc02b9de659f5658c347b6ffae3 = L.popup({&quot;maxWidth&quot;: &quot;100%&quot;});\n\n        \n            var html_81d11c6f88da9b80227547b655aa1730 = $(`&lt;div id=&quot;html_81d11c6f88da9b80227547b655aa1730&quot; style=&quot;width: 100.0%; height: 100.0%;&quot;&gt;PILAR Cluster 0&lt;/div&gt;`)[0];\n            popup_d51c3dc02b9de659f5658c347b6ffae3.setContent(html_81d11c6f88da9b80227547b655aa1730);\n        \n\n        circle_marker_4057c5fe3858128c43dbf05aed06e50d.bindPopup(popup_d51c3dc02b9de659f5658c347b6ffae3)\n        ;\n\n        \n    \n    \n            var circle_marker_5c8ecffe77cede3ddd54b90c9848d725 = L.circleMarker(\n                [40.481580000000065, -3.6942699999999604],\n                {&quot;bubblingMouseEvents&quot;: true, &quot;color&quot;: &quot;#3388ff&quot;, &quot;dashArray&quot;: null, &quot;dashOffset&quot;: null, &quot;fill&quot;: true, &quot;fillColor&quot;: &quot;#3388ff&quot;, &quot;fillOpacity&quot;: 0.7, &quot;fillRule&quot;: &quot;evenodd&quot;, &quot;lineCap&quot;: &quot;round&quot;, &quot;lineJoin&quot;: &quot;round&quot;, &quot;opacity&quot;: 1.0, &quot;radius&quot;: 5, &quot;stroke&quot;: true, &quot;weight&quot;: 3}\n            ).addTo(map_79f8d12debbb9fd5457e360a0677c10a);\n        \n    \n        var popup_04485b59c35410ad4bccf800e60718b9 = L.popup({&quot;maxWidth&quot;: &quot;100%&quot;});\n\n        \n            var html_a84e8b2280a31a000a56e9d760fdcda6 = $(`&lt;div id=&quot;html_a84e8b2280a31a000a56e9d760fdcda6&quot; style=&quot;width: 100.0%; height: 100.0%;&quot;&gt;LA PAZ Cluster 3&lt;/div&gt;`)[0];\n            popup_04485b59c35410ad4bccf800e60718b9.setContent(html_a84e8b2280a31a000a56e9d760fdcda6);\n        \n\n        circle_marker_5c8ecffe77cede3ddd54b90c9848d725.bindPopup(popup_04485b59c35410ad4bccf800e60718b9)\n        ;\n\n        \n    \n    \n            var circle_marker_3acc3598428019d04bc039aeca35be8a = L.circleMarker(\n                [40.49991000000006, -3.686079999999947],\n                {&quot;bubblingMouseEvents&quot;: true, &quot;color&quot;: &quot;#3388ff&quot;, &quot;dashArray&quot;: null, &quot;dashOffset&quot;: null, &quot;fill&quot;: true, &quot;fillColor&quot;: &quot;#3388ff&quot;, &quot;fillOpacity&quot;: 0.7, &quot;fillRule&quot;: &quot;evenodd&quot;, &quot;lineCap&quot;: &quot;round&quot;, &quot;lineJoin&quot;: &quot;round&quot;, &quot;opacity&quot;: 1.0, &quot;radius&quot;: 5, &quot;stroke&quot;: true, &quot;weight&quot;: 3}\n            ).addTo(map_79f8d12debbb9fd5457e360a0677c10a);\n        \n    \n        var popup_9b9ae5c46b7b1f49729d797a0526ba24 = L.popup({&quot;maxWidth&quot;: &quot;100%&quot;});\n\n        \n            var html_bf6fa3f414a28bff5f928a2b04947104 = $(`&lt;div id=&quot;html_bf6fa3f414a28bff5f928a2b04947104&quot; style=&quot;width: 100.0%; height: 100.0%;&quot;&gt;VALVERDE Cluster 3&lt;/div&gt;`)[0];\n            popup_9b9ae5c46b7b1f49729d797a0526ba24.setContent(html_bf6fa3f414a28bff5f928a2b04947104);\n        \n\n        circle_marker_3acc3598428019d04bc039aeca35be8a.bindPopup(popup_9b9ae5c46b7b1f49729d797a0526ba24)\n        ;\n\n        \n    \n    \n            var circle_marker_4159a55e4bc0eecf20ed701afad3f797 = L.circleMarker(\n                [40.49427000000003, -3.7176899999999478],\n                {&quot;bubblingMouseEvents&quot;: true, &quot;color&quot;: &quot;#3388ff&quot;, &quot;dashArray&quot;: null, &quot;dashOffset&quot;: null, &quot;fill&quot;: true, &quot;fillColor&quot;: &quot;#3388ff&quot;, &quot;fillOpacity&quot;: 0.7, &quot;fillRule&quot;: &quot;evenodd&quot;, &quot;lineCap&quot;: &quot;round&quot;, &quot;lineJoin&quot;: &quot;round&quot;, &quot;opacity&quot;: 1.0, &quot;radius&quot;: 5, &quot;stroke&quot;: true, &quot;weight&quot;: 3}\n            ).addTo(map_79f8d12debbb9fd5457e360a0677c10a);\n        \n    \n        var popup_4fd096e47b7c8caf72df14f7691fdcd4 = L.popup({&quot;maxWidth&quot;: &quot;100%&quot;});\n\n        \n            var html_db698ee871eb0a6862cc63cbf39e9375 = $(`&lt;div id=&quot;html_db698ee871eb0a6862cc63cbf39e9375&quot; style=&quot;width: 100.0%; height: 100.0%;&quot;&gt;MIRASIERRA Cluster 3&lt;/div&gt;`)[0];\n            popup_4fd096e47b7c8caf72df14f7691fdcd4.setContent(html_db698ee871eb0a6862cc63cbf39e9375);\n        \n\n        circle_marker_4159a55e4bc0eecf20ed701afad3f797.bindPopup(popup_4fd096e47b7c8caf72df14f7691fdcd4)\n        ;\n\n        \n    \n    \n            var circle_marker_6a28a6e5f87cc0bfef110c73103030ca = L.circleMarker(\n                [40.543570000000045, -3.696619999999939],\n                {&quot;bubblingMouseEvents&quot;: true, &quot;color&quot;: &quot;#3388ff&quot;, &quot;dashArray&quot;: null, &quot;dashOffset&quot;: null, &quot;fill&quot;: true, &quot;fillColor&quot;: &quot;#3388ff&quot;, &quot;fillOpacity&quot;: 0.7, &quot;fillRule&quot;: &quot;evenodd&quot;, &quot;lineCap&quot;: &quot;round&quot;, &quot;lineJoin&quot;: &quot;round&quot;, &quot;opacity&quot;: 1.0, &quot;radius&quot;: 5, &quot;stroke&quot;: true, &quot;weight&quot;: 3}\n            ).addTo(map_79f8d12debbb9fd5457e360a0677c10a);\n        \n    \n        var popup_70bd2e981cfec3ced716306424d3ebab = L.popup({&quot;maxWidth&quot;: &quot;100%&quot;});\n\n        \n            var html_f1da0ec37146a1c0051a10c4e83e5805 = $(`&lt;div id=&quot;html_f1da0ec37146a1c0051a10c4e83e5805&quot; style=&quot;width: 100.0%; height: 100.0%;&quot;&gt;EL GOLOSO Cluster 3&lt;/div&gt;`)[0];\n            popup_70bd2e981cfec3ced716306424d3ebab.setContent(html_f1da0ec37146a1c0051a10c4e83e5805);\n        \n\n        circle_marker_6a28a6e5f87cc0bfef110c73103030ca.bindPopup(popup_70bd2e981cfec3ced716306424d3ebab)\n        ;\n\n        \n    \n    \n            var circle_marker_a115ddd3e8e20934c2bd1c42af0de655 = L.circleMarker(\n                [40.41336000000007, -3.7598199999999338],\n                {&quot;bubblingMouseEvents&quot;: true, &quot;color&quot;: &quot;#3388ff&quot;, &quot;dashArray&quot;: null, &quot;dashOffset&quot;: null, &quot;fill&quot;: true, &quot;fillColor&quot;: &quot;#3388ff&quot;, &quot;fillOpacity&quot;: 0.7, &quot;fillRule&quot;: &quot;evenodd&quot;, &quot;lineCap&quot;: &quot;round&quot;, &quot;lineJoin&quot;: &quot;round&quot;, &quot;opacity&quot;: 1.0, &quot;radius&quot;: 5, &quot;stroke&quot;: true, &quot;weight&quot;: 3}\n            ).addTo(map_79f8d12debbb9fd5457e360a0677c10a);\n        \n    \n        var popup_dc355d8afbc0ae8c004d9830b3f8eb7d = L.popup({&quot;maxWidth&quot;: &quot;100%&quot;});\n\n        \n            var html_d46cc87100097b9280e04be674fbd9ea = $(`&lt;div id=&quot;html_d46cc87100097b9280e04be674fbd9ea&quot; style=&quot;width: 100.0%; height: 100.0%;&quot;&gt;CASA DE CAMPO Cluster 1&lt;/div&gt;`)[0];\n            popup_dc355d8afbc0ae8c004d9830b3f8eb7d.setContent(html_d46cc87100097b9280e04be674fbd9ea);\n        \n\n        circle_marker_a115ddd3e8e20934c2bd1c42af0de655.bindPopup(popup_dc355d8afbc0ae8c004d9830b3f8eb7d)\n        ;\n\n        \n    \n    \n            var circle_marker_5c4e570c4c4e82bc1e202ba3c8817771 = L.circleMarker(\n                [40.42992000000004, -3.7184199999999805],\n                {&quot;bubblingMouseEvents&quot;: true, &quot;color&quot;: &quot;#3388ff&quot;, &quot;dashArray&quot;: null, &quot;dashOffset&quot;: null, &quot;fill&quot;: true, &quot;fillColor&quot;: &quot;#3388ff&quot;, &quot;fillOpacity&quot;: 0.7, &quot;fillRule&quot;: &quot;evenodd&quot;, &quot;lineCap&quot;: &quot;round&quot;, &quot;lineJoin&quot;: &quot;round&quot;, &quot;opacity&quot;: 1.0, &quot;radius&quot;: 5, &quot;stroke&quot;: true, &quot;weight&quot;: 3}\n            ).addTo(map_79f8d12debbb9fd5457e360a0677c10a);\n        \n    \n        var popup_9c0151c3df05fbffc67dc7795d8ee077 = L.popup({&quot;maxWidth&quot;: &quot;100%&quot;});\n\n        \n            var html_2cbd878100e7f778d04296d52aff6aab = $(`&lt;div id=&quot;html_2cbd878100e7f778d04296d52aff6aab&quot; style=&quot;width: 100.0%; height: 100.0%;&quot;&gt;ARGUELLES Cluster 2&lt;/div&gt;`)[0];\n            popup_9c0151c3df05fbffc67dc7795d8ee077.setContent(html_2cbd878100e7f778d04296d52aff6aab);\n        \n\n        circle_marker_5c4e570c4c4e82bc1e202ba3c8817771.bindPopup(popup_9c0151c3df05fbffc67dc7795d8ee077)\n        ;\n\n        \n    \n    \n            var circle_marker_e88d3151f236e0eba7f2b231254b4e85 = L.circleMarker(\n                [40.44717000000003, -3.7306499999999687],\n                {&quot;bubblingMouseEvents&quot;: true, &quot;color&quot;: &quot;#3388ff&quot;, &quot;dashArray&quot;: null, &quot;dashOffset&quot;: null, &quot;fill&quot;: true, &quot;fillColor&quot;: &quot;#3388ff&quot;, &quot;fillOpacity&quot;: 0.7, &quot;fillRule&quot;: &quot;evenodd&quot;, &quot;lineCap&quot;: &quot;round&quot;, &quot;lineJoin&quot;: &quot;round&quot;, &quot;opacity&quot;: 1.0, &quot;radius&quot;: 5, &quot;stroke&quot;: true, &quot;weight&quot;: 3}\n            ).addTo(map_79f8d12debbb9fd5457e360a0677c10a);\n        \n    \n        var popup_0d0fa94f9b698c8b4d9f7841a1eab510 = L.popup({&quot;maxWidth&quot;: &quot;100%&quot;});\n\n        \n            var html_a4124b7f89b3dc8cd36b400e6825a4d4 = $(`&lt;div id=&quot;html_a4124b7f89b3dc8cd36b400e6825a4d4&quot; style=&quot;width: 100.0%; height: 100.0%;&quot;&gt;CIUDAD UNIVERSITARIA Cluster 3&lt;/div&gt;`)[0];\n            popup_0d0fa94f9b698c8b4d9f7841a1eab510.setContent(html_a4124b7f89b3dc8cd36b400e6825a4d4);\n        \n\n        circle_marker_e88d3151f236e0eba7f2b231254b4e85.bindPopup(popup_0d0fa94f9b698c8b4d9f7841a1eab510)\n        ;\n\n        \n    \n    \n            var circle_marker_a09e6e325f4a34d15d5e081cf8b274ed = L.circleMarker(\n                [40.46666000000005, -3.7197399999999448],\n                {&quot;bubblingMouseEvents&quot;: true, &quot;color&quot;: &quot;#3388ff&quot;, &quot;dashArray&quot;: null, &quot;dashOffset&quot;: null, &quot;fill&quot;: true, &quot;fillColor&quot;: &quot;#3388ff&quot;, &quot;fillOpacity&quot;: 0.7, &quot;fillRule&quot;: &quot;evenodd&quot;, &quot;lineCap&quot;: &quot;round&quot;, &quot;lineJoin&quot;: &quot;round&quot;, &quot;opacity&quot;: 1.0, &quot;radius&quot;: 5, &quot;stroke&quot;: true, &quot;weight&quot;: 3}\n            ).addTo(map_79f8d12debbb9fd5457e360a0677c10a);\n        \n    \n        var popup_528da519fffb50f3d67044c10b86fe97 = L.popup({&quot;maxWidth&quot;: &quot;100%&quot;});\n\n        \n            var html_468fc2be51c400b421a505a537d22558 = $(`&lt;div id=&quot;html_468fc2be51c400b421a505a537d22558&quot; style=&quot;width: 100.0%; height: 100.0%;&quot;&gt;VALDEZARZA Cluster 0&lt;/div&gt;`)[0];\n            popup_528da519fffb50f3d67044c10b86fe97.setContent(html_468fc2be51c400b421a505a537d22558);\n        \n\n        circle_marker_a09e6e325f4a34d15d5e081cf8b274ed.bindPopup(popup_528da519fffb50f3d67044c10b86fe97)\n        ;\n\n        \n    \n    \n            var circle_marker_8128c1bed8e722e790cf26001f92fbc6 = L.circleMarker(\n                [40.46996000000007, -3.7764099999999416],\n                {&quot;bubblingMouseEvents&quot;: true, &quot;color&quot;: &quot;#3388ff&quot;, &quot;dashArray&quot;: null, &quot;dashOffset&quot;: null, &quot;fill&quot;: true, &quot;fillColor&quot;: &quot;#3388ff&quot;, &quot;fillOpacity&quot;: 0.7, &quot;fillRule&quot;: &quot;evenodd&quot;, &quot;lineCap&quot;: &quot;round&quot;, &quot;lineJoin&quot;: &quot;round&quot;, &quot;opacity&quot;: 1.0, &quot;radius&quot;: 5, &quot;stroke&quot;: true, &quot;weight&quot;: 3}\n            ).addTo(map_79f8d12debbb9fd5457e360a0677c10a);\n        \n    \n        var popup_333937fa88c52ab96f642d3003cab40c = L.popup({&quot;maxWidth&quot;: &quot;100%&quot;});\n\n        \n            var html_5aa8ed04d0aeea5ff4c5947ed223fdb0 = $(`&lt;div id=&quot;html_5aa8ed04d0aeea5ff4c5947ed223fdb0&quot; style=&quot;width: 100.0%; height: 100.0%;&quot;&gt;VALDEMARIN Cluster 3&lt;/div&gt;`)[0];\n            popup_333937fa88c52ab96f642d3003cab40c.setContent(html_5aa8ed04d0aeea5ff4c5947ed223fdb0);\n        \n\n        circle_marker_8128c1bed8e722e790cf26001f92fbc6.bindPopup(popup_333937fa88c52ab96f642d3003cab40c)\n        ;\n\n        \n    \n    \n            var circle_marker_e420d1b804be403e1df46f171fa899dc = L.circleMarker(\n                [40.46893000000006, -3.820609999999931],\n                {&quot;bubblingMouseEvents&quot;: true, &quot;color&quot;: &quot;#3388ff&quot;, &quot;dashArray&quot;: null, &quot;dashOffset&quot;: null, &quot;fill&quot;: true, &quot;fillColor&quot;: &quot;#3388ff&quot;, &quot;fillOpacity&quot;: 0.7, &quot;fillRule&quot;: &quot;evenodd&quot;, &quot;lineCap&quot;: &quot;round&quot;, &quot;lineJoin&quot;: &quot;round&quot;, &quot;opacity&quot;: 1.0, &quot;radius&quot;: 5, &quot;stroke&quot;: true, &quot;weight&quot;: 3}\n            ).addTo(map_79f8d12debbb9fd5457e360a0677c10a);\n        \n    \n        var popup_011351ab93d43e5913689a41cdd80fe6 = L.popup({&quot;maxWidth&quot;: &quot;100%&quot;});\n\n        \n            var html_62b45ccf2c75147f8d2f44819bd2d4c1 = $(`&lt;div id=&quot;html_62b45ccf2c75147f8d2f44819bd2d4c1&quot; style=&quot;width: 100.0%; height: 100.0%;&quot;&gt;EL PLANTIO Cluster 3&lt;/div&gt;`)[0];\n            popup_011351ab93d43e5913689a41cdd80fe6.setContent(html_62b45ccf2c75147f8d2f44819bd2d4c1);\n        \n\n        circle_marker_e420d1b804be403e1df46f171fa899dc.bindPopup(popup_011351ab93d43e5913689a41cdd80fe6)\n        ;\n\n        \n    \n    \n            var circle_marker_fd90ce5980e19c9d3869d616e8f3602b = L.circleMarker(\n                [40.45620000000008, -3.7804199999999355],\n                {&quot;bubblingMouseEvents&quot;: true, &quot;color&quot;: &quot;#3388ff&quot;, &quot;dashArray&quot;: null, &quot;dashOffset&quot;: null, &quot;fill&quot;: true, &quot;fillColor&quot;: &quot;#3388ff&quot;, &quot;fillOpacity&quot;: 0.7, &quot;fillRule&quot;: &quot;evenodd&quot;, &quot;lineCap&quot;: &quot;round&quot;, &quot;lineJoin&quot;: &quot;round&quot;, &quot;opacity&quot;: 1.0, &quot;radius&quot;: 5, &quot;stroke&quot;: true, &quot;weight&quot;: 3}\n            ).addTo(map_79f8d12debbb9fd5457e360a0677c10a);\n        \n    \n        var popup_e773beb9e499a05b9ae5076703023bbf = L.popup({&quot;maxWidth&quot;: &quot;100%&quot;});\n\n        \n            var html_ec32d76f46b225c120cb7f26c277292e = $(`&lt;div id=&quot;html_ec32d76f46b225c120cb7f26c277292e&quot; style=&quot;width: 100.0%; height: 100.0%;&quot;&gt;ARAVACA Cluster 3&lt;/div&gt;`)[0];\n            popup_e773beb9e499a05b9ae5076703023bbf.setContent(html_ec32d76f46b225c120cb7f26c277292e);\n        \n\n        circle_marker_fd90ce5980e19c9d3869d616e8f3602b.bindPopup(popup_e773beb9e499a05b9ae5076703023bbf)\n        ;\n\n        \n    \n    \n            var circle_marker_6a99384bb1de635160796c3d3f20982c = L.circleMarker(\n                [40.40280000000007, -3.731779999999958],\n                {&quot;bubblingMouseEvents&quot;: true, &quot;color&quot;: &quot;#3388ff&quot;, &quot;dashArray&quot;: null, &quot;dashOffset&quot;: null, &quot;fill&quot;: true, &quot;fillColor&quot;: &quot;#3388ff&quot;, &quot;fillOpacity&quot;: 0.7, &quot;fillRule&quot;: &quot;evenodd&quot;, &quot;lineCap&quot;: &quot;round&quot;, &quot;lineJoin&quot;: &quot;round&quot;, &quot;opacity&quot;: 1.0, &quot;radius&quot;: 5, &quot;stroke&quot;: true, &quot;weight&quot;: 3}\n            ).addTo(map_79f8d12debbb9fd5457e360a0677c10a);\n        \n    \n        var popup_bc27869bbe4daf61694deaa2a63efc6b = L.popup({&quot;maxWidth&quot;: &quot;100%&quot;});\n\n        \n            var html_cd40d239e239bbc8d521ad36225c6140 = $(`&lt;div id=&quot;html_cd40d239e239bbc8d521ad36225c6140&quot; style=&quot;width: 100.0%; height: 100.0%;&quot;&gt;LOS CARMENES Cluster 3&lt;/div&gt;`)[0];\n            popup_bc27869bbe4daf61694deaa2a63efc6b.setContent(html_cd40d239e239bbc8d521ad36225c6140);\n        \n\n        circle_marker_6a99384bb1de635160796c3d3f20982c.bindPopup(popup_bc27869bbe4daf61694deaa2a63efc6b)\n        ;\n\n        \n    \n    \n            var circle_marker_b4a5e814c914d9d30b4b7c5a5d488021 = L.circleMarker(\n                [40.40886000000006, -3.733919999999955],\n                {&quot;bubblingMouseEvents&quot;: true, &quot;color&quot;: &quot;#3388ff&quot;, &quot;dashArray&quot;: null, &quot;dashOffset&quot;: null, &quot;fill&quot;: true, &quot;fillColor&quot;: &quot;#3388ff&quot;, &quot;fillOpacity&quot;: 0.7, &quot;fillRule&quot;: &quot;evenodd&quot;, &quot;lineCap&quot;: &quot;round&quot;, &quot;lineJoin&quot;: &quot;round&quot;, &quot;opacity&quot;: 1.0, &quot;radius&quot;: 5, &quot;stroke&quot;: true, &quot;weight&quot;: 3}\n            ).addTo(map_79f8d12debbb9fd5457e360a0677c10a);\n        \n    \n        var popup_46703d7d6a00c1676e21f279441e7ca3 = L.popup({&quot;maxWidth&quot;: &quot;100%&quot;});\n\n        \n            var html_c420964593055440551c2f6f068f43fe = $(`&lt;div id=&quot;html_c420964593055440551c2f6f068f43fe&quot; style=&quot;width: 100.0%; height: 100.0%;&quot;&gt;PUERTA DEL ANGEL Cluster 3&lt;/div&gt;`)[0];\n            popup_46703d7d6a00c1676e21f279441e7ca3.setContent(html_c420964593055440551c2f6f068f43fe);\n        \n\n        circle_marker_b4a5e814c914d9d30b4b7c5a5d488021.bindPopup(popup_46703d7d6a00c1676e21f279441e7ca3)\n        ;\n\n        \n    \n    \n            var circle_marker_ed897e00c2edcfcdbc37c5c7cd9c6fe1 = L.circleMarker(\n                [40.403580000000034, -3.74959999999993],\n                {&quot;bubblingMouseEvents&quot;: true, &quot;color&quot;: &quot;#3388ff&quot;, &quot;dashArray&quot;: null, &quot;dashOffset&quot;: null, &quot;fill&quot;: true, &quot;fillColor&quot;: &quot;#3388ff&quot;, &quot;fillOpacity&quot;: 0.7, &quot;fillRule&quot;: &quot;evenodd&quot;, &quot;lineCap&quot;: &quot;round&quot;, &quot;lineJoin&quot;: &quot;round&quot;, &quot;opacity&quot;: 1.0, &quot;radius&quot;: 5, &quot;stroke&quot;: true, &quot;weight&quot;: 3}\n            ).addTo(map_79f8d12debbb9fd5457e360a0677c10a);\n        \n    \n        var popup_1289add5eee7ea6ca31d6819f186dae7 = L.popup({&quot;maxWidth&quot;: &quot;100%&quot;});\n\n        \n            var html_0cd7f8d051d2ec998c2ce5b0215da195 = $(`&lt;div id=&quot;html_0cd7f8d051d2ec998c2ce5b0215da195&quot; style=&quot;width: 100.0%; height: 100.0%;&quot;&gt;LUCERO Cluster 3&lt;/div&gt;`)[0];\n            popup_1289add5eee7ea6ca31d6819f186dae7.setContent(html_0cd7f8d051d2ec998c2ce5b0215da195);\n        \n\n        circle_marker_ed897e00c2edcfcdbc37c5c7cd9c6fe1.bindPopup(popup_1289add5eee7ea6ca31d6819f186dae7)\n        ;\n\n        \n    \n    \n            var circle_marker_edf919788d0f90df94342db7fae7328f = L.circleMarker(\n                [40.39271000000008, -3.760319999999979],\n                {&quot;bubblingMouseEvents&quot;: true, &quot;color&quot;: &quot;#3388ff&quot;, &quot;dashArray&quot;: null, &quot;dashOffset&quot;: null, &quot;fill&quot;: true, &quot;fillColor&quot;: &quot;#3388ff&quot;, &quot;fillOpacity&quot;: 0.7, &quot;fillRule&quot;: &quot;evenodd&quot;, &quot;lineCap&quot;: &quot;round&quot;, &quot;lineJoin&quot;: &quot;round&quot;, &quot;opacity&quot;: 1.0, &quot;radius&quot;: 5, &quot;stroke&quot;: true, &quot;weight&quot;: 3}\n            ).addTo(map_79f8d12debbb9fd5457e360a0677c10a);\n        \n    \n        var popup_9d005801b1b8f621dd9a9bd27ed1e7ff = L.popup({&quot;maxWidth&quot;: &quot;100%&quot;});\n\n        \n            var html_6f5ca404840996330adbb14ccdb65826 = $(`&lt;div id=&quot;html_6f5ca404840996330adbb14ccdb65826&quot; style=&quot;width: 100.0%; height: 100.0%;&quot;&gt;ALUCHE Cluster 0&lt;/div&gt;`)[0];\n            popup_9d005801b1b8f621dd9a9bd27ed1e7ff.setContent(html_6f5ca404840996330adbb14ccdb65826);\n        \n\n        circle_marker_edf919788d0f90df94342db7fae7328f.bindPopup(popup_9d005801b1b8f621dd9a9bd27ed1e7ff)\n        ;\n\n        \n    \n    \n            var circle_marker_8379117f719847534d4ab7fbf4de1337 = L.circleMarker(\n                [40.396660000000054, -3.7740799999999695],\n                {&quot;bubblingMouseEvents&quot;: true, &quot;color&quot;: &quot;#3388ff&quot;, &quot;dashArray&quot;: null, &quot;dashOffset&quot;: null, &quot;fill&quot;: true, &quot;fillColor&quot;: &quot;#3388ff&quot;, &quot;fillOpacity&quot;: 0.7, &quot;fillRule&quot;: &quot;evenodd&quot;, &quot;lineCap&quot;: &quot;round&quot;, &quot;lineJoin&quot;: &quot;round&quot;, &quot;opacity&quot;: 1.0, &quot;radius&quot;: 5, &quot;stroke&quot;: true, &quot;weight&quot;: 3}\n            ).addTo(map_79f8d12debbb9fd5457e360a0677c10a);\n        \n    \n        var popup_cec770749f2d5813a55e9e45dd10f8fa = L.popup({&quot;maxWidth&quot;: &quot;100%&quot;});\n\n        \n            var html_01884709eaa7c1440c1639791fc6abc5 = $(`&lt;div id=&quot;html_01884709eaa7c1440c1639791fc6abc5&quot; style=&quot;width: 100.0%; height: 100.0%;&quot;&gt;CAMPAMENTO Cluster 3&lt;/div&gt;`)[0];\n            popup_cec770749f2d5813a55e9e45dd10f8fa.setContent(html_01884709eaa7c1440c1639791fc6abc5);\n        \n\n        circle_marker_8379117f719847534d4ab7fbf4de1337.bindPopup(popup_cec770749f2d5813a55e9e45dd10f8fa)\n        ;\n\n        \n    \n    \n            var circle_marker_40808804f684794d22c7db62784cce0c = L.circleMarker(\n                [40.365080000000034, -3.775299999999959],\n                {&quot;bubblingMouseEvents&quot;: true, &quot;color&quot;: &quot;#3388ff&quot;, &quot;dashArray&quot;: null, &quot;dashOffset&quot;: null, &quot;fill&quot;: true, &quot;fillColor&quot;: &quot;#3388ff&quot;, &quot;fillOpacity&quot;: 0.7, &quot;fillRule&quot;: &quot;evenodd&quot;, &quot;lineCap&quot;: &quot;round&quot;, &quot;lineJoin&quot;: &quot;round&quot;, &quot;opacity&quot;: 1.0, &quot;radius&quot;: 5, &quot;stroke&quot;: true, &quot;weight&quot;: 3}\n            ).addTo(map_79f8d12debbb9fd5457e360a0677c10a);\n        \n    \n        var popup_4225b0712dd678ba7a9ccfcfcb7e32ee = L.popup({&quot;maxWidth&quot;: &quot;100%&quot;});\n\n        \n            var html_63ab7c16e65b2eb1c78c39f45017b37e = $(`&lt;div id=&quot;html_63ab7c16e65b2eb1c78c39f45017b37e&quot; style=&quot;width: 100.0%; height: 100.0%;&quot;&gt;CUATRO VIENTOS Cluster 3&lt;/div&gt;`)[0];\n            popup_4225b0712dd678ba7a9ccfcfcb7e32ee.setContent(html_63ab7c16e65b2eb1c78c39f45017b37e);\n        \n\n        circle_marker_40808804f684794d22c7db62784cce0c.bindPopup(popup_4225b0712dd678ba7a9ccfcfcb7e32ee)\n        ;\n\n        \n    \n    \n            var circle_marker_0b90dc4e15d134f283f8a3b63aae9d50 = L.circleMarker(\n                [40.38166000000007, -3.7718799999999533],\n                {&quot;bubblingMouseEvents&quot;: true, &quot;color&quot;: &quot;#3388ff&quot;, &quot;dashArray&quot;: null, &quot;dashOffset&quot;: null, &quot;fill&quot;: true, &quot;fillColor&quot;: &quot;#3388ff&quot;, &quot;fillOpacity&quot;: 0.7, &quot;fillRule&quot;: &quot;evenodd&quot;, &quot;lineCap&quot;: &quot;round&quot;, &quot;lineJoin&quot;: &quot;round&quot;, &quot;opacity&quot;: 1.0, &quot;radius&quot;: 5, &quot;stroke&quot;: true, &quot;weight&quot;: 3}\n            ).addTo(map_79f8d12debbb9fd5457e360a0677c10a);\n        \n    \n        var popup_f62aa451f7f755537df646200cd6e680 = L.popup({&quot;maxWidth&quot;: &quot;100%&quot;});\n\n        \n            var html_7745637684155570055ca69ec0a03755 = $(`&lt;div id=&quot;html_7745637684155570055ca69ec0a03755&quot; style=&quot;width: 100.0%; height: 100.0%;&quot;&gt;LAS AGUILAS Cluster 3&lt;/div&gt;`)[0];\n            popup_f62aa451f7f755537df646200cd6e680.setContent(html_7745637684155570055ca69ec0a03755);\n        \n\n        circle_marker_0b90dc4e15d134f283f8a3b63aae9d50.bindPopup(popup_f62aa451f7f755537df646200cd6e680)\n        ;\n\n        \n    \n    \n            var circle_marker_3992f8a0c16efa7c220ebeba9f65d1cb = L.circleMarker(\n                [40.39495000000005, -3.70975999999996],\n                {&quot;bubblingMouseEvents&quot;: true, &quot;color&quot;: &quot;#3388ff&quot;, &quot;dashArray&quot;: null, &quot;dashOffset&quot;: null, &quot;fill&quot;: true, &quot;fillColor&quot;: &quot;#3388ff&quot;, &quot;fillOpacity&quot;: 0.7, &quot;fillRule&quot;: &quot;evenodd&quot;, &quot;lineCap&quot;: &quot;round&quot;, &quot;lineJoin&quot;: &quot;round&quot;, &quot;opacity&quot;: 1.0, &quot;radius&quot;: 5, &quot;stroke&quot;: true, &quot;weight&quot;: 3}\n            ).addTo(map_79f8d12debbb9fd5457e360a0677c10a);\n        \n    \n        var popup_505243ec97f1e267181f4015eb1ebe8f = L.popup({&quot;maxWidth&quot;: &quot;100%&quot;});\n\n        \n            var html_3a37f1feb8db29032982a464dfbf5ebe = $(`&lt;div id=&quot;html_3a37f1feb8db29032982a464dfbf5ebe&quot; style=&quot;width: 100.0%; height: 100.0%;&quot;&gt;COMILLAS Cluster 0&lt;/div&gt;`)[0];\n            popup_505243ec97f1e267181f4015eb1ebe8f.setContent(html_3a37f1feb8db29032982a464dfbf5ebe);\n        \n\n        circle_marker_3992f8a0c16efa7c220ebeba9f65d1cb.bindPopup(popup_505243ec97f1e267181f4015eb1ebe8f)\n        ;\n\n        \n    \n    \n            var circle_marker_fcf93bab923f24809541503ae9e360ff = L.circleMarker(\n                [40.38915000000003, -3.7237499999999386],\n                {&quot;bubblingMouseEvents&quot;: true, &quot;color&quot;: &quot;#3388ff&quot;, &quot;dashArray&quot;: null, &quot;dashOffset&quot;: null, &quot;fill&quot;: true, &quot;fillColor&quot;: &quot;#3388ff&quot;, &quot;fillOpacity&quot;: 0.7, &quot;fillRule&quot;: &quot;evenodd&quot;, &quot;lineCap&quot;: &quot;round&quot;, &quot;lineJoin&quot;: &quot;round&quot;, &quot;opacity&quot;: 1.0, &quot;radius&quot;: 5, &quot;stroke&quot;: true, &quot;weight&quot;: 3}\n            ).addTo(map_79f8d12debbb9fd5457e360a0677c10a);\n        \n    \n        var popup_b82b6f9c312b770452e6545f68cb9de8 = L.popup({&quot;maxWidth&quot;: &quot;100%&quot;});\n\n        \n            var html_6f9c6952bc7c31c4261e917b35d96f8c = $(`&lt;div id=&quot;html_6f9c6952bc7c31c4261e917b35d96f8c&quot; style=&quot;width: 100.0%; height: 100.0%;&quot;&gt;OPANEL Cluster 0&lt;/div&gt;`)[0];\n            popup_b82b6f9c312b770452e6545f68cb9de8.setContent(html_6f9c6952bc7c31c4261e917b35d96f8c);\n        \n\n        circle_marker_fcf93bab923f24809541503ae9e360ff.bindPopup(popup_b82b6f9c312b770452e6545f68cb9de8)\n        ;\n\n        \n    \n    \n            var circle_marker_530f0b15b7a9087bbdffc5da586c159e = L.circleMarker(\n                [40.395880000000034, -3.730479999999943],\n                {&quot;bubblingMouseEvents&quot;: true, &quot;color&quot;: &quot;#3388ff&quot;, &quot;dashArray&quot;: null, &quot;dashOffset&quot;: null, &quot;fill&quot;: true, &quot;fillColor&quot;: &quot;#3388ff&quot;, &quot;fillOpacity&quot;: 0.7, &quot;fillRule&quot;: &quot;evenodd&quot;, &quot;lineCap&quot;: &quot;round&quot;, &quot;lineJoin&quot;: &quot;round&quot;, &quot;opacity&quot;: 1.0, &quot;radius&quot;: 5, &quot;stroke&quot;: true, &quot;weight&quot;: 3}\n            ).addTo(map_79f8d12debbb9fd5457e360a0677c10a);\n        \n    \n        var popup_05acfac7f345d55355df6c299b3d01fa = L.popup({&quot;maxWidth&quot;: &quot;100%&quot;});\n\n        \n            var html_f4dc0477a770394121b5eca72dd9bb0f = $(`&lt;div id=&quot;html_f4dc0477a770394121b5eca72dd9bb0f&quot; style=&quot;width: 100.0%; height: 100.0%;&quot;&gt;SAN ISIDRO Cluster 0&lt;/div&gt;`)[0];\n            popup_05acfac7f345d55355df6c299b3d01fa.setContent(html_f4dc0477a770394121b5eca72dd9bb0f);\n        \n\n        circle_marker_530f0b15b7a9087bbdffc5da586c159e.bindPopup(popup_05acfac7f345d55355df6c299b3d01fa)\n        ;\n\n        \n    \n    \n            var circle_marker_8060fe444a59df9d7f455529949940c8 = L.circleMarker(\n                [40.38492000000008, -3.74634999999995],\n                {&quot;bubblingMouseEvents&quot;: true, &quot;color&quot;: &quot;#3388ff&quot;, &quot;dashArray&quot;: null, &quot;dashOffset&quot;: null, &quot;fill&quot;: true, &quot;fillColor&quot;: &quot;#3388ff&quot;, &quot;fillOpacity&quot;: 0.7, &quot;fillRule&quot;: &quot;evenodd&quot;, &quot;lineCap&quot;: &quot;round&quot;, &quot;lineJoin&quot;: &quot;round&quot;, &quot;opacity&quot;: 1.0, &quot;radius&quot;: 5, &quot;stroke&quot;: true, &quot;weight&quot;: 3}\n            ).addTo(map_79f8d12debbb9fd5457e360a0677c10a);\n        \n    \n        var popup_40c285dc3d51b86a940f6a41b3dd1a84 = L.popup({&quot;maxWidth&quot;: &quot;100%&quot;});\n\n        \n            var html_9e49c51b152462ca903d5a5cd10304c3 = $(`&lt;div id=&quot;html_9e49c51b152462ca903d5a5cd10304c3&quot; style=&quot;width: 100.0%; height: 100.0%;&quot;&gt;VISTA ALEGRE Cluster 0&lt;/div&gt;`)[0];\n            popup_40c285dc3d51b86a940f6a41b3dd1a84.setContent(html_9e49c51b152462ca903d5a5cd10304c3);\n        \n\n        circle_marker_8060fe444a59df9d7f455529949940c8.bindPopup(popup_40c285dc3d51b86a940f6a41b3dd1a84)\n        ;\n\n        \n    \n    \n            var circle_marker_40572f14d29d32f1b4923a74dd088cc7 = L.circleMarker(\n                [40.37982000000005, -3.7404599999999277],\n                {&quot;bubblingMouseEvents&quot;: true, &quot;color&quot;: &quot;#3388ff&quot;, &quot;dashArray&quot;: null, &quot;dashOffset&quot;: null, &quot;fill&quot;: true, &quot;fillColor&quot;: &quot;#3388ff&quot;, &quot;fillOpacity&quot;: 0.7, &quot;fillRule&quot;: &quot;evenodd&quot;, &quot;lineCap&quot;: &quot;round&quot;, &quot;lineJoin&quot;: &quot;round&quot;, &quot;opacity&quot;: 1.0, &quot;radius&quot;: 5, &quot;stroke&quot;: true, &quot;weight&quot;: 3}\n            ).addTo(map_79f8d12debbb9fd5457e360a0677c10a);\n        \n    \n        var popup_1a7da6b5aab0247741e3605872ed8806 = L.popup({&quot;maxWidth&quot;: &quot;100%&quot;});\n\n        \n            var html_b7320c8c73bb97e518d074f5d6061345 = $(`&lt;div id=&quot;html_b7320c8c73bb97e518d074f5d6061345&quot; style=&quot;width: 100.0%; height: 100.0%;&quot;&gt;PUERTA BONITA Cluster 0&lt;/div&gt;`)[0];\n            popup_1a7da6b5aab0247741e3605872ed8806.setContent(html_b7320c8c73bb97e518d074f5d6061345);\n        \n\n        circle_marker_40572f14d29d32f1b4923a74dd088cc7.bindPopup(popup_1a7da6b5aab0247741e3605872ed8806)\n        ;\n\n        \n    \n    \n            var circle_marker_bf041749e42dffd69f8baf51ff635ee5 = L.circleMarker(\n                [40.36860000000007, -3.7400499999999397],\n                {&quot;bubblingMouseEvents&quot;: true, &quot;color&quot;: &quot;#3388ff&quot;, &quot;dashArray&quot;: null, &quot;dashOffset&quot;: null, &quot;fill&quot;: true, &quot;fillColor&quot;: &quot;#3388ff&quot;, &quot;fillOpacity&quot;: 0.7, &quot;fillRule&quot;: &quot;evenodd&quot;, &quot;lineCap&quot;: &quot;round&quot;, &quot;lineJoin&quot;: &quot;round&quot;, &quot;opacity&quot;: 1.0, &quot;radius&quot;: 5, &quot;stroke&quot;: true, &quot;weight&quot;: 3}\n            ).addTo(map_79f8d12debbb9fd5457e360a0677c10a);\n        \n    \n        var popup_6a126d0100607fa71bdd1301139ca47e = L.popup({&quot;maxWidth&quot;: &quot;100%&quot;});\n\n        \n            var html_093ce7fb526f4e5e766e171b613278e3 = $(`&lt;div id=&quot;html_093ce7fb526f4e5e766e171b613278e3&quot; style=&quot;width: 100.0%; height: 100.0%;&quot;&gt;BUENAVISTA Cluster 3&lt;/div&gt;`)[0];\n            popup_6a126d0100607fa71bdd1301139ca47e.setContent(html_093ce7fb526f4e5e766e171b613278e3);\n        \n\n        circle_marker_bf041749e42dffd69f8baf51ff635ee5.bindPopup(popup_6a126d0100607fa71bdd1301139ca47e)\n        ;\n\n        \n    \n    \n            var circle_marker_ef214cb701cb0312233a15487b30c929 = L.circleMarker(\n                [40.379800000000046, -3.726359999999943],\n                {&quot;bubblingMouseEvents&quot;: true, &quot;color&quot;: &quot;#3388ff&quot;, &quot;dashArray&quot;: null, &quot;dashOffset&quot;: null, &quot;fill&quot;: true, &quot;fillColor&quot;: &quot;#3388ff&quot;, &quot;fillOpacity&quot;: 0.7, &quot;fillRule&quot;: &quot;evenodd&quot;, &quot;lineCap&quot;: &quot;round&quot;, &quot;lineJoin&quot;: &quot;round&quot;, &quot;opacity&quot;: 1.0, &quot;radius&quot;: 5, &quot;stroke&quot;: true, &quot;weight&quot;: 3}\n            ).addTo(map_79f8d12debbb9fd5457e360a0677c10a);\n        \n    \n        var popup_ee416bce68257077ec6c80f5bc7e7188 = L.popup({&quot;maxWidth&quot;: &quot;100%&quot;});\n\n        \n            var html_abd0eea5fd064bfda146041ee3113b49 = $(`&lt;div id=&quot;html_abd0eea5fd064bfda146041ee3113b49&quot; style=&quot;width: 100.0%; height: 100.0%;&quot;&gt;ABRANTES Cluster 0&lt;/div&gt;`)[0];\n            popup_ee416bce68257077ec6c80f5bc7e7188.setContent(html_abd0eea5fd064bfda146041ee3113b49);\n        \n\n        circle_marker_ef214cb701cb0312233a15487b30c929.bindPopup(popup_ee416bce68257077ec6c80f5bc7e7188)\n        ;\n\n        \n    \n    \n            var circle_marker_e4f3a4207dfa8d944ba72261fd5f9ee8 = L.circleMarker(\n                [40.36985000000004, -3.7123099999999454],\n                {&quot;bubblingMouseEvents&quot;: true, &quot;color&quot;: &quot;#3388ff&quot;, &quot;dashArray&quot;: null, &quot;dashOffset&quot;: null, &quot;fill&quot;: true, &quot;fillColor&quot;: &quot;#3388ff&quot;, &quot;fillOpacity&quot;: 0.7, &quot;fillRule&quot;: &quot;evenodd&quot;, &quot;lineCap&quot;: &quot;round&quot;, &quot;lineJoin&quot;: &quot;round&quot;, &quot;opacity&quot;: 1.0, &quot;radius&quot;: 5, &quot;stroke&quot;: true, &quot;weight&quot;: 3}\n            ).addTo(map_79f8d12debbb9fd5457e360a0677c10a);\n        \n    \n        var popup_9084bbdfb35416948767a379385a6d4a = L.popup({&quot;maxWidth&quot;: &quot;100%&quot;});\n\n        \n            var html_02c27bde6edfc332aac34b32dbf0f66a = $(`&lt;div id=&quot;html_02c27bde6edfc332aac34b32dbf0f66a&quot; style=&quot;width: 100.0%; height: 100.0%;&quot;&gt;ORCASITAS Cluster 0&lt;/div&gt;`)[0];\n            popup_9084bbdfb35416948767a379385a6d4a.setContent(html_02c27bde6edfc332aac34b32dbf0f66a);\n        \n\n        circle_marker_e4f3a4207dfa8d944ba72261fd5f9ee8.bindPopup(popup_9084bbdfb35416948767a379385a6d4a)\n        ;\n\n        \n    \n    \n            var circle_marker_c3385310d757ffaddad74fe7262d8038 = L.circleMarker(\n                [40.37099000000006, -3.699459999999931],\n                {&quot;bubblingMouseEvents&quot;: true, &quot;color&quot;: &quot;#3388ff&quot;, &quot;dashArray&quot;: null, &quot;dashOffset&quot;: null, &quot;fill&quot;: true, &quot;fillColor&quot;: &quot;#3388ff&quot;, &quot;fillOpacity&quot;: 0.7, &quot;fillRule&quot;: &quot;evenodd&quot;, &quot;lineCap&quot;: &quot;round&quot;, &quot;lineJoin&quot;: &quot;round&quot;, &quot;opacity&quot;: 1.0, &quot;radius&quot;: 5, &quot;stroke&quot;: true, &quot;weight&quot;: 3}\n            ).addTo(map_79f8d12debbb9fd5457e360a0677c10a);\n        \n    \n        var popup_177d11b703bf899f894cc91fb7df3832 = L.popup({&quot;maxWidth&quot;: &quot;100%&quot;});\n\n        \n            var html_edde7cd7708e2e9e26573a2d433311e8 = $(`&lt;div id=&quot;html_edde7cd7708e2e9e26573a2d433311e8&quot; style=&quot;width: 100.0%; height: 100.0%;&quot;&gt;ORCASUR Cluster 3&lt;/div&gt;`)[0];\n            popup_177d11b703bf899f894cc91fb7df3832.setContent(html_edde7cd7708e2e9e26573a2d433311e8);\n        \n\n        circle_marker_c3385310d757ffaddad74fe7262d8038.bindPopup(popup_177d11b703bf899f894cc91fb7df3832)\n        ;\n\n        \n    \n    \n            var circle_marker_00f77941ccb650b7f63db716757e56ac = L.circleMarker(\n                [40.37369000000007, -3.6902599999999666],\n                {&quot;bubblingMouseEvents&quot;: true, &quot;color&quot;: &quot;#3388ff&quot;, &quot;dashArray&quot;: null, &quot;dashOffset&quot;: null, &quot;fill&quot;: true, &quot;fillColor&quot;: &quot;#3388ff&quot;, &quot;fillOpacity&quot;: 0.7, &quot;fillRule&quot;: &quot;evenodd&quot;, &quot;lineCap&quot;: &quot;round&quot;, &quot;lineJoin&quot;: &quot;round&quot;, &quot;opacity&quot;: 1.0, &quot;radius&quot;: 5, &quot;stroke&quot;: true, &quot;weight&quot;: 3}\n            ).addTo(map_79f8d12debbb9fd5457e360a0677c10a);\n        \n    \n        var popup_774312b1cc84f93bf9573ae939e2345e = L.popup({&quot;maxWidth&quot;: &quot;100%&quot;});\n\n        \n            var html_b77a824280827fa2b1384b51b5cd3ccd = $(`&lt;div id=&quot;html_b77a824280827fa2b1384b51b5cd3ccd&quot; style=&quot;width: 100.0%; height: 100.0%;&quot;&gt;SAN FERMIN Cluster 3&lt;/div&gt;`)[0];\n            popup_774312b1cc84f93bf9573ae939e2345e.setContent(html_b77a824280827fa2b1384b51b5cd3ccd);\n        \n\n        circle_marker_00f77941ccb650b7f63db716757e56ac.bindPopup(popup_774312b1cc84f93bf9573ae939e2345e)\n        ;\n\n        \n    \n    \n            var circle_marker_7641ad5598a88d4406a5930b4ac1eaef = L.circleMarker(\n                [40.38431000000003, -3.6999199999999632],\n                {&quot;bubblingMouseEvents&quot;: true, &quot;color&quot;: &quot;#3388ff&quot;, &quot;dashArray&quot;: null, &quot;dashOffset&quot;: null, &quot;fill&quot;: true, &quot;fillColor&quot;: &quot;#3388ff&quot;, &quot;fillOpacity&quot;: 0.7, &quot;fillRule&quot;: &quot;evenodd&quot;, &quot;lineCap&quot;: &quot;round&quot;, &quot;lineJoin&quot;: &quot;round&quot;, &quot;opacity&quot;: 1.0, &quot;radius&quot;: 5, &quot;stroke&quot;: true, &quot;weight&quot;: 3}\n            ).addTo(map_79f8d12debbb9fd5457e360a0677c10a);\n        \n    \n        var popup_c065602b8e7dccdcd7c3696aa27e67d8 = L.popup({&quot;maxWidth&quot;: &quot;100%&quot;});\n\n        \n            var html_dbb0d545296df226a44ed108c0783695 = $(`&lt;div id=&quot;html_dbb0d545296df226a44ed108c0783695&quot; style=&quot;width: 100.0%; height: 100.0%;&quot;&gt;ALMENDRALES Cluster 0&lt;/div&gt;`)[0];\n            popup_c065602b8e7dccdcd7c3696aa27e67d8.setContent(html_dbb0d545296df226a44ed108c0783695);\n        \n\n        circle_marker_7641ad5598a88d4406a5930b4ac1eaef.bindPopup(popup_c065602b8e7dccdcd7c3696aa27e67d8)\n        ;\n\n        \n    \n    \n            var circle_marker_08682dacb62cdca725c7d60bb201337e = L.circleMarker(\n                [40.388870000000054, -3.706649999999968],\n                {&quot;bubblingMouseEvents&quot;: true, &quot;color&quot;: &quot;#3388ff&quot;, &quot;dashArray&quot;: null, &quot;dashOffset&quot;: null, &quot;fill&quot;: true, &quot;fillColor&quot;: &quot;#3388ff&quot;, &quot;fillOpacity&quot;: 0.7, &quot;fillRule&quot;: &quot;evenodd&quot;, &quot;lineCap&quot;: &quot;round&quot;, &quot;lineJoin&quot;: &quot;round&quot;, &quot;opacity&quot;: 1.0, &quot;radius&quot;: 5, &quot;stroke&quot;: true, &quot;weight&quot;: 3}\n            ).addTo(map_79f8d12debbb9fd5457e360a0677c10a);\n        \n    \n        var popup_87c03713a4d5d18ae5adc1bbf23da3f0 = L.popup({&quot;maxWidth&quot;: &quot;100%&quot;});\n\n        \n            var html_5c8d8e671e8472b8d9189eccdc135051 = $(`&lt;div id=&quot;html_5c8d8e671e8472b8d9189eccdc135051&quot; style=&quot;width: 100.0%; height: 100.0%;&quot;&gt;MOSCARDO Cluster 0&lt;/div&gt;`)[0];\n            popup_87c03713a4d5d18ae5adc1bbf23da3f0.setContent(html_5c8d8e671e8472b8d9189eccdc135051);\n        \n\n        circle_marker_08682dacb62cdca725c7d60bb201337e.bindPopup(popup_87c03713a4d5d18ae5adc1bbf23da3f0)\n        ;\n\n        \n    \n    \n            var circle_marker_87d45a1b700bd1112f0fce2046c26a09 = L.circleMarker(\n                [40.37987000000004, -3.7149499999999307],\n                {&quot;bubblingMouseEvents&quot;: true, &quot;color&quot;: &quot;#3388ff&quot;, &quot;dashArray&quot;: null, &quot;dashOffset&quot;: null, &quot;fill&quot;: true, &quot;fillColor&quot;: &quot;#3388ff&quot;, &quot;fillOpacity&quot;: 0.7, &quot;fillRule&quot;: &quot;evenodd&quot;, &quot;lineCap&quot;: &quot;round&quot;, &quot;lineJoin&quot;: &quot;round&quot;, &quot;opacity&quot;: 1.0, &quot;radius&quot;: 5, &quot;stroke&quot;: true, &quot;weight&quot;: 3}\n            ).addTo(map_79f8d12debbb9fd5457e360a0677c10a);\n        \n    \n        var popup_e3f6e79c384470228b84892f90304233 = L.popup({&quot;maxWidth&quot;: &quot;100%&quot;});\n\n        \n            var html_40f4e8a7172716b03bea382a4a0a4609 = $(`&lt;div id=&quot;html_40f4e8a7172716b03bea382a4a0a4609&quot; style=&quot;width: 100.0%; height: 100.0%;&quot;&gt;ZOFIO Cluster 0&lt;/div&gt;`)[0];\n            popup_e3f6e79c384470228b84892f90304233.setContent(html_40f4e8a7172716b03bea382a4a0a4609);\n        \n\n        circle_marker_87d45a1b700bd1112f0fce2046c26a09.bindPopup(popup_e3f6e79c384470228b84892f90304233)\n        ;\n\n        \n    \n    \n            var circle_marker_5b7e53b2fc6382e883e778e3b09502cd = L.circleMarker(\n                [40.38297000000006, -3.7086499999999774],\n                {&quot;bubblingMouseEvents&quot;: true, &quot;color&quot;: &quot;#3388ff&quot;, &quot;dashArray&quot;: null, &quot;dashOffset&quot;: null, &quot;fill&quot;: true, &quot;fillColor&quot;: &quot;#3388ff&quot;, &quot;fillOpacity&quot;: 0.7, &quot;fillRule&quot;: &quot;evenodd&quot;, &quot;lineCap&quot;: &quot;round&quot;, &quot;lineJoin&quot;: &quot;round&quot;, &quot;opacity&quot;: 1.0, &quot;radius&quot;: 5, &quot;stroke&quot;: true, &quot;weight&quot;: 3}\n            ).addTo(map_79f8d12debbb9fd5457e360a0677c10a);\n        \n    \n        var popup_b4d521b2f9d98441b5edc9233e67bbb8 = L.popup({&quot;maxWidth&quot;: &quot;100%&quot;});\n\n        \n            var html_2bc651afd35554a401fae1410353d014 = $(`&lt;div id=&quot;html_2bc651afd35554a401fae1410353d014&quot; style=&quot;width: 100.0%; height: 100.0%;&quot;&gt;PRADOLONGO Cluster 0&lt;/div&gt;`)[0];\n            popup_b4d521b2f9d98441b5edc9233e67bbb8.setContent(html_2bc651afd35554a401fae1410353d014);\n        \n\n        circle_marker_5b7e53b2fc6382e883e778e3b09502cd.bindPopup(popup_b4d521b2f9d98441b5edc9233e67bbb8)\n        ;\n\n        \n    \n    \n            var circle_marker_bc053f3bdc78bfe315fc1c2ef05f0430 = L.circleMarker(\n                [40.37925000000007, -3.67211999999995],\n                {&quot;bubblingMouseEvents&quot;: true, &quot;color&quot;: &quot;#3388ff&quot;, &quot;dashArray&quot;: null, &quot;dashOffset&quot;: null, &quot;fill&quot;: true, &quot;fillColor&quot;: &quot;#3388ff&quot;, &quot;fillOpacity&quot;: 0.7, &quot;fillRule&quot;: &quot;evenodd&quot;, &quot;lineCap&quot;: &quot;round&quot;, &quot;lineJoin&quot;: &quot;round&quot;, &quot;opacity&quot;: 1.0, &quot;radius&quot;: 5, &quot;stroke&quot;: true, &quot;weight&quot;: 3}\n            ).addTo(map_79f8d12debbb9fd5457e360a0677c10a);\n        \n    \n        var popup_45b5126c4b974febd84c62e53e3814e0 = L.popup({&quot;maxWidth&quot;: &quot;100%&quot;});\n\n        \n            var html_73c8becf66474abee6e88c91994b8885 = $(`&lt;div id=&quot;html_73c8becf66474abee6e88c91994b8885&quot; style=&quot;width: 100.0%; height: 100.0%;&quot;&gt;ENTREVIAS Cluster 0&lt;/div&gt;`)[0];\n            popup_45b5126c4b974febd84c62e53e3814e0.setContent(html_73c8becf66474abee6e88c91994b8885);\n        \n\n        circle_marker_bc053f3bdc78bfe315fc1c2ef05f0430.bindPopup(popup_45b5126c4b974febd84c62e53e3814e0)\n        ;\n\n        \n    \n    \n            var circle_marker_66f642a6a31f1c2a35194f3b4875fb0a = L.circleMarker(\n                [40.392310000000066, -3.6679999999999495],\n                {&quot;bubblingMouseEvents&quot;: true, &quot;color&quot;: &quot;#3388ff&quot;, &quot;dashArray&quot;: null, &quot;dashOffset&quot;: null, &quot;fill&quot;: true, &quot;fillColor&quot;: &quot;#3388ff&quot;, &quot;fillOpacity&quot;: 0.7, &quot;fillRule&quot;: &quot;evenodd&quot;, &quot;lineCap&quot;: &quot;round&quot;, &quot;lineJoin&quot;: &quot;round&quot;, &quot;opacity&quot;: 1.0, &quot;radius&quot;: 5, &quot;stroke&quot;: true, &quot;weight&quot;: 3}\n            ).addTo(map_79f8d12debbb9fd5457e360a0677c10a);\n        \n    \n        var popup_ff934068c73ae2c62da72d4643148749 = L.popup({&quot;maxWidth&quot;: &quot;100%&quot;});\n\n        \n            var html_0c560d5b9f89673446fcaab71ba165eb = $(`&lt;div id=&quot;html_0c560d5b9f89673446fcaab71ba165eb&quot; style=&quot;width: 100.0%; height: 100.0%;&quot;&gt;SAN DIEGO Cluster 3&lt;/div&gt;`)[0];\n            popup_ff934068c73ae2c62da72d4643148749.setContent(html_0c560d5b9f89673446fcaab71ba165eb);\n        \n\n        circle_marker_66f642a6a31f1c2a35194f3b4875fb0a.bindPopup(popup_ff934068c73ae2c62da72d4643148749)\n        ;\n\n        \n    \n    \n            var circle_marker_dd431e999dae448330816f9820319aaa = L.circleMarker(\n                [40.387560000000065, -3.660289999999975],\n                {&quot;bubblingMouseEvents&quot;: true, &quot;color&quot;: &quot;#3388ff&quot;, &quot;dashArray&quot;: null, &quot;dashOffset&quot;: null, &quot;fill&quot;: true, &quot;fillColor&quot;: &quot;#3388ff&quot;, &quot;fillOpacity&quot;: 0.7, &quot;fillRule&quot;: &quot;evenodd&quot;, &quot;lineCap&quot;: &quot;round&quot;, &quot;lineJoin&quot;: &quot;round&quot;, &quot;opacity&quot;: 1.0, &quot;radius&quot;: 5, &quot;stroke&quot;: true, &quot;weight&quot;: 3}\n            ).addTo(map_79f8d12debbb9fd5457e360a0677c10a);\n        \n    \n        var popup_3451fa7afdd9b175fa2773d99a89ecb1 = L.popup({&quot;maxWidth&quot;: &quot;100%&quot;});\n\n        \n            var html_46ee8692483ea8d0a8b1d64c9f50a258 = $(`&lt;div id=&quot;html_46ee8692483ea8d0a8b1d64c9f50a258&quot; style=&quot;width: 100.0%; height: 100.0%;&quot;&gt;PALOMERAS BAJAS Cluster 0&lt;/div&gt;`)[0];\n            popup_3451fa7afdd9b175fa2773d99a89ecb1.setContent(html_46ee8692483ea8d0a8b1d64c9f50a258);\n        \n\n        circle_marker_dd431e999dae448330816f9820319aaa.bindPopup(popup_3451fa7afdd9b175fa2773d99a89ecb1)\n        ;\n\n        \n    \n    \n            var circle_marker_8c762c87b37816e7b28c94148f602060 = L.circleMarker(\n                [40.38537000000008, -3.6352999999999724],\n                {&quot;bubblingMouseEvents&quot;: true, &quot;color&quot;: &quot;#3388ff&quot;, &quot;dashArray&quot;: null, &quot;dashOffset&quot;: null, &quot;fill&quot;: true, &quot;fillColor&quot;: &quot;#3388ff&quot;, &quot;fillOpacity&quot;: 0.7, &quot;fillRule&quot;: &quot;evenodd&quot;, &quot;lineCap&quot;: &quot;round&quot;, &quot;lineJoin&quot;: &quot;round&quot;, &quot;opacity&quot;: 1.0, &quot;radius&quot;: 5, &quot;stroke&quot;: true, &quot;weight&quot;: 3}\n            ).addTo(map_79f8d12debbb9fd5457e360a0677c10a);\n        \n    \n        var popup_a0dc7e960d2762591d24a5a9da688d3b = L.popup({&quot;maxWidth&quot;: &quot;100%&quot;});\n\n        \n            var html_a2d0733b7a78a3a2a7ed2828f1993763 = $(`&lt;div id=&quot;html_a2d0733b7a78a3a2a7ed2828f1993763&quot; style=&quot;width: 100.0%; height: 100.0%;&quot;&gt;PALOMERAS SURESTE Cluster 3&lt;/div&gt;`)[0];\n            popup_a0dc7e960d2762591d24a5a9da688d3b.setContent(html_a2d0733b7a78a3a2a7ed2828f1993763);\n        \n\n        circle_marker_8c762c87b37816e7b28c94148f602060.bindPopup(popup_a0dc7e960d2762591d24a5a9da688d3b)\n        ;\n\n        \n    \n    \n            var circle_marker_be7aacae316203b2e1a9f2c9c276968d = L.circleMarker(\n                [40.390870000000064, -3.6480999999999426],\n                {&quot;bubblingMouseEvents&quot;: true, &quot;color&quot;: &quot;#3388ff&quot;, &quot;dashArray&quot;: null, &quot;dashOffset&quot;: null, &quot;fill&quot;: true, &quot;fillColor&quot;: &quot;#3388ff&quot;, &quot;fillOpacity&quot;: 0.7, &quot;fillRule&quot;: &quot;evenodd&quot;, &quot;lineCap&quot;: &quot;round&quot;, &quot;lineJoin&quot;: &quot;round&quot;, &quot;opacity&quot;: 1.0, &quot;radius&quot;: 5, &quot;stroke&quot;: true, &quot;weight&quot;: 3}\n            ).addTo(map_79f8d12debbb9fd5457e360a0677c10a);\n        \n    \n        var popup_5b45f7c88a40d1d52e1337a63155bf3b = L.popup({&quot;maxWidth&quot;: &quot;100%&quot;});\n\n        \n            var html_ff56e60502e233aeba1e43df92fd9e43 = $(`&lt;div id=&quot;html_ff56e60502e233aeba1e43df92fd9e43&quot; style=&quot;width: 100.0%; height: 100.0%;&quot;&gt;PORTAZGO Cluster 0&lt;/div&gt;`)[0];\n            popup_5b45f7c88a40d1d52e1337a63155bf3b.setContent(html_ff56e60502e233aeba1e43df92fd9e43);\n        \n\n        circle_marker_be7aacae316203b2e1a9f2c9c276968d.bindPopup(popup_5b45f7c88a40d1d52e1337a63155bf3b)\n        ;\n\n        \n    \n    \n            var circle_marker_a9aa1e3471f0868b42a3dd8df043f47f = L.circleMarker(\n                [40.398510000000044, -3.6590099999999666],\n                {&quot;bubblingMouseEvents&quot;: true, &quot;color&quot;: &quot;#3388ff&quot;, &quot;dashArray&quot;: null, &quot;dashOffset&quot;: null, &quot;fill&quot;: true, &quot;fillColor&quot;: &quot;#3388ff&quot;, &quot;fillOpacity&quot;: 0.7, &quot;fillRule&quot;: &quot;evenodd&quot;, &quot;lineCap&quot;: &quot;round&quot;, &quot;lineJoin&quot;: &quot;round&quot;, &quot;opacity&quot;: 1.0, &quot;radius&quot;: 5, &quot;stroke&quot;: true, &quot;weight&quot;: 3}\n            ).addTo(map_79f8d12debbb9fd5457e360a0677c10a);\n        \n    \n        var popup_43065d77743b5d1b95de93607dc8d65b = L.popup({&quot;maxWidth&quot;: &quot;100%&quot;});\n\n        \n            var html_cd91413d164f877b06f2d17e1e22d4b2 = $(`&lt;div id=&quot;html_cd91413d164f877b06f2d17e1e22d4b2&quot; style=&quot;width: 100.0%; height: 100.0%;&quot;&gt;NUMANCIA Cluster 0&lt;/div&gt;`)[0];\n            popup_43065d77743b5d1b95de93607dc8d65b.setContent(html_cd91413d164f877b06f2d17e1e22d4b2);\n        \n\n        circle_marker_a9aa1e3471f0868b42a3dd8df043f47f.bindPopup(popup_43065d77743b5d1b95de93607dc8d65b)\n        ;\n\n        \n    \n    \n            var circle_marker_78e4b1d36c45e973886ea8860130608b = L.circleMarker(\n                [40.40004000000005, -3.6329999999999245],\n                {&quot;bubblingMouseEvents&quot;: true, &quot;color&quot;: &quot;#3388ff&quot;, &quot;dashArray&quot;: null, &quot;dashOffset&quot;: null, &quot;fill&quot;: true, &quot;fillColor&quot;: &quot;#3388ff&quot;, &quot;fillOpacity&quot;: 0.7, &quot;fillRule&quot;: &quot;evenodd&quot;, &quot;lineCap&quot;: &quot;round&quot;, &quot;lineJoin&quot;: &quot;round&quot;, &quot;opacity&quot;: 1.0, &quot;radius&quot;: 5, &quot;stroke&quot;: true, &quot;weight&quot;: 3}\n            ).addTo(map_79f8d12debbb9fd5457e360a0677c10a);\n        \n    \n        var popup_986c003f48d440f75e87a0c133f278c5 = L.popup({&quot;maxWidth&quot;: &quot;100%&quot;});\n\n        \n            var html_698eb1455fa508eaf403bd2a9cd7fd9e = $(`&lt;div id=&quot;html_698eb1455fa508eaf403bd2a9cd7fd9e&quot; style=&quot;width: 100.0%; height: 100.0%;&quot;&gt;PAVONES Cluster 3&lt;/div&gt;`)[0];\n            popup_986c003f48d440f75e87a0c133f278c5.setContent(html_698eb1455fa508eaf403bd2a9cd7fd9e);\n        \n\n        circle_marker_78e4b1d36c45e973886ea8860130608b.bindPopup(popup_986c003f48d440f75e87a0c133f278c5)\n        ;\n\n        \n    \n    \n            var circle_marker_80d563ab3c65a7164cb035dadd387d9d = L.circleMarker(\n                [40.407290000000046, -3.627369999999928],\n                {&quot;bubblingMouseEvents&quot;: true, &quot;color&quot;: &quot;#3388ff&quot;, &quot;dashArray&quot;: null, &quot;dashOffset&quot;: null, &quot;fill&quot;: true, &quot;fillColor&quot;: &quot;#3388ff&quot;, &quot;fillOpacity&quot;: 0.7, &quot;fillRule&quot;: &quot;evenodd&quot;, &quot;lineCap&quot;: &quot;round&quot;, &quot;lineJoin&quot;: &quot;round&quot;, &quot;opacity&quot;: 1.0, &quot;radius&quot;: 5, &quot;stroke&quot;: true, &quot;weight&quot;: 3}\n            ).addTo(map_79f8d12debbb9fd5457e360a0677c10a);\n        \n    \n        var popup_7db666a6d8ad524c4f11f19993a47d96 = L.popup({&quot;maxWidth&quot;: &quot;100%&quot;});\n\n        \n            var html_52d41ee4bc1487369738e91666eff51e = $(`&lt;div id=&quot;html_52d41ee4bc1487369738e91666eff51e&quot; style=&quot;width: 100.0%; height: 100.0%;&quot;&gt;HORCAJO Cluster 0&lt;/div&gt;`)[0];\n            popup_7db666a6d8ad524c4f11f19993a47d96.setContent(html_52d41ee4bc1487369738e91666eff51e);\n        \n\n        circle_marker_80d563ab3c65a7164cb035dadd387d9d.bindPopup(popup_7db666a6d8ad524c4f11f19993a47d96)\n        ;\n\n        \n    \n    \n            var circle_marker_1d6a822a5ef846c14cce971222ad5335 = L.circleMarker(\n                [40.41176000000007, -3.6461799999999585],\n                {&quot;bubblingMouseEvents&quot;: true, &quot;color&quot;: &quot;#3388ff&quot;, &quot;dashArray&quot;: null, &quot;dashOffset&quot;: null, &quot;fill&quot;: true, &quot;fillColor&quot;: &quot;#3388ff&quot;, &quot;fillOpacity&quot;: 0.7, &quot;fillRule&quot;: &quot;evenodd&quot;, &quot;lineCap&quot;: &quot;round&quot;, &quot;lineJoin&quot;: &quot;round&quot;, &quot;opacity&quot;: 1.0, &quot;radius&quot;: 5, &quot;stroke&quot;: true, &quot;weight&quot;: 3}\n            ).addTo(map_79f8d12debbb9fd5457e360a0677c10a);\n        \n    \n        var popup_6543c7f14b2de0df6699b90aac68ca01 = L.popup({&quot;maxWidth&quot;: &quot;100%&quot;});\n\n        \n            var html_5449ebd6ba5d2a0d750fcdd7a9c711c3 = $(`&lt;div id=&quot;html_5449ebd6ba5d2a0d750fcdd7a9c711c3&quot; style=&quot;width: 100.0%; height: 100.0%;&quot;&gt;MARROQUINA Cluster 0&lt;/div&gt;`)[0];\n            popup_6543c7f14b2de0df6699b90aac68ca01.setContent(html_5449ebd6ba5d2a0d750fcdd7a9c711c3);\n        \n\n        circle_marker_1d6a822a5ef846c14cce971222ad5335.bindPopup(popup_6543c7f14b2de0df6699b90aac68ca01)\n        ;\n\n        \n    \n    \n            var circle_marker_5ad07f4aef93ebe0b3014b7c5994a376 = L.circleMarker(\n                [40.41074000000003, -3.6595199999999295],\n                {&quot;bubblingMouseEvents&quot;: true, &quot;color&quot;: &quot;#3388ff&quot;, &quot;dashArray&quot;: null, &quot;dashOffset&quot;: null, &quot;fill&quot;: true, &quot;fillColor&quot;: &quot;#3388ff&quot;, &quot;fillOpacity&quot;: 0.7, &quot;fillRule&quot;: &quot;evenodd&quot;, &quot;lineCap&quot;: &quot;round&quot;, &quot;lineJoin&quot;: &quot;round&quot;, &quot;opacity&quot;: 1.0, &quot;radius&quot;: 5, &quot;stroke&quot;: true, &quot;weight&quot;: 3}\n            ).addTo(map_79f8d12debbb9fd5457e360a0677c10a);\n        \n    \n        var popup_b1ff18c3181ff1484b36ecd21c07999d = L.popup({&quot;maxWidth&quot;: &quot;100%&quot;});\n\n        \n            var html_3a460a6f7c63f5cf57761b4b8cfc8465 = $(`&lt;div id=&quot;html_3a460a6f7c63f5cf57761b4b8cfc8465&quot; style=&quot;width: 100.0%; height: 100.0%;&quot;&gt;MEDIA LEGUA Cluster 2&lt;/div&gt;`)[0];\n            popup_b1ff18c3181ff1484b36ecd21c07999d.setContent(html_3a460a6f7c63f5cf57761b4b8cfc8465);\n        \n\n        circle_marker_5ad07f4aef93ebe0b3014b7c5994a376.bindPopup(popup_b1ff18c3181ff1484b36ecd21c07999d)\n        ;\n\n        \n    \n    \n            var circle_marker_9fc347b5f515dd25fd534b49fa827d7c = L.circleMarker(\n                [40.40301000000005, -3.649099999999976],\n                {&quot;bubblingMouseEvents&quot;: true, &quot;color&quot;: &quot;#3388ff&quot;, &quot;dashArray&quot;: null, &quot;dashOffset&quot;: null, &quot;fill&quot;: true, &quot;fillColor&quot;: &quot;#3388ff&quot;, &quot;fillOpacity&quot;: 0.7, &quot;fillRule&quot;: &quot;evenodd&quot;, &quot;lineCap&quot;: &quot;round&quot;, &quot;lineJoin&quot;: &quot;round&quot;, &quot;opacity&quot;: 1.0, &quot;radius&quot;: 5, &quot;stroke&quot;: true, &quot;weight&quot;: 3}\n            ).addTo(map_79f8d12debbb9fd5457e360a0677c10a);\n        \n    \n        var popup_b18e116e58cb5bae4379a6a84e69f815 = L.popup({&quot;maxWidth&quot;: &quot;100%&quot;});\n\n        \n            var html_7a3919f8a6d9112807a460bc621140dc = $(`&lt;div id=&quot;html_7a3919f8a6d9112807a460bc621140dc&quot; style=&quot;width: 100.0%; height: 100.0%;&quot;&gt;FONTARRON Cluster 3&lt;/div&gt;`)[0];\n            popup_b18e116e58cb5bae4379a6a84e69f815.setContent(html_7a3919f8a6d9112807a460bc621140dc);\n        \n\n        circle_marker_9fc347b5f515dd25fd534b49fa827d7c.bindPopup(popup_b18e116e58cb5bae4379a6a84e69f815)\n        ;\n\n        \n    \n    \n            var circle_marker_575ee9fbe2408498bbaa8c3ddf134f08 = L.circleMarker(\n                [40.40444000000008, -3.6402899999999363],\n                {&quot;bubblingMouseEvents&quot;: true, &quot;color&quot;: &quot;#3388ff&quot;, &quot;dashArray&quot;: null, &quot;dashOffset&quot;: null, &quot;fill&quot;: true, &quot;fillColor&quot;: &quot;#3388ff&quot;, &quot;fillOpacity&quot;: 0.7, &quot;fillRule&quot;: &quot;evenodd&quot;, &quot;lineCap&quot;: &quot;round&quot;, &quot;lineJoin&quot;: &quot;round&quot;, &quot;opacity&quot;: 1.0, &quot;radius&quot;: 5, &quot;stroke&quot;: true, &quot;weight&quot;: 3}\n            ).addTo(map_79f8d12debbb9fd5457e360a0677c10a);\n        \n    \n        var popup_c6640de166896df61b0f730558a7c901 = L.popup({&quot;maxWidth&quot;: &quot;100%&quot;});\n\n        \n            var html_135a01f5e7af4c4a25bf7093cdb141d1 = $(`&lt;div id=&quot;html_135a01f5e7af4c4a25bf7093cdb141d1&quot; style=&quot;width: 100.0%; height: 100.0%;&quot;&gt;VINATEROS Cluster 0&lt;/div&gt;`)[0];\n            popup_c6640de166896df61b0f730558a7c901.setContent(html_135a01f5e7af4c4a25bf7093cdb141d1);\n        \n\n        circle_marker_575ee9fbe2408498bbaa8c3ddf134f08.bindPopup(popup_c6640de166896df61b0f730558a7c901)\n        ;\n\n        \n    \n    \n            var circle_marker_c984bd37bffd529bc32b5deb84521a83 = L.circleMarker(\n                [40.42238000000003, -3.650199999999927],\n                {&quot;bubblingMouseEvents&quot;: true, &quot;color&quot;: &quot;#3388ff&quot;, &quot;dashArray&quot;: null, &quot;dashOffset&quot;: null, &quot;fill&quot;: true, &quot;fillColor&quot;: &quot;#3388ff&quot;, &quot;fillOpacity&quot;: 0.7, &quot;fillRule&quot;: &quot;evenodd&quot;, &quot;lineCap&quot;: &quot;round&quot;, &quot;lineJoin&quot;: &quot;round&quot;, &quot;opacity&quot;: 1.0, &quot;radius&quot;: 5, &quot;stroke&quot;: true, &quot;weight&quot;: 3}\n            ).addTo(map_79f8d12debbb9fd5457e360a0677c10a);\n        \n    \n        var popup_43199d11e79df4db5602161fbfd1088f = L.popup({&quot;maxWidth&quot;: &quot;100%&quot;});\n\n        \n            var html_cf37b7c14f6bc4912482d908fe76c6f1 = $(`&lt;div id=&quot;html_cf37b7c14f6bc4912482d908fe76c6f1&quot; style=&quot;width: 100.0%; height: 100.0%;&quot;&gt;VENTAS Cluster 0&lt;/div&gt;`)[0];\n            popup_43199d11e79df4db5602161fbfd1088f.setContent(html_cf37b7c14f6bc4912482d908fe76c6f1);\n        \n\n        circle_marker_c984bd37bffd529bc32b5deb84521a83.bindPopup(popup_43199d11e79df4db5602161fbfd1088f)\n        ;\n\n        \n    \n    \n            var circle_marker_86413def6d18357045f8c6b57a2a7d62 = L.circleMarker(\n                [40.42895000000004, -3.6382599999999456],\n                {&quot;bubblingMouseEvents&quot;: true, &quot;color&quot;: &quot;#3388ff&quot;, &quot;dashArray&quot;: null, &quot;dashOffset&quot;: null, &quot;fill&quot;: true, &quot;fillColor&quot;: &quot;#3388ff&quot;, &quot;fillOpacity&quot;: 0.7, &quot;fillRule&quot;: &quot;evenodd&quot;, &quot;lineCap&quot;: &quot;round&quot;, &quot;lineJoin&quot;: &quot;round&quot;, &quot;opacity&quot;: 1.0, &quot;radius&quot;: 5, &quot;stroke&quot;: true, &quot;weight&quot;: 3}\n            ).addTo(map_79f8d12debbb9fd5457e360a0677c10a);\n        \n    \n        var popup_570a5420e8f8e9b96d58b8f25268821e = L.popup({&quot;maxWidth&quot;: &quot;100%&quot;});\n\n        \n            var html_a935d732bda03d9b3f9a7ea9e019caa2 = $(`&lt;div id=&quot;html_a935d732bda03d9b3f9a7ea9e019caa2&quot; style=&quot;width: 100.0%; height: 100.0%;&quot;&gt;PUEBLO NUEVO Cluster 3&lt;/div&gt;`)[0];\n            popup_570a5420e8f8e9b96d58b8f25268821e.setContent(html_a935d732bda03d9b3f9a7ea9e019caa2);\n        \n\n        circle_marker_86413def6d18357045f8c6b57a2a7d62.bindPopup(popup_570a5420e8f8e9b96d58b8f25268821e)\n        ;\n\n        \n    \n    \n            var circle_marker_a89a99cfd59e32278d583c64c2e3d1d6 = L.circleMarker(\n                [40.434690000000046, -3.653609999999958],\n                {&quot;bubblingMouseEvents&quot;: true, &quot;color&quot;: &quot;#3388ff&quot;, &quot;dashArray&quot;: null, &quot;dashOffset&quot;: null, &quot;fill&quot;: true, &quot;fillColor&quot;: &quot;#3388ff&quot;, &quot;fillOpacity&quot;: 0.7, &quot;fillRule&quot;: &quot;evenodd&quot;, &quot;lineCap&quot;: &quot;round&quot;, &quot;lineJoin&quot;: &quot;round&quot;, &quot;opacity&quot;: 1.0, &quot;radius&quot;: 5, &quot;stroke&quot;: true, &quot;weight&quot;: 3}\n            ).addTo(map_79f8d12debbb9fd5457e360a0677c10a);\n        \n    \n        var popup_7447138eaad6c1aa76a02ecf69ebfcb6 = L.popup({&quot;maxWidth&quot;: &quot;100%&quot;});\n\n        \n            var html_53efaed79b1575a6412144edce118140 = $(`&lt;div id=&quot;html_53efaed79b1575a6412144edce118140&quot; style=&quot;width: 100.0%; height: 100.0%;&quot;&gt;QUINTANA Cluster 0&lt;/div&gt;`)[0];\n            popup_7447138eaad6c1aa76a02ecf69ebfcb6.setContent(html_53efaed79b1575a6412144edce118140);\n        \n\n        circle_marker_a89a99cfd59e32278d583c64c2e3d1d6.bindPopup(popup_7447138eaad6c1aa76a02ecf69ebfcb6)\n        ;\n\n        \n    \n    \n            var circle_marker_4f0c863564821948f85121a548bb4770 = L.circleMarker(\n                [40.43974000000003, -3.648489999999981],\n                {&quot;bubblingMouseEvents&quot;: true, &quot;color&quot;: &quot;#3388ff&quot;, &quot;dashArray&quot;: null, &quot;dashOffset&quot;: null, &quot;fill&quot;: true, &quot;fillColor&quot;: &quot;#3388ff&quot;, &quot;fillOpacity&quot;: 0.7, &quot;fillRule&quot;: &quot;evenodd&quot;, &quot;lineCap&quot;: &quot;round&quot;, &quot;lineJoin&quot;: &quot;round&quot;, &quot;opacity&quot;: 1.0, &quot;radius&quot;: 5, &quot;stroke&quot;: true, &quot;weight&quot;: 3}\n            ).addTo(map_79f8d12debbb9fd5457e360a0677c10a);\n        \n    \n        var popup_3adf4becf08f275824ee0fe18bf14c1e = L.popup({&quot;maxWidth&quot;: &quot;100%&quot;});\n\n        \n            var html_49bd4b8f0b445f5a76ce493c8a3585ed = $(`&lt;div id=&quot;html_49bd4b8f0b445f5a76ce493c8a3585ed&quot; style=&quot;width: 100.0%; height: 100.0%;&quot;&gt;CONCEPCION Cluster 0&lt;/div&gt;`)[0];\n            popup_3adf4becf08f275824ee0fe18bf14c1e.setContent(html_49bd4b8f0b445f5a76ce493c8a3585ed);\n        \n\n        circle_marker_4f0c863564821948f85121a548bb4770.bindPopup(popup_3adf4becf08f275824ee0fe18bf14c1e)\n        ;\n\n        \n    \n    \n            var circle_marker_f4940e3a7edbe8e00ad88840e744246a = L.circleMarker(\n                [40.44550000000004, -3.651809999999955],\n                {&quot;bubblingMouseEvents&quot;: true, &quot;color&quot;: &quot;#3388ff&quot;, &quot;dashArray&quot;: null, &quot;dashOffset&quot;: null, &quot;fill&quot;: true, &quot;fillColor&quot;: &quot;#3388ff&quot;, &quot;fillOpacity&quot;: 0.7, &quot;fillRule&quot;: &quot;evenodd&quot;, &quot;lineCap&quot;: &quot;round&quot;, &quot;lineJoin&quot;: &quot;round&quot;, &quot;opacity&quot;: 1.0, &quot;radius&quot;: 5, &quot;stroke&quot;: true, &quot;weight&quot;: 3}\n            ).addTo(map_79f8d12debbb9fd5457e360a0677c10a);\n        \n    \n        var popup_0c49bcfbf9734a3ac0ff8eea9f9b5808 = L.popup({&quot;maxWidth&quot;: &quot;100%&quot;});\n\n        \n            var html_f337bb89f199f9c8902a354d034b5a99 = $(`&lt;div id=&quot;html_f337bb89f199f9c8902a354d034b5a99&quot; style=&quot;width: 100.0%; height: 100.0%;&quot;&gt;SAN PASCUAL Cluster 2&lt;/div&gt;`)[0];\n            popup_0c49bcfbf9734a3ac0ff8eea9f9b5808.setContent(html_f337bb89f199f9c8902a354d034b5a99);\n        \n\n        circle_marker_f4940e3a7edbe8e00ad88840e744246a.bindPopup(popup_0c49bcfbf9734a3ac0ff8eea9f9b5808)\n        ;\n\n        \n    \n    \n            var circle_marker_8e71994747726f6e4765bdbdc42f85c9 = L.circleMarker(\n                [40.45159000000007, -3.655909999999949],\n                {&quot;bubblingMouseEvents&quot;: true, &quot;color&quot;: &quot;#3388ff&quot;, &quot;dashArray&quot;: null, &quot;dashOffset&quot;: null, &quot;fill&quot;: true, &quot;fillColor&quot;: &quot;#3388ff&quot;, &quot;fillOpacity&quot;: 0.7, &quot;fillRule&quot;: &quot;evenodd&quot;, &quot;lineCap&quot;: &quot;round&quot;, &quot;lineJoin&quot;: &quot;round&quot;, &quot;opacity&quot;: 1.0, &quot;radius&quot;: 5, &quot;stroke&quot;: true, &quot;weight&quot;: 3}\n            ).addTo(map_79f8d12debbb9fd5457e360a0677c10a);\n        \n    \n        var popup_043f93cf1b8c462a77a352d746df6fe2 = L.popup({&quot;maxWidth&quot;: &quot;100%&quot;});\n\n        \n            var html_44cdd591817f430826f2763d05ab8227 = $(`&lt;div id=&quot;html_44cdd591817f430826f2763d05ab8227&quot; style=&quot;width: 100.0%; height: 100.0%;&quot;&gt;SAN JUAN BAUTISTA Cluster 2&lt;/div&gt;`)[0];\n            popup_043f93cf1b8c462a77a352d746df6fe2.setContent(html_44cdd591817f430826f2763d05ab8227);\n        \n\n        circle_marker_8e71994747726f6e4765bdbdc42f85c9.bindPopup(popup_043f93cf1b8c462a77a352d746df6fe2)\n        ;\n\n        \n    \n    \n            var circle_marker_c7735dfd798304148c762150e0911e21 = L.circleMarker(\n                [40.45861000000008, -3.6601199999999494],\n                {&quot;bubblingMouseEvents&quot;: true, &quot;color&quot;: &quot;#3388ff&quot;, &quot;dashArray&quot;: null, &quot;dashOffset&quot;: null, &quot;fill&quot;: true, &quot;fillColor&quot;: &quot;#3388ff&quot;, &quot;fillOpacity&quot;: 0.7, &quot;fillRule&quot;: &quot;evenodd&quot;, &quot;lineCap&quot;: &quot;round&quot;, &quot;lineJoin&quot;: &quot;round&quot;, &quot;opacity&quot;: 1.0, &quot;radius&quot;: 5, &quot;stroke&quot;: true, &quot;weight&quot;: 3}\n            ).addTo(map_79f8d12debbb9fd5457e360a0677c10a);\n        \n    \n        var popup_bbdb5714b0cc208330dce08d9b64dcf4 = L.popup({&quot;maxWidth&quot;: &quot;100%&quot;});\n\n        \n            var html_addccee577e1aa6cfaeb6aac53bd4c63 = $(`&lt;div id=&quot;html_addccee577e1aa6cfaeb6aac53bd4c63&quot; style=&quot;width: 100.0%; height: 100.0%;&quot;&gt;COLINA Cluster 3&lt;/div&gt;`)[0];\n            popup_bbdb5714b0cc208330dce08d9b64dcf4.setContent(html_addccee577e1aa6cfaeb6aac53bd4c63);\n        \n\n        circle_marker_c7735dfd798304148c762150e0911e21.bindPopup(popup_bbdb5714b0cc208330dce08d9b64dcf4)\n        ;\n\n        \n    \n    \n            var circle_marker_6f0876a0773cf03472e8e0c5f59aab25 = L.circleMarker(\n                [40.46457000000004, -3.66334999999998],\n                {&quot;bubblingMouseEvents&quot;: true, &quot;color&quot;: &quot;#3388ff&quot;, &quot;dashArray&quot;: null, &quot;dashOffset&quot;: null, &quot;fill&quot;: true, &quot;fillColor&quot;: &quot;#3388ff&quot;, &quot;fillOpacity&quot;: 0.7, &quot;fillRule&quot;: &quot;evenodd&quot;, &quot;lineCap&quot;: &quot;round&quot;, &quot;lineJoin&quot;: &quot;round&quot;, &quot;opacity&quot;: 1.0, &quot;radius&quot;: 5, &quot;stroke&quot;: true, &quot;weight&quot;: 3}\n            ).addTo(map_79f8d12debbb9fd5457e360a0677c10a);\n        \n    \n        var popup_eee93c3b49ca2a07b394cae4c812ae8e = L.popup({&quot;maxWidth&quot;: &quot;100%&quot;});\n\n        \n            var html_68d3b28bc33eb9b2032ce64d7b8a1611 = $(`&lt;div id=&quot;html_68d3b28bc33eb9b2032ce64d7b8a1611&quot; style=&quot;width: 100.0%; height: 100.0%;&quot;&gt;ATALAYA Cluster 3&lt;/div&gt;`)[0];\n            popup_eee93c3b49ca2a07b394cae4c812ae8e.setContent(html_68d3b28bc33eb9b2032ce64d7b8a1611);\n        \n\n        circle_marker_6f0876a0773cf03472e8e0c5f59aab25.bindPopup(popup_eee93c3b49ca2a07b394cae4c812ae8e)\n        ;\n\n        \n    \n    \n            var circle_marker_b8ca25a925250e2fa03aa5186a0be247 = L.circleMarker(\n                [40.48041000000006, -3.66826999999995],\n                {&quot;bubblingMouseEvents&quot;: true, &quot;color&quot;: &quot;#3388ff&quot;, &quot;dashArray&quot;: null, &quot;dashOffset&quot;: null, &quot;fill&quot;: true, &quot;fillColor&quot;: &quot;#3388ff&quot;, &quot;fillOpacity&quot;: 0.7, &quot;fillRule&quot;: &quot;evenodd&quot;, &quot;lineCap&quot;: &quot;round&quot;, &quot;lineJoin&quot;: &quot;round&quot;, &quot;opacity&quot;: 1.0, &quot;radius&quot;: 5, &quot;stroke&quot;: true, &quot;weight&quot;: 3}\n            ).addTo(map_79f8d12debbb9fd5457e360a0677c10a);\n        \n    \n        var popup_4b840fb6cee8d178102252eeacbc4732 = L.popup({&quot;maxWidth&quot;: &quot;100%&quot;});\n\n        \n            var html_45858f964753be1b9ab3b67bc06c703c = $(`&lt;div id=&quot;html_45858f964753be1b9ab3b67bc06c703c&quot; style=&quot;width: 100.0%; height: 100.0%;&quot;&gt;COSTILLARES Cluster 0&lt;/div&gt;`)[0];\n            popup_4b840fb6cee8d178102252eeacbc4732.setContent(html_45858f964753be1b9ab3b67bc06c703c);\n        \n\n        circle_marker_b8ca25a925250e2fa03aa5186a0be247.bindPopup(popup_4b840fb6cee8d178102252eeacbc4732)\n        ;\n\n        \n    \n    \n            var circle_marker_55f2e14ca5bc6b64fc3a154a667c154e = L.circleMarker(\n                [40.45383000000004, -3.615009999999927],\n                {&quot;bubblingMouseEvents&quot;: true, &quot;color&quot;: &quot;#3388ff&quot;, &quot;dashArray&quot;: null, &quot;dashOffset&quot;: null, &quot;fill&quot;: true, &quot;fillColor&quot;: &quot;#3388ff&quot;, &quot;fillOpacity&quot;: 0.7, &quot;fillRule&quot;: &quot;evenodd&quot;, &quot;lineCap&quot;: &quot;round&quot;, &quot;lineJoin&quot;: &quot;round&quot;, &quot;opacity&quot;: 1.0, &quot;radius&quot;: 5, &quot;stroke&quot;: true, &quot;weight&quot;: 3}\n            ).addTo(map_79f8d12debbb9fd5457e360a0677c10a);\n        \n    \n        var popup_088ae2e286c90b66fb12ef059e9c0157 = L.popup({&quot;maxWidth&quot;: &quot;100%&quot;});\n\n        \n            var html_3a31efe53ea0fd11b5a6a9625ff63b78 = $(`&lt;div id=&quot;html_3a31efe53ea0fd11b5a6a9625ff63b78&quot; style=&quot;width: 100.0%; height: 100.0%;&quot;&gt;PALOMAS Cluster 3&lt;/div&gt;`)[0];\n            popup_088ae2e286c90b66fb12ef059e9c0157.setContent(html_3a31efe53ea0fd11b5a6a9625ff63b78);\n        \n\n        circle_marker_55f2e14ca5bc6b64fc3a154a667c154e.bindPopup(popup_088ae2e286c90b66fb12ef059e9c0157)\n        ;\n\n        \n    \n    \n            var circle_marker_cb0bf622a710e9fba7f5479ae9ccb217 = L.circleMarker(\n                [40.45653000000004, -3.6370999999999754],\n                {&quot;bubblingMouseEvents&quot;: true, &quot;color&quot;: &quot;#3388ff&quot;, &quot;dashArray&quot;: null, &quot;dashOffset&quot;: null, &quot;fill&quot;: true, &quot;fillColor&quot;: &quot;#3388ff&quot;, &quot;fillOpacity&quot;: 0.7, &quot;fillRule&quot;: &quot;evenodd&quot;, &quot;lineCap&quot;: &quot;round&quot;, &quot;lineJoin&quot;: &quot;round&quot;, &quot;opacity&quot;: 1.0, &quot;radius&quot;: 5, &quot;stroke&quot;: true, &quot;weight&quot;: 3}\n            ).addTo(map_79f8d12debbb9fd5457e360a0677c10a);\n        \n    \n        var popup_61e2a418ed2d9d44a0cc4d5f59c113ff = L.popup({&quot;maxWidth&quot;: &quot;100%&quot;});\n\n        \n            var html_f32e7656ed93a8bbb28d2705f9afa621 = $(`&lt;div id=&quot;html_f32e7656ed93a8bbb28d2705f9afa621&quot; style=&quot;width: 100.0%; height: 100.0%;&quot;&gt;PIOVERA Cluster 3&lt;/div&gt;`)[0];\n            popup_61e2a418ed2d9d44a0cc4d5f59c113ff.setContent(html_f32e7656ed93a8bbb28d2705f9afa621);\n        \n\n        circle_marker_cb0bf622a710e9fba7f5479ae9ccb217.bindPopup(popup_61e2a418ed2d9d44a0cc4d5f59c113ff)\n        ;\n\n        \n    \n    \n            var circle_marker_36a8bcb0a4160e34978c6fc8e077ab5b = L.circleMarker(\n                [40.46448000000004, -3.643379999999979],\n                {&quot;bubblingMouseEvents&quot;: true, &quot;color&quot;: &quot;#3388ff&quot;, &quot;dashArray&quot;: null, &quot;dashOffset&quot;: null, &quot;fill&quot;: true, &quot;fillColor&quot;: &quot;#3388ff&quot;, &quot;fillOpacity&quot;: 0.7, &quot;fillRule&quot;: &quot;evenodd&quot;, &quot;lineCap&quot;: &quot;round&quot;, &quot;lineJoin&quot;: &quot;round&quot;, &quot;opacity&quot;: 1.0, &quot;radius&quot;: 5, &quot;stroke&quot;: true, &quot;weight&quot;: 3}\n            ).addTo(map_79f8d12debbb9fd5457e360a0677c10a);\n        \n    \n        var popup_8c11eb12465a6e83215ac48775aa01ca = L.popup({&quot;maxWidth&quot;: &quot;100%&quot;});\n\n        \n            var html_bfb0929412f04cc3b695222c55cd61a8 = $(`&lt;div id=&quot;html_bfb0929412f04cc3b695222c55cd61a8&quot; style=&quot;width: 100.0%; height: 100.0%;&quot;&gt;CANILLAS Cluster 0&lt;/div&gt;`)[0];\n            popup_8c11eb12465a6e83215ac48775aa01ca.setContent(html_bfb0929412f04cc3b695222c55cd61a8);\n        \n\n        circle_marker_36a8bcb0a4160e34978c6fc8e077ab5b.bindPopup(popup_8c11eb12465a6e83215ac48775aa01ca)\n        ;\n\n        \n    \n    \n            var circle_marker_89c3045808a0b55a036164e002267270 = L.circleMarker(\n                [40.47225000000003, -3.6494299999999384],\n                {&quot;bubblingMouseEvents&quot;: true, &quot;color&quot;: &quot;#3388ff&quot;, &quot;dashArray&quot;: null, &quot;dashOffset&quot;: null, &quot;fill&quot;: true, &quot;fillColor&quot;: &quot;#3388ff&quot;, &quot;fillOpacity&quot;: 0.7, &quot;fillRule&quot;: &quot;evenodd&quot;, &quot;lineCap&quot;: &quot;round&quot;, &quot;lineJoin&quot;: &quot;round&quot;, &quot;opacity&quot;: 1.0, &quot;radius&quot;: 5, &quot;stroke&quot;: true, &quot;weight&quot;: 3}\n            ).addTo(map_79f8d12debbb9fd5457e360a0677c10a);\n        \n    \n        var popup_60dd4c5f3acd650a678cf5ad2ea97619 = L.popup({&quot;maxWidth&quot;: &quot;100%&quot;});\n\n        \n            var html_adcb8b2739bdc55142909cbf821d3f3c = $(`&lt;div id=&quot;html_adcb8b2739bdc55142909cbf821d3f3c&quot; style=&quot;width: 100.0%; height: 100.0%;&quot;&gt;PINAR DEL REY Cluster 0&lt;/div&gt;`)[0];\n            popup_60dd4c5f3acd650a678cf5ad2ea97619.setContent(html_adcb8b2739bdc55142909cbf821d3f3c);\n        \n\n        circle_marker_89c3045808a0b55a036164e002267270.bindPopup(popup_60dd4c5f3acd650a678cf5ad2ea97619)\n        ;\n\n        \n    \n    \n            var circle_marker_85e4795446e2169d4f9a312b70b1e614 = L.circleMarker(\n                [40.47557000000006, -3.6607099999999377],\n                {&quot;bubblingMouseEvents&quot;: true, &quot;color&quot;: &quot;#3388ff&quot;, &quot;dashArray&quot;: null, &quot;dashOffset&quot;: null, &quot;fill&quot;: true, &quot;fillColor&quot;: &quot;#3388ff&quot;, &quot;fillOpacity&quot;: 0.7, &quot;fillRule&quot;: &quot;evenodd&quot;, &quot;lineCap&quot;: &quot;round&quot;, &quot;lineJoin&quot;: &quot;round&quot;, &quot;opacity&quot;: 1.0, &quot;radius&quot;: 5, &quot;stroke&quot;: true, &quot;weight&quot;: 3}\n            ).addTo(map_79f8d12debbb9fd5457e360a0677c10a);\n        \n    \n        var popup_9e0c4a28f0450a3a2ef3026ddef9ad1a = L.popup({&quot;maxWidth&quot;: &quot;100%&quot;});\n\n        \n            var html_ee425ca31ad2604c5553661d91e66af3 = $(`&lt;div id=&quot;html_ee425ca31ad2604c5553661d91e66af3&quot; style=&quot;width: 100.0%; height: 100.0%;&quot;&gt;APOSTOL SANTIAGO Cluster 3&lt;/div&gt;`)[0];\n            popup_9e0c4a28f0450a3a2ef3026ddef9ad1a.setContent(html_ee425ca31ad2604c5553661d91e66af3);\n        \n\n        circle_marker_85e4795446e2169d4f9a312b70b1e614.bindPopup(popup_9e0c4a28f0450a3a2ef3026ddef9ad1a)\n        ;\n\n        \n    \n    \n            var circle_marker_1f5bcee3ceeb6b4c0dafb600e4f03707 = L.circleMarker(\n                [40.49405000000007, -3.6592999999999734],\n                {&quot;bubblingMouseEvents&quot;: true, &quot;color&quot;: &quot;#3388ff&quot;, &quot;dashArray&quot;: null, &quot;dashOffset&quot;: null, &quot;fill&quot;: true, &quot;fillColor&quot;: &quot;#3388ff&quot;, &quot;fillOpacity&quot;: 0.7, &quot;fillRule&quot;: &quot;evenodd&quot;, &quot;lineCap&quot;: &quot;round&quot;, &quot;lineJoin&quot;: &quot;round&quot;, &quot;opacity&quot;: 1.0, &quot;radius&quot;: 5, &quot;stroke&quot;: true, &quot;weight&quot;: 3}\n            ).addTo(map_79f8d12debbb9fd5457e360a0677c10a);\n        \n    \n        var popup_2a80c4ee87585752fd6660fdb75810a4 = L.popup({&quot;maxWidth&quot;: &quot;100%&quot;});\n\n        \n            var html_b385b6ec4938cc9f566f8f9bab1a06b2 = $(`&lt;div id=&quot;html_b385b6ec4938cc9f566f8f9bab1a06b2&quot; style=&quot;width: 100.0%; height: 100.0%;&quot;&gt;VALDEFUENTES Cluster 0&lt;/div&gt;`)[0];\n            popup_2a80c4ee87585752fd6660fdb75810a4.setContent(html_b385b6ec4938cc9f566f8f9bab1a06b2);\n        \n\n        circle_marker_1f5bcee3ceeb6b4c0dafb600e4f03707.bindPopup(popup_2a80c4ee87585752fd6660fdb75810a4)\n        ;\n\n        \n    \n    \n            var circle_marker_f66a465c4a0f3c64cb58cc61753cbfdd = L.circleMarker(\n                [40.34175000000005, -3.7125199999999268],\n                {&quot;bubblingMouseEvents&quot;: true, &quot;color&quot;: &quot;#3388ff&quot;, &quot;dashArray&quot;: null, &quot;dashOffset&quot;: null, &quot;fill&quot;: true, &quot;fillColor&quot;: &quot;#3388ff&quot;, &quot;fillOpacity&quot;: 0.7, &quot;fillRule&quot;: &quot;evenodd&quot;, &quot;lineCap&quot;: &quot;round&quot;, &quot;lineJoin&quot;: &quot;round&quot;, &quot;opacity&quot;: 1.0, &quot;radius&quot;: 5, &quot;stroke&quot;: true, &quot;weight&quot;: 3}\n            ).addTo(map_79f8d12debbb9fd5457e360a0677c10a);\n        \n    \n        var popup_e27f6772219d52b97248688b8dd8aee8 = L.popup({&quot;maxWidth&quot;: &quot;100%&quot;});\n\n        \n            var html_d278d3ad7f49f35e6b4af30ad919ef36 = $(`&lt;div id=&quot;html_d278d3ad7f49f35e6b4af30ad919ef36&quot; style=&quot;width: 100.0%; height: 100.0%;&quot;&gt;VILLAVERDE ALTO Cluster 0&lt;/div&gt;`)[0];\n            popup_e27f6772219d52b97248688b8dd8aee8.setContent(html_d278d3ad7f49f35e6b4af30ad919ef36);\n        \n\n        circle_marker_f66a465c4a0f3c64cb58cc61753cbfdd.bindPopup(popup_e27f6772219d52b97248688b8dd8aee8)\n        ;\n\n        \n    \n    \n            var circle_marker_f7a5255ca7e9e0a996e77f38bc494748 = L.circleMarker(\n                [40.340490000000045, -3.6877399999999625],\n                {&quot;bubblingMouseEvents&quot;: true, &quot;color&quot;: &quot;#3388ff&quot;, &quot;dashArray&quot;: null, &quot;dashOffset&quot;: null, &quot;fill&quot;: true, &quot;fillColor&quot;: &quot;#3388ff&quot;, &quot;fillOpacity&quot;: 0.7, &quot;fillRule&quot;: &quot;evenodd&quot;, &quot;lineCap&quot;: &quot;round&quot;, &quot;lineJoin&quot;: &quot;round&quot;, &quot;opacity&quot;: 1.0, &quot;radius&quot;: 5, &quot;stroke&quot;: true, &quot;weight&quot;: 3}\n            ).addTo(map_79f8d12debbb9fd5457e360a0677c10a);\n        \n    \n        var popup_a8035ce530b32a6a8153dee7ea9257f8 = L.popup({&quot;maxWidth&quot;: &quot;100%&quot;});\n\n        \n            var html_4489e049ac2a9cdaf058956d60870097 = $(`&lt;div id=&quot;html_4489e049ac2a9cdaf058956d60870097&quot; style=&quot;width: 100.0%; height: 100.0%;&quot;&gt;SAN CRISTOBAL Cluster 3&lt;/div&gt;`)[0];\n            popup_a8035ce530b32a6a8153dee7ea9257f8.setContent(html_4489e049ac2a9cdaf058956d60870097);\n        \n\n        circle_marker_f7a5255ca7e9e0a996e77f38bc494748.bindPopup(popup_a8035ce530b32a6a8153dee7ea9257f8)\n        ;\n\n        \n    \n    \n            var circle_marker_99de96c4979f4a00fbbd1250e78e9d35 = L.circleMarker(\n                [40.348550000000046, -3.6821199999999408],\n                {&quot;bubblingMouseEvents&quot;: true, &quot;color&quot;: &quot;#3388ff&quot;, &quot;dashArray&quot;: null, &quot;dashOffset&quot;: null, &quot;fill&quot;: true, &quot;fillColor&quot;: &quot;#3388ff&quot;, &quot;fillOpacity&quot;: 0.7, &quot;fillRule&quot;: &quot;evenodd&quot;, &quot;lineCap&quot;: &quot;round&quot;, &quot;lineJoin&quot;: &quot;round&quot;, &quot;opacity&quot;: 1.0, &quot;radius&quot;: 5, &quot;stroke&quot;: true, &quot;weight&quot;: 3}\n            ).addTo(map_79f8d12debbb9fd5457e360a0677c10a);\n        \n    \n        var popup_3ea3ac23b0afaa733fea7d5640951070 = L.popup({&quot;maxWidth&quot;: &quot;100%&quot;});\n\n        \n            var html_88b894bd1fad1a718538fe7f283be77b = $(`&lt;div id=&quot;html_88b894bd1fad1a718538fe7f283be77b&quot; style=&quot;width: 100.0%; height: 100.0%;&quot;&gt;BUTARQUE Cluster 0&lt;/div&gt;`)[0];\n            popup_3ea3ac23b0afaa733fea7d5640951070.setContent(html_88b894bd1fad1a718538fe7f283be77b);\n        \n\n        circle_marker_99de96c4979f4a00fbbd1250e78e9d35.bindPopup(popup_3ea3ac23b0afaa733fea7d5640951070)\n        ;\n\n        \n    \n    \n            var circle_marker_542c372cea8d033cf8cdae9b9ca838df = L.circleMarker(\n                [40.35567000000003, -3.687219999999968],\n                {&quot;bubblingMouseEvents&quot;: true, &quot;color&quot;: &quot;#3388ff&quot;, &quot;dashArray&quot;: null, &quot;dashOffset&quot;: null, &quot;fill&quot;: true, &quot;fillColor&quot;: &quot;#3388ff&quot;, &quot;fillOpacity&quot;: 0.7, &quot;fillRule&quot;: &quot;evenodd&quot;, &quot;lineCap&quot;: &quot;round&quot;, &quot;lineJoin&quot;: &quot;round&quot;, &quot;opacity&quot;: 1.0, &quot;radius&quot;: 5, &quot;stroke&quot;: true, &quot;weight&quot;: 3}\n            ).addTo(map_79f8d12debbb9fd5457e360a0677c10a);\n        \n    \n        var popup_e4d8e5e04723b6a196d797b5b7e20d1c = L.popup({&quot;maxWidth&quot;: &quot;100%&quot;});\n\n        \n            var html_e97dcf7c796ac7e351d57233ef0e42f4 = $(`&lt;div id=&quot;html_e97dcf7c796ac7e351d57233ef0e42f4&quot; style=&quot;width: 100.0%; height: 100.0%;&quot;&gt;LOS ROSALES Cluster 0&lt;/div&gt;`)[0];\n            popup_e4d8e5e04723b6a196d797b5b7e20d1c.setContent(html_e97dcf7c796ac7e351d57233ef0e42f4);\n        \n\n        circle_marker_542c372cea8d033cf8cdae9b9ca838df.bindPopup(popup_e4d8e5e04723b6a196d797b5b7e20d1c)\n        ;\n\n        \n    \n    \n            var circle_marker_48b1972ccc9d9defc2df830700367987 = L.circleMarker(\n                [40.35641000000004, -3.695979999999963],\n                {&quot;bubblingMouseEvents&quot;: true, &quot;color&quot;: &quot;#3388ff&quot;, &quot;dashArray&quot;: null, &quot;dashOffset&quot;: null, &quot;fill&quot;: true, &quot;fillColor&quot;: &quot;#3388ff&quot;, &quot;fillOpacity&quot;: 0.7, &quot;fillRule&quot;: &quot;evenodd&quot;, &quot;lineCap&quot;: &quot;round&quot;, &quot;lineJoin&quot;: &quot;round&quot;, &quot;opacity&quot;: 1.0, &quot;radius&quot;: 5, &quot;stroke&quot;: true, &quot;weight&quot;: 3}\n            ).addTo(map_79f8d12debbb9fd5457e360a0677c10a);\n        \n    \n        var popup_af6c8456d805c4c890c3f255fdffa998 = L.popup({&quot;maxWidth&quot;: &quot;100%&quot;});\n\n        \n            var html_f6fee163a313b046744d4ff331ffc286 = $(`&lt;div id=&quot;html_f6fee163a313b046744d4ff331ffc286&quot; style=&quot;width: 100.0%; height: 100.0%;&quot;&gt;LOS ANGELES Cluster 0&lt;/div&gt;`)[0];\n            popup_af6c8456d805c4c890c3f255fdffa998.setContent(html_f6fee163a313b046744d4ff331ffc286);\n        \n\n        circle_marker_48b1972ccc9d9defc2df830700367987.bindPopup(popup_af6c8456d805c4c890c3f255fdffa998)\n        ;\n\n        \n    \n    \n            var circle_marker_11a9fdaac0b5c5f6192d644a1c5b4cdd = L.circleMarker(\n                [40.36251000000004, -3.6170999999999367],\n                {&quot;bubblingMouseEvents&quot;: true, &quot;color&quot;: &quot;#3388ff&quot;, &quot;dashArray&quot;: null, &quot;dashOffset&quot;: null, &quot;fill&quot;: true, &quot;fillColor&quot;: &quot;#3388ff&quot;, &quot;fillOpacity&quot;: 0.7, &quot;fillRule&quot;: &quot;evenodd&quot;, &quot;lineCap&quot;: &quot;round&quot;, &quot;lineJoin&quot;: &quot;round&quot;, &quot;opacity&quot;: 1.0, &quot;radius&quot;: 5, &quot;stroke&quot;: true, &quot;weight&quot;: 3}\n            ).addTo(map_79f8d12debbb9fd5457e360a0677c10a);\n        \n    \n        var popup_b23bd5116f1c70199e7c9f824118b386 = L.popup({&quot;maxWidth&quot;: &quot;100%&quot;});\n\n        \n            var html_eb24a0fd2a2fefa6667fd132c6c22961 = $(`&lt;div id=&quot;html_eb24a0fd2a2fefa6667fd132c6c22961&quot; style=&quot;width: 100.0%; height: 100.0%;&quot;&gt;CASCO HISTORICO DE VALLECAS Cluster 0&lt;/div&gt;`)[0];\n            popup_b23bd5116f1c70199e7c9f824118b386.setContent(html_eb24a0fd2a2fefa6667fd132c6c22961);\n        \n\n        circle_marker_11a9fdaac0b5c5f6192d644a1c5b4cdd.bindPopup(popup_b23bd5116f1c70199e7c9f824118b386)\n        ;\n\n        \n    \n    \n            var circle_marker_e4c73b192a08775bd7a4db8b2cdd3fc0 = L.circleMarker(\n                [40.38121000000007, -3.6097199999999248],\n                {&quot;bubblingMouseEvents&quot;: true, &quot;color&quot;: &quot;#3388ff&quot;, &quot;dashArray&quot;: null, &quot;dashOffset&quot;: null, &quot;fill&quot;: true, &quot;fillColor&quot;: &quot;#3388ff&quot;, &quot;fillOpacity&quot;: 0.7, &quot;fillRule&quot;: &quot;evenodd&quot;, &quot;lineCap&quot;: &quot;round&quot;, &quot;lineJoin&quot;: &quot;round&quot;, &quot;opacity&quot;: 1.0, &quot;radius&quot;: 5, &quot;stroke&quot;: true, &quot;weight&quot;: 3}\n            ).addTo(map_79f8d12debbb9fd5457e360a0677c10a);\n        \n    \n        var popup_16f40c3a54076d7c8cd25a5f9f4641fc = L.popup({&quot;maxWidth&quot;: &quot;100%&quot;});\n\n        \n            var html_598e52ada66b93138d93b0096922aa63 = $(`&lt;div id=&quot;html_598e52ada66b93138d93b0096922aa63&quot; style=&quot;width: 100.0%; height: 100.0%;&quot;&gt;SANTA EUGENIA Cluster 0&lt;/div&gt;`)[0];\n            popup_16f40c3a54076d7c8cd25a5f9f4641fc.setContent(html_598e52ada66b93138d93b0096922aa63);\n        \n\n        circle_marker_e4c73b192a08775bd7a4db8b2cdd3fc0.bindPopup(popup_16f40c3a54076d7c8cd25a5f9f4641fc)\n        ;\n\n        \n    \n    \n            var circle_marker_53679095fd33166b575c90c5efb83a00 = L.circleMarker(\n                [40.37896000000006, -3.613839999999925],\n                {&quot;bubblingMouseEvents&quot;: true, &quot;color&quot;: &quot;#3388ff&quot;, &quot;dashArray&quot;: null, &quot;dashOffset&quot;: null, &quot;fill&quot;: true, &quot;fillColor&quot;: &quot;#3388ff&quot;, &quot;fillOpacity&quot;: 0.7, &quot;fillRule&quot;: &quot;evenodd&quot;, &quot;lineCap&quot;: &quot;round&quot;, &quot;lineJoin&quot;: &quot;round&quot;, &quot;opacity&quot;: 1.0, &quot;radius&quot;: 5, &quot;stroke&quot;: true, &quot;weight&quot;: 3}\n            ).addTo(map_79f8d12debbb9fd5457e360a0677c10a);\n        \n    \n        var popup_5fb2a4564362a6ea6760c322e6c821b6 = L.popup({&quot;maxWidth&quot;: &quot;100%&quot;});\n\n        \n            var html_d7404d77c55b97274c0e44ff3286c3fc = $(`&lt;div id=&quot;html_d7404d77c55b97274c0e44ff3286c3fc&quot; style=&quot;width: 100.0%; height: 100.0%;&quot;&gt;ENSANCHE DE VALLECAS Cluster 0&lt;/div&gt;`)[0];\n            popup_5fb2a4564362a6ea6760c322e6c821b6.setContent(html_d7404d77c55b97274c0e44ff3286c3fc);\n        \n\n        circle_marker_53679095fd33166b575c90c5efb83a00.bindPopup(popup_5fb2a4564362a6ea6760c322e6c821b6)\n        ;\n\n        \n    \n    \n            var circle_marker_4304e3ee7a68dbde44a198a97e9fdce1 = L.circleMarker(\n                [40.400000000000034, -3.599999999999966],\n                {&quot;bubblingMouseEvents&quot;: true, &quot;color&quot;: &quot;#3388ff&quot;, &quot;dashArray&quot;: null, &quot;dashOffset&quot;: null, &quot;fill&quot;: true, &quot;fillColor&quot;: &quot;#3388ff&quot;, &quot;fillOpacity&quot;: 0.7, &quot;fillRule&quot;: &quot;evenodd&quot;, &quot;lineCap&quot;: &quot;round&quot;, &quot;lineJoin&quot;: &quot;round&quot;, &quot;opacity&quot;: 1.0, &quot;radius&quot;: 5, &quot;stroke&quot;: true, &quot;weight&quot;: 3}\n            ).addTo(map_79f8d12debbb9fd5457e360a0677c10a);\n        \n    \n        var popup_da6e6dde745f07a91831f529b63ecece = L.popup({&quot;maxWidth&quot;: &quot;100%&quot;});\n\n        \n            var html_e5b9b8cb264cb35264a08096cf3ba807 = $(`&lt;div id=&quot;html_e5b9b8cb264cb35264a08096cf3ba807&quot; style=&quot;width: 100.0%; height: 100.0%;&quot;&gt;CASCO HISTORICO DE VICALVARO Cluster 3&lt;/div&gt;`)[0];\n            popup_da6e6dde745f07a91831f529b63ecece.setContent(html_e5b9b8cb264cb35264a08096cf3ba807);\n        \n\n        circle_marker_4304e3ee7a68dbde44a198a97e9fdce1.bindPopup(popup_da6e6dde745f07a91831f529b63ecece)\n        ;\n\n        \n    \n    \n            var circle_marker_3d7db1a2c1f151674a31b4e3b34910e9 = L.circleMarker(\n                [40.400720000000035, -3.6213299999999435],\n                {&quot;bubblingMouseEvents&quot;: true, &quot;color&quot;: &quot;#3388ff&quot;, &quot;dashArray&quot;: null, &quot;dashOffset&quot;: null, &quot;fill&quot;: true, &quot;fillColor&quot;: &quot;#3388ff&quot;, &quot;fillOpacity&quot;: 0.7, &quot;fillRule&quot;: &quot;evenodd&quot;, &quot;lineCap&quot;: &quot;round&quot;, &quot;lineJoin&quot;: &quot;round&quot;, &quot;opacity&quot;: 1.0, &quot;radius&quot;: 5, &quot;stroke&quot;: true, &quot;weight&quot;: 3}\n            ).addTo(map_79f8d12debbb9fd5457e360a0677c10a);\n        \n    \n        var popup_7e1e908d33be4c499070c08af9f7c3d9 = L.popup({&quot;maxWidth&quot;: &quot;100%&quot;});\n\n        \n            var html_904febfeff65fb77cf4ee2f9c9df3ac8 = $(`&lt;div id=&quot;html_904febfeff65fb77cf4ee2f9c9df3ac8&quot; style=&quot;width: 100.0%; height: 100.0%;&quot;&gt;VALDEBERNARDO Cluster 3&lt;/div&gt;`)[0];\n            popup_7e1e908d33be4c499070c08af9f7c3d9.setContent(html_904febfeff65fb77cf4ee2f9c9df3ac8);\n        \n\n        circle_marker_3d7db1a2c1f151674a31b4e3b34910e9.bindPopup(popup_7e1e908d33be4c499070c08af9f7c3d9)\n        ;\n\n        \n    \n    \n            var circle_marker_469aa564e5419accb5783a55d550bd50 = L.circleMarker(\n                [40.403320000000065, -3.5955399999999713],\n                {&quot;bubblingMouseEvents&quot;: true, &quot;color&quot;: &quot;#3388ff&quot;, &quot;dashArray&quot;: null, &quot;dashOffset&quot;: null, &quot;fill&quot;: true, &quot;fillColor&quot;: &quot;#3388ff&quot;, &quot;fillOpacity&quot;: 0.7, &quot;fillRule&quot;: &quot;evenodd&quot;, &quot;lineCap&quot;: &quot;round&quot;, &quot;lineJoin&quot;: &quot;round&quot;, &quot;opacity&quot;: 1.0, &quot;radius&quot;: 5, &quot;stroke&quot;: true, &quot;weight&quot;: 3}\n            ).addTo(map_79f8d12debbb9fd5457e360a0677c10a);\n        \n    \n        var popup_1fbc6dc565094f642e3b586d6f225f78 = L.popup({&quot;maxWidth&quot;: &quot;100%&quot;});\n\n        \n            var html_7b2177f51fba007cce6a1cc3dc27c70a = $(`&lt;div id=&quot;html_7b2177f51fba007cce6a1cc3dc27c70a&quot; style=&quot;width: 100.0%; height: 100.0%;&quot;&gt;VALDERRIVAS Cluster 3&lt;/div&gt;`)[0];\n            popup_1fbc6dc565094f642e3b586d6f225f78.setContent(html_7b2177f51fba007cce6a1cc3dc27c70a);\n        \n\n        circle_marker_469aa564e5419accb5783a55d550bd50.bindPopup(popup_1fbc6dc565094f642e3b586d6f225f78)\n        ;\n\n        \n    \n    \n            var circle_marker_c11e4232a4e0eec1f194db08badb1292 = L.circleMarker(\n                [40.40728000000007, -3.5645399999999654],\n                {&quot;bubblingMouseEvents&quot;: true, &quot;color&quot;: &quot;#3388ff&quot;, &quot;dashArray&quot;: null, &quot;dashOffset&quot;: null, &quot;fill&quot;: true, &quot;fillColor&quot;: &quot;#3388ff&quot;, &quot;fillOpacity&quot;: 0.7, &quot;fillRule&quot;: &quot;evenodd&quot;, &quot;lineCap&quot;: &quot;round&quot;, &quot;lineJoin&quot;: &quot;round&quot;, &quot;opacity&quot;: 1.0, &quot;radius&quot;: 5, &quot;stroke&quot;: true, &quot;weight&quot;: 3}\n            ).addTo(map_79f8d12debbb9fd5457e360a0677c10a);\n        \n    \n        var popup_332356af7966b3c57df44c292c423493 = L.popup({&quot;maxWidth&quot;: &quot;100%&quot;});\n\n        \n            var html_8c74e4c5cabb19b30ecf71fb79c9b4a1 = $(`&lt;div id=&quot;html_8c74e4c5cabb19b30ecf71fb79c9b4a1&quot; style=&quot;width: 100.0%; height: 100.0%;&quot;&gt;EL CANAVERAL Cluster 3&lt;/div&gt;`)[0];\n            popup_332356af7966b3c57df44c292c423493.setContent(html_8c74e4c5cabb19b30ecf71fb79c9b4a1);\n        \n\n        circle_marker_c11e4232a4e0eec1f194db08badb1292.bindPopup(popup_332356af7966b3c57df44c292c423493)\n        ;\n\n        \n    \n    \n            var circle_marker_22751e2bb095c2b8d88b6d17171a59d4 = L.circleMarker(\n                [40.43577000000005, -3.624879999999962],\n                {&quot;bubblingMouseEvents&quot;: true, &quot;color&quot;: &quot;#3388ff&quot;, &quot;dashArray&quot;: null, &quot;dashOffset&quot;: null, &quot;fill&quot;: true, &quot;fillColor&quot;: &quot;#3388ff&quot;, &quot;fillOpacity&quot;: 0.7, &quot;fillRule&quot;: &quot;evenodd&quot;, &quot;lineCap&quot;: &quot;round&quot;, &quot;lineJoin&quot;: &quot;round&quot;, &quot;opacity&quot;: 1.0, &quot;radius&quot;: 5, &quot;stroke&quot;: true, &quot;weight&quot;: 3}\n            ).addTo(map_79f8d12debbb9fd5457e360a0677c10a);\n        \n    \n        var popup_98f4389ecd4c66a15bc153d89591335e = L.popup({&quot;maxWidth&quot;: &quot;100%&quot;});\n\n        \n            var html_9eff2b718149f697af2a24ae7ae44e2b = $(`&lt;div id=&quot;html_9eff2b718149f697af2a24ae7ae44e2b&quot; style=&quot;width: 100.0%; height: 100.0%;&quot;&gt;SIMANCAS Cluster 2&lt;/div&gt;`)[0];\n            popup_98f4389ecd4c66a15bc153d89591335e.setContent(html_9eff2b718149f697af2a24ae7ae44e2b);\n        \n\n        circle_marker_22751e2bb095c2b8d88b6d17171a59d4.bindPopup(popup_98f4389ecd4c66a15bc153d89591335e)\n        ;\n\n        \n    \n    \n            var circle_marker_4484b86fcb91ab92384afc96068df14f = L.circleMarker(\n                [40.43164000000007, -3.6154999999999404],\n                {&quot;bubblingMouseEvents&quot;: true, &quot;color&quot;: &quot;#3388ff&quot;, &quot;dashArray&quot;: null, &quot;dashOffset&quot;: null, &quot;fill&quot;: true, &quot;fillColor&quot;: &quot;#3388ff&quot;, &quot;fillOpacity&quot;: 0.7, &quot;fillRule&quot;: &quot;evenodd&quot;, &quot;lineCap&quot;: &quot;round&quot;, &quot;lineJoin&quot;: &quot;round&quot;, &quot;opacity&quot;: 1.0, &quot;radius&quot;: 5, &quot;stroke&quot;: true, &quot;weight&quot;: 3}\n            ).addTo(map_79f8d12debbb9fd5457e360a0677c10a);\n        \n    \n        var popup_12396c324462cfff94013cdce7827754 = L.popup({&quot;maxWidth&quot;: &quot;100%&quot;});\n\n        \n            var html_51f1b2ad963de476ec2dcaeba0f5821f = $(`&lt;div id=&quot;html_51f1b2ad963de476ec2dcaeba0f5821f&quot; style=&quot;width: 100.0%; height: 100.0%;&quot;&gt;HELLIN Cluster 3&lt;/div&gt;`)[0];\n            popup_12396c324462cfff94013cdce7827754.setContent(html_51f1b2ad963de476ec2dcaeba0f5821f);\n        \n\n        circle_marker_4484b86fcb91ab92384afc96068df14f.bindPopup(popup_12396c324462cfff94013cdce7827754)\n        ;\n\n        \n    \n    \n            var circle_marker_26105e5b99aed89b3819c4d81b93defb = L.circleMarker(\n                [40.42643000000004, -3.621309999999937],\n                {&quot;bubblingMouseEvents&quot;: true, &quot;color&quot;: &quot;#3388ff&quot;, &quot;dashArray&quot;: null, &quot;dashOffset&quot;: null, &quot;fill&quot;: true, &quot;fillColor&quot;: &quot;#3388ff&quot;, &quot;fillOpacity&quot;: 0.7, &quot;fillRule&quot;: &quot;evenodd&quot;, &quot;lineCap&quot;: &quot;round&quot;, &quot;lineJoin&quot;: &quot;round&quot;, &quot;opacity&quot;: 1.0, &quot;radius&quot;: 5, &quot;stroke&quot;: true, &quot;weight&quot;: 3}\n            ).addTo(map_79f8d12debbb9fd5457e360a0677c10a);\n        \n    \n        var popup_ba88aab55cb847dac47dde6cd4e69015 = L.popup({&quot;maxWidth&quot;: &quot;100%&quot;});\n\n        \n            var html_fbf705ecdc40afe72e40155b6f52aab7 = $(`&lt;div id=&quot;html_fbf705ecdc40afe72e40155b6f52aab7&quot; style=&quot;width: 100.0%; height: 100.0%;&quot;&gt;AMPOSTA Cluster 3&lt;/div&gt;`)[0];\n            popup_ba88aab55cb847dac47dde6cd4e69015.setContent(html_fbf705ecdc40afe72e40155b6f52aab7);\n        \n\n        circle_marker_26105e5b99aed89b3819c4d81b93defb.bindPopup(popup_ba88aab55cb847dac47dde6cd4e69015)\n        ;\n\n        \n    \n    \n            var circle_marker_be81fc9ce1953449c3b6b63896269c54 = L.circleMarker(\n                [40.42178000000007, -3.617839999999944],\n                {&quot;bubblingMouseEvents&quot;: true, &quot;color&quot;: &quot;#3388ff&quot;, &quot;dashArray&quot;: null, &quot;dashOffset&quot;: null, &quot;fill&quot;: true, &quot;fillColor&quot;: &quot;#3388ff&quot;, &quot;fillOpacity&quot;: 0.7, &quot;fillRule&quot;: &quot;evenodd&quot;, &quot;lineCap&quot;: &quot;round&quot;, &quot;lineJoin&quot;: &quot;round&quot;, &quot;opacity&quot;: 1.0, &quot;radius&quot;: 5, &quot;stroke&quot;: true, &quot;weight&quot;: 3}\n            ).addTo(map_79f8d12debbb9fd5457e360a0677c10a);\n        \n    \n        var popup_8c01f211a8c31fcda1da653d815cf259 = L.popup({&quot;maxWidth&quot;: &quot;100%&quot;});\n\n        \n            var html_2720a56025f7c3e8f6e529d562a8ed17 = $(`&lt;div id=&quot;html_2720a56025f7c3e8f6e529d562a8ed17&quot; style=&quot;width: 100.0%; height: 100.0%;&quot;&gt;ARCOS Cluster 0&lt;/div&gt;`)[0];\n            popup_8c01f211a8c31fcda1da653d815cf259.setContent(html_2720a56025f7c3e8f6e529d562a8ed17);\n        \n\n        circle_marker_be81fc9ce1953449c3b6b63896269c54.bindPopup(popup_8c01f211a8c31fcda1da653d815cf259)\n        ;\n\n        \n    \n    \n            var circle_marker_87178f1d118a7e6f585ea3225c5c6812 = L.circleMarker(\n                [40.428690000000074, -3.6008599999999547],\n                {&quot;bubblingMouseEvents&quot;: true, &quot;color&quot;: &quot;#3388ff&quot;, &quot;dashArray&quot;: null, &quot;dashOffset&quot;: null, &quot;fill&quot;: true, &quot;fillColor&quot;: &quot;#3388ff&quot;, &quot;fillOpacity&quot;: 0.7, &quot;fillRule&quot;: &quot;evenodd&quot;, &quot;lineCap&quot;: &quot;round&quot;, &quot;lineJoin&quot;: &quot;round&quot;, &quot;opacity&quot;: 1.0, &quot;radius&quot;: 5, &quot;stroke&quot;: true, &quot;weight&quot;: 3}\n            ).addTo(map_79f8d12debbb9fd5457e360a0677c10a);\n        \n    \n        var popup_a3005a94429fc9e1d25c1198929430c9 = L.popup({&quot;maxWidth&quot;: &quot;100%&quot;});\n\n        \n            var html_d0517a9664b4dfe7a494b6aab2473c72 = $(`&lt;div id=&quot;html_d0517a9664b4dfe7a494b6aab2473c72&quot; style=&quot;width: 100.0%; height: 100.0%;&quot;&gt;ROSAS Cluster 0&lt;/div&gt;`)[0];\n            popup_a3005a94429fc9e1d25c1198929430c9.setContent(html_d0517a9664b4dfe7a494b6aab2473c72);\n        \n\n        circle_marker_87178f1d118a7e6f585ea3225c5c6812.bindPopup(popup_a3005a94429fc9e1d25c1198929430c9)\n        ;\n\n        \n    \n    \n            var circle_marker_5b45902f141efeafabbba581e5130837 = L.circleMarker(\n                [40.44629000000003, -3.5748899999999253],\n                {&quot;bubblingMouseEvents&quot;: true, &quot;color&quot;: &quot;#3388ff&quot;, &quot;dashArray&quot;: null, &quot;dashOffset&quot;: null, &quot;fill&quot;: true, &quot;fillColor&quot;: &quot;#3388ff&quot;, &quot;fillOpacity&quot;: 0.7, &quot;fillRule&quot;: &quot;evenodd&quot;, &quot;lineCap&quot;: &quot;round&quot;, &quot;lineJoin&quot;: &quot;round&quot;, &quot;opacity&quot;: 1.0, &quot;radius&quot;: 5, &quot;stroke&quot;: true, &quot;weight&quot;: 3}\n            ).addTo(map_79f8d12debbb9fd5457e360a0677c10a);\n        \n    \n        var popup_514ea287b130817fe1b18f83b92d7672 = L.popup({&quot;maxWidth&quot;: &quot;100%&quot;});\n\n        \n            var html_25ca396dafe6c72b731194a50d81bb89 = $(`&lt;div id=&quot;html_25ca396dafe6c72b731194a50d81bb89&quot; style=&quot;width: 100.0%; height: 100.0%;&quot;&gt;REJAS Cluster 2&lt;/div&gt;`)[0];\n            popup_514ea287b130817fe1b18f83b92d7672.setContent(html_25ca396dafe6c72b731194a50d81bb89);\n        \n\n        circle_marker_5b45902f141efeafabbba581e5130837.bindPopup(popup_514ea287b130817fe1b18f83b92d7672)\n        ;\n\n        \n    \n    \n            var circle_marker_8a8d6e00fb5469eeb12b5698d86fc4dd = L.circleMarker(\n                [40.44373000000007, -3.609769999999969],\n                {&quot;bubblingMouseEvents&quot;: true, &quot;color&quot;: &quot;#3388ff&quot;, &quot;dashArray&quot;: null, &quot;dashOffset&quot;: null, &quot;fill&quot;: true, &quot;fillColor&quot;: &quot;#3388ff&quot;, &quot;fillOpacity&quot;: 0.7, &quot;fillRule&quot;: &quot;evenodd&quot;, &quot;lineCap&quot;: &quot;round&quot;, &quot;lineJoin&quot;: &quot;round&quot;, &quot;opacity&quot;: 1.0, &quot;radius&quot;: 5, &quot;stroke&quot;: true, &quot;weight&quot;: 3}\n            ).addTo(map_79f8d12debbb9fd5457e360a0677c10a);\n        \n    \n        var popup_688f8fd77e314c748b062b8e0f7a1916 = L.popup({&quot;maxWidth&quot;: &quot;100%&quot;});\n\n        \n            var html_559070af704ba403159161f33fc0db40 = $(`&lt;div id=&quot;html_559070af704ba403159161f33fc0db40&quot; style=&quot;width: 100.0%; height: 100.0%;&quot;&gt;CANILLEJAS Cluster 0&lt;/div&gt;`)[0];\n            popup_688f8fd77e314c748b062b8e0f7a1916.setContent(html_559070af704ba403159161f33fc0db40);\n        \n\n        circle_marker_8a8d6e00fb5469eeb12b5698d86fc4dd.bindPopup(popup_688f8fd77e314c748b062b8e0f7a1916)\n        ;\n\n        \n    \n    \n            var circle_marker_1bac098f5809c3348aa54ed33d79788e = L.circleMarker(\n                [40.44384000000008, -3.6347699999999463],\n                {&quot;bubblingMouseEvents&quot;: true, &quot;color&quot;: &quot;#3388ff&quot;, &quot;dashArray&quot;: null, &quot;dashOffset&quot;: null, &quot;fill&quot;: true, &quot;fillColor&quot;: &quot;#3388ff&quot;, &quot;fillOpacity&quot;: 0.7, &quot;fillRule&quot;: &quot;evenodd&quot;, &quot;lineCap&quot;: &quot;round&quot;, &quot;lineJoin&quot;: &quot;round&quot;, &quot;opacity&quot;: 1.0, &quot;radius&quot;: 5, &quot;stroke&quot;: true, &quot;weight&quot;: 3}\n            ).addTo(map_79f8d12debbb9fd5457e360a0677c10a);\n        \n    \n        var popup_fc85c611b36748913f03d8fe575c5a13 = L.popup({&quot;maxWidth&quot;: &quot;100%&quot;});\n\n        \n            var html_9645e9c538f15774d540dd024c3bb1d5 = $(`&lt;div id=&quot;html_9645e9c538f15774d540dd024c3bb1d5&quot; style=&quot;width: 100.0%; height: 100.0%;&quot;&gt;EL SALVADOR Cluster 0&lt;/div&gt;`)[0];\n            popup_fc85c611b36748913f03d8fe575c5a13.setContent(html_9645e9c538f15774d540dd024c3bb1d5);\n        \n\n        circle_marker_1bac098f5809c3348aa54ed33d79788e.bindPopup(popup_fc85c611b36748913f03d8fe575c5a13)\n        ;\n\n        \n    \n    \n            var circle_marker_470b9e96286b339ca264c446a9d71ebe = L.circleMarker(\n                [40.45818000000003, -3.589529999999968],\n                {&quot;bubblingMouseEvents&quot;: true, &quot;color&quot;: &quot;#3388ff&quot;, &quot;dashArray&quot;: null, &quot;dashOffset&quot;: null, &quot;fill&quot;: true, &quot;fillColor&quot;: &quot;#3388ff&quot;, &quot;fillOpacity&quot;: 0.7, &quot;fillRule&quot;: &quot;evenodd&quot;, &quot;lineCap&quot;: &quot;round&quot;, &quot;lineJoin&quot;: &quot;round&quot;, &quot;opacity&quot;: 1.0, &quot;radius&quot;: 5, &quot;stroke&quot;: true, &quot;weight&quot;: 3}\n            ).addTo(map_79f8d12debbb9fd5457e360a0677c10a);\n        \n    \n        var popup_7506f4e0e9a246c08c3694c0fcf1bf54 = L.popup({&quot;maxWidth&quot;: &quot;100%&quot;});\n\n        \n            var html_0aed4f5db18e957fa303232f6beb1e13 = $(`&lt;div id=&quot;html_0aed4f5db18e957fa303232f6beb1e13&quot; style=&quot;width: 100.0%; height: 100.0%;&quot;&gt;ALAMEDA DE OSUNA Cluster 0&lt;/div&gt;`)[0];\n            popup_7506f4e0e9a246c08c3694c0fcf1bf54.setContent(html_0aed4f5db18e957fa303232f6beb1e13);\n        \n\n        circle_marker_470b9e96286b339ca264c446a9d71ebe.bindPopup(popup_7506f4e0e9a246c08c3694c0fcf1bf54)\n        ;\n\n        \n    \n    \n            var circle_marker_01f0ea70e4a209549596a0aad3e3047a = L.circleMarker(\n                [40.483370000000036, -3.5594899999999257],\n                {&quot;bubblingMouseEvents&quot;: true, &quot;color&quot;: &quot;#3388ff&quot;, &quot;dashArray&quot;: null, &quot;dashOffset&quot;: null, &quot;fill&quot;: true, &quot;fillColor&quot;: &quot;#3388ff&quot;, &quot;fillOpacity&quot;: 0.7, &quot;fillRule&quot;: &quot;evenodd&quot;, &quot;lineCap&quot;: &quot;round&quot;, &quot;lineJoin&quot;: &quot;round&quot;, &quot;opacity&quot;: 1.0, &quot;radius&quot;: 5, &quot;stroke&quot;: true, &quot;weight&quot;: 3}\n            ).addTo(map_79f8d12debbb9fd5457e360a0677c10a);\n        \n    \n        var popup_19f8196b3cdbc7889b50bc2110c348b5 = L.popup({&quot;maxWidth&quot;: &quot;100%&quot;});\n\n        \n            var html_915002007ce032d22e4ba4e18c0d2500 = $(`&lt;div id=&quot;html_915002007ce032d22e4ba4e18c0d2500&quot; style=&quot;width: 100.0%; height: 100.0%;&quot;&gt;AEROPUERTO Cluster 4&lt;/div&gt;`)[0];\n            popup_19f8196b3cdbc7889b50bc2110c348b5.setContent(html_915002007ce032d22e4ba4e18c0d2500);\n        \n\n        circle_marker_01f0ea70e4a209549596a0aad3e3047a.bindPopup(popup_19f8196b3cdbc7889b50bc2110c348b5)\n        ;\n\n        \n    \n    \n            var circle_marker_b0e38c816e6ada38739e5cbb843980d0 = L.circleMarker(\n                [40.47482000000008, -3.5795099999999707],\n                {&quot;bubblingMouseEvents&quot;: true, &quot;color&quot;: &quot;#3388ff&quot;, &quot;dashArray&quot;: null, &quot;dashOffset&quot;: null, &quot;fill&quot;: true, &quot;fillColor&quot;: &quot;#3388ff&quot;, &quot;fillOpacity&quot;: 0.7, &quot;fillRule&quot;: &quot;evenodd&quot;, &quot;lineCap&quot;: &quot;round&quot;, &quot;lineJoin&quot;: &quot;round&quot;, &quot;opacity&quot;: 1.0, &quot;radius&quot;: 5, &quot;stroke&quot;: true, &quot;weight&quot;: 3}\n            ).addTo(map_79f8d12debbb9fd5457e360a0677c10a);\n        \n    \n        var popup_89cb05482cba58567ffda4e120947d33 = L.popup({&quot;maxWidth&quot;: &quot;100%&quot;});\n\n        \n            var html_42e8935f65c500ca8318cc4b0f609611 = $(`&lt;div id=&quot;html_42e8935f65c500ca8318cc4b0f609611&quot; style=&quot;width: 100.0%; height: 100.0%;&quot;&gt;CASCO HISTORICO DE BARAJAS Cluster 0&lt;/div&gt;`)[0];\n            popup_89cb05482cba58567ffda4e120947d33.setContent(html_42e8935f65c500ca8318cc4b0f609611);\n        \n\n        circle_marker_b0e38c816e6ada38739e5cbb843980d0.bindPopup(popup_89cb05482cba58567ffda4e120947d33)\n        ;\n\n        \n    \n    \n            var circle_marker_35a838d577eb4568fdb06da8eab4259b = L.circleMarker(\n                [40.48568000000006, -3.6047199999999293],\n                {&quot;bubblingMouseEvents&quot;: true, &quot;color&quot;: &quot;#3388ff&quot;, &quot;dashArray&quot;: null, &quot;dashOffset&quot;: null, &quot;fill&quot;: true, &quot;fillColor&quot;: &quot;#3388ff&quot;, &quot;fillOpacity&quot;: 0.7, &quot;fillRule&quot;: &quot;evenodd&quot;, &quot;lineCap&quot;: &quot;round&quot;, &quot;lineJoin&quot;: &quot;round&quot;, &quot;opacity&quot;: 1.0, &quot;radius&quot;: 5, &quot;stroke&quot;: true, &quot;weight&quot;: 3}\n            ).addTo(map_79f8d12debbb9fd5457e360a0677c10a);\n        \n    \n        var popup_1a0d352b53220eb8099b38d78d68957e = L.popup({&quot;maxWidth&quot;: &quot;100%&quot;});\n\n        \n            var html_6576bfbd74de93f4d1705b0c1976b76a = $(`&lt;div id=&quot;html_6576bfbd74de93f4d1705b0c1976b76a&quot; style=&quot;width: 100.0%; height: 100.0%;&quot;&gt;TIMON Cluster 0&lt;/div&gt;`)[0];\n            popup_1a0d352b53220eb8099b38d78d68957e.setContent(html_6576bfbd74de93f4d1705b0c1976b76a);\n        \n\n        circle_marker_35a838d577eb4568fdb06da8eab4259b.bindPopup(popup_1a0d352b53220eb8099b38d78d68957e)\n        ;\n\n        \n    \n    \n            var circle_marker_bec361782cf45c0ff7c8a431e36ef85b = L.circleMarker(\n                [40.465400000000045, -3.6116399999999658],\n                {&quot;bubblingMouseEvents&quot;: true, &quot;color&quot;: &quot;#3388ff&quot;, &quot;dashArray&quot;: null, &quot;dashOffset&quot;: null, &quot;fill&quot;: true, &quot;fillColor&quot;: &quot;#3388ff&quot;, &quot;fillOpacity&quot;: 0.7, &quot;fillRule&quot;: &quot;evenodd&quot;, &quot;lineCap&quot;: &quot;round&quot;, &quot;lineJoin&quot;: &quot;round&quot;, &quot;opacity&quot;: 1.0, &quot;radius&quot;: 5, &quot;stroke&quot;: true, &quot;weight&quot;: 3}\n            ).addTo(map_79f8d12debbb9fd5457e360a0677c10a);\n        \n    \n        var popup_60b9b214a705315aa8d5165936605ea2 = L.popup({&quot;maxWidth&quot;: &quot;100%&quot;});\n\n        \n            var html_c34d082fd0924f19832436391c0f9ee1 = $(`&lt;div id=&quot;html_c34d082fd0924f19832436391c0f9ee1&quot; style=&quot;width: 100.0%; height: 100.0%;&quot;&gt;CORRALEJOS Cluster 2&lt;/div&gt;`)[0];\n            popup_60b9b214a705315aa8d5165936605ea2.setContent(html_c34d082fd0924f19832436391c0f9ee1);\n        \n\n        circle_marker_bec361782cf45c0ff7c8a431e36ef85b.bindPopup(popup_60b9b214a705315aa8d5165936605ea2)\n        ;\n\n        \n    \n&lt;/script&gt;\" style=\"position:absolute;width:100%;height:100%;left:0;top:0;border:none !important;\" allowfullscreen webkitallowfullscreen mozallowfullscreen></iframe></div></div>"
     },
     "execution_count": 89,
     "metadata": {},
     "output_type": "execute_result"
    }
   ],
   "source": [
    "# create map\n",
    "map_clusters = folium.Map(location=[latitude, longitude], zoom_start=11)\n",
    "\n",
    "# set color scheme for the clusters\n",
    "x = np.arange(kclusters)\n",
    "ys = [i + x + (i*x)**2 for i in range(kclusters)]\n",
    "colors_array = cm. rainbow(np.linspace(0, 1, len(ys)))\n",
    "rainbow = [colors.rgb2hex(i) for i in colors_array]\n",
    "\n",
    "\n",
    "\n",
    "\n",
    "#add markers to the map\n",
    "markers_colors = []\n",
    "for lat, lon, area, cluster in zip(madrid_merged['Latitude'], madrid_merged['Longitude'], madrid_merged['Neighbourhood'], madrid_merged['Cluster Labels']):\n",
    "    label = folium.Popup(remove_accents(str(area)) + ' Cluster ' + str(cluster), parse_html=True)\n",
    "\n",
    "    folium.CircleMarker([lat, lon], radius=5, popup=label,# color=rainbow[cluster-1],\n",
    "                         fill=True,\n",
    "                        #fill_color=rainbow[cluster-1],\n",
    "                        fill_opacity=0.7).add_to(map_clusters)\n",
    "\n",
    "map_clusters"
   ],
   "metadata": {
    "collapsed": false,
    "pycharm": {
     "name": "#%%\n"
    }
   }
  },
  {
   "cell_type": "code",
   "execution_count": 90,
   "outputs": [
    {
     "data": {
      "text/plain": "  Neighbourhood  Latitude  Longitude  Cluster Labels 1st Most Common Venue  \\\n0       PALACIO  40.41517   -3.71273               3                Church   \n1   EMBAJADORES  40.40803   -3.70067               0                   Bar   \n2        CORTES  40.41589   -3.69636               2    Spanish Restaurant   \n3      JUSTICIA  40.42479   -3.69308               2           Art Gallery   \n4   UNIVERSIDAD  40.42565   -3.70726               0            Restaurant   \n\n  2nd Most Common Venue 3rd Most Common Venue 4th Most Common Venue  \\\n0         Historic Site    Spanish Restaurant            Restaurant   \n1    Spanish Restaurant      Tapas Restaurant           Pizza Place   \n2   Embassy / Consulate             Hotel Bar                 Hotel   \n3                Office            Courthouse              Boutique   \n4             Bookstore                  Café                   Bar   \n\n  5th Most Common Venue 6th Most Common Venue 7th Most Common Venue  \\\n0   Monument / Landmark              Building           Bus Station   \n1               Theater    African Restaurant    Salon / Barbershop   \n2           Event Space   Japanese Restaurant            Restaurant   \n3   Embassy / Consulate           Post Office         Women's Store   \n4        Breakfast Spot                Hostel     Electronics Store   \n\n  8th Most Common Venue  9th Most Common Venue 10th Most Common Venue  \n0                Bakery    Government Building               Beer Bar  \n1     Indian Restaurant            Coffee Shop             Restaurant  \n2      Tapas Restaurant                 Office       Capitol Building  \n3            Restaurant                   Food               Building  \n4       College Library  Portuguese Restaurant     Falafel Restaurant  ",
      "text/html": "<div>\n<style scoped>\n    .dataframe tbody tr th:only-of-type {\n        vertical-align: middle;\n    }\n\n    .dataframe tbody tr th {\n        vertical-align: top;\n    }\n\n    .dataframe thead th {\n        text-align: right;\n    }\n</style>\n<table border=\"1\" class=\"dataframe\">\n  <thead>\n    <tr style=\"text-align: right;\">\n      <th></th>\n      <th>Neighbourhood</th>\n      <th>Latitude</th>\n      <th>Longitude</th>\n      <th>Cluster Labels</th>\n      <th>1st Most Common Venue</th>\n      <th>2nd Most Common Venue</th>\n      <th>3rd Most Common Venue</th>\n      <th>4th Most Common Venue</th>\n      <th>5th Most Common Venue</th>\n      <th>6th Most Common Venue</th>\n      <th>7th Most Common Venue</th>\n      <th>8th Most Common Venue</th>\n      <th>9th Most Common Venue</th>\n      <th>10th Most Common Venue</th>\n    </tr>\n  </thead>\n  <tbody>\n    <tr>\n      <th>0</th>\n      <td>PALACIO</td>\n      <td>40.41517</td>\n      <td>-3.71273</td>\n      <td>3</td>\n      <td>Church</td>\n      <td>Historic Site</td>\n      <td>Spanish Restaurant</td>\n      <td>Restaurant</td>\n      <td>Monument / Landmark</td>\n      <td>Building</td>\n      <td>Bus Station</td>\n      <td>Bakery</td>\n      <td>Government Building</td>\n      <td>Beer Bar</td>\n    </tr>\n    <tr>\n      <th>1</th>\n      <td>EMBAJADORES</td>\n      <td>40.40803</td>\n      <td>-3.70067</td>\n      <td>0</td>\n      <td>Bar</td>\n      <td>Spanish Restaurant</td>\n      <td>Tapas Restaurant</td>\n      <td>Pizza Place</td>\n      <td>Theater</td>\n      <td>African Restaurant</td>\n      <td>Salon / Barbershop</td>\n      <td>Indian Restaurant</td>\n      <td>Coffee Shop</td>\n      <td>Restaurant</td>\n    </tr>\n    <tr>\n      <th>2</th>\n      <td>CORTES</td>\n      <td>40.41589</td>\n      <td>-3.69636</td>\n      <td>2</td>\n      <td>Spanish Restaurant</td>\n      <td>Embassy / Consulate</td>\n      <td>Hotel Bar</td>\n      <td>Hotel</td>\n      <td>Event Space</td>\n      <td>Japanese Restaurant</td>\n      <td>Restaurant</td>\n      <td>Tapas Restaurant</td>\n      <td>Office</td>\n      <td>Capitol Building</td>\n    </tr>\n    <tr>\n      <th>3</th>\n      <td>JUSTICIA</td>\n      <td>40.42479</td>\n      <td>-3.69308</td>\n      <td>2</td>\n      <td>Art Gallery</td>\n      <td>Office</td>\n      <td>Courthouse</td>\n      <td>Boutique</td>\n      <td>Embassy / Consulate</td>\n      <td>Post Office</td>\n      <td>Women's Store</td>\n      <td>Restaurant</td>\n      <td>Food</td>\n      <td>Building</td>\n    </tr>\n    <tr>\n      <th>4</th>\n      <td>UNIVERSIDAD</td>\n      <td>40.42565</td>\n      <td>-3.70726</td>\n      <td>0</td>\n      <td>Restaurant</td>\n      <td>Bookstore</td>\n      <td>Café</td>\n      <td>Bar</td>\n      <td>Breakfast Spot</td>\n      <td>Hostel</td>\n      <td>Electronics Store</td>\n      <td>College Library</td>\n      <td>Portuguese Restaurant</td>\n      <td>Falafel Restaurant</td>\n    </tr>\n  </tbody>\n</table>\n</div>"
     },
     "execution_count": 90,
     "metadata": {},
     "output_type": "execute_result"
    }
   ],
   "source": [
    "#---------------------------------------------------------------------------\n",
    "madrid_merged.head()"
   ],
   "metadata": {
    "collapsed": false,
    "pycharm": {
     "name": "#%%\n"
    }
   }
  },
  {
   "cell_type": "code",
   "execution_count": 91,
   "outputs": [],
   "source": [
    "# Exploration of the clusters"
   ],
   "metadata": {
    "collapsed": false,
    "pycharm": {
     "name": "#%%\n"
    }
   }
  },
  {
   "cell_type": "code",
   "execution_count": 92,
   "outputs": [
    {
     "data": {
      "text/plain": "                  Neighbourhood 1st Most Common Venue 2nd Most Common Venue  \\\n1                   EMBAJADORES                   Bar    Spanish Restaurant   \n4                   UNIVERSIDAD            Restaurant             Bookstore   \n6                      IMPERIAL                Office       Laundry Service   \n7                       ACACIAS                  Park           Pizza Place   \n8                       CHOPERA      Tapas Restaurant       Coworking Space   \n..                          ...                   ...                   ...   \n124                  CANILLEJAS                  Park                 Diner   \n125                 EL SALVADOR    Spanish Restaurant                  Bank   \n126            ALAMEDA DE OSUNA         Travel Agency                   Bar   \n128  CASCO HISTÓRICO DE BARAJAS                   Bar                 Plaza   \n129                       TIMÓN   Rental Car Location                 Diner   \n\n    3rd Most Common Venue 4th Most Common Venue 5th Most Common Venue  \\\n1        Tapas Restaurant           Pizza Place               Theater   \n4                    Café                   Bar        Breakfast Spot   \n6                  School                Bakery                   Bar   \n7                    Café    Salon / Barbershop          Dance Studio   \n8                Wine Bar    Spanish Restaurant                   Bar   \n..                    ...                   ...                   ...   \n124                   Bar    Spanish Restaurant                  Bank   \n125                   Bar                   Gym                Church   \n126             Bookstore                  Bank    Italian Restaurant   \n128            Restaurant                Church           Coffee Shop   \n129    Spanish Restaurant             BBQ Joint      Airport Terminal   \n\n    6th Most Common Venue 7th Most Common Venue 8th Most Common Venue  \\\n1      African Restaurant    Salon / Barbershop     Indian Restaurant   \n4                  Hostel     Electronics Store       College Library   \n6      Spanish Restaurant     Convenience Store            Restaurant   \n7                     Bar      Tapas Restaurant                Church   \n8                    Café                 Plaza    Italian Restaurant   \n..                    ...                   ...                   ...   \n124    Salon / Barbershop                   Gym             Drugstore   \n125           Coffee Shop      Toy / Game Store                Bakery   \n126         Grocery Store                   Pub    Spanish Restaurant   \n128    Spanish Restaurant              Pharmacy             BBQ Joint   \n129           Supermarket            Restaurant              Beer Bar   \n\n     9th Most Common Venue 10th Most Common Venue  \n1              Coffee Shop             Restaurant  \n4    Portuguese Restaurant     Falafel Restaurant  \n6             Trade School   Gym / Fitness Center  \n7           Medical Center          Grocery Store  \n8    General Entertainment            Supermarket  \n..                     ...                    ...  \n124       Lottery Retailer            Coffee Shop  \n125         Sandwich Place          Grocery Store  \n126              Gift Shop  General Entertainment  \n128              City Hall        Doctor's Office  \n129         Duty-free Shop                 Bakery  \n\n[67 rows x 11 columns]",
      "text/html": "<div>\n<style scoped>\n    .dataframe tbody tr th:only-of-type {\n        vertical-align: middle;\n    }\n\n    .dataframe tbody tr th {\n        vertical-align: top;\n    }\n\n    .dataframe thead th {\n        text-align: right;\n    }\n</style>\n<table border=\"1\" class=\"dataframe\">\n  <thead>\n    <tr style=\"text-align: right;\">\n      <th></th>\n      <th>Neighbourhood</th>\n      <th>1st Most Common Venue</th>\n      <th>2nd Most Common Venue</th>\n      <th>3rd Most Common Venue</th>\n      <th>4th Most Common Venue</th>\n      <th>5th Most Common Venue</th>\n      <th>6th Most Common Venue</th>\n      <th>7th Most Common Venue</th>\n      <th>8th Most Common Venue</th>\n      <th>9th Most Common Venue</th>\n      <th>10th Most Common Venue</th>\n    </tr>\n  </thead>\n  <tbody>\n    <tr>\n      <th>1</th>\n      <td>EMBAJADORES</td>\n      <td>Bar</td>\n      <td>Spanish Restaurant</td>\n      <td>Tapas Restaurant</td>\n      <td>Pizza Place</td>\n      <td>Theater</td>\n      <td>African Restaurant</td>\n      <td>Salon / Barbershop</td>\n      <td>Indian Restaurant</td>\n      <td>Coffee Shop</td>\n      <td>Restaurant</td>\n    </tr>\n    <tr>\n      <th>4</th>\n      <td>UNIVERSIDAD</td>\n      <td>Restaurant</td>\n      <td>Bookstore</td>\n      <td>Café</td>\n      <td>Bar</td>\n      <td>Breakfast Spot</td>\n      <td>Hostel</td>\n      <td>Electronics Store</td>\n      <td>College Library</td>\n      <td>Portuguese Restaurant</td>\n      <td>Falafel Restaurant</td>\n    </tr>\n    <tr>\n      <th>6</th>\n      <td>IMPERIAL</td>\n      <td>Office</td>\n      <td>Laundry Service</td>\n      <td>School</td>\n      <td>Bakery</td>\n      <td>Bar</td>\n      <td>Spanish Restaurant</td>\n      <td>Convenience Store</td>\n      <td>Restaurant</td>\n      <td>Trade School</td>\n      <td>Gym / Fitness Center</td>\n    </tr>\n    <tr>\n      <th>7</th>\n      <td>ACACIAS</td>\n      <td>Park</td>\n      <td>Pizza Place</td>\n      <td>Café</td>\n      <td>Salon / Barbershop</td>\n      <td>Dance Studio</td>\n      <td>Bar</td>\n      <td>Tapas Restaurant</td>\n      <td>Church</td>\n      <td>Medical Center</td>\n      <td>Grocery Store</td>\n    </tr>\n    <tr>\n      <th>8</th>\n      <td>CHOPERA</td>\n      <td>Tapas Restaurant</td>\n      <td>Coworking Space</td>\n      <td>Wine Bar</td>\n      <td>Spanish Restaurant</td>\n      <td>Bar</td>\n      <td>Café</td>\n      <td>Plaza</td>\n      <td>Italian Restaurant</td>\n      <td>General Entertainment</td>\n      <td>Supermarket</td>\n    </tr>\n    <tr>\n      <th>...</th>\n      <td>...</td>\n      <td>...</td>\n      <td>...</td>\n      <td>...</td>\n      <td>...</td>\n      <td>...</td>\n      <td>...</td>\n      <td>...</td>\n      <td>...</td>\n      <td>...</td>\n      <td>...</td>\n    </tr>\n    <tr>\n      <th>124</th>\n      <td>CANILLEJAS</td>\n      <td>Park</td>\n      <td>Diner</td>\n      <td>Bar</td>\n      <td>Spanish Restaurant</td>\n      <td>Bank</td>\n      <td>Salon / Barbershop</td>\n      <td>Gym</td>\n      <td>Drugstore</td>\n      <td>Lottery Retailer</td>\n      <td>Coffee Shop</td>\n    </tr>\n    <tr>\n      <th>125</th>\n      <td>EL SALVADOR</td>\n      <td>Spanish Restaurant</td>\n      <td>Bank</td>\n      <td>Bar</td>\n      <td>Gym</td>\n      <td>Church</td>\n      <td>Coffee Shop</td>\n      <td>Toy / Game Store</td>\n      <td>Bakery</td>\n      <td>Sandwich Place</td>\n      <td>Grocery Store</td>\n    </tr>\n    <tr>\n      <th>126</th>\n      <td>ALAMEDA DE OSUNA</td>\n      <td>Travel Agency</td>\n      <td>Bar</td>\n      <td>Bookstore</td>\n      <td>Bank</td>\n      <td>Italian Restaurant</td>\n      <td>Grocery Store</td>\n      <td>Pub</td>\n      <td>Spanish Restaurant</td>\n      <td>Gift Shop</td>\n      <td>General Entertainment</td>\n    </tr>\n    <tr>\n      <th>128</th>\n      <td>CASCO HISTÓRICO DE BARAJAS</td>\n      <td>Bar</td>\n      <td>Plaza</td>\n      <td>Restaurant</td>\n      <td>Church</td>\n      <td>Coffee Shop</td>\n      <td>Spanish Restaurant</td>\n      <td>Pharmacy</td>\n      <td>BBQ Joint</td>\n      <td>City Hall</td>\n      <td>Doctor's Office</td>\n    </tr>\n    <tr>\n      <th>129</th>\n      <td>TIMÓN</td>\n      <td>Rental Car Location</td>\n      <td>Diner</td>\n      <td>Spanish Restaurant</td>\n      <td>BBQ Joint</td>\n      <td>Airport Terminal</td>\n      <td>Supermarket</td>\n      <td>Restaurant</td>\n      <td>Beer Bar</td>\n      <td>Duty-free Shop</td>\n      <td>Bakery</td>\n    </tr>\n  </tbody>\n</table>\n<p>67 rows × 11 columns</p>\n</div>"
     },
     "execution_count": 92,
     "metadata": {},
     "output_type": "execute_result"
    }
   ],
   "source": [
    "madrid_merged.loc[madrid_merged['Cluster Labels'] == 0, madrid_merged.columns[[0] + list(range(4, madrid_merged.shape[1]))]]"
   ],
   "metadata": {
    "collapsed": false,
    "pycharm": {
     "name": "#%%\n"
    }
   }
  },
  {
   "cell_type": "code",
   "execution_count": 93,
   "outputs": [
    {
     "data": {
      "text/plain": "    Neighbourhood         1st Most Common Venue 2nd Most Common Venue  \\\n51  CASA DE CAMPO  Theme Park Ride / Attraction           Zoo Exhibit   \n\n   3rd Most Common Venue 4th Most Common Venue 5th Most Common Venue  \\\n51            Theme Park              Aquarium     Convenience Store   \n\n   6th Most Common Venue 7th Most Common Venue 8th Most Common Venue  \\\n51                  Park                  Farm              Bus Line   \n\n   9th Most Common Venue 10th Most Common Venue  \n51          Burger Joint          Metro Station  ",
      "text/html": "<div>\n<style scoped>\n    .dataframe tbody tr th:only-of-type {\n        vertical-align: middle;\n    }\n\n    .dataframe tbody tr th {\n        vertical-align: top;\n    }\n\n    .dataframe thead th {\n        text-align: right;\n    }\n</style>\n<table border=\"1\" class=\"dataframe\">\n  <thead>\n    <tr style=\"text-align: right;\">\n      <th></th>\n      <th>Neighbourhood</th>\n      <th>1st Most Common Venue</th>\n      <th>2nd Most Common Venue</th>\n      <th>3rd Most Common Venue</th>\n      <th>4th Most Common Venue</th>\n      <th>5th Most Common Venue</th>\n      <th>6th Most Common Venue</th>\n      <th>7th Most Common Venue</th>\n      <th>8th Most Common Venue</th>\n      <th>9th Most Common Venue</th>\n      <th>10th Most Common Venue</th>\n    </tr>\n  </thead>\n  <tbody>\n    <tr>\n      <th>51</th>\n      <td>CASA DE CAMPO</td>\n      <td>Theme Park Ride / Attraction</td>\n      <td>Zoo Exhibit</td>\n      <td>Theme Park</td>\n      <td>Aquarium</td>\n      <td>Convenience Store</td>\n      <td>Park</td>\n      <td>Farm</td>\n      <td>Bus Line</td>\n      <td>Burger Joint</td>\n      <td>Metro Station</td>\n    </tr>\n  </tbody>\n</table>\n</div>"
     },
     "execution_count": 93,
     "metadata": {},
     "output_type": "execute_result"
    }
   ],
   "source": [
    "madrid_merged.loc[madrid_merged['Cluster Labels'] == 1, madrid_merged.columns[[0] + list(range(4, madrid_merged.shape[1]))]]"
   ],
   "metadata": {
    "collapsed": false,
    "pycharm": {
     "name": "#%%\n"
    }
   }
  },
  {
   "cell_type": "code",
   "execution_count": 94,
   "outputs": [
    {
     "data": {
      "text/plain": "         Neighbourhood 1st Most Common Venue  2nd Most Common Venue  \\\n2               CORTES    Spanish Restaurant    Embassy / Consulate   \n3             JUSTICIA           Art Gallery                 Office   \n9              LEGAZPI           Supermarket                 Office   \n10            DELICIAS                Office   Gym / Fitness Center   \n12              ATOCHA                Office                   Bank   \n17       LOS JERÓNIMOS                Office                   Café   \n24          CASTELLANA                Office                   Bank   \n27       CIUDAD JARDÍN                Office                 Bakery   \n29        NUEVA ESPAÑA                Office       Dentist's Office   \n30            CASTILLA                Office  General Entertainment   \n33         CASTILLEJOS                Office                   Bank   \n34            ALMENARA                Office            Post Office   \n40             ALMAGRO              Building                 Office   \n41          RÍOS ROSAS   Government Building             Restaurant   \n42        VALLEHERMOSO            Restaurant            Pizza Place   \n52           ARGÜELLES            Restaurant          Grocery Store   \n88         MEDIA LEGUA           Coffee Shop     Salon / Barbershop   \n95         SAN PASCUAL            Restaurant    Government Building   \n96   SAN JUAN BAUTISTA            Restaurant         Medical Center   \n118           SIMANCAS                Office               Building   \n123              REJAS                Office             Playground   \n130         CORRALEJOS           Event Space  General Entertainment   \n\n        3rd Most Common Venue 4th Most Common Venue  5th Most Common Venue  \\\n2                   Hotel Bar                 Hotel            Event Space   \n3                  Courthouse              Boutique    Embassy / Consulate   \n9                    Bus Line              Pharmacy            Pizza Place   \n10   Mediterranean Restaurant            Restaurant         Breakfast Spot   \n12              Train Station                 Diner                   Café   \n17                Art Gallery    Italian Restaurant               Building   \n24                   Building                   Bar         Cosmetics Shop   \n27         Real Estate Office            Restaurant    Japanese Restaurant   \n29             Student Center        Medical Center             University   \n30                       Pool    Spanish Restaurant                 Church   \n33                        Gym            Restaurant                  Hotel   \n34        Government Building            Restaurant                Dog Run   \n40         Spanish Restaurant             Nightclub                    Bar   \n41         Salon / Barbershop               Parking     Italian Restaurant   \n42                   Hospital                  Bank     Salon / Barbershop   \n52         Salon / Barbershop                Bakery  General Entertainment   \n88                 Restaurant  Fast Food Restaurant            Post Office   \n95                 Smoke Shop         Grocery Store                    Bar   \n96                       Bank   Government Building          Grocery Store   \n118           Coworking Space          Tech Startup   Other Great Outdoors   \n123                      Park            Restaurant                  Diner   \n130                    Office     Convention Center           Meeting Room   \n\n        6th Most Common Venue       7th Most Common Venue  \\\n2         Japanese Restaurant                  Restaurant   \n3                 Post Office               Women's Store   \n9                   Racetrack             Automotive Shop   \n10           Capitol Building                        Bank   \n12           Sushi Restaurant                  Restaurant   \n17         Spanish Restaurant                 Coffee Shop   \n24         Salon / Barbershop                        Café   \n27                   Bus Stop                 Supermarket   \n29      General Entertainment               Deli / Bodega   \n30                Gas Station                      School   \n33         Italian Restaurant            Asian Restaurant   \n34         Salon / Barbershop                  Smoke Shop   \n40   Mediterranean Restaurant  Modern European Restaurant   \n41        Japanese Restaurant                        Park   \n42       Gym / Fitness Center          Spanish Restaurant   \n52                 Shoe Store            Dentist's Office   \n88                     Office                 Gas Station   \n95                     Church          Chinese Restaurant   \n96                        Pub          Salon / Barbershop   \n118      Fast Food Restaurant                   Cafeteria   \n123                 Rock Club              Breakfast Spot   \n130       Sporting Goods Shop                      Arcade   \n\n         8th Most Common Venue                     9th Most Common Venue  \\\n2             Tapas Restaurant                                    Office   \n3                   Restaurant                                      Food   \n9                      Parking           College Communications Building   \n10                         Bar                                   Theater   \n12             Coworking Space                                  Platform   \n17   College Academic Building                                Restaurant   \n24                 Coffee Shop                     General Entertainment   \n27            Tapas Restaurant                      Other Great Outdoors   \n29             Coworking Space                              Cocktail Bar   \n30        Other Great Outdoors                             Military Base   \n33                      Resort  Residential Building (Apartment / Condo)   \n34                        Bank                                    Bakery   \n40                Trade School                               Salad Place   \n41              Breakfast Spot                                    Office   \n42                        Café                             Metro Station   \n52                        Bank                             Deli / Bodega   \n88        Gym / Fitness Center                                    Bakery   \n95                      Office                                      Bank   \n96       General Entertainment                                    Bakery   \n118                    Factory                                  Bus Stop   \n123                 Boxing Gym                      Gym / Fitness Center   \n130                Golf Course                                      Park   \n\n     10th Most Common Venue  \n2          Capitol Building  \n3                  Building  \n9                      Park  \n10             Tennis Court  \n12       Italian Restaurant  \n17                   Bakery  \n24                BBQ Joint  \n27          Auto Dealership  \n29       Salon / Barbershop  \n30             Tech Startup  \n33       Spanish Restaurant  \n34         Spiritual Center  \n40                   Bakery  \n41   Furniture / Home Store  \n42     Other Great Outdoors  \n52       Italian Restaurant  \n88            Grocery Store  \n95        Convenience Store  \n96                      Bar  \n118                Car Wash  \n123       College Classroom  \n130          Clothing Store  ",
      "text/html": "<div>\n<style scoped>\n    .dataframe tbody tr th:only-of-type {\n        vertical-align: middle;\n    }\n\n    .dataframe tbody tr th {\n        vertical-align: top;\n    }\n\n    .dataframe thead th {\n        text-align: right;\n    }\n</style>\n<table border=\"1\" class=\"dataframe\">\n  <thead>\n    <tr style=\"text-align: right;\">\n      <th></th>\n      <th>Neighbourhood</th>\n      <th>1st Most Common Venue</th>\n      <th>2nd Most Common Venue</th>\n      <th>3rd Most Common Venue</th>\n      <th>4th Most Common Venue</th>\n      <th>5th Most Common Venue</th>\n      <th>6th Most Common Venue</th>\n      <th>7th Most Common Venue</th>\n      <th>8th Most Common Venue</th>\n      <th>9th Most Common Venue</th>\n      <th>10th Most Common Venue</th>\n    </tr>\n  </thead>\n  <tbody>\n    <tr>\n      <th>2</th>\n      <td>CORTES</td>\n      <td>Spanish Restaurant</td>\n      <td>Embassy / Consulate</td>\n      <td>Hotel Bar</td>\n      <td>Hotel</td>\n      <td>Event Space</td>\n      <td>Japanese Restaurant</td>\n      <td>Restaurant</td>\n      <td>Tapas Restaurant</td>\n      <td>Office</td>\n      <td>Capitol Building</td>\n    </tr>\n    <tr>\n      <th>3</th>\n      <td>JUSTICIA</td>\n      <td>Art Gallery</td>\n      <td>Office</td>\n      <td>Courthouse</td>\n      <td>Boutique</td>\n      <td>Embassy / Consulate</td>\n      <td>Post Office</td>\n      <td>Women's Store</td>\n      <td>Restaurant</td>\n      <td>Food</td>\n      <td>Building</td>\n    </tr>\n    <tr>\n      <th>9</th>\n      <td>LEGAZPI</td>\n      <td>Supermarket</td>\n      <td>Office</td>\n      <td>Bus Line</td>\n      <td>Pharmacy</td>\n      <td>Pizza Place</td>\n      <td>Racetrack</td>\n      <td>Automotive Shop</td>\n      <td>Parking</td>\n      <td>College Communications Building</td>\n      <td>Park</td>\n    </tr>\n    <tr>\n      <th>10</th>\n      <td>DELICIAS</td>\n      <td>Office</td>\n      <td>Gym / Fitness Center</td>\n      <td>Mediterranean Restaurant</td>\n      <td>Restaurant</td>\n      <td>Breakfast Spot</td>\n      <td>Capitol Building</td>\n      <td>Bank</td>\n      <td>Bar</td>\n      <td>Theater</td>\n      <td>Tennis Court</td>\n    </tr>\n    <tr>\n      <th>12</th>\n      <td>ATOCHA</td>\n      <td>Office</td>\n      <td>Bank</td>\n      <td>Train Station</td>\n      <td>Diner</td>\n      <td>Café</td>\n      <td>Sushi Restaurant</td>\n      <td>Restaurant</td>\n      <td>Coworking Space</td>\n      <td>Platform</td>\n      <td>Italian Restaurant</td>\n    </tr>\n    <tr>\n      <th>17</th>\n      <td>LOS JERÓNIMOS</td>\n      <td>Office</td>\n      <td>Café</td>\n      <td>Art Gallery</td>\n      <td>Italian Restaurant</td>\n      <td>Building</td>\n      <td>Spanish Restaurant</td>\n      <td>Coffee Shop</td>\n      <td>College Academic Building</td>\n      <td>Restaurant</td>\n      <td>Bakery</td>\n    </tr>\n    <tr>\n      <th>24</th>\n      <td>CASTELLANA</td>\n      <td>Office</td>\n      <td>Bank</td>\n      <td>Building</td>\n      <td>Bar</td>\n      <td>Cosmetics Shop</td>\n      <td>Salon / Barbershop</td>\n      <td>Café</td>\n      <td>Coffee Shop</td>\n      <td>General Entertainment</td>\n      <td>BBQ Joint</td>\n    </tr>\n    <tr>\n      <th>27</th>\n      <td>CIUDAD JARDÍN</td>\n      <td>Office</td>\n      <td>Bakery</td>\n      <td>Real Estate Office</td>\n      <td>Restaurant</td>\n      <td>Japanese Restaurant</td>\n      <td>Bus Stop</td>\n      <td>Supermarket</td>\n      <td>Tapas Restaurant</td>\n      <td>Other Great Outdoors</td>\n      <td>Auto Dealership</td>\n    </tr>\n    <tr>\n      <th>29</th>\n      <td>NUEVA ESPAÑA</td>\n      <td>Office</td>\n      <td>Dentist's Office</td>\n      <td>Student Center</td>\n      <td>Medical Center</td>\n      <td>University</td>\n      <td>General Entertainment</td>\n      <td>Deli / Bodega</td>\n      <td>Coworking Space</td>\n      <td>Cocktail Bar</td>\n      <td>Salon / Barbershop</td>\n    </tr>\n    <tr>\n      <th>30</th>\n      <td>CASTILLA</td>\n      <td>Office</td>\n      <td>General Entertainment</td>\n      <td>Pool</td>\n      <td>Spanish Restaurant</td>\n      <td>Church</td>\n      <td>Gas Station</td>\n      <td>School</td>\n      <td>Other Great Outdoors</td>\n      <td>Military Base</td>\n      <td>Tech Startup</td>\n    </tr>\n    <tr>\n      <th>33</th>\n      <td>CASTILLEJOS</td>\n      <td>Office</td>\n      <td>Bank</td>\n      <td>Gym</td>\n      <td>Restaurant</td>\n      <td>Hotel</td>\n      <td>Italian Restaurant</td>\n      <td>Asian Restaurant</td>\n      <td>Resort</td>\n      <td>Residential Building (Apartment / Condo)</td>\n      <td>Spanish Restaurant</td>\n    </tr>\n    <tr>\n      <th>34</th>\n      <td>ALMENARA</td>\n      <td>Office</td>\n      <td>Post Office</td>\n      <td>Government Building</td>\n      <td>Restaurant</td>\n      <td>Dog Run</td>\n      <td>Salon / Barbershop</td>\n      <td>Smoke Shop</td>\n      <td>Bank</td>\n      <td>Bakery</td>\n      <td>Spiritual Center</td>\n    </tr>\n    <tr>\n      <th>40</th>\n      <td>ALMAGRO</td>\n      <td>Building</td>\n      <td>Office</td>\n      <td>Spanish Restaurant</td>\n      <td>Nightclub</td>\n      <td>Bar</td>\n      <td>Mediterranean Restaurant</td>\n      <td>Modern European Restaurant</td>\n      <td>Trade School</td>\n      <td>Salad Place</td>\n      <td>Bakery</td>\n    </tr>\n    <tr>\n      <th>41</th>\n      <td>RÍOS ROSAS</td>\n      <td>Government Building</td>\n      <td>Restaurant</td>\n      <td>Salon / Barbershop</td>\n      <td>Parking</td>\n      <td>Italian Restaurant</td>\n      <td>Japanese Restaurant</td>\n      <td>Park</td>\n      <td>Breakfast Spot</td>\n      <td>Office</td>\n      <td>Furniture / Home Store</td>\n    </tr>\n    <tr>\n      <th>42</th>\n      <td>VALLEHERMOSO</td>\n      <td>Restaurant</td>\n      <td>Pizza Place</td>\n      <td>Hospital</td>\n      <td>Bank</td>\n      <td>Salon / Barbershop</td>\n      <td>Gym / Fitness Center</td>\n      <td>Spanish Restaurant</td>\n      <td>Café</td>\n      <td>Metro Station</td>\n      <td>Other Great Outdoors</td>\n    </tr>\n    <tr>\n      <th>52</th>\n      <td>ARGÜELLES</td>\n      <td>Restaurant</td>\n      <td>Grocery Store</td>\n      <td>Salon / Barbershop</td>\n      <td>Bakery</td>\n      <td>General Entertainment</td>\n      <td>Shoe Store</td>\n      <td>Dentist's Office</td>\n      <td>Bank</td>\n      <td>Deli / Bodega</td>\n      <td>Italian Restaurant</td>\n    </tr>\n    <tr>\n      <th>88</th>\n      <td>MEDIA LEGUA</td>\n      <td>Coffee Shop</td>\n      <td>Salon / Barbershop</td>\n      <td>Restaurant</td>\n      <td>Fast Food Restaurant</td>\n      <td>Post Office</td>\n      <td>Office</td>\n      <td>Gas Station</td>\n      <td>Gym / Fitness Center</td>\n      <td>Bakery</td>\n      <td>Grocery Store</td>\n    </tr>\n    <tr>\n      <th>95</th>\n      <td>SAN PASCUAL</td>\n      <td>Restaurant</td>\n      <td>Government Building</td>\n      <td>Smoke Shop</td>\n      <td>Grocery Store</td>\n      <td>Bar</td>\n      <td>Church</td>\n      <td>Chinese Restaurant</td>\n      <td>Office</td>\n      <td>Bank</td>\n      <td>Convenience Store</td>\n    </tr>\n    <tr>\n      <th>96</th>\n      <td>SAN JUAN BAUTISTA</td>\n      <td>Restaurant</td>\n      <td>Medical Center</td>\n      <td>Bank</td>\n      <td>Government Building</td>\n      <td>Grocery Store</td>\n      <td>Pub</td>\n      <td>Salon / Barbershop</td>\n      <td>General Entertainment</td>\n      <td>Bakery</td>\n      <td>Bar</td>\n    </tr>\n    <tr>\n      <th>118</th>\n      <td>SIMANCAS</td>\n      <td>Office</td>\n      <td>Building</td>\n      <td>Coworking Space</td>\n      <td>Tech Startup</td>\n      <td>Other Great Outdoors</td>\n      <td>Fast Food Restaurant</td>\n      <td>Cafeteria</td>\n      <td>Factory</td>\n      <td>Bus Stop</td>\n      <td>Car Wash</td>\n    </tr>\n    <tr>\n      <th>123</th>\n      <td>REJAS</td>\n      <td>Office</td>\n      <td>Playground</td>\n      <td>Park</td>\n      <td>Restaurant</td>\n      <td>Diner</td>\n      <td>Rock Club</td>\n      <td>Breakfast Spot</td>\n      <td>Boxing Gym</td>\n      <td>Gym / Fitness Center</td>\n      <td>College Classroom</td>\n    </tr>\n    <tr>\n      <th>130</th>\n      <td>CORRALEJOS</td>\n      <td>Event Space</td>\n      <td>General Entertainment</td>\n      <td>Office</td>\n      <td>Convention Center</td>\n      <td>Meeting Room</td>\n      <td>Sporting Goods Shop</td>\n      <td>Arcade</td>\n      <td>Golf Course</td>\n      <td>Park</td>\n      <td>Clothing Store</td>\n    </tr>\n  </tbody>\n</table>\n</div>"
     },
     "execution_count": 94,
     "metadata": {},
     "output_type": "execute_result"
    }
   ],
   "source": [
    "madrid_merged.loc[madrid_merged['Cluster Labels'] == 2, madrid_merged.columns[[0] + list(range(4, madrid_merged.shape[1]))]]"
   ],
   "metadata": {
    "collapsed": false,
    "pycharm": {
     "name": "#%%\n"
    }
   }
  },
  {
   "cell_type": "code",
   "execution_count": 95,
   "outputs": [
    {
     "data": {
      "text/plain": "                    Neighbourhood 1st Most Common Venue  \\\n0                         PALACIO                Church   \n5                             SOL        Clothing Store   \n19                      RECOLETOS              Boutique   \n43                       EL PARDO                  Bank   \n44                 FUENTELARREINA                  Bank   \n45                     PEÑAGRANDE              Building   \n47                         LA PAZ    Spanish Restaurant   \n48                       VALVERDE                Bakery   \n49                     MIRASIERRA              Hospital   \n50                      EL GOLOSO       College Library   \n53           CIUDAD UNIVERSITARIA     College Cafeteria   \n55                     VALDEMARÍN              Hospital   \n56                     EL PLANTÍO        Clothing Store   \n57                        ARAVACA      Dentist's Office   \n58                   LOS CÁRMENES              Pharmacy   \n59               PUERTA DEL ÁNGEL                Bakery   \n60                         LUCERO              Bus Line   \n62                     CAMPAMENTO              Bus Line   \n63                 CUATRO VIENTOS       Doctor's Office   \n64                    LAS ÁGUILAS        Medical Center   \n70                     BUENAVISTA        Clothing Store   \n73                        ORCASUR               Parking   \n74                     SAN FERMÍN                  Park   \n80                      SAN DIEGO                Market   \n82              PALOMERAS SURESTE                  Pool   \n85                        PAVONES              Bus Stop   \n89                      FONTARRÓN                  Bank   \n92                   PUEBLO NUEVO                  Park   \n97                         COLINA    Miscellaneous Shop   \n98                        ATALAYA            Playground   \n100                       PALOMAS                 Hotel   \n101                       PIOVERA    Salon / Barbershop   \n104              APÓSTOL SANTIAGO                  Park   \n107                 SAN CRISTÓBAL         Military Base   \n114  CASCO HISTÓRICO DE VICÁLVARO                  Pool   \n115                 VALDEBERNARDO    Spanish Restaurant   \n116                   VALDERRIVAS         Metro Station   \n117                  EL CAÑAVERAL           Gas Station   \n119                        HELLÍN                  Pool   \n120                       AMPOSTA                  Bank   \n\n         2nd Most Common Venue    3rd Most Common Venue  \\\n0                Historic Site       Spanish Restaurant   \n5                        Hotel               Restaurant   \n19              Clothing Store  Health & Beauty Service   \n43          Spanish Restaurant                  Parking   \n44                  Playground                   Bakery   \n45                      Office                    Diner   \n47                    Hospital           Breakfast Spot   \n48                        Park          Laundry Service   \n49              Medical Center     Fast Food Restaurant   \n50   College Academic Building        College Cafeteria   \n53                  University          College Library   \n55              Medical Center                     Park   \n56             Coworking Space                   Office   \n57                        Pool               Smoke Shop   \n58                       Diner                 Bus Line   \n59               Grocery Store                   School   \n60                        Bank           Breakfast Spot   \n62                         Bar            Grocery Store   \n63             Auto Dealership               Restaurant   \n64                      School                      Bar   \n70              Medical Center                      Gym   \n73             Cultural Center                 Bus Line   \n74              Hardware Store       Salon / Barbershop   \n80                    Bus Line          Automotive Shop   \n82                 Gas Station           Medical Center   \n85              Medical Center            Grocery Store   \n89                       Diner        Mobile Phone Shop   \n92                      Bakery      Housing Development   \n97                        Bank                 Pharmacy   \n98                        Pool    General Entertainment   \n100                Candy Store               Restaurant   \n101                 Kids Store                  Butcher   \n104                   Bus Stop              Gas Station   \n107                     Church                   School   \n114                       Bank              Pizza Place   \n115          Food & Drink Shop         Tapas Restaurant   \n116                       Café                   Market   \n117             Medical Center           Breakfast Spot   \n119                       Bank              Post Office   \n120         Spanish Restaurant              Gas Station   \n\n         4th Most Common Venue          5th Most Common Venue  \\\n0                   Restaurant            Monument / Landmark   \n5                Jewelry Store                         Hostel   \n19          Miscellaneous Shop                 Cosmetics Shop   \n43                    Bus Line                       Building   \n44                    Building                         Church   \n45                 Gas Station               Dentist's Office   \n47                    Building                           Bank   \n48                    Building                  Auto Workshop   \n49                    Pharmacy                    Gas Station   \n50                 Post Office                       Hospital   \n53                College Quad      College Academic Building   \n55                      Church                         Bakery   \n56                  Nail Salon                  Design Studio   \n57                         Gym                Automotive Shop   \n58           Convenience Store                         Bakery   \n59                      Church                Doctor's Office   \n60          Salon / Barbershop                          Diner   \n62                    Bus Stop                 General Travel   \n63           Mobile Phone Shop                 Clothing Store   \n64                      Winery                       Pharmacy   \n70                  Restaurant         Furniture / Home Store   \n73   College Academic Building                Doctor's Office   \n74               Metro Station                 Scenic Lookout   \n80                         Pub                  Grocery Store   \n82                    Pharmacy               Dentist's Office   \n85                      Temple             Salon / Barbershop   \n89                      Bakery                Doctor's Office   \n92                         Bar                 Breakfast Spot   \n97                 Bus Station  Paper / Office Supplies Store   \n98                    Bus Stop             Spanish Restaurant   \n100                     School                  Boat or Ferry   \n101                Pizza Place                           Pool   \n104              Grocery Store                           Bank   \n107     Furniture / Home Store                         Winery   \n114                     Church                         Bakery   \n115                   Beer Bar                 Medical Center   \n116                      Diner                    Gas Station   \n117             Cosmetics Shop                       Pharmacy   \n119                 Playground                          Diner   \n120             Medical Center                       Bus Line   \n\n               6th Most Common Venue     7th Most Common Venue  \\\n0                           Building               Bus Station   \n5                  Accessories Store          Tapas Restaurant   \n19               Japanese Restaurant                       Bar   \n43                       Gas Station     General Entertainment   \n44                 Convenience Store                      Pool   \n45                        Playground            Medical Center   \n47                           Parking               Gas Station   \n48                    Massage Studio            Medical Center   \n49                    Scenic Lookout      Gym / Fitness Center   \n50                 College Classroom  College Science Building   \n53   College Administrative Building                     Diner   \n55                            School                     Hotel   \n56                       Gas Station                  Boutique   \n57                    General Travel                    Church   \n58                     Grocery Store                  Cemetery   \n59                       Shoe Repair            Hardware Store   \n60                      Optical Shop                  Pharmacy   \n62                     Metro Station                    Church   \n63                           Airport             Flight School   \n64                           Library                      Park   \n70                   Automotive Shop         Food & Drink Shop   \n73                    Breakfast Spot                  Hospital   \n74                    Medical Center                      Bank   \n80                Chinese Restaurant       Peruvian Restaurant   \n82              Fast Food Restaurant                  Tea Room   \n85                             Diner       Government Building   \n89                  Tapas Restaurant             Historic Site   \n92                            Church      Gym / Fitness Center   \n97                            Bakery         Convenience Store   \n98                            Office               Event Space   \n100          Health & Beauty Service                      Bank   \n101                    Deli / Bodega                  Bus Line   \n104                              Bar                    Bakery   \n107                           Office            Breakfast Spot   \n114                        Racetrack            Cosmetics Shop   \n115               Salon / Barbershop               Event Space   \n116                      Music Venue                  Bus Line   \n117                             Bank               High School   \n119                           Church                       Gym   \n120                          Brewery            Breakfast Spot   \n\n            8th Most Common Venue         9th Most Common Venue  \\\n0                          Bakery           Government Building   \n5                           Plaza                        Church   \n19                  Jewelry Store                   Coffee Shop   \n43               Basketball Court                        School   \n44              Food & Drink Shop              Tapas Restaurant   \n45                Coworking Space                 Grocery Store   \n47                         School               Doctor's Office   \n48             Salon / Barbershop      Mediterranean Restaurant   \n49                            Gym                          Bank   \n50                     Restaurant                    University   \n53                College Stadium         General Entertainment   \n55                Automotive Shop             College Classroom   \n56                Doctor's Office                 Jewelry Store   \n57                   Tech Startup                    Shoe Store   \n58                            Pub                     Newsstand   \n59                     Restaurant               Automotive Shop   \n60                            Spa                Student Center   \n62              Mobile Phone Shop                       Parking   \n63                 Ice Cream Shop            Miscellaneous Shop   \n64                         Church               Automotive Shop   \n70                         Bakery                           Bar   \n73                    Gas Station            Italian Restaurant   \n74                            Bar                  Gourmet Shop   \n80                Bed & Breakfast            Salon / Barbershop   \n82              Food & Drink Shop                 Grocery Store   \n85               Lottery Retailer               Assisted Living   \n89                     Nail Salon                   Medical Lab   \n92               Tapas Restaurant           Martial Arts School   \n97                           Café              Tapas Restaurant   \n98           Other Great Outdoors                        Church   \n100             Electronics Store                 Grocery Store   \n101  General College & University         General Entertainment   \n104                 Train Station            Miscellaneous Shop   \n107              Tapas Restaurant                 Metro Station   \n114                    Playground                 Train Station   \n115                          Bank      Mediterranean Restaurant   \n116                          Bank                Medical Center   \n117            Salon / Barbershop            Miscellaneous Shop   \n119            Basketball Stadium                       Dog Run   \n120                   Supermarket  General College & University   \n\n        10th Most Common Venue  \n0                     Beer Bar  \n5               Massage Studio  \n19         Embassy / Consulate  \n43          Salon / Barbershop  \n44               Grocery Store  \n45            Toy / Game Store  \n47                   Newsstand  \n48   College Academic Building  \n49                        Park  \n50                        Café  \n53                      Church  \n55                         Gym  \n56              Breakfast Spot  \n57              Shop & Service  \n58                         Gym  \n59     Health & Beauty Service  \n60          College Auditorium  \n62                      Bakery  \n63                  Baby Store  \n64              Massage Studio  \n70                 Men's Store  \n73               Tattoo Parlor  \n74           Electronics Store  \n80              Medical Center  \n82                      Bakery  \n85          Athletics & Sports  \n89        Medical Supply Store  \n92                        Bank  \n97             Thai Restaurant  \n98            Lottery Retailer  \n100         Salon / Barbershop  \n101               Meeting Room  \n104                     Market  \n107            Coworking Space  \n114                     Market  \n115              Metro Station  \n116         Salon / Barbershop  \n117                 Restaurant  \n119              Grocery Store  \n120              Grocery Store  ",
      "text/html": "<div>\n<style scoped>\n    .dataframe tbody tr th:only-of-type {\n        vertical-align: middle;\n    }\n\n    .dataframe tbody tr th {\n        vertical-align: top;\n    }\n\n    .dataframe thead th {\n        text-align: right;\n    }\n</style>\n<table border=\"1\" class=\"dataframe\">\n  <thead>\n    <tr style=\"text-align: right;\">\n      <th></th>\n      <th>Neighbourhood</th>\n      <th>1st Most Common Venue</th>\n      <th>2nd Most Common Venue</th>\n      <th>3rd Most Common Venue</th>\n      <th>4th Most Common Venue</th>\n      <th>5th Most Common Venue</th>\n      <th>6th Most Common Venue</th>\n      <th>7th Most Common Venue</th>\n      <th>8th Most Common Venue</th>\n      <th>9th Most Common Venue</th>\n      <th>10th Most Common Venue</th>\n    </tr>\n  </thead>\n  <tbody>\n    <tr>\n      <th>0</th>\n      <td>PALACIO</td>\n      <td>Church</td>\n      <td>Historic Site</td>\n      <td>Spanish Restaurant</td>\n      <td>Restaurant</td>\n      <td>Monument / Landmark</td>\n      <td>Building</td>\n      <td>Bus Station</td>\n      <td>Bakery</td>\n      <td>Government Building</td>\n      <td>Beer Bar</td>\n    </tr>\n    <tr>\n      <th>5</th>\n      <td>SOL</td>\n      <td>Clothing Store</td>\n      <td>Hotel</td>\n      <td>Restaurant</td>\n      <td>Jewelry Store</td>\n      <td>Hostel</td>\n      <td>Accessories Store</td>\n      <td>Tapas Restaurant</td>\n      <td>Plaza</td>\n      <td>Church</td>\n      <td>Massage Studio</td>\n    </tr>\n    <tr>\n      <th>19</th>\n      <td>RECOLETOS</td>\n      <td>Boutique</td>\n      <td>Clothing Store</td>\n      <td>Health &amp; Beauty Service</td>\n      <td>Miscellaneous Shop</td>\n      <td>Cosmetics Shop</td>\n      <td>Japanese Restaurant</td>\n      <td>Bar</td>\n      <td>Jewelry Store</td>\n      <td>Coffee Shop</td>\n      <td>Embassy / Consulate</td>\n    </tr>\n    <tr>\n      <th>43</th>\n      <td>EL PARDO</td>\n      <td>Bank</td>\n      <td>Spanish Restaurant</td>\n      <td>Parking</td>\n      <td>Bus Line</td>\n      <td>Building</td>\n      <td>Gas Station</td>\n      <td>General Entertainment</td>\n      <td>Basketball Court</td>\n      <td>School</td>\n      <td>Salon / Barbershop</td>\n    </tr>\n    <tr>\n      <th>44</th>\n      <td>FUENTELARREINA</td>\n      <td>Bank</td>\n      <td>Playground</td>\n      <td>Bakery</td>\n      <td>Building</td>\n      <td>Church</td>\n      <td>Convenience Store</td>\n      <td>Pool</td>\n      <td>Food &amp; Drink Shop</td>\n      <td>Tapas Restaurant</td>\n      <td>Grocery Store</td>\n    </tr>\n    <tr>\n      <th>45</th>\n      <td>PEÑAGRANDE</td>\n      <td>Building</td>\n      <td>Office</td>\n      <td>Diner</td>\n      <td>Gas Station</td>\n      <td>Dentist's Office</td>\n      <td>Playground</td>\n      <td>Medical Center</td>\n      <td>Coworking Space</td>\n      <td>Grocery Store</td>\n      <td>Toy / Game Store</td>\n    </tr>\n    <tr>\n      <th>47</th>\n      <td>LA PAZ</td>\n      <td>Spanish Restaurant</td>\n      <td>Hospital</td>\n      <td>Breakfast Spot</td>\n      <td>Building</td>\n      <td>Bank</td>\n      <td>Parking</td>\n      <td>Gas Station</td>\n      <td>School</td>\n      <td>Doctor's Office</td>\n      <td>Newsstand</td>\n    </tr>\n    <tr>\n      <th>48</th>\n      <td>VALVERDE</td>\n      <td>Bakery</td>\n      <td>Park</td>\n      <td>Laundry Service</td>\n      <td>Building</td>\n      <td>Auto Workshop</td>\n      <td>Massage Studio</td>\n      <td>Medical Center</td>\n      <td>Salon / Barbershop</td>\n      <td>Mediterranean Restaurant</td>\n      <td>College Academic Building</td>\n    </tr>\n    <tr>\n      <th>49</th>\n      <td>MIRASIERRA</td>\n      <td>Hospital</td>\n      <td>Medical Center</td>\n      <td>Fast Food Restaurant</td>\n      <td>Pharmacy</td>\n      <td>Gas Station</td>\n      <td>Scenic Lookout</td>\n      <td>Gym / Fitness Center</td>\n      <td>Gym</td>\n      <td>Bank</td>\n      <td>Park</td>\n    </tr>\n    <tr>\n      <th>50</th>\n      <td>EL GOLOSO</td>\n      <td>College Library</td>\n      <td>College Academic Building</td>\n      <td>College Cafeteria</td>\n      <td>Post Office</td>\n      <td>Hospital</td>\n      <td>College Classroom</td>\n      <td>College Science Building</td>\n      <td>Restaurant</td>\n      <td>University</td>\n      <td>Café</td>\n    </tr>\n    <tr>\n      <th>53</th>\n      <td>CIUDAD UNIVERSITARIA</td>\n      <td>College Cafeteria</td>\n      <td>University</td>\n      <td>College Library</td>\n      <td>College Quad</td>\n      <td>College Academic Building</td>\n      <td>College Administrative Building</td>\n      <td>Diner</td>\n      <td>College Stadium</td>\n      <td>General Entertainment</td>\n      <td>Church</td>\n    </tr>\n    <tr>\n      <th>55</th>\n      <td>VALDEMARÍN</td>\n      <td>Hospital</td>\n      <td>Medical Center</td>\n      <td>Park</td>\n      <td>Church</td>\n      <td>Bakery</td>\n      <td>School</td>\n      <td>Hotel</td>\n      <td>Automotive Shop</td>\n      <td>College Classroom</td>\n      <td>Gym</td>\n    </tr>\n    <tr>\n      <th>56</th>\n      <td>EL PLANTÍO</td>\n      <td>Clothing Store</td>\n      <td>Coworking Space</td>\n      <td>Office</td>\n      <td>Nail Salon</td>\n      <td>Design Studio</td>\n      <td>Gas Station</td>\n      <td>Boutique</td>\n      <td>Doctor's Office</td>\n      <td>Jewelry Store</td>\n      <td>Breakfast Spot</td>\n    </tr>\n    <tr>\n      <th>57</th>\n      <td>ARAVACA</td>\n      <td>Dentist's Office</td>\n      <td>Pool</td>\n      <td>Smoke Shop</td>\n      <td>Gym</td>\n      <td>Automotive Shop</td>\n      <td>General Travel</td>\n      <td>Church</td>\n      <td>Tech Startup</td>\n      <td>Shoe Store</td>\n      <td>Shop &amp; Service</td>\n    </tr>\n    <tr>\n      <th>58</th>\n      <td>LOS CÁRMENES</td>\n      <td>Pharmacy</td>\n      <td>Diner</td>\n      <td>Bus Line</td>\n      <td>Convenience Store</td>\n      <td>Bakery</td>\n      <td>Grocery Store</td>\n      <td>Cemetery</td>\n      <td>Pub</td>\n      <td>Newsstand</td>\n      <td>Gym</td>\n    </tr>\n    <tr>\n      <th>59</th>\n      <td>PUERTA DEL ÁNGEL</td>\n      <td>Bakery</td>\n      <td>Grocery Store</td>\n      <td>School</td>\n      <td>Church</td>\n      <td>Doctor's Office</td>\n      <td>Shoe Repair</td>\n      <td>Hardware Store</td>\n      <td>Restaurant</td>\n      <td>Automotive Shop</td>\n      <td>Health &amp; Beauty Service</td>\n    </tr>\n    <tr>\n      <th>60</th>\n      <td>LUCERO</td>\n      <td>Bus Line</td>\n      <td>Bank</td>\n      <td>Breakfast Spot</td>\n      <td>Salon / Barbershop</td>\n      <td>Diner</td>\n      <td>Optical Shop</td>\n      <td>Pharmacy</td>\n      <td>Spa</td>\n      <td>Student Center</td>\n      <td>College Auditorium</td>\n    </tr>\n    <tr>\n      <th>62</th>\n      <td>CAMPAMENTO</td>\n      <td>Bus Line</td>\n      <td>Bar</td>\n      <td>Grocery Store</td>\n      <td>Bus Stop</td>\n      <td>General Travel</td>\n      <td>Metro Station</td>\n      <td>Church</td>\n      <td>Mobile Phone Shop</td>\n      <td>Parking</td>\n      <td>Bakery</td>\n    </tr>\n    <tr>\n      <th>63</th>\n      <td>CUATRO VIENTOS</td>\n      <td>Doctor's Office</td>\n      <td>Auto Dealership</td>\n      <td>Restaurant</td>\n      <td>Mobile Phone Shop</td>\n      <td>Clothing Store</td>\n      <td>Airport</td>\n      <td>Flight School</td>\n      <td>Ice Cream Shop</td>\n      <td>Miscellaneous Shop</td>\n      <td>Baby Store</td>\n    </tr>\n    <tr>\n      <th>64</th>\n      <td>LAS ÁGUILAS</td>\n      <td>Medical Center</td>\n      <td>School</td>\n      <td>Bar</td>\n      <td>Winery</td>\n      <td>Pharmacy</td>\n      <td>Library</td>\n      <td>Park</td>\n      <td>Church</td>\n      <td>Automotive Shop</td>\n      <td>Massage Studio</td>\n    </tr>\n    <tr>\n      <th>70</th>\n      <td>BUENAVISTA</td>\n      <td>Clothing Store</td>\n      <td>Medical Center</td>\n      <td>Gym</td>\n      <td>Restaurant</td>\n      <td>Furniture / Home Store</td>\n      <td>Automotive Shop</td>\n      <td>Food &amp; Drink Shop</td>\n      <td>Bakery</td>\n      <td>Bar</td>\n      <td>Men's Store</td>\n    </tr>\n    <tr>\n      <th>73</th>\n      <td>ORCASUR</td>\n      <td>Parking</td>\n      <td>Cultural Center</td>\n      <td>Bus Line</td>\n      <td>College Academic Building</td>\n      <td>Doctor's Office</td>\n      <td>Breakfast Spot</td>\n      <td>Hospital</td>\n      <td>Gas Station</td>\n      <td>Italian Restaurant</td>\n      <td>Tattoo Parlor</td>\n    </tr>\n    <tr>\n      <th>74</th>\n      <td>SAN FERMÍN</td>\n      <td>Park</td>\n      <td>Hardware Store</td>\n      <td>Salon / Barbershop</td>\n      <td>Metro Station</td>\n      <td>Scenic Lookout</td>\n      <td>Medical Center</td>\n      <td>Bank</td>\n      <td>Bar</td>\n      <td>Gourmet Shop</td>\n      <td>Electronics Store</td>\n    </tr>\n    <tr>\n      <th>80</th>\n      <td>SAN DIEGO</td>\n      <td>Market</td>\n      <td>Bus Line</td>\n      <td>Automotive Shop</td>\n      <td>Pub</td>\n      <td>Grocery Store</td>\n      <td>Chinese Restaurant</td>\n      <td>Peruvian Restaurant</td>\n      <td>Bed &amp; Breakfast</td>\n      <td>Salon / Barbershop</td>\n      <td>Medical Center</td>\n    </tr>\n    <tr>\n      <th>82</th>\n      <td>PALOMERAS SURESTE</td>\n      <td>Pool</td>\n      <td>Gas Station</td>\n      <td>Medical Center</td>\n      <td>Pharmacy</td>\n      <td>Dentist's Office</td>\n      <td>Fast Food Restaurant</td>\n      <td>Tea Room</td>\n      <td>Food &amp; Drink Shop</td>\n      <td>Grocery Store</td>\n      <td>Bakery</td>\n    </tr>\n    <tr>\n      <th>85</th>\n      <td>PAVONES</td>\n      <td>Bus Stop</td>\n      <td>Medical Center</td>\n      <td>Grocery Store</td>\n      <td>Temple</td>\n      <td>Salon / Barbershop</td>\n      <td>Diner</td>\n      <td>Government Building</td>\n      <td>Lottery Retailer</td>\n      <td>Assisted Living</td>\n      <td>Athletics &amp; Sports</td>\n    </tr>\n    <tr>\n      <th>89</th>\n      <td>FONTARRÓN</td>\n      <td>Bank</td>\n      <td>Diner</td>\n      <td>Mobile Phone Shop</td>\n      <td>Bakery</td>\n      <td>Doctor's Office</td>\n      <td>Tapas Restaurant</td>\n      <td>Historic Site</td>\n      <td>Nail Salon</td>\n      <td>Medical Lab</td>\n      <td>Medical Supply Store</td>\n    </tr>\n    <tr>\n      <th>92</th>\n      <td>PUEBLO NUEVO</td>\n      <td>Park</td>\n      <td>Bakery</td>\n      <td>Housing Development</td>\n      <td>Bar</td>\n      <td>Breakfast Spot</td>\n      <td>Church</td>\n      <td>Gym / Fitness Center</td>\n      <td>Tapas Restaurant</td>\n      <td>Martial Arts School</td>\n      <td>Bank</td>\n    </tr>\n    <tr>\n      <th>97</th>\n      <td>COLINA</td>\n      <td>Miscellaneous Shop</td>\n      <td>Bank</td>\n      <td>Pharmacy</td>\n      <td>Bus Station</td>\n      <td>Paper / Office Supplies Store</td>\n      <td>Bakery</td>\n      <td>Convenience Store</td>\n      <td>Café</td>\n      <td>Tapas Restaurant</td>\n      <td>Thai Restaurant</td>\n    </tr>\n    <tr>\n      <th>98</th>\n      <td>ATALAYA</td>\n      <td>Playground</td>\n      <td>Pool</td>\n      <td>General Entertainment</td>\n      <td>Bus Stop</td>\n      <td>Spanish Restaurant</td>\n      <td>Office</td>\n      <td>Event Space</td>\n      <td>Other Great Outdoors</td>\n      <td>Church</td>\n      <td>Lottery Retailer</td>\n    </tr>\n    <tr>\n      <th>100</th>\n      <td>PALOMAS</td>\n      <td>Hotel</td>\n      <td>Candy Store</td>\n      <td>Restaurant</td>\n      <td>School</td>\n      <td>Boat or Ferry</td>\n      <td>Health &amp; Beauty Service</td>\n      <td>Bank</td>\n      <td>Electronics Store</td>\n      <td>Grocery Store</td>\n      <td>Salon / Barbershop</td>\n    </tr>\n    <tr>\n      <th>101</th>\n      <td>PIOVERA</td>\n      <td>Salon / Barbershop</td>\n      <td>Kids Store</td>\n      <td>Butcher</td>\n      <td>Pizza Place</td>\n      <td>Pool</td>\n      <td>Deli / Bodega</td>\n      <td>Bus Line</td>\n      <td>General College &amp; University</td>\n      <td>General Entertainment</td>\n      <td>Meeting Room</td>\n    </tr>\n    <tr>\n      <th>104</th>\n      <td>APÓSTOL SANTIAGO</td>\n      <td>Park</td>\n      <td>Bus Stop</td>\n      <td>Gas Station</td>\n      <td>Grocery Store</td>\n      <td>Bank</td>\n      <td>Bar</td>\n      <td>Bakery</td>\n      <td>Train Station</td>\n      <td>Miscellaneous Shop</td>\n      <td>Market</td>\n    </tr>\n    <tr>\n      <th>107</th>\n      <td>SAN CRISTÓBAL</td>\n      <td>Military Base</td>\n      <td>Church</td>\n      <td>School</td>\n      <td>Furniture / Home Store</td>\n      <td>Winery</td>\n      <td>Office</td>\n      <td>Breakfast Spot</td>\n      <td>Tapas Restaurant</td>\n      <td>Metro Station</td>\n      <td>Coworking Space</td>\n    </tr>\n    <tr>\n      <th>114</th>\n      <td>CASCO HISTÓRICO DE VICÁLVARO</td>\n      <td>Pool</td>\n      <td>Bank</td>\n      <td>Pizza Place</td>\n      <td>Church</td>\n      <td>Bakery</td>\n      <td>Racetrack</td>\n      <td>Cosmetics Shop</td>\n      <td>Playground</td>\n      <td>Train Station</td>\n      <td>Market</td>\n    </tr>\n    <tr>\n      <th>115</th>\n      <td>VALDEBERNARDO</td>\n      <td>Spanish Restaurant</td>\n      <td>Food &amp; Drink Shop</td>\n      <td>Tapas Restaurant</td>\n      <td>Beer Bar</td>\n      <td>Medical Center</td>\n      <td>Salon / Barbershop</td>\n      <td>Event Space</td>\n      <td>Bank</td>\n      <td>Mediterranean Restaurant</td>\n      <td>Metro Station</td>\n    </tr>\n    <tr>\n      <th>116</th>\n      <td>VALDERRIVAS</td>\n      <td>Metro Station</td>\n      <td>Café</td>\n      <td>Market</td>\n      <td>Diner</td>\n      <td>Gas Station</td>\n      <td>Music Venue</td>\n      <td>Bus Line</td>\n      <td>Bank</td>\n      <td>Medical Center</td>\n      <td>Salon / Barbershop</td>\n    </tr>\n    <tr>\n      <th>117</th>\n      <td>EL CAÑAVERAL</td>\n      <td>Gas Station</td>\n      <td>Medical Center</td>\n      <td>Breakfast Spot</td>\n      <td>Cosmetics Shop</td>\n      <td>Pharmacy</td>\n      <td>Bank</td>\n      <td>High School</td>\n      <td>Salon / Barbershop</td>\n      <td>Miscellaneous Shop</td>\n      <td>Restaurant</td>\n    </tr>\n    <tr>\n      <th>119</th>\n      <td>HELLÍN</td>\n      <td>Pool</td>\n      <td>Bank</td>\n      <td>Post Office</td>\n      <td>Playground</td>\n      <td>Diner</td>\n      <td>Church</td>\n      <td>Gym</td>\n      <td>Basketball Stadium</td>\n      <td>Dog Run</td>\n      <td>Grocery Store</td>\n    </tr>\n    <tr>\n      <th>120</th>\n      <td>AMPOSTA</td>\n      <td>Bank</td>\n      <td>Spanish Restaurant</td>\n      <td>Gas Station</td>\n      <td>Medical Center</td>\n      <td>Bus Line</td>\n      <td>Brewery</td>\n      <td>Breakfast Spot</td>\n      <td>Supermarket</td>\n      <td>General College &amp; University</td>\n      <td>Grocery Store</td>\n    </tr>\n  </tbody>\n</table>\n</div>"
     },
     "execution_count": 95,
     "metadata": {},
     "output_type": "execute_result"
    }
   ],
   "source": [
    "madrid_merged.loc[madrid_merged['Cluster Labels'] == 3, madrid_merged.columns[[0] + list(range(4, madrid_merged.shape[1]))]]"
   ],
   "metadata": {
    "collapsed": false,
    "pycharm": {
     "name": "#%%\n"
    }
   }
  },
  {
   "cell_type": "code",
   "execution_count": 96,
   "outputs": [
    {
     "data": {
      "text/plain": "    Neighbourhood 1st Most Common Venue 2nd Most Common Venue  \\\n127    AEROPUERTO          Airport Gate       Airport Service   \n\n    3rd Most Common Venue 4th Most Common Venue 5th Most Common Venue  \\\n127        Airport Lounge      Airport Terminal          Optical Shop   \n\n    6th Most Common Venue 7th Most Common Venue 8th Most Common Venue  \\\n127             Newsstand    Miscellaneous Shop              Building   \n\n    9th Most Common Venue 10th Most Common Venue  \n127   Rental Car Location                Airport  ",
      "text/html": "<div>\n<style scoped>\n    .dataframe tbody tr th:only-of-type {\n        vertical-align: middle;\n    }\n\n    .dataframe tbody tr th {\n        vertical-align: top;\n    }\n\n    .dataframe thead th {\n        text-align: right;\n    }\n</style>\n<table border=\"1\" class=\"dataframe\">\n  <thead>\n    <tr style=\"text-align: right;\">\n      <th></th>\n      <th>Neighbourhood</th>\n      <th>1st Most Common Venue</th>\n      <th>2nd Most Common Venue</th>\n      <th>3rd Most Common Venue</th>\n      <th>4th Most Common Venue</th>\n      <th>5th Most Common Venue</th>\n      <th>6th Most Common Venue</th>\n      <th>7th Most Common Venue</th>\n      <th>8th Most Common Venue</th>\n      <th>9th Most Common Venue</th>\n      <th>10th Most Common Venue</th>\n    </tr>\n  </thead>\n  <tbody>\n    <tr>\n      <th>127</th>\n      <td>AEROPUERTO</td>\n      <td>Airport Gate</td>\n      <td>Airport Service</td>\n      <td>Airport Lounge</td>\n      <td>Airport Terminal</td>\n      <td>Optical Shop</td>\n      <td>Newsstand</td>\n      <td>Miscellaneous Shop</td>\n      <td>Building</td>\n      <td>Rental Car Location</td>\n      <td>Airport</td>\n    </tr>\n  </tbody>\n</table>\n</div>"
     },
     "execution_count": 96,
     "metadata": {},
     "output_type": "execute_result"
    }
   ],
   "source": [
    "madrid_merged.loc[madrid_merged['Cluster Labels'] == 4, madrid_merged.columns[[0] + list(range(4, madrid_merged.shape[1]))]]"
   ],
   "metadata": {
    "collapsed": false,
    "pycharm": {
     "name": "#%%\n"
    }
   }
  },
  {
   "cell_type": "code",
   "execution_count": 97,
   "outputs": [],
   "source": [
    "#---------------------------------------------------------------------------"
   ],
   "metadata": {
    "collapsed": false,
    "pycharm": {
     "name": "#%%\n"
    }
   }
  },
  {
   "cell_type": "code",
   "execution_count": 98,
   "outputs": [],
   "source": [
    "# From now on, we will work only with the cluster 0 , since is the one with Most venues in Restaurants,bars,cafes,coffeeshops,desserts,icecream,liquor,pubs,restaurants,spas,tea,wines"
   ],
   "metadata": {
    "collapsed": false,
    "pycharm": {
     "name": "#%%\n"
    }
   }
  },
  {
   "cell_type": "code",
   "execution_count": 99,
   "outputs": [],
   "source": [
    "#---------------------------------------------------------------------------\n",
    "# Extracting the data from the clusters"
   ],
   "metadata": {
    "collapsed": false,
    "pycharm": {
     "name": "#%%\n"
    }
   }
  },
  {
   "cell_type": "code",
   "execution_count": 100,
   "outputs": [],
   "source": [
    "leisure_cluster= 0\n",
    "df_madrid_leisure = neighbourhoods_df[neighbourhoods_df['Neighbourhood'].isin(madrid_merged.loc[madrid_merged['Cluster Labels'] == leisure_cluster, 'Neighbourhood'].tolist())]"
   ],
   "metadata": {
    "collapsed": false,
    "pycharm": {
     "name": "#%%\n"
    }
   }
  },
  {
   "cell_type": "code",
   "execution_count": 101,
   "outputs": [
    {
     "data": {
      "text/plain": "                  Neighbourhood  Latitude  Longitude\n1                   EMBAJADORES  40.40803   -3.70067\n4                   UNIVERSIDAD  40.42565   -3.70726\n6                      IMPERIAL  40.40833   -3.71865\n7                       ACACIAS  40.40137   -3.70669\n8                       CHOPERA  40.39536   -3.69833\n..                          ...       ...        ...\n124                  CANILLEJAS  40.44373   -3.60977\n125                 EL SALVADOR  40.44384   -3.63477\n126            ALAMEDA DE OSUNA  40.45818   -3.58953\n128  CASCO HISTÓRICO DE BARAJAS  40.47482   -3.57951\n129                       TIMÓN  40.48568   -3.60472\n\n[67 rows x 3 columns]",
      "text/html": "<div>\n<style scoped>\n    .dataframe tbody tr th:only-of-type {\n        vertical-align: middle;\n    }\n\n    .dataframe tbody tr th {\n        vertical-align: top;\n    }\n\n    .dataframe thead th {\n        text-align: right;\n    }\n</style>\n<table border=\"1\" class=\"dataframe\">\n  <thead>\n    <tr style=\"text-align: right;\">\n      <th></th>\n      <th>Neighbourhood</th>\n      <th>Latitude</th>\n      <th>Longitude</th>\n    </tr>\n  </thead>\n  <tbody>\n    <tr>\n      <th>1</th>\n      <td>EMBAJADORES</td>\n      <td>40.40803</td>\n      <td>-3.70067</td>\n    </tr>\n    <tr>\n      <th>4</th>\n      <td>UNIVERSIDAD</td>\n      <td>40.42565</td>\n      <td>-3.70726</td>\n    </tr>\n    <tr>\n      <th>6</th>\n      <td>IMPERIAL</td>\n      <td>40.40833</td>\n      <td>-3.71865</td>\n    </tr>\n    <tr>\n      <th>7</th>\n      <td>ACACIAS</td>\n      <td>40.40137</td>\n      <td>-3.70669</td>\n    </tr>\n    <tr>\n      <th>8</th>\n      <td>CHOPERA</td>\n      <td>40.39536</td>\n      <td>-3.69833</td>\n    </tr>\n    <tr>\n      <th>...</th>\n      <td>...</td>\n      <td>...</td>\n      <td>...</td>\n    </tr>\n    <tr>\n      <th>124</th>\n      <td>CANILLEJAS</td>\n      <td>40.44373</td>\n      <td>-3.60977</td>\n    </tr>\n    <tr>\n      <th>125</th>\n      <td>EL SALVADOR</td>\n      <td>40.44384</td>\n      <td>-3.63477</td>\n    </tr>\n    <tr>\n      <th>126</th>\n      <td>ALAMEDA DE OSUNA</td>\n      <td>40.45818</td>\n      <td>-3.58953</td>\n    </tr>\n    <tr>\n      <th>128</th>\n      <td>CASCO HISTÓRICO DE BARAJAS</td>\n      <td>40.47482</td>\n      <td>-3.57951</td>\n    </tr>\n    <tr>\n      <th>129</th>\n      <td>TIMÓN</td>\n      <td>40.48568</td>\n      <td>-3.60472</td>\n    </tr>\n  </tbody>\n</table>\n<p>67 rows × 3 columns</p>\n</div>"
     },
     "execution_count": 101,
     "metadata": {},
     "output_type": "execute_result"
    }
   ],
   "source": [
    "df_madrid_leisure"
   ],
   "metadata": {
    "collapsed": false,
    "pycharm": {
     "name": "#%%\n"
    }
   }
  },
  {
   "cell_type": "code",
   "execution_count": 102,
   "outputs": [],
   "source": [
    "#---------------------------------------------------------------------------"
   ],
   "metadata": {
    "collapsed": false,
    "pycharm": {
     "name": "#%%\n"
    }
   }
  },
  {
   "cell_type": "code",
   "execution_count": 103,
   "outputs": [],
   "source": [
    "# Finding the most popular venues in the cluster\n",
    "#Repo for api foursquare ID's\n",
    "#https://gist.github.com/mraaroncruz/0a9e4968f7149821ca74\n",
    "\n",
    "#Wine Shop id = 4bf58dd8d48988d119951735\n",
    "#Liquor Store id =4bf58dd8d48988d186941735"
   ],
   "metadata": {
    "collapsed": false,
    "pycharm": {
     "name": "#%%\n"
    }
   }
  },
  {
   "cell_type": "code",
   "execution_count": 104,
   "outputs": [
    {
     "name": "stdout",
     "output_type": "stream",
     "text": [
      "Credentails:\n",
      "CLIENT_ID: RRLQJ3E2XUVOIOJ1JCCTVG5T2TW5EUVL35NBIEAJGO5UHUH2\n",
      "CLIENT_SECRET:IZUZ45XFYXTK0NNIBHIF412VCEOZGOMSLUN5CWOT50IERA5S\n"
     ]
    }
   ],
   "source": [
    "CLIENT_ID = tok1 # Foursquare ID\n",
    "CLIENT_SECRET = tok2 # Foursquare Secret\n",
    "ACCESS_TOKEN = '' # FourSquare Access Token\n",
    "VERSION = '20180323' # Foursquare API version\n",
    "LIMIT = 100 # A default Foursquare API limit value\n",
    "\n",
    "print('Credentails:')\n",
    "print('CLIENT_ID: ' + tok1)\n",
    "print('CLIENT_SECRET:' + tok2)"
   ],
   "metadata": {
    "collapsed": false,
    "pycharm": {
     "name": "#%%\n"
    }
   }
  },
  {
   "cell_type": "code",
   "execution_count": 105,
   "outputs": [],
   "source": [
    "# Category ID in Foursquare API\n",
    "\n",
    "Wine_Bar_id=  '4bf58dd8d48988d123941735'\n",
    "\n",
    "# Function to count the number of market-like venues in a given neighbourhood\n",
    "def getwine(row):\n",
    "\n",
    "    # create the API request URL\n",
    "    url2 = 'https://api.foursquare.com/v2/venues/search?&client_id={}&client_secret={}&v={}&ll={},{}&categoryId={}&radius={}&limit={}'.format(\n",
    "        CLIENT_ID,\n",
    "        CLIENT_SECRET,\n",
    "        VERSION,\n",
    "        row['Latitude'],\n",
    "        row['Longitude'],\n",
    "        Wine_Bar_id,\n",
    "        radius,\n",
    "        LIMIT)\n",
    "\n",
    "    # make the GET request and get get length of venues\n",
    "    results2 = requests.get(url2).json()[\"response\"]['venues']\n",
    "    count = len(results2)\n",
    "\n",
    "\n",
    "    # return count\n",
    "    return count"
   ],
   "metadata": {
    "collapsed": false,
    "pycharm": {
     "name": "#%%\n"
    }
   }
  },
  {
   "cell_type": "code",
   "execution_count": 106,
   "outputs": [
    {
     "data": {
      "text/plain": "50"
     },
     "execution_count": 106,
     "metadata": {},
     "output_type": "execute_result"
    }
   ],
   "source": [
    "getwine(df_madrid_leisure.iloc[0])"
   ],
   "metadata": {
    "collapsed": false,
    "pycharm": {
     "name": "#%%\n"
    }
   }
  },
  {
   "cell_type": "code",
   "execution_count": 107,
   "outputs": [
    {
     "name": "stderr",
     "output_type": "stream",
     "text": [
      "C:\\Users\\PLATER~1\\AppData\\Local\\Temp/ipykernel_7792/2998419683.py:1: SettingWithCopyWarning: \n",
      "A value is trying to be set on a copy of a slice from a DataFrame.\n",
      "Try using .loc[row_indexer,col_indexer] = value instead\n",
      "\n",
      "See the caveats in the documentation: https://pandas.pydata.org/pandas-docs/stable/user_guide/indexing.html#returning-a-view-versus-a-copy\n",
      "  df_madrid_leisure['Wine Bar Count'] = df_madrid_leisure.apply(getwine, axis=1)\n"
     ]
    }
   ],
   "source": [
    "df_madrid_leisure['Wine Bar Count'] = df_madrid_leisure.apply(getwine, axis=1)"
   ],
   "metadata": {
    "collapsed": false,
    "pycharm": {
     "name": "#%%\n"
    }
   }
  },
  {
   "cell_type": "code",
   "execution_count": 108,
   "outputs": [
    {
     "data": {
      "text/plain": "                  Neighbourhood  Latitude  Longitude  Wine Bar Count\n1                   EMBAJADORES  40.40803   -3.70067              50\n4                   UNIVERSIDAD  40.42565   -3.70726              47\n6                      IMPERIAL  40.40833   -3.71865              50\n7                       ACACIAS  40.40137   -3.70669              43\n8                       CHOPERA  40.39536   -3.69833              18\n..                          ...       ...        ...             ...\n124                  CANILLEJAS  40.44373   -3.60977               1\n125                 EL SALVADOR  40.44384   -3.63477               3\n126            ALAMEDA DE OSUNA  40.45818   -3.58953               0\n128  CASCO HISTÓRICO DE BARAJAS  40.47482   -3.57951               4\n129                       TIMÓN  40.48568   -3.60472               0\n\n[67 rows x 4 columns]",
      "text/html": "<div>\n<style scoped>\n    .dataframe tbody tr th:only-of-type {\n        vertical-align: middle;\n    }\n\n    .dataframe tbody tr th {\n        vertical-align: top;\n    }\n\n    .dataframe thead th {\n        text-align: right;\n    }\n</style>\n<table border=\"1\" class=\"dataframe\">\n  <thead>\n    <tr style=\"text-align: right;\">\n      <th></th>\n      <th>Neighbourhood</th>\n      <th>Latitude</th>\n      <th>Longitude</th>\n      <th>Wine Bar Count</th>\n    </tr>\n  </thead>\n  <tbody>\n    <tr>\n      <th>1</th>\n      <td>EMBAJADORES</td>\n      <td>40.40803</td>\n      <td>-3.70067</td>\n      <td>50</td>\n    </tr>\n    <tr>\n      <th>4</th>\n      <td>UNIVERSIDAD</td>\n      <td>40.42565</td>\n      <td>-3.70726</td>\n      <td>47</td>\n    </tr>\n    <tr>\n      <th>6</th>\n      <td>IMPERIAL</td>\n      <td>40.40833</td>\n      <td>-3.71865</td>\n      <td>50</td>\n    </tr>\n    <tr>\n      <th>7</th>\n      <td>ACACIAS</td>\n      <td>40.40137</td>\n      <td>-3.70669</td>\n      <td>43</td>\n    </tr>\n    <tr>\n      <th>8</th>\n      <td>CHOPERA</td>\n      <td>40.39536</td>\n      <td>-3.69833</td>\n      <td>18</td>\n    </tr>\n    <tr>\n      <th>...</th>\n      <td>...</td>\n      <td>...</td>\n      <td>...</td>\n      <td>...</td>\n    </tr>\n    <tr>\n      <th>124</th>\n      <td>CANILLEJAS</td>\n      <td>40.44373</td>\n      <td>-3.60977</td>\n      <td>1</td>\n    </tr>\n    <tr>\n      <th>125</th>\n      <td>EL SALVADOR</td>\n      <td>40.44384</td>\n      <td>-3.63477</td>\n      <td>3</td>\n    </tr>\n    <tr>\n      <th>126</th>\n      <td>ALAMEDA DE OSUNA</td>\n      <td>40.45818</td>\n      <td>-3.58953</td>\n      <td>0</td>\n    </tr>\n    <tr>\n      <th>128</th>\n      <td>CASCO HISTÓRICO DE BARAJAS</td>\n      <td>40.47482</td>\n      <td>-3.57951</td>\n      <td>4</td>\n    </tr>\n    <tr>\n      <th>129</th>\n      <td>TIMÓN</td>\n      <td>40.48568</td>\n      <td>-3.60472</td>\n      <td>0</td>\n    </tr>\n  </tbody>\n</table>\n<p>67 rows × 4 columns</p>\n</div>"
     },
     "execution_count": 108,
     "metadata": {},
     "output_type": "execute_result"
    }
   ],
   "source": [
    "df_madrid_leisure"
   ],
   "metadata": {
    "collapsed": false,
    "pycharm": {
     "name": "#%%\n"
    }
   }
  },
  {
   "cell_type": "code",
   "execution_count": 109,
   "outputs": [
    {
     "data": {
      "text/plain": "50"
     },
     "execution_count": 109,
     "metadata": {},
     "output_type": "execute_result"
    }
   ],
   "source": [
    "df_madrid_leisure['Wine Bar Count'].max()"
   ],
   "metadata": {
    "collapsed": false,
    "pycharm": {
     "name": "#%%\n"
    }
   }
  },
  {
   "cell_type": "code",
   "execution_count": 110,
   "outputs": [],
   "source": [
    "#---------------------------------------------------------------------------\n",
    "#Merging data from the clusters with the data from excels"
   ],
   "metadata": {
    "collapsed": false,
    "pycharm": {
     "name": "#%%\n"
    }
   }
  },
  {
   "cell_type": "code",
   "execution_count": 111,
   "outputs": [],
   "source": [
    "#---------------------------------------------------------------------------"
   ],
   "metadata": {
    "collapsed": false,
    "pycharm": {
     "name": "#%%\n"
    }
   }
  },
  {
   "cell_type": "code",
   "execution_count": 112,
   "outputs": [],
   "source": [
    "# Left join of df_madrid_income and df_madrid_leisure\n"
   ],
   "metadata": {
    "collapsed": false,
    "pycharm": {
     "name": "#%%\n"
    }
   }
  },
  {
   "cell_type": "code",
   "execution_count": 113,
   "outputs": [
    {
     "data": {
      "text/plain": "                  Neighbourhood  Latitude  Longitude  Wine Bar Count   Income\n1                   EMBAJADORES  40.40803   -3.70067              50  26761.0\n4                   UNIVERSIDAD  40.42565   -3.70726              47  31866.0\n6                      IMPERIAL  40.40833   -3.71865              50  35479.0\n7                       ACACIAS  40.40137   -3.70669              43      NaN\n8                       CHOPERA  40.39536   -3.69833              18      NaN\n..                          ...       ...        ...             ...      ...\n124                  CANILLEJAS  40.44373   -3.60977               1  31834.0\n125                 EL SALVADOR  40.44384   -3.63477               3      NaN\n126            ALAMEDA DE OSUNA  40.45818   -3.58953               0      NaN\n128  CASCO HISTÓRICO DE BARAJAS  40.47482   -3.57951               4      NaN\n129                       TIMÓN  40.48568   -3.60472               0  41635.0\n\n[67 rows x 5 columns]",
      "text/html": "<div>\n<style scoped>\n    .dataframe tbody tr th:only-of-type {\n        vertical-align: middle;\n    }\n\n    .dataframe tbody tr th {\n        vertical-align: top;\n    }\n\n    .dataframe thead th {\n        text-align: right;\n    }\n</style>\n<table border=\"1\" class=\"dataframe\">\n  <thead>\n    <tr style=\"text-align: right;\">\n      <th></th>\n      <th>Neighbourhood</th>\n      <th>Latitude</th>\n      <th>Longitude</th>\n      <th>Wine Bar Count</th>\n      <th>Income</th>\n    </tr>\n  </thead>\n  <tbody>\n    <tr>\n      <th>1</th>\n      <td>EMBAJADORES</td>\n      <td>40.40803</td>\n      <td>-3.70067</td>\n      <td>50</td>\n      <td>26761.0</td>\n    </tr>\n    <tr>\n      <th>4</th>\n      <td>UNIVERSIDAD</td>\n      <td>40.42565</td>\n      <td>-3.70726</td>\n      <td>47</td>\n      <td>31866.0</td>\n    </tr>\n    <tr>\n      <th>6</th>\n      <td>IMPERIAL</td>\n      <td>40.40833</td>\n      <td>-3.71865</td>\n      <td>50</td>\n      <td>35479.0</td>\n    </tr>\n    <tr>\n      <th>7</th>\n      <td>ACACIAS</td>\n      <td>40.40137</td>\n      <td>-3.70669</td>\n      <td>43</td>\n      <td>NaN</td>\n    </tr>\n    <tr>\n      <th>8</th>\n      <td>CHOPERA</td>\n      <td>40.39536</td>\n      <td>-3.69833</td>\n      <td>18</td>\n      <td>NaN</td>\n    </tr>\n    <tr>\n      <th>...</th>\n      <td>...</td>\n      <td>...</td>\n      <td>...</td>\n      <td>...</td>\n      <td>...</td>\n    </tr>\n    <tr>\n      <th>124</th>\n      <td>CANILLEJAS</td>\n      <td>40.44373</td>\n      <td>-3.60977</td>\n      <td>1</td>\n      <td>31834.0</td>\n    </tr>\n    <tr>\n      <th>125</th>\n      <td>EL SALVADOR</td>\n      <td>40.44384</td>\n      <td>-3.63477</td>\n      <td>3</td>\n      <td>NaN</td>\n    </tr>\n    <tr>\n      <th>126</th>\n      <td>ALAMEDA DE OSUNA</td>\n      <td>40.45818</td>\n      <td>-3.58953</td>\n      <td>0</td>\n      <td>NaN</td>\n    </tr>\n    <tr>\n      <th>128</th>\n      <td>CASCO HISTÓRICO DE BARAJAS</td>\n      <td>40.47482</td>\n      <td>-3.57951</td>\n      <td>4</td>\n      <td>NaN</td>\n    </tr>\n    <tr>\n      <th>129</th>\n      <td>TIMÓN</td>\n      <td>40.48568</td>\n      <td>-3.60472</td>\n      <td>0</td>\n      <td>41635.0</td>\n    </tr>\n  </tbody>\n</table>\n<p>67 rows × 5 columns</p>\n</div>"
     },
     "execution_count": 113,
     "metadata": {},
     "output_type": "execute_result"
    }
   ],
   "source": [
    "df_madrid_leisure = df_madrid_leisure.join(df_madrid_income.set_index('Neighbourhood'), on='Neighbourhood')\n",
    "df_madrid_leisure"
   ],
   "metadata": {
    "collapsed": false,
    "pycharm": {
     "name": "#%%\n"
    }
   }
  },
  {
   "cell_type": "code",
   "execution_count": 114,
   "outputs": [
    {
     "data": {
      "text/plain": "Neighbourhood      object\nLatitude          float64\nLongitude         float64\nWine Bar Count      int64\nIncome            float64\ndtype: object"
     },
     "execution_count": 114,
     "metadata": {},
     "output_type": "execute_result"
    }
   ],
   "source": [
    "df_madrid_leisure.dtypes"
   ],
   "metadata": {
    "collapsed": false,
    "pycharm": {
     "name": "#%%\n"
    }
   }
  },
  {
   "cell_type": "code",
   "execution_count": 115,
   "outputs": [
    {
     "data": {
      "text/plain": "Neighbourhood    object\nIncome            int32\ndtype: object"
     },
     "execution_count": 115,
     "metadata": {},
     "output_type": "execute_result"
    }
   ],
   "source": [
    "df_madrid_income.dtypes"
   ],
   "metadata": {
    "collapsed": false,
    "pycharm": {
     "name": "#%%\n"
    }
   }
  },
  {
   "cell_type": "code",
   "execution_count": 117,
   "outputs": [
    {
     "data": {
      "text/plain": "Neighbourhood     object\nAge               object\nPopulation       float64\ndtype: object"
     },
     "execution_count": 117,
     "metadata": {},
     "output_type": "execute_result"
    }
   ],
   "source": [
    "df_madrid_population.dtypes"
   ],
   "metadata": {
    "collapsed": false,
    "pycharm": {
     "name": "#%%\n"
    }
   }
  },
  {
   "cell_type": "code",
   "execution_count": 118,
   "outputs": [
    {
     "data": {
      "text/plain": "                 Neighbourhood  Latitude  Longitude  Wine Bar Count   Income  \\\n0                  EMBAJADORES  40.40803   -3.70067              50  26761.0   \n1                  UNIVERSIDAD  40.42565   -3.70726              47  31866.0   \n2                     IMPERIAL  40.40833   -3.71865              50  35479.0   \n3                      ACACIAS  40.40137   -3.70669              43      NaN   \n4                      CHOPERA  40.39536   -3.69833              18      NaN   \n..                         ...       ...        ...             ...      ...   \n62                  CANILLEJAS  40.44373   -3.60977               1  31834.0   \n63                 EL SALVADOR  40.44384   -3.63477               3      NaN   \n64            ALAMEDA DE OSUNA  40.45818   -3.58953               0      NaN   \n65  CASCO HISTÓRICO DE BARAJAS  40.47482   -3.57951               4      NaN   \n66                       TIMÓN  40.48568   -3.60472               0  41635.0   \n\n        Age  Population  \n0   35 - 39      5107.0  \n1   35 - 39      3281.0  \n2   35 - 39      1660.0  \n3   35 - 39      2733.0  \n4   35 - 39      1710.0  \n..      ...         ...  \n62  35 - 39      1950.0  \n63  35 - 39       529.0  \n64  35 - 39      1020.0  \n65      NaN         NaN  \n66      NaN         NaN  \n\n[67 rows x 7 columns]",
      "text/html": "<div>\n<style scoped>\n    .dataframe tbody tr th:only-of-type {\n        vertical-align: middle;\n    }\n\n    .dataframe tbody tr th {\n        vertical-align: top;\n    }\n\n    .dataframe thead th {\n        text-align: right;\n    }\n</style>\n<table border=\"1\" class=\"dataframe\">\n  <thead>\n    <tr style=\"text-align: right;\">\n      <th></th>\n      <th>Neighbourhood</th>\n      <th>Latitude</th>\n      <th>Longitude</th>\n      <th>Wine Bar Count</th>\n      <th>Income</th>\n      <th>Age</th>\n      <th>Population</th>\n    </tr>\n  </thead>\n  <tbody>\n    <tr>\n      <th>0</th>\n      <td>EMBAJADORES</td>\n      <td>40.40803</td>\n      <td>-3.70067</td>\n      <td>50</td>\n      <td>26761.0</td>\n      <td>35 - 39</td>\n      <td>5107.0</td>\n    </tr>\n    <tr>\n      <th>1</th>\n      <td>UNIVERSIDAD</td>\n      <td>40.42565</td>\n      <td>-3.70726</td>\n      <td>47</td>\n      <td>31866.0</td>\n      <td>35 - 39</td>\n      <td>3281.0</td>\n    </tr>\n    <tr>\n      <th>2</th>\n      <td>IMPERIAL</td>\n      <td>40.40833</td>\n      <td>-3.71865</td>\n      <td>50</td>\n      <td>35479.0</td>\n      <td>35 - 39</td>\n      <td>1660.0</td>\n    </tr>\n    <tr>\n      <th>3</th>\n      <td>ACACIAS</td>\n      <td>40.40137</td>\n      <td>-3.70669</td>\n      <td>43</td>\n      <td>NaN</td>\n      <td>35 - 39</td>\n      <td>2733.0</td>\n    </tr>\n    <tr>\n      <th>4</th>\n      <td>CHOPERA</td>\n      <td>40.39536</td>\n      <td>-3.69833</td>\n      <td>18</td>\n      <td>NaN</td>\n      <td>35 - 39</td>\n      <td>1710.0</td>\n    </tr>\n    <tr>\n      <th>...</th>\n      <td>...</td>\n      <td>...</td>\n      <td>...</td>\n      <td>...</td>\n      <td>...</td>\n      <td>...</td>\n      <td>...</td>\n    </tr>\n    <tr>\n      <th>62</th>\n      <td>CANILLEJAS</td>\n      <td>40.44373</td>\n      <td>-3.60977</td>\n      <td>1</td>\n      <td>31834.0</td>\n      <td>35 - 39</td>\n      <td>1950.0</td>\n    </tr>\n    <tr>\n      <th>63</th>\n      <td>EL SALVADOR</td>\n      <td>40.44384</td>\n      <td>-3.63477</td>\n      <td>3</td>\n      <td>NaN</td>\n      <td>35 - 39</td>\n      <td>529.0</td>\n    </tr>\n    <tr>\n      <th>64</th>\n      <td>ALAMEDA DE OSUNA</td>\n      <td>40.45818</td>\n      <td>-3.58953</td>\n      <td>0</td>\n      <td>NaN</td>\n      <td>35 - 39</td>\n      <td>1020.0</td>\n    </tr>\n    <tr>\n      <th>65</th>\n      <td>CASCO HISTÓRICO DE BARAJAS</td>\n      <td>40.47482</td>\n      <td>-3.57951</td>\n      <td>4</td>\n      <td>NaN</td>\n      <td>NaN</td>\n      <td>NaN</td>\n    </tr>\n    <tr>\n      <th>66</th>\n      <td>TIMÓN</td>\n      <td>40.48568</td>\n      <td>-3.60472</td>\n      <td>0</td>\n      <td>41635.0</td>\n      <td>NaN</td>\n      <td>NaN</td>\n    </tr>\n  </tbody>\n</table>\n<p>67 rows × 7 columns</p>\n</div>"
     },
     "execution_count": 118,
     "metadata": {},
     "output_type": "execute_result"
    }
   ],
   "source": [
    "#Changing Income to int\n",
    "df_madrid_leisure = df_madrid_leisure.merge(df_madrid_population, how='left', on='Neighbourhood')\n",
    "df_madrid_leisure"
   ],
   "metadata": {
    "collapsed": false,
    "pycharm": {
     "name": "#%%\n"
    }
   }
  },
  {
   "cell_type": "code",
   "execution_count": 120,
   "outputs": [
    {
     "data": {
      "text/plain": "     Neighbourhood  Latitude  Longitude  Wine Bar Count   Income      Age  \\\n1      UNIVERSIDAD  40.42565   -3.70726              47  31866.0  35 - 39   \n2         IMPERIAL  40.40833   -3.71865              50  35479.0  35 - 39   \n6         PACÍFICO  40.40191   -3.67603               6  36935.0      NaN   \n7          ADELFAS  40.40173   -3.67288               5  46144.0  35 - 39   \n9            IBIZA  40.41794   -3.67626              23  46829.0  35 - 39   \n11            GOYA  40.42547   -3.67418              29  50739.0  35 - 39   \n13      GUINDALERA  40.43241   -3.66600              16  46915.0  35 - 39   \n14           LISTA  40.43231   -3.67508              29  49641.0  35 - 39   \n16     PROSPERIDAD  40.44180   -3.66925              16  44699.0  35 - 39   \n17  HISPANOAMÉRICA  40.45688   -3.67698               6  63487.0      NaN   \n22      GAZTAMBIDE  40.43490   -3.71551              27  45820.0  35 - 39   \n23        ARAPILES  40.43286   -3.70840              46  42935.0  35 - 39   \n24       TRAFALGAR  40.43303   -3.70003              45  42776.0  35 - 39   \n26      VALDEZARZA  40.46666   -3.71974               1  35550.0  35 - 39   \n27          ALUCHE  40.39271   -3.76032               4  31245.0  35 - 39   \n28        COMILLAS  40.39495   -3.70976               9  32240.0  35 - 39   \n43         HORCAJO  40.40729   -3.62737               0  45263.0  35 - 39   \n44      MARROQUINA  40.41176   -3.64618               1  40061.0  35 - 39   \n47        QUINTANA  40.43469   -3.65361               8  30692.0  35 - 39   \n49     COSTILLARES  40.48041   -3.66827               1  66647.0  35 - 39   \n50        CANILLAS  40.46448   -3.64338               1  37404.0  35 - 39   \n52    VALDEFUENTES  40.49405   -3.65930               1  53809.0  35 - 39   \n54        BUTARQUE  40.34855   -3.68212               3  30468.0  35 - 39   \n61           ROSAS  40.42869   -3.60086               1  44105.0  35 - 39   \n62      CANILLEJAS  40.44373   -3.60977               1  31834.0  35 - 39   \n66           TIMÓN  40.48568   -3.60472               0  41635.0      NaN   \n\n    Population  \n1       3281.0  \n2       1660.0  \n6          NaN  \n7       1433.0  \n9       1492.0  \n11      2091.0  \n13      3008.0  \n14      1368.0  \n16      2664.0  \n17         NaN  \n22      1554.0  \n23      1811.0  \n24      2007.0  \n26      2135.0  \n27      4233.0  \n28      1729.0  \n43       241.0  \n44      1256.0  \n47      1826.0  \n49      1104.0  \n50      2429.0  \n52      5870.0  \n54      1595.0  \n61      1302.0  \n62      1950.0  \n66         NaN  ",
      "text/html": "<div>\n<style scoped>\n    .dataframe tbody tr th:only-of-type {\n        vertical-align: middle;\n    }\n\n    .dataframe tbody tr th {\n        vertical-align: top;\n    }\n\n    .dataframe thead th {\n        text-align: right;\n    }\n</style>\n<table border=\"1\" class=\"dataframe\">\n  <thead>\n    <tr style=\"text-align: right;\">\n      <th></th>\n      <th>Neighbourhood</th>\n      <th>Latitude</th>\n      <th>Longitude</th>\n      <th>Wine Bar Count</th>\n      <th>Income</th>\n      <th>Age</th>\n      <th>Population</th>\n    </tr>\n  </thead>\n  <tbody>\n    <tr>\n      <th>1</th>\n      <td>UNIVERSIDAD</td>\n      <td>40.42565</td>\n      <td>-3.70726</td>\n      <td>47</td>\n      <td>31866.0</td>\n      <td>35 - 39</td>\n      <td>3281.0</td>\n    </tr>\n    <tr>\n      <th>2</th>\n      <td>IMPERIAL</td>\n      <td>40.40833</td>\n      <td>-3.71865</td>\n      <td>50</td>\n      <td>35479.0</td>\n      <td>35 - 39</td>\n      <td>1660.0</td>\n    </tr>\n    <tr>\n      <th>6</th>\n      <td>PACÍFICO</td>\n      <td>40.40191</td>\n      <td>-3.67603</td>\n      <td>6</td>\n      <td>36935.0</td>\n      <td>NaN</td>\n      <td>NaN</td>\n    </tr>\n    <tr>\n      <th>7</th>\n      <td>ADELFAS</td>\n      <td>40.40173</td>\n      <td>-3.67288</td>\n      <td>5</td>\n      <td>46144.0</td>\n      <td>35 - 39</td>\n      <td>1433.0</td>\n    </tr>\n    <tr>\n      <th>9</th>\n      <td>IBIZA</td>\n      <td>40.41794</td>\n      <td>-3.67626</td>\n      <td>23</td>\n      <td>46829.0</td>\n      <td>35 - 39</td>\n      <td>1492.0</td>\n    </tr>\n    <tr>\n      <th>11</th>\n      <td>GOYA</td>\n      <td>40.42547</td>\n      <td>-3.67418</td>\n      <td>29</td>\n      <td>50739.0</td>\n      <td>35 - 39</td>\n      <td>2091.0</td>\n    </tr>\n    <tr>\n      <th>13</th>\n      <td>GUINDALERA</td>\n      <td>40.43241</td>\n      <td>-3.66600</td>\n      <td>16</td>\n      <td>46915.0</td>\n      <td>35 - 39</td>\n      <td>3008.0</td>\n    </tr>\n    <tr>\n      <th>14</th>\n      <td>LISTA</td>\n      <td>40.43231</td>\n      <td>-3.67508</td>\n      <td>29</td>\n      <td>49641.0</td>\n      <td>35 - 39</td>\n      <td>1368.0</td>\n    </tr>\n    <tr>\n      <th>16</th>\n      <td>PROSPERIDAD</td>\n      <td>40.44180</td>\n      <td>-3.66925</td>\n      <td>16</td>\n      <td>44699.0</td>\n      <td>35 - 39</td>\n      <td>2664.0</td>\n    </tr>\n    <tr>\n      <th>17</th>\n      <td>HISPANOAMÉRICA</td>\n      <td>40.45688</td>\n      <td>-3.67698</td>\n      <td>6</td>\n      <td>63487.0</td>\n      <td>NaN</td>\n      <td>NaN</td>\n    </tr>\n    <tr>\n      <th>22</th>\n      <td>GAZTAMBIDE</td>\n      <td>40.43490</td>\n      <td>-3.71551</td>\n      <td>27</td>\n      <td>45820.0</td>\n      <td>35 - 39</td>\n      <td>1554.0</td>\n    </tr>\n    <tr>\n      <th>23</th>\n      <td>ARAPILES</td>\n      <td>40.43286</td>\n      <td>-3.70840</td>\n      <td>46</td>\n      <td>42935.0</td>\n      <td>35 - 39</td>\n      <td>1811.0</td>\n    </tr>\n    <tr>\n      <th>24</th>\n      <td>TRAFALGAR</td>\n      <td>40.43303</td>\n      <td>-3.70003</td>\n      <td>45</td>\n      <td>42776.0</td>\n      <td>35 - 39</td>\n      <td>2007.0</td>\n    </tr>\n    <tr>\n      <th>26</th>\n      <td>VALDEZARZA</td>\n      <td>40.46666</td>\n      <td>-3.71974</td>\n      <td>1</td>\n      <td>35550.0</td>\n      <td>35 - 39</td>\n      <td>2135.0</td>\n    </tr>\n    <tr>\n      <th>27</th>\n      <td>ALUCHE</td>\n      <td>40.39271</td>\n      <td>-3.76032</td>\n      <td>4</td>\n      <td>31245.0</td>\n      <td>35 - 39</td>\n      <td>4233.0</td>\n    </tr>\n    <tr>\n      <th>28</th>\n      <td>COMILLAS</td>\n      <td>40.39495</td>\n      <td>-3.70976</td>\n      <td>9</td>\n      <td>32240.0</td>\n      <td>35 - 39</td>\n      <td>1729.0</td>\n    </tr>\n    <tr>\n      <th>43</th>\n      <td>HORCAJO</td>\n      <td>40.40729</td>\n      <td>-3.62737</td>\n      <td>0</td>\n      <td>45263.0</td>\n      <td>35 - 39</td>\n      <td>241.0</td>\n    </tr>\n    <tr>\n      <th>44</th>\n      <td>MARROQUINA</td>\n      <td>40.41176</td>\n      <td>-3.64618</td>\n      <td>1</td>\n      <td>40061.0</td>\n      <td>35 - 39</td>\n      <td>1256.0</td>\n    </tr>\n    <tr>\n      <th>47</th>\n      <td>QUINTANA</td>\n      <td>40.43469</td>\n      <td>-3.65361</td>\n      <td>8</td>\n      <td>30692.0</td>\n      <td>35 - 39</td>\n      <td>1826.0</td>\n    </tr>\n    <tr>\n      <th>49</th>\n      <td>COSTILLARES</td>\n      <td>40.48041</td>\n      <td>-3.66827</td>\n      <td>1</td>\n      <td>66647.0</td>\n      <td>35 - 39</td>\n      <td>1104.0</td>\n    </tr>\n    <tr>\n      <th>50</th>\n      <td>CANILLAS</td>\n      <td>40.46448</td>\n      <td>-3.64338</td>\n      <td>1</td>\n      <td>37404.0</td>\n      <td>35 - 39</td>\n      <td>2429.0</td>\n    </tr>\n    <tr>\n      <th>52</th>\n      <td>VALDEFUENTES</td>\n      <td>40.49405</td>\n      <td>-3.65930</td>\n      <td>1</td>\n      <td>53809.0</td>\n      <td>35 - 39</td>\n      <td>5870.0</td>\n    </tr>\n    <tr>\n      <th>54</th>\n      <td>BUTARQUE</td>\n      <td>40.34855</td>\n      <td>-3.68212</td>\n      <td>3</td>\n      <td>30468.0</td>\n      <td>35 - 39</td>\n      <td>1595.0</td>\n    </tr>\n    <tr>\n      <th>61</th>\n      <td>ROSAS</td>\n      <td>40.42869</td>\n      <td>-3.60086</td>\n      <td>1</td>\n      <td>44105.0</td>\n      <td>35 - 39</td>\n      <td>1302.0</td>\n    </tr>\n    <tr>\n      <th>62</th>\n      <td>CANILLEJAS</td>\n      <td>40.44373</td>\n      <td>-3.60977</td>\n      <td>1</td>\n      <td>31834.0</td>\n      <td>35 - 39</td>\n      <td>1950.0</td>\n    </tr>\n    <tr>\n      <th>66</th>\n      <td>TIMÓN</td>\n      <td>40.48568</td>\n      <td>-3.60472</td>\n      <td>0</td>\n      <td>41635.0</td>\n      <td>NaN</td>\n      <td>NaN</td>\n    </tr>\n  </tbody>\n</table>\n</div>"
     },
     "execution_count": 120,
     "metadata": {},
     "output_type": "execute_result"
    }
   ],
   "source": [
    "#dropping the neighborhoods that in Income are less than 30000\n",
    "df_madrid_leisure = df_madrid_leisure[df_madrid_leisure['Income'] > 30000]\n",
    "df_madrid_leisure"
   ],
   "metadata": {
    "collapsed": false,
    "pycharm": {
     "name": "#%%\n"
    }
   }
  },
  {
   "cell_type": "code",
   "execution_count": 121,
   "outputs": [],
   "source": [
    "#---------------------------------------------------------------------------\n",
    "# Finding the ideal Neighbourhood for the user, making a relationship between the number of Wine Bars and the number of people living in the neighbourhood"
   ],
   "metadata": {
    "collapsed": false,
    "pycharm": {
     "name": "#%%\n"
    }
   }
  },
  {
   "cell_type": "code",
   "execution_count": 122,
   "outputs": [],
   "source": [
    "#---------------------------------------------------------------------------"
   ],
   "metadata": {
    "collapsed": false,
    "pycharm": {
     "name": "#%%\n"
    }
   }
  },
  {
   "cell_type": "code",
   "execution_count": 116,
   "outputs": [
    {
     "ename": "ZeroDivisionError",
     "evalue": "division by zero",
     "output_type": "error",
     "traceback": [
      "\u001B[1;31m---------------------------------------------------------------------------\u001B[0m",
      "\u001B[1;31mZeroDivisionError\u001B[0m                         Traceback (most recent call last)",
      "\u001B[1;32mC:\\Users\\PLATER~1\\AppData\\Local\\Temp/ipykernel_7080/2005736606.py\u001B[0m in \u001B[0;36m<module>\u001B[1;34m\u001B[0m\n\u001B[0;32m      1\u001B[0m \u001B[1;31m# Creating a new column with the ratio of the number of people living in the neighbourhood and the number of Wine Bars\u001B[0m\u001B[1;33m\u001B[0m\u001B[1;33m\u001B[0m\u001B[0m\n\u001B[1;32m----> 2\u001B[1;33m \u001B[0mdf_madrid_leisure\u001B[0m\u001B[1;33m[\u001B[0m\u001B[1;34m'Ratio'\u001B[0m\u001B[1;33m]\u001B[0m \u001B[1;33m=\u001B[0m \u001B[0mdf_madrid_leisure\u001B[0m\u001B[1;33m[\u001B[0m\u001B[1;34m'Population'\u001B[0m\u001B[1;33m]\u001B[0m\u001B[1;33m/\u001B[0m\u001B[0mdf_madrid_leisure\u001B[0m\u001B[1;33m[\u001B[0m\u001B[1;34m'Wine Bar Count'\u001B[0m\u001B[1;33m]\u001B[0m\u001B[1;33m\u001B[0m\u001B[1;33m\u001B[0m\u001B[0m\n\u001B[0m\u001B[0;32m      3\u001B[0m \u001B[0mdf_madrid_leisure\u001B[0m\u001B[1;33m\u001B[0m\u001B[1;33m\u001B[0m\u001B[0m\n",
      "\u001B[1;32m~\\anaconda3\\lib\\site-packages\\pandas\\core\\ops\\common.py\u001B[0m in \u001B[0;36mnew_method\u001B[1;34m(self, other)\u001B[0m\n\u001B[0;32m     67\u001B[0m         \u001B[0mother\u001B[0m \u001B[1;33m=\u001B[0m \u001B[0mitem_from_zerodim\u001B[0m\u001B[1;33m(\u001B[0m\u001B[0mother\u001B[0m\u001B[1;33m)\u001B[0m\u001B[1;33m\u001B[0m\u001B[1;33m\u001B[0m\u001B[0m\n\u001B[0;32m     68\u001B[0m \u001B[1;33m\u001B[0m\u001B[0m\n\u001B[1;32m---> 69\u001B[1;33m         \u001B[1;32mreturn\u001B[0m \u001B[0mmethod\u001B[0m\u001B[1;33m(\u001B[0m\u001B[0mself\u001B[0m\u001B[1;33m,\u001B[0m \u001B[0mother\u001B[0m\u001B[1;33m)\u001B[0m\u001B[1;33m\u001B[0m\u001B[1;33m\u001B[0m\u001B[0m\n\u001B[0m\u001B[0;32m     70\u001B[0m \u001B[1;33m\u001B[0m\u001B[0m\n\u001B[0;32m     71\u001B[0m     \u001B[1;32mreturn\u001B[0m \u001B[0mnew_method\u001B[0m\u001B[1;33m\u001B[0m\u001B[1;33m\u001B[0m\u001B[0m\n",
      "\u001B[1;32m~\\anaconda3\\lib\\site-packages\\pandas\\core\\arraylike.py\u001B[0m in \u001B[0;36m__truediv__\u001B[1;34m(self, other)\u001B[0m\n\u001B[0;32m    114\u001B[0m     \u001B[1;33m@\u001B[0m\u001B[0munpack_zerodim_and_defer\u001B[0m\u001B[1;33m(\u001B[0m\u001B[1;34m\"__truediv__\"\u001B[0m\u001B[1;33m)\u001B[0m\u001B[1;33m\u001B[0m\u001B[1;33m\u001B[0m\u001B[0m\n\u001B[0;32m    115\u001B[0m     \u001B[1;32mdef\u001B[0m \u001B[0m__truediv__\u001B[0m\u001B[1;33m(\u001B[0m\u001B[0mself\u001B[0m\u001B[1;33m,\u001B[0m \u001B[0mother\u001B[0m\u001B[1;33m)\u001B[0m\u001B[1;33m:\u001B[0m\u001B[1;33m\u001B[0m\u001B[1;33m\u001B[0m\u001B[0m\n\u001B[1;32m--> 116\u001B[1;33m         \u001B[1;32mreturn\u001B[0m \u001B[0mself\u001B[0m\u001B[1;33m.\u001B[0m\u001B[0m_arith_method\u001B[0m\u001B[1;33m(\u001B[0m\u001B[0mother\u001B[0m\u001B[1;33m,\u001B[0m \u001B[0moperator\u001B[0m\u001B[1;33m.\u001B[0m\u001B[0mtruediv\u001B[0m\u001B[1;33m)\u001B[0m\u001B[1;33m\u001B[0m\u001B[1;33m\u001B[0m\u001B[0m\n\u001B[0m\u001B[0;32m    117\u001B[0m \u001B[1;33m\u001B[0m\u001B[0m\n\u001B[0;32m    118\u001B[0m     \u001B[1;33m@\u001B[0m\u001B[0munpack_zerodim_and_defer\u001B[0m\u001B[1;33m(\u001B[0m\u001B[1;34m\"__rtruediv__\"\u001B[0m\u001B[1;33m)\u001B[0m\u001B[1;33m\u001B[0m\u001B[1;33m\u001B[0m\u001B[0m\n",
      "\u001B[1;32m~\\anaconda3\\lib\\site-packages\\pandas\\core\\series.py\u001B[0m in \u001B[0;36m_arith_method\u001B[1;34m(self, other, op)\u001B[0m\n\u001B[0;32m   5524\u001B[0m \u001B[1;33m\u001B[0m\u001B[0m\n\u001B[0;32m   5525\u001B[0m         \u001B[1;32mwith\u001B[0m \u001B[0mnp\u001B[0m\u001B[1;33m.\u001B[0m\u001B[0merrstate\u001B[0m\u001B[1;33m(\u001B[0m\u001B[0mall\u001B[0m\u001B[1;33m=\u001B[0m\u001B[1;34m\"ignore\"\u001B[0m\u001B[1;33m)\u001B[0m\u001B[1;33m:\u001B[0m\u001B[1;33m\u001B[0m\u001B[1;33m\u001B[0m\u001B[0m\n\u001B[1;32m-> 5526\u001B[1;33m             \u001B[0mresult\u001B[0m \u001B[1;33m=\u001B[0m \u001B[0mops\u001B[0m\u001B[1;33m.\u001B[0m\u001B[0marithmetic_op\u001B[0m\u001B[1;33m(\u001B[0m\u001B[0mlvalues\u001B[0m\u001B[1;33m,\u001B[0m \u001B[0mrvalues\u001B[0m\u001B[1;33m,\u001B[0m \u001B[0mop\u001B[0m\u001B[1;33m)\u001B[0m\u001B[1;33m\u001B[0m\u001B[1;33m\u001B[0m\u001B[0m\n\u001B[0m\u001B[0;32m   5527\u001B[0m \u001B[1;33m\u001B[0m\u001B[0m\n\u001B[0;32m   5528\u001B[0m         \u001B[1;32mreturn\u001B[0m \u001B[0mself\u001B[0m\u001B[1;33m.\u001B[0m\u001B[0m_construct_result\u001B[0m\u001B[1;33m(\u001B[0m\u001B[0mresult\u001B[0m\u001B[1;33m,\u001B[0m \u001B[0mname\u001B[0m\u001B[1;33m=\u001B[0m\u001B[0mres_name\u001B[0m\u001B[1;33m)\u001B[0m\u001B[1;33m\u001B[0m\u001B[1;33m\u001B[0m\u001B[0m\n",
      "\u001B[1;32m~\\anaconda3\\lib\\site-packages\\pandas\\core\\ops\\array_ops.py\u001B[0m in \u001B[0;36marithmetic_op\u001B[1;34m(left, right, op)\u001B[0m\n\u001B[0;32m    222\u001B[0m         \u001B[0m_bool_arith_check\u001B[0m\u001B[1;33m(\u001B[0m\u001B[0mop\u001B[0m\u001B[1;33m,\u001B[0m \u001B[0mleft\u001B[0m\u001B[1;33m,\u001B[0m \u001B[0mright\u001B[0m\u001B[1;33m)\u001B[0m\u001B[1;33m\u001B[0m\u001B[1;33m\u001B[0m\u001B[0m\n\u001B[0;32m    223\u001B[0m \u001B[1;33m\u001B[0m\u001B[0m\n\u001B[1;32m--> 224\u001B[1;33m         \u001B[0mres_values\u001B[0m \u001B[1;33m=\u001B[0m \u001B[0m_na_arithmetic_op\u001B[0m\u001B[1;33m(\u001B[0m\u001B[0mleft\u001B[0m\u001B[1;33m,\u001B[0m \u001B[0mright\u001B[0m\u001B[1;33m,\u001B[0m \u001B[0mop\u001B[0m\u001B[1;33m)\u001B[0m\u001B[1;33m\u001B[0m\u001B[1;33m\u001B[0m\u001B[0m\n\u001B[0m\u001B[0;32m    225\u001B[0m \u001B[1;33m\u001B[0m\u001B[0m\n\u001B[0;32m    226\u001B[0m     \u001B[1;32mreturn\u001B[0m \u001B[0mres_values\u001B[0m\u001B[1;33m\u001B[0m\u001B[1;33m\u001B[0m\u001B[0m\n",
      "\u001B[1;32m~\\anaconda3\\lib\\site-packages\\pandas\\core\\ops\\array_ops.py\u001B[0m in \u001B[0;36m_na_arithmetic_op\u001B[1;34m(left, right, op, is_cmp)\u001B[0m\n\u001B[0;32m    164\u001B[0m \u001B[1;33m\u001B[0m\u001B[0m\n\u001B[0;32m    165\u001B[0m     \u001B[1;32mtry\u001B[0m\u001B[1;33m:\u001B[0m\u001B[1;33m\u001B[0m\u001B[1;33m\u001B[0m\u001B[0m\n\u001B[1;32m--> 166\u001B[1;33m         \u001B[0mresult\u001B[0m \u001B[1;33m=\u001B[0m \u001B[0mfunc\u001B[0m\u001B[1;33m(\u001B[0m\u001B[0mleft\u001B[0m\u001B[1;33m,\u001B[0m \u001B[0mright\u001B[0m\u001B[1;33m)\u001B[0m\u001B[1;33m\u001B[0m\u001B[1;33m\u001B[0m\u001B[0m\n\u001B[0m\u001B[0;32m    167\u001B[0m     \u001B[1;32mexcept\u001B[0m \u001B[0mTypeError\u001B[0m\u001B[1;33m:\u001B[0m\u001B[1;33m\u001B[0m\u001B[1;33m\u001B[0m\u001B[0m\n\u001B[0;32m    168\u001B[0m         \u001B[1;32mif\u001B[0m \u001B[0mis_object_dtype\u001B[0m\u001B[1;33m(\u001B[0m\u001B[0mleft\u001B[0m\u001B[1;33m)\u001B[0m \u001B[1;32mor\u001B[0m \u001B[0mis_object_dtype\u001B[0m\u001B[1;33m(\u001B[0m\u001B[0mright\u001B[0m\u001B[1;33m)\u001B[0m \u001B[1;32mand\u001B[0m \u001B[1;32mnot\u001B[0m \u001B[0mis_cmp\u001B[0m\u001B[1;33m:\u001B[0m\u001B[1;33m\u001B[0m\u001B[1;33m\u001B[0m\u001B[0m\n",
      "\u001B[1;32m~\\anaconda3\\lib\\site-packages\\pandas\\core\\computation\\expressions.py\u001B[0m in \u001B[0;36mevaluate\u001B[1;34m(op, a, b, use_numexpr)\u001B[0m\n\u001B[0;32m    237\u001B[0m         \u001B[1;32mif\u001B[0m \u001B[0muse_numexpr\u001B[0m\u001B[1;33m:\u001B[0m\u001B[1;33m\u001B[0m\u001B[1;33m\u001B[0m\u001B[0m\n\u001B[0;32m    238\u001B[0m             \u001B[1;31m# error: \"None\" not callable\u001B[0m\u001B[1;33m\u001B[0m\u001B[1;33m\u001B[0m\u001B[0m\n\u001B[1;32m--> 239\u001B[1;33m             \u001B[1;32mreturn\u001B[0m \u001B[0m_evaluate\u001B[0m\u001B[1;33m(\u001B[0m\u001B[0mop\u001B[0m\u001B[1;33m,\u001B[0m \u001B[0mop_str\u001B[0m\u001B[1;33m,\u001B[0m \u001B[0ma\u001B[0m\u001B[1;33m,\u001B[0m \u001B[0mb\u001B[0m\u001B[1;33m)\u001B[0m  \u001B[1;31m# type: ignore[misc]\u001B[0m\u001B[1;33m\u001B[0m\u001B[1;33m\u001B[0m\u001B[0m\n\u001B[0m\u001B[0;32m    240\u001B[0m     \u001B[1;32mreturn\u001B[0m \u001B[0m_evaluate_standard\u001B[0m\u001B[1;33m(\u001B[0m\u001B[0mop\u001B[0m\u001B[1;33m,\u001B[0m \u001B[0mop_str\u001B[0m\u001B[1;33m,\u001B[0m \u001B[0ma\u001B[0m\u001B[1;33m,\u001B[0m \u001B[0mb\u001B[0m\u001B[1;33m)\u001B[0m\u001B[1;33m\u001B[0m\u001B[1;33m\u001B[0m\u001B[0m\n\u001B[0;32m    241\u001B[0m \u001B[1;33m\u001B[0m\u001B[0m\n",
      "\u001B[1;32m~\\anaconda3\\lib\\site-packages\\pandas\\core\\computation\\expressions.py\u001B[0m in \u001B[0;36m_evaluate_numexpr\u001B[1;34m(op, op_str, a, b)\u001B[0m\n\u001B[0;32m    126\u001B[0m \u001B[1;33m\u001B[0m\u001B[0m\n\u001B[0;32m    127\u001B[0m     \u001B[1;32mif\u001B[0m \u001B[0mresult\u001B[0m \u001B[1;32mis\u001B[0m \u001B[1;32mNone\u001B[0m\u001B[1;33m:\u001B[0m\u001B[1;33m\u001B[0m\u001B[1;33m\u001B[0m\u001B[0m\n\u001B[1;32m--> 128\u001B[1;33m         \u001B[0mresult\u001B[0m \u001B[1;33m=\u001B[0m \u001B[0m_evaluate_standard\u001B[0m\u001B[1;33m(\u001B[0m\u001B[0mop\u001B[0m\u001B[1;33m,\u001B[0m \u001B[0mop_str\u001B[0m\u001B[1;33m,\u001B[0m \u001B[0ma\u001B[0m\u001B[1;33m,\u001B[0m \u001B[0mb\u001B[0m\u001B[1;33m)\u001B[0m\u001B[1;33m\u001B[0m\u001B[1;33m\u001B[0m\u001B[0m\n\u001B[0m\u001B[0;32m    129\u001B[0m \u001B[1;33m\u001B[0m\u001B[0m\n\u001B[0;32m    130\u001B[0m     \u001B[1;32mreturn\u001B[0m \u001B[0mresult\u001B[0m\u001B[1;33m\u001B[0m\u001B[1;33m\u001B[0m\u001B[0m\n",
      "\u001B[1;32m~\\anaconda3\\lib\\site-packages\\pandas\\core\\computation\\expressions.py\u001B[0m in \u001B[0;36m_evaluate_standard\u001B[1;34m(op, op_str, a, b)\u001B[0m\n\u001B[0;32m     67\u001B[0m     \u001B[1;32mif\u001B[0m \u001B[0m_TEST_MODE\u001B[0m\u001B[1;33m:\u001B[0m\u001B[1;33m\u001B[0m\u001B[1;33m\u001B[0m\u001B[0m\n\u001B[0;32m     68\u001B[0m         \u001B[0m_store_test_result\u001B[0m\u001B[1;33m(\u001B[0m\u001B[1;32mFalse\u001B[0m\u001B[1;33m)\u001B[0m\u001B[1;33m\u001B[0m\u001B[1;33m\u001B[0m\u001B[0m\n\u001B[1;32m---> 69\u001B[1;33m     \u001B[1;32mreturn\u001B[0m \u001B[0mop\u001B[0m\u001B[1;33m(\u001B[0m\u001B[0ma\u001B[0m\u001B[1;33m,\u001B[0m \u001B[0mb\u001B[0m\u001B[1;33m)\u001B[0m\u001B[1;33m\u001B[0m\u001B[1;33m\u001B[0m\u001B[0m\n\u001B[0m\u001B[0;32m     70\u001B[0m \u001B[1;33m\u001B[0m\u001B[0m\n\u001B[0;32m     71\u001B[0m \u001B[1;33m\u001B[0m\u001B[0m\n",
      "\u001B[1;31mZeroDivisionError\u001B[0m: division by zero"
     ]
    }
   ],
   "source": [
    "# Creating a new column with the ratio of the number of people living in the neighbourhood and the number of Wine Bars\n",
    "df_madrid_leisure['Ratio'] = df_madrid_leisure['Population']/df_madrid_leisure['Wine Bar Count']\n",
    "df_madrid_leisure"
   ],
   "metadata": {
    "collapsed": false,
    "pycharm": {
     "name": "#%%\n"
    }
   }
  },
  {
   "cell_type": "code",
   "execution_count": 128,
   "outputs": [],
   "source": [
    "#---------------------------------------------------------------------------\n",
    "# Testing the visualization"
   ],
   "metadata": {
    "collapsed": false,
    "pycharm": {
     "name": "#%%\n"
    }
   }
  },
  {
   "cell_type": "code",
   "execution_count": 130,
   "outputs": [],
   "source": [
    "# Saving datafrmaes in to csv files\n",
    "df_madrid_leisure.to_csv('df_madrid_leisure.csv')\n",
    "df_madrid_income.to_csv('df_madrid_income.csv')\n",
    "df_madrid_population.to_csv('df_madrid_population.csv')\n",
    "madrid_venues.to_csv('madrid_venues.csv')\n",
    "madrid_merged.to_csv('madrid_merged.csv')\n",
    "neighbourhoods_df.to_csv('neighbourhoods_df.csv')"
   ],
   "metadata": {
    "collapsed": false,
    "pycharm": {
     "name": "#%%\n"
    }
   }
  },
  {
   "cell_type": "code",
   "execution_count": null,
   "outputs": [],
   "source": [],
   "metadata": {
    "collapsed": false,
    "pycharm": {
     "name": "#%%\n"
    }
   }
  }
 ],
 "metadata": {
  "kernelspec": {
   "display_name": "Python 3 (ipykernel)",
   "language": "python",
   "name": "python3"
  },
  "language_info": {
   "codemirror_mode": {
    "name": "ipython",
    "version": 3
   },
   "file_extension": ".py",
   "mimetype": "text/x-python",
   "name": "python",
   "nbconvert_exporter": "python",
   "pygments_lexer": "ipython3",
   "version": "3.9.7"
  }
 },
 "nbformat": 4,
 "nbformat_minor": 1
}